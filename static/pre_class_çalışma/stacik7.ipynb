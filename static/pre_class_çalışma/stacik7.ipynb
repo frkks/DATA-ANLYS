{
 "cells": [
  {
   "cell_type": "code",
   "execution_count": 2,
   "id": "1a8ffd24-9e07-47d0-8a92-ef46582075f4",
   "metadata": {},
   "outputs": [
    {
     "data": {
      "text/plain": [
       "array([3, 7, 5, 4, 2, 2, 2, 6, 4, 5])"
      ]
     },
     "execution_count": 2,
     "metadata": {},
     "output_type": "execute_result"
    }
   ],
   "source": [
    "from scipy import stats\n",
    "binomDist = stats.binom(n=10, p=0.4)\n",
    "binomDist.rvs(size=10, random_state=42)"
   ]
  },
  {
   "cell_type": "code",
   "execution_count": 3,
   "id": "15f45acc-446c-4d6a-a4a2-615f2512abf4",
   "metadata": {},
   "outputs": [
    {
     "data": {
      "text/plain": [
       "0.21499084799999976"
      ]
     },
     "execution_count": 3,
     "metadata": {},
     "output_type": "execute_result"
    }
   ],
   "source": [
    "binomDist = stats.binom(n=10, p=0.4)\n",
    "binomDist.pmf(k=3)"
   ]
  },
  {
   "cell_type": "code",
   "execution_count": 4,
   "id": "b14d5306-c356-4a37-bd66-d56f2d033fb4",
   "metadata": {},
   "outputs": [
    {
     "data": {
      "text/plain": [
       "array([0.04031078, 0.12093235, 0.21499085])"
      ]
     },
     "execution_count": 4,
     "metadata": {},
     "output_type": "execute_result"
    }
   ],
   "source": [
    "binomDist = stats.binom(n=10, p=0.4)\n",
    "binomDist.pmf(k=[1,2,3])"
   ]
  },
  {
   "cell_type": "code",
   "execution_count": 5,
   "id": "93634d92-d39a-40c4-ac65-f81e7620913d",
   "metadata": {},
   "outputs": [
    {
     "data": {
      "text/plain": [
       "0.3822806015999999"
      ]
     },
     "execution_count": 5,
     "metadata": {},
     "output_type": "execute_result"
    }
   ],
   "source": [
    "binomDist = stats.binom(n=10, p=0.4)\n",
    "binomDist.cdf(3)"
   ]
  },
  {
   "cell_type": "code",
   "execution_count": 6,
   "id": "eb298fa8-5d5c-4855-a7d3-62cead0c8543",
   "metadata": {},
   "outputs": [
    {
     "data": {
      "text/plain": [
       "3.0"
      ]
     },
     "execution_count": 6,
     "metadata": {},
     "output_type": "execute_result"
    }
   ],
   "source": [
    "binomDist = stats.binom(n=10, p=0.4)\n",
    "binomDist.ppf(0.3822806)"
   ]
  },
  {
   "cell_type": "code",
   "execution_count": 7,
   "id": "f88de34d-e5e2-4cbc-a91b-f6591fc74814",
   "metadata": {},
   "outputs": [
    {
     "data": {
      "text/plain": [
       "(array(4.), array(2.4))"
      ]
     },
     "execution_count": 7,
     "metadata": {},
     "output_type": "execute_result"
    }
   ],
   "source": [
    "binomDist = stats.binom(n=10, p=0.4)\n",
    "binomDist.stats(moments='mv') #Mean(‘m’), variance(‘v’), skew(‘s’), and/or kurtosis(‘k’)"
   ]
  },
  {
   "cell_type": "code",
   "execution_count": 8,
   "id": "786ee715-0953-42fd-af9b-af1cd86b80c4",
   "metadata": {},
   "outputs": [
    {
     "data": {
      "text/plain": [
       "array([5, 4, 4, 4, 2, 5, 2, 5, 3, 5])"
      ]
     },
     "execution_count": 8,
     "metadata": {},
     "output_type": "execute_result"
    }
   ],
   "source": [
    "from scipy import stats\n",
    "poissonDist = stats.poisson(mu=4)\n",
    "poissonDist.rvs(size=10, random_state=42)"
   ]
  },
  {
   "cell_type": "code",
   "execution_count": 9,
   "id": "6311f22b-6799-4769-99fd-550ca542d737",
   "metadata": {},
   "outputs": [
    {
     "data": {
      "text/plain": [
       "0.19536681481316454"
      ]
     },
     "execution_count": 9,
     "metadata": {},
     "output_type": "execute_result"
    }
   ],
   "source": [
    "poissonDist = stats.poisson(mu=4)\n",
    "poissonDist.pmf(k=3)"
   ]
  },
  {
   "cell_type": "code",
   "execution_count": 10,
   "id": "d3e0743b-d2d7-4aa2-8933-9cd9a3d8d091",
   "metadata": {},
   "outputs": [
    {
     "data": {
      "text/plain": [
       "array([0.07326256, 0.14652511, 0.19536681, 0.19536681, 0.15629345,\n",
       "       0.10419563, 0.05954036, 0.02977018])"
      ]
     },
     "execution_count": 10,
     "metadata": {},
     "output_type": "execute_result"
    }
   ],
   "source": [
    "poissonDist = stats.poisson(mu=4)\n",
    "poissonDist.pmf(k=[1,2,3,4,5,6,7,8])"
   ]
  },
  {
   "cell_type": "code",
   "execution_count": 11,
   "id": "3f3e41d8-ef23-4e10-bfab-044ae24352a9",
   "metadata": {},
   "outputs": [
    {
     "data": {
      "text/plain": [
       "0.43347012036670896"
      ]
     },
     "execution_count": 11,
     "metadata": {},
     "output_type": "execute_result"
    }
   ],
   "source": [
    "poissonDist = stats.poisson(mu=4)\n",
    "poissonDist.cdf(x=3)"
   ]
  },
  {
   "cell_type": "code",
   "execution_count": 12,
   "id": "f89ecf3c-09f3-41fb-89d0-a4fd76391b49",
   "metadata": {},
   "outputs": [
    {
     "data": {
      "text/plain": [
       "3.0"
      ]
     },
     "execution_count": 12,
     "metadata": {},
     "output_type": "execute_result"
    }
   ],
   "source": [
    "poissonDist = stats.poisson(mu=4)\n",
    "poissonDist.ppf(q=0.43347)"
   ]
  },
  {
   "cell_type": "code",
   "execution_count": 13,
   "id": "082bd652-1ed7-42ad-a979-801318db0e63",
   "metadata": {},
   "outputs": [
    {
     "data": {
      "text/plain": [
       "(array(4.), array(4.), array(0.5), array(0.25))"
      ]
     },
     "execution_count": 13,
     "metadata": {},
     "output_type": "execute_result"
    }
   ],
   "source": [
    "poissonDist = stats.poisson(mu=4)\n",
    "poissonDist.stats(moments='mvsk') #Mean(‘m’), variance(‘v’), skew(‘s’), and/or kurtosis(‘k’)"
   ]
  },
  {
   "cell_type": "code",
   "execution_count": 14,
   "id": "c076e3d2-c7bd-4b4c-811b-8dfc9ca8dac0",
   "metadata": {},
   "outputs": [
    {
     "data": {
      "text/plain": [
       "array([ 0.49671415, -0.1382643 ,  0.64768854,  1.52302986, -0.23415337,\n",
       "       -0.23413696,  1.57921282,  0.76743473, -0.46947439,  0.54256004])"
      ]
     },
     "execution_count": 14,
     "metadata": {},
     "output_type": "execute_result"
    }
   ],
   "source": [
    "from scipy import stats\n",
    "stats.norm.rvs(size=10, random_state=42)"
   ]
  },
  {
   "cell_type": "code",
   "execution_count": 15,
   "id": "365c56aa-5554-4b7c-b1f4-a0bf9c6b5a33",
   "metadata": {},
   "outputs": [
    {
     "data": {
      "text/plain": [
       "array([54.96714153, 48.61735699, 56.47688538, 65.23029856, 47.65846625,\n",
       "       47.65863043, 65.79212816, 57.67434729, 45.30525614, 55.42560044])"
      ]
     },
     "execution_count": 15,
     "metadata": {},
     "output_type": "execute_result"
    }
   ],
   "source": [
    "normDist = stats.norm(loc=50, scale=10)\n",
    "normDist.rvs(size=10, random_state=42)"
   ]
  },
  {
   "cell_type": "code",
   "execution_count": 16,
   "id": "152f4b29-fdee-4695-8ec6-44fa6bd6026c",
   "metadata": {},
   "outputs": [
    {
     "data": {
      "text/plain": [
       "0.024197072451914336"
      ]
     },
     "execution_count": 16,
     "metadata": {},
     "output_type": "execute_result"
    }
   ],
   "source": [
    "normDist = stats.norm(loc=50, scale=10)\n",
    "normDist.pdf(x=40)"
   ]
  },
  {
   "cell_type": "code",
   "execution_count": 17,
   "id": "54faa8e3-257f-46cb-9f51-1f8f3da9846d",
   "metadata": {},
   "outputs": [
    {
     "data": {
      "text/plain": [
       "array([0.02419707, 0.03989423, 0.02419707])"
      ]
     },
     "execution_count": 17,
     "metadata": {},
     "output_type": "execute_result"
    }
   ],
   "source": [
    "normDist = stats.norm(loc=50, scale=10)\n",
    "normDist.pdf(x=[40,50,60])"
   ]
  },
  {
   "cell_type": "code",
   "execution_count": 18,
   "id": "3d97427d-d703-4b37-bbfd-64860b60d592",
   "metadata": {},
   "outputs": [
    {
     "data": {
      "text/plain": [
       "0.15865525393145707"
      ]
     },
     "execution_count": 18,
     "metadata": {},
     "output_type": "execute_result"
    }
   ],
   "source": [
    "normDist = stats.norm(loc=50, scale=10)\n",
    "normDist.cdf(x=40)"
   ]
  },
  {
   "cell_type": "code",
   "execution_count": 19,
   "id": "12720115-b436-4c47-955a-3ab1af4f81e4",
   "metadata": {},
   "outputs": [
    {
     "data": {
      "text/plain": [
       "62.815515655446006"
      ]
     },
     "execution_count": 19,
     "metadata": {},
     "output_type": "execute_result"
    }
   ],
   "source": [
    "normDist = stats.norm(loc=50, scale=10)\n",
    "normDist.ppf(q=0.9)"
   ]
  },
  {
   "cell_type": "code",
   "execution_count": 20,
   "id": "a315f612-b8c1-48e3-b452-eaf9193a4dfe",
   "metadata": {},
   "outputs": [
    {
     "data": {
      "text/plain": [
       "(array(50.), array(100.), array(0.), array(0.))"
      ]
     },
     "execution_count": 20,
     "metadata": {},
     "output_type": "execute_result"
    }
   ],
   "source": [
    "normDist = stats.norm(loc=50, scale=10)\n",
    "normDist.stats(moments='mvsk') #Mean(‘m’), variance(‘v’), skew(‘s’), and/or kurtosis(‘k’)"
   ]
  },
  {
   "cell_type": "code",
   "execution_count": null,
   "id": "a841a963-f7e0-4888-a620-06e3c6e8e520",
   "metadata": {},
   "outputs": [],
   "source": []
  }
 ],
 "metadata": {
  "kernelspec": {
   "display_name": "Python 3 (ipykernel)",
   "language": "python",
   "name": "python3"
  },
  "language_info": {
   "codemirror_mode": {
    "name": "ipython",
    "version": 3
   },
   "file_extension": ".py",
   "mimetype": "text/x-python",
   "name": "python",
   "nbconvert_exporter": "python",
   "pygments_lexer": "ipython3",
   "version": "3.9.7"
  }
 },
 "nbformat": 4,
 "nbformat_minor": 5
}
