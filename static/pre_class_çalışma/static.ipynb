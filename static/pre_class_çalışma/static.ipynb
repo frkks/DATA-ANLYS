{
 "cells": [
  {
   "cell_type": "code",
   "execution_count": 1,
   "id": "7a285162-9435-498d-b59f-753693e5f140",
   "metadata": {},
   "outputs": [],
   "source": [
    "import numpy as np\n",
    "from scipy import stats"
   ]
  },
  {
   "cell_type": "code",
   "execution_count": 2,
   "id": "535940be-115c-4253-8ac8-d35cc3080a63",
   "metadata": {},
   "outputs": [
    {
     "name": "stdout",
     "output_type": "stream",
     "text": [
      "Requirement already satisfied: numpy in c:\\users\\yfhp\\appdata\\local\\programs\\python\\python39\\lib\\site-packages (1.21.4)\n",
      "Requirement already satisfied: scipy in c:\\users\\yfhp\\appdata\\roaming\\python\\python39\\site-packages (1.7.3)\n",
      "Note: you may need to restart the kernel to use updated packages.\n"
     ]
    }
   ],
   "source": [
    "pip install numpy scipy"
   ]
  },
  {
   "cell_type": "code",
   "execution_count": 3,
   "id": "5acd974c-dfa5-4de1-8792-274ce525fb8a",
   "metadata": {},
   "outputs": [],
   "source": [
    "salary = [102, 33, 26, 27, 30, 25, 33, 33, 24]"
   ]
  },
  {
   "cell_type": "code",
   "execution_count": 4,
   "id": "2cfb02de-789f-4b9c-be48-aa6a6234bd2a",
   "metadata": {},
   "outputs": [
    {
     "name": "stdout",
     "output_type": "stream",
     "text": [
      "mean: 37.0\n"
     ]
    }
   ],
   "source": [
    "mean_salary = np.mean(salary)\n",
    "print(\"mean:\", mean_salary)"
   ]
  },
  {
   "cell_type": "code",
   "execution_count": 5,
   "id": "3de2282a-efb2-4ba7-a03b-2763c77bc6f5",
   "metadata": {},
   "outputs": [
    {
     "name": "stdout",
     "output_type": "stream",
     "text": [
      "median: 30.0\n"
     ]
    }
   ],
   "source": [
    "median_salary = np.median(salary)\n",
    "print(\"median:\", median_salary)"
   ]
  },
  {
   "cell_type": "code",
   "execution_count": 6,
   "id": "67b006ff-a24a-413f-a910-a70cceea8da4",
   "metadata": {},
   "outputs": [
    {
     "name": "stdout",
     "output_type": "stream",
     "text": [
      "mode: ModeResult(mode=array([33]), count=array([3]))\n"
     ]
    }
   ],
   "source": [
    "mode_salary = stats.mode(salary)\n",
    "print(\"mode:\", mode_salary)"
   ]
  },
  {
   "cell_type": "code",
   "execution_count": 7,
   "id": "bbe3441e-ef1e-43d1-b33c-22ffadda705f",
   "metadata": {},
   "outputs": [
    {
     "name": "stdout",
     "output_type": "stream",
     "text": [
      "mean: 37.0\n",
      "median: 30.0\n",
      "mode: ModeResult(mode=array([33]), count=array([3]))\n"
     ]
    }
   ],
   "source": [
    "mean_salary = np.mean(salary)\n",
    "print(\"mean:\", mean_salary)\n",
    "\n",
    "median_salary = np.median(salary)\n",
    "print(\"median:\", median_salary)\n",
    "\n",
    "mode_salary = stats.mode(salary)\n",
    "print(\"mode:\", mode_salary)"
   ]
  },
  {
   "cell_type": "code",
   "execution_count": 8,
   "id": "c541b9a9-deb5-4ded-afd4-7299e3c896e1",
   "metadata": {},
   "outputs": [
    {
     "name": "stdout",
     "output_type": "stream",
     "text": [
      "mean: 6.6923076923076925\n",
      "median: 8.0\n",
      "[0, 1, 2, 3, 4, 6, 8, 9, 9, 10, 10, 11, 14]\n",
      "13\n",
      "mode: ModeResult(mode=array([9]), count=array([2]))\n"
     ]
    }
   ],
   "source": [
    "sayı = [9, 11, 4, 14, 8, 2, 10, 3, 10, 9, 6, 0, 1]\n",
    "mean_sayı = np.mean(sayı)\n",
    "print(\"mean:\", mean_sayı)\n",
    "\n",
    "median_sayı = np.median(sayı)\n",
    "print(\"median:\", median_sayı)\n",
    "sayı.sort(reverse=False)\n",
    "print(sayı)\n",
    "print(len(sayı))\n",
    "mode_sayı = stats.mode(sayı)\n",
    "print(\"mode:\", mode_sayı)"
   ]
  },
  {
   "cell_type": "code",
   "execution_count": 9,
   "id": "5680c256-be7b-4f9b-84fb-ba7d96e233f7",
   "metadata": {},
   "outputs": [
    {
     "name": "stdout",
     "output_type": "stream",
     "text": [
      "Range:  40\n",
      "Variance:  146.0495867768595\n",
      "Std:  12.08509771482463\n"
     ]
    }
   ],
   "source": [
    "salary = [40, 1, 10, 7, 12, 0, 30, 15, 22, 8, 2]\n",
    "\n",
    "print(\"Range: \", (np.max(salary)-np.min(salary)))\n",
    "\n",
    "print(\"Variance: \", (np.var(salary)))\n",
    "\n",
    "print(\"Std: \", (np.std(salary)))"
   ]
  },
  {
   "cell_type": "code",
   "execution_count": 10,
   "id": "554979cb-73a9-4681-a980-d3e665d7daaa",
   "metadata": {},
   "outputs": [
    {
     "name": "stdout",
     "output_type": "stream",
     "text": [
      "6.0\n"
     ]
    }
   ],
   "source": [
    "data = [8, 10, 4, 24, 8, 3, 10, 3, 40, 7, 6, 12, 4]\n",
    "  \n",
    "# Interquartile range (IQR)\n",
    "IQR = stats.iqr(data, interpolation = 'midpoint')\n",
    "  \n",
    "print(IQR)"
   ]
  },
  {
   "cell_type": "code",
   "execution_count": 11,
   "id": "e4afede3-adef-4912-8666-d1cb066f721e",
   "metadata": {},
   "outputs": [
    {
     "name": "stdout",
     "output_type": "stream",
     "text": [
      "covariance:  [[102.56666667  24.        ]\n",
      " [ 24.           6.8       ]]\n",
      "correlation:  [[1.         0.90876934]\n",
      " [0.90876934 1.        ]]\n"
     ]
    }
   ],
   "source": [
    "temp=[93,84,82,78,98,70]\n",
    "\n",
    "number_of_people=[13,10, 11, 8, 15, 9]\n",
    "\n",
    "print(\"covariance: \", np.cov(temp, number_of_people))\n",
    "\n",
    "print(\"correlation: \", np.corrcoef(temp, number_of_people))"
   ]
  },
  {
   "cell_type": "code",
   "execution_count": null,
   "id": "72ce5636-4c6d-4877-804f-d41c336d54ec",
   "metadata": {},
   "outputs": [],
   "source": []
  }
 ],
 "metadata": {
  "kernelspec": {
   "display_name": "Python 3 (ipykernel)",
   "language": "python",
   "name": "python3"
  },
  "language_info": {
   "codemirror_mode": {
    "name": "ipython",
    "version": 3
   },
   "file_extension": ".py",
   "mimetype": "text/x-python",
   "name": "python",
   "nbconvert_exporter": "python",
   "pygments_lexer": "ipython3",
   "version": "3.9.7"
  }
 },
 "nbformat": 4,
 "nbformat_minor": 5
}
