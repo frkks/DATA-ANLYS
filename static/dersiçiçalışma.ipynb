{
 "cells": [
  {
   "cell_type": "code",
   "execution_count": 15,
   "id": "8dc73834-d552-41e8-b101-334444ab264d",
   "metadata": {},
   "outputs": [],
   "source": [
    "import numpy as np\n",
    "import pandas as pd\n",
    "from scipy import stats\n",
    "import matplotlib.pyplot as plt \n",
    "import seaborn as sns\n",
    "from scipy import stats"
   ]
  },
  {
   "cell_type": "code",
   "execution_count": 14,
   "id": "6ebd65b1-0c1d-4c48-a34a-e13409810caa",
   "metadata": {},
   "outputs": [
    {
     "name": "stdout",
     "output_type": "stream",
     "text": [
      "Collecting seaborn\n",
      "  Downloading seaborn-0.11.2-py3-none-any.whl (292 kB)\n",
      "Requirement already satisfied: numpy>=1.15 in c:\\users\\yfhp\\appdata\\local\\programs\\python\\python39\\lib\\site-packages (from seaborn) (1.21.4)\n",
      "Requirement already satisfied: scipy>=1.0 in c:\\users\\yfhp\\appdata\\roaming\\python\\python39\\site-packages (from seaborn) (1.7.3)\n",
      "Requirement already satisfied: pandas>=0.23 in c:\\users\\yfhp\\appdata\\local\\programs\\python\\python39\\lib\\site-packages (from seaborn) (1.3.4)\n",
      "Requirement already satisfied: matplotlib>=2.2 in c:\\users\\yfhp\\appdata\\roaming\\python\\python39\\site-packages (from seaborn) (3.5.1)\n",
      "Requirement already satisfied: kiwisolver>=1.0.1 in c:\\users\\yfhp\\appdata\\roaming\\python\\python39\\site-packages (from matplotlib>=2.2->seaborn) (1.3.2)\n",
      "Requirement already satisfied: python-dateutil>=2.7 in c:\\users\\yfhp\\appdata\\local\\programs\\python\\python39\\lib\\site-packages (from matplotlib>=2.2->seaborn) (2.8.2)\n",
      "Requirement already satisfied: pillow>=6.2.0 in c:\\users\\yfhp\\appdata\\roaming\\python\\python39\\site-packages (from matplotlib>=2.2->seaborn) (9.0.0)\n",
      "Requirement already satisfied: packaging>=20.0 in c:\\users\\yfhp\\appdata\\local\\programs\\python\\python39\\lib\\site-packages (from matplotlib>=2.2->seaborn) (21.0)\n",
      "Requirement already satisfied: cycler>=0.10 in c:\\users\\yfhp\\appdata\\roaming\\python\\python39\\site-packages (from matplotlib>=2.2->seaborn) (0.11.0)\n",
      "Requirement already satisfied: pyparsing>=2.2.1 in c:\\users\\yfhp\\appdata\\local\\programs\\python\\python39\\lib\\site-packages (from matplotlib>=2.2->seaborn) (2.4.7)\n",
      "Requirement already satisfied: fonttools>=4.22.0 in c:\\users\\yfhp\\appdata\\roaming\\python\\python39\\site-packages (from matplotlib>=2.2->seaborn) (4.28.5)\n",
      "Requirement already satisfied: pytz>=2017.3 in c:\\users\\yfhp\\appdata\\local\\programs\\python\\python39\\lib\\site-packages (from pandas>=0.23->seaborn) (2021.1)\n",
      "Requirement already satisfied: six>=1.5 in c:\\users\\yfhp\\appdata\\local\\programs\\python\\python39\\lib\\site-packages (from python-dateutil>=2.7->matplotlib>=2.2->seaborn) (1.16.0)\n",
      "Installing collected packages: seaborn\n",
      "Successfully installed seaborn-0.11.2\n",
      "Note: you may need to restart the kernel to use updated packages.\n"
     ]
    }
   ],
   "source": [
    "pip install seaborn"
   ]
  },
  {
   "cell_type": "code",
   "execution_count": 7,
   "id": "a89ab22a-735d-41d6-bd1c-b7fdb4fe4480",
   "metadata": {},
   "outputs": [],
   "source": [
    "happiness_score = [2.69,5.00,5.04,5.79,5.06,7.18,7.40,5.17,4.50,5.23,6.89,5.82,5.92,5.89,3.46,6.19,5.10,4.93,3.78,5.12,5.25,\n",
    "                   7.18, 4.49,6.44,5.13,5.98,3.97,5.49,7.14,5.54,7.03,7.65,5.43,6.13,4.01,6.28,6.09,4.38,7.86,6.67,4.78,4.92,\n",
    "                   4.66,7.12,5.41,6.63,5.25, 3.61,5.91,3.82,5.34,4.28,6.96,6.93,6.52,5.27,5.79,4.64,6.01,4.66,5.30,4.86,5.90,\n",
    "                   5.17,4.13,6.31,7.24,5.24,4.07,3.33,5.34,4.42,4.31,5.88,6.55,5.68,5.46,5.65,4.90,4.65,4.41,4.83,4.91,7.46,\n",
    "                   7.37,5.82,5.16,5.25,7.44,5.47,6.28,5.68,5.87,5.92,6.15,5.51,3.56,6.36,4.77,5.94,4.31,6.24,6.25,4.88,\n",
    "                   5.84,6.51,4.40,7.37,7.51,3.45,6.01,4.02,4.74,5.19,4.62,4.32,4.66,6.60,7.23,6.88,6.37,6.21,5.01,5.30,\n",
    "                   4.04,3.62]"
   ]
  },
  {
   "cell_type": "code",
   "execution_count": null,
   "id": "ca1a5f19-e0db-41c9-b725-33c4c91c6fe0",
   "metadata": {},
   "outputs": [],
   "source": []
  },
  {
   "cell_type": "code",
   "execution_count": 8,
   "id": "73c54fb6-6682-4cf8-9085-31281db654ad",
   "metadata": {},
   "outputs": [],
   "source": [
    "life_exp = [52.60,68.70,65.90,68.80,66.90,73.60,73.00,65.50,64.30,66.10,72.00,54.30,63.60,67.80,58.90,66.40,66.80,\n",
    "            53.90,53.40,61.60,52.70,73.60,48.20,69.90,69.30,67.70,57.20,57.90,71.30,70.20,70.30,72.40,65.80, 68.50,\n",
    "            61.70,66.10,68.60,58.50,71.90,73.80,59.70,55.00,64.50,72.20,72.40,64.80,54.40,55.70,67.20,60.10,62.10,66.00,\n",
    "            72.30,73.30,73.60,49.50,75.00,66.80,64.60,60.10,64.10,58.70,66.80,67.10,56.10, 67.30,72.60,67.50,59.10,57.60,\n",
    "            67.00,51.70,57.00,66.40,68.30,65.00,62.30,68.50,65.90,54.20,59.00,56.50,63.50,72.30,73.20,67.50,53.50,49.70,\n",
    "            73.20,58.50,69.60,68.10,61.90,72.40,67.20,64.30,61.10, 66.30,59.60,68.20,50.80,68.90,71.10,56.50,73.60,\n",
    "            74.40,67.20,72.60,74.10,57.50,67.20,54.70,66.90,66.80,62.20,55.70,64.60,67.10,72.30,68.30,69.00,65.10,66.50,\n",
    "            67.90,55.30,55.60]"
   ]
  },
  {
   "cell_type": "code",
   "execution_count": 9,
   "id": "6fad8916-488f-433c-8081-c2fd6c50aec7",
   "metadata": {},
   "outputs": [
    {
     "data": {
      "text/plain": [
       "64.52142857142859"
      ]
     },
     "execution_count": 9,
     "metadata": {},
     "output_type": "execute_result"
    }
   ],
   "source": [
    "np.mean(life_exp)"
   ]
  },
  {
   "cell_type": "code",
   "execution_count": 10,
   "id": "f5206684-a702-49c6-94fb-ce7bb7c023cc",
   "metadata": {},
   "outputs": [
    {
     "data": {
      "text/plain": [
       "66.35"
      ]
     },
     "execution_count": 10,
     "metadata": {},
     "output_type": "execute_result"
    }
   ],
   "source": [
    "np.median(life_exp)"
   ]
  },
  {
   "cell_type": "code",
   "execution_count": 11,
   "id": "63824cdb-1348-4d1c-9ca4-85683eeac40d",
   "metadata": {},
   "outputs": [
    {
     "data": {
      "text/plain": [
       "5.499523809523809"
      ]
     },
     "execution_count": 11,
     "metadata": {},
     "output_type": "execute_result"
    }
   ],
   "source": [
    "np.mean(happiness_score)"
   ]
  },
  {
   "cell_type": "code",
   "execution_count": 12,
   "id": "50909b84-2371-4231-b2f8-f17774420310",
   "metadata": {},
   "outputs": [
    {
     "data": {
      "text/plain": [
       "5.42"
      ]
     },
     "execution_count": 12,
     "metadata": {},
     "output_type": "execute_result"
    }
   ],
   "source": [
    "np.median(happiness_score)"
   ]
  },
  {
   "cell_type": "code",
   "execution_count": 20,
   "id": "7130980b-3f92-4bc6-a4bc-c094dd246944",
   "metadata": {},
   "outputs": [
    {
     "data": {
      "text/plain": [
       "44.22819160997732"
      ]
     },
     "execution_count": 20,
     "metadata": {},
     "output_type": "execute_result"
    }
   ],
   "source": [
    "np.var(life_exp)"
   ]
  },
  {
   "cell_type": "code",
   "execution_count": 17,
   "id": "0d001787-6230-4122-80c0-10037bc56a45",
   "metadata": {},
   "outputs": [
    {
     "data": {
      "text/plain": [
       "6.6504279268312745"
      ]
     },
     "execution_count": 17,
     "metadata": {},
     "output_type": "execute_result"
    }
   ],
   "source": [
    "np.std(life_exp)"
   ]
  },
  {
   "cell_type": "code",
   "execution_count": 18,
   "id": "6932078f-4be2-41e7-8ca4-c4e1564ba8b3",
   "metadata": {},
   "outputs": [
    {
     "data": {
      "text/plain": [
       "1.196866439909297"
      ]
     },
     "execution_count": 18,
     "metadata": {},
     "output_type": "execute_result"
    }
   ],
   "source": [
    "np.var(happiness_score)"
   ]
  },
  {
   "cell_type": "code",
   "execution_count": 19,
   "id": "25c615ce-317c-4e18-9180-d06c11dd46aa",
   "metadata": {},
   "outputs": [
    {
     "data": {
      "text/plain": [
       "1.0940139121187158"
      ]
     },
     "execution_count": 19,
     "metadata": {},
     "output_type": "execute_result"
    }
   ],
   "source": [
    "np.std(happiness_score)"
   ]
  },
  {
   "cell_type": "code",
   "execution_count": 22,
   "id": "c7292af9-1c9c-4407-bc55-7f5bdda20b74",
   "metadata": {},
   "outputs": [
    {
     "data": {
      "text/plain": [
       "59.025"
      ]
     },
     "execution_count": 22,
     "metadata": {},
     "output_type": "execute_result"
    }
   ],
   "source": [
    "q1 = np.percentile(life_exp, 25)\n",
    "q1"
   ]
  },
  {
   "cell_type": "code",
   "execution_count": 24,
   "id": "f5e28970-b768-4807-8cdf-d26dcff0f472",
   "metadata": {},
   "outputs": [
    {
     "data": {
      "text/plain": [
       "68.875"
      ]
     },
     "execution_count": 24,
     "metadata": {},
     "output_type": "execute_result"
    }
   ],
   "source": [
    "q3 = np.percentile(life_exp, 75)\n",
    "q3"
   ]
  },
  {
   "cell_type": "code",
   "execution_count": 26,
   "id": "4a93da23-844e-4915-87d4-14289e1e39f1",
   "metadata": {},
   "outputs": [],
   "source": [
    "iqr= stats.iqr(life_exp) # q1 - -1.5*iqr    q3 + 1.5*iqr outler degerleri bluruz."
   ]
  },
  {
   "cell_type": "code",
   "execution_count": 28,
   "id": "25db94d0-7930-44ae-8574-373bab703a7b",
   "metadata": {},
   "outputs": [
    {
     "data": {
      "text/plain": [
       "49.175"
      ]
     },
     "execution_count": 28,
     "metadata": {},
     "output_type": "execute_result"
    }
   ],
   "source": [
    "outler1 = q1-iqr\n",
    "outler1"
   ]
  },
  {
   "cell_type": "code",
   "execution_count": 30,
   "id": "37944036-6fd3-4883-aa9c-5001289003a4",
   "metadata": {},
   "outputs": [
    {
     "data": {
      "text/plain": [
       "78.725"
      ]
     },
     "execution_count": 30,
     "metadata": {},
     "output_type": "execute_result"
    }
   ],
   "source": [
    "outler2 = q3 + iqr\n",
    "outler2"
   ]
  },
  {
   "cell_type": "code",
   "execution_count": 31,
   "id": "84e66122-fdac-4905-a2da-bba8a607199a",
   "metadata": {},
   "outputs": [
    {
     "data": {
      "text/plain": [
       "75.0"
      ]
     },
     "execution_count": 31,
     "metadata": {},
     "output_type": "execute_result"
    }
   ],
   "source": [
    "np.max(life_exp)"
   ]
  },
  {
   "cell_type": "code",
   "execution_count": 33,
   "id": "4fb7c0e6-9af1-4a84-9ef3-80d5b81291ae",
   "metadata": {},
   "outputs": [
    {
     "data": {
      "text/plain": [
       "-0.507998161416463"
      ]
     },
     "execution_count": 33,
     "metadata": {},
     "output_type": "execute_result"
    }
   ],
   "source": [
    "stats.skew(life_exp)"
   ]
  },
  {
   "cell_type": "code",
   "execution_count": 34,
   "id": "7939e2c1-9853-46a2-825f-1f422c05b16f",
   "metadata": {},
   "outputs": [
    {
     "data": {
      "text/plain": [
       "-0.7040394620922208"
      ]
     },
     "execution_count": 34,
     "metadata": {},
     "output_type": "execute_result"
    }
   ],
   "source": [
    "stats.kurtosis(life_exp)"
   ]
  },
  {
   "cell_type": "code",
   "execution_count": 35,
   "id": "7b494b35-41c2-4288-a11b-f1eecca84e83",
   "metadata": {},
   "outputs": [
    {
     "data": {
      "text/plain": [
       "(array([ 4.,  5., 11., 11.,  7.,  9., 25., 26., 11., 17.]),\n",
       " array([48.2 , 50.88, 53.56, 56.24, 58.92, 61.6 , 64.28, 66.96, 69.64,\n",
       "        72.32, 75.  ]),\n",
       " <BarContainer object of 10 artists>)"
      ]
     },
     "execution_count": 35,
     "metadata": {},
     "output_type": "execute_result"
    },
    {
     "data": {
      "image/png": "[encoded data removed]",
      "text/plain": [
       "<Figure size 432x288 with 1 Axes>"
      ]
     },
     "metadata": {
      "needs_background": "light"
     },
     "output_type": "display_data"
    }
   ],
   "source": [
    "plt.hist(life_exp)"
   ]
  },
  {
   "cell_type": "code",
   "execution_count": 36,
   "id": "6a616a2c-9176-4888-a40b-90c1367e4874",
   "metadata": {},
   "outputs": [
    {
     "data": {
      "text/plain": [
       "<AxesSubplot:ylabel='Density'>"
      ]
     },
     "execution_count": 36,
     "metadata": {},
     "output_type": "execute_result"
    },
    {
     "data": {
      "image/png": "[encoded data removed]",
      "text/plain": [
       "<Figure size 432x288 with 1 Axes>"
      ]
     },
     "metadata": {
      "needs_background": "light"
     },
     "output_type": "display_data"
    }
   ],
   "source": [
    "sns.kdeplot(life_exp)"
   ]
  },
  {
   "cell_type": "code",
   "execution_count": 40,
   "id": "190862d7-c261-4af9-a372-336cf75f9a1f",
   "metadata": {},
   "outputs": [
    {
     "data": {
      "image/png": "[encoded data removed]",
      "text/plain": [
       "<Figure size 432x288 with 1 Axes>"
      ]
     },
     "metadata": {
      "needs_background": "light"
     },
     "output_type": "display_data"
    }
   ],
   "source": [
    "sns.scatterplot(x=life_exp, y=happiness_score)\n",
    "plt.show()"
   ]
  },
  {
   "cell_type": "code",
   "execution_count": 41,
   "id": "a84110c2-0c8c-41c3-8c69-3c2653b25071",
   "metadata": {},
   "outputs": [
    {
     "data": {
      "text/plain": [
       "0.7406268830335517"
      ]
     },
     "execution_count": 41,
     "metadata": {},
     "output_type": "execute_result"
    }
   ],
   "source": [
    "r, p = stats.pearsonr(happiness_score, life_exp)\n",
    "r"
   ]
  },
  {
   "cell_type": "code",
   "execution_count": 42,
   "id": "c5c46aa7-3c5f-417a-b0b3-b9095ebb5a17",
   "metadata": {},
   "outputs": [
    {
     "data": {
      "text/plain": [
       "array([[1.        , 0.74062688],\n",
       "       [0.74062688, 1.        ]])"
      ]
     },
     "execution_count": 42,
     "metadata": {},
     "output_type": "execute_result"
    }
   ],
   "source": [
    "np.corrcoef(happiness_score, life_exp)"
   ]
  },
  {
   "cell_type": "code",
   "execution_count": 46,
   "id": "b541388f-3980-4030-b6e1-ccb98799884b",
   "metadata": {},
   "outputs": [
    {
     "name": "stdout",
     "output_type": "stream",
     "text": [
      "[2.69 5.   5.04 5.79 5.06 7.18 7.4  5.17 4.5  5.23 6.89 5.82 5.92 5.89\n",
      " 3.46 6.19 5.1  4.93 3.78 5.12 5.25 7.18 4.49 6.44 5.13 5.98 3.97 5.49\n",
      " 7.14 5.54 7.03 7.65 5.43 6.13 4.01 6.28 6.09 4.38 7.86 6.67 4.78 4.92\n",
      " 4.66 7.12 5.41 6.63 5.25 3.61 5.91 3.82 5.34 4.28 6.96 6.93 6.52 5.27\n",
      " 5.79 4.64 6.01 4.66 5.3  4.86 5.9  5.17 4.13 6.31 7.24 5.24 4.07 3.33\n",
      " 5.34 4.42 4.31 5.88 6.55 5.68 5.46 5.65 4.9  4.65 4.41 4.83 4.91 7.46\n",
      " 7.37 5.82 5.16 5.25 7.44 5.47 6.28 5.68 5.87 5.92 6.15 5.51 3.56 6.36\n",
      " 4.77 5.94 4.31 6.24 6.25 4.88 5.84 6.51 4.4  7.37 7.51 3.45 6.01 4.02\n",
      " 4.74 5.19 4.62 4.32 4.66 6.6  7.23 6.88 6.37 6.21 5.01 5.3  4.04 3.62]\n",
      "[52.6 68.7 65.9 68.8 66.9 73.6 73.  65.5 64.3 66.1 72.  54.3 63.6 67.8\n",
      " 58.9 66.4 66.8 53.9 53.4 61.6 52.7 73.6 48.2 69.9 69.3 67.7 57.2 57.9\n",
      " 71.3 70.2 70.3 72.4 65.8 68.5 61.7 66.1 68.6 58.5 71.9 73.8 59.7 55.\n",
      " 64.5 72.2 72.4 64.8 54.4 55.7 67.2 60.1 62.1 66.  72.3 73.3 73.6 49.5\n",
      " 75.  66.8 64.6 60.1 64.1 58.7 66.8 67.1 56.1 67.3 72.6 67.5 59.1 57.6\n",
      " 67.  51.7 57.  66.4 68.3 65.  62.3 68.5 65.9 54.2 59.  56.5 63.5 72.3\n",
      " 73.2 67.5 53.5 49.7 73.2 58.5 69.6 68.1 61.9 72.4 67.2 64.3 61.1 66.3\n",
      " 59.6 68.2 50.8 68.9 71.1 56.5 73.6 74.4 67.2 72.6 74.1 57.5 67.2 54.7\n",
      " 66.9 66.8 62.2 55.7 64.6 67.1 72.3 68.3 69.  65.1 66.5 67.9 55.3 55.6]\n"
     ]
    }
   ],
   "source": [
    "x = np.array(happiness_score)\n",
    "y = np.array(life_exp)\n",
    "print(x)\n",
    "print(y)\n",
    "n = len(x)"
   ]
  },
  {
   "cell_type": "code",
   "execution_count": 47,
   "id": "56d69453-edf8-4cc9-b2d4-fbdd02f9a8f0",
   "metadata": {},
   "outputs": [
    {
     "data": {
      "text/plain": [
       "LinregressResult(slope=4.502214872888972, intercept=39.76139068238348, rvalue=0.7406268830335517, pvalue=3.7073323489746655e-23, stderr=0.3668016053581123, intercept_stderr=2.0567606000317444)"
      ]
     },
     "execution_count": 47,
     "metadata": {},
     "output_type": "execute_result"
    }
   ],
   "source": [
    "result = stats.linregress(x,y)\n",
    "result"
   ]
  },
  {
   "cell_type": "code",
   "execution_count": null,
   "id": "2c68b8b6-029d-4618-8f0d-693e4fe63d39",
   "metadata": {},
   "outputs": [],
   "source": []
  }
 ],
 "metadata": {
  "kernelspec": {
   "display_name": "Python 3 (ipykernel)",
   "language": "python",
   "name": "python3"
  },
  "language_info": {
   "codemirror_mode": {
    "name": "ipython",
    "version": 3
   },
   "file_extension": ".py",
   "mimetype": "text/x-python",
   "name": "python",
   "nbconvert_exporter": "python",
   "pygments_lexer": "ipython3",
   "version": "3.9.7"
  }
 },
 "nbformat": 4,
 "nbformat_minor": 5
}
