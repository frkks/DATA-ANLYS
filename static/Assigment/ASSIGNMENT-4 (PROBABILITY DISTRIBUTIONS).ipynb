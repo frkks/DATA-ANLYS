{
 "cells": [
  {
   "cell_type": "code",
   "execution_count": 1,
   "id": "84e78b5f-af07-4b19-8adb-b9dd1a3d0bcb",
   "metadata": {},
   "outputs": [],
   "source": [
    "import numpy as np\n",
    "import pandas as pd\n",
    "from scipy import stats\n",
    "import seaborn as sns\n",
    "import matplotlib.pyplot as plt"
   ]
  },
  {
   "cell_type": "markdown",
   "id": "2e74e57f-30e3-4a4a-9502-ec4ca69dc727",
   "metadata": {},
   "source": [
    "EXERCISE 1.\n",
    "\n",
    "Answer the following questions by looking at the distribution table or coding with Python.\n",
    "1.\tA salesperson has found that the probability of a sale on a single contact is approximately .3. If the salesperson contacts 10 prospects, what is the approximate probability of making at least one sale? (Wackerly, Ex.3.135)\n"
   ]
  },
  {
   "cell_type": "code",
   "execution_count": 16,
   "id": "89870b76-9b64-49b3-97ed-869ec0a7c195",
   "metadata": {},
   "outputs": [],
   "source": [
    "n = 10\n",
    "p = 0.03 \n",
    "x = 0 "
   ]
  },
  {
   "cell_type": "code",
   "execution_count": 17,
   "id": "e8997c3c-d7cd-42a3-a254-a6f0a7eba587",
   "metadata": {},
   "outputs": [
    {
     "data": {
      "text/plain": [
       "0.2625758731050719"
      ]
     },
     "execution_count": 17,
     "metadata": {},
     "output_type": "execute_result"
    }
   ],
   "source": [
    "1-stats.binom.pmf(x, n, p)"
   ]
  },
  {
   "cell_type": "markdown",
   "id": "2d99ae39-105e-4005-a5e5-93a5a379b4cf",
   "metadata": {},
   "source": [
    "2.\tTen coins are tossed simultaneously. Find the probability of getting\n",
    "\n",
    "(i) at least seven heads\n"
   ]
  },
  {
   "cell_type": "code",
   "execution_count": 20,
   "id": "26410e6e-6b3b-4915-ba75-7a09379b2a70",
   "metadata": {},
   "outputs": [],
   "source": [
    "n = 10\n",
    "p = 0.5 \n",
    "x = 6"
   ]
  },
  {
   "cell_type": "code",
   "execution_count": 22,
   "id": "9406cb99-27ac-41a4-9b0d-9781562a38f0",
   "metadata": {},
   "outputs": [
    {
     "data": {
      "text/plain": [
       "0.171875"
      ]
     },
     "execution_count": 22,
     "metadata": {},
     "output_type": "execute_result"
    }
   ],
   "source": [
    "1-stats.binom.cdf(x, n, p)"
   ]
  },
  {
   "cell_type": "markdown",
   "id": "fce9832f-2c98-4f5a-85c5-5ffca11586be",
   "metadata": {},
   "source": [
    "(ii) exactly seven heads"
   ]
  },
  {
   "cell_type": "code",
   "execution_count": 23,
   "id": "1b03bdaf-55bd-4d41-b26a-241625fbf3ad",
   "metadata": {},
   "outputs": [],
   "source": [
    "x=7"
   ]
  },
  {
   "cell_type": "code",
   "execution_count": 25,
   "id": "fa134109-4c76-4077-a6b5-a5dff29bcfac",
   "metadata": {},
   "outputs": [
    {
     "data": {
      "text/plain": [
       "0.11718749999999999"
      ]
     },
     "execution_count": 25,
     "metadata": {},
     "output_type": "execute_result"
    }
   ],
   "source": [
    "stats.binom.pmf(x, n, p)"
   ]
  },
  {
   "cell_type": "markdown",
   "id": "72fe1821-4d81-4bdd-88e9-df2c06b4a36a",
   "metadata": {},
   "source": [
    "(iii)at most seven heads"
   ]
  },
  {
   "cell_type": "code",
   "execution_count": 26,
   "id": "c02faf20-b000-4f66-bb53-f138986e6a29",
   "metadata": {},
   "outputs": [
    {
     "data": {
      "text/plain": [
       "0.9453125"
      ]
     },
     "execution_count": 26,
     "metadata": {},
     "output_type": "execute_result"
    }
   ],
   "source": [
    "stats.binom.cdf(x, n, p)"
   ]
  },
  {
   "cell_type": "markdown",
   "id": "90aa3a4b-933a-4f65-abbe-6c77e1984d28",
   "metadata": {},
   "source": [
    "EXERCISE 2.\n",
    "\n",
    "The cycle time for trucks hauling concrete to a highway construction site is uniformly distributed over the interval 50 to 70 minutes. What is the probability that the cycle time exceeds 65 minutes  if it is known that the cycle time exceeds 55 minutes? (Wackerly, Ex.4.51)\n"
   ]
  },
  {
   "cell_type": "code",
   "execution_count": 30,
   "id": "d952e225-f379-4939-b21b-cf6628fd7899",
   "metadata": {},
   "outputs": [
    {
     "data": {
      "text/plain": [
       "0.25"
      ]
     },
     "execution_count": 30,
     "metadata": {},
     "output_type": "execute_result"
    }
   ],
   "source": [
    "a = 50\n",
    "b = 70\n",
    "dist = stats.uniform(a,b-a)\n",
    "c=1-Dist.cdf(65)\n",
    "c"
   ]
  },
  {
   "cell_type": "markdown",
   "id": "38f52bee-affe-42a4-9759-13bc6fce2c55",
   "metadata": {},
   "source": [
    "EXERCISE 3. \n",
    "\n",
    "The width of bolts of fabric is normally distributed with mean 950 mm (millimeters) and standard deviation 10 mm.\n",
    "1.\tWhat is the probability that a randomly chosen bolt has a width of between 947 and 958mm?\n"
   ]
  },
  {
   "cell_type": "code",
   "execution_count": 37,
   "id": "2c143b91-3076-4262-a835-b7bdb8f67f71",
   "metadata": {},
   "outputs": [
    {
     "data": {
      "text/plain": [
       "0.44356634302692755"
      ]
     },
     "execution_count": 37,
     "metadata": {},
     "output_type": "execute_result"
    }
   ],
   "source": [
    "mu=950\n",
    "sigma= 10\n",
    "\n",
    "stats.norm.cdf(958, mu, sigma) - stats.norm.cdf(946, mu, sigma)"
   ]
  },
  {
   "cell_type": "markdown",
   "id": "b520472c-7bec-443a-9715-ba7a884260e1",
   "metadata": {},
   "source": [
    "2.\tWhat is the appropriate value for C such that a randomly chosen bolt has a width less than C with \n",
    "probability .8531? (Wackerly, Ex.4.73)"
   ]
  },
  {
   "cell_type": "code",
   "execution_count": 38,
   "id": "c2515422-2351-437c-b456-2545e6a05cd7",
   "metadata": {},
   "outputs": [
    {
     "data": {
      "text/plain": [
       "960.4982190962642"
      ]
     },
     "execution_count": 38,
     "metadata": {},
     "output_type": "execute_result"
    }
   ],
   "source": [
    "stats.norm.ppf(0.8531, mu, sigma)"
   ]
  },
  {
   "cell_type": "markdown",
   "id": "ccb95428-e61e-49a7-b3da-8c54399667b2",
   "metadata": {},
   "source": [
    "EXERCISE 4. \n",
    "\n",
    "Suppose scores on exams in statistics are normally distributed with an unknown population mean and a \n",
    "population standard deviation of 3 points. A random sample of 36 scores is taken and gives a sample mean \n",
    "(sample mean score) of 68. Find a confidence interval estimate for the population mean exam score \n",
    "(the mean score on all exams). Find a 90% confidence interval for the true (population) mean of statistics \n",
    "exam scores.\n"
   ]
  },
  {
   "cell_type": "code",
   "execution_count": 42,
   "id": "6a874c12-fb5f-429f-9da6-c17154ff8bad",
   "metadata": {},
   "outputs": [],
   "source": [
    "sigma = 3\n",
    "n = 36\n",
    "x = 68"
   ]
  },
  {
   "cell_type": "code",
   "execution_count": 44,
   "id": "ab9a043b-7597-49ad-a7bd-14e8ebc8b673",
   "metadata": {},
   "outputs": [
    {
     "data": {
      "text/plain": [
       "(66.35514637304853, 69.64485362695147)"
      ]
     },
     "execution_count": 46,
     "metadata": {},
     "output_type": "execute_result"
    }
   ],
   "source": [
    "stats.norm.interval(alpha=0.90, loc=x,scale= sigma/np.sqrt(n))"
   ]
  },
  {
   "cell_type": "markdown",
   "id": "cc159623-261a-4d6c-b33a-dba1885599a0",
   "metadata": {},
   "source": [
    "EXERCISE 5.  \n",
    "\n",
    "What is the normal body temperature for healthy humans? A random sample of 130 healthy human body \n",
    "temperatures provided by Allen Shoemaker yielded 98.25 degrees and standard deviation 0.73 degrees.\n",
    "1.\tGive a 99% confidence interval for the average body temperature of healthy people.\n"
   ]
  },
  {
   "cell_type": "code",
   "execution_count": 50,
   "id": "d5b1a9c3-fa7f-441d-81d4-eb1a7f6c3f4e",
   "metadata": {},
   "outputs": [
    {
     "data": {
      "text/plain": [
       "(98.08508192246582, 98.41491807753418)"
      ]
     },
     "execution_count": 50,
     "metadata": {},
     "output_type": "execute_result"
    }
   ],
   "source": [
    "sigma = 0.73\n",
    "n = 130\n",
    "x = 98.25\n",
    "stats.norm.interval(alpha=0.99, loc=x,scale= sigma/np.sqrt(n))"
   ]
  },
  {
   "cell_type": "markdown",
   "id": "29708d52-db6a-4ef8-b56b-ec571e3d87ad",
   "metadata": {},
   "source": [
    "2.\tDoes the confidence interval obtained in part (a) contain the value 98.6 degrees, the accepted \n",
    "average temperature cited by physicians and others? What conclusions can you draw? (Wackerly, Ex.8.60)"
   ]
  },
  {
   "cell_type": "markdown",
   "id": "948a3978-2fb5-4863-a98e-59d61fa5419f",
   "metadata": {},
   "source": [
    "No. 98.6 degrees not within the 99% confidence interval.\n",
    "but 98.41 degrees is close to the final limit of the confidence interval."
   ]
  },
  {
   "cell_type": "markdown",
   "id": "522088a1-d38d-4663-b607-e57c4b8183ac",
   "metadata": {},
   "source": [
    "GÜVEN ARALIĞI BULMA \n",
    "\n",
    "#from scipy import stats\n",
    "#stats.norm.interval(.95, loc = 175, scale = 20/np.sqrt(40))"
   ]
  },
  {
   "cell_type": "markdown",
   "id": "33d91282-02b4-4e91-9684-2e6adebb5ce4",
   "metadata": {},
   "source": [
    "interval(alpha, loc=0, scale=1)\n",
    "\n",
    "Endpoints of the range that contains fraction alpha [0, 1] of the distribution"
   ]
  },
  {
   "cell_type": "markdown",
   "id": "2f47e61c-6597-46b3-aa3f-b77bfd3988e7",
   "metadata": {},
   "source": [
    "But a comment in this post states that the actual correct way of obtaining the confidence interval is:\n",
    "\n",
    "conf_int = stats.norm.interval(0.68, loc=mean, \n",
    "    scale=sigma / np.sqrt(len(a)))\n",
    "    \n",
    "    that is, sigma is divided by the square-root of the sample size: np.sqrt(len(a))."
   ]
  },
  {
   "cell_type": "code",
   "execution_count": null,
   "id": "a5bde685-22a7-448d-9c62-c2da84070990",
   "metadata": {},
   "outputs": [],
   "source": []
  }
 ],
 "metadata": {
  "kernelspec": {
   "display_name": "Python 3 (ipykernel)",
   "language": "python",
   "name": "python3"
  },
  "language_info": {
   "codemirror_mode": {
    "name": "ipython",
    "version": 3
   },
   "file_extension": ".py",
   "mimetype": "text/x-python",
   "name": "python",
   "nbconvert_exporter": "python",
   "pygments_lexer": "ipython3",
   "version": "3.9.7"
  }
 },
 "nbformat": 4,
 "nbformat_minor": 5
}
