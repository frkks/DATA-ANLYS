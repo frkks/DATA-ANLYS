{
 "cells": [
  {
   "cell_type": "markdown",
   "id": "3ac07551-e869-4ad0-9570-1a5a9f090a9e",
   "metadata": {},
   "source": [
    "## PYHTON DB API"
   ]
  },
  {
   "cell_type": "markdown",
   "id": "c9d9220d-580c-4011-9f6c-a6776191bd44",
   "metadata": {},
   "source": [
    "## PYODBC"
   ]
  },
  {
   "cell_type": "markdown",
   "id": "135d1d55-10a5-401b-b4c2-0e811df4d8d7",
   "metadata": {},
   "source": [
    "pip install pyodbc"
   ]
  },
  {
   "cell_type": "code",
   "execution_count": 1,
   "id": "2ae0256d-1cce-4bf9-9807-d0b1eaf81fad",
   "metadata": {},
   "outputs": [],
   "source": [
    "import pyodbc"
   ]
  },
  {
   "cell_type": "markdown",
   "id": "17424fff-d89e-4a64-b43e-d3d8ee242fcc",
   "metadata": {},
   "source": [
    "## SQL SERVER AUTHENTİCATİON"
   ]
  },
  {
   "cell_type": "code",
   "execution_count": 2,
   "id": "8e5cde5c-c974-415a-8d9c-e2b98b97962e",
   "metadata": {},
   "outputs": [],
   "source": [
    "def create_server_connection(driver, server, database, user, password):\n",
    "    conn = None\n",
    "    try:\n",
    "        conn = pyodbc.connect(DRIVER = driver, SERVER= server, DATABASE = database, UID= user, PWD= password)\n",
    "        print(\"Successfull\")\n",
    "    except Error as err:\n",
    "        print(f\"Error:'{err}'\")\n",
    "    return conn"
   ]
  },
  {
   "cell_type": "code",
   "execution_count": null,
   "id": "dee3030a-0e98-4e56-8fb5-df39dfe3be72",
   "metadata": {},
   "outputs": [],
   "source": []
  },
  {
   "cell_type": "code",
   "execution_count": 3,
   "id": "ae50ef30-a665-4552-b275-048499f5aa9b",
   "metadata": {},
   "outputs": [
    {
     "data": {
      "text/plain": [
       "['SQL Server',\n",
       " 'SQL Server Native Client RDA 11.0',\n",
       " 'SQL Server Native Client 11.0',\n",
       " 'ODBC Driver 17 for SQL Server']"
      ]
     },
     "execution_count": 3,
     "metadata": {},
     "output_type": "execute_result"
    }
   ],
   "source": [
    "pyodbc.drivers()"
   ]
  },
  {
   "cell_type": "markdown",
   "id": "75ca6d41-b403-4809-bebb-f6ba23aaf16c",
   "metadata": {},
   "source": [
    "## WİNDOWS AUTHENTİCATİON"
   ]
  },
  {
   "cell_type": "code",
   "execution_count": 5,
   "id": "036a1880-1511-4518-aa8f-bdc73369ca40",
   "metadata": {},
   "outputs": [],
   "source": [
    "conn_string = \"driver={ODBC Driver 17 for SQL Server}; server=localhost; database=master; TRUSTED_CONNECTION=yes;\""
   ]
  },
  {
   "cell_type": "code",
   "execution_count": 6,
   "id": "8b0a0210-7f92-4f7c-b122-4c3dfa7b6033",
   "metadata": {},
   "outputs": [],
   "source": [
    "conn = pyodbc.connect(conn_string);"
   ]
  },
  {
   "cell_type": "markdown",
   "id": "0e16d613-eacc-41c2-98f2-b5e055035e88",
   "metadata": {},
   "source": [
    "## CURSOR PROCESS"
   ]
  },
  {
   "cell_type": "code",
   "execution_count": 7,
   "id": "29d52ccd-ed00-47c3-8a95-5ab531226968",
   "metadata": {},
   "outputs": [],
   "source": [
    "crs = conn.cursor()"
   ]
  },
  {
   "cell_type": "code",
   "execution_count": 8,
   "id": "da7fc44d-a169-44c7-a183-e24bd5f6ebf4",
   "metadata": {},
   "outputs": [],
   "source": [
    "conn.autocommit = True # conn.commit() yazmamak için"
   ]
  },
  {
   "cell_type": "markdown",
   "id": "89a2f49e-1ffe-4e64-b923-74a7604cdb0a",
   "metadata": {},
   "source": [
    "## CREATE DATABASE"
   ]
  },
  {
   "cell_type": "code",
   "execution_count": 9,
   "id": "68b3abb9-7920-48b3-ab4d-6682271f0b68",
   "metadata": {},
   "outputs": [],
   "source": [
    "def create_database(conn, create_database_query): #parametreler: connection nesnesi ve query nesnesi\n",
    "    crs = conn.cursor() #bir cursor nesnesi oluşturuyoruz. bunu query sonucundaki değerleri yakalamak için kullanacağız.\n",
    "    try:\n",
    "        crs.execute(create_database_query)#query'yi çalıştır sonucu yakala. queryleri excecute ile çalıştırıyoruz\n",
    "        print(\"Database is Created Successfuly\")\n",
    "    except Error as err:\n",
    "            print(f\"Error:'{err}'\")"
   ]
  },
  {
   "cell_type": "code",
   "execution_count": 10,
   "id": "965728f1-75a3-4e2e-b0bd-89450d17c7cc",
   "metadata": {},
   "outputs": [],
   "source": [
    "create_database_query = 'CREATE DATABASE testb'"
   ]
  },
  {
   "cell_type": "code",
   "execution_count": 11,
   "id": "6bb1b2b0-1a0e-48c4-92d8-96c51cfca881",
   "metadata": {},
   "outputs": [
    {
     "name": "stdout",
     "output_type": "stream",
     "text": [
      "Database is Created Successfuly\n"
     ]
    }
   ],
   "source": [
    "create_database(conn, create_database_query)"
   ]
  },
  {
   "cell_type": "code",
   "execution_count": 12,
   "id": "15b583cd-691d-4017-9dec-4c4bb7e02196",
   "metadata": {},
   "outputs": [],
   "source": [
    "query = 'USE testb'"
   ]
  },
  {
   "cell_type": "code",
   "execution_count": 15,
   "id": "4835461a-b11e-43a3-afbd-5ed52040de5d",
   "metadata": {},
   "outputs": [
    {
     "data": {
      "text/plain": [
       "<pyodbc.Cursor at 0x121b1720530>"
      ]
     },
     "execution_count": 15,
     "metadata": {},
     "output_type": "execute_result"
    }
   ],
   "source": [
    "crs.execute(query)"
   ]
  },
  {
   "cell_type": "code",
   "execution_count": 16,
   "id": "fbf75f88-4fa5-4672-9d09-c04e5ec8e236",
   "metadata": {},
   "outputs": [],
   "source": [
    "def execute_query(conn, query):\n",
    "    crs = conn.cursor()\n",
    "    try:\n",
    "        crs.execute(query)\n",
    "        conn.commit()\n",
    "        print(\"Query Succeessful!\")\n",
    "    except Error as err:\n",
    "        print(f\"Error:'{err}'\")"
   ]
  },
  {
   "cell_type": "code",
   "execution_count": 17,
   "id": "1b497f1f-5ad1-4fda-940b-113f78ea3c37",
   "metadata": {},
   "outputs": [
    {
     "name": "stdout",
     "output_type": "stream",
     "text": [
      "Query Succeessful!\n"
     ]
    }
   ],
   "source": [
    "execute_query(conn, query)"
   ]
  },
  {
   "cell_type": "code",
   "execution_count": 18,
   "id": "04b09980-d541-490b-9771-aff8fe7bf5c3",
   "metadata": {},
   "outputs": [],
   "source": [
    "query = 'CREATE TABLE TestTable (\\\n",
    "           ID INT IDENTITY (1,1) NOT NULL, \\\n",
    "           FirstName VARCHAR(255) NOT NULL,\\\n",
    "           LastName VARCHAR(255) NOT NULL,\\\n",
    "           PRIMARY KEY(ID))'"
   ]
  },
  {
   "cell_type": "code",
   "execution_count": 19,
   "id": "fcff9dcc-7335-46f8-9932-c586d8c36f7b",
   "metadata": {},
   "outputs": [
    {
     "name": "stdout",
     "output_type": "stream",
     "text": [
      "Query Succeessful!\n"
     ]
    }
   ],
   "source": [
    "execute_query(conn, query)"
   ]
  },
  {
   "cell_type": "markdown",
   "id": "1f4ac5bd-6cae-4c9a-846b-c238e9063944",
   "metadata": {},
   "source": [
    "## İNSERT"
   ]
  },
  {
   "cell_type": "code",
   "execution_count": 24,
   "id": "f77440aa-021a-452f-8609-04434ef73016",
   "metadata": {},
   "outputs": [
    {
     "data": {
      "text/plain": [
       "<pyodbc.Cursor at 0x121b1720530>"
      ]
     },
     "execution_count": 24,
     "metadata": {},
     "output_type": "execute_result"
    }
   ],
   "source": [
    "crs.execute(\"INSERT TestTable (FirstName, LastName) VALUES ('Bob', 'Marley')\")"
   ]
  },
  {
   "cell_type": "code",
   "execution_count": null,
   "id": "326c876b-b3a3-4816-94c7-16056e58f303",
   "metadata": {},
   "outputs": [],
   "source": [
    "crs.execute(\"INSERT TestTable (FirstName, LastName) VALUES ('Bob', 'Marley')\")"
   ]
  },
  {
   "cell_type": "code",
   "execution_count": 23,
   "id": "d2b2db99-2d59-47ea-bb59-a2378a75f3de",
   "metadata": {},
   "outputs": [
    {
     "data": {
      "text/plain": [
       "<pyodbc.Cursor at 0x121b1720530>"
      ]
     },
     "execution_count": 23,
     "metadata": {},
     "output_type": "execute_result"
    }
   ],
   "source": [
    "crs.execute(\"INSERT TestTable (FirstName, LastName) VALUES (?,?)\",'Tom', 'Cat')\n",
    "crs.execute(\"INSERT TestTable (FirstName, LastName) VALUES (?,?)\",'Jerry', 'Mouse')\n",
    "crs.execute(\"INSERT TestTable (FirstName, LastName) VALUES (?,?)\",'Owen', 'William')\n",
    "crs.execute(\"INSERT TestTable (FirstName, LastName) VALUES (?,?)\",'Stefan', 'Müller')"
   ]
  },
  {
   "cell_type": "markdown",
   "id": "69ab7f79-d670-4b85-bc7c-d2afa0915390",
   "metadata": {},
   "source": [
    "## CURSOR FUNCTİON"
   ]
  },
  {
   "cell_type": "code",
   "execution_count": 27,
   "id": "fb20fbb0-4c99-4ee7-920f-4acc6d245002",
   "metadata": {},
   "outputs": [
    {
     "data": {
      "text/plain": [
       "<pyodbc.Cursor at 0x121b1720530>"
      ]
     },
     "execution_count": 27,
     "metadata": {},
     "output_type": "execute_result"
    }
   ],
   "source": [
    "crs.execute(\"DELETE FROM TestTable WHERE FirstName = 'jerry'\")"
   ]
  },
  {
   "cell_type": "markdown",
   "id": "722d7971-51bf-4002-8591-822b905394db",
   "metadata": {},
   "source": [
    "## FETCHONE"
   ]
  },
  {
   "cell_type": "code",
   "execution_count": 29,
   "id": "9da19fd2-8866-442b-b3d4-528cbf772e61",
   "metadata": {},
   "outputs": [
    {
     "data": {
      "text/plain": [
       "('Tom', 'Cat')"
      ]
     },
     "execution_count": 29,
     "metadata": {},
     "output_type": "execute_result"
    }
   ],
   "source": [
    "crs.execute('SELECT FirstName, LastName FROM TestTable')\n",
    "row = crs.fetchone() # tablodaki ilk kaydı getirir. her çalıştırdıgmızda bir sonraki satırı getirir\n",
    "row"
   ]
  },
  {
   "cell_type": "markdown",
   "id": "b0c058c1-2100-4db8-9328-27f6ef5e7785",
   "metadata": {},
   "source": [
    "## FETCHMANY"
   ]
  },
  {
   "cell_type": "code",
   "execution_count": 31,
   "id": "bdff5a3a-eb38-4da2-bc56-5770fe1e423c",
   "metadata": {},
   "outputs": [
    {
     "data": {
      "text/plain": [
       "[('Tom', 'Cat'), ('Jerry', 'Mouse'), ('Owen', 'William')]"
      ]
     },
     "execution_count": 31,
     "metadata": {},
     "output_type": "execute_result"
    }
   ],
   "source": [
    "crs.execute('SELECT FirstName, LastName FROM TestTable')\n",
    "row = crs.fetchmany(3) \n",
    "row"
   ]
  },
  {
   "cell_type": "markdown",
   "id": "b7274002-abfb-4fce-abac-57a41080cdee",
   "metadata": {},
   "source": [
    "##FETChall"
   ]
  },
  {
   "cell_type": "code",
   "execution_count": 32,
   "id": "2b76e33b-8b23-44cb-9882-e8a1e7a7b029",
   "metadata": {},
   "outputs": [
    {
     "data": {
      "text/plain": [
       "[('Tom', 'Cat'),\n",
       " ('Jerry', 'Mouse'),\n",
       " ('Owen', 'William'),\n",
       " ('Stefan', 'Müller'),\n",
       " ('Bob', 'Marley')]"
      ]
     },
     "execution_count": 32,
     "metadata": {},
     "output_type": "execute_result"
    }
   ],
   "source": [
    "crs.execute('SELECT FirstName, LastName FROM TestTable')\n",
    "row = crs.fetchall() \n",
    "row"
   ]
  },
  {
   "cell_type": "markdown",
   "id": "1c9c055d-52e5-4c31-b644-a06890cc211b",
   "metadata": {},
   "source": [
    "## CREATE DataFrame"
   ]
  },
  {
   "cell_type": "code",
   "execution_count": 33,
   "id": "bad69b22-917c-43be-ba2f-5370802320c1",
   "metadata": {},
   "outputs": [],
   "source": [
    "import pandas as pd"
   ]
  },
  {
   "cell_type": "code",
   "execution_count": 34,
   "id": "6bf29874-3942-4cb2-b5f6-a90cbff583b2",
   "metadata": {},
   "outputs": [
    {
     "data": {
      "text/plain": [
       "[(1, 'Tom', 'Cat'),\n",
       " (2, 'Jerry', 'Mouse'),\n",
       " (3, 'Owen', 'William'),\n",
       " (4, 'Stefan', 'Müller'),\n",
       " (5, 'Bob', 'Marley')]"
      ]
     },
     "execution_count": 34,
     "metadata": {},
     "output_type": "execute_result"
    }
   ],
   "source": [
    "crs.execute('SELECT * FROM TestTable')\n",
    "result = crs.fetchall() \n",
    "result"
   ]
  },
  {
   "cell_type": "code",
   "execution_count": 36,
   "id": "207ef4d3-ad3d-4c10-a91b-d106f4191ccf",
   "metadata": {},
   "outputs": [
    {
     "data": {
      "text/html": [
       "<div>\n",
       "<style scoped>\n",
       "    .dataframe tbody tr th:only-of-type {\n",
       "        vertical-align: middle;\n",
       "    }\n",
       "\n",
       "    .dataframe tbody tr th {\n",
       "        vertical-align: top;\n",
       "    }\n",
       "\n",
       "    .dataframe thead th {\n",
       "        text-align: right;\n",
       "    }\n",
       "</style>\n",
       "<table border=\"1\" class=\"dataframe\">\n",
       "  <thead>\n",
       "    <tr style=\"text-align: right;\">\n",
       "      <th></th>\n",
       "      <th>0</th>\n",
       "    </tr>\n",
       "  </thead>\n",
       "  <tbody>\n",
       "    <tr>\n",
       "      <th>0</th>\n",
       "      <td>[1, Tom, Cat]</td>\n",
       "    </tr>\n",
       "    <tr>\n",
       "      <th>1</th>\n",
       "      <td>[2, Jerry, Mouse]</td>\n",
       "    </tr>\n",
       "    <tr>\n",
       "      <th>2</th>\n",
       "      <td>[3, Owen, William]</td>\n",
       "    </tr>\n",
       "    <tr>\n",
       "      <th>3</th>\n",
       "      <td>[4, Stefan, Müller]</td>\n",
       "    </tr>\n",
       "    <tr>\n",
       "      <th>4</th>\n",
       "      <td>[5, Bob, Marley]</td>\n",
       "    </tr>\n",
       "  </tbody>\n",
       "</table>\n",
       "</div>"
      ],
      "text/plain": [
       "                     0\n",
       "0        [1, Tom, Cat]\n",
       "1    [2, Jerry, Mouse]\n",
       "2   [3, Owen, William]\n",
       "3  [4, Stefan, Müller]\n",
       "4     [5, Bob, Marley]"
      ]
     },
     "execution_count": 36,
     "metadata": {},
     "output_type": "execute_result"
    }
   ],
   "source": [
    "df = pd.DataFrame(result)\n",
    "df"
   ]
  },
  {
   "cell_type": "code",
   "execution_count": 37,
   "id": "f632a3d4-7804-4a54-905f-da66de8b95c5",
   "metadata": {},
   "outputs": [],
   "source": [
    "a = []\n",
    "for result in result:\n",
    "    result = list(result)\n",
    "    a.append(result)"
   ]
  },
  {
   "cell_type": "code",
   "execution_count": 38,
   "id": "f1aa5dcc-f8fd-4446-a527-510d713bd6a2",
   "metadata": {},
   "outputs": [
    {
     "data": {
      "text/plain": [
       "[[1, 'Tom', 'Cat'],\n",
       " [2, 'Jerry', 'Mouse'],\n",
       " [3, 'Owen', 'William'],\n",
       " [4, 'Stefan', 'Müller'],\n",
       " [5, 'Bob', 'Marley']]"
      ]
     },
     "execution_count": 38,
     "metadata": {},
     "output_type": "execute_result"
    }
   ],
   "source": [
    "a"
   ]
  },
  {
   "cell_type": "code",
   "execution_count": 40,
   "id": "a65202e1-daa8-4525-aea5-bbb8ce48e886",
   "metadata": {},
   "outputs": [
    {
     "data": {
      "text/html": [
       "<div>\n",
       "<style scoped>\n",
       "    .dataframe tbody tr th:only-of-type {\n",
       "        vertical-align: middle;\n",
       "    }\n",
       "\n",
       "    .dataframe tbody tr th {\n",
       "        vertical-align: top;\n",
       "    }\n",
       "\n",
       "    .dataframe thead th {\n",
       "        text-align: right;\n",
       "    }\n",
       "</style>\n",
       "<table border=\"1\" class=\"dataframe\">\n",
       "  <thead>\n",
       "    <tr style=\"text-align: right;\">\n",
       "      <th></th>\n",
       "      <th>ID</th>\n",
       "      <th>FirstName</th>\n",
       "      <th>LastNmae</th>\n",
       "    </tr>\n",
       "  </thead>\n",
       "  <tbody>\n",
       "    <tr>\n",
       "      <th>0</th>\n",
       "      <td>1</td>\n",
       "      <td>Tom</td>\n",
       "      <td>Cat</td>\n",
       "    </tr>\n",
       "    <tr>\n",
       "      <th>1</th>\n",
       "      <td>2</td>\n",
       "      <td>Jerry</td>\n",
       "      <td>Mouse</td>\n",
       "    </tr>\n",
       "    <tr>\n",
       "      <th>2</th>\n",
       "      <td>3</td>\n",
       "      <td>Owen</td>\n",
       "      <td>William</td>\n",
       "    </tr>\n",
       "    <tr>\n",
       "      <th>3</th>\n",
       "      <td>4</td>\n",
       "      <td>Stefan</td>\n",
       "      <td>Müller</td>\n",
       "    </tr>\n",
       "    <tr>\n",
       "      <th>4</th>\n",
       "      <td>5</td>\n",
       "      <td>Bob</td>\n",
       "      <td>Marley</td>\n",
       "    </tr>\n",
       "  </tbody>\n",
       "</table>\n",
       "</div>"
      ],
      "text/plain": [
       "   ID FirstName LastNmae\n",
       "0   1       Tom      Cat\n",
       "1   2     Jerry    Mouse\n",
       "2   3      Owen  William\n",
       "3   4    Stefan   Müller\n",
       "4   5       Bob   Marley"
      ]
     },
     "execution_count": 40,
     "metadata": {},
     "output_type": "execute_result"
    }
   ],
   "source": [
    "colums = [\"ID\",\"FirstName\",\"LastNmae\"]\n",
    "df1 = pd.DataFrame(a, columns=colums)\n",
    "df1"
   ]
  },
  {
   "cell_type": "code",
   "execution_count": 41,
   "id": "76af22dd-09e7-4730-b23e-01ed49268b0d",
   "metadata": {},
   "outputs": [
    {
     "name": "stdout",
     "output_type": "stream",
     "text": [
      "Query Succeessful!\n"
     ]
    }
   ],
   "source": [
    "query = 'USE SampleRetail'\n",
    "execute_query(conn, query)"
   ]
  },
  {
   "cell_type": "code",
   "execution_count": 42,
   "id": "6f9695b2-1e71-45a6-ae6b-8d84ec63c997",
   "metadata": {},
   "outputs": [
    {
     "data": {
      "text/html": [
       "<div>\n",
       "<style scoped>\n",
       "    .dataframe tbody tr th:only-of-type {\n",
       "        vertical-align: middle;\n",
       "    }\n",
       "\n",
       "    .dataframe tbody tr th {\n",
       "        vertical-align: top;\n",
       "    }\n",
       "\n",
       "    .dataframe thead th {\n",
       "        text-align: right;\n",
       "    }\n",
       "</style>\n",
       "<table border=\"1\" class=\"dataframe\">\n",
       "  <thead>\n",
       "    <tr style=\"text-align: right;\">\n",
       "      <th></th>\n",
       "      <th>product_id</th>\n",
       "      <th>product_name</th>\n",
       "      <th>brand_id</th>\n",
       "      <th>category_id</th>\n",
       "      <th>model_year</th>\n",
       "      <th>list_price</th>\n",
       "    </tr>\n",
       "  </thead>\n",
       "  <tbody>\n",
       "    <tr>\n",
       "      <th>0</th>\n",
       "      <td>1</td>\n",
       "      <td>DENAQ - AC Adapter for TOSHIBA SATELLITE 1700 ...</td>\n",
       "      <td>23</td>\n",
       "      <td>4</td>\n",
       "      <td>2021</td>\n",
       "      <td>23.99</td>\n",
       "    </tr>\n",
       "    <tr>\n",
       "      <th>1</th>\n",
       "      <td>2</td>\n",
       "      <td>NS-SP1800BL 5.1-Channel Home Theater System (B...</td>\n",
       "      <td>5</td>\n",
       "      <td>5</td>\n",
       "      <td>2021</td>\n",
       "      <td>136.99</td>\n",
       "    </tr>\n",
       "    <tr>\n",
       "      <th>2</th>\n",
       "      <td>3</td>\n",
       "      <td>Acoustimass 6 Series V Home Theater Speaker Sy...</td>\n",
       "      <td>24</td>\n",
       "      <td>5</td>\n",
       "      <td>2021</td>\n",
       "      <td>599.00</td>\n",
       "    </tr>\n",
       "    <tr>\n",
       "      <th>3</th>\n",
       "      <td>4</td>\n",
       "      <td>Corsair Vengeance LPX 16GB (2x8GB) DDR4 DRAM 3...</td>\n",
       "      <td>6</td>\n",
       "      <td>4</td>\n",
       "      <td>2021</td>\n",
       "      <td>151.99</td>\n",
       "    </tr>\n",
       "    <tr>\n",
       "      <th>4</th>\n",
       "      <td>5</td>\n",
       "      <td>Details About Samsung Gear Iconx 2018 Edition ...</td>\n",
       "      <td>1</td>\n",
       "      <td>14</td>\n",
       "      <td>2021</td>\n",
       "      <td>199.99</td>\n",
       "    </tr>\n",
       "  </tbody>\n",
       "</table>\n",
       "</div>"
      ],
      "text/plain": [
       "   product_id                                       product_name  brand_id  \\\n",
       "0           1  DENAQ - AC Adapter for TOSHIBA SATELLITE 1700 ...        23   \n",
       "1           2  NS-SP1800BL 5.1-Channel Home Theater System (B...         5   \n",
       "2           3  Acoustimass 6 Series V Home Theater Speaker Sy...        24   \n",
       "3           4  Corsair Vengeance LPX 16GB (2x8GB) DDR4 DRAM 3...         6   \n",
       "4           5  Details About Samsung Gear Iconx 2018 Edition ...         1   \n",
       "\n",
       "   category_id  model_year  list_price  \n",
       "0            4        2021       23.99  \n",
       "1            5        2021      136.99  \n",
       "2            5        2021      599.00  \n",
       "3            4        2021      151.99  \n",
       "4           14        2021      199.99  "
      ]
     },
     "execution_count": 42,
     "metadata": {},
     "output_type": "execute_result"
    }
   ],
   "source": [
    "df_prod = pd.read_sql(\"select * from product.product\", con = conn)\n",
    "df_prod.head()"
   ]
  },
  {
   "cell_type": "code",
   "execution_count": null,
   "id": "19bb15eb-d585-4e2b-a054-b3d31cefb2b3",
   "metadata": {},
   "outputs": [],
   "source": []
  }
 ],
 "metadata": {
  "kernelspec": {
   "display_name": "Python 3 (ipykernel)",
   "language": "python",
   "name": "python3"
  },
  "language_info": {
   "codemirror_mode": {
    "name": "ipython",
    "version": 3
   },
   "file_extension": ".py",
   "mimetype": "text/x-python",
   "name": "python",
   "nbconvert_exporter": "python",
   "pygments_lexer": "ipython3",
   "version": "3.9.7"
  }
 },
 "nbformat": 4,
 "nbformat_minor": 5
}
