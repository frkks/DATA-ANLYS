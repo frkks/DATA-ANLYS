{
  "cells": [
    {
      "cell_type": "markdown",
      "metadata": {
        "id": "1R7X483QmLci"
      },
      "source": [
        "___\n",
        "\n",
        "<p style=\"text-align: center;\"><img src=\"https://docs.google.com/uc?id=1lY0Uj5R04yMY3-ZppPWxqCr5pvBLYPnV\" class=\"img-fluid\" \n",
        "alt=\"CLRSWY\"></p>\n",
        "\n",
        "## <p style=\"background-color:#FDFEFE; font-family:newtimeroman; color:#9d4f8c; font-size:100%; text-align:center; border-radius:10px 10px;\">WAY TO REINVENT YOURSELF</p>"
      ]
    },
    {
      "cell_type": "markdown",
      "metadata": {
        "id": "U1TecEhqmLcx"
      },
      "source": [
        "<img src=https://i.ibb.co/wJW61Y2/Used-cars.jpg width=\"700\" height=\"200\">\n",
        "\n",
        "## <p style=\"background-color:#FDFEFE; font-family:newtimeroman; color:#060108; font-size:200%; text-align:center; border-radius:10px 10px;\">The Capstone Project of Data Analytics Module</p>\n",
        "\n",
        "## <p style=\"background-color:#FDFEFE; font-family:newtimeroman; color:#060108; font-size:150%; text-align:center; border-radius:10px 10px;\">Car Price Prediction EDA</p>"
      ]
    },
    {
      "cell_type": "markdown",
      "metadata": {
        "id": "mWQyySKlmLc0"
      },
      "source": [
        "# WELCOME!"
      ]
    },
    {
      "cell_type": "markdown",
      "metadata": {
        "id": "OD06AXlBmLc2"
      },
      "source": [
        "## Introduction\n",
        "Welcome to \"***AutoScout Data Analysis Project***\". This is the capstone project of ***Data Analysis*** Module. **Auto Scout** data which using for this project, scraped from the on-line car trading company in 2019, contains many features of 9 different car models. In this project, you will have the opportunity to apply many commonly used algorithms for Data Cleaning and Exploratory Data Analysis by using many Python libraries such as Numpy, Pandas, Matplotlib, Seaborn, Scipy you will analyze clean dataset.\n",
        "\n",
        "The project consists of 3 parts:\n",
        "* First part is related with 'data cleaning'. It deals with Incorrect Headers, Incorrect Format, Anomalies, Dropping useless columns.\n",
        "* Second part is related with 'filling data'. It deals with Missing Values. Categorical to numeric transformation is done.\n",
        "* Third part is related with 'handling outliers of data' via Visualisation libraries. Some insights are extracted.\n"
      ]
    },
    {
      "cell_type": "markdown",
      "metadata": {
        "id": "2Vd84QUbmLc4"
      },
      "source": [
        "# PART- 1 `( Data Cleaning )`"
      ]
    },
    {
      "cell_type": "code",
      "execution_count": 6,
      "metadata": {
        "id": "_n_Y3zoTmLc6"
      },
      "outputs": [],
      "source": [
        "import numpy as np\n",
        "import pandas as pd\n",
        "import matplotlib.pyplot as plt\n",
        "%matplotlib inline\n",
        "import scipy\n",
        "import seaborn as sns\n",
        "from functools import reduce\n",
        "import warnings\n",
        "warnings.filterwarnings('ignore') \n",
        "pd.set_option(\"display.max_columns\", None)\n",
        "# pd.set_option('display.max_colwidth', None) # shows all values in cells\n",
        "#from skimpy import clean_columns"
      ]
    },
    {
      "cell_type": "code",
      "source": [
        ""
      ],
      "metadata": {
        "id": "xeNIbK7z0JWw"
      },
      "execution_count": null,
      "outputs": []
    },
    {
      "cell_type": "code",
      "source": [
        "from google.colab import drive\n",
        "drive.mount('/content/drive')"
      ],
      "metadata": {
        "colab": {
          "base_uri": "https://localhost:8080/"
        },
        "id": "G161_JCeuj1W",
        "outputId": "c3f70a4b-3dbb-477a-f6ca-d3481e2c7842"
      },
      "execution_count": 3,
      "outputs": [
        {
          "output_type": "stream",
          "name": "stdout",
          "text": [
            "Mounted at /content/drive\n"
          ]
        }
      ]
    },
    {
      "cell_type": "code",
      "execution_count": 107,
      "metadata": {
        "colab": {
          "base_uri": "https://localhost:8080/",
          "height": 755
        },
        "id": "NZT9LEltWcbx",
        "outputId": "c8ce7566-532b-43c3-a0b0-f88f1e8758a8"
      },
      "outputs": [
        {
          "output_type": "execute_result",
          "data": {
            "text/plain": [
              "                                                 url make_model  \\\n",
              "0  https://www.autoscout24.com//offers/audi-a1-sp...    Audi A1   \n",
              "1  https://www.autoscout24.com//offers/audi-a1-1-...    Audi A1   \n",
              "2  https://www.autoscout24.com//offers/audi-a1-sp...    Audi A1   \n",
              "3  https://www.autoscout24.com//offers/audi-a1-1-...    Audi A1   \n",
              "4  https://www.autoscout24.com//offers/audi-a1-sp...    Audi A1   \n",
              "\n",
              "                                   short_description body_type  price  \\\n",
              "0        Sportback 1.4 TDI S-tronic Xenon Navi Klima    Sedans  15770   \n",
              "1                                     1.8 TFSI sport    Sedans  14500   \n",
              "2  Sportback 1.6 TDI S tronic Einparkhilfe plus+m...    Sedans  14640   \n",
              "3                            1.4 TDi Design S tronic    Sedans  14500   \n",
              "4  Sportback 1.4 TDI S-Tronic S-Line Ext. admired...    Sedans  16790   \n",
              "\n",
              "                vat         km registration         prev_owner  kW      hp  \\\n",
              "0    VAT deductible  56,013 km      01/2016  2 previous owners NaN   66 kW   \n",
              "1  Price negotiable  80,000 km      03/2017               None NaN  141 kW   \n",
              "2    VAT deductible  83,450 km      02/2016   1 previous owner NaN   85 kW   \n",
              "3              None  73,000 km      08/2016   1 previous owner NaN   66 kW   \n",
              "4              None  16,200 km      05/2016   1 previous owner NaN   66 kW   \n",
              "\n",
              "                                      Type Previous Owners  \\\n",
              "0  [, Used, , Diesel (Particulate Filter)]           \\n2\\n   \n",
              "1                     [, Used, , Gasoline]             NaN   \n",
              "2  [, Used, , Diesel (Particulate Filter)]           \\n1\\n   \n",
              "3  [, Used, , Diesel (Particulate Filter)]           \\n1\\n   \n",
              "4  [, Used, , Diesel (Particulate Filter)]           \\n1\\n   \n",
              "\n",
              "                         Next Inspection                      Inspection new  \\\n",
              "0  [\\n06/2021\\n, \\n99 g CO2/km (comb)\\n]               [\\nYes\\n, \\nEuro 6\\n]   \n",
              "1                                    NaN                                 NaN   \n",
              "2                                    NaN                                 NaN   \n",
              "3                                    NaN                                 NaN   \n",
              "4                                    NaN  [\\nYes\\n, \\n109 g CO2/km (comb)\\n]   \n",
              "\n",
              "                           Warranty                      Full Service  \\\n",
              "0           [\\n, \\n, \\n4 (Green)\\n]                          [\\n, \\n]   \n",
              "1                               NaN                               NaN   \n",
              "2  [\\n, \\n, \\n99 g CO2/km (comb)\\n]                               NaN   \n",
              "3                               NaN  [\\n, \\n, \\n99 g CO2/km (comb)\\n]   \n",
              "4              [\\n, \\n, \\nEuro 6\\n]           [\\n, \\n, \\n4 (Green)\\n]   \n",
              "\n",
              "    Non-smoking Vehicle null      Make         Model     Offer Number  \\\n",
              "0              [\\n, \\n]   []  \\nAudi\\n  [\\n, A1, \\n]  [\\nLR-062483\\n]   \n",
              "1                   NaN   []  \\nAudi\\n  [\\n, A1, \\n]              NaN   \n",
              "2                   NaN   []  \\nAudi\\n  [\\n, A1, \\n]   [\\nAM-95365\\n]   \n",
              "3  [\\n, \\n, \\nEuro 6\\n]   []  \\nAudi\\n  [\\n, A1, \\n]              NaN   \n",
              "4              [\\n, \\n]   []  \\nAudi\\n  [\\n, A1, \\n]      [\\nC1626\\n]   \n",
              "\n",
              "  First Registration       Body Color      Paint Type  \\\n",
              "0     [\\n, 2016, \\n]  [\\n, Black, \\n]  [\\nMetallic\\n]   \n",
              "1     [\\n, 2017, \\n]    [\\n, Red, \\n]             NaN   \n",
              "2     [\\n, 2016, \\n]  [\\n, Black, \\n]  [\\nMetallic\\n]   \n",
              "3     [\\n, 2016, \\n]  [\\n, Brown, \\n]  [\\nMetallic\\n]   \n",
              "4     [\\n, 2016, \\n]  [\\n, Black, \\n]  [\\nMetallic\\n]   \n",
              "\n",
              "            Body Color Original          Upholstery              Body  \\\n",
              "0           [\\nMythosschwarz\\n]  [\\nCloth, Black\\n]  [\\n, Sedans, \\n]   \n",
              "1                           NaN   [\\nCloth, Grey\\n]  [\\n, Sedans, \\n]   \n",
              "2  [\\nmythosschwarz metallic\\n]  [\\nCloth, Black\\n]  [\\n, Sedans, \\n]   \n",
              "3                           NaN                 NaN  [\\n, Sedans, \\n]   \n",
              "4  [\\nMythosschwarz Metallic\\n]  [\\nCloth, Black\\n]  [\\n, Sedans, \\n]   \n",
              "\n",
              "  Nr. of Doors Nr. of Seats      Model Code         Gearing Type  \\\n",
              "0      [\\n5\\n]      [\\n5\\n]  [\\n0588/BDF\\n]  [\\n, Automatic, \\n]   \n",
              "1      [\\n3\\n]      [\\n4\\n]  [\\n0588/BCY\\n]  [\\n, Automatic, \\n]   \n",
              "2      [\\n4\\n]      [\\n4\\n]             NaN  [\\n, Automatic, \\n]   \n",
              "3      [\\n3\\n]      [\\n4\\n]             NaN  [\\n, Automatic, \\n]   \n",
              "4      [\\n5\\n]      [\\n5\\n]  [\\n0588/BDF\\n]  [\\n, Automatic, \\n]   \n",
              "\n",
              "     Displacement Cylinders          Weight  Drive chain  \\\n",
              "0  [\\n1,422 cc\\n]   [\\n3\\n]  [\\n1,220 kg\\n]  [\\nfront\\n]   \n",
              "1  [\\n1,798 cc\\n]   [\\n4\\n]  [\\n1,255 kg\\n]  [\\nfront\\n]   \n",
              "2  [\\n1,598 cc\\n]       NaN             NaN  [\\nfront\\n]   \n",
              "3  [\\n1,422 cc\\n]   [\\n3\\n]  [\\n1,195 kg\\n]          NaN   \n",
              "4  [\\n1,422 cc\\n]   [\\n3\\n]             NaN  [\\nfront\\n]   \n",
              "\n",
              "                                    Fuel  \\\n",
              "0  [\\n, Diesel (Particulate Filter), \\n]   \n",
              "1                     [\\n, Gasoline, \\n]   \n",
              "2  [\\n, Diesel (Particulate Filter), \\n]   \n",
              "3  [\\n, Diesel (Particulate Filter), \\n]   \n",
              "4  [\\n, Diesel (Particulate Filter), \\n]   \n",
              "\n",
              "                                         Consumption  \\\n",
              "0  [[3.8 l/100 km (comb)], [4.3 l/100 km (city)],...   \n",
              "1  [[5.6 l/100 km (comb)], [7.1 l/100 km (city)],...   \n",
              "2  [[3.8 l/100 km (comb)], [4.4 l/100 km (city)],...   \n",
              "3  [[3.8 l/100 km (comb)], [4.3 l/100 km (city)],...   \n",
              "4  [[4.1 l/100 km (comb)], [4.6 l/100 km (city)],...   \n",
              "\n",
              "                CO2 Emission Emission Class  \\\n",
              "0   [\\n99 g CO2/km (comb)\\n]   [\\nEuro 6\\n]   \n",
              "1  [\\n129 g CO2/km (comb)\\n]   [\\nEuro 6\\n]   \n",
              "2   [\\n99 g CO2/km (comb)\\n]   [\\nEuro 6\\n]   \n",
              "3   [\\n99 g CO2/km (comb)\\n]   [\\nEuro 6\\n]   \n",
              "4  [\\n109 g CO2/km (comb)\\n]   [\\nEuro 6\\n]   \n",
              "\n",
              "                           \\nComfort & Convenience\\n  \\\n",
              "0  [Air conditioning, Armrest, Automatic climate ...   \n",
              "1  [Air conditioning, Automatic climate control, ...   \n",
              "2  [Air conditioning, Cruise control, Electrical ...   \n",
              "3  [Air suspension, Armrest, Auxiliary heating, E...   \n",
              "4  [Air conditioning, Armrest, Automatic climate ...   \n",
              "\n",
              "                           \\nEntertainment & Media\\n  \\\n",
              "0  [Bluetooth, Hands-free equipment, On-board com...   \n",
              "1  [Bluetooth, Hands-free equipment, On-board com...   \n",
              "2                           [MP3, On-board computer]   \n",
              "3  [Bluetooth, CD player, Hands-free equipment, M...   \n",
              "4  [Bluetooth, CD player, Hands-free equipment, M...   \n",
              "\n",
              "                                          \\nExtras\\n  \\\n",
              "0  [Alloy wheels, Catalytic Converter, Voice Cont...   \n",
              "1  [Alloy wheels, Sport seats, Sport suspension, ...   \n",
              "2                      [Alloy wheels, Voice Control]   \n",
              "3         [Alloy wheels, Sport seats, Voice Control]   \n",
              "4  [Alloy wheels, Sport package, Sport suspension...   \n",
              "\n",
              "                               \\nSafety & Security\\n  \\\n",
              "0  [ABS, Central door lock, Daytime running light...   \n",
              "1  [ABS, Central door lock, Central door lock wit...   \n",
              "2  [ABS, Central door lock, Daytime running light...   \n",
              "3  [ABS, Alarm system, Central door lock with rem...   \n",
              "4  [ABS, Central door lock, Driver-side airbag, E...   \n",
              "\n",
              "                                         description   Emission Label  \\\n",
              "0  [\\n, Sicherheit:,  , Deaktivierung für Beifahr...              NaN   \n",
              "1  [\\nLangstreckenfahrzeug daher die hohe Kilomet...  [\\n4 (Green)\\n]   \n",
              "2  [\\n, Fahrzeug-Nummer: AM-95365,  , Ehem. UPE 2...  [\\n4 (Green)\\n]   \n",
              "3  [\\nAudi A1: , - 1e eigenaar , - Perfecte staat...              NaN   \n",
              "4  [\\n, Technik & Sicherheit:, Xenon plus, Klimaa...              NaN   \n",
              "\n",
              "     Gears Country version Electricity consumption Last Service Date  \\\n",
              "0      NaN             NaN                     NaN               NaN   \n",
              "1  [\\n7\\n]             NaN                     NaN               NaN   \n",
              "2      NaN             NaN                     NaN               NaN   \n",
              "3  [\\n6\\n]             NaN                     NaN               NaN   \n",
              "4      NaN   [\\nGermany\\n]                     NaN               NaN   \n",
              "\n",
              "  Other Fuel Types Availability Last Timing Belt Service Date Available from  \n",
              "0              NaN          NaN                           NaN            NaN  \n",
              "1              NaN          NaN                           NaN            NaN  \n",
              "2              NaN          NaN                           NaN            NaN  \n",
              "3              NaN          NaN                           NaN            NaN  \n",
              "4              NaN          NaN                           NaN            NaN  "
            ],
            "text/html": [
              "\n",
              "  <div id=\"df-c930fb37-f8f0-4c66-bce0-e6a0bc8dd6e8\">\n",
              "    <div class=\"colab-df-container\">\n",
              "      <div>\n",
              "<style scoped>\n",
              "    .dataframe tbody tr th:only-of-type {\n",
              "        vertical-align: middle;\n",
              "    }\n",
              "\n",
              "    .dataframe tbody tr th {\n",
              "        vertical-align: top;\n",
              "    }\n",
              "\n",
              "    .dataframe thead th {\n",
              "        text-align: right;\n",
              "    }\n",
              "</style>\n",
              "<table border=\"1\" class=\"dataframe\">\n",
              "  <thead>\n",
              "    <tr style=\"text-align: right;\">\n",
              "      <th></th>\n",
              "      <th>url</th>\n",
              "      <th>make_model</th>\n",
              "      <th>short_description</th>\n",
              "      <th>body_type</th>\n",
              "      <th>price</th>\n",
              "      <th>vat</th>\n",
              "      <th>km</th>\n",
              "      <th>registration</th>\n",
              "      <th>prev_owner</th>\n",
              "      <th>kW</th>\n",
              "      <th>hp</th>\n",
              "      <th>Type</th>\n",
              "      <th>Previous Owners</th>\n",
              "      <th>Next Inspection</th>\n",
              "      <th>Inspection new</th>\n",
              "      <th>Warranty</th>\n",
              "      <th>Full Service</th>\n",
              "      <th>Non-smoking Vehicle</th>\n",
              "      <th>null</th>\n",
              "      <th>Make</th>\n",
              "      <th>Model</th>\n",
              "      <th>Offer Number</th>\n",
              "      <th>First Registration</th>\n",
              "      <th>Body Color</th>\n",
              "      <th>Paint Type</th>\n",
              "      <th>Body Color Original</th>\n",
              "      <th>Upholstery</th>\n",
              "      <th>Body</th>\n",
              "      <th>Nr. of Doors</th>\n",
              "      <th>Nr. of Seats</th>\n",
              "      <th>Model Code</th>\n",
              "      <th>Gearing Type</th>\n",
              "      <th>Displacement</th>\n",
              "      <th>Cylinders</th>\n",
              "      <th>Weight</th>\n",
              "      <th>Drive chain</th>\n",
              "      <th>Fuel</th>\n",
              "      <th>Consumption</th>\n",
              "      <th>CO2 Emission</th>\n",
              "      <th>Emission Class</th>\n",
              "      <th>\\nComfort &amp; Convenience\\n</th>\n",
              "      <th>\\nEntertainment &amp; Media\\n</th>\n",
              "      <th>\\nExtras\\n</th>\n",
              "      <th>\\nSafety &amp; Security\\n</th>\n",
              "      <th>description</th>\n",
              "      <th>Emission Label</th>\n",
              "      <th>Gears</th>\n",
              "      <th>Country version</th>\n",
              "      <th>Electricity consumption</th>\n",
              "      <th>Last Service Date</th>\n",
              "      <th>Other Fuel Types</th>\n",
              "      <th>Availability</th>\n",
              "      <th>Last Timing Belt Service Date</th>\n",
              "      <th>Available from</th>\n",
              "    </tr>\n",
              "  </thead>\n",
              "  <tbody>\n",
              "    <tr>\n",
              "      <th>0</th>\n",
              "      <td>https://www.autoscout24.com//offers/audi-a1-sp...</td>\n",
              "      <td>Audi A1</td>\n",
              "      <td>Sportback 1.4 TDI S-tronic Xenon Navi Klima</td>\n",
              "      <td>Sedans</td>\n",
              "      <td>15770</td>\n",
              "      <td>VAT deductible</td>\n",
              "      <td>56,013 km</td>\n",
              "      <td>01/2016</td>\n",
              "      <td>2 previous owners</td>\n",
              "      <td>NaN</td>\n",
              "      <td>66 kW</td>\n",
              "      <td>[, Used, , Diesel (Particulate Filter)]</td>\n",
              "      <td>\\n2\\n</td>\n",
              "      <td>[\\n06/2021\\n, \\n99 g CO2/km (comb)\\n]</td>\n",
              "      <td>[\\nYes\\n, \\nEuro 6\\n]</td>\n",
              "      <td>[\\n, \\n, \\n4 (Green)\\n]</td>\n",
              "      <td>[\\n, \\n]</td>\n",
              "      <td>[\\n, \\n]</td>\n",
              "      <td>[]</td>\n",
              "      <td>\\nAudi\\n</td>\n",
              "      <td>[\\n, A1, \\n]</td>\n",
              "      <td>[\\nLR-062483\\n]</td>\n",
              "      <td>[\\n, 2016, \\n]</td>\n",
              "      <td>[\\n, Black, \\n]</td>\n",
              "      <td>[\\nMetallic\\n]</td>\n",
              "      <td>[\\nMythosschwarz\\n]</td>\n",
              "      <td>[\\nCloth, Black\\n]</td>\n",
              "      <td>[\\n, Sedans, \\n]</td>\n",
              "      <td>[\\n5\\n]</td>\n",
              "      <td>[\\n5\\n]</td>\n",
              "      <td>[\\n0588/BDF\\n]</td>\n",
              "      <td>[\\n, Automatic, \\n]</td>\n",
              "      <td>[\\n1,422 cc\\n]</td>\n",
              "      <td>[\\n3\\n]</td>\n",
              "      <td>[\\n1,220 kg\\n]</td>\n",
              "      <td>[\\nfront\\n]</td>\n",
              "      <td>[\\n, Diesel (Particulate Filter), \\n]</td>\n",
              "      <td>[[3.8 l/100 km (comb)], [4.3 l/100 km (city)],...</td>\n",
              "      <td>[\\n99 g CO2/km (comb)\\n]</td>\n",
              "      <td>[\\nEuro 6\\n]</td>\n",
              "      <td>[Air conditioning, Armrest, Automatic climate ...</td>\n",
              "      <td>[Bluetooth, Hands-free equipment, On-board com...</td>\n",
              "      <td>[Alloy wheels, Catalytic Converter, Voice Cont...</td>\n",
              "      <td>[ABS, Central door lock, Daytime running light...</td>\n",
              "      <td>[\\n, Sicherheit:,  , Deaktivierung für Beifahr...</td>\n",
              "      <td>NaN</td>\n",
              "      <td>NaN</td>\n",
              "      <td>NaN</td>\n",
              "      <td>NaN</td>\n",
              "      <td>NaN</td>\n",
              "      <td>NaN</td>\n",
              "      <td>NaN</td>\n",
              "      <td>NaN</td>\n",
              "      <td>NaN</td>\n",
              "    </tr>\n",
              "    <tr>\n",
              "      <th>1</th>\n",
              "      <td>https://www.autoscout24.com//offers/audi-a1-1-...</td>\n",
              "      <td>Audi A1</td>\n",
              "      <td>1.8 TFSI sport</td>\n",
              "      <td>Sedans</td>\n",
              "      <td>14500</td>\n",
              "      <td>Price negotiable</td>\n",
              "      <td>80,000 km</td>\n",
              "      <td>03/2017</td>\n",
              "      <td>None</td>\n",
              "      <td>NaN</td>\n",
              "      <td>141 kW</td>\n",
              "      <td>[, Used, , Gasoline]</td>\n",
              "      <td>NaN</td>\n",
              "      <td>NaN</td>\n",
              "      <td>NaN</td>\n",
              "      <td>NaN</td>\n",
              "      <td>NaN</td>\n",
              "      <td>NaN</td>\n",
              "      <td>[]</td>\n",
              "      <td>\\nAudi\\n</td>\n",
              "      <td>[\\n, A1, \\n]</td>\n",
              "      <td>NaN</td>\n",
              "      <td>[\\n, 2017, \\n]</td>\n",
              "      <td>[\\n, Red, \\n]</td>\n",
              "      <td>NaN</td>\n",
              "      <td>NaN</td>\n",
              "      <td>[\\nCloth, Grey\\n]</td>\n",
              "      <td>[\\n, Sedans, \\n]</td>\n",
              "      <td>[\\n3\\n]</td>\n",
              "      <td>[\\n4\\n]</td>\n",
              "      <td>[\\n0588/BCY\\n]</td>\n",
              "      <td>[\\n, Automatic, \\n]</td>\n",
              "      <td>[\\n1,798 cc\\n]</td>\n",
              "      <td>[\\n4\\n]</td>\n",
              "      <td>[\\n1,255 kg\\n]</td>\n",
              "      <td>[\\nfront\\n]</td>\n",
              "      <td>[\\n, Gasoline, \\n]</td>\n",
              "      <td>[[5.6 l/100 km (comb)], [7.1 l/100 km (city)],...</td>\n",
              "      <td>[\\n129 g CO2/km (comb)\\n]</td>\n",
              "      <td>[\\nEuro 6\\n]</td>\n",
              "      <td>[Air conditioning, Automatic climate control, ...</td>\n",
              "      <td>[Bluetooth, Hands-free equipment, On-board com...</td>\n",
              "      <td>[Alloy wheels, Sport seats, Sport suspension, ...</td>\n",
              "      <td>[ABS, Central door lock, Central door lock wit...</td>\n",
              "      <td>[\\nLangstreckenfahrzeug daher die hohe Kilomet...</td>\n",
              "      <td>[\\n4 (Green)\\n]</td>\n",
              "      <td>[\\n7\\n]</td>\n",
              "      <td>NaN</td>\n",
              "      <td>NaN</td>\n",
              "      <td>NaN</td>\n",
              "      <td>NaN</td>\n",
              "      <td>NaN</td>\n",
              "      <td>NaN</td>\n",
              "      <td>NaN</td>\n",
              "    </tr>\n",
              "    <tr>\n",
              "      <th>2</th>\n",
              "      <td>https://www.autoscout24.com//offers/audi-a1-sp...</td>\n",
              "      <td>Audi A1</td>\n",
              "      <td>Sportback 1.6 TDI S tronic Einparkhilfe plus+m...</td>\n",
              "      <td>Sedans</td>\n",
              "      <td>14640</td>\n",
              "      <td>VAT deductible</td>\n",
              "      <td>83,450 km</td>\n",
              "      <td>02/2016</td>\n",
              "      <td>1 previous owner</td>\n",
              "      <td>NaN</td>\n",
              "      <td>85 kW</td>\n",
              "      <td>[, Used, , Diesel (Particulate Filter)]</td>\n",
              "      <td>\\n1\\n</td>\n",
              "      <td>NaN</td>\n",
              "      <td>NaN</td>\n",
              "      <td>[\\n, \\n, \\n99 g CO2/km (comb)\\n]</td>\n",
              "      <td>NaN</td>\n",
              "      <td>NaN</td>\n",
              "      <td>[]</td>\n",
              "      <td>\\nAudi\\n</td>\n",
              "      <td>[\\n, A1, \\n]</td>\n",
              "      <td>[\\nAM-95365\\n]</td>\n",
              "      <td>[\\n, 2016, \\n]</td>\n",
              "      <td>[\\n, Black, \\n]</td>\n",
              "      <td>[\\nMetallic\\n]</td>\n",
              "      <td>[\\nmythosschwarz metallic\\n]</td>\n",
              "      <td>[\\nCloth, Black\\n]</td>\n",
              "      <td>[\\n, Sedans, \\n]</td>\n",
              "      <td>[\\n4\\n]</td>\n",
              "      <td>[\\n4\\n]</td>\n",
              "      <td>NaN</td>\n",
              "      <td>[\\n, Automatic, \\n]</td>\n",
              "      <td>[\\n1,598 cc\\n]</td>\n",
              "      <td>NaN</td>\n",
              "      <td>NaN</td>\n",
              "      <td>[\\nfront\\n]</td>\n",
              "      <td>[\\n, Diesel (Particulate Filter), \\n]</td>\n",
              "      <td>[[3.8 l/100 km (comb)], [4.4 l/100 km (city)],...</td>\n",
              "      <td>[\\n99 g CO2/km (comb)\\n]</td>\n",
              "      <td>[\\nEuro 6\\n]</td>\n",
              "      <td>[Air conditioning, Cruise control, Electrical ...</td>\n",
              "      <td>[MP3, On-board computer]</td>\n",
              "      <td>[Alloy wheels, Voice Control]</td>\n",
              "      <td>[ABS, Central door lock, Daytime running light...</td>\n",
              "      <td>[\\n, Fahrzeug-Nummer: AM-95365,  , Ehem. UPE 2...</td>\n",
              "      <td>[\\n4 (Green)\\n]</td>\n",
              "      <td>NaN</td>\n",
              "      <td>NaN</td>\n",
              "      <td>NaN</td>\n",
              "      <td>NaN</td>\n",
              "      <td>NaN</td>\n",
              "      <td>NaN</td>\n",
              "      <td>NaN</td>\n",
              "      <td>NaN</td>\n",
              "    </tr>\n",
              "    <tr>\n",
              "      <th>3</th>\n",
              "      <td>https://www.autoscout24.com//offers/audi-a1-1-...</td>\n",
              "      <td>Audi A1</td>\n",
              "      <td>1.4 TDi Design S tronic</td>\n",
              "      <td>Sedans</td>\n",
              "      <td>14500</td>\n",
              "      <td>None</td>\n",
              "      <td>73,000 km</td>\n",
              "      <td>08/2016</td>\n",
              "      <td>1 previous owner</td>\n",
              "      <td>NaN</td>\n",
              "      <td>66 kW</td>\n",
              "      <td>[, Used, , Diesel (Particulate Filter)]</td>\n",
              "      <td>\\n1\\n</td>\n",
              "      <td>NaN</td>\n",
              "      <td>NaN</td>\n",
              "      <td>NaN</td>\n",
              "      <td>[\\n, \\n, \\n99 g CO2/km (comb)\\n]</td>\n",
              "      <td>[\\n, \\n, \\nEuro 6\\n]</td>\n",
              "      <td>[]</td>\n",
              "      <td>\\nAudi\\n</td>\n",
              "      <td>[\\n, A1, \\n]</td>\n",
              "      <td>NaN</td>\n",
              "      <td>[\\n, 2016, \\n]</td>\n",
              "      <td>[\\n, Brown, \\n]</td>\n",
              "      <td>[\\nMetallic\\n]</td>\n",
              "      <td>NaN</td>\n",
              "      <td>NaN</td>\n",
              "      <td>[\\n, Sedans, \\n]</td>\n",
              "      <td>[\\n3\\n]</td>\n",
              "      <td>[\\n4\\n]</td>\n",
              "      <td>NaN</td>\n",
              "      <td>[\\n, Automatic, \\n]</td>\n",
              "      <td>[\\n1,422 cc\\n]</td>\n",
              "      <td>[\\n3\\n]</td>\n",
              "      <td>[\\n1,195 kg\\n]</td>\n",
              "      <td>NaN</td>\n",
              "      <td>[\\n, Diesel (Particulate Filter), \\n]</td>\n",
              "      <td>[[3.8 l/100 km (comb)], [4.3 l/100 km (city)],...</td>\n",
              "      <td>[\\n99 g CO2/km (comb)\\n]</td>\n",
              "      <td>[\\nEuro 6\\n]</td>\n",
              "      <td>[Air suspension, Armrest, Auxiliary heating, E...</td>\n",
              "      <td>[Bluetooth, CD player, Hands-free equipment, M...</td>\n",
              "      <td>[Alloy wheels, Sport seats, Voice Control]</td>\n",
              "      <td>[ABS, Alarm system, Central door lock with rem...</td>\n",
              "      <td>[\\nAudi A1: , - 1e eigenaar , - Perfecte staat...</td>\n",
              "      <td>NaN</td>\n",
              "      <td>[\\n6\\n]</td>\n",
              "      <td>NaN</td>\n",
              "      <td>NaN</td>\n",
              "      <td>NaN</td>\n",
              "      <td>NaN</td>\n",
              "      <td>NaN</td>\n",
              "      <td>NaN</td>\n",
              "      <td>NaN</td>\n",
              "    </tr>\n",
              "    <tr>\n",
              "      <th>4</th>\n",
              "      <td>https://www.autoscout24.com//offers/audi-a1-sp...</td>\n",
              "      <td>Audi A1</td>\n",
              "      <td>Sportback 1.4 TDI S-Tronic S-Line Ext. admired...</td>\n",
              "      <td>Sedans</td>\n",
              "      <td>16790</td>\n",
              "      <td>None</td>\n",
              "      <td>16,200 km</td>\n",
              "      <td>05/2016</td>\n",
              "      <td>1 previous owner</td>\n",
              "      <td>NaN</td>\n",
              "      <td>66 kW</td>\n",
              "      <td>[, Used, , Diesel (Particulate Filter)]</td>\n",
              "      <td>\\n1\\n</td>\n",
              "      <td>NaN</td>\n",
              "      <td>[\\nYes\\n, \\n109 g CO2/km (comb)\\n]</td>\n",
              "      <td>[\\n, \\n, \\nEuro 6\\n]</td>\n",
              "      <td>[\\n, \\n, \\n4 (Green)\\n]</td>\n",
              "      <td>[\\n, \\n]</td>\n",
              "      <td>[]</td>\n",
              "      <td>\\nAudi\\n</td>\n",
              "      <td>[\\n, A1, \\n]</td>\n",
              "      <td>[\\nC1626\\n]</td>\n",
              "      <td>[\\n, 2016, \\n]</td>\n",
              "      <td>[\\n, Black, \\n]</td>\n",
              "      <td>[\\nMetallic\\n]</td>\n",
              "      <td>[\\nMythosschwarz Metallic\\n]</td>\n",
              "      <td>[\\nCloth, Black\\n]</td>\n",
              "      <td>[\\n, Sedans, \\n]</td>\n",
              "      <td>[\\n5\\n]</td>\n",
              "      <td>[\\n5\\n]</td>\n",
              "      <td>[\\n0588/BDF\\n]</td>\n",
              "      <td>[\\n, Automatic, \\n]</td>\n",
              "      <td>[\\n1,422 cc\\n]</td>\n",
              "      <td>[\\n3\\n]</td>\n",
              "      <td>NaN</td>\n",
              "      <td>[\\nfront\\n]</td>\n",
              "      <td>[\\n, Diesel (Particulate Filter), \\n]</td>\n",
              "      <td>[[4.1 l/100 km (comb)], [4.6 l/100 km (city)],...</td>\n",
              "      <td>[\\n109 g CO2/km (comb)\\n]</td>\n",
              "      <td>[\\nEuro 6\\n]</td>\n",
              "      <td>[Air conditioning, Armrest, Automatic climate ...</td>\n",
              "      <td>[Bluetooth, CD player, Hands-free equipment, M...</td>\n",
              "      <td>[Alloy wheels, Sport package, Sport suspension...</td>\n",
              "      <td>[ABS, Central door lock, Driver-side airbag, E...</td>\n",
              "      <td>[\\n, Technik &amp; Sicherheit:, Xenon plus, Klimaa...</td>\n",
              "      <td>NaN</td>\n",
              "      <td>NaN</td>\n",
              "      <td>[\\nGermany\\n]</td>\n",
              "      <td>NaN</td>\n",
              "      <td>NaN</td>\n",
              "      <td>NaN</td>\n",
              "      <td>NaN</td>\n",
              "      <td>NaN</td>\n",
              "      <td>NaN</td>\n",
              "    </tr>\n",
              "  </tbody>\n",
              "</table>\n",
              "</div>\n",
              "      <button class=\"colab-df-convert\" onclick=\"convertToInteractive('df-c930fb37-f8f0-4c66-bce0-e6a0bc8dd6e8')\"\n",
              "              title=\"Convert this dataframe to an interactive table.\"\n",
              "              style=\"display:none;\">\n",
              "        \n",
              "  <svg xmlns=\"http://www.w3.org/2000/svg\" height=\"24px\"viewBox=\"0 0 24 24\"\n",
              "       width=\"24px\">\n",
              "    <path d=\"M0 0h24v24H0V0z\" fill=\"none\"/>\n",
              "    <path d=\"M18.56 5.44l.94 2.06.94-2.06 2.06-.94-2.06-.94-.94-2.06-.94 2.06-2.06.94zm-11 1L8.5 8.5l.94-2.06 2.06-.94-2.06-.94L8.5 2.5l-.94 2.06-2.06.94zm10 10l.94 2.06.94-2.06 2.06-.94-2.06-.94-.94-2.06-.94 2.06-2.06.94z\"/><path d=\"M17.41 7.96l-1.37-1.37c-.4-.4-.92-.59-1.43-.59-.52 0-1.04.2-1.43.59L10.3 9.45l-7.72 7.72c-.78.78-.78 2.05 0 2.83L4 21.41c.39.39.9.59 1.41.59.51 0 1.02-.2 1.41-.59l7.78-7.78 2.81-2.81c.8-.78.8-2.07 0-2.86zM5.41 20L4 18.59l7.72-7.72 1.47 1.35L5.41 20z\"/>\n",
              "  </svg>\n",
              "      </button>\n",
              "      \n",
              "  <style>\n",
              "    .colab-df-container {\n",
              "      display:flex;\n",
              "      flex-wrap:wrap;\n",
              "      gap: 12px;\n",
              "    }\n",
              "\n",
              "    .colab-df-convert {\n",
              "      background-color: #E8F0FE;\n",
              "      border: none;\n",
              "      border-radius: 50%;\n",
              "      cursor: pointer;\n",
              "      display: none;\n",
              "      fill: #1967D2;\n",
              "      height: 32px;\n",
              "      padding: 0 0 0 0;\n",
              "      width: 32px;\n",
              "    }\n",
              "\n",
              "    .colab-df-convert:hover {\n",
              "      background-color: #E2EBFA;\n",
              "      box-shadow: 0px 1px 2px rgba(60, 64, 67, 0.3), 0px 1px 3px 1px rgba(60, 64, 67, 0.15);\n",
              "      fill: #174EA6;\n",
              "    }\n",
              "\n",
              "    [theme=dark] .colab-df-convert {\n",
              "      background-color: #3B4455;\n",
              "      fill: #D2E3FC;\n",
              "    }\n",
              "\n",
              "    [theme=dark] .colab-df-convert:hover {\n",
              "      background-color: #434B5C;\n",
              "      box-shadow: 0px 1px 3px 1px rgba(0, 0, 0, 0.15);\n",
              "      filter: drop-shadow(0px 1px 2px rgba(0, 0, 0, 0.3));\n",
              "      fill: #FFFFFF;\n",
              "    }\n",
              "  </style>\n",
              "\n",
              "      <script>\n",
              "        const buttonEl =\n",
              "          document.querySelector('#df-c930fb37-f8f0-4c66-bce0-e6a0bc8dd6e8 button.colab-df-convert');\n",
              "        buttonEl.style.display =\n",
              "          google.colab.kernel.accessAllowed ? 'block' : 'none';\n",
              "\n",
              "        async function convertToInteractive(key) {\n",
              "          const element = document.querySelector('#df-c930fb37-f8f0-4c66-bce0-e6a0bc8dd6e8');\n",
              "          const dataTable =\n",
              "            await google.colab.kernel.invokeFunction('convertToInteractive',\n",
              "                                                     [key], {});\n",
              "          if (!dataTable) return;\n",
              "\n",
              "          const docLinkHtml = 'Like what you see? Visit the ' +\n",
              "            '<a target=\"_blank\" href=https://colab.research.google.com/notebooks/data_table.ipynb>data table notebook</a>'\n",
              "            + ' to learn more about interactive tables.';\n",
              "          element.innerHTML = '';\n",
              "          dataTable['output_type'] = 'display_data';\n",
              "          await google.colab.output.renderOutput(dataTable, element);\n",
              "          const docLink = document.createElement('div');\n",
              "          docLink.innerHTML = docLinkHtml;\n",
              "          element.appendChild(docLink);\n",
              "        }\n",
              "      </script>\n",
              "    </div>\n",
              "  </div>\n",
              "  "
            ]
          },
          "metadata": {},
          "execution_count": 107
        }
      ],
      "source": [
        "df0 = pd.read_json('/content/drive/MyDrive/Colab Notebooks/Auto Scout EDA/scout_car.json', lines= True)\n",
        "df = df0.copy()\n",
        "df.head()"
      ]
    },
    {
      "cell_type": "code",
      "execution_count": 108,
      "metadata": {
        "colab": {
          "base_uri": "https://localhost:8080/",
          "height": 1000
        },
        "id": "PCxvOPlMmLdG",
        "outputId": "0c1c8154-7d1c-4851-f7ff-777c3b562976"
      },
      "outputs": [
        {
          "output_type": "execute_result",
          "data": {
            "text/plain": [
              "                                                                           9515   \\\n",
              "url                            https://www.autoscout24.com//offers/opel-corsa...   \n",
              "make_model                                                            Opel Corsa   \n",
              "short_description                      E 1.4 Edition*Klima*USB*90PS*wie NEU 2018   \n",
              "body_type                                                                Compact   \n",
              "price                                                                       9777   \n",
              "vat                                                               VAT deductible   \n",
              "km                                                                      8,990 km   \n",
              "registration                                                             01/2018   \n",
              "prev_owner                                                      1 previous owner   \n",
              "kW                                                                           NaN   \n",
              "hp                                                                         66 kW   \n",
              "Type                                                        [, Used, , Super 95]   \n",
              "Previous Owners                                                            \\n1\\n   \n",
              "Next Inspection                           [\\n01/2021\\n, \\n123 g CO2/km (comb)\\n]   \n",
              "Inspection new                                                               NaN   \n",
              "Warranty                                                    [\\n, \\n, \\nEuro 6\\n]   \n",
              "Full Service                                             [\\n, \\n, \\n4 (Green)\\n]   \n",
              "Non-smoking Vehicle                                                     [\\n, \\n]   \n",
              "null                                                                          []   \n",
              "Make                                                                    \\nOpel\\n   \n",
              "Model                                                            [\\n, Corsa, \\n]   \n",
              "Offer Number                                                          [\\n5105\\n]   \n",
              "First Registration                                                [\\n, 2018, \\n]   \n",
              "Body Color                                                       [\\n, White, \\n]   \n",
              "Paint Type                                                                   NaN   \n",
              "Body Color Original                                            [\\nSchneeWeiss\\n]   \n",
              "Upholstery                                                    [\\nCloth, Black\\n]   \n",
              "Body                                                           [\\n, Compact, \\n]   \n",
              "Nr. of Doors                                                             [\\n2\\n]   \n",
              "Nr. of Seats                                                             [\\n5\\n]   \n",
              "Model Code                                                                   NaN   \n",
              "Gearing Type                                                    [\\n, Manual, \\n]   \n",
              "Displacement                                                      [\\n1,398 cc\\n]   \n",
              "Cylinders                                                                    NaN   \n",
              "Weight                                                                       NaN   \n",
              "Drive chain                                                                  NaN   \n",
              "Fuel                                                          [\\n, Super 95, \\n]   \n",
              "Consumption                    [[5.2 l/100 km (comb)], [6.6 l/100 km (city)],...   \n",
              "CO2 Emission                                           [\\n123 g CO2/km (comb)\\n]   \n",
              "Emission Class                                                      [\\nEuro 6\\n]   \n",
              "\\nComfort & Convenience\\n      [Air conditioning, Electrical side mirrors, Hi...   \n",
              "\\nEntertainment & Media\\n      [Bluetooth, CD player, Hands-free equipment, O...   \n",
              "\\nExtras\\n                                                                   NaN   \n",
              "\\nSafety & Security\\n          [ABS, Central door lock, Daytime running light...   \n",
              "description                    [\\n, PKW Nummer: 5105, Preisreduzierter Corsa ...   \n",
              "Emission Label                                                               NaN   \n",
              "Gears                                                                        NaN   \n",
              "Country version                                                    [\\nGermany\\n]   \n",
              "Electricity consumption                                                      NaN   \n",
              "Last Service Date                                                            NaN   \n",
              "Other Fuel Types                                                             NaN   \n",
              "Availability                                                                 NaN   \n",
              "Last Timing Belt Service Date                                                NaN   \n",
              "Available from                                                               NaN   \n",
              "\n",
              "                                                                           6549   \\\n",
              "url                            https://www.autoscout24.com//offers/opel-astra...   \n",
              "make_model                                                            Opel Astra   \n",
              "short_description                              K 1.4 Selection*Alu*FSA*Klima*ZV*   \n",
              "body_type                                                                 Sedans   \n",
              "price                                                                      10990   \n",
              "vat                                                                         None   \n",
              "km                                                                      3,898 km   \n",
              "registration                                                             05/2017   \n",
              "prev_owner                                                      1 previous owner   \n",
              "kW                                                                           NaN   \n",
              "hp                                                                         74 kW   \n",
              "Type                                                        [, Used, , Gasoline]   \n",
              "Previous Owners                                                            \\n1\\n   \n",
              "Next Inspection                                                              NaN   \n",
              "Inspection new                                                               NaN   \n",
              "Warranty                                                                     NaN   \n",
              "Full Service                                   [\\n, \\n, \\n128 g CO2/km (comb)\\n]   \n",
              "Non-smoking Vehicle                                         [\\n, \\n, \\nEuro 6\\n]   \n",
              "null                                                                          []   \n",
              "Make                                                                    \\nOpel\\n   \n",
              "Model                                                            [\\n, Astra, \\n]   \n",
              "Offer Number                                                       [\\nLT67679\\n]   \n",
              "First Registration                                                [\\n, 2017, \\n]   \n",
              "Body Color                                                      [\\n, Silver, \\n]   \n",
              "Paint Type                                                        [\\nMetallic\\n]   \n",
              "Body Color Original                                                          NaN   \n",
              "Upholstery                                                    [\\nCloth, Black\\n]   \n",
              "Body                                                            [\\n, Sedans, \\n]   \n",
              "Nr. of Doors                                                             [\\n4\\n]   \n",
              "Nr. of Seats                                                             [\\n5\\n]   \n",
              "Model Code                                                                   NaN   \n",
              "Gearing Type                                                    [\\n, Manual, \\n]   \n",
              "Displacement                                                      [\\n1,399 cc\\n]   \n",
              "Cylinders                                                                    NaN   \n",
              "Weight                                                                       NaN   \n",
              "Drive chain                                                                  NaN   \n",
              "Fuel                                                          [\\n, Gasoline, \\n]   \n",
              "Consumption                    [[5.4 l/100 km (comb)], [7.4 l/100 km (city)],...   \n",
              "CO2 Emission                                           [\\n128 g CO2/km (comb)\\n]   \n",
              "Emission Class                                                      [\\nEuro 6\\n]   \n",
              "\\nComfort & Convenience\\n      [Air conditioning, Electrical side mirrors, Hi...   \n",
              "\\nEntertainment & Media\\n      [Bluetooth, Hands-free equipment, On-board com...   \n",
              "\\nExtras\\n                                                        [Alloy wheels]   \n",
              "\\nSafety & Security\\n          [ABS, Central door lock, Daytime running light...   \n",
              "description                    [\\n, Fahrzeugbeschreibung,  Sichern Sie sich d...   \n",
              "Emission Label                                                   [\\n4 (Green)\\n]   \n",
              "Gears                                                                        NaN   \n",
              "Country version                                                              NaN   \n",
              "Electricity consumption                                                      NaN   \n",
              "Last Service Date                                                            NaN   \n",
              "Other Fuel Types                                                             NaN   \n",
              "Availability                                                                 NaN   \n",
              "Last Timing Belt Service Date                                                NaN   \n",
              "Available from                                                               NaN   \n",
              "\n",
              "                                                                           14368  \n",
              "url                            https://www.autoscout24.com//offers/renault-cl...  \n",
              "make_model                                                          Renault Clio  \n",
              "short_description                1.6 T 220 EDC 18 RS CUIR CAMERA MONITOR SUPERBE  \n",
              "body_type                                                                 Sedans  \n",
              "price                                                                      25990  \n",
              "vat                                                                         None  \n",
              "km                                                                      7,900 km  \n",
              "registration                                                             07/2018  \n",
              "prev_owner                                                      1 previous owner  \n",
              "kW                                                                           NaN  \n",
              "hp                                                                        162 kW  \n",
              "Type                                                        [, Used, , Gasoline]  \n",
              "Previous Owners                                                            \\n1\\n  \n",
              "Next Inspection                                                              NaN  \n",
              "Inspection new                                                               NaN  \n",
              "Warranty                                [\\n14 months\\n, \\n135 g CO2/km (comb)\\n]  \n",
              "Full Service                                                [\\n, \\n, \\nEuro 6\\n]  \n",
              "Non-smoking Vehicle                                                          NaN  \n",
              "null                                                                          []  \n",
              "Make                                                                 \\nRenault\\n  \n",
              "Model                                                             [\\n, Clio, \\n]  \n",
              "Offer Number                                                                 NaN  \n",
              "First Registration                                                [\\n, 2018, \\n]  \n",
              "Body Color                                                       [\\n, Black, \\n]  \n",
              "Paint Type                                                        [\\nMetallic\\n]  \n",
              "Body Color Original                                                 [\\nEtoile\\n]  \n",
              "Upholstery                                             [\\nFull leather, Black\\n]  \n",
              "Body                                                            [\\n, Sedans, \\n]  \n",
              "Nr. of Doors                                                             [\\n5\\n]  \n",
              "Nr. of Seats                                                             [\\n5\\n]  \n",
              "Model Code                                                                   NaN  \n",
              "Gearing Type                                                 [\\n, Automatic, \\n]  \n",
              "Displacement                                                      [\\n1,618 cc\\n]  \n",
              "Cylinders                                                                [\\n4\\n]  \n",
              "Weight                                                            [\\n1,204 kg\\n]  \n",
              "Drive chain                                                          [\\nfront\\n]  \n",
              "Fuel                                                          [\\n, Gasoline, \\n]  \n",
              "Consumption                    [[5.9 l/100 km (comb)], [7.6 l/100 km (city)],...  \n",
              "CO2 Emission                                           [\\n135 g CO2/km (comb)\\n]  \n",
              "Emission Class                                                      [\\nEuro 6\\n]  \n",
              "\\nComfort & Convenience\\n      [Air conditioning, Automatic climate control, ...  \n",
              "\\nEntertainment & Media\\n      [Bluetooth, CD player, Hands-free equipment, O...  \n",
              "\\nExtras\\n                     [Alloy wheels, Sport package, Sport seats, Spo...  \n",
              "\\nSafety & Security\\n          [ABS, Central door lock, Central door lock wit...  \n",
              "description                    [\\nAUTO PASSION 18 SPECIALISTE DE L'AUTOMOBILE...  \n",
              "Emission Label                                                               NaN  \n",
              "Gears                                                                    [\\n6\\n]  \n",
              "Country version                                                     [\\nFrance\\n]  \n",
              "Electricity consumption                                                      NaN  \n",
              "Last Service Date                                                            NaN  \n",
              "Other Fuel Types                                                             NaN  \n",
              "Availability                                                                 NaN  \n",
              "Last Timing Belt Service Date                                                NaN  \n",
              "Available from                                                               NaN  "
            ],
            "text/html": [
              "\n",
              "  <div id=\"df-14b9f367-63cd-472e-adf1-9cc372e4b907\">\n",
              "    <div class=\"colab-df-container\">\n",
              "      <div>\n",
              "<style scoped>\n",
              "    .dataframe tbody tr th:only-of-type {\n",
              "        vertical-align: middle;\n",
              "    }\n",
              "\n",
              "    .dataframe tbody tr th {\n",
              "        vertical-align: top;\n",
              "    }\n",
              "\n",
              "    .dataframe thead th {\n",
              "        text-align: right;\n",
              "    }\n",
              "</style>\n",
              "<table border=\"1\" class=\"dataframe\">\n",
              "  <thead>\n",
              "    <tr style=\"text-align: right;\">\n",
              "      <th></th>\n",
              "      <th>9515</th>\n",
              "      <th>6549</th>\n",
              "      <th>14368</th>\n",
              "    </tr>\n",
              "  </thead>\n",
              "  <tbody>\n",
              "    <tr>\n",
              "      <th>url</th>\n",
              "      <td>https://www.autoscout24.com//offers/opel-corsa...</td>\n",
              "      <td>https://www.autoscout24.com//offers/opel-astra...</td>\n",
              "      <td>https://www.autoscout24.com//offers/renault-cl...</td>\n",
              "    </tr>\n",
              "    <tr>\n",
              "      <th>make_model</th>\n",
              "      <td>Opel Corsa</td>\n",
              "      <td>Opel Astra</td>\n",
              "      <td>Renault Clio</td>\n",
              "    </tr>\n",
              "    <tr>\n",
              "      <th>short_description</th>\n",
              "      <td>E 1.4 Edition*Klima*USB*90PS*wie NEU 2018</td>\n",
              "      <td>K 1.4 Selection*Alu*FSA*Klima*ZV*</td>\n",
              "      <td>1.6 T 220 EDC 18 RS CUIR CAMERA MONITOR SUPERBE</td>\n",
              "    </tr>\n",
              "    <tr>\n",
              "      <th>body_type</th>\n",
              "      <td>Compact</td>\n",
              "      <td>Sedans</td>\n",
              "      <td>Sedans</td>\n",
              "    </tr>\n",
              "    <tr>\n",
              "      <th>price</th>\n",
              "      <td>9777</td>\n",
              "      <td>10990</td>\n",
              "      <td>25990</td>\n",
              "    </tr>\n",
              "    <tr>\n",
              "      <th>vat</th>\n",
              "      <td>VAT deductible</td>\n",
              "      <td>None</td>\n",
              "      <td>None</td>\n",
              "    </tr>\n",
              "    <tr>\n",
              "      <th>km</th>\n",
              "      <td>8,990 km</td>\n",
              "      <td>3,898 km</td>\n",
              "      <td>7,900 km</td>\n",
              "    </tr>\n",
              "    <tr>\n",
              "      <th>registration</th>\n",
              "      <td>01/2018</td>\n",
              "      <td>05/2017</td>\n",
              "      <td>07/2018</td>\n",
              "    </tr>\n",
              "    <tr>\n",
              "      <th>prev_owner</th>\n",
              "      <td>1 previous owner</td>\n",
              "      <td>1 previous owner</td>\n",
              "      <td>1 previous owner</td>\n",
              "    </tr>\n",
              "    <tr>\n",
              "      <th>kW</th>\n",
              "      <td>NaN</td>\n",
              "      <td>NaN</td>\n",
              "      <td>NaN</td>\n",
              "    </tr>\n",
              "    <tr>\n",
              "      <th>hp</th>\n",
              "      <td>66 kW</td>\n",
              "      <td>74 kW</td>\n",
              "      <td>162 kW</td>\n",
              "    </tr>\n",
              "    <tr>\n",
              "      <th>Type</th>\n",
              "      <td>[, Used, , Super 95]</td>\n",
              "      <td>[, Used, , Gasoline]</td>\n",
              "      <td>[, Used, , Gasoline]</td>\n",
              "    </tr>\n",
              "    <tr>\n",
              "      <th>Previous Owners</th>\n",
              "      <td>\\n1\\n</td>\n",
              "      <td>\\n1\\n</td>\n",
              "      <td>\\n1\\n</td>\n",
              "    </tr>\n",
              "    <tr>\n",
              "      <th>Next Inspection</th>\n",
              "      <td>[\\n01/2021\\n, \\n123 g CO2/km (comb)\\n]</td>\n",
              "      <td>NaN</td>\n",
              "      <td>NaN</td>\n",
              "    </tr>\n",
              "    <tr>\n",
              "      <th>Inspection new</th>\n",
              "      <td>NaN</td>\n",
              "      <td>NaN</td>\n",
              "      <td>NaN</td>\n",
              "    </tr>\n",
              "    <tr>\n",
              "      <th>Warranty</th>\n",
              "      <td>[\\n, \\n, \\nEuro 6\\n]</td>\n",
              "      <td>NaN</td>\n",
              "      <td>[\\n14 months\\n, \\n135 g CO2/km (comb)\\n]</td>\n",
              "    </tr>\n",
              "    <tr>\n",
              "      <th>Full Service</th>\n",
              "      <td>[\\n, \\n, \\n4 (Green)\\n]</td>\n",
              "      <td>[\\n, \\n, \\n128 g CO2/km (comb)\\n]</td>\n",
              "      <td>[\\n, \\n, \\nEuro 6\\n]</td>\n",
              "    </tr>\n",
              "    <tr>\n",
              "      <th>Non-smoking Vehicle</th>\n",
              "      <td>[\\n, \\n]</td>\n",
              "      <td>[\\n, \\n, \\nEuro 6\\n]</td>\n",
              "      <td>NaN</td>\n",
              "    </tr>\n",
              "    <tr>\n",
              "      <th>null</th>\n",
              "      <td>[]</td>\n",
              "      <td>[]</td>\n",
              "      <td>[]</td>\n",
              "    </tr>\n",
              "    <tr>\n",
              "      <th>Make</th>\n",
              "      <td>\\nOpel\\n</td>\n",
              "      <td>\\nOpel\\n</td>\n",
              "      <td>\\nRenault\\n</td>\n",
              "    </tr>\n",
              "    <tr>\n",
              "      <th>Model</th>\n",
              "      <td>[\\n, Corsa, \\n]</td>\n",
              "      <td>[\\n, Astra, \\n]</td>\n",
              "      <td>[\\n, Clio, \\n]</td>\n",
              "    </tr>\n",
              "    <tr>\n",
              "      <th>Offer Number</th>\n",
              "      <td>[\\n5105\\n]</td>\n",
              "      <td>[\\nLT67679\\n]</td>\n",
              "      <td>NaN</td>\n",
              "    </tr>\n",
              "    <tr>\n",
              "      <th>First Registration</th>\n",
              "      <td>[\\n, 2018, \\n]</td>\n",
              "      <td>[\\n, 2017, \\n]</td>\n",
              "      <td>[\\n, 2018, \\n]</td>\n",
              "    </tr>\n",
              "    <tr>\n",
              "      <th>Body Color</th>\n",
              "      <td>[\\n, White, \\n]</td>\n",
              "      <td>[\\n, Silver, \\n]</td>\n",
              "      <td>[\\n, Black, \\n]</td>\n",
              "    </tr>\n",
              "    <tr>\n",
              "      <th>Paint Type</th>\n",
              "      <td>NaN</td>\n",
              "      <td>[\\nMetallic\\n]</td>\n",
              "      <td>[\\nMetallic\\n]</td>\n",
              "    </tr>\n",
              "    <tr>\n",
              "      <th>Body Color Original</th>\n",
              "      <td>[\\nSchneeWeiss\\n]</td>\n",
              "      <td>NaN</td>\n",
              "      <td>[\\nEtoile\\n]</td>\n",
              "    </tr>\n",
              "    <tr>\n",
              "      <th>Upholstery</th>\n",
              "      <td>[\\nCloth, Black\\n]</td>\n",
              "      <td>[\\nCloth, Black\\n]</td>\n",
              "      <td>[\\nFull leather, Black\\n]</td>\n",
              "    </tr>\n",
              "    <tr>\n",
              "      <th>Body</th>\n",
              "      <td>[\\n, Compact, \\n]</td>\n",
              "      <td>[\\n, Sedans, \\n]</td>\n",
              "      <td>[\\n, Sedans, \\n]</td>\n",
              "    </tr>\n",
              "    <tr>\n",
              "      <th>Nr. of Doors</th>\n",
              "      <td>[\\n2\\n]</td>\n",
              "      <td>[\\n4\\n]</td>\n",
              "      <td>[\\n5\\n]</td>\n",
              "    </tr>\n",
              "    <tr>\n",
              "      <th>Nr. of Seats</th>\n",
              "      <td>[\\n5\\n]</td>\n",
              "      <td>[\\n5\\n]</td>\n",
              "      <td>[\\n5\\n]</td>\n",
              "    </tr>\n",
              "    <tr>\n",
              "      <th>Model Code</th>\n",
              "      <td>NaN</td>\n",
              "      <td>NaN</td>\n",
              "      <td>NaN</td>\n",
              "    </tr>\n",
              "    <tr>\n",
              "      <th>Gearing Type</th>\n",
              "      <td>[\\n, Manual, \\n]</td>\n",
              "      <td>[\\n, Manual, \\n]</td>\n",
              "      <td>[\\n, Automatic, \\n]</td>\n",
              "    </tr>\n",
              "    <tr>\n",
              "      <th>Displacement</th>\n",
              "      <td>[\\n1,398 cc\\n]</td>\n",
              "      <td>[\\n1,399 cc\\n]</td>\n",
              "      <td>[\\n1,618 cc\\n]</td>\n",
              "    </tr>\n",
              "    <tr>\n",
              "      <th>Cylinders</th>\n",
              "      <td>NaN</td>\n",
              "      <td>NaN</td>\n",
              "      <td>[\\n4\\n]</td>\n",
              "    </tr>\n",
              "    <tr>\n",
              "      <th>Weight</th>\n",
              "      <td>NaN</td>\n",
              "      <td>NaN</td>\n",
              "      <td>[\\n1,204 kg\\n]</td>\n",
              "    </tr>\n",
              "    <tr>\n",
              "      <th>Drive chain</th>\n",
              "      <td>NaN</td>\n",
              "      <td>NaN</td>\n",
              "      <td>[\\nfront\\n]</td>\n",
              "    </tr>\n",
              "    <tr>\n",
              "      <th>Fuel</th>\n",
              "      <td>[\\n, Super 95, \\n]</td>\n",
              "      <td>[\\n, Gasoline, \\n]</td>\n",
              "      <td>[\\n, Gasoline, \\n]</td>\n",
              "    </tr>\n",
              "    <tr>\n",
              "      <th>Consumption</th>\n",
              "      <td>[[5.2 l/100 km (comb)], [6.6 l/100 km (city)],...</td>\n",
              "      <td>[[5.4 l/100 km (comb)], [7.4 l/100 km (city)],...</td>\n",
              "      <td>[[5.9 l/100 km (comb)], [7.6 l/100 km (city)],...</td>\n",
              "    </tr>\n",
              "    <tr>\n",
              "      <th>CO2 Emission</th>\n",
              "      <td>[\\n123 g CO2/km (comb)\\n]</td>\n",
              "      <td>[\\n128 g CO2/km (comb)\\n]</td>\n",
              "      <td>[\\n135 g CO2/km (comb)\\n]</td>\n",
              "    </tr>\n",
              "    <tr>\n",
              "      <th>Emission Class</th>\n",
              "      <td>[\\nEuro 6\\n]</td>\n",
              "      <td>[\\nEuro 6\\n]</td>\n",
              "      <td>[\\nEuro 6\\n]</td>\n",
              "    </tr>\n",
              "    <tr>\n",
              "      <th>\\nComfort &amp; Convenience\\n</th>\n",
              "      <td>[Air conditioning, Electrical side mirrors, Hi...</td>\n",
              "      <td>[Air conditioning, Electrical side mirrors, Hi...</td>\n",
              "      <td>[Air conditioning, Automatic climate control, ...</td>\n",
              "    </tr>\n",
              "    <tr>\n",
              "      <th>\\nEntertainment &amp; Media\\n</th>\n",
              "      <td>[Bluetooth, CD player, Hands-free equipment, O...</td>\n",
              "      <td>[Bluetooth, Hands-free equipment, On-board com...</td>\n",
              "      <td>[Bluetooth, CD player, Hands-free equipment, O...</td>\n",
              "    </tr>\n",
              "    <tr>\n",
              "      <th>\\nExtras\\n</th>\n",
              "      <td>NaN</td>\n",
              "      <td>[Alloy wheels]</td>\n",
              "      <td>[Alloy wheels, Sport package, Sport seats, Spo...</td>\n",
              "    </tr>\n",
              "    <tr>\n",
              "      <th>\\nSafety &amp; Security\\n</th>\n",
              "      <td>[ABS, Central door lock, Daytime running light...</td>\n",
              "      <td>[ABS, Central door lock, Daytime running light...</td>\n",
              "      <td>[ABS, Central door lock, Central door lock wit...</td>\n",
              "    </tr>\n",
              "    <tr>\n",
              "      <th>description</th>\n",
              "      <td>[\\n, PKW Nummer: 5105, Preisreduzierter Corsa ...</td>\n",
              "      <td>[\\n, Fahrzeugbeschreibung,  Sichern Sie sich d...</td>\n",
              "      <td>[\\nAUTO PASSION 18 SPECIALISTE DE L'AUTOMOBILE...</td>\n",
              "    </tr>\n",
              "    <tr>\n",
              "      <th>Emission Label</th>\n",
              "      <td>NaN</td>\n",
              "      <td>[\\n4 (Green)\\n]</td>\n",
              "      <td>NaN</td>\n",
              "    </tr>\n",
              "    <tr>\n",
              "      <th>Gears</th>\n",
              "      <td>NaN</td>\n",
              "      <td>NaN</td>\n",
              "      <td>[\\n6\\n]</td>\n",
              "    </tr>\n",
              "    <tr>\n",
              "      <th>Country version</th>\n",
              "      <td>[\\nGermany\\n]</td>\n",
              "      <td>NaN</td>\n",
              "      <td>[\\nFrance\\n]</td>\n",
              "    </tr>\n",
              "    <tr>\n",
              "      <th>Electricity consumption</th>\n",
              "      <td>NaN</td>\n",
              "      <td>NaN</td>\n",
              "      <td>NaN</td>\n",
              "    </tr>\n",
              "    <tr>\n",
              "      <th>Last Service Date</th>\n",
              "      <td>NaN</td>\n",
              "      <td>NaN</td>\n",
              "      <td>NaN</td>\n",
              "    </tr>\n",
              "    <tr>\n",
              "      <th>Other Fuel Types</th>\n",
              "      <td>NaN</td>\n",
              "      <td>NaN</td>\n",
              "      <td>NaN</td>\n",
              "    </tr>\n",
              "    <tr>\n",
              "      <th>Availability</th>\n",
              "      <td>NaN</td>\n",
              "      <td>NaN</td>\n",
              "      <td>NaN</td>\n",
              "    </tr>\n",
              "    <tr>\n",
              "      <th>Last Timing Belt Service Date</th>\n",
              "      <td>NaN</td>\n",
              "      <td>NaN</td>\n",
              "      <td>NaN</td>\n",
              "    </tr>\n",
              "    <tr>\n",
              "      <th>Available from</th>\n",
              "      <td>NaN</td>\n",
              "      <td>NaN</td>\n",
              "      <td>NaN</td>\n",
              "    </tr>\n",
              "  </tbody>\n",
              "</table>\n",
              "</div>\n",
              "      <button class=\"colab-df-convert\" onclick=\"convertToInteractive('df-14b9f367-63cd-472e-adf1-9cc372e4b907')\"\n",
              "              title=\"Convert this dataframe to an interactive table.\"\n",
              "              style=\"display:none;\">\n",
              "        \n",
              "  <svg xmlns=\"http://www.w3.org/2000/svg\" height=\"24px\"viewBox=\"0 0 24 24\"\n",
              "       width=\"24px\">\n",
              "    <path d=\"M0 0h24v24H0V0z\" fill=\"none\"/>\n",
              "    <path d=\"M18.56 5.44l.94 2.06.94-2.06 2.06-.94-2.06-.94-.94-2.06-.94 2.06-2.06.94zm-11 1L8.5 8.5l.94-2.06 2.06-.94-2.06-.94L8.5 2.5l-.94 2.06-2.06.94zm10 10l.94 2.06.94-2.06 2.06-.94-2.06-.94-.94-2.06-.94 2.06-2.06.94z\"/><path d=\"M17.41 7.96l-1.37-1.37c-.4-.4-.92-.59-1.43-.59-.52 0-1.04.2-1.43.59L10.3 9.45l-7.72 7.72c-.78.78-.78 2.05 0 2.83L4 21.41c.39.39.9.59 1.41.59.51 0 1.02-.2 1.41-.59l7.78-7.78 2.81-2.81c.8-.78.8-2.07 0-2.86zM5.41 20L4 18.59l7.72-7.72 1.47 1.35L5.41 20z\"/>\n",
              "  </svg>\n",
              "      </button>\n",
              "      \n",
              "  <style>\n",
              "    .colab-df-container {\n",
              "      display:flex;\n",
              "      flex-wrap:wrap;\n",
              "      gap: 12px;\n",
              "    }\n",
              "\n",
              "    .colab-df-convert {\n",
              "      background-color: #E8F0FE;\n",
              "      border: none;\n",
              "      border-radius: 50%;\n",
              "      cursor: pointer;\n",
              "      display: none;\n",
              "      fill: #1967D2;\n",
              "      height: 32px;\n",
              "      padding: 0 0 0 0;\n",
              "      width: 32px;\n",
              "    }\n",
              "\n",
              "    .colab-df-convert:hover {\n",
              "      background-color: #E2EBFA;\n",
              "      box-shadow: 0px 1px 2px rgba(60, 64, 67, 0.3), 0px 1px 3px 1px rgba(60, 64, 67, 0.15);\n",
              "      fill: #174EA6;\n",
              "    }\n",
              "\n",
              "    [theme=dark] .colab-df-convert {\n",
              "      background-color: #3B4455;\n",
              "      fill: #D2E3FC;\n",
              "    }\n",
              "\n",
              "    [theme=dark] .colab-df-convert:hover {\n",
              "      background-color: #434B5C;\n",
              "      box-shadow: 0px 1px 3px 1px rgba(0, 0, 0, 0.15);\n",
              "      filter: drop-shadow(0px 1px 2px rgba(0, 0, 0, 0.3));\n",
              "      fill: #FFFFFF;\n",
              "    }\n",
              "  </style>\n",
              "\n",
              "      <script>\n",
              "        const buttonEl =\n",
              "          document.querySelector('#df-14b9f367-63cd-472e-adf1-9cc372e4b907 button.colab-df-convert');\n",
              "        buttonEl.style.display =\n",
              "          google.colab.kernel.accessAllowed ? 'block' : 'none';\n",
              "\n",
              "        async function convertToInteractive(key) {\n",
              "          const element = document.querySelector('#df-14b9f367-63cd-472e-adf1-9cc372e4b907');\n",
              "          const dataTable =\n",
              "            await google.colab.kernel.invokeFunction('convertToInteractive',\n",
              "                                                     [key], {});\n",
              "          if (!dataTable) return;\n",
              "\n",
              "          const docLinkHtml = 'Like what you see? Visit the ' +\n",
              "            '<a target=\"_blank\" href=https://colab.research.google.com/notebooks/data_table.ipynb>data table notebook</a>'\n",
              "            + ' to learn more about interactive tables.';\n",
              "          element.innerHTML = '';\n",
              "          dataTable['output_type'] = 'display_data';\n",
              "          await google.colab.output.renderOutput(dataTable, element);\n",
              "          const docLink = document.createElement('div');\n",
              "          docLink.innerHTML = docLinkHtml;\n",
              "          element.appendChild(docLink);\n",
              "        }\n",
              "      </script>\n",
              "    </div>\n",
              "  </div>\n",
              "  "
            ]
          },
          "metadata": {},
          "execution_count": 108
        }
      ],
      "source": [
        "#scout_car = pd.read_json ('scout_car.json', lines = True)\n",
        "#df = scout_car.copy()\n",
        "df.sample(3).T"
      ]
    },
    {
      "cell_type": "markdown",
      "metadata": {
        "id": "x5B2a21WmLd5"
      },
      "source": [
        "## notes\n",
        "\n",
        "make_model ---------Make ve Model olarak 2 ayrı sütunda bulunmaktadır. \n",
        "ÇÖZÜM 1: make_model 2 ayrı sütuna ayrılabilir veya tek sütun olarak da kalabilir\n",
        "ÇÖZÜM 2: (SİLİNEBİLİR) (Make ve Model temizlenecek)\n",
        "\n",
        "km--------------- '-' NULL Olacak; resgistration bilgisi olmayanlar 0 km olabilir, registration olmadığı halde km yüksekler var\n",
        "\n",
        "registration-------- '-/-' NULL Olacak, format DATE olabilir\n",
        "\n",
        "prev_owner ve Previous Owners sütunları için Previous Owners temizlenecek ve karşılaştırılacak\n",
        "\n",
        "kW tamamen NULL o yüzden direk silinecek\n",
        "\n",
        "hp sütun adı değişebilir (kw bilgisi için) 'kw' birimi silinecek\n",
        "\n",
        "Type sütunu ikiye bölünecek, Fuel kısmı silinecek onun yerine Fuel sütunu kullanılacak, Type'daki ikinci sütun ise Use Status sütunu olacak, ileride kullanılabilir\n",
        "\n",
        "Next Inspection ve Inspection new sütunları incelenecek. \n",
        "\n",
        "Tüm tablodaki CO2/km verileri için CO2 emission sütunu kullanılabilir.\n",
        "\n",
        "Full Service ve Emission Class sütunları temizlendikten sonra karşılaştırılıp Emission Class'daki Null değerler doldurulacak.\n",
        "\n",
        "Non-smoking Vehicle\tsütunu null ve boş değerler ile dolu olduğundan silinebilir.\n",
        "\n",
        "null sütunu silinecek,\n",
        "\n",
        "First Registration silinecek çünkü Registration ile benzer\n",
        "\n",
        "Offer Number silinebilir, anlamsız..\n",
        "\n",
        "Renklerdeki '/n' temizlenecek\n",
        "\n",
        "Body sütunu silenecek, aynı veri body_type da mevcut\n",
        "\n",
        "Nr. of Seats ve Nr. of Doors sütunları için '/n' temizlenecek, sütun adları değişebilir\n",
        "\n",
        "Model Code '/n' temizlenecek\n",
        "\n",
        "Gearing Type '/n' temizlenecek, column adı değişecek\n",
        "\n",
        "Displacement sütun başlığında (cc) ekleyelim, verilerdeki ',' , 'cc' ve /n değerlerini silelim\n",
        "\n",
        "Cylinders /n değerlerini silelim\n",
        "\n",
        "Weight verilerdeki ',' , 'kg' ve /n değerlerini silelim\n",
        "\n",
        "Drive chain /n değerlerini silelim\n",
        "\n",
        "Yukarıdaki 3 sütun için null değerler aynı gruplara bakılarak doldurulabilir\n",
        "\n",
        "Consumption sütunu 3'e bölünüp sadece int değerler alınacak\n",
        "\n",
        "'\\nComfort & Convenience\\n', \\nEntertainment & Media\\n, \\nExtras\\n, \\nSafety & Security\\n  sütunları adı değişecek ve get dummies komutları uygulanacak\n",
        "\n",
        "description sütunu Almanca araç tanıtımı içeriyor, null veriler için kullanılabilir\n",
        "\n",
        "Emission Label, gears, Country version temizlenecek\n",
        "\n",
        "Warranty sütunundaki süreler alınacak ve temizlenecek\n",
        "\n",
        "ALTTAKİLER DİREK SİLİNEBİLİR..\n",
        "\n",
        "Electricity consumption          15782\n",
        "Last Service Date                15353\n",
        "Other Fuel Types                 15039\n",
        "Availability                     15284\n",
        "Last Timing Belt Service Date    15903\n",
        "Available from                   15647"
      ]
    },
    {
      "cell_type": "code",
      "execution_count": 109,
      "metadata": {
        "id": "FyJfKeghmLeP",
        "outputId": "4a687213-3065-4646-d432-7a0424edc137",
        "colab": {
          "base_uri": "https://localhost:8080/"
        }
      },
      "outputs": [
        {
          "output_type": "stream",
          "name": "stdout",
          "text": [
            "<class 'pandas.core.frame.DataFrame'>\n",
            "RangeIndex: 15919 entries, 0 to 15918\n",
            "Data columns (total 54 columns):\n",
            " #   Column                         Non-Null Count  Dtype  \n",
            "---  ------                         --------------  -----  \n",
            " 0   url                            15919 non-null  object \n",
            " 1   make_model                     15919 non-null  object \n",
            " 2   short_description              15873 non-null  object \n",
            " 3   body_type                      15859 non-null  object \n",
            " 4   price                          15919 non-null  int64  \n",
            " 5   vat                            11406 non-null  object \n",
            " 6   km                             15919 non-null  object \n",
            " 7   registration                   15919 non-null  object \n",
            " 8   prev_owner                     9091 non-null   object \n",
            " 9   kW                             0 non-null      float64\n",
            " 10  hp                             15919 non-null  object \n",
            " 11  Type                           15917 non-null  object \n",
            " 12  Previous Owners                9279 non-null   object \n",
            " 13  Next Inspection                3535 non-null   object \n",
            " 14  Inspection new                 3932 non-null   object \n",
            " 15  Warranty                       10499 non-null  object \n",
            " 16  Full Service                   8215 non-null   object \n",
            " 17  Non-smoking Vehicle            7177 non-null   object \n",
            " 18  null                           15919 non-null  object \n",
            " 19  Make                           15919 non-null  object \n",
            " 20  Model                          15919 non-null  object \n",
            " 21  Offer Number                   12744 non-null  object \n",
            " 22  First Registration             14322 non-null  object \n",
            " 23  Body Color                     15322 non-null  object \n",
            " 24  Paint Type                     10147 non-null  object \n",
            " 25  Body Color Original            12160 non-null  object \n",
            " 26  Upholstery                     12199 non-null  object \n",
            " 27  Body                           15859 non-null  object \n",
            " 28  Nr. of Doors                   15707 non-null  object \n",
            " 29  Nr. of Seats                   14942 non-null  object \n",
            " 30  Model Code                     4978 non-null   object \n",
            " 31  Gearing Type                   15919 non-null  object \n",
            " 32  Displacement                   15423 non-null  object \n",
            " 33  Cylinders                      10239 non-null  object \n",
            " 34  Weight                         8945 non-null   object \n",
            " 35  Drive chain                    9061 non-null   object \n",
            " 36  Fuel                           15919 non-null  object \n",
            " 37  Consumption                    14013 non-null  object \n",
            " 38  CO2 Emission                   14111 non-null  object \n",
            " 39  Emission Class                 12898 non-null  object \n",
            " 40  \n",
            "Comfort & Convenience\n",
            "        14999 non-null  object \n",
            " 41  \n",
            "Entertainment & Media\n",
            "        14545 non-null  object \n",
            " 42  \n",
            "Extras\n",
            "                       12957 non-null  object \n",
            " 43  \n",
            "Safety & Security\n",
            "            14937 non-null  object \n",
            " 44  description                    15919 non-null  object \n",
            " 45  Emission Label                 3985 non-null   object \n",
            " 46  Gears                          11207 non-null  object \n",
            " 47  Country version                7586 non-null   object \n",
            " 48  Electricity consumption        137 non-null    object \n",
            " 49  Last Service Date              566 non-null    object \n",
            " 50  Other Fuel Types               880 non-null    object \n",
            " 51  Availability                   635 non-null    object \n",
            " 52  Last Timing Belt Service Date  16 non-null     object \n",
            " 53  Available from                 272 non-null    object \n",
            "dtypes: float64(1), int64(1), object(52)\n",
            "memory usage: 6.6+ MB\n"
          ]
        }
      ],
      "source": [
        "df.info()"
      ]
    },
    {
      "cell_type": "code",
      "execution_count": 110,
      "metadata": {
        "id": "p3Rl_iOrmLe4",
        "outputId": "b3366d9e-82e4-43a6-d4f9-1226afa77001",
        "colab": {
          "base_uri": "https://localhost:8080/"
        }
      },
      "outputs": [
        {
          "output_type": "execute_result",
          "data": {
            "text/plain": [
              "url                                  0\n",
              "make_model                           0\n",
              "short_description                   46\n",
              "body_type                           60\n",
              "price                                0\n",
              "vat                               4513\n",
              "km                                   0\n",
              "registration                         0\n",
              "prev_owner                        6828\n",
              "kW                               15919\n",
              "hp                                   0\n",
              "Type                                 2\n",
              "Previous Owners                   6640\n",
              "Next Inspection                  12384\n",
              "Inspection new                   11987\n",
              "Warranty                          5420\n",
              "Full Service                      7704\n",
              "Non-smoking Vehicle               8742\n",
              "null                                 0\n",
              "Make                                 0\n",
              "Model                                0\n",
              "Offer Number                      3175\n",
              "First Registration                1597\n",
              "Body Color                         597\n",
              "Paint Type                        5772\n",
              "Body Color Original               3759\n",
              "Upholstery                        3720\n",
              "Body                                60\n",
              "Nr. of Doors                       212\n",
              "Nr. of Seats                       977\n",
              "Model Code                       10941\n",
              "Gearing Type                         0\n",
              "Displacement                       496\n",
              "Cylinders                         5680\n",
              "Weight                            6974\n",
              "Drive chain                       6858\n",
              "Fuel                                 0\n",
              "Consumption                       1906\n",
              "CO2 Emission                      1808\n",
              "Emission Class                    3021\n",
              "\\nComfort & Convenience\\n          920\n",
              "\\nEntertainment & Media\\n         1374\n",
              "\\nExtras\\n                        2962\n",
              "\\nSafety & Security\\n              982\n",
              "description                          0\n",
              "Emission Label                   11934\n",
              "Gears                             4712\n",
              "Country version                   8333\n",
              "Electricity consumption          15782\n",
              "Last Service Date                15353\n",
              "Other Fuel Types                 15039\n",
              "Availability                     15284\n",
              "Last Timing Belt Service Date    15903\n",
              "Available from                   15647\n",
              "dtype: int64"
            ]
          },
          "metadata": {},
          "execution_count": 110
        }
      ],
      "source": [
        "df.isnull().sum()"
      ]
    },
    {
      "cell_type": "code",
      "source": [
        "df.isnull().sum() / len(df)*100"
      ],
      "metadata": {
        "colab": {
          "base_uri": "https://localhost:8080/"
        },
        "id": "NP_sFnoo3QSL",
        "outputId": "3e5d5c9e-88f9-4572-afe2-72ee05acdce3"
      },
      "execution_count": 111,
      "outputs": [
        {
          "output_type": "execute_result",
          "data": {
            "text/plain": [
              "url                                0.000000\n",
              "make_model                         0.000000\n",
              "short_description                  0.288963\n",
              "body_type                          0.376908\n",
              "price                              0.000000\n",
              "vat                               28.349771\n",
              "km                                 0.000000\n",
              "registration                       0.000000\n",
              "prev_owner                        42.892141\n",
              "kW                               100.000000\n",
              "hp                                 0.000000\n",
              "Type                               0.012564\n",
              "Previous Owners                   41.711163\n",
              "Next Inspection                   77.793831\n",
              "Inspection new                    75.299956\n",
              "Warranty                          34.047365\n",
              "Full Service                      48.395000\n",
              "Non-smoking Vehicle               54.915510\n",
              "null                               0.000000\n",
              "Make                               0.000000\n",
              "Model                              0.000000\n",
              "Offer Number                      19.944720\n",
              "First Registration                10.032037\n",
              "Body Color                         3.750236\n",
              "Paint Type                        36.258559\n",
              "Body Color Original               23.613292\n",
              "Upholstery                        23.368302\n",
              "Body                               0.376908\n",
              "Nr. of Doors                       1.331742\n",
              "Nr. of Seats                       6.137320\n",
              "Model Code                        68.729192\n",
              "Gearing Type                       0.000000\n",
              "Displacement                       3.115774\n",
              "Cylinders                         35.680633\n",
              "Weight                            43.809285\n",
              "Drive chain                       43.080596\n",
              "Fuel                               0.000000\n",
              "Consumption                       11.973114\n",
              "CO2 Emission                      11.357497\n",
              "Emission Class                    18.977323\n",
              "\\nComfort & Convenience\\n          5.779257\n",
              "\\nEntertainment & Media\\n          8.631195\n",
              "\\nExtras\\n                        18.606696\n",
              "\\nSafety & Security\\n              6.168729\n",
              "description                        0.000000\n",
              "Emission Label                    74.967021\n",
              "Gears                             29.599849\n",
              "Country version                   52.346253\n",
              "Electricity consumption           99.139393\n",
              "Last Service Date                 96.444500\n",
              "Other Fuel Types                  94.472015\n",
              "Availability                      96.011056\n",
              "Last Timing Belt Service Date     99.899491\n",
              "Available from                    98.291350\n",
              "dtype: float64"
            ]
          },
          "metadata": {},
          "execution_count": 111
        }
      ]
    },
    {
      "cell_type": "code",
      "source": [
        "df.columns"
      ],
      "metadata": {
        "colab": {
          "base_uri": "https://localhost:8080/"
        },
        "id": "vHd-cLcL2N2_",
        "outputId": "f17a6d78-65e6-4b5b-9074-37c20844199c"
      },
      "execution_count": 112,
      "outputs": [
        {
          "output_type": "execute_result",
          "data": {
            "text/plain": [
              "Index(['url', 'make_model', 'short_description', 'body_type', 'price', 'vat',\n",
              "       'km', 'registration', 'prev_owner', 'kW', 'hp', 'Type',\n",
              "       'Previous Owners', 'Next Inspection', 'Inspection new', 'Warranty',\n",
              "       'Full Service', 'Non-smoking Vehicle', 'null', 'Make', 'Model',\n",
              "       'Offer Number', 'First Registration', 'Body Color', 'Paint Type',\n",
              "       'Body Color Original', 'Upholstery', 'Body', 'Nr. of Doors',\n",
              "       'Nr. of Seats', 'Model Code', 'Gearing Type', 'Displacement',\n",
              "       'Cylinders', 'Weight', 'Drive chain', 'Fuel', 'Consumption',\n",
              "       'CO2 Emission', 'Emission Class', '\\nComfort & Convenience\\n',\n",
              "       '\\nEntertainment & Media\\n', '\\nExtras\\n', '\\nSafety & Security\\n',\n",
              "       'description', 'Emission Label', 'Gears', 'Country version',\n",
              "       'Electricity consumption', 'Last Service Date', 'Other Fuel Types',\n",
              "       'Availability', 'Last Timing Belt Service Date', 'Available from'],\n",
              "      dtype='object')"
            ]
          },
          "metadata": {},
          "execution_count": 112
        }
      ]
    },
    {
      "cell_type": "markdown",
      "source": [
        "##1.URL"
      ],
      "metadata": {
        "id": "Qf2u7-Vk2LUD"
      }
    },
    {
      "cell_type": "code",
      "source": [
        "df.url.value_counts(dropna=False)  # irrelevant to price so will be dropped"
      ],
      "metadata": {
        "colab": {
          "base_uri": "https://localhost:8080/"
        },
        "id": "t9YneeXA2HX6",
        "outputId": "b4c570b7-3f9c-4f23-a817-c03ee29feb4b"
      },
      "execution_count": null,
      "outputs": [
        {
          "output_type": "execute_result",
          "data": {
            "text/plain": [
              "https://www.autoscout24.com//offers/audi-a1-sportback-1-4-tdi-s-tronic-xenon-navi-klima-diesel-black-bdab349a-caa5-41b0-98eb-c1345b84445e                  1\n",
              "https://www.autoscout24.com//offers/opel-insignia-bus-inno-2-0-cdti-aut-navi-bi-xe-led-e6-diesel-black-8710b253-dd98-4ed0-9d46-cbad2d79532b                1\n",
              "https://www.autoscout24.com//offers/opel-insignia-sport-tourer-opel-sport-tourer-1-6-cdti-136-ch-a-c-diesel-silver-10b7463b-9f56-4348-af35-df3432b2b585    1\n",
              "https://www.autoscout24.com//offers/opel-insignia-2-0cdti-st-business-innovation-navi-bt-diesel-black-ba5a3368-dedc-4e51-9127-3976b26e93c2                 1\n",
              "https://www.autoscout24.com//offers/opel-insignia-sport-tourer-opel-sport-tourer-1-6-cdti-136-ch-a-c-diesel-silver-7b52f054-78d3-4d5e-9370-8a7d081d7edd    1\n",
              "                                                                                                                                                          ..\n",
              "https://www.autoscout24.com//offers/audi-a3-sb-30-1-6-tdi-business-116cv-s-tronic-diesel-black-cf50f7b1-4d7b-466f-93a2-4e11ec0b4107                        1\n",
              "https://www.autoscout24.com//offers/audi-a3-sb-30-1-6-tdi-business-116cv-s-tronic-diesel-grey-3f47eb34-15c4-4763-860d-78fcbbd2c9ff                         1\n",
              "https://www.autoscout24.com//offers/audi-a3-sb-30-1-6-tdi-business-116cv-s-tronic-diesel-silver-f7a4bc95-b2ef-4bac-9497-6bcbcd05db0b                       1\n",
              "https://www.autoscout24.com//offers/audi-a3-sb-30-1-6-tdi-business-116cv-s-tronic-diesel-silver-1c94c7a2-67b5-49ca-ae42-42a6800fb3f5                       1\n",
              "https://www.autoscout24.com//offers/renault-espace-initiale-paris-tce-225-edc-gpf-navi-shz-aux-gasoline-grey-0bd690d9-7e93-4cab-bc5a-9d5b63402481          1\n",
              "Name: url, Length: 15919, dtype: int64"
            ]
          },
          "metadata": {},
          "execution_count": 9
        }
      ]
    },
    {
      "cell_type": "code",
      "source": [
        "df.drop('url', axis=1,inplace = True)"
      ],
      "metadata": {
        "id": "y_ucgQ9Y2sPk"
      },
      "execution_count": 113,
      "outputs": []
    },
    {
      "cell_type": "markdown",
      "source": [
        "##2.make_model"
      ],
      "metadata": {
        "id": "7VkvH-e03o3K"
      }
    },
    {
      "cell_type": "code",
      "execution_count": 114,
      "metadata": {
        "id": "93j_ddwHmLgP",
        "outputId": "8af47921-1d79-4495-dc0b-acbba0e1c11f",
        "colab": {
          "base_uri": "https://localhost:8080/"
        }
      },
      "outputs": [
        {
          "output_type": "execute_result",
          "data": {
            "text/plain": [
              "Audi A3           3097\n",
              "Audi A1           2614\n",
              "Opel Insignia     2598\n",
              "Opel Astra        2526\n",
              "Opel Corsa        2219\n",
              "Renault Clio      1839\n",
              "Renault Espace     991\n",
              "Renault Duster      34\n",
              "Audi A2              1\n",
              "Name: make_model, dtype: int64"
            ]
          },
          "metadata": {},
          "execution_count": 114
        }
      ],
      "source": [
        "df.make_model.value_counts(dropna=False) ## in order to work with ML, should be dummied"
      ]
    },
    {
      "cell_type": "code",
      "source": [
        "df.make_model.sample(5)"
      ],
      "metadata": {
        "colab": {
          "base_uri": "https://localhost:8080/"
        },
        "id": "aSKMYAJo36QJ",
        "outputId": "16fb50db-d9c8-4b52-8f43-05b3aef53c3b"
      },
      "execution_count": null,
      "outputs": [
        {
          "output_type": "execute_result",
          "data": {
            "text/plain": [
              "1432          Audi A1\n",
              "5949       Opel Astra\n",
              "14753    Renault Clio\n",
              "5480          Audi A3\n",
              "3495          Audi A3\n",
              "Name: make_model, dtype: object"
            ]
          },
          "metadata": {},
          "execution_count": 12
        }
      ]
    },
    {
      "cell_type": "markdown",
      "source": [
        "##3.short_description"
      ],
      "metadata": {
        "id": "YzlvCcaA49Wr"
      }
    },
    {
      "cell_type": "code",
      "source": [
        "df.short_description.value_counts(dropna=False) # will be erased, but first look for null values to fill other columns"
      ],
      "metadata": {
        "colab": {
          "base_uri": "https://localhost:8080/"
        },
        "id": "vYEigZBk5DES",
        "outputId": "48b6b672-4f88-4218-c7f9-9c9b27677ecc"
      },
      "execution_count": 115,
      "outputs": [
        {
          "output_type": "execute_result",
          "data": {
            "text/plain": [
              "SPB 1.6 TDI 116 CV S tronic Sport                 64\n",
              "NaN                                               46\n",
              "1.4 66kW (90CV) Selective                         40\n",
              "MOVE KLIMA CD USB ALLWETTER BLUETOOTH             38\n",
              "SPB 30 TDI S tronic Business                      35\n",
              "                                                  ..\n",
              "K Sports Tourer Business **Navi*Voll**             1\n",
              "1.0 Turbo ecoFLEX Automatic Elective Park Navi     1\n",
              "1.6 CDTI Business *Navi*Automatik*Spurh.*          1\n",
              "1.6 136 CV Automatica Navi E 6 Garanzia Full       1\n",
              "TCe 225 EDC GPF LIM Deluxe Pano,RFK                1\n",
              "Name: short_description, Length: 10002, dtype: int64"
            ]
          },
          "metadata": {},
          "execution_count": 115
        }
      ]
    },
    {
      "cell_type": "markdown",
      "source": [
        "##**4**.body_type"
      ],
      "metadata": {
        "id": "1ndjrREH5QB9"
      }
    },
    {
      "cell_type": "code",
      "source": [
        "df.body_type.value_counts(dropna=False)    ## in order to work with ML, should be dummied"
      ],
      "metadata": {
        "colab": {
          "base_uri": "https://localhost:8080/"
        },
        "id": "JtI8-bEU5Vji",
        "outputId": "8190bbc7-7ec9-40da-acf9-2987fbe827fa"
      },
      "execution_count": 116,
      "outputs": [
        {
          "output_type": "execute_result",
          "data": {
            "text/plain": [
              "Sedans           7903\n",
              "Station wagon    3553\n",
              "Compact          3153\n",
              "Van               783\n",
              "Other             290\n",
              "Transporter        88\n",
              "NaN                60\n",
              "Off-Road           56\n",
              "Coupe              25\n",
              "Convertible         8\n",
              "Name: body_type, dtype: int64"
            ]
          },
          "metadata": {},
          "execution_count": 116
        }
      ]
    },
    {
      "cell_type": "code",
      "source": [
        "df.body_type.sample(5)"
      ],
      "metadata": {
        "colab": {
          "base_uri": "https://localhost:8080/"
        },
        "id": "f7anXYt66Wac",
        "outputId": "5b086315-60b2-4898-e646-ed7f2d5aea93"
      },
      "execution_count": null,
      "outputs": [
        {
          "output_type": "execute_result",
          "data": {
            "text/plain": [
              "12022    Station wagon\n",
              "927             Sedans\n",
              "464            Compact\n",
              "15162              Van\n",
              "6530            Sedans\n",
              "Name: body_type, dtype: object"
            ]
          },
          "metadata": {},
          "execution_count": 16
        }
      ]
    },
    {
      "cell_type": "code",
      "source": [
        "df.columns"
      ],
      "metadata": {
        "colab": {
          "base_uri": "https://localhost:8080/"
        },
        "id": "PMQme1J38MZk",
        "outputId": "cb698b8f-7b73-49d7-b995-d0102cb11cce"
      },
      "execution_count": null,
      "outputs": [
        {
          "output_type": "execute_result",
          "data": {
            "text/plain": [
              "Index(['make_model', 'short_description', 'body_type', 'price', 'vat', 'km',\n",
              "       'registration', 'prev_owner', 'kW', 'hp', 'Type', 'Previous Owners',\n",
              "       'Next Inspection', 'Inspection new', 'Warranty', 'Full Service',\n",
              "       'Non-smoking Vehicle', 'null', 'Make', 'Model', 'Offer Number',\n",
              "       'First Registration', 'Body Color', 'Paint Type', 'Body Color Original',\n",
              "       'Upholstery', 'Body', 'Nr. of Doors', 'Nr. of Seats', 'Model Code',\n",
              "       'Gearing Type', 'Displacement', 'Cylinders', 'Weight', 'Drive chain',\n",
              "       'Fuel', 'Consumption', 'CO2 Emission', 'Emission Class',\n",
              "       '\\nComfort & Convenience\\n', '\\nEntertainment & Media\\n', '\\nExtras\\n',\n",
              "       '\\nSafety & Security\\n', 'description', 'Emission Label', 'Gears',\n",
              "       'Country version', 'Electricity consumption', 'Last Service Date',\n",
              "       'Other Fuel Types', 'Availability', 'Last Timing Belt Service Date',\n",
              "       'Available from'],\n",
              "      dtype='object')"
            ]
          },
          "metadata": {},
          "execution_count": 26
        }
      ]
    },
    {
      "cell_type": "code",
      "source": [
        "df[df.body_type.isnull()][['body_type','Body','short_description','make_model']]  ## NaN values should be filled in missing values part"
      ],
      "metadata": {
        "colab": {
          "base_uri": "https://localhost:8080/",
          "height": 1000
        },
        "id": "9ZTM9-VH6qwG",
        "outputId": "2c9ad219-ae34-4b32-a1f3-3f43682549af"
      },
      "execution_count": null,
      "outputs": [
        {
          "output_type": "execute_result",
          "data": {
            "text/plain": [
              "      body_type Body                                  short_description  \\\n",
              "3175       None  NaN                                            1.6 TDi   \n",
              "3255       None  NaN                 1.6 TDI S tronic Business (MY2017)   \n",
              "3975       None  NaN                           Sportback Sport S tronic   \n",
              "3997       None  NaN  (3E GENERATION) III (2) 1.6 TDI 110 BUSINESS LINE   \n",
              "4206       None  NaN                Sportback 1.4 TFSI 125CV Attraction   \n",
              "4297       None  NaN                Sportback 1.4 TFSI 125CV Attraction   \n",
              "4298       None  NaN                Sportback 1.4 TFSI 125CV Attraction   \n",
              "5718       None  NaN                    1.6 CDTi 136 CV Excellence Auto   \n",
              "5938       None  NaN                    1.6 CDTi 136 CV Excellence Auto   \n",
              "5940       None  NaN                    1.6 CDTi 136 CV Excellence Auto   \n",
              "6920       None  NaN                    1.6 CDTi 81kW (110CV) Selective   \n",
              "6922       None  NaN                    1.6 CDTi 81kW (110CV) Selective   \n",
              "6927       None  NaN                    1.6 CDTi 81kW (110CV) Selective   \n",
              "7709       None  NaN       ELITE 5P 1.4 Turbo 150ch BVA6 MY19.5 (2019A)   \n",
              "8408       None  NaN                E 1,4 5-tg Easytronic Color Edition   \n",
              "8584       None  NaN                                               None   \n",
              "10837      None  NaN                           2.0 CDTI Excellence Auto   \n",
              "10838      None  NaN                           2.0 CDTI Excellence Auto   \n",
              "10857      None  NaN                           2.0 CDTI Excellence Auto   \n",
              "13430      None  NaN  Ste 1.5 dCi 90ch energy Air MédiaNav eco² Euro6 8   \n",
              "13470      None  NaN                    Limited 1.2 16v 55kW (75CV) -18   \n",
              "13576      None  NaN         Ste 1.5 dCi 75ch energy Air MédiaNav Euro6   \n",
              "13703      None  NaN               Ste 1.5 dCi 75ch energy Air MédiaNav   \n",
              "13725      None  NaN               Ste 1.5 dCi 75ch energy Air MédiaNav   \n",
              "13852      None  NaN                            van 1.5 dci 75cv S S E6   \n",
              "13900      None  NaN                         1.5 dCi 75ch energy Zen 5p   \n",
              "14107      None  NaN                    Business Energy dCi 55kW (75CV)   \n",
              "14124      None  NaN                        Ste 1.5 dCi 75ch energy Air   \n",
              "14127      None  NaN                        Ste 1.5 dCi 75ch energy Air   \n",
              "14134      None  NaN                  Ste 1.5 dCi 75ch energy Générique   \n",
              "14135      None  NaN                  Ste 1.5 dCi 75ch energy Générique   \n",
              "14480      None  NaN                                          1.2i Life   \n",
              "14869      None  NaN              Sitzhzg.,Klima,PDC,Bluetooth,Tempomat   \n",
              "14870      None  NaN              Sitzhzg.,Klima,PDC,Bluetooth,Tempomat   \n",
              "14928      None  NaN                  Zen Energy dCi 160 Twin Turbo EDC   \n",
              "14990      None  NaN    V Espace Limited Tce 225 Edc 7places Co2 = 152g   \n",
              "15058      None  NaN                  Zen Energy dCi 160 Twin Turbo EDC   \n",
              "15059      None  NaN                  Zen Energy dCi 160 Twin Turbo EDC   \n",
              "15060      None  NaN                  Zen Energy dCi 160 Twin Turbo EDC   \n",
              "15124      None  NaN                V Espace Initiale Paris Dci 160 Edc   \n",
              "15269      None  NaN                  Zen Energy dCi 160 Twin Turbo EDC   \n",
              "15275      None  NaN                  Zen Energy dCi 160 Twin Turbo EDC   \n",
              "15289      None  NaN                        V Espace Zen Dci 130 Energy   \n",
              "15307      None  NaN         V Espace Intens Dci 130 Energy Jantes 18''   \n",
              "15378      None  NaN            V Espace Life Dci 130 Energy + Full Led   \n",
              "15437      None  NaN           1.6 dci energy Executive 160cv 7p.ti edc   \n",
              "15452      None  NaN     V Espace Intens Dci 160 Energy Edc Jantes 18''   \n",
              "15456      None  NaN  V Espace Initiale Paris Dci 160 Edc 7places + ...   \n",
              "15457      None  NaN  V Espace Initiale Paris Dci 160 Edc 7places + ...   \n",
              "15488      None  NaN                 V Espace Intens Tce 225 Energy Edc   \n",
              "15489      None  NaN     1.6 dCi Energy Initiale Paris EDC CUIR GPS LED   \n",
              "15491      None  NaN     1.6 dCi Energy Initiale Paris EDC CUIR GPS LED   \n",
              "15499      None  NaN     V Espace Intens Tce 225 Energy Edc Jantes 18''   \n",
              "15544      None  NaN                    V Espace Zen Tce 225 Energy Edc   \n",
              "15556      None  NaN                    V Espace Zen Dci 160 Energy Edc   \n",
              "15589      None  NaN              1.6 dci energy Intens 160cv 7p.ti edc   \n",
              "15696      None  NaN           1.6 dci energy Executive 160cv 7p.ti edc   \n",
              "15712      None  NaN              1.6 dci energy Intens 160cv 7p.ti edc   \n",
              "15736      None  NaN         V Espace Initiale Paris Tce 225 Energy Edc   \n",
              "15770      None  NaN         V Espace Initiale Paris Dci 160 Energy Edc   \n",
              "\n",
              "           make_model                                        description  \n",
              "3175          Audi A3  [\\nAudi A3 S-Line au look sportif. Voiture ent...  \n",
              "3255          Audi A3  [\\nmodel year 2017, versione Business navigato...  \n",
              "3975          Audi A3  [\\nAnschlussgarantie 3 Jahre max.100000km, AHK...  \n",
              "3997          Audi A3  [\\n5 places ABS Acoudoir central Airbags Audio...  \n",
              "4206          Audi A3  [\\nMás de 2.000 coches en la web de Flexicar ,...  \n",
              "4297          Audi A3  [\\nMás de 2.000 coches en la web de Flexicar ,...  \n",
              "4298          Audi A3  [\\nMás de 2.000 coches en la web de Flexicar ,...  \n",
              "5718       Opel Astra  [\\nMás de 2.000 coches en la web de Flexicar ,...  \n",
              "5938       Opel Astra  [\\nMás de 2.000 coches en la web de Flexicar ,...  \n",
              "5940       Opel Astra  [\\nMás de 2.000 coches en la web de Flexicar ,...  \n",
              "6920       Opel Astra  [\\nMás de 2.000 coches en la web de Flexicar ,...  \n",
              "6922       Opel Astra  [\\nMás de 2.000 coches en la web de Flexicar ,...  \n",
              "6927       Opel Astra  [\\nMás de 2.000 coches en la web de Flexicar ,...  \n",
              "7709       Opel Astra                                           [\\n()\\n]  \n",
              "8408       Opel Corsa  [\\n, Ausstattungsliste, Werksgarantie 2 Jahre ...  \n",
              "8584       Opel Corsa  [\\nVéhicule propre aucun souci , contact par m...  \n",
              "10837   Opel Insignia  [\\nMás de 2.000 coches en la web de Flexicar ,...  \n",
              "10838   Opel Insignia  [\\nMás de 2.000 coches en la web de Flexicar ,...  \n",
              "10857   Opel Insignia  [\\nMás de 2.000 coches en la web de Flexicar ,...  \n",
              "13430    Renault Clio  [\\nRoue de secours ABS Aide au démarrage en cô...  \n",
              "13470    Renault Clio  [\\nMás de 2.000 coches en la web de Flexicar ,...  \n",
              "13576    Renault Clio  [\\nAide au parking AR Roue de secours ABS Aide...  \n",
              "13703    Renault Clio  [\\nABS Clim manuelle ESP GPS Cartographique Ki...  \n",
              "13725    Renault Clio  [\\nRoue de secours ABS Clim manuelle ESP GPS C...  \n",
              "13852    Renault Clio  [\\nEuro 6, ABS, Air Bag, Air Bag Pass., Servos...  \n",
              "13900    Renault Clio  [\\nRoue de secours ABS Aide au démarrage en cô...  \n",
              "14107    Renault Clio  [\\nMás de 2.000 coches en la web de Flexicar ,...  \n",
              "14124    Renault Clio  [\\n4 Haut parleurs ABS Aide au démarrage en cô...  \n",
              "14127    Renault Clio  [\\n4 Haut parleurs ABS Aide au démarrage en cô...  \n",
              "14134    Renault Clio  [\\nABS Aide au démarrage en côte Aide au frein...  \n",
              "14135    Renault Clio  [\\nABS Aide au démarrage en côte Aide au frein...  \n",
              "14480    Renault Clio  [\\nAchterramen zijn getint op 5%., Logo\\\\\\'s v...  \n",
              "14869    Renault Clio  [\\n, BONUSAKTION,  - limitiert u. zeitlich bef...  \n",
              "14870    Renault Clio  [\\n, BONUSAKTION,  - limitiert u. zeitlich bef...  \n",
              "14928  Renault Espace  [\\nMás de 2.000 coches en la web de Flexicar ,...  \n",
              "14990  Renault Espace  [\\nCette voiture sera facturée 22 333 euros HT...  \n",
              "15058  Renault Espace  [\\nMás de 2.000 coches en la web de Flexicar ,...  \n",
              "15059  Renault Espace  [\\nMás de 2.000 coches en la web de Flexicar ,...  \n",
              "15060  Renault Espace  [\\nMás de 2.000 coches en la web de Flexicar ,...  \n",
              "15124  Renault Espace  [\\nEquipements : ABS, Affichage tête haute, Ai...  \n",
              "15269  Renault Espace  [\\nMás de 2.000 coches en la web de Flexicar ,...  \n",
              "15275  Renault Espace  [\\nMás de 2.000 coches en la web de Flexicar ,...  \n",
              "15289  Renault Espace  [\\nCette voiture sera facturée 23 450 euros HT...  \n",
              "15307  Renault Espace  [\\nCette voiture sera facturée 25 833 euros HT...  \n",
              "15378  Renault Espace  [\\nCette voiture sera facturée 22 042 euros HT...  \n",
              "15437  Renault Espace  [\\n, Altre opzioni, *-Accensione automatica de...  \n",
              "15452  Renault Espace  [\\nCette voiture sera facturée 27 750 euros HT...  \n",
              "15456  Renault Espace  [\\nCette voiture sera facturée 27 833 euros HT...  \n",
              "15457  Renault Espace  [\\nCette voiture sera facturée 27 833 euros HT...  \n",
              "15488  Renault Espace  [\\nCette voiture sera facturée 27 167 euros HT...  \n",
              "15489  Renault Espace  [\\n1° Main7 PlacesIntérieur cuirSièges avant é...  \n",
              "15491  Renault Espace  [\\n1° Main7 PlacesIntérieur cuirSièges avant é...  \n",
              "15499  Renault Espace  [\\nCette voiture sera facturée 26 833 euros HT...  \n",
              "15544  Renault Espace  [\\nCette voiture sera facturée 24 792 euros HT...  \n",
              "15556  Renault Espace  [\\nCette voiture sera facturée 25 133 euros HT...  \n",
              "15589  Renault Espace  [\\n, Altre opzioni, *-Accensione automatica de...  \n",
              "15696  Renault Espace  [\\n, Altre opzioni, *-Accensione automatica de...  \n",
              "15712  Renault Espace  [\\n, Altre opzioni, *-Accensione automatica de...  \n",
              "15736  Renault Espace  [\\nCette voiture sera facturée 29 540 euros HT...  \n",
              "15770  Renault Espace  [\\nCette voiture sera facturée 29 942 euros HT...  "
            ],
            "text/html": [
              "\n",
              "  <div id=\"df-f6ca73eb-59fb-4d0f-bd23-216c82f0f009\">\n",
              "    <div class=\"colab-df-container\">\n",
              "      <div>\n",
              "<style scoped>\n",
              "    .dataframe tbody tr th:only-of-type {\n",
              "        vertical-align: middle;\n",
              "    }\n",
              "\n",
              "    .dataframe tbody tr th {\n",
              "        vertical-align: top;\n",
              "    }\n",
              "\n",
              "    .dataframe thead th {\n",
              "        text-align: right;\n",
              "    }\n",
              "</style>\n",
              "<table border=\"1\" class=\"dataframe\">\n",
              "  <thead>\n",
              "    <tr style=\"text-align: right;\">\n",
              "      <th></th>\n",
              "      <th>body_type</th>\n",
              "      <th>Body</th>\n",
              "      <th>short_description</th>\n",
              "      <th>make_model</th>\n",
              "      <th>description</th>\n",
              "    </tr>\n",
              "  </thead>\n",
              "  <tbody>\n",
              "    <tr>\n",
              "      <th>3175</th>\n",
              "      <td>None</td>\n",
              "      <td>NaN</td>\n",
              "      <td>1.6 TDi</td>\n",
              "      <td>Audi A3</td>\n",
              "      <td>[\\nAudi A3 S-Line au look sportif. Voiture ent...</td>\n",
              "    </tr>\n",
              "    <tr>\n",
              "      <th>3255</th>\n",
              "      <td>None</td>\n",
              "      <td>NaN</td>\n",
              "      <td>1.6 TDI S tronic Business (MY2017)</td>\n",
              "      <td>Audi A3</td>\n",
              "      <td>[\\nmodel year 2017, versione Business navigato...</td>\n",
              "    </tr>\n",
              "    <tr>\n",
              "      <th>3975</th>\n",
              "      <td>None</td>\n",
              "      <td>NaN</td>\n",
              "      <td>Sportback Sport S tronic</td>\n",
              "      <td>Audi A3</td>\n",
              "      <td>[\\nAnschlussgarantie 3 Jahre max.100000km, AHK...</td>\n",
              "    </tr>\n",
              "    <tr>\n",
              "      <th>3997</th>\n",
              "      <td>None</td>\n",
              "      <td>NaN</td>\n",
              "      <td>(3E GENERATION) III (2) 1.6 TDI 110 BUSINESS LINE</td>\n",
              "      <td>Audi A3</td>\n",
              "      <td>[\\n5 places ABS Acoudoir central Airbags Audio...</td>\n",
              "    </tr>\n",
              "    <tr>\n",
              "      <th>4206</th>\n",
              "      <td>None</td>\n",
              "      <td>NaN</td>\n",
              "      <td>Sportback 1.4 TFSI 125CV Attraction</td>\n",
              "      <td>Audi A3</td>\n",
              "      <td>[\\nMás de 2.000 coches en la web de Flexicar ,...</td>\n",
              "    </tr>\n",
              "    <tr>\n",
              "      <th>4297</th>\n",
              "      <td>None</td>\n",
              "      <td>NaN</td>\n",
              "      <td>Sportback 1.4 TFSI 125CV Attraction</td>\n",
              "      <td>Audi A3</td>\n",
              "      <td>[\\nMás de 2.000 coches en la web de Flexicar ,...</td>\n",
              "    </tr>\n",
              "    <tr>\n",
              "      <th>4298</th>\n",
              "      <td>None</td>\n",
              "      <td>NaN</td>\n",
              "      <td>Sportback 1.4 TFSI 125CV Attraction</td>\n",
              "      <td>Audi A3</td>\n",
              "      <td>[\\nMás de 2.000 coches en la web de Flexicar ,...</td>\n",
              "    </tr>\n",
              "    <tr>\n",
              "      <th>5718</th>\n",
              "      <td>None</td>\n",
              "      <td>NaN</td>\n",
              "      <td>1.6 CDTi 136 CV Excellence Auto</td>\n",
              "      <td>Opel Astra</td>\n",
              "      <td>[\\nMás de 2.000 coches en la web de Flexicar ,...</td>\n",
              "    </tr>\n",
              "    <tr>\n",
              "      <th>5938</th>\n",
              "      <td>None</td>\n",
              "      <td>NaN</td>\n",
              "      <td>1.6 CDTi 136 CV Excellence Auto</td>\n",
              "      <td>Opel Astra</td>\n",
              "      <td>[\\nMás de 2.000 coches en la web de Flexicar ,...</td>\n",
              "    </tr>\n",
              "    <tr>\n",
              "      <th>5940</th>\n",
              "      <td>None</td>\n",
              "      <td>NaN</td>\n",
              "      <td>1.6 CDTi 136 CV Excellence Auto</td>\n",
              "      <td>Opel Astra</td>\n",
              "      <td>[\\nMás de 2.000 coches en la web de Flexicar ,...</td>\n",
              "    </tr>\n",
              "    <tr>\n",
              "      <th>6920</th>\n",
              "      <td>None</td>\n",
              "      <td>NaN</td>\n",
              "      <td>1.6 CDTi 81kW (110CV) Selective</td>\n",
              "      <td>Opel Astra</td>\n",
              "      <td>[\\nMás de 2.000 coches en la web de Flexicar ,...</td>\n",
              "    </tr>\n",
              "    <tr>\n",
              "      <th>6922</th>\n",
              "      <td>None</td>\n",
              "      <td>NaN</td>\n",
              "      <td>1.6 CDTi 81kW (110CV) Selective</td>\n",
              "      <td>Opel Astra</td>\n",
              "      <td>[\\nMás de 2.000 coches en la web de Flexicar ,...</td>\n",
              "    </tr>\n",
              "    <tr>\n",
              "      <th>6927</th>\n",
              "      <td>None</td>\n",
              "      <td>NaN</td>\n",
              "      <td>1.6 CDTi 81kW (110CV) Selective</td>\n",
              "      <td>Opel Astra</td>\n",
              "      <td>[\\nMás de 2.000 coches en la web de Flexicar ,...</td>\n",
              "    </tr>\n",
              "    <tr>\n",
              "      <th>7709</th>\n",
              "      <td>None</td>\n",
              "      <td>NaN</td>\n",
              "      <td>ELITE 5P 1.4 Turbo 150ch BVA6 MY19.5 (2019A)</td>\n",
              "      <td>Opel Astra</td>\n",
              "      <td>[\\n()\\n]</td>\n",
              "    </tr>\n",
              "    <tr>\n",
              "      <th>8408</th>\n",
              "      <td>None</td>\n",
              "      <td>NaN</td>\n",
              "      <td>E 1,4 5-tg Easytronic Color Edition</td>\n",
              "      <td>Opel Corsa</td>\n",
              "      <td>[\\n, Ausstattungsliste, Werksgarantie 2 Jahre ...</td>\n",
              "    </tr>\n",
              "    <tr>\n",
              "      <th>8584</th>\n",
              "      <td>None</td>\n",
              "      <td>NaN</td>\n",
              "      <td>None</td>\n",
              "      <td>Opel Corsa</td>\n",
              "      <td>[\\nVéhicule propre aucun souci , contact par m...</td>\n",
              "    </tr>\n",
              "    <tr>\n",
              "      <th>10837</th>\n",
              "      <td>None</td>\n",
              "      <td>NaN</td>\n",
              "      <td>2.0 CDTI Excellence Auto</td>\n",
              "      <td>Opel Insignia</td>\n",
              "      <td>[\\nMás de 2.000 coches en la web de Flexicar ,...</td>\n",
              "    </tr>\n",
              "    <tr>\n",
              "      <th>10838</th>\n",
              "      <td>None</td>\n",
              "      <td>NaN</td>\n",
              "      <td>2.0 CDTI Excellence Auto</td>\n",
              "      <td>Opel Insignia</td>\n",
              "      <td>[\\nMás de 2.000 coches en la web de Flexicar ,...</td>\n",
              "    </tr>\n",
              "    <tr>\n",
              "      <th>10857</th>\n",
              "      <td>None</td>\n",
              "      <td>NaN</td>\n",
              "      <td>2.0 CDTI Excellence Auto</td>\n",
              "      <td>Opel Insignia</td>\n",
              "      <td>[\\nMás de 2.000 coches en la web de Flexicar ,...</td>\n",
              "    </tr>\n",
              "    <tr>\n",
              "      <th>13430</th>\n",
              "      <td>None</td>\n",
              "      <td>NaN</td>\n",
              "      <td>Ste 1.5 dCi 90ch energy Air MédiaNav eco² Euro6 8</td>\n",
              "      <td>Renault Clio</td>\n",
              "      <td>[\\nRoue de secours ABS Aide au démarrage en cô...</td>\n",
              "    </tr>\n",
              "    <tr>\n",
              "      <th>13470</th>\n",
              "      <td>None</td>\n",
              "      <td>NaN</td>\n",
              "      <td>Limited 1.2 16v 55kW (75CV) -18</td>\n",
              "      <td>Renault Clio</td>\n",
              "      <td>[\\nMás de 2.000 coches en la web de Flexicar ,...</td>\n",
              "    </tr>\n",
              "    <tr>\n",
              "      <th>13576</th>\n",
              "      <td>None</td>\n",
              "      <td>NaN</td>\n",
              "      <td>Ste 1.5 dCi 75ch energy Air MédiaNav Euro6</td>\n",
              "      <td>Renault Clio</td>\n",
              "      <td>[\\nAide au parking AR Roue de secours ABS Aide...</td>\n",
              "    </tr>\n",
              "    <tr>\n",
              "      <th>13703</th>\n",
              "      <td>None</td>\n",
              "      <td>NaN</td>\n",
              "      <td>Ste 1.5 dCi 75ch energy Air MédiaNav</td>\n",
              "      <td>Renault Clio</td>\n",
              "      <td>[\\nABS Clim manuelle ESP GPS Cartographique Ki...</td>\n",
              "    </tr>\n",
              "    <tr>\n",
              "      <th>13725</th>\n",
              "      <td>None</td>\n",
              "      <td>NaN</td>\n",
              "      <td>Ste 1.5 dCi 75ch energy Air MédiaNav</td>\n",
              "      <td>Renault Clio</td>\n",
              "      <td>[\\nRoue de secours ABS Clim manuelle ESP GPS C...</td>\n",
              "    </tr>\n",
              "    <tr>\n",
              "      <th>13852</th>\n",
              "      <td>None</td>\n",
              "      <td>NaN</td>\n",
              "      <td>van 1.5 dci 75cv S S E6</td>\n",
              "      <td>Renault Clio</td>\n",
              "      <td>[\\nEuro 6, ABS, Air Bag, Air Bag Pass., Servos...</td>\n",
              "    </tr>\n",
              "    <tr>\n",
              "      <th>13900</th>\n",
              "      <td>None</td>\n",
              "      <td>NaN</td>\n",
              "      <td>1.5 dCi 75ch energy Zen 5p</td>\n",
              "      <td>Renault Clio</td>\n",
              "      <td>[\\nRoue de secours ABS Aide au démarrage en cô...</td>\n",
              "    </tr>\n",
              "    <tr>\n",
              "      <th>14107</th>\n",
              "      <td>None</td>\n",
              "      <td>NaN</td>\n",
              "      <td>Business Energy dCi 55kW (75CV)</td>\n",
              "      <td>Renault Clio</td>\n",
              "      <td>[\\nMás de 2.000 coches en la web de Flexicar ,...</td>\n",
              "    </tr>\n",
              "    <tr>\n",
              "      <th>14124</th>\n",
              "      <td>None</td>\n",
              "      <td>NaN</td>\n",
              "      <td>Ste 1.5 dCi 75ch energy Air</td>\n",
              "      <td>Renault Clio</td>\n",
              "      <td>[\\n4 Haut parleurs ABS Aide au démarrage en cô...</td>\n",
              "    </tr>\n",
              "    <tr>\n",
              "      <th>14127</th>\n",
              "      <td>None</td>\n",
              "      <td>NaN</td>\n",
              "      <td>Ste 1.5 dCi 75ch energy Air</td>\n",
              "      <td>Renault Clio</td>\n",
              "      <td>[\\n4 Haut parleurs ABS Aide au démarrage en cô...</td>\n",
              "    </tr>\n",
              "    <tr>\n",
              "      <th>14134</th>\n",
              "      <td>None</td>\n",
              "      <td>NaN</td>\n",
              "      <td>Ste 1.5 dCi 75ch energy Générique</td>\n",
              "      <td>Renault Clio</td>\n",
              "      <td>[\\nABS Aide au démarrage en côte Aide au frein...</td>\n",
              "    </tr>\n",
              "    <tr>\n",
              "      <th>14135</th>\n",
              "      <td>None</td>\n",
              "      <td>NaN</td>\n",
              "      <td>Ste 1.5 dCi 75ch energy Générique</td>\n",
              "      <td>Renault Clio</td>\n",
              "      <td>[\\nABS Aide au démarrage en côte Aide au frein...</td>\n",
              "    </tr>\n",
              "    <tr>\n",
              "      <th>14480</th>\n",
              "      <td>None</td>\n",
              "      <td>NaN</td>\n",
              "      <td>1.2i Life</td>\n",
              "      <td>Renault Clio</td>\n",
              "      <td>[\\nAchterramen zijn getint op 5%., Logo\\\\\\'s v...</td>\n",
              "    </tr>\n",
              "    <tr>\n",
              "      <th>14869</th>\n",
              "      <td>None</td>\n",
              "      <td>NaN</td>\n",
              "      <td>Sitzhzg.,Klima,PDC,Bluetooth,Tempomat</td>\n",
              "      <td>Renault Clio</td>\n",
              "      <td>[\\n, BONUSAKTION,  - limitiert u. zeitlich bef...</td>\n",
              "    </tr>\n",
              "    <tr>\n",
              "      <th>14870</th>\n",
              "      <td>None</td>\n",
              "      <td>NaN</td>\n",
              "      <td>Sitzhzg.,Klima,PDC,Bluetooth,Tempomat</td>\n",
              "      <td>Renault Clio</td>\n",
              "      <td>[\\n, BONUSAKTION,  - limitiert u. zeitlich bef...</td>\n",
              "    </tr>\n",
              "    <tr>\n",
              "      <th>14928</th>\n",
              "      <td>None</td>\n",
              "      <td>NaN</td>\n",
              "      <td>Zen Energy dCi 160 Twin Turbo EDC</td>\n",
              "      <td>Renault Espace</td>\n",
              "      <td>[\\nMás de 2.000 coches en la web de Flexicar ,...</td>\n",
              "    </tr>\n",
              "    <tr>\n",
              "      <th>14990</th>\n",
              "      <td>None</td>\n",
              "      <td>NaN</td>\n",
              "      <td>V Espace Limited Tce 225 Edc 7places Co2 = 152g</td>\n",
              "      <td>Renault Espace</td>\n",
              "      <td>[\\nCette voiture sera facturée 22 333 euros HT...</td>\n",
              "    </tr>\n",
              "    <tr>\n",
              "      <th>15058</th>\n",
              "      <td>None</td>\n",
              "      <td>NaN</td>\n",
              "      <td>Zen Energy dCi 160 Twin Turbo EDC</td>\n",
              "      <td>Renault Espace</td>\n",
              "      <td>[\\nMás de 2.000 coches en la web de Flexicar ,...</td>\n",
              "    </tr>\n",
              "    <tr>\n",
              "      <th>15059</th>\n",
              "      <td>None</td>\n",
              "      <td>NaN</td>\n",
              "      <td>Zen Energy dCi 160 Twin Turbo EDC</td>\n",
              "      <td>Renault Espace</td>\n",
              "      <td>[\\nMás de 2.000 coches en la web de Flexicar ,...</td>\n",
              "    </tr>\n",
              "    <tr>\n",
              "      <th>15060</th>\n",
              "      <td>None</td>\n",
              "      <td>NaN</td>\n",
              "      <td>Zen Energy dCi 160 Twin Turbo EDC</td>\n",
              "      <td>Renault Espace</td>\n",
              "      <td>[\\nMás de 2.000 coches en la web de Flexicar ,...</td>\n",
              "    </tr>\n",
              "    <tr>\n",
              "      <th>15124</th>\n",
              "      <td>None</td>\n",
              "      <td>NaN</td>\n",
              "      <td>V Espace Initiale Paris Dci 160 Edc</td>\n",
              "      <td>Renault Espace</td>\n",
              "      <td>[\\nEquipements : ABS, Affichage tête haute, Ai...</td>\n",
              "    </tr>\n",
              "    <tr>\n",
              "      <th>15269</th>\n",
              "      <td>None</td>\n",
              "      <td>NaN</td>\n",
              "      <td>Zen Energy dCi 160 Twin Turbo EDC</td>\n",
              "      <td>Renault Espace</td>\n",
              "      <td>[\\nMás de 2.000 coches en la web de Flexicar ,...</td>\n",
              "    </tr>\n",
              "    <tr>\n",
              "      <th>15275</th>\n",
              "      <td>None</td>\n",
              "      <td>NaN</td>\n",
              "      <td>Zen Energy dCi 160 Twin Turbo EDC</td>\n",
              "      <td>Renault Espace</td>\n",
              "      <td>[\\nMás de 2.000 coches en la web de Flexicar ,...</td>\n",
              "    </tr>\n",
              "    <tr>\n",
              "      <th>15289</th>\n",
              "      <td>None</td>\n",
              "      <td>NaN</td>\n",
              "      <td>V Espace Zen Dci 130 Energy</td>\n",
              "      <td>Renault Espace</td>\n",
              "      <td>[\\nCette voiture sera facturée 23 450 euros HT...</td>\n",
              "    </tr>\n",
              "    <tr>\n",
              "      <th>15307</th>\n",
              "      <td>None</td>\n",
              "      <td>NaN</td>\n",
              "      <td>V Espace Intens Dci 130 Energy Jantes 18''</td>\n",
              "      <td>Renault Espace</td>\n",
              "      <td>[\\nCette voiture sera facturée 25 833 euros HT...</td>\n",
              "    </tr>\n",
              "    <tr>\n",
              "      <th>15378</th>\n",
              "      <td>None</td>\n",
              "      <td>NaN</td>\n",
              "      <td>V Espace Life Dci 130 Energy + Full Led</td>\n",
              "      <td>Renault Espace</td>\n",
              "      <td>[\\nCette voiture sera facturée 22 042 euros HT...</td>\n",
              "    </tr>\n",
              "    <tr>\n",
              "      <th>15437</th>\n",
              "      <td>None</td>\n",
              "      <td>NaN</td>\n",
              "      <td>1.6 dci energy Executive 160cv 7p.ti edc</td>\n",
              "      <td>Renault Espace</td>\n",
              "      <td>[\\n, Altre opzioni, *-Accensione automatica de...</td>\n",
              "    </tr>\n",
              "    <tr>\n",
              "      <th>15452</th>\n",
              "      <td>None</td>\n",
              "      <td>NaN</td>\n",
              "      <td>V Espace Intens Dci 160 Energy Edc Jantes 18''</td>\n",
              "      <td>Renault Espace</td>\n",
              "      <td>[\\nCette voiture sera facturée 27 750 euros HT...</td>\n",
              "    </tr>\n",
              "    <tr>\n",
              "      <th>15456</th>\n",
              "      <td>None</td>\n",
              "      <td>NaN</td>\n",
              "      <td>V Espace Initiale Paris Dci 160 Edc 7places + ...</td>\n",
              "      <td>Renault Espace</td>\n",
              "      <td>[\\nCette voiture sera facturée 27 833 euros HT...</td>\n",
              "    </tr>\n",
              "    <tr>\n",
              "      <th>15457</th>\n",
              "      <td>None</td>\n",
              "      <td>NaN</td>\n",
              "      <td>V Espace Initiale Paris Dci 160 Edc 7places + ...</td>\n",
              "      <td>Renault Espace</td>\n",
              "      <td>[\\nCette voiture sera facturée 27 833 euros HT...</td>\n",
              "    </tr>\n",
              "    <tr>\n",
              "      <th>15488</th>\n",
              "      <td>None</td>\n",
              "      <td>NaN</td>\n",
              "      <td>V Espace Intens Tce 225 Energy Edc</td>\n",
              "      <td>Renault Espace</td>\n",
              "      <td>[\\nCette voiture sera facturée 27 167 euros HT...</td>\n",
              "    </tr>\n",
              "    <tr>\n",
              "      <th>15489</th>\n",
              "      <td>None</td>\n",
              "      <td>NaN</td>\n",
              "      <td>1.6 dCi Energy Initiale Paris EDC CUIR GPS LED</td>\n",
              "      <td>Renault Espace</td>\n",
              "      <td>[\\n1° Main7 PlacesIntérieur cuirSièges avant é...</td>\n",
              "    </tr>\n",
              "    <tr>\n",
              "      <th>15491</th>\n",
              "      <td>None</td>\n",
              "      <td>NaN</td>\n",
              "      <td>1.6 dCi Energy Initiale Paris EDC CUIR GPS LED</td>\n",
              "      <td>Renault Espace</td>\n",
              "      <td>[\\n1° Main7 PlacesIntérieur cuirSièges avant é...</td>\n",
              "    </tr>\n",
              "    <tr>\n",
              "      <th>15499</th>\n",
              "      <td>None</td>\n",
              "      <td>NaN</td>\n",
              "      <td>V Espace Intens Tce 225 Energy Edc Jantes 18''</td>\n",
              "      <td>Renault Espace</td>\n",
              "      <td>[\\nCette voiture sera facturée 26 833 euros HT...</td>\n",
              "    </tr>\n",
              "    <tr>\n",
              "      <th>15544</th>\n",
              "      <td>None</td>\n",
              "      <td>NaN</td>\n",
              "      <td>V Espace Zen Tce 225 Energy Edc</td>\n",
              "      <td>Renault Espace</td>\n",
              "      <td>[\\nCette voiture sera facturée 24 792 euros HT...</td>\n",
              "    </tr>\n",
              "    <tr>\n",
              "      <th>15556</th>\n",
              "      <td>None</td>\n",
              "      <td>NaN</td>\n",
              "      <td>V Espace Zen Dci 160 Energy Edc</td>\n",
              "      <td>Renault Espace</td>\n",
              "      <td>[\\nCette voiture sera facturée 25 133 euros HT...</td>\n",
              "    </tr>\n",
              "    <tr>\n",
              "      <th>15589</th>\n",
              "      <td>None</td>\n",
              "      <td>NaN</td>\n",
              "      <td>1.6 dci energy Intens 160cv 7p.ti edc</td>\n",
              "      <td>Renault Espace</td>\n",
              "      <td>[\\n, Altre opzioni, *-Accensione automatica de...</td>\n",
              "    </tr>\n",
              "    <tr>\n",
              "      <th>15696</th>\n",
              "      <td>None</td>\n",
              "      <td>NaN</td>\n",
              "      <td>1.6 dci energy Executive 160cv 7p.ti edc</td>\n",
              "      <td>Renault Espace</td>\n",
              "      <td>[\\n, Altre opzioni, *-Accensione automatica de...</td>\n",
              "    </tr>\n",
              "    <tr>\n",
              "      <th>15712</th>\n",
              "      <td>None</td>\n",
              "      <td>NaN</td>\n",
              "      <td>1.6 dci energy Intens 160cv 7p.ti edc</td>\n",
              "      <td>Renault Espace</td>\n",
              "      <td>[\\n, Altre opzioni, *-Accensione automatica de...</td>\n",
              "    </tr>\n",
              "    <tr>\n",
              "      <th>15736</th>\n",
              "      <td>None</td>\n",
              "      <td>NaN</td>\n",
              "      <td>V Espace Initiale Paris Tce 225 Energy Edc</td>\n",
              "      <td>Renault Espace</td>\n",
              "      <td>[\\nCette voiture sera facturée 29 540 euros HT...</td>\n",
              "    </tr>\n",
              "    <tr>\n",
              "      <th>15770</th>\n",
              "      <td>None</td>\n",
              "      <td>NaN</td>\n",
              "      <td>V Espace Initiale Paris Dci 160 Energy Edc</td>\n",
              "      <td>Renault Espace</td>\n",
              "      <td>[\\nCette voiture sera facturée 29 942 euros HT...</td>\n",
              "    </tr>\n",
              "  </tbody>\n",
              "</table>\n",
              "</div>\n",
              "      <button class=\"colab-df-convert\" onclick=\"convertToInteractive('df-f6ca73eb-59fb-4d0f-bd23-216c82f0f009')\"\n",
              "              title=\"Convert this dataframe to an interactive table.\"\n",
              "              style=\"display:none;\">\n",
              "        \n",
              "  <svg xmlns=\"http://www.w3.org/2000/svg\" height=\"24px\"viewBox=\"0 0 24 24\"\n",
              "       width=\"24px\">\n",
              "    <path d=\"M0 0h24v24H0V0z\" fill=\"none\"/>\n",
              "    <path d=\"M18.56 5.44l.94 2.06.94-2.06 2.06-.94-2.06-.94-.94-2.06-.94 2.06-2.06.94zm-11 1L8.5 8.5l.94-2.06 2.06-.94-2.06-.94L8.5 2.5l-.94 2.06-2.06.94zm10 10l.94 2.06.94-2.06 2.06-.94-2.06-.94-.94-2.06-.94 2.06-2.06.94z\"/><path d=\"M17.41 7.96l-1.37-1.37c-.4-.4-.92-.59-1.43-.59-.52 0-1.04.2-1.43.59L10.3 9.45l-7.72 7.72c-.78.78-.78 2.05 0 2.83L4 21.41c.39.39.9.59 1.41.59.51 0 1.02-.2 1.41-.59l7.78-7.78 2.81-2.81c.8-.78.8-2.07 0-2.86zM5.41 20L4 18.59l7.72-7.72 1.47 1.35L5.41 20z\"/>\n",
              "  </svg>\n",
              "      </button>\n",
              "      \n",
              "  <style>\n",
              "    .colab-df-container {\n",
              "      display:flex;\n",
              "      flex-wrap:wrap;\n",
              "      gap: 12px;\n",
              "    }\n",
              "\n",
              "    .colab-df-convert {\n",
              "      background-color: #E8F0FE;\n",
              "      border: none;\n",
              "      border-radius: 50%;\n",
              "      cursor: pointer;\n",
              "      display: none;\n",
              "      fill: #1967D2;\n",
              "      height: 32px;\n",
              "      padding: 0 0 0 0;\n",
              "      width: 32px;\n",
              "    }\n",
              "\n",
              "    .colab-df-convert:hover {\n",
              "      background-color: #E2EBFA;\n",
              "      box-shadow: 0px 1px 2px rgba(60, 64, 67, 0.3), 0px 1px 3px 1px rgba(60, 64, 67, 0.15);\n",
              "      fill: #174EA6;\n",
              "    }\n",
              "\n",
              "    [theme=dark] .colab-df-convert {\n",
              "      background-color: #3B4455;\n",
              "      fill: #D2E3FC;\n",
              "    }\n",
              "\n",
              "    [theme=dark] .colab-df-convert:hover {\n",
              "      background-color: #434B5C;\n",
              "      box-shadow: 0px 1px 3px 1px rgba(0, 0, 0, 0.15);\n",
              "      filter: drop-shadow(0px 1px 2px rgba(0, 0, 0, 0.3));\n",
              "      fill: #FFFFFF;\n",
              "    }\n",
              "  </style>\n",
              "\n",
              "      <script>\n",
              "        const buttonEl =\n",
              "          document.querySelector('#df-f6ca73eb-59fb-4d0f-bd23-216c82f0f009 button.colab-df-convert');\n",
              "        buttonEl.style.display =\n",
              "          google.colab.kernel.accessAllowed ? 'block' : 'none';\n",
              "\n",
              "        async function convertToInteractive(key) {\n",
              "          const element = document.querySelector('#df-f6ca73eb-59fb-4d0f-bd23-216c82f0f009');\n",
              "          const dataTable =\n",
              "            await google.colab.kernel.invokeFunction('convertToInteractive',\n",
              "                                                     [key], {});\n",
              "          if (!dataTable) return;\n",
              "\n",
              "          const docLinkHtml = 'Like what you see? Visit the ' +\n",
              "            '<a target=\"_blank\" href=https://colab.research.google.com/notebooks/data_table.ipynb>data table notebook</a>'\n",
              "            + ' to learn more about interactive tables.';\n",
              "          element.innerHTML = '';\n",
              "          dataTable['output_type'] = 'display_data';\n",
              "          await google.colab.output.renderOutput(dataTable, element);\n",
              "          const docLink = document.createElement('div');\n",
              "          docLink.innerHTML = docLinkHtml;\n",
              "          element.appendChild(docLink);\n",
              "        }\n",
              "      </script>\n",
              "    </div>\n",
              "  </div>\n",
              "  "
            ]
          },
          "metadata": {},
          "execution_count": 29
        }
      ]
    },
    {
      "cell_type": "code",
      "source": [
        "df.loc[df[\"make_model\"] == \"Audi A3\"]"
      ],
      "metadata": {
        "colab": {
          "base_uri": "https://localhost:8080/",
          "height": 1000
        },
        "id": "zAMJAW8S6qeF",
        "outputId": "40e2fa36-08a7-4c6e-ecb1-a1e0ef4612c5"
      },
      "execution_count": null,
      "outputs": [
        {
          "output_type": "execute_result",
          "data": {
            "text/plain": [
              "     make_model                                short_description  \\\n",
              "2615    Audi A3             1,5 TFSI BENZINA TURBO 155 CV CABRIO   \n",
              "2616    Audi A3                          1.6 TDI S tronic design   \n",
              "2617    Audi A3              SPORTBACK 1.6 TDI S tronic Business   \n",
              "2618    Audi A3              Sportback 2.0 TDI Leder Navi Xenon+   \n",
              "2619    Audi A3    2.0TDI/S tronic/NAVI/MMI/BIXENON//LED/SENSORI   \n",
              "...         ...                                              ...   \n",
              "5707    Audi A3                                SPB 30 TFSI Sport   \n",
              "5708    Audi A3    Sportback, 35 TFSI, 1.5, 150 PS, EURO 6, WLTP   \n",
              "5709    Audi A3  Sportback design 30 TFSI Sitzheizung vorne, Lic   \n",
              "5710    Audi A3    Sportback 30 TFSI design Connectivity Einpark   \n",
              "5711    Audi A3    Sportback 30 TFSI DESIGN Connectivity Einpark   \n",
              "\n",
              "          body_type  price               vat          km registration  \\\n",
              "2615    Convertible  10893    VAT deductible   19,800 km      06/2018   \n",
              "2616         Sedans  13000  Price negotiable   36,792 km      06/2017   \n",
              "2617         Sedans  15450    VAT deductible  149,006 km      10/2016   \n",
              "2618         Sedans  15680    VAT deductible  141,147 km      02/2016   \n",
              "2619         Sedans  16490  Price negotiable   44,500 km      08/2016   \n",
              "...             ...    ...               ...         ...          ...   \n",
              "5707         Sedans  25000    VAT deductible       54 km      01/2019   \n",
              "5708         Sedans  24980    VAT deductible       50 km      01/2019   \n",
              "5709  Station wagon  24980              None    6,666 km      02/2019   \n",
              "5710         Sedans  24980    VAT deductible       10 km          -/-   \n",
              "5711         Sedans  24980    VAT deductible       10 km          -/-   \n",
              "\n",
              "            prev_owner  kW      hp                                     Type  \\\n",
              "2615              None NaN  110 kW                     [, Used, , Gasoline]   \n",
              "2616  1 previous owner NaN   81 kW                       [, Used, , Diesel]   \n",
              "2617  1 previous owner NaN   81 kW                       [, Used, , Diesel]   \n",
              "2618  1 previous owner NaN  110 kW  [, Used, , Diesel (Particulate Filter)]   \n",
              "2619  1 previous owner NaN  110 kW                       [, Used, , Diesel]   \n",
              "...                ...  ..     ...                                      ...   \n",
              "5707              None NaN   85 kW           [, Pre-registered, , Super 95]   \n",
              "5708  1 previous owner NaN  110 kW       [, Pre-registered, , Super E10 95]   \n",
              "5709  1 previous owner NaN   85 kW            [, Demonstration, , Super 95]   \n",
              "5710              None NaN   85 kW                      [, New, , Super 95]   \n",
              "5711              None NaN   85 kW                      [, New, , Super 95]   \n",
              "\n",
              "     Previous Owners                         Next Inspection  \\\n",
              "2615             NaN                                     NaN   \n",
              "2616           \\n1\\n                                     NaN   \n",
              "2617           \\n1\\n                                     NaN   \n",
              "2618           \\n1\\n                                     NaN   \n",
              "2619           \\n1\\n                                     NaN   \n",
              "...              ...                                     ...   \n",
              "5707             NaN                                     NaN   \n",
              "5708           \\n1\\n                                     NaN   \n",
              "5709           \\n1\\n  [\\n02/2022\\n, \\n118 g CO2/km (comb)\\n]   \n",
              "5710             NaN                                     NaN   \n",
              "5711             NaN                                     NaN   \n",
              "\n",
              "                          Inspection new  \\\n",
              "2615                                 NaN   \n",
              "2616                                 NaN   \n",
              "2617                                 NaN   \n",
              "2618                                 NaN   \n",
              "2619                                 NaN   \n",
              "...                                  ...   \n",
              "5707                                 NaN   \n",
              "5708  [\\nYes\\n, \\n125 g CO2/km (comb)\\n]   \n",
              "5709                                 NaN   \n",
              "5710                                 NaN   \n",
              "5711                                 NaN   \n",
              "\n",
              "                                      Warranty                Full Service  \\\n",
              "2615  [\\n16 months\\n, \\n116 g CO2/km (comb)\\n]  [\\n, \\n, \\nEuro 6d-TEMP\\n]   \n",
              "2616                                       NaN                         NaN   \n",
              "2617                                       NaN                         NaN   \n",
              "2618                                       NaN     [\\n, \\n, \\n4 (Green)\\n]   \n",
              "2619                           [\\n12 months\\n]                    [\\n, \\n]   \n",
              "...                                        ...                         ...   \n",
              "5707                                        \\n                         NaN   \n",
              "5708                                       NaN                         NaN   \n",
              "5709                      [\\n, \\n, \\nEuro 6\\n]                         NaN   \n",
              "5710                                        \\n                         NaN   \n",
              "5711                                        \\n                         NaN   \n",
              "\n",
              "                    Non-smoking Vehicle null      Make         Model  \\\n",
              "2615                           [\\n, \\n]   []  \\nAudi\\n  [\\n, A3, \\n]   \n",
              "2616                                NaN   []  \\nAudi\\n  [\\n, A3, \\n]   \n",
              "2617                                NaN   []  \\nAudi\\n  [\\n, A3, \\n]   \n",
              "2618                                NaN   []  \\nAudi\\n  [\\n, A3, \\n]   \n",
              "2619                                NaN   []  \\nAudi\\n  [\\n, A3, \\n]   \n",
              "...                                 ...  ...       ...           ...   \n",
              "5707  [\\n, \\n, \\n117 g CO2/km (comb)\\n]   []  \\nAudi\\n  [\\n, A3, \\n]   \n",
              "5708                                NaN   []  \\nAudi\\n  [\\n, A3, \\n]   \n",
              "5709            [\\n, \\n, \\n4 (Green)\\n]   []  \\nAudi\\n  [\\n, A3, \\n]   \n",
              "5710  [\\n, \\n, \\n113 g CO2/km (comb)\\n]   []  \\nAudi\\n  [\\n, A3, \\n]   \n",
              "5711  [\\n, \\n, \\n113 g CO2/km (comb)\\n]   []  \\nAudi\\n  [\\n, A3, \\n]   \n",
              "\n",
              "        Offer Number First Registration        Body Color      Paint Type  \\\n",
              "2615             NaN     [\\n, 2018, \\n]     [\\n, Red, \\n]             NaN   \n",
              "2616             NaN     [\\n, 2017, \\n]   [\\n, White, \\n]             NaN   \n",
              "2617   [\\n2753381\\n]     [\\n, 2016, \\n]    [\\n, Blue, \\n]  [\\nMetallic\\n]   \n",
              "2618    [\\n224098\\n]     [\\n, 2016, \\n]   [\\n, Black, \\n]  [\\nMetallic\\n]   \n",
              "2619             NaN     [\\n, 2016, \\n]    [\\n, Grey, \\n]  [\\nMetallic\\n]   \n",
              "...              ...                ...               ...             ...   \n",
              "5707  [\\njkbzqkr4\\n]     [\\n, 2019, \\n]   [\\n, White, \\n]             NaN   \n",
              "5708      [\\n3097\\n]     [\\n, 2019, \\n]   [\\n, White, \\n]             NaN   \n",
              "5709   [\\nA001496\\n]     [\\n, 2019, \\n]  [\\n, Silver, \\n]  [\\nMetallic\\n]   \n",
              "5710    [\\nGDR658\\n]                NaN  [\\n, Silver, \\n]  [\\nMetallic\\n]   \n",
              "5711    [\\nGDR657\\n]                NaN  [\\n, Silver, \\n]  [\\nMetallic\\n]   \n",
              "\n",
              "               Body Color Original                 Upholstery  \\\n",
              "2615                   [\\nRosso\\n]  [\\nPart leather, Brown\\n]   \n",
              "2616                           NaN                        NaN   \n",
              "2617                     [\\nBlu\\n]                 [\\nGrey\\n]   \n",
              "2618      [\\nmythosschwarz met.\\n]      [\\nalcantara, Grey\\n]   \n",
              "2619                           NaN                        NaN   \n",
              "...                            ...                        ...   \n",
              "5707                           NaN         [\\nCloth, Other\\n]   \n",
              "5708                [\\nIbisweiß\\n]                [\\nCloth\\n]   \n",
              "5709           [\\nFlorettsilber\\n]  [\\nPart leather, Black\\n]   \n",
              "5710  [\\nFlorettsilber Metallic\\n]  [\\nPart leather, Black\\n]   \n",
              "5711  [\\nFlorettsilber Metallic\\n]  [\\nPart leather, Black\\n]   \n",
              "\n",
              "                         Body Nr. of Doors Nr. of Seats      Model Code  \\\n",
              "2615    [\\n, Convertible, \\n]      [\\n2\\n]      [\\n4\\n]             NaN   \n",
              "2616         [\\n, Sedans, \\n]      [\\n3\\n]      [\\n5\\n]             NaN   \n",
              "2617         [\\n, Sedans, \\n]          NaN          NaN             NaN   \n",
              "2618         [\\n, Sedans, \\n]      [\\n4\\n]      [\\n5\\n]  [\\n0588/AWJ\\n]   \n",
              "2619         [\\n, Sedans, \\n]      [\\n5\\n]          NaN             NaN   \n",
              "...                       ...          ...          ...             ...   \n",
              "5707         [\\n, Sedans, \\n]      [\\n5\\n]      [\\n5\\n]             NaN   \n",
              "5708         [\\n, Sedans, \\n]      [\\n5\\n]      [\\n5\\n]  [\\n0588/BLL\\n]   \n",
              "5709  [\\n, Station wagon, \\n]      [\\n5\\n]      [\\n5\\n]  [\\n0588/BHX\\n]   \n",
              "5710         [\\n, Sedans, \\n]      [\\n4\\n]      [\\n5\\n]  [\\n0588/BHX\\n]   \n",
              "5711         [\\n, Sedans, \\n]      [\\n4\\n]      [\\n5\\n]  [\\n0588/BHX\\n]   \n",
              "\n",
              "             Gearing Type    Displacement Cylinders          Weight  \\\n",
              "2615  [\\n, Automatic, \\n]  [\\n1,498 cc\\n]   [\\n4\\n]  [\\n1,470 kg\\n]   \n",
              "2616  [\\n, Automatic, \\n]  [\\n1,598 cc\\n]   [\\n4\\n]  [\\n1,255 kg\\n]   \n",
              "2617  [\\n, Automatic, \\n]             NaN       NaN             NaN   \n",
              "2618  [\\n, Automatic, \\n]  [\\n1,968 cc\\n]       NaN             NaN   \n",
              "2619  [\\n, Automatic, \\n]             NaN       NaN             NaN   \n",
              "...                   ...             ...       ...             ...   \n",
              "5707     [\\n, Manual, \\n]    [\\n999 cc\\n]   [\\n3\\n]             NaN   \n",
              "5708     [\\n, Manual, \\n]  [\\n1,498 cc\\n]   [\\n4\\n]  [\\n1,325 kg\\n]   \n",
              "5709     [\\n, Manual, \\n]    [\\n999 cc\\n]       NaN  [\\n1,365 kg\\n]   \n",
              "5710     [\\n, Manual, \\n]    [\\n999 cc\\n]   [\\n3\\n]  [\\n1,255 kg\\n]   \n",
              "5711     [\\n, Manual, \\n]    [\\n999 cc\\n]   [\\n3\\n]  [\\n1,255 kg\\n]   \n",
              "\n",
              "      Drive chain                                   Fuel  \\\n",
              "2615  [\\nfront\\n]                     [\\n, Gasoline, \\n]   \n",
              "2616          NaN                       [\\n, Diesel, \\n]   \n",
              "2617          NaN                       [\\n, Diesel, \\n]   \n",
              "2618          NaN  [\\n, Diesel (Particulate Filter), \\n]   \n",
              "2619          NaN                       [\\n, Diesel, \\n]   \n",
              "...           ...                                    ...   \n",
              "5707  [\\nfront\\n]                     [\\n, Super 95, \\n]   \n",
              "5708          NaN                 [\\n, Super E10 95, \\n]   \n",
              "5709          NaN                     [\\n, Super 95, \\n]   \n",
              "5710          NaN                     [\\n, Super 95, \\n]   \n",
              "5711          NaN                     [\\n, Super 95, \\n]   \n",
              "\n",
              "                                            Consumption  \\\n",
              "2615  [[5.1 l/100 km (comb)], [6.3 l/100 km (city)],...   \n",
              "2616  [[4 l/100 km (comb)], [4.7 l/100 km (city)], [...   \n",
              "2617                                                NaN   \n",
              "2618                                                NaN   \n",
              "2619                                                NaN   \n",
              "...                                                 ...   \n",
              "5707  [[5.1 l/100 km (comb)], [6 l/100 km (city)], [...   \n",
              "5708  [[5.5 l/100 km (comb)], [6.9 l/100 km (city)],...   \n",
              "5709  [[5.1 l/100 km (comb)], [6.1 l/100 km (city)],...   \n",
              "5710  [[4.8 l/100 km (comb)], [5.8 l/100 km (city)],...   \n",
              "5711  [[4.8 l/100 km (comb)], [5.8 l/100 km (city)],...   \n",
              "\n",
              "                   CO2 Emission      Emission Class  \\\n",
              "2615  [\\n116 g CO2/km (comb)\\n]  [\\nEuro 6d-TEMP\\n]   \n",
              "2616  [\\n107 g CO2/km (comb)\\n]        [\\nEuro 6\\n]   \n",
              "2617                        NaN        [[], [], []]   \n",
              "2618                        NaN        [[], [], []]   \n",
              "2619                        NaN                 NaN   \n",
              "...                         ...                 ...   \n",
              "5707  [\\n117 g CO2/km (comb)\\n]                 NaN   \n",
              "5708  [\\n125 g CO2/km (comb)\\n]                 NaN   \n",
              "5709  [\\n118 g CO2/km (comb)\\n]        [\\nEuro 6\\n]   \n",
              "5710  [\\n113 g CO2/km (comb)\\n]        [\\nEuro 6\\n]   \n",
              "5711  [\\n113 g CO2/km (comb)\\n]        [\\nEuro 6\\n]   \n",
              "\n",
              "                              \\nComfort & Convenience\\n  \\\n",
              "2615  [Air conditioning, Armrest, Automatic climate ...   \n",
              "2616  [Air conditioning, Hill Holder, Leather steeri...   \n",
              "2617                                                NaN   \n",
              "2618  [Air conditioning, Automatic climate control, ...   \n",
              "2619  [Air conditioning, Armrest, Automatic climate ...   \n",
              "...                                                 ...   \n",
              "5707  [Air conditioning, Armrest, Automatic climate ...   \n",
              "5708  [Air conditioning, Armrest, Automatic climate ...   \n",
              "5709  [Air conditioning, Armrest, Automatic climate ...   \n",
              "5710  [Air conditioning, Armrest, Automatic climate ...   \n",
              "5711  [Air conditioning, Armrest, Automatic climate ...   \n",
              "\n",
              "                              \\nEntertainment & Media\\n  \\\n",
              "2615  [Bluetooth, CD player, Digital radio, Hands-fr...   \n",
              "2616  [Bluetooth, CD player, MP3, On-board computer,...   \n",
              "2617                                                NaN   \n",
              "2618          [Bluetooth, CD player, On-board computer]   \n",
              "2619  [Bluetooth, CD player, Digital radio, Hands-fr...   \n",
              "...                                                 ...   \n",
              "5707  [Bluetooth, CD player, Hands-free equipment, M...   \n",
              "5708                                   [Bluetooth, USB]   \n",
              "5709  [Bluetooth, Hands-free equipment, MP3, On-boar...   \n",
              "5710  [Bluetooth, CD player, Hands-free equipment, O...   \n",
              "5711  [Bluetooth, CD player, Hands-free equipment, O...   \n",
              "\n",
              "                                             \\nExtras\\n  \\\n",
              "2615                      [Alloy wheels, Shift paddles]   \n",
              "2616                      [Alloy wheels, Voice Control]   \n",
              "2617                                                NaN   \n",
              "2618             [Alloy wheels, Roof rack, Sport seats]   \n",
              "2619    [Alloy wheels, Roof rack, Ski bag, Sport seats]   \n",
              "...                                                 ...   \n",
              "5707  [Alloy wheels, Sport seats, Sport suspension, ...   \n",
              "5708                                     [Alloy wheels]   \n",
              "5709                          [Alloy wheels, Roof rack]   \n",
              "5710                          [Alloy wheels, Roof rack]   \n",
              "5711                          [Alloy wheels, Roof rack]   \n",
              "\n",
              "                                  \\nSafety & Security\\n  \\\n",
              "2615  [ABS, Adaptive Cruise Control, Blind spot moni...   \n",
              "2616  [ABS, Central door lock with remote control, D...   \n",
              "2617                                                NaN   \n",
              "2618  [ABS, Central door lock, Driver-side airbag, E...   \n",
              "2619  [ABS, Adaptive Cruise Control, Adaptive headli...   \n",
              "...                                                 ...   \n",
              "5707  [ABS, Adaptive headlights, Central door lock, ...   \n",
              "5708  [ABS, Central door lock, Driver-side airbag, E...   \n",
              "5709  [ABS, Central door lock, Daytime running light...   \n",
              "5710  [ABS, Central door lock, Daytime running light...   \n",
              "5711  [ABS, Central door lock, Daytime running light...   \n",
              "\n",
              "                                            description        Emission Label  \\\n",
              "2615  [\\n, Attenzione il prezzo che vedete e' indica...                   NaN   \n",
              "2616                                                 []                   NaN   \n",
              "2617  [\\nDEK:[2753381], Codice riferimento: 16061 - ...                   NaN   \n",
              "2618  [\\n, Nr. 2908 Standort: 27404 Bockel ,  ,  ,  ...       [\\n4 (Green)\\n]   \n",
              "2619  [\\n(SI ACCETTANO EVENTUALI PERMUTE) GARANZIA C...                   NaN   \n",
              "...                                                 ...                   ...   \n",
              "5707  [\\nGaranzia del costruttore , vettura aziendal...  [\\n1 (No sticker)\\n]   \n",
              "5708  [\\nWir heißen Sie herzlich Willkommen im Autoh...       [\\n4 (Green)\\n]   \n",
              "5709  [\\n, Ausstattungspakete:,  Connectivity paket,...                   NaN   \n",
              "5710  [\\n, Preis inkl. Überführungskosten, Getriebe ...       [\\n4 (Green)\\n]   \n",
              "5711  [\\n, Preis inkl. Überführungskosten, Getriebe ...       [\\n4 (Green)\\n]   \n",
              "\n",
              "        Gears Country version Electricity consumption Last Service Date  \\\n",
              "2615  [\\n7\\n]     [\\nItaly\\n]                     NaN       \\n06/2019\\n   \n",
              "2616  [\\n7\\n]             NaN                     NaN               NaN   \n",
              "2617      NaN             NaN                     NaN               NaN   \n",
              "2618      NaN             NaN                     NaN               NaN   \n",
              "2619      NaN     [\\nItaly\\n]                     NaN               NaN   \n",
              "...       ...             ...                     ...               ...   \n",
              "5707  [\\n6\\n]             NaN                     NaN               NaN   \n",
              "5708  [\\n6\\n]             NaN                     NaN               NaN   \n",
              "5709      NaN             NaN                     NaN               NaN   \n",
              "5710  [\\n6\\n]   [\\nGermany\\n]                     NaN               NaN   \n",
              "5711  [\\n6\\n]   [\\nGermany\\n]                     NaN               NaN   \n",
              "\n",
              "     Other Fuel Types Availability Last Timing Belt Service Date  \\\n",
              "2615              NaN          NaN                           NaN   \n",
              "2616              NaN          NaN                           NaN   \n",
              "2617              NaN          NaN                           NaN   \n",
              "2618              NaN          NaN                           NaN   \n",
              "2619              NaN          NaN                           NaN   \n",
              "...               ...          ...                           ...   \n",
              "5707              NaN          NaN                           NaN   \n",
              "5708              NaN          NaN                           NaN   \n",
              "5709              NaN          NaN                           NaN   \n",
              "5710              NaN          NaN                           NaN   \n",
              "5711              NaN          NaN                           NaN   \n",
              "\n",
              "     Available from  \n",
              "2615            NaN  \n",
              "2616            NaN  \n",
              "2617            NaN  \n",
              "2618            NaN  \n",
              "2619            NaN  \n",
              "...             ...  \n",
              "5707            NaN  \n",
              "5708            NaN  \n",
              "5709            NaN  \n",
              "5710            NaN  \n",
              "5711            NaN  \n",
              "\n",
              "[3097 rows x 53 columns]"
            ],
            "text/html": [
              "\n",
              "  <div id=\"df-f095ae65-8cdc-426b-8259-e9b1e1232318\">\n",
              "    <div class=\"colab-df-container\">\n",
              "      <div>\n",
              "<style scoped>\n",
              "    .dataframe tbody tr th:only-of-type {\n",
              "        vertical-align: middle;\n",
              "    }\n",
              "\n",
              "    .dataframe tbody tr th {\n",
              "        vertical-align: top;\n",
              "    }\n",
              "\n",
              "    .dataframe thead th {\n",
              "        text-align: right;\n",
              "    }\n",
              "</style>\n",
              "<table border=\"1\" class=\"dataframe\">\n",
              "  <thead>\n",
              "    <tr style=\"text-align: right;\">\n",
              "      <th></th>\n",
              "      <th>make_model</th>\n",
              "      <th>short_description</th>\n",
              "      <th>body_type</th>\n",
              "      <th>price</th>\n",
              "      <th>vat</th>\n",
              "      <th>km</th>\n",
              "      <th>registration</th>\n",
              "      <th>prev_owner</th>\n",
              "      <th>kW</th>\n",
              "      <th>hp</th>\n",
              "      <th>Type</th>\n",
              "      <th>Previous Owners</th>\n",
              "      <th>Next Inspection</th>\n",
              "      <th>Inspection new</th>\n",
              "      <th>Warranty</th>\n",
              "      <th>Full Service</th>\n",
              "      <th>Non-smoking Vehicle</th>\n",
              "      <th>null</th>\n",
              "      <th>Make</th>\n",
              "      <th>Model</th>\n",
              "      <th>Offer Number</th>\n",
              "      <th>First Registration</th>\n",
              "      <th>Body Color</th>\n",
              "      <th>Paint Type</th>\n",
              "      <th>Body Color Original</th>\n",
              "      <th>Upholstery</th>\n",
              "      <th>Body</th>\n",
              "      <th>Nr. of Doors</th>\n",
              "      <th>Nr. of Seats</th>\n",
              "      <th>Model Code</th>\n",
              "      <th>Gearing Type</th>\n",
              "      <th>Displacement</th>\n",
              "      <th>Cylinders</th>\n",
              "      <th>Weight</th>\n",
              "      <th>Drive chain</th>\n",
              "      <th>Fuel</th>\n",
              "      <th>Consumption</th>\n",
              "      <th>CO2 Emission</th>\n",
              "      <th>Emission Class</th>\n",
              "      <th>\\nComfort &amp; Convenience\\n</th>\n",
              "      <th>\\nEntertainment &amp; Media\\n</th>\n",
              "      <th>\\nExtras\\n</th>\n",
              "      <th>\\nSafety &amp; Security\\n</th>\n",
              "      <th>description</th>\n",
              "      <th>Emission Label</th>\n",
              "      <th>Gears</th>\n",
              "      <th>Country version</th>\n",
              "      <th>Electricity consumption</th>\n",
              "      <th>Last Service Date</th>\n",
              "      <th>Other Fuel Types</th>\n",
              "      <th>Availability</th>\n",
              "      <th>Last Timing Belt Service Date</th>\n",
              "      <th>Available from</th>\n",
              "    </tr>\n",
              "  </thead>\n",
              "  <tbody>\n",
              "    <tr>\n",
              "      <th>2615</th>\n",
              "      <td>Audi A3</td>\n",
              "      <td>1,5 TFSI BENZINA TURBO 155 CV CABRIO</td>\n",
              "      <td>Convertible</td>\n",
              "      <td>10893</td>\n",
              "      <td>VAT deductible</td>\n",
              "      <td>19,800 km</td>\n",
              "      <td>06/2018</td>\n",
              "      <td>None</td>\n",
              "      <td>NaN</td>\n",
              "      <td>110 kW</td>\n",
              "      <td>[, Used, , Gasoline]</td>\n",
              "      <td>NaN</td>\n",
              "      <td>NaN</td>\n",
              "      <td>NaN</td>\n",
              "      <td>[\\n16 months\\n, \\n116 g CO2/km (comb)\\n]</td>\n",
              "      <td>[\\n, \\n, \\nEuro 6d-TEMP\\n]</td>\n",
              "      <td>[\\n, \\n]</td>\n",
              "      <td>[]</td>\n",
              "      <td>\\nAudi\\n</td>\n",
              "      <td>[\\n, A3, \\n]</td>\n",
              "      <td>NaN</td>\n",
              "      <td>[\\n, 2018, \\n]</td>\n",
              "      <td>[\\n, Red, \\n]</td>\n",
              "      <td>NaN</td>\n",
              "      <td>[\\nRosso\\n]</td>\n",
              "      <td>[\\nPart leather, Brown\\n]</td>\n",
              "      <td>[\\n, Convertible, \\n]</td>\n",
              "      <td>[\\n2\\n]</td>\n",
              "      <td>[\\n4\\n]</td>\n",
              "      <td>NaN</td>\n",
              "      <td>[\\n, Automatic, \\n]</td>\n",
              "      <td>[\\n1,498 cc\\n]</td>\n",
              "      <td>[\\n4\\n]</td>\n",
              "      <td>[\\n1,470 kg\\n]</td>\n",
              "      <td>[\\nfront\\n]</td>\n",
              "      <td>[\\n, Gasoline, \\n]</td>\n",
              "      <td>[[5.1 l/100 km (comb)], [6.3 l/100 km (city)],...</td>\n",
              "      <td>[\\n116 g CO2/km (comb)\\n]</td>\n",
              "      <td>[\\nEuro 6d-TEMP\\n]</td>\n",
              "      <td>[Air conditioning, Armrest, Automatic climate ...</td>\n",
              "      <td>[Bluetooth, CD player, Digital radio, Hands-fr...</td>\n",
              "      <td>[Alloy wheels, Shift paddles]</td>\n",
              "      <td>[ABS, Adaptive Cruise Control, Blind spot moni...</td>\n",
              "      <td>[\\n, Attenzione il prezzo che vedete e' indica...</td>\n",
              "      <td>NaN</td>\n",
              "      <td>[\\n7\\n]</td>\n",
              "      <td>[\\nItaly\\n]</td>\n",
              "      <td>NaN</td>\n",
              "      <td>\\n06/2019\\n</td>\n",
              "      <td>NaN</td>\n",
              "      <td>NaN</td>\n",
              "      <td>NaN</td>\n",
              "      <td>NaN</td>\n",
              "    </tr>\n",
              "    <tr>\n",
              "      <th>2616</th>\n",
              "      <td>Audi A3</td>\n",
              "      <td>1.6 TDI S tronic design</td>\n",
              "      <td>Sedans</td>\n",
              "      <td>13000</td>\n",
              "      <td>Price negotiable</td>\n",
              "      <td>36,792 km</td>\n",
              "      <td>06/2017</td>\n",
              "      <td>1 previous owner</td>\n",
              "      <td>NaN</td>\n",
              "      <td>81 kW</td>\n",
              "      <td>[, Used, , Diesel]</td>\n",
              "      <td>\\n1\\n</td>\n",
              "      <td>NaN</td>\n",
              "      <td>NaN</td>\n",
              "      <td>NaN</td>\n",
              "      <td>NaN</td>\n",
              "      <td>NaN</td>\n",
              "      <td>[]</td>\n",
              "      <td>\\nAudi\\n</td>\n",
              "      <td>[\\n, A3, \\n]</td>\n",
              "      <td>NaN</td>\n",
              "      <td>[\\n, 2017, \\n]</td>\n",
              "      <td>[\\n, White, \\n]</td>\n",
              "      <td>NaN</td>\n",
              "      <td>NaN</td>\n",
              "      <td>NaN</td>\n",
              "      <td>[\\n, Sedans, \\n]</td>\n",
              "      <td>[\\n3\\n]</td>\n",
              "      <td>[\\n5\\n]</td>\n",
              "      <td>NaN</td>\n",
              "      <td>[\\n, Automatic, \\n]</td>\n",
              "      <td>[\\n1,598 cc\\n]</td>\n",
              "      <td>[\\n4\\n]</td>\n",
              "      <td>[\\n1,255 kg\\n]</td>\n",
              "      <td>NaN</td>\n",
              "      <td>[\\n, Diesel, \\n]</td>\n",
              "      <td>[[4 l/100 km (comb)], [4.7 l/100 km (city)], [...</td>\n",
              "      <td>[\\n107 g CO2/km (comb)\\n]</td>\n",
              "      <td>[\\nEuro 6\\n]</td>\n",
              "      <td>[Air conditioning, Hill Holder, Leather steeri...</td>\n",
              "      <td>[Bluetooth, CD player, MP3, On-board computer,...</td>\n",
              "      <td>[Alloy wheels, Voice Control]</td>\n",
              "      <td>[ABS, Central door lock with remote control, D...</td>\n",
              "      <td>[]</td>\n",
              "      <td>NaN</td>\n",
              "      <td>[\\n7\\n]</td>\n",
              "      <td>NaN</td>\n",
              "      <td>NaN</td>\n",
              "      <td>NaN</td>\n",
              "      <td>NaN</td>\n",
              "      <td>NaN</td>\n",
              "      <td>NaN</td>\n",
              "      <td>NaN</td>\n",
              "    </tr>\n",
              "    <tr>\n",
              "      <th>2617</th>\n",
              "      <td>Audi A3</td>\n",
              "      <td>SPORTBACK 1.6 TDI S tronic Business</td>\n",
              "      <td>Sedans</td>\n",
              "      <td>15450</td>\n",
              "      <td>VAT deductible</td>\n",
              "      <td>149,006 km</td>\n",
              "      <td>10/2016</td>\n",
              "      <td>1 previous owner</td>\n",
              "      <td>NaN</td>\n",
              "      <td>81 kW</td>\n",
              "      <td>[, Used, , Diesel]</td>\n",
              "      <td>\\n1\\n</td>\n",
              "      <td>NaN</td>\n",
              "      <td>NaN</td>\n",
              "      <td>NaN</td>\n",
              "      <td>NaN</td>\n",
              "      <td>NaN</td>\n",
              "      <td>[]</td>\n",
              "      <td>\\nAudi\\n</td>\n",
              "      <td>[\\n, A3, \\n]</td>\n",
              "      <td>[\\n2753381\\n]</td>\n",
              "      <td>[\\n, 2016, \\n]</td>\n",
              "      <td>[\\n, Blue, \\n]</td>\n",
              "      <td>[\\nMetallic\\n]</td>\n",
              "      <td>[\\nBlu\\n]</td>\n",
              "      <td>[\\nGrey\\n]</td>\n",
              "      <td>[\\n, Sedans, \\n]</td>\n",
              "      <td>NaN</td>\n",
              "      <td>NaN</td>\n",
              "      <td>NaN</td>\n",
              "      <td>[\\n, Automatic, \\n]</td>\n",
              "      <td>NaN</td>\n",
              "      <td>NaN</td>\n",
              "      <td>NaN</td>\n",
              "      <td>NaN</td>\n",
              "      <td>[\\n, Diesel, \\n]</td>\n",
              "      <td>NaN</td>\n",
              "      <td>NaN</td>\n",
              "      <td>[[], [], []]</td>\n",
              "      <td>NaN</td>\n",
              "      <td>NaN</td>\n",
              "      <td>NaN</td>\n",
              "      <td>NaN</td>\n",
              "      <td>[\\nDEK:[2753381], Codice riferimento: 16061 - ...</td>\n",
              "      <td>NaN</td>\n",
              "      <td>NaN</td>\n",
              "      <td>NaN</td>\n",
              "      <td>NaN</td>\n",
              "      <td>NaN</td>\n",
              "      <td>NaN</td>\n",
              "      <td>NaN</td>\n",
              "      <td>NaN</td>\n",
              "      <td>NaN</td>\n",
              "    </tr>\n",
              "    <tr>\n",
              "      <th>2618</th>\n",
              "      <td>Audi A3</td>\n",
              "      <td>Sportback 2.0 TDI Leder Navi Xenon+</td>\n",
              "      <td>Sedans</td>\n",
              "      <td>15680</td>\n",
              "      <td>VAT deductible</td>\n",
              "      <td>141,147 km</td>\n",
              "      <td>02/2016</td>\n",
              "      <td>1 previous owner</td>\n",
              "      <td>NaN</td>\n",
              "      <td>110 kW</td>\n",
              "      <td>[, Used, , Diesel (Particulate Filter)]</td>\n",
              "      <td>\\n1\\n</td>\n",
              "      <td>NaN</td>\n",
              "      <td>NaN</td>\n",
              "      <td>NaN</td>\n",
              "      <td>[\\n, \\n, \\n4 (Green)\\n]</td>\n",
              "      <td>NaN</td>\n",
              "      <td>[]</td>\n",
              "      <td>\\nAudi\\n</td>\n",
              "      <td>[\\n, A3, \\n]</td>\n",
              "      <td>[\\n224098\\n]</td>\n",
              "      <td>[\\n, 2016, \\n]</td>\n",
              "      <td>[\\n, Black, \\n]</td>\n",
              "      <td>[\\nMetallic\\n]</td>\n",
              "      <td>[\\nmythosschwarz met.\\n]</td>\n",
              "      <td>[\\nalcantara, Grey\\n]</td>\n",
              "      <td>[\\n, Sedans, \\n]</td>\n",
              "      <td>[\\n4\\n]</td>\n",
              "      <td>[\\n5\\n]</td>\n",
              "      <td>[\\n0588/AWJ\\n]</td>\n",
              "      <td>[\\n, Automatic, \\n]</td>\n",
              "      <td>[\\n1,968 cc\\n]</td>\n",
              "      <td>NaN</td>\n",
              "      <td>NaN</td>\n",
              "      <td>NaN</td>\n",
              "      <td>[\\n, Diesel (Particulate Filter), \\n]</td>\n",
              "      <td>NaN</td>\n",
              "      <td>NaN</td>\n",
              "      <td>[[], [], []]</td>\n",
              "      <td>[Air conditioning, Automatic climate control, ...</td>\n",
              "      <td>[Bluetooth, CD player, On-board computer]</td>\n",
              "      <td>[Alloy wheels, Roof rack, Sport seats]</td>\n",
              "      <td>[ABS, Central door lock, Driver-side airbag, E...</td>\n",
              "      <td>[\\n, Nr. 2908 Standort: 27404 Bockel ,  ,  ,  ...</td>\n",
              "      <td>[\\n4 (Green)\\n]</td>\n",
              "      <td>NaN</td>\n",
              "      <td>NaN</td>\n",
              "      <td>NaN</td>\n",
              "      <td>NaN</td>\n",
              "      <td>NaN</td>\n",
              "      <td>NaN</td>\n",
              "      <td>NaN</td>\n",
              "      <td>NaN</td>\n",
              "    </tr>\n",
              "    <tr>\n",
              "      <th>2619</th>\n",
              "      <td>Audi A3</td>\n",
              "      <td>2.0TDI/S tronic/NAVI/MMI/BIXENON//LED/SENSORI</td>\n",
              "      <td>Sedans</td>\n",
              "      <td>16490</td>\n",
              "      <td>Price negotiable</td>\n",
              "      <td>44,500 km</td>\n",
              "      <td>08/2016</td>\n",
              "      <td>1 previous owner</td>\n",
              "      <td>NaN</td>\n",
              "      <td>110 kW</td>\n",
              "      <td>[, Used, , Diesel]</td>\n",
              "      <td>\\n1\\n</td>\n",
              "      <td>NaN</td>\n",
              "      <td>NaN</td>\n",
              "      <td>[\\n12 months\\n]</td>\n",
              "      <td>[\\n, \\n]</td>\n",
              "      <td>NaN</td>\n",
              "      <td>[]</td>\n",
              "      <td>\\nAudi\\n</td>\n",
              "      <td>[\\n, A3, \\n]</td>\n",
              "      <td>NaN</td>\n",
              "      <td>[\\n, 2016, \\n]</td>\n",
              "      <td>[\\n, Grey, \\n]</td>\n",
              "      <td>[\\nMetallic\\n]</td>\n",
              "      <td>NaN</td>\n",
              "      <td>NaN</td>\n",
              "      <td>[\\n, Sedans, \\n]</td>\n",
              "      <td>[\\n5\\n]</td>\n",
              "      <td>NaN</td>\n",
              "      <td>NaN</td>\n",
              "      <td>[\\n, Automatic, \\n]</td>\n",
              "      <td>NaN</td>\n",
              "      <td>NaN</td>\n",
              "      <td>NaN</td>\n",
              "      <td>NaN</td>\n",
              "      <td>[\\n, Diesel, \\n]</td>\n",
              "      <td>NaN</td>\n",
              "      <td>NaN</td>\n",
              "      <td>NaN</td>\n",
              "      <td>[Air conditioning, Armrest, Automatic climate ...</td>\n",
              "      <td>[Bluetooth, CD player, Digital radio, Hands-fr...</td>\n",
              "      <td>[Alloy wheels, Roof rack, Ski bag, Sport seats]</td>\n",
              "      <td>[ABS, Adaptive Cruise Control, Adaptive headli...</td>\n",
              "      <td>[\\n(SI ACCETTANO EVENTUALI PERMUTE) GARANZIA C...</td>\n",
              "      <td>NaN</td>\n",
              "      <td>NaN</td>\n",
              "      <td>[\\nItaly\\n]</td>\n",
              "      <td>NaN</td>\n",
              "      <td>NaN</td>\n",
              "      <td>NaN</td>\n",
              "      <td>NaN</td>\n",
              "      <td>NaN</td>\n",
              "      <td>NaN</td>\n",
              "    </tr>\n",
              "    <tr>\n",
              "      <th>...</th>\n",
              "      <td>...</td>\n",
              "      <td>...</td>\n",
              "      <td>...</td>\n",
              "      <td>...</td>\n",
              "      <td>...</td>\n",
              "      <td>...</td>\n",
              "      <td>...</td>\n",
              "      <td>...</td>\n",
              "      <td>...</td>\n",
              "      <td>...</td>\n",
              "      <td>...</td>\n",
              "      <td>...</td>\n",
              "      <td>...</td>\n",
              "      <td>...</td>\n",
              "      <td>...</td>\n",
              "      <td>...</td>\n",
              "      <td>...</td>\n",
              "      <td>...</td>\n",
              "      <td>...</td>\n",
              "      <td>...</td>\n",
              "      <td>...</td>\n",
              "      <td>...</td>\n",
              "      <td>...</td>\n",
              "      <td>...</td>\n",
              "      <td>...</td>\n",
              "      <td>...</td>\n",
              "      <td>...</td>\n",
              "      <td>...</td>\n",
              "      <td>...</td>\n",
              "      <td>...</td>\n",
              "      <td>...</td>\n",
              "      <td>...</td>\n",
              "      <td>...</td>\n",
              "      <td>...</td>\n",
              "      <td>...</td>\n",
              "      <td>...</td>\n",
              "      <td>...</td>\n",
              "      <td>...</td>\n",
              "      <td>...</td>\n",
              "      <td>...</td>\n",
              "      <td>...</td>\n",
              "      <td>...</td>\n",
              "      <td>...</td>\n",
              "      <td>...</td>\n",
              "      <td>...</td>\n",
              "      <td>...</td>\n",
              "      <td>...</td>\n",
              "      <td>...</td>\n",
              "      <td>...</td>\n",
              "      <td>...</td>\n",
              "      <td>...</td>\n",
              "      <td>...</td>\n",
              "      <td>...</td>\n",
              "    </tr>\n",
              "    <tr>\n",
              "      <th>5707</th>\n",
              "      <td>Audi A3</td>\n",
              "      <td>SPB 30 TFSI Sport</td>\n",
              "      <td>Sedans</td>\n",
              "      <td>25000</td>\n",
              "      <td>VAT deductible</td>\n",
              "      <td>54 km</td>\n",
              "      <td>01/2019</td>\n",
              "      <td>None</td>\n",
              "      <td>NaN</td>\n",
              "      <td>85 kW</td>\n",
              "      <td>[, Pre-registered, , Super 95]</td>\n",
              "      <td>NaN</td>\n",
              "      <td>NaN</td>\n",
              "      <td>NaN</td>\n",
              "      <td>\\n</td>\n",
              "      <td>NaN</td>\n",
              "      <td>[\\n, \\n, \\n117 g CO2/km (comb)\\n]</td>\n",
              "      <td>[]</td>\n",
              "      <td>\\nAudi\\n</td>\n",
              "      <td>[\\n, A3, \\n]</td>\n",
              "      <td>[\\njkbzqkr4\\n]</td>\n",
              "      <td>[\\n, 2019, \\n]</td>\n",
              "      <td>[\\n, White, \\n]</td>\n",
              "      <td>NaN</td>\n",
              "      <td>NaN</td>\n",
              "      <td>[\\nCloth, Other\\n]</td>\n",
              "      <td>[\\n, Sedans, \\n]</td>\n",
              "      <td>[\\n5\\n]</td>\n",
              "      <td>[\\n5\\n]</td>\n",
              "      <td>NaN</td>\n",
              "      <td>[\\n, Manual, \\n]</td>\n",
              "      <td>[\\n999 cc\\n]</td>\n",
              "      <td>[\\n3\\n]</td>\n",
              "      <td>NaN</td>\n",
              "      <td>[\\nfront\\n]</td>\n",
              "      <td>[\\n, Super 95, \\n]</td>\n",
              "      <td>[[5.1 l/100 km (comb)], [6 l/100 km (city)], [...</td>\n",
              "      <td>[\\n117 g CO2/km (comb)\\n]</td>\n",
              "      <td>NaN</td>\n",
              "      <td>[Air conditioning, Armrest, Automatic climate ...</td>\n",
              "      <td>[Bluetooth, CD player, Hands-free equipment, M...</td>\n",
              "      <td>[Alloy wheels, Sport seats, Sport suspension, ...</td>\n",
              "      <td>[ABS, Adaptive headlights, Central door lock, ...</td>\n",
              "      <td>[\\nGaranzia del costruttore , vettura aziendal...</td>\n",
              "      <td>[\\n1 (No sticker)\\n]</td>\n",
              "      <td>[\\n6\\n]</td>\n",
              "      <td>NaN</td>\n",
              "      <td>NaN</td>\n",
              "      <td>NaN</td>\n",
              "      <td>NaN</td>\n",
              "      <td>NaN</td>\n",
              "      <td>NaN</td>\n",
              "      <td>NaN</td>\n",
              "    </tr>\n",
              "    <tr>\n",
              "      <th>5708</th>\n",
              "      <td>Audi A3</td>\n",
              "      <td>Sportback, 35 TFSI, 1.5, 150 PS, EURO 6, WLTP</td>\n",
              "      <td>Sedans</td>\n",
              "      <td>24980</td>\n",
              "      <td>VAT deductible</td>\n",
              "      <td>50 km</td>\n",
              "      <td>01/2019</td>\n",
              "      <td>1 previous owner</td>\n",
              "      <td>NaN</td>\n",
              "      <td>110 kW</td>\n",
              "      <td>[, Pre-registered, , Super E10 95]</td>\n",
              "      <td>\\n1\\n</td>\n",
              "      <td>NaN</td>\n",
              "      <td>[\\nYes\\n, \\n125 g CO2/km (comb)\\n]</td>\n",
              "      <td>NaN</td>\n",
              "      <td>NaN</td>\n",
              "      <td>NaN</td>\n",
              "      <td>[]</td>\n",
              "      <td>\\nAudi\\n</td>\n",
              "      <td>[\\n, A3, \\n]</td>\n",
              "      <td>[\\n3097\\n]</td>\n",
              "      <td>[\\n, 2019, \\n]</td>\n",
              "      <td>[\\n, White, \\n]</td>\n",
              "      <td>NaN</td>\n",
              "      <td>[\\nIbisweiß\\n]</td>\n",
              "      <td>[\\nCloth\\n]</td>\n",
              "      <td>[\\n, Sedans, \\n]</td>\n",
              "      <td>[\\n5\\n]</td>\n",
              "      <td>[\\n5\\n]</td>\n",
              "      <td>[\\n0588/BLL\\n]</td>\n",
              "      <td>[\\n, Manual, \\n]</td>\n",
              "      <td>[\\n1,498 cc\\n]</td>\n",
              "      <td>[\\n4\\n]</td>\n",
              "      <td>[\\n1,325 kg\\n]</td>\n",
              "      <td>NaN</td>\n",
              "      <td>[\\n, Super E10 95, \\n]</td>\n",
              "      <td>[[5.5 l/100 km (comb)], [6.9 l/100 km (city)],...</td>\n",
              "      <td>[\\n125 g CO2/km (comb)\\n]</td>\n",
              "      <td>NaN</td>\n",
              "      <td>[Air conditioning, Armrest, Automatic climate ...</td>\n",
              "      <td>[Bluetooth, USB]</td>\n",
              "      <td>[Alloy wheels]</td>\n",
              "      <td>[ABS, Central door lock, Driver-side airbag, E...</td>\n",
              "      <td>[\\nWir heißen Sie herzlich Willkommen im Autoh...</td>\n",
              "      <td>[\\n4 (Green)\\n]</td>\n",
              "      <td>[\\n6\\n]</td>\n",
              "      <td>NaN</td>\n",
              "      <td>NaN</td>\n",
              "      <td>NaN</td>\n",
              "      <td>NaN</td>\n",
              "      <td>NaN</td>\n",
              "      <td>NaN</td>\n",
              "      <td>NaN</td>\n",
              "    </tr>\n",
              "    <tr>\n",
              "      <th>5709</th>\n",
              "      <td>Audi A3</td>\n",
              "      <td>Sportback design 30 TFSI Sitzheizung vorne, Lic</td>\n",
              "      <td>Station wagon</td>\n",
              "      <td>24980</td>\n",
              "      <td>None</td>\n",
              "      <td>6,666 km</td>\n",
              "      <td>02/2019</td>\n",
              "      <td>1 previous owner</td>\n",
              "      <td>NaN</td>\n",
              "      <td>85 kW</td>\n",
              "      <td>[, Demonstration, , Super 95]</td>\n",
              "      <td>\\n1\\n</td>\n",
              "      <td>[\\n02/2022\\n, \\n118 g CO2/km (comb)\\n]</td>\n",
              "      <td>NaN</td>\n",
              "      <td>[\\n, \\n, \\nEuro 6\\n]</td>\n",
              "      <td>NaN</td>\n",
              "      <td>[\\n, \\n, \\n4 (Green)\\n]</td>\n",
              "      <td>[]</td>\n",
              "      <td>\\nAudi\\n</td>\n",
              "      <td>[\\n, A3, \\n]</td>\n",
              "      <td>[\\nA001496\\n]</td>\n",
              "      <td>[\\n, 2019, \\n]</td>\n",
              "      <td>[\\n, Silver, \\n]</td>\n",
              "      <td>[\\nMetallic\\n]</td>\n",
              "      <td>[\\nFlorettsilber\\n]</td>\n",
              "      <td>[\\nPart leather, Black\\n]</td>\n",
              "      <td>[\\n, Station wagon, \\n]</td>\n",
              "      <td>[\\n5\\n]</td>\n",
              "      <td>[\\n5\\n]</td>\n",
              "      <td>[\\n0588/BHX\\n]</td>\n",
              "      <td>[\\n, Manual, \\n]</td>\n",
              "      <td>[\\n999 cc\\n]</td>\n",
              "      <td>NaN</td>\n",
              "      <td>[\\n1,365 kg\\n]</td>\n",
              "      <td>NaN</td>\n",
              "      <td>[\\n, Super 95, \\n]</td>\n",
              "      <td>[[5.1 l/100 km (comb)], [6.1 l/100 km (city)],...</td>\n",
              "      <td>[\\n118 g CO2/km (comb)\\n]</td>\n",
              "      <td>[\\nEuro 6\\n]</td>\n",
              "      <td>[Air conditioning, Armrest, Automatic climate ...</td>\n",
              "      <td>[Bluetooth, Hands-free equipment, MP3, On-boar...</td>\n",
              "      <td>[Alloy wheels, Roof rack]</td>\n",
              "      <td>[ABS, Central door lock, Daytime running light...</td>\n",
              "      <td>[\\n, Ausstattungspakete:,  Connectivity paket,...</td>\n",
              "      <td>NaN</td>\n",
              "      <td>NaN</td>\n",
              "      <td>NaN</td>\n",
              "      <td>NaN</td>\n",
              "      <td>NaN</td>\n",
              "      <td>NaN</td>\n",
              "      <td>NaN</td>\n",
              "      <td>NaN</td>\n",
              "      <td>NaN</td>\n",
              "    </tr>\n",
              "    <tr>\n",
              "      <th>5710</th>\n",
              "      <td>Audi A3</td>\n",
              "      <td>Sportback 30 TFSI design Connectivity Einpark</td>\n",
              "      <td>Sedans</td>\n",
              "      <td>24980</td>\n",
              "      <td>VAT deductible</td>\n",
              "      <td>10 km</td>\n",
              "      <td>-/-</td>\n",
              "      <td>None</td>\n",
              "      <td>NaN</td>\n",
              "      <td>85 kW</td>\n",
              "      <td>[, New, , Super 95]</td>\n",
              "      <td>NaN</td>\n",
              "      <td>NaN</td>\n",
              "      <td>NaN</td>\n",
              "      <td>\\n</td>\n",
              "      <td>NaN</td>\n",
              "      <td>[\\n, \\n, \\n113 g CO2/km (comb)\\n]</td>\n",
              "      <td>[]</td>\n",
              "      <td>\\nAudi\\n</td>\n",
              "      <td>[\\n, A3, \\n]</td>\n",
              "      <td>[\\nGDR658\\n]</td>\n",
              "      <td>NaN</td>\n",
              "      <td>[\\n, Silver, \\n]</td>\n",
              "      <td>[\\nMetallic\\n]</td>\n",
              "      <td>[\\nFlorettsilber Metallic\\n]</td>\n",
              "      <td>[\\nPart leather, Black\\n]</td>\n",
              "      <td>[\\n, Sedans, \\n]</td>\n",
              "      <td>[\\n4\\n]</td>\n",
              "      <td>[\\n5\\n]</td>\n",
              "      <td>[\\n0588/BHX\\n]</td>\n",
              "      <td>[\\n, Manual, \\n]</td>\n",
              "      <td>[\\n999 cc\\n]</td>\n",
              "      <td>[\\n3\\n]</td>\n",
              "      <td>[\\n1,255 kg\\n]</td>\n",
              "      <td>NaN</td>\n",
              "      <td>[\\n, Super 95, \\n]</td>\n",
              "      <td>[[4.8 l/100 km (comb)], [5.8 l/100 km (city)],...</td>\n",
              "      <td>[\\n113 g CO2/km (comb)\\n]</td>\n",
              "      <td>[\\nEuro 6\\n]</td>\n",
              "      <td>[Air conditioning, Armrest, Automatic climate ...</td>\n",
              "      <td>[Bluetooth, CD player, Hands-free equipment, O...</td>\n",
              "      <td>[Alloy wheels, Roof rack]</td>\n",
              "      <td>[ABS, Central door lock, Daytime running light...</td>\n",
              "      <td>[\\n, Preis inkl. Überführungskosten, Getriebe ...</td>\n",
              "      <td>[\\n4 (Green)\\n]</td>\n",
              "      <td>[\\n6\\n]</td>\n",
              "      <td>[\\nGermany\\n]</td>\n",
              "      <td>NaN</td>\n",
              "      <td>NaN</td>\n",
              "      <td>NaN</td>\n",
              "      <td>NaN</td>\n",
              "      <td>NaN</td>\n",
              "      <td>NaN</td>\n",
              "    </tr>\n",
              "    <tr>\n",
              "      <th>5711</th>\n",
              "      <td>Audi A3</td>\n",
              "      <td>Sportback 30 TFSI DESIGN Connectivity Einpark</td>\n",
              "      <td>Sedans</td>\n",
              "      <td>24980</td>\n",
              "      <td>VAT deductible</td>\n",
              "      <td>10 km</td>\n",
              "      <td>-/-</td>\n",
              "      <td>None</td>\n",
              "      <td>NaN</td>\n",
              "      <td>85 kW</td>\n",
              "      <td>[, New, , Super 95]</td>\n",
              "      <td>NaN</td>\n",
              "      <td>NaN</td>\n",
              "      <td>NaN</td>\n",
              "      <td>\\n</td>\n",
              "      <td>NaN</td>\n",
              "      <td>[\\n, \\n, \\n113 g CO2/km (comb)\\n]</td>\n",
              "      <td>[]</td>\n",
              "      <td>\\nAudi\\n</td>\n",
              "      <td>[\\n, A3, \\n]</td>\n",
              "      <td>[\\nGDR657\\n]</td>\n",
              "      <td>NaN</td>\n",
              "      <td>[\\n, Silver, \\n]</td>\n",
              "      <td>[\\nMetallic\\n]</td>\n",
              "      <td>[\\nFlorettsilber Metallic\\n]</td>\n",
              "      <td>[\\nPart leather, Black\\n]</td>\n",
              "      <td>[\\n, Sedans, \\n]</td>\n",
              "      <td>[\\n4\\n]</td>\n",
              "      <td>[\\n5\\n]</td>\n",
              "      <td>[\\n0588/BHX\\n]</td>\n",
              "      <td>[\\n, Manual, \\n]</td>\n",
              "      <td>[\\n999 cc\\n]</td>\n",
              "      <td>[\\n3\\n]</td>\n",
              "      <td>[\\n1,255 kg\\n]</td>\n",
              "      <td>NaN</td>\n",
              "      <td>[\\n, Super 95, \\n]</td>\n",
              "      <td>[[4.8 l/100 km (comb)], [5.8 l/100 km (city)],...</td>\n",
              "      <td>[\\n113 g CO2/km (comb)\\n]</td>\n",
              "      <td>[\\nEuro 6\\n]</td>\n",
              "      <td>[Air conditioning, Armrest, Automatic climate ...</td>\n",
              "      <td>[Bluetooth, CD player, Hands-free equipment, O...</td>\n",
              "      <td>[Alloy wheels, Roof rack]</td>\n",
              "      <td>[ABS, Central door lock, Daytime running light...</td>\n",
              "      <td>[\\n, Preis inkl. Überführungskosten, Getriebe ...</td>\n",
              "      <td>[\\n4 (Green)\\n]</td>\n",
              "      <td>[\\n6\\n]</td>\n",
              "      <td>[\\nGermany\\n]</td>\n",
              "      <td>NaN</td>\n",
              "      <td>NaN</td>\n",
              "      <td>NaN</td>\n",
              "      <td>NaN</td>\n",
              "      <td>NaN</td>\n",
              "      <td>NaN</td>\n",
              "    </tr>\n",
              "  </tbody>\n",
              "</table>\n",
              "<p>3097 rows × 53 columns</p>\n",
              "</div>\n",
              "      <button class=\"colab-df-convert\" onclick=\"convertToInteractive('df-f095ae65-8cdc-426b-8259-e9b1e1232318')\"\n",
              "              title=\"Convert this dataframe to an interactive table.\"\n",
              "              style=\"display:none;\">\n",
              "        \n",
              "  <svg xmlns=\"http://www.w3.org/2000/svg\" height=\"24px\"viewBox=\"0 0 24 24\"\n",
              "       width=\"24px\">\n",
              "    <path d=\"M0 0h24v24H0V0z\" fill=\"none\"/>\n",
              "    <path d=\"M18.56 5.44l.94 2.06.94-2.06 2.06-.94-2.06-.94-.94-2.06-.94 2.06-2.06.94zm-11 1L8.5 8.5l.94-2.06 2.06-.94-2.06-.94L8.5 2.5l-.94 2.06-2.06.94zm10 10l.94 2.06.94-2.06 2.06-.94-2.06-.94-.94-2.06-.94 2.06-2.06.94z\"/><path d=\"M17.41 7.96l-1.37-1.37c-.4-.4-.92-.59-1.43-.59-.52 0-1.04.2-1.43.59L10.3 9.45l-7.72 7.72c-.78.78-.78 2.05 0 2.83L4 21.41c.39.39.9.59 1.41.59.51 0 1.02-.2 1.41-.59l7.78-7.78 2.81-2.81c.8-.78.8-2.07 0-2.86zM5.41 20L4 18.59l7.72-7.72 1.47 1.35L5.41 20z\"/>\n",
              "  </svg>\n",
              "      </button>\n",
              "      \n",
              "  <style>\n",
              "    .colab-df-container {\n",
              "      display:flex;\n",
              "      flex-wrap:wrap;\n",
              "      gap: 12px;\n",
              "    }\n",
              "\n",
              "    .colab-df-convert {\n",
              "      background-color: #E8F0FE;\n",
              "      border: none;\n",
              "      border-radius: 50%;\n",
              "      cursor: pointer;\n",
              "      display: none;\n",
              "      fill: #1967D2;\n",
              "      height: 32px;\n",
              "      padding: 0 0 0 0;\n",
              "      width: 32px;\n",
              "    }\n",
              "\n",
              "    .colab-df-convert:hover {\n",
              "      background-color: #E2EBFA;\n",
              "      box-shadow: 0px 1px 2px rgba(60, 64, 67, 0.3), 0px 1px 3px 1px rgba(60, 64, 67, 0.15);\n",
              "      fill: #174EA6;\n",
              "    }\n",
              "\n",
              "    [theme=dark] .colab-df-convert {\n",
              "      background-color: #3B4455;\n",
              "      fill: #D2E3FC;\n",
              "    }\n",
              "\n",
              "    [theme=dark] .colab-df-convert:hover {\n",
              "      background-color: #434B5C;\n",
              "      box-shadow: 0px 1px 3px 1px rgba(0, 0, 0, 0.15);\n",
              "      filter: drop-shadow(0px 1px 2px rgba(0, 0, 0, 0.3));\n",
              "      fill: #FFFFFF;\n",
              "    }\n",
              "  </style>\n",
              "\n",
              "      <script>\n",
              "        const buttonEl =\n",
              "          document.querySelector('#df-f095ae65-8cdc-426b-8259-e9b1e1232318 button.colab-df-convert');\n",
              "        buttonEl.style.display =\n",
              "          google.colab.kernel.accessAllowed ? 'block' : 'none';\n",
              "\n",
              "        async function convertToInteractive(key) {\n",
              "          const element = document.querySelector('#df-f095ae65-8cdc-426b-8259-e9b1e1232318');\n",
              "          const dataTable =\n",
              "            await google.colab.kernel.invokeFunction('convertToInteractive',\n",
              "                                                     [key], {});\n",
              "          if (!dataTable) return;\n",
              "\n",
              "          const docLinkHtml = 'Like what you see? Visit the ' +\n",
              "            '<a target=\"_blank\" href=https://colab.research.google.com/notebooks/data_table.ipynb>data table notebook</a>'\n",
              "            + ' to learn more about interactive tables.';\n",
              "          element.innerHTML = '';\n",
              "          dataTable['output_type'] = 'display_data';\n",
              "          await google.colab.output.renderOutput(dataTable, element);\n",
              "          const docLink = document.createElement('div');\n",
              "          docLink.innerHTML = docLinkHtml;\n",
              "          element.appendChild(docLink);\n",
              "        }\n",
              "      </script>\n",
              "    </div>\n",
              "  </div>\n",
              "  "
            ]
          },
          "metadata": {},
          "execution_count": 30
        }
      ]
    },
    {
      "cell_type": "markdown",
      "source": [
        "##5.price"
      ],
      "metadata": {
        "id": "J9qrbxNP_CO3"
      }
    },
    {
      "cell_type": "code",
      "source": [
        "df.price.value_counts(dropna=False)"
      ],
      "metadata": {
        "colab": {
          "base_uri": "https://localhost:8080/"
        },
        "id": "7MN1P6lg_DSr",
        "outputId": "4d1248ca-b828-4059-c501-3e1d7ae430c2"
      },
      "execution_count": 117,
      "outputs": [
        {
          "output_type": "execute_result",
          "data": {
            "text/plain": [
              "14990    154\n",
              "15990    151\n",
              "10990    139\n",
              "15900    106\n",
              "17990    102\n",
              "        ... \n",
              "17559      1\n",
              "17560      1\n",
              "17570      1\n",
              "17575      1\n",
              "39875      1\n",
              "Name: price, Length: 2956, dtype: int64"
            ]
          },
          "metadata": {},
          "execution_count": 117
        }
      ]
    },
    {
      "cell_type": "code",
      "source": [
        "df.price.isnull().sum()"
      ],
      "metadata": {
        "colab": {
          "base_uri": "https://localhost:8080/"
        },
        "id": "Fsip_ujR_Scf",
        "outputId": "3dd7aed5-172c-4517-fb12-c1a0563eee13"
      },
      "execution_count": 118,
      "outputs": [
        {
          "output_type": "execute_result",
          "data": {
            "text/plain": [
              "0"
            ]
          },
          "metadata": {},
          "execution_count": 118
        }
      ]
    },
    {
      "cell_type": "markdown",
      "source": [
        "##6.vat"
      ],
      "metadata": {
        "id": "wt7qCPfm_QAw"
      }
    },
    {
      "cell_type": "code",
      "source": [
        "df.vat.value_counts(dropna=False)  ## if it will be used, will be dummied "
      ],
      "metadata": {
        "colab": {
          "base_uri": "https://localhost:8080/"
        },
        "id": "VRJGgIVP_ojd",
        "outputId": "5bb010b9-0012-4653-8898-8224ffd5acc8"
      },
      "execution_count": 119,
      "outputs": [
        {
          "output_type": "execute_result",
          "data": {
            "text/plain": [
              "VAT deductible      10980\n",
              "NaN                  4513\n",
              "Price negotiable      426\n",
              "Name: vat, dtype: int64"
            ]
          },
          "metadata": {},
          "execution_count": 119
        }
      ]
    },
    {
      "cell_type": "code",
      "source": [
        "df.vat.sample(5)"
      ],
      "metadata": {
        "colab": {
          "base_uri": "https://localhost:8080/"
        },
        "id": "XGI4pLS__u9r",
        "outputId": "b1ef5428-3f11-4487-acde-2a2cab4f2806"
      },
      "execution_count": null,
      "outputs": [
        {
          "output_type": "execute_result",
          "data": {
            "text/plain": [
              "13032    VAT deductible\n",
              "1424     VAT deductible\n",
              "5177     VAT deductible\n",
              "15203              None\n",
              "15550    VAT deductible\n",
              "Name: vat, dtype: object"
            ]
          },
          "metadata": {},
          "execution_count": 46
        }
      ]
    },
    {
      "cell_type": "markdown",
      "source": [
        "##7.km"
      ],
      "metadata": {
        "id": "Jhn8USD2ANUs"
      }
    },
    {
      "cell_type": "code",
      "source": [
        "df.km.value_counts(dropna=False)"
      ],
      "metadata": {
        "colab": {
          "base_uri": "https://localhost:8080/"
        },
        "id": "MDwVr6EdATqe",
        "outputId": "8e25f71a-7340-42ad-9d36-52933dd1ad13"
      },
      "execution_count": 120,
      "outputs": [
        {
          "output_type": "execute_result",
          "data": {
            "text/plain": [
              "10 km        1045\n",
              "- km         1024\n",
              "1 km          367\n",
              "5 km          170\n",
              "50 km         148\n",
              "             ... \n",
              "67,469 km       1\n",
              "43,197 km       1\n",
              "10,027 km       1\n",
              "35,882 km       1\n",
              "57 km           1\n",
              "Name: km, Length: 6690, dtype: int64"
            ]
          },
          "metadata": {},
          "execution_count": 120
        }
      ]
    },
    {
      "cell_type": "code",
      "source": [
        "df.km.sample(5)    ## if there is no 1 previous owner, then - km  will be 0"
      ],
      "metadata": {
        "colab": {
          "base_uri": "https://localhost:8080/"
        },
        "id": "vrbbYcJPATb1",
        "outputId": "71ec1ce9-18dd-40a7-f788-1841b833b056"
      },
      "execution_count": null,
      "outputs": [
        {
          "output_type": "execute_result",
          "data": {
            "text/plain": [
              "9081      8,000 km\n",
              "9358      4,600 km\n",
              "11674    21,900 km\n",
              "7902        111 km\n",
              "15481         - km\n",
              "Name: km, dtype: object"
            ]
          },
          "metadata": {},
          "execution_count": 48
        }
      ]
    },
    {
      "cell_type": "code",
      "source": [
        "df['Previous Owners'].isnull().value_counts()"
      ],
      "metadata": {
        "colab": {
          "base_uri": "https://localhost:8080/"
        },
        "id": "yHC8zb88IKCn",
        "outputId": "a36ef51f-90ba-4a2a-9ecc-fe56bf31a19e"
      },
      "execution_count": 121,
      "outputs": [
        {
          "output_type": "execute_result",
          "data": {
            "text/plain": [
              "False    9279\n",
              "True     6640\n",
              "Name: Previous Owners, dtype: int64"
            ]
          },
          "metadata": {},
          "execution_count": 121
        }
      ]
    },
    {
      "cell_type": "code",
      "source": [
        "df.prev_owner.value_counts()"
      ],
      "metadata": {
        "colab": {
          "base_uri": "https://localhost:8080/"
        },
        "id": "n4nQXIVfH_c9",
        "outputId": "6afb9a02-bf34-43eb-e83d-ed6a0d60ad8a"
      },
      "execution_count": 122,
      "outputs": [
        {
          "output_type": "execute_result",
          "data": {
            "text/plain": [
              "1 previous owner     8294\n",
              "2 previous owners     778\n",
              "3 previous owners      17\n",
              "4 previous owners       2\n",
              "Name: prev_owner, dtype: int64"
            ]
          },
          "metadata": {},
          "execution_count": 122
        }
      ]
    },
    {
      "cell_type": "code",
      "source": [
        "df.loc[(df[\"km\"] == \"- km\") & (df[\"prev_owner\"] == '1 previous owner') ] # missing values will be filled by suitable technic"
      ],
      "metadata": {
        "colab": {
          "base_uri": "https://localhost:8080/",
          "height": 1000
        },
        "id": "yfGw1GBACccb",
        "outputId": "7c331a2b-21fb-4bcd-fd84-5bd7af7b7e28"
      },
      "execution_count": null,
      "outputs": [
        {
          "output_type": "execute_result",
          "data": {
            "text/plain": [
              "           make_model                                  short_description  \\\n",
              "981           Audi A1                 Sportback 1.4 TDI S tronic Admired   \n",
              "983           Audi A1                 Sportback 1.4 TDI S tronic Admired   \n",
              "1075          Audi A1                         Sportback 1.4 TDI S tronic   \n",
              "1934          Audi A1          Sportback 30 TFSI S tronic S line edition   \n",
              "1967          Audi A1                       SPB 30 TFSI S tronic Admired   \n",
              "3761          Audi A3                  SPB 1.6 TDI 116 CV S tronic Sport   \n",
              "4993          Audi A3     Sportback 30 TFSI S-Tronic, Navi, Euro 6d TEMP   \n",
              "4994          Audi A3    Sportback 30 TDI Business S-Tronic Euro 6d TEMP   \n",
              "4995          Audi A3    Sportback 30 TDI Business S-Tronic Euro 6d TEMP   \n",
              "5089          Audi A3                 Sportback 30 TDI S tronic Business   \n",
              "5092          Audi A3                 Sportback 30 TDI S tronic Business   \n",
              "5120          Audi A3                    Sportback 30 TDI S tronic Sport   \n",
              "5121          Audi A3                 Sportback 30 TDI S tronic Business   \n",
              "5209          Audi A3                 Sportback 35 TFSI S-tronic,6d TEMP   \n",
              "5293          Audi A3    Sportback 30 TDI Business S-Tronic Euro 6d TEMP   \n",
              "5409          Audi A3                   Sportback A3 SPB 30 TDI Business   \n",
              "5416          Audi A3                   Sportback A3 SPB 30 TDI Business   \n",
              "5505          Audi A3             Sportback 30 TDI Business,Navi,6d TEMP   \n",
              "5548          Audi A3                  Sportback 30 TDI Business,6d TEMP   \n",
              "7617       Opel Astra  K Sports Tourer 120Jahre S/ S EU6d-T AGR*LEDMa...   \n",
              "7622       Opel Astra              Sports Tourer,Navi,Automatik,Ergositz   \n",
              "7662       Opel Astra      K 1.4T Sports Tourer 120 Jahre LED NaviPDCv+h   \n",
              "9162       Opel Corsa                                     1.3 CDTI N-JOY   \n",
              "9867       Opel Corsa                                 1,4 Ecotec Edition   \n",
              "9905       Opel Corsa                E 120 Jahre 1.4 Rückfahrkam. PDCv+h   \n",
              "9913       Opel Corsa   E 120 Jahre 1.4 Xenon,Rückf.Kamera,Klimaaut.Navi   \n",
              "10249      Opel Corsa                              5-Türer Edition 1.4 i   \n",
              "10262      Opel Corsa                              5-Türer Edition 1.4 i   \n",
              "11869   Opel Insignia           ST 1.5 Turbo Automatik AAC SHZ PDC Temp.   \n",
              "12499   Opel Insignia          Sports Tourer Ultimate 1,6 CDTI Automatik   \n",
              "12538   Opel Insignia          ST 2,0 CDTI BlueInjection Innovation St./   \n",
              "12885   Opel Insignia  Grand Sport Dynamic 1.5 Turbo EU6d-T,OPC Line,...   \n",
              "12956   Opel Insignia    Grand Sport Ultimate 1.5 AT Bose*LEDMatrix*HUD*   \n",
              "13071    Renault Clio         TCe 120 I AT I INTENS I R-LINK NAVI*SOFORT   \n",
              "13113    Renault Clio              Grandtour BUSINESS Edition dCi 90 EDC   \n",
              "13308    Renault Clio                           EXCITE Energy dCi 90 EDC   \n",
              "14283    Renault Clio                                     LIMITED TCe 75   \n",
              "14305    Renault Clio            IV 1.5 dCi Cargo Extra Leicht-LKW EURO6   \n",
              "14308    Renault Clio                                LIMITED 2018 TCe 75   \n",
              "14313    Renault Clio                                LIMITED 2018 TCe 75   \n",
              "14364    Renault Clio         R.S. TROPHY TCe 220 EDC NAVI SHZ PDC KLIMA   \n",
              "14369    Renault Clio               R.S. TROPHY TCe 220 EDC NAVI SHZ PDC   \n",
              "14402    Renault Clio                     R.S. TROPHY ENERGY TCe 220 EDC   \n",
              "14403    Renault Clio                     R.S. TROPHY ENERGY TCe 220 EDC   \n",
              "14801    Renault Clio                             LIFE TCE 75PS E6C WLTP   \n",
              "14856    Renault Clio          Energy TCe *BT *DAB *Tempomat *PDC hinten   \n",
              "15446  Renault Espace            dCi 160CV EDC Energy Executive 4Control   \n",
              "15503  Renault Espace  1.6 dCi Energy Intens EDC 7pl. FULL LED / CUIR...   \n",
              "15568  Renault Espace                          1.6 dCi 160 CV EDC Intens   \n",
              "15753  Renault Espace                            LIMITED TCe 225 EDC GPF   \n",
              "15772  Renault Espace                            LIMITED TCe 225 EDC GPF   \n",
              "15774  Renault Espace    Blue dCi 200CV EDC Executive 4Control rif.FV976   \n",
              "15776  Renault Espace                            LIMITED TCe 225 EDC GPF   \n",
              "15806  Renault Espace        INITIALE PARIS TCe 225 EDC GPF NAVI SHZ AUX   \n",
              "15837  Renault Espace  dCi 160 Initiale Paris LED Navi Klimaaut. Sitz...   \n",
              "15844  Renault Espace         INITIALE Paris BLUE dCi 200 EDC 7-SITZE SD   \n",
              "15918  Renault Espace        INITIALE PARIS TCe 225 EDC GPF NAVI SHZ AUX   \n",
              "\n",
              "           body_type  price             vat    km registration  \\\n",
              "981           Sedans  20999  VAT deductible  - km      06/2018   \n",
              "983           Sedans  20999  VAT deductible  - km      05/2018   \n",
              "1075          Sedans  19999  VAT deductible  - km      06/2018   \n",
              "1934          Sedans  28499  VAT deductible  - km      04/2019   \n",
              "1967          Sedans  27900            None  - km      05/2019   \n",
              "3761          Sedans  21990            None  - km      05/2018   \n",
              "4993          Sedans  23900  VAT deductible  - km          -/-   \n",
              "4994          Sedans  23900  VAT deductible  - km          -/-   \n",
              "4995          Sedans  23900  VAT deductible  - km          -/-   \n",
              "5089          Sedans  26999  VAT deductible  - km      02/2019   \n",
              "5092          Sedans  26999  VAT deductible  - km      02/2019   \n",
              "5120          Sedans  26499  VAT deductible  - km      02/2019   \n",
              "5121          Sedans  26499  VAT deductible  - km      02/2019   \n",
              "5209          Sedans  25900  VAT deductible  - km          -/-   \n",
              "5293          Sedans  24200  VAT deductible  - km          -/-   \n",
              "5409          Sedans  24900            None  - km      03/2019   \n",
              "5416          Sedans  24900            None  - km      03/2019   \n",
              "5505          Sedans  23900  VAT deductible  - km          -/-   \n",
              "5548          Sedans  22900  VAT deductible  - km          -/-   \n",
              "7617   Station wagon  29990  VAT deductible  - km      05/2019   \n",
              "7622           Coupe  29990  VAT deductible  - km      05/2019   \n",
              "7662   Station wagon  33095  VAT deductible  - km      05/2019   \n",
              "9162           Coupe   8800            None  - km      07/2019   \n",
              "9867          Sedans   9990  VAT deductible  - km      05/2019   \n",
              "9905         Compact  16750  VAT deductible  - km      03/2019   \n",
              "9913          Sedans  18450  VAT deductible  - km      04/2019   \n",
              "10249         Sedans  10790  VAT deductible  - km      05/2019   \n",
              "10262         Sedans  10750  VAT deductible  - km      05/2019   \n",
              "11869  Station wagon  23990  VAT deductible  - km      08/2018   \n",
              "12499  Station wagon  36990  VAT deductible  - km      04/2019   \n",
              "12538  Station wagon  34990  VAT deductible  - km      04/2019   \n",
              "12885         Sedans  30990  VAT deductible  - km      04/2019   \n",
              "12956         Sedans  39490  VAT deductible  - km      04/2019   \n",
              "13071        Compact  15599  VAT deductible  - km      09/2018   \n",
              "13113  Station wagon  15798  VAT deductible  - km      03/2019   \n",
              "13308         Sedans  12400            None  - km      12/2017   \n",
              "14283         Sedans   9999  VAT deductible  - km      01/2019   \n",
              "14305        Compact   9999  VAT deductible  - km      02/2018   \n",
              "14308         Sedans   9999  VAT deductible  - km      01/2019   \n",
              "14313         Sedans   9999  VAT deductible  - km      01/2019   \n",
              "14364         Sedans  25555  VAT deductible  - km      03/2019   \n",
              "14369         Sedans  24888  VAT deductible  - km      03/2019   \n",
              "14402         Sedans  23021  VAT deductible  - km      08/2018   \n",
              "14403         Sedans  23021  VAT deductible  - km      08/2018   \n",
              "14801         Sedans  10990  VAT deductible  - km      04/2019   \n",
              "14856        Compact  11270  VAT deductible  - km      02/2019   \n",
              "15446            Van  33500            None  - km      12/2018   \n",
              "15503            Van  32498  VAT deductible  - km      10/2018   \n",
              "15568            Van  31900  VAT deductible  - km      04/2018   \n",
              "15753            Van  34798  VAT deductible  - km      12/2018   \n",
              "15772            Van  35798  VAT deductible  - km      12/2018   \n",
              "15774            Van  35900  VAT deductible  - km      02/2019   \n",
              "15776            Van  35798  VAT deductible  - km      12/2018   \n",
              "15806            Van  40999  VAT deductible  - km      01/2019   \n",
              "15837            Van  47450  VAT deductible  - km      03/2019   \n",
              "15844            Van  46666  VAT deductible  - km      04/2019   \n",
              "15918            Van  40999  VAT deductible  - km      01/2019   \n",
              "\n",
              "             prev_owner  kW      hp  \\\n",
              "981    1 previous owner NaN   66 kW   \n",
              "983    1 previous owner NaN   66 kW   \n",
              "1075   1 previous owner NaN   66 kW   \n",
              "1934   1 previous owner NaN   85 kW   \n",
              "1967   1 previous owner NaN   85 kW   \n",
              "3761   1 previous owner NaN   85 kW   \n",
              "4993   1 previous owner NaN   85 kW   \n",
              "4994   1 previous owner NaN   85 kW   \n",
              "4995   1 previous owner NaN   85 kW   \n",
              "5089   1 previous owner NaN   85 kW   \n",
              "5092   1 previous owner NaN   85 kW   \n",
              "5120   1 previous owner NaN   85 kW   \n",
              "5121   1 previous owner NaN   85 kW   \n",
              "5209   1 previous owner NaN  110 kW   \n",
              "5293   1 previous owner NaN  110 kW   \n",
              "5409   1 previous owner NaN   85 kW   \n",
              "5416   1 previous owner NaN   85 kW   \n",
              "5505   1 previous owner NaN   85 kW   \n",
              "5548   1 previous owner NaN   85 kW   \n",
              "7617   1 previous owner NaN  110 kW   \n",
              "7622   1 previous owner NaN  110 kW   \n",
              "7662   1 previous owner NaN  110 kW   \n",
              "9162   1 previous owner NaN   55 kW   \n",
              "9867   1 previous owner NaN   55 kW   \n",
              "9905   1 previous owner NaN   66 kW   \n",
              "9913   1 previous owner NaN   66 kW   \n",
              "10249  1 previous owner NaN   55 kW   \n",
              "10262  1 previous owner NaN   55 kW   \n",
              "11869  1 previous owner NaN  122 kW   \n",
              "12499  1 previous owner NaN  100 kW   \n",
              "12538  1 previous owner NaN  125 kW   \n",
              "12885  1 previous owner NaN  103 kW   \n",
              "12956  1 previous owner NaN  121 kW   \n",
              "13071  1 previous owner NaN   88 kW   \n",
              "13113  1 previous owner NaN   66 kW   \n",
              "13308  1 previous owner NaN   66 kW   \n",
              "14283  1 previous owner NaN   56 kW   \n",
              "14305  1 previous owner NaN   55 kW   \n",
              "14308  1 previous owner NaN   56 kW   \n",
              "14313  1 previous owner NaN   56 kW   \n",
              "14364  1 previous owner NaN  162 kW   \n",
              "14369  1 previous owner NaN  162 kW   \n",
              "14402  1 previous owner NaN  162 kW   \n",
              "14403  1 previous owner NaN  162 kW   \n",
              "14801  1 previous owner NaN   55 kW   \n",
              "14856  1 previous owner NaN   55 kW   \n",
              "15446  1 previous owner NaN  118 kW   \n",
              "15503  1 previous owner NaN  118 kW   \n",
              "15568  1 previous owner NaN  118 kW   \n",
              "15753  1 previous owner NaN  165 kW   \n",
              "15772  1 previous owner NaN  165 kW   \n",
              "15774  1 previous owner NaN  147 kW   \n",
              "15776  1 previous owner NaN  165 kW   \n",
              "15806  1 previous owner NaN  165 kW   \n",
              "15837  1 previous owner NaN  118 kW   \n",
              "15844  1 previous owner NaN  147 kW   \n",
              "15918  1 previous owner NaN  165 kW   \n",
              "\n",
              "                                                    Type Previous Owners  \\\n",
              "981                         [, Pre-registered, , Diesel]           \\n1\\n   \n",
              "983                         [, Pre-registered, , Diesel]           \\n1\\n   \n",
              "1075                        [, Pre-registered, , Diesel]           \\n1\\n   \n",
              "1934                      [, Pre-registered, , Gasoline]           \\n1\\n   \n",
              "1967                      [, Employee's car, , Gasoline]           \\n1\\n   \n",
              "3761             [, Used, , Diesel (Particulate Filter)]           \\n1\\n   \n",
              "4993                             [, New, , Super E10 95]           \\n1\\n   \n",
              "4994              [, New, , Diesel (Particulate Filter)]           \\n1\\n   \n",
              "4995              [, New, , Diesel (Particulate Filter)]           \\n1\\n   \n",
              "5089   [, Pre-registered, , Diesel (Particulate Filter)]           \\n1\\n   \n",
              "5092   [, Pre-registered, , Diesel (Particulate Filter)]           \\n1\\n   \n",
              "5120   [, Pre-registered, , Diesel (Particulate Filter)]           \\n1\\n   \n",
              "5121   [, Pre-registered, , Diesel (Particulate Filter)]           \\n1\\n   \n",
              "5209                             [, New, , Super E10 95]           \\n1\\n   \n",
              "5293              [, New, , Diesel (Particulate Filter)]           \\n1\\n   \n",
              "5409   [, Pre-registered, , Diesel (Particulate Filter)]           \\n1\\n   \n",
              "5416   [, Pre-registered, , Diesel (Particulate Filter)]           \\n1\\n   \n",
              "5505              [, New, , Diesel (Particulate Filter)]           \\n1\\n   \n",
              "5548              [, New, , Diesel (Particulate Filter)]           \\n1\\n   \n",
              "7617                  [, Pre-registered, , Super E10 95]           \\n1\\n   \n",
              "7622                       [, Demonstration, , Super 95]           \\n1\\n   \n",
              "7662                       [, Demonstration, , Super 95]           \\n1\\n   \n",
              "9162             [, Used, , Diesel (Particulate Filter)]           \\n1\\n   \n",
              "9867                       [, Demonstration, , Gasoline]           \\n1\\n   \n",
              "9905                       [, Demonstration, , Super 95]           \\n1\\n   \n",
              "9913                   [, Demonstration, , Super E10 95]           \\n1\\n   \n",
              "10249                      [, Demonstration, , Gasoline]           \\n1\\n   \n",
              "10262                      [, Demonstration, , Gasoline]           \\n1\\n   \n",
              "11869                     [, Pre-registered, , Super 95]           \\n1\\n   \n",
              "12499   [, Demonstration, , Diesel (Particulate Filter)]           \\n1\\n   \n",
              "12538   [, Demonstration, , Diesel (Particulate Filter)]           \\n1\\n   \n",
              "12885                      [, Demonstration, , Super 95]           \\n1\\n   \n",
              "12956                 [, Pre-registered, , Super E10 95]           \\n1\\n   \n",
              "13071                     [, Pre-registered, , Super 95]           \\n1\\n   \n",
              "13113                       [, Pre-registered, , Diesel]           \\n1\\n   \n",
              "13308                                 [, Used, , Diesel]           \\n1\\n   \n",
              "14283                     [, Pre-registered, , Super 95]           \\n1\\n   \n",
              "14305            [, Used, , Diesel (Particulate Filter)]           \\n1\\n   \n",
              "14308                     [, Pre-registered, , Super 95]           \\n1\\n   \n",
              "14313                     [, Pre-registered, , Super 95]           \\n1\\n   \n",
              "14364                      [, Demonstration, , Super 95]           \\n1\\n   \n",
              "14369                      [, Demonstration, , Super 95]           \\n1\\n   \n",
              "14402                     [, Pre-registered, , Super 95]           \\n1\\n   \n",
              "14403                     [, Pre-registered, , Super 95]           \\n1\\n   \n",
              "14801                               [, Used, , Gasoline]           \\n1\\n   \n",
              "14856                     [, Pre-registered, , Super 95]           \\n1\\n   \n",
              "15446  [, Pre-registered, , Diesel (Particulate Filter)]           \\n1\\n   \n",
              "15503                                  [, New, , Diesel]           \\n1\\n   \n",
              "15568  [, Pre-registered, , Diesel (Particulate Filter)]           \\n1\\n   \n",
              "15753                     [, Pre-registered, , Super 95]           \\n1\\n   \n",
              "15772                     [, Pre-registered, , Super 95]           \\n1\\n   \n",
              "15774                       [, Employee's car, , Diesel]           \\n1\\n   \n",
              "15776                     [, Pre-registered, , Super 95]           \\n1\\n   \n",
              "15806                      [, Demonstration, , Super 95]           \\n1\\n   \n",
              "15837  [, Pre-registered, , Diesel (Particulate Filter)]           \\n1\\n   \n",
              "15844                        [, Demonstration, , Diesel]           \\n1\\n   \n",
              "15918                      [, Demonstration, , Super 95]           \\n1\\n   \n",
              "\n",
              "                              Next Inspection  \\\n",
              "981                                       NaN   \n",
              "983                                       NaN   \n",
              "1075                                      NaN   \n",
              "1934                                      NaN   \n",
              "1967                                      NaN   \n",
              "3761                                      NaN   \n",
              "4993   [\\n11/2021\\n, \\n118 g CO2/km (comb)\\n]   \n",
              "4994   [\\n11/2021\\n, \\n105 g CO2/km (comb)\\n]   \n",
              "4995   [\\n11/2021\\n, \\n105 g CO2/km (comb)\\n]   \n",
              "5089                                      NaN   \n",
              "5092                                      NaN   \n",
              "5120                                      NaN   \n",
              "5121                                      NaN   \n",
              "5209   [\\n11/2021\\n, \\n117 g CO2/km (comb)\\n]   \n",
              "5293   [\\n11/2021\\n, \\n105 g CO2/km (comb)\\n]   \n",
              "5409                                      NaN   \n",
              "5416                                      NaN   \n",
              "5505   [\\n11/2021\\n, \\n118 g CO2/km (comb)\\n]   \n",
              "5548   [\\n11/2021\\n, \\n118 g CO2/km (comb)\\n]   \n",
              "7617   [\\n05/2022\\n, \\n134 g CO2/km (comb)\\n]   \n",
              "7622   [\\n05/2022\\n, \\n134 g CO2/km (comb)\\n]   \n",
              "7662   [\\n05/2022\\n, \\n128 g CO2/km (comb)\\n]   \n",
              "9162                                      NaN   \n",
              "9867                                      NaN   \n",
              "9905   [\\n03/2022\\n, \\n140 g CO2/km (comb)\\n]   \n",
              "9913   [\\n04/2022\\n, \\n140 g CO2/km (comb)\\n]   \n",
              "10249                                     NaN   \n",
              "10262                                     NaN   \n",
              "11869  [\\n02/2021\\n, \\n141 g CO2/km (comb)\\n]   \n",
              "12499                                     NaN   \n",
              "12538                                     NaN   \n",
              "12885  [\\n04/2022\\n, \\n133 g CO2/km (comb)\\n]   \n",
              "12956  [\\n04/2022\\n, \\n135 g CO2/km (comb)\\n]   \n",
              "13071  [\\n09/2021\\n, \\n120 g CO2/km (comb)\\n]   \n",
              "13113                                     NaN   \n",
              "13308                                     NaN   \n",
              "14283                                     NaN   \n",
              "14305   [\\n02/2021\\n, \\n90 g CO2/km (comb)\\n]   \n",
              "14308                                     NaN   \n",
              "14313                                     NaN   \n",
              "14364                                     NaN   \n",
              "14369                                     NaN   \n",
              "14402  [\\n08/2021\\n, \\n135 g CO2/km (comb)\\n]   \n",
              "14403  [\\n08/2021\\n, \\n135 g CO2/km (comb)\\n]   \n",
              "14801  [\\n04/2022\\n, \\n114 g CO2/km (comb)\\n]   \n",
              "14856                                     NaN   \n",
              "15446                                     NaN   \n",
              "15503                                     NaN   \n",
              "15568                                     NaN   \n",
              "15753  [\\n12/2021\\n, \\n153 g CO2/km (comb)\\n]   \n",
              "15772  [\\n12/2021\\n, \\n153 g CO2/km (comb)\\n]   \n",
              "15774                                     NaN   \n",
              "15776  [\\n12/2021\\n, \\n153 g CO2/km (comb)\\n]   \n",
              "15806                                     NaN   \n",
              "15837                                     NaN   \n",
              "15844                                     NaN   \n",
              "15918                                     NaN   \n",
              "\n",
              "                           Inspection new  \\\n",
              "981                                   NaN   \n",
              "983                                   NaN   \n",
              "1075                                  NaN   \n",
              "1934                                  NaN   \n",
              "1967                                  NaN   \n",
              "3761                                  NaN   \n",
              "4993          [\\nYes\\n, \\nEuro 6d-TEMP\\n]   \n",
              "4994          [\\nYes\\n, \\nEuro 6d-TEMP\\n]   \n",
              "4995          [\\nYes\\n, \\nEuro 6d-TEMP\\n]   \n",
              "5089                                  NaN   \n",
              "5092                                  NaN   \n",
              "5120                                  NaN   \n",
              "5121                                  NaN   \n",
              "5209          [\\nYes\\n, \\nEuro 6d-TEMP\\n]   \n",
              "5293          [\\nYes\\n, \\nEuro 6d-TEMP\\n]   \n",
              "5409                                  NaN   \n",
              "5416                                  NaN   \n",
              "5505          [\\nYes\\n, \\nEuro 6d-TEMP\\n]   \n",
              "5548          [\\nYes\\n, \\nEuro 6d-TEMP\\n]   \n",
              "7617                                  NaN   \n",
              "7622                                  NaN   \n",
              "7662                                  NaN   \n",
              "9162                                  NaN   \n",
              "9867                                  NaN   \n",
              "9905                                  NaN   \n",
              "9913                                  NaN   \n",
              "10249                                 NaN   \n",
              "10262                                 NaN   \n",
              "11869               [\\nYes\\n, \\nEuro 6\\n]   \n",
              "12499                                 NaN   \n",
              "12538                                 NaN   \n",
              "12885                                 NaN   \n",
              "12956                                 NaN   \n",
              "13071                                 NaN   \n",
              "13113                                 NaN   \n",
              "13308                                 NaN   \n",
              "14283                                 NaN   \n",
              "14305                                 NaN   \n",
              "14308                                 NaN   \n",
              "14313                                 NaN   \n",
              "14364  [\\nYes\\n, \\n135 g CO2/km (comb)\\n]   \n",
              "14369  [\\nYes\\n, \\n135 g CO2/km (comb)\\n]   \n",
              "14402                                 NaN   \n",
              "14403                                 NaN   \n",
              "14801                                 NaN   \n",
              "14856                                 NaN   \n",
              "15446                                 NaN   \n",
              "15503                                 NaN   \n",
              "15568                                 NaN   \n",
              "15753                                 NaN   \n",
              "15772                                 NaN   \n",
              "15774                                 NaN   \n",
              "15776                                 NaN   \n",
              "15806  [\\nYes\\n, \\n153 g CO2/km (comb)\\n]   \n",
              "15837                                 NaN   \n",
              "15844  [\\nYes\\n, \\n148 g CO2/km (comb)\\n]   \n",
              "15918  [\\nYes\\n, \\n153 g CO2/km (comb)\\n]   \n",
              "\n",
              "                                       Warranty                Full Service  \\\n",
              "981                        [\\n, \\n, \\nEuro 6\\n]                         NaN   \n",
              "983                                         NaN                         NaN   \n",
              "1075                       [\\n, \\n, \\nEuro 6\\n]                         NaN   \n",
              "1934                                        NaN                         NaN   \n",
              "1967   [\\n24 months\\n, \\n108 g CO2/km (comb)\\n]                         NaN   \n",
              "3761                                        NaN                         NaN   \n",
              "4993                                        NaN                         NaN   \n",
              "4994                                        NaN                         NaN   \n",
              "4995                                        NaN                         NaN   \n",
              "5089                                        NaN                         NaN   \n",
              "5092                                        NaN                         NaN   \n",
              "5120                                        NaN                         NaN   \n",
              "5121                                        NaN                         NaN   \n",
              "5209                                        NaN                         NaN   \n",
              "5293                                        NaN                         NaN   \n",
              "5409                                        NaN                         NaN   \n",
              "5416                                        NaN                         NaN   \n",
              "5505                                        NaN                         NaN   \n",
              "5548                                        NaN                         NaN   \n",
              "7617                                        NaN  [\\n, \\n, \\nEuro 6d-TEMP\\n]   \n",
              "7622                                        NaN                         NaN   \n",
              "7662                 [\\n, \\n, \\nEuro 6d-TEMP\\n]                         NaN   \n",
              "9162   [\\n12 months\\n, \\n101 g CO2/km (comb)\\n]                         NaN   \n",
              "9867                       [\\n, \\n, \\nEuro 6\\n]                         NaN   \n",
              "9905                                        NaN                         NaN   \n",
              "9913          [\\n24 months\\n, \\nEuro 6d-TEMP\\n]                         NaN   \n",
              "10249                      [\\n, \\n, \\nEuro 6\\n]                         NaN   \n",
              "10262                      [\\n, \\n, \\nEuro 6\\n]                         NaN   \n",
              "11869                   [\\n, \\n, \\n4 (Green)\\n]                    [\\n, \\n]   \n",
              "12499                      [\\n, \\n, \\nEuro 6\\n]                    [\\n, \\n]   \n",
              "12538                      [\\n, \\n, \\nEuro 6\\n]                         NaN   \n",
              "12885            [\\n24 months\\n, \\n4 (Green)\\n]                    [\\n, \\n]   \n",
              "12956                                       NaN  [\\n, \\n, \\nEuro 6d-TEMP\\n]   \n",
              "13071                     [\\n, \\n, \\nEuro 6c\\n]                         NaN   \n",
              "13113                                       NaN                         NaN   \n",
              "13308                                       NaN                         NaN   \n",
              "14283                                       NaN                         NaN   \n",
              "14305                                       NaN        [\\n, \\n, \\nEuro 6\\n]   \n",
              "14308                                       NaN                         NaN   \n",
              "14313                                       NaN                         NaN   \n",
              "14364                                       NaN                         NaN   \n",
              "14369                                       NaN                         NaN   \n",
              "14402                                       NaN                         NaN   \n",
              "14403                                       NaN                         NaN   \n",
              "14801                                       NaN                         NaN   \n",
              "14856         [\\n, \\n, \\n113 g CO2/km (comb)\\n]  [\\n, \\n, \\nEuro 6d-TEMP\\n]   \n",
              "15446                                       NaN                         NaN   \n",
              "15503                           [\\n24 months\\n]                         NaN   \n",
              "15568         [\\n, \\n, \\n120 g CO2/km (comb)\\n]                         NaN   \n",
              "15753                                       NaN                         NaN   \n",
              "15772                                       NaN                         NaN   \n",
              "15774  [\\n24 months\\n, \\n139 g CO2/km (comb)\\n]                         NaN   \n",
              "15776                                       NaN                         NaN   \n",
              "15806                                       NaN                         NaN   \n",
              "15837                                       NaN                         NaN   \n",
              "15844                                       NaN                         NaN   \n",
              "15918                                       NaN                         NaN   \n",
              "\n",
              "           Non-smoking Vehicle null         Make               Model  \\\n",
              "981                        NaN   []     \\nAudi\\n        [\\n, A1, \\n]   \n",
              "983                        NaN   []     \\nAudi\\n        [\\n, A1, \\n]   \n",
              "1075                       NaN   []     \\nAudi\\n        [\\n, A1, \\n]   \n",
              "1934                       NaN   []     \\nAudi\\n        [\\n, A1, \\n]   \n",
              "1967                       NaN   []     \\nAudi\\n        [\\n, A1, \\n]   \n",
              "3761                       NaN   []     \\nAudi\\n        [\\n, A3, \\n]   \n",
              "4993                       NaN   []     \\nAudi\\n        [\\n, A3, \\n]   \n",
              "4994                       NaN   []     \\nAudi\\n        [\\n, A3, \\n]   \n",
              "4995                       NaN   []     \\nAudi\\n        [\\n, A3, \\n]   \n",
              "5089                       NaN   []     \\nAudi\\n        [\\n, A3, \\n]   \n",
              "5092                       NaN   []     \\nAudi\\n        [\\n, A3, \\n]   \n",
              "5120                       NaN   []     \\nAudi\\n        [\\n, A3, \\n]   \n",
              "5121                       NaN   []     \\nAudi\\n        [\\n, A3, \\n]   \n",
              "5209                       NaN   []     \\nAudi\\n        [\\n, A3, \\n]   \n",
              "5293                       NaN   []     \\nAudi\\n        [\\n, A3, \\n]   \n",
              "5409                       NaN   []     \\nAudi\\n        [\\n, A3, \\n]   \n",
              "5416                       NaN   []     \\nAudi\\n        [\\n, A3, \\n]   \n",
              "5505                       NaN   []     \\nAudi\\n        [\\n, A3, \\n]   \n",
              "5548                       NaN   []     \\nAudi\\n        [\\n, A3, \\n]   \n",
              "7617   [\\n, \\n, \\n4 (Green)\\n]   []     \\nOpel\\n     [\\n, Astra, \\n]   \n",
              "7622                       NaN   []     \\nOpel\\n     [\\n, Astra, \\n]   \n",
              "7662                       NaN   []     \\nOpel\\n     [\\n, Astra, \\n]   \n",
              "9162      [\\n, \\n, \\nEuro 6\\n]   []     \\nOpel\\n     [\\n, Corsa, \\n]   \n",
              "9867                       NaN   []     \\nOpel\\n     [\\n, Corsa, \\n]   \n",
              "9905                       NaN   []     \\nOpel\\n     [\\n, Corsa, \\n]   \n",
              "9913                       NaN   []     \\nOpel\\n     [\\n, Corsa, \\n]   \n",
              "10249                      NaN   []     \\nOpel\\n     [\\n, Corsa, \\n]   \n",
              "10262                      NaN   []     \\nOpel\\n     [\\n, Corsa, \\n]   \n",
              "11869                      NaN   []     \\nOpel\\n  [\\n, Insignia, \\n]   \n",
              "12499                      NaN   []     \\nOpel\\n  [\\n, Insignia, \\n]   \n",
              "12538                      NaN   []     \\nOpel\\n  [\\n, Insignia, \\n]   \n",
              "12885                 [\\n, \\n]   []     \\nOpel\\n  [\\n, Insignia, \\n]   \n",
              "12956  [\\n, \\n, \\n4 (Green)\\n]   []     \\nOpel\\n  [\\n, Insignia, \\n]   \n",
              "13071  [\\n, \\n, \\n4 (Green)\\n]   []  \\nRenault\\n      [\\n, Clio, \\n]   \n",
              "13113                      NaN   []  \\nRenault\\n      [\\n, Clio, \\n]   \n",
              "13308                      NaN   []  \\nRenault\\n      [\\n, Clio, \\n]   \n",
              "14283                      NaN   []  \\nRenault\\n      [\\n, Clio, \\n]   \n",
              "14305                      NaN   []  \\nRenault\\n      [\\n, Clio, \\n]   \n",
              "14308                      NaN   []  \\nRenault\\n      [\\n, Clio, \\n]   \n",
              "14313                      NaN   []  \\nRenault\\n      [\\n, Clio, \\n]   \n",
              "14364                      NaN   []  \\nRenault\\n      [\\n, Clio, \\n]   \n",
              "14369     [\\n, \\n, \\nEuro 6\\n]   []  \\nRenault\\n      [\\n, Clio, \\n]   \n",
              "14402                      NaN   []  \\nRenault\\n      [\\n, Clio, \\n]   \n",
              "14403                      NaN   []  \\nRenault\\n      [\\n, Clio, \\n]   \n",
              "14801                      NaN   []  \\nRenault\\n      [\\n, Clio, \\n]   \n",
              "14856  [\\n, \\n, \\n4 (Green)\\n]   []  \\nRenault\\n      [\\n, Clio, \\n]   \n",
              "15446                      NaN   []  \\nRenault\\n    [\\n, Espace, \\n]   \n",
              "15503                      NaN   []  \\nRenault\\n    [\\n, Espace, \\n]   \n",
              "15568                      NaN   []  \\nRenault\\n    [\\n, Espace, \\n]   \n",
              "15753                      NaN   []  \\nRenault\\n    [\\n, Espace, \\n]   \n",
              "15772                      NaN   []  \\nRenault\\n    [\\n, Espace, \\n]   \n",
              "15774                      NaN   []  \\nRenault\\n    [\\n, Espace, \\n]   \n",
              "15776                      NaN   []  \\nRenault\\n    [\\n, Espace, \\n]   \n",
              "15806                      NaN   []  \\nRenault\\n    [\\n, Espace, \\n]   \n",
              "15837                      NaN   []  \\nRenault\\n    [\\n, Espace, \\n]   \n",
              "15844                      NaN   []  \\nRenault\\n    [\\n, Espace, \\n]   \n",
              "15918                      NaN   []  \\nRenault\\n    [\\n, Espace, \\n]   \n",
              "\n",
              "                   Offer Number First Registration        Body Color  \\\n",
              "981    [\\n201805963-11017275\\n]     [\\n, 2018, \\n]   [\\n, White, \\n]   \n",
              "983    [\\n201805721-11020420\\n]     [\\n, 2018, \\n]    [\\n, Grey, \\n]   \n",
              "1075   [\\n201805988-11017300\\n]     [\\n, 2018, \\n]   [\\n, White, \\n]   \n",
              "1934   [\\n201900742-11020108\\n]     [\\n, 2019, \\n]    [\\n, Grey, \\n]   \n",
              "1967             [\\n11671165\\n]     [\\n, 2019, \\n]     [\\n, Red, \\n]   \n",
              "3761              [\\n1749205\\n]     [\\n, 2018, \\n]   [\\n, Black, \\n]   \n",
              "4993               [\\nS20302\\n]                NaN   [\\n, White, \\n]   \n",
              "4994               [\\nS20308\\n]                NaN   [\\n, White, \\n]   \n",
              "4995               [\\nS20307\\n]                NaN   [\\n, Black, \\n]   \n",
              "5089   [\\n201900492-11019890\\n]     [\\n, 2019, \\n]   [\\n, White, \\n]   \n",
              "5092   [\\n201900494-11019892\\n]     [\\n, 2019, \\n]   [\\n, Black, \\n]   \n",
              "5120   [\\n201900515-11019907\\n]     [\\n, 2019, \\n]   [\\n, White, \\n]   \n",
              "5121   [\\n201900517-11019909\\n]     [\\n, 2019, \\n]   [\\n, Black, \\n]   \n",
              "5209               [\\nS20306\\n]                NaN               NaN   \n",
              "5293               [\\nS20353\\n]                NaN   [\\n, White, \\n]   \n",
              "5409       [\\n24142-19927350\\n]     [\\n, 2019, \\n]    [\\n, Grey, \\n]   \n",
              "5416       [\\n24143-19927349\\n]     [\\n, 2019, \\n]   [\\n, White, \\n]   \n",
              "5505               [\\nS20311\\n]                NaN    [\\n, Grey, \\n]   \n",
              "5548               [\\nS20310\\n]                NaN   [\\n, Black, \\n]   \n",
              "7617             [\\nHA026977\\n]     [\\n, 2019, \\n]    [\\n, Blue, \\n]   \n",
              "7622             [\\n53010225\\n]     [\\n, 2019, \\n]    [\\n, Blue, \\n]   \n",
              "7662             [\\n50042818\\n]     [\\n, 2019, \\n]    [\\n, Grey, \\n]   \n",
              "9162             [\\n11669252\\n]     [\\n, 2019, \\n]    [\\n, Grey, \\n]   \n",
              "9867              [\\n3214172\\n]     [\\n, 2019, \\n]   [\\n, White, \\n]   \n",
              "9905             [\\n50042466\\n]     [\\n, 2019, \\n]    [\\n, Grey, \\n]   \n",
              "9913             [\\n50042614\\n]     [\\n, 2019, \\n]     [\\n, Red, \\n]   \n",
              "10249             [\\n3223233\\n]     [\\n, 2019, \\n]   [\\n, White, \\n]   \n",
              "10262             [\\n3217456\\n]     [\\n, 2019, \\n]   [\\n, White, \\n]   \n",
              "11869               [\\n0059H\\n]     [\\n, 2018, \\n]    [\\n, Grey, \\n]   \n",
              "12499             [\\n3236699\\n]     [\\n, 2019, \\n]     [\\n, Red, \\n]   \n",
              "12538             [\\n3245761\\n]     [\\n, 2019, \\n]   [\\n, Black, \\n]   \n",
              "12885              [\\n360129\\n]     [\\n, 2019, \\n]   [\\n, Black, \\n]   \n",
              "12956            [\\nHA026864\\n]     [\\n, 2019, \\n]   [\\n, Black, \\n]   \n",
              "13071               [\\n17001\\n]     [\\n, 2018, \\n]    [\\n, Grey, \\n]   \n",
              "13113           [\\nKL_215726\\n]     [\\n, 2019, \\n]    [\\n, Grey, \\n]   \n",
              "13308             [\\n2706101\\n]     [\\n, 2017, \\n]     [\\n, Red, \\n]   \n",
              "14283           [\\nKL_503840\\n]     [\\n, 2019, \\n]   [\\n, Black, \\n]   \n",
              "14305           [\\nD9_200729\\n]     [\\n, 2018, \\n]   [\\n, White, \\n]   \n",
              "14308           [\\nKL_503779\\n]     [\\n, 2019, \\n]   [\\n, White, \\n]   \n",
              "14313           [\\nKL_503781\\n]     [\\n, 2019, \\n]   [\\n, White, \\n]   \n",
              "14364      [\\nRe_30000006397\\n]     [\\n, 2019, \\n]  [\\n, Yellow, \\n]   \n",
              "14369      [\\nRe_30000005678\\n]     [\\n, 2019, \\n]  [\\n, Yellow, \\n]   \n",
              "14402          [\\nD9_6075PR8\\n]     [\\n, 2018, \\n]   [\\n, Black, \\n]   \n",
              "14403          [\\nD9_6065PR8\\n]     [\\n, 2018, \\n]   [\\n, Black, \\n]   \n",
              "14801                       NaN     [\\n, 2019, \\n]   [\\n, White, \\n]   \n",
              "14856               [\\n95869\\n]     [\\n, 2019, \\n]    [\\n, Grey, \\n]   \n",
              "15446             [\\n2074287\\n]     [\\n, 2018, \\n]   [\\n, Black, \\n]   \n",
              "15503       [\\nREN6056954501\\n]     [\\n, 2018, \\n]   [\\n, White, \\n]   \n",
              "15568             [\\n2282256\\n]     [\\n, 2018, \\n]    [\\n, Grey, \\n]   \n",
              "15753          [\\nD9_C1782R8\\n]     [\\n, 2018, \\n]    [\\n, Grey, \\n]   \n",
              "15772          [\\nD9_C1776R8\\n]     [\\n, 2018, \\n]   [\\n, White, \\n]   \n",
              "15774             [\\n2644457\\n]     [\\n, 2019, \\n]    [\\n, Grey, \\n]   \n",
              "15776          [\\nD9_C1783R8\\n]     [\\n, 2018, \\n]    [\\n, Grey, \\n]   \n",
              "15806      [\\nRe_30000008377\\n]     [\\n, 2019, \\n]   [\\n, Black, \\n]   \n",
              "15837            [\\nHI011000\\n]     [\\n, 2019, \\n]   [\\n, Black, \\n]   \n",
              "15844      [\\nRe_30000009618\\n]     [\\n, 2019, \\n]   [\\n, Black, \\n]   \n",
              "15918      [\\nRe_30000008029\\n]     [\\n, 2019, \\n]    [\\n, Grey, \\n]   \n",
              "\n",
              "            Paint Type                   Body Color Original  \\\n",
              "981    [\\nUni/basic\\n]  [\\nBIANCO GHIACCIO/GRIGIO DAYTONA\\n]   \n",
              "983    [\\nUni/basic\\n]            [\\nGrigio Freccia Perla\\n]   \n",
              "1075   [\\nUni/basic\\n]                 [\\nBIANCO GHIACCIO\\n]   \n",
              "1934    [\\nMetallic\\n]     [\\nGrigio Chronos Metallizzato\\n]   \n",
              "1967   [\\nUni/basic\\n]                           [\\nRosso\\n]   \n",
              "3761               NaN                            [\\nNERO\\n]   \n",
              "4993    [\\nMetallic\\n]          [\\nGletscherweiß Metallic\\n]   \n",
              "4994    [\\nMetallic\\n]          [\\nGletscherweiß Metallic\\n]   \n",
              "4995               NaN                 [\\nBrillantschwarz\\n]   \n",
              "5089   [\\nUni/basic\\n]                     [\\nBianco Ibis\\n]   \n",
              "5092   [\\nUni/basic\\n]                  [\\nNero Brillante\\n]   \n",
              "5120   [\\nUni/basic\\n]                     [\\nBianco Ibis\\n]   \n",
              "5121   [\\nUni/basic\\n]                  [\\nNero Brillante\\n]   \n",
              "5209    [\\nMetallic\\n]             [\\nKosmosblau Metallic\\n]   \n",
              "5293    [\\nMetallic\\n]          [\\nGletscherweiß Metallic\\n]   \n",
              "5409    [\\nMetallic\\n]     [\\nGrigio Monsone Metallizzato\\n]   \n",
              "5416    [\\nMetallic\\n]  [\\nBianco Ghiacciaio Metallizzato\\n]   \n",
              "5505    [\\nMetallic\\n]               [\\nNanograu Metallic\\n]   \n",
              "5548               NaN                 [\\nBrillantschwarz\\n]   \n",
              "7617    [\\nMetallic\\n]                    [\\ntiefsee blau\\n]   \n",
              "7622    [\\nMetallic\\n]         [\\ntiefsee blau (metallic)\\n]   \n",
              "7662    [\\nMetallic\\n]                      [\\nquarz grau\\n]   \n",
              "9162   [\\nUni/basic\\n]                       [\\nAntracite\\n]   \n",
              "9867               NaN                [\\nSchnee Weiß (SL)\\n]   \n",
              "9905    [\\nMetallic\\n]                   [\\nlicht grau m2\\n]   \n",
              "9913               NaN                        [\\nlava rot\\n]   \n",
              "10249              NaN                [\\nSchnee Weiß (SL)\\n]   \n",
              "10262              NaN                [\\nSchnee Weiß (SL)\\n]   \n",
              "11869   [\\nMetallic\\n]                                   NaN   \n",
              "12499              NaN                   [\\nLava Rot (SL)\\n]   \n",
              "12538   [\\nMetallic\\n]               [\\nOnyx Schwarz (M2)\\n]   \n",
              "12885   [\\nMetallic\\n]                    [\\nonyx schwarz\\n]   \n",
              "12956   [\\nMetallic\\n]                    [\\nonyx schwarz\\n]   \n",
              "13071   [\\nMetallic\\n]             [\\nTitanium Grau TEKPN\\n]   \n",
              "13113   [\\nMetallic\\n]          [\\nTitanium-Grau Metallic\\n]   \n",
              "13308              NaN                           [\\nRosso\\n]   \n",
              "14283   [\\nMetallic\\n]    [\\nBlack Pearl-Schwarz Metallic\\n]   \n",
              "14305   [\\nMetallic\\n]                     [\\nArktis-Weiß\\n]   \n",
              "14308              NaN                     [\\nArktis-Weiß\\n]   \n",
              "14313              NaN                     [\\nArktis-Weiß\\n]   \n",
              "14364   [\\nMetallic\\n]            [\\nSirius-Gelb Metallic\\n]   \n",
              "14369   [\\nMetallic\\n]            [\\nSirius-Gelb Metallic\\n]   \n",
              "14402   [\\nMetallic\\n]            [\\nTiefschwarz Metallic\\n]   \n",
              "14403   [\\nMetallic\\n]            [\\nTiefschwarz Metallic\\n]   \n",
              "14801              NaN                           [\\nWeiss\\n]   \n",
              "14856              NaN                   [\\nTitanium-Grau\\n]   \n",
              "15446              NaN                            [\\nNero\\n]   \n",
              "15503   [\\nMetallic\\n]                                   NaN   \n",
              "15568              NaN                          [\\nGrigio\\n]   \n",
              "15753   [\\nMetallic\\n]   [\\nTitanium-Grau Metallic (Grau)\\n]   \n",
              "15772   [\\nMetallic\\n]          [\\nPerlmutt-Weiß Metallic\\n]   \n",
              "15774   [\\nMetallic\\n]                          [\\nGrigio\\n]   \n",
              "15776   [\\nMetallic\\n]   [\\nTitanium-Grau Metallic (Grau)\\n]   \n",
              "15806   [\\nMetallic\\n]    [\\nBlack Pearl-Schwarz Metallic\\n]   \n",
              "15837   [\\nMetallic\\n]                  [\\namethyst black\\n]   \n",
              "15844   [\\nMetallic\\n]    [\\nBlack Pearl-Schwarz Metallic\\n]   \n",
              "15918   [\\nMetallic\\n]          [\\nTitanium-Grau Metallic\\n]   \n",
              "\n",
              "                      Upholstery                     Body Nr. of Doors  \\\n",
              "981                          NaN         [\\n, Sedans, \\n]      [\\n5\\n]   \n",
              "983                          NaN         [\\n, Sedans, \\n]      [\\n5\\n]   \n",
              "1075                         NaN         [\\n, Sedans, \\n]      [\\n5\\n]   \n",
              "1934                         NaN         [\\n, Sedans, \\n]      [\\n5\\n]   \n",
              "1967          [\\nCloth, Black\\n]         [\\n, Sedans, \\n]      [\\n5\\n]   \n",
              "3761           [\\nCloth, Grey\\n]         [\\n, Sedans, \\n]      [\\n5\\n]   \n",
              "4993                         NaN         [\\n, Sedans, \\n]      [\\n5\\n]   \n",
              "4994                         NaN         [\\n, Sedans, \\n]      [\\n5\\n]   \n",
              "4995                         NaN         [\\n, Sedans, \\n]      [\\n5\\n]   \n",
              "5089                         NaN         [\\n, Sedans, \\n]      [\\n5\\n]   \n",
              "5092                         NaN         [\\n, Sedans, \\n]      [\\n5\\n]   \n",
              "5120                         NaN         [\\n, Sedans, \\n]      [\\n5\\n]   \n",
              "5121                         NaN         [\\n, Sedans, \\n]      [\\n5\\n]   \n",
              "5209                  [\\nBlue\\n]         [\\n, Sedans, \\n]      [\\n5\\n]   \n",
              "5293                         NaN         [\\n, Sedans, \\n]      [\\n5\\n]   \n",
              "5409                         NaN         [\\n, Sedans, \\n]      [\\n5\\n]   \n",
              "5416                         NaN         [\\n, Sedans, \\n]      [\\n5\\n]   \n",
              "5505                         NaN         [\\n, Sedans, \\n]      [\\n5\\n]   \n",
              "5548                         NaN         [\\n, Sedans, \\n]      [\\n5\\n]   \n",
              "7617          [\\nCloth, Black\\n]  [\\n, Station wagon, \\n]      [\\n5\\n]   \n",
              "7622          [\\nCloth, Other\\n]          [\\n, Coupe, \\n]      [\\n5\\n]   \n",
              "7662          [\\nCloth, Black\\n]  [\\n, Station wagon, \\n]      [\\n5\\n]   \n",
              "9162                         NaN          [\\n, Coupe, \\n]      [\\n3\\n]   \n",
              "9867                 [\\nCloth\\n]         [\\n, Sedans, \\n]      [\\n3\\n]   \n",
              "9905          [\\nCloth, Black\\n]        [\\n, Compact, \\n]      [\\n5\\n]   \n",
              "9913          [\\nCloth, Black\\n]         [\\n, Sedans, \\n]      [\\n5\\n]   \n",
              "10249                [\\nCloth\\n]         [\\n, Sedans, \\n]      [\\n5\\n]   \n",
              "10262                [\\nCloth\\n]         [\\n, Sedans, \\n]      [\\n5\\n]   \n",
              "11869                        NaN  [\\n, Station wagon, \\n]      [\\n5\\n]   \n",
              "12499  [\\nPart leather, Black\\n]  [\\n, Station wagon, \\n]      [\\n5\\n]   \n",
              "12538         [\\nPart leather\\n]  [\\n, Station wagon, \\n]      [\\n5\\n]   \n",
              "12885         [\\nCloth, Black\\n]         [\\n, Sedans, \\n]      [\\n5\\n]   \n",
              "12956  [\\nFull leather, Black\\n]         [\\n, Sedans, \\n]      [\\n5\\n]   \n",
              "13071  [\\nPart leather, Black\\n]        [\\n, Compact, \\n]      [\\n4\\n]   \n",
              "13113         [\\nCloth, Black\\n]  [\\n, Station wagon, \\n]      [\\n5\\n]   \n",
              "13308                        NaN         [\\n, Sedans, \\n]      [\\n5\\n]   \n",
              "14283         [\\nCloth, Black\\n]         [\\n, Sedans, \\n]      [\\n5\\n]   \n",
              "14305         [\\nCloth, Black\\n]        [\\n, Compact, \\n]      [\\n5\\n]   \n",
              "14308          [\\nCloth, Grey\\n]         [\\n, Sedans, \\n]      [\\n5\\n]   \n",
              "14313          [\\nCloth, Grey\\n]         [\\n, Sedans, \\n]      [\\n5\\n]   \n",
              "14364  [\\nFull leather, Black\\n]         [\\n, Sedans, \\n]      [\\n5\\n]   \n",
              "14369  [\\nFull leather, Black\\n]         [\\n, Sedans, \\n]      [\\n5\\n]   \n",
              "14402  [\\nFull leather, Black\\n]         [\\n, Sedans, \\n]      [\\n5\\n]   \n",
              "14403  [\\nFull leather, Black\\n]         [\\n, Sedans, \\n]      [\\n5\\n]   \n",
              "14801         [\\nOther, Black\\n]         [\\n, Sedans, \\n]      [\\n5\\n]   \n",
              "14856         [\\nCloth, Black\\n]        [\\n, Compact, \\n]      [\\n4\\n]   \n",
              "15446                        NaN            [\\n, Van, \\n]      [\\n5\\n]   \n",
              "15503  [\\nFull leather, Other\\n]            [\\n, Van, \\n]      [\\n5\\n]   \n",
              "15568                        NaN            [\\n, Van, \\n]      [\\n5\\n]   \n",
              "15753         [\\nCloth, Brown\\n]            [\\n, Van, \\n]      [\\n5\\n]   \n",
              "15772         [\\nCloth, Brown\\n]            [\\n, Van, \\n]      [\\n5\\n]   \n",
              "15774  [\\nFull leather, Beige\\n]            [\\n, Van, \\n]      [\\n5\\n]   \n",
              "15776         [\\nCloth, Brown\\n]            [\\n, Van, \\n]      [\\n5\\n]   \n",
              "15806  [\\nFull leather, Brown\\n]            [\\n, Van, \\n]      [\\n5\\n]   \n",
              "15837  [\\nFull leather, Black\\n]            [\\n, Van, \\n]      [\\n5\\n]   \n",
              "15844   [\\nFull leather, Grey\\n]            [\\n, Van, \\n]      [\\n5\\n]   \n",
              "15918  [\\nFull leather, Brown\\n]            [\\n, Van, \\n]      [\\n5\\n]   \n",
              "\n",
              "      Nr. of Seats      Model Code         Gearing Type    Displacement  \\\n",
              "981        [\\n4\\n]             NaN  [\\n, Automatic, \\n]  [\\n1,422 cc\\n]   \n",
              "983        [\\n4\\n]             NaN  [\\n, Automatic, \\n]  [\\n1,422 cc\\n]   \n",
              "1075       [\\n4\\n]             NaN  [\\n, Automatic, \\n]  [\\n1,422 cc\\n]   \n",
              "1934       [\\n5\\n]             NaN  [\\n, Automatic, \\n]    [\\n999 cc\\n]   \n",
              "1967       [\\n5\\n]             NaN  [\\n, Automatic, \\n]    [\\n999 cc\\n]   \n",
              "3761       [\\n5\\n]             NaN  [\\n, Automatic, \\n]  [\\n1,598 cc\\n]   \n",
              "4993       [\\n5\\n]  [\\n0588/BHX\\n]  [\\n, Automatic, \\n]    [\\n999 cc\\n]   \n",
              "4994       [\\n5\\n]  [\\n0588/BLH\\n]  [\\n, Automatic, \\n]  [\\n1,598 cc\\n]   \n",
              "4995       [\\n5\\n]  [\\n0588/BLH\\n]  [\\n, Automatic, \\n]  [\\n1,598 cc\\n]   \n",
              "5089       [\\n5\\n]             NaN  [\\n, Automatic, \\n]  [\\n1,598 cc\\n]   \n",
              "5092       [\\n5\\n]             NaN  [\\n, Automatic, \\n]  [\\n1,598 cc\\n]   \n",
              "5120       [\\n5\\n]             NaN  [\\n, Automatic, \\n]  [\\n1,598 cc\\n]   \n",
              "5121       [\\n5\\n]             NaN  [\\n, Automatic, \\n]  [\\n1,598 cc\\n]   \n",
              "5209       [\\n5\\n]  [\\n0588/BLL\\n]  [\\n, Automatic, \\n]  [\\n1,498 cc\\n]   \n",
              "5293       [\\n5\\n]  [\\n0588/BLH\\n]  [\\n, Automatic, \\n]  [\\n1,598 cc\\n]   \n",
              "5409       [\\n5\\n]             NaN     [\\n, Manual, \\n]  [\\n1,598 cc\\n]   \n",
              "5416       [\\n5\\n]             NaN     [\\n, Manual, \\n]  [\\n1,598 cc\\n]   \n",
              "5505       [\\n5\\n]  [\\n0588/BLH\\n]     [\\n, Manual, \\n]  [\\n1,598 cc\\n]   \n",
              "5548       [\\n5\\n]  [\\n0588/BLH\\n]     [\\n, Manual, \\n]  [\\n1,598 cc\\n]   \n",
              "7617       [\\n5\\n]             NaN  [\\n, Automatic, \\n]  [\\n1,399 cc\\n]   \n",
              "7622           NaN             NaN  [\\n, Automatic, \\n]  [\\n1,399 cc\\n]   \n",
              "7662       [\\n5\\n]             NaN  [\\n, Automatic, \\n]  [\\n1,399 cc\\n]   \n",
              "9162       [\\n5\\n]             NaN     [\\n, Manual, \\n]  [\\n1,248 cc\\n]   \n",
              "9867       [\\n5\\n]             NaN     [\\n, Manual, \\n]  [\\n1,398 cc\\n]   \n",
              "9905       [\\n5\\n]  [\\n1844/ADJ\\n]  [\\n, Automatic, \\n]  [\\n1,398 cc\\n]   \n",
              "9913       [\\n5\\n]             NaN  [\\n, Automatic, \\n]  [\\n1,398 cc\\n]   \n",
              "10249      [\\n5\\n]             NaN     [\\n, Manual, \\n]  [\\n1,398 cc\\n]   \n",
              "10262      [\\n5\\n]             NaN     [\\n, Manual, \\n]  [\\n1,398 cc\\n]   \n",
              "11869      [\\n5\\n]  [\\n0000/000\\n]  [\\n, Automatic, \\n]  [\\n1,490 cc\\n]   \n",
              "12499      [\\n5\\n]             NaN  [\\n, Automatic, \\n]      [\\n1 cc\\n]   \n",
              "12538      [\\n5\\n]             NaN  [\\n, Automatic, \\n]  [\\n1,956 cc\\n]   \n",
              "12885      [\\n5\\n]  [\\n0035/BKM\\n]     [\\n, Manual, \\n]  [\\n1,490 cc\\n]   \n",
              "12956      [\\n5\\n]             NaN  [\\n, Automatic, \\n]  [\\n1,490 cc\\n]   \n",
              "13071      [\\n5\\n]  [\\n3333/BEF\\n]  [\\n, Automatic, \\n]  [\\n1,197 cc\\n]   \n",
              "13113      [\\n5\\n]  [\\n3333/BAS\\n]  [\\n, Automatic, \\n]  [\\n1,461 cc\\n]   \n",
              "13308      [\\n5\\n]             NaN  [\\n, Automatic, \\n]             NaN   \n",
              "14283          NaN  [\\n3333/BJR\\n]     [\\n, Manual, \\n]    [\\n898 cc\\n]   \n",
              "14305      [\\n2\\n]  [\\n3333/BEZ\\n]     [\\n, Manual, \\n]  [\\n1,461 cc\\n]   \n",
              "14308          NaN  [\\n3333/BJR\\n]     [\\n, Manual, \\n]    [\\n898 cc\\n]   \n",
              "14313          NaN  [\\n3333/BJR\\n]     [\\n, Manual, \\n]    [\\n898 cc\\n]   \n",
              "14364      [\\n5\\n]  [\\n3333/BEG\\n]  [\\n, Automatic, \\n]  [\\n1,618 cc\\n]   \n",
              "14369      [\\n5\\n]  [\\n3333/BEG\\n]  [\\n, Automatic, \\n]  [\\n1,618 cc\\n]   \n",
              "14402      [\\n5\\n]  [\\n3333/BEG\\n]  [\\n, Automatic, \\n]  [\\n1,618 cc\\n]   \n",
              "14403      [\\n5\\n]  [\\n3333/BEG\\n]  [\\n, Automatic, \\n]  [\\n1,618 cc\\n]   \n",
              "14801      [\\n5\\n]             NaN     [\\n, Manual, \\n]    [\\n898 cc\\n]   \n",
              "14856      [\\n5\\n]             NaN     [\\n, Manual, \\n]    [\\n898 cc\\n]   \n",
              "15446      [\\n7\\n]             NaN  [\\n, Automatic, \\n]  [\\n1,598 cc\\n]   \n",
              "15503      [\\n7\\n]             NaN  [\\n, Automatic, \\n]  [\\n1,598 cc\\n]   \n",
              "15568      [\\n5\\n]             NaN  [\\n, Automatic, \\n]  [\\n1,598 cc\\n]   \n",
              "15753      [\\n5\\n]  [\\n3333/BHJ\\n]  [\\n, Automatic, \\n]  [\\n1,798 cc\\n]   \n",
              "15772      [\\n5\\n]  [\\n3333/BHJ\\n]  [\\n, Automatic, \\n]  [\\n1,798 cc\\n]   \n",
              "15774      [\\n5\\n]             NaN  [\\n, Automatic, \\n]  [\\n1,997 cc\\n]   \n",
              "15776      [\\n5\\n]  [\\n3333/BHJ\\n]  [\\n, Automatic, \\n]  [\\n1,798 cc\\n]   \n",
              "15806      [\\n5\\n]  [\\n3333/BHJ\\n]  [\\n, Automatic, \\n]  [\\n1,798 cc\\n]   \n",
              "15837      [\\n5\\n]             NaN  [\\n, Automatic, \\n]  [\\n1,598 cc\\n]   \n",
              "15844      [\\n5\\n]  [\\n3333/BKQ\\n]  [\\n, Automatic, \\n]  [\\n1,997 cc\\n]   \n",
              "15918      [\\n5\\n]  [\\n3333/BHJ\\n]  [\\n, Automatic, \\n]  [\\n1,798 cc\\n]   \n",
              "\n",
              "      Cylinders          Weight  Drive chain  \\\n",
              "981         NaN             NaN  [\\nfront\\n]   \n",
              "983         NaN             NaN  [\\nfront\\n]   \n",
              "1075        NaN             NaN  [\\nfront\\n]   \n",
              "1934        NaN             NaN  [\\nfront\\n]   \n",
              "1967    [\\n3\\n]  [\\n1,230 kg\\n]  [\\nfront\\n]   \n",
              "3761    [\\n4\\n]  [\\n1,845 kg\\n]  [\\nfront\\n]   \n",
              "4993    [\\n3\\n]  [\\n1,280 kg\\n]          NaN   \n",
              "4994    [\\n4\\n]  [\\n1,385 kg\\n]          NaN   \n",
              "4995    [\\n4\\n]  [\\n1,385 kg\\n]          NaN   \n",
              "5089        NaN             NaN  [\\nfront\\n]   \n",
              "5092        NaN             NaN  [\\nfront\\n]   \n",
              "5120        NaN             NaN  [\\nfront\\n]   \n",
              "5121        NaN             NaN  [\\nfront\\n]   \n",
              "5209    [\\n4\\n]  [\\n1,345 kg\\n]          NaN   \n",
              "5293    [\\n4\\n]  [\\n1,385 kg\\n]          NaN   \n",
              "5409        NaN             NaN  [\\nfront\\n]   \n",
              "5416        NaN             NaN  [\\nfront\\n]   \n",
              "5505    [\\n4\\n]  [\\n1,365 kg\\n]          NaN   \n",
              "5548    [\\n4\\n]  [\\n1,365 kg\\n]          NaN   \n",
              "7617    [\\n4\\n]  [\\n1,350 kg\\n]  [\\nfront\\n]   \n",
              "7622    [\\n4\\n]  [\\n1,350 kg\\n]          NaN   \n",
              "7662    [\\n4\\n]  [\\n1,350 kg\\n]          NaN   \n",
              "9162    [\\n4\\n]  [\\n1,199 kg\\n]  [\\nfront\\n]   \n",
              "9867        NaN             NaN  [\\nfront\\n]   \n",
              "9905    [\\n4\\n]  [\\n1,199 kg\\n]          NaN   \n",
              "9913    [\\n4\\n]  [\\n1,163 kg\\n]          NaN   \n",
              "10249       NaN             NaN  [\\nfront\\n]   \n",
              "10262       NaN             NaN  [\\nfront\\n]   \n",
              "11869       NaN             NaN          NaN   \n",
              "12499       NaN             NaN  [\\nfront\\n]   \n",
              "12538       NaN             NaN  [\\nfront\\n]   \n",
              "12885   [\\n4\\n]  [\\n1,440 kg\\n]  [\\nfront\\n]   \n",
              "12956   [\\n4\\n]  [\\n1,472 kg\\n]  [\\nfront\\n]   \n",
              "13071       NaN             NaN          NaN   \n",
              "13113   [\\n4\\n]  [\\n1,235 kg\\n]    [\\n4WD\\n]   \n",
              "13308   [\\n4\\n]             NaN  [\\nfront\\n]   \n",
              "14283   [\\n4\\n]             NaN          NaN   \n",
              "14305   [\\n4\\n]  [\\n1,280 kg\\n]          NaN   \n",
              "14308       NaN             NaN          NaN   \n",
              "14313       NaN    [\\n900 kg\\n]          NaN   \n",
              "14364   [\\n4\\n]  [\\n1,279 kg\\n]          NaN   \n",
              "14369   [\\n4\\n]  [\\n1,279 kg\\n]          NaN   \n",
              "14402   [\\n4\\n]  [\\n1,279 kg\\n]    [\\n4WD\\n]   \n",
              "14403   [\\n4\\n]  [\\n1,279 kg\\n]          NaN   \n",
              "14801       NaN             NaN  [\\nfront\\n]   \n",
              "14856       NaN             NaN          NaN   \n",
              "15446   [\\n4\\n]  [\\n1,734 kg\\n]  [\\nfront\\n]   \n",
              "15503   [\\n4\\n]  [\\n1,734 kg\\n]          NaN   \n",
              "15568   [\\n4\\n]  [\\n1,659 kg\\n]  [\\nfront\\n]   \n",
              "15753   [\\n4\\n]  [\\n1,880 kg\\n]          NaN   \n",
              "15772   [\\n4\\n]  [\\n1,685 kg\\n]          NaN   \n",
              "15774   [\\n4\\n]  [\\n1,758 kg\\n]  [\\nfront\\n]   \n",
              "15776   [\\n4\\n]  [\\n1,685 kg\\n]          NaN   \n",
              "15806   [\\n4\\n]  [\\n1,685 kg\\n]    [\\n4WD\\n]   \n",
              "15837   [\\n4\\n]  [\\n1,734 kg\\n]  [\\nfront\\n]   \n",
              "15844   [\\n4\\n]  [\\n1,840 kg\\n]    [\\n4WD\\n]   \n",
              "15918   [\\n4\\n]  [\\n1,685 kg\\n]    [\\n4WD\\n]   \n",
              "\n",
              "                                        Fuel  \\\n",
              "981                         [\\n, Diesel, \\n]   \n",
              "983                         [\\n, Diesel, \\n]   \n",
              "1075                        [\\n, Diesel, \\n]   \n",
              "1934                      [\\n, Gasoline, \\n]   \n",
              "1967                      [\\n, Gasoline, \\n]   \n",
              "3761   [\\n, Diesel (Particulate Filter), \\n]   \n",
              "4993                  [\\n, Super E10 95, \\n]   \n",
              "4994   [\\n, Diesel (Particulate Filter), \\n]   \n",
              "4995   [\\n, Diesel (Particulate Filter), \\n]   \n",
              "5089   [\\n, Diesel (Particulate Filter), \\n]   \n",
              "5092   [\\n, Diesel (Particulate Filter), \\n]   \n",
              "5120   [\\n, Diesel (Particulate Filter), \\n]   \n",
              "5121   [\\n, Diesel (Particulate Filter), \\n]   \n",
              "5209                  [\\n, Super E10 95, \\n]   \n",
              "5293   [\\n, Diesel (Particulate Filter), \\n]   \n",
              "5409   [\\n, Diesel (Particulate Filter), \\n]   \n",
              "5416   [\\n, Diesel (Particulate Filter), \\n]   \n",
              "5505   [\\n, Diesel (Particulate Filter), \\n]   \n",
              "5548   [\\n, Diesel (Particulate Filter), \\n]   \n",
              "7617                  [\\n, Super E10 95, \\n]   \n",
              "7622                      [\\n, Super 95, \\n]   \n",
              "7662                      [\\n, Super 95, \\n]   \n",
              "9162   [\\n, Diesel (Particulate Filter), \\n]   \n",
              "9867                      [\\n, Gasoline, \\n]   \n",
              "9905                      [\\n, Super 95, \\n]   \n",
              "9913                  [\\n, Super E10 95, \\n]   \n",
              "10249                     [\\n, Gasoline, \\n]   \n",
              "10262                     [\\n, Gasoline, \\n]   \n",
              "11869                     [\\n, Super 95, \\n]   \n",
              "12499  [\\n, Diesel (Particulate Filter), \\n]   \n",
              "12538  [\\n, Diesel (Particulate Filter), \\n]   \n",
              "12885                     [\\n, Super 95, \\n]   \n",
              "12956                 [\\n, Super E10 95, \\n]   \n",
              "13071                     [\\n, Super 95, \\n]   \n",
              "13113                       [\\n, Diesel, \\n]   \n",
              "13308                       [\\n, Diesel, \\n]   \n",
              "14283                     [\\n, Super 95, \\n]   \n",
              "14305  [\\n, Diesel (Particulate Filter), \\n]   \n",
              "14308                     [\\n, Super 95, \\n]   \n",
              "14313                     [\\n, Super 95, \\n]   \n",
              "14364                     [\\n, Super 95, \\n]   \n",
              "14369                     [\\n, Super 95, \\n]   \n",
              "14402                     [\\n, Super 95, \\n]   \n",
              "14403                     [\\n, Super 95, \\n]   \n",
              "14801                     [\\n, Gasoline, \\n]   \n",
              "14856                     [\\n, Super 95, \\n]   \n",
              "15446  [\\n, Diesel (Particulate Filter), \\n]   \n",
              "15503                       [\\n, Diesel, \\n]   \n",
              "15568  [\\n, Diesel (Particulate Filter), \\n]   \n",
              "15753                     [\\n, Super 95, \\n]   \n",
              "15772                     [\\n, Super 95, \\n]   \n",
              "15774                       [\\n, Diesel, \\n]   \n",
              "15776                     [\\n, Super 95, \\n]   \n",
              "15806                     [\\n, Super 95, \\n]   \n",
              "15837  [\\n, Diesel (Particulate Filter), \\n]   \n",
              "15844                       [\\n, Diesel, \\n]   \n",
              "15918                     [\\n, Super 95, \\n]   \n",
              "\n",
              "                                             Consumption  \\\n",
              "981                                                  NaN   \n",
              "983                                                  NaN   \n",
              "1075                                                 NaN   \n",
              "1934                                                 NaN   \n",
              "1967   [[4.8 l/100 km (comb)], [5.8 l/100 km (city)],...   \n",
              "3761   [[3.9 l/100 km (comb)], [4.1 l/100 km (city)],...   \n",
              "4993   [[5.2 l/100 km (comb)], [5.8 l/100 km (city)],...   \n",
              "4994   [[4 l/100 km (comb)], [4.3 l/100 km (city)], [...   \n",
              "4995   [[4 l/100 km (comb)], [4.3 l/100 km (city)], [...   \n",
              "5089                                                 NaN   \n",
              "5092                                                 NaN   \n",
              "5120                                                 NaN   \n",
              "5121                                                 NaN   \n",
              "5209   [[5.2 l/100 km (comb)], [6.4 l/100 km (city)],...   \n",
              "5293   [[4 l/100 km (comb)], [4.3 l/100 km (city)], [...   \n",
              "5409   [[4.4 l/100 km (comb)], [5 l/100 km (city)], [...   \n",
              "5416   [[4.4 l/100 km (comb)], [5 l/100 km (city)], [...   \n",
              "5505   [[4.5 l/100 km (comb)], [5.2 l/100 km (city)],...   \n",
              "5548   [[4.5 l/100 km (comb)], [5.2 l/100 km (city)],...   \n",
              "7617   [[5.8 l/100 km (comb)], [7.4 l/100 km (city)],...   \n",
              "7622   [[5.8 l/100 km (comb)], [7.4 l/100 km (city)],...   \n",
              "7662   [[5.6 l/100 km (comb)], [7.3 l/100 km (city)],...   \n",
              "9162   [[3.8 l/100 km (comb)], [4.6 l/100 km (city)],...   \n",
              "9867                                                 NaN   \n",
              "9905   [[6 l/100 km (comb)], [7.8 l/100 km (city)], [...   \n",
              "9913   [[6 l/100 km (comb)], [7.8 l/100 km (city)], [...   \n",
              "10249                                                NaN   \n",
              "10262                                                NaN   \n",
              "11869  [[6.2 l/100 km (comb)], [7.7 l/100 km (city)],...   \n",
              "12499                                                NaN   \n",
              "12538                                                NaN   \n",
              "12885  [[5.9 l/100 km (comb)], [7.5 l/100 km (city)],...   \n",
              "12956  [[5.9 l/100 km (comb)], [7.6 l/100 km (city)],...   \n",
              "13071  [[5.3 l/100 km (comb)], [6.8 l/100 km (city)],...   \n",
              "13113  [[4 l/100 km (comb)], [4.3 l/100 km (city)], [...   \n",
              "13308                                                NaN   \n",
              "14283  [[5.1 l/100 km (comb)], [6.4 l/100 km (city)],...   \n",
              "14305  [[3.3 l/100 km (comb)], [3.5 l/100 km (city)],...   \n",
              "14308  [[5.2 l/100 km (comb)], [6.5 l/100 km (city)],...   \n",
              "14313  [[5.2 l/100 km (comb)], [6.5 l/100 km (city)],...   \n",
              "14364  [[5.9 l/100 km (comb)], [7.6 l/100 km (city)],...   \n",
              "14369  [[5.9 l/100 km (comb)], [7.6 l/100 km (city)],...   \n",
              "14402  [[5.9 l/100 km (comb)], [7.6 l/100 km (city)],...   \n",
              "14403  [[5.9 l/100 km (comb)], [7.6 l/100 km (city)],...   \n",
              "14801                      [[5 l/100 km (comb)], [], []]   \n",
              "14856  [[5 l/100 km (comb)], [6.3 l/100 km (city)], [...   \n",
              "15446  [[4.7 l/100 km (comb)], [5.1 l/100 km (city)],...   \n",
              "15503                                                NaN   \n",
              "15568  [[4.7 l/100 km (comb)], [5.1 l/100 km (city)],...   \n",
              "15753  [[6.8 l/100 km (comb)], [8.7 l/100 km (city)],...   \n",
              "15772  [[6.8 l/100 km (comb)], [8.7 l/100 km (city)],...   \n",
              "15774  [[5.3 l/100 km (comb)], [6.2 l/100 km (city)],...   \n",
              "15776  [[6.8 l/100 km (comb)], [8.7 l/100 km (city)],...   \n",
              "15806  [[6.8 l/100 km (comb)], [8.7 l/100 km (city)],...   \n",
              "15837  [[4.7 l/100 km (comb)], [5.1 l/100 km (city)],...   \n",
              "15844  [[5.7 l/100 km (comb)], [6.1 l/100 km (city)],...   \n",
              "15918  [[6.8 l/100 km (comb)], [8.7 l/100 km (city)],...   \n",
              "\n",
              "                    CO2 Emission      Emission Class  \\\n",
              "981                 [[], [], []]        [\\nEuro 6\\n]   \n",
              "983                 [[], [], []]        [\\nEuro 6\\n]   \n",
              "1075                [[], [], []]        [\\nEuro 6\\n]   \n",
              "1934                [[], [], []]                 NaN   \n",
              "1967   [\\n108 g CO2/km (comb)\\n]                 NaN   \n",
              "3761   [\\n103 g CO2/km (comb)\\n]        [\\nEuro 6\\n]   \n",
              "4993   [\\n118 g CO2/km (comb)\\n]  [\\nEuro 6d-TEMP\\n]   \n",
              "4994   [\\n105 g CO2/km (comb)\\n]  [\\nEuro 6d-TEMP\\n]   \n",
              "4995   [\\n105 g CO2/km (comb)\\n]  [\\nEuro 6d-TEMP\\n]   \n",
              "5089                [[], [], []]                 NaN   \n",
              "5092                [[], [], []]                 NaN   \n",
              "5120                [[], [], []]                 NaN   \n",
              "5121                [[], [], []]                 NaN   \n",
              "5209   [\\n117 g CO2/km (comb)\\n]  [\\nEuro 6d-TEMP\\n]   \n",
              "5293   [\\n105 g CO2/km (comb)\\n]  [\\nEuro 6d-TEMP\\n]   \n",
              "5409   [\\n114 g CO2/km (comb)\\n]                 NaN   \n",
              "5416   [\\n114 g CO2/km (comb)\\n]                 NaN   \n",
              "5505   [\\n118 g CO2/km (comb)\\n]  [\\nEuro 6d-TEMP\\n]   \n",
              "5548   [\\n118 g CO2/km (comb)\\n]  [\\nEuro 6d-TEMP\\n]   \n",
              "7617   [\\n134 g CO2/km (comb)\\n]  [\\nEuro 6d-TEMP\\n]   \n",
              "7622   [\\n134 g CO2/km (comb)\\n]        [\\nEuro 6\\n]   \n",
              "7662   [\\n128 g CO2/km (comb)\\n]  [\\nEuro 6d-TEMP\\n]   \n",
              "9162   [\\n101 g CO2/km (comb)\\n]        [\\nEuro 6\\n]   \n",
              "9867                [[], [], []]        [\\nEuro 6\\n]   \n",
              "9905   [\\n140 g CO2/km (comb)\\n]  [\\nEuro 6d-TEMP\\n]   \n",
              "9913   [\\n140 g CO2/km (comb)\\n]  [\\nEuro 6d-TEMP\\n]   \n",
              "10249               [[], [], []]        [\\nEuro 6\\n]   \n",
              "10262               [[], [], []]        [\\nEuro 6\\n]   \n",
              "11869  [\\n141 g CO2/km (comb)\\n]        [\\nEuro 6\\n]   \n",
              "12499               [[], [], []]        [\\nEuro 6\\n]   \n",
              "12538               [[], [], []]        [\\nEuro 6\\n]   \n",
              "12885  [\\n133 g CO2/km (comb)\\n]                 NaN   \n",
              "12956  [\\n135 g CO2/km (comb)\\n]  [\\nEuro 6d-TEMP\\n]   \n",
              "13071  [\\n120 g CO2/km (comb)\\n]       [\\nEuro 6c\\n]   \n",
              "13113  [\\n104 g CO2/km (comb)\\n]        [\\nEuro 6\\n]   \n",
              "13308                        NaN                 NaN   \n",
              "14283  [\\n116 g CO2/km (comb)\\n]        [\\nEuro 6\\n]   \n",
              "14305   [\\n90 g CO2/km (comb)\\n]        [\\nEuro 6\\n]   \n",
              "14308  [\\n118 g CO2/km (comb)\\n]        [\\nEuro 6\\n]   \n",
              "14313  [\\n118 g CO2/km (comb)\\n]        [\\nEuro 6\\n]   \n",
              "14364  [\\n135 g CO2/km (comb)\\n]        [\\nEuro 6\\n]   \n",
              "14369  [\\n135 g CO2/km (comb)\\n]        [\\nEuro 6\\n]   \n",
              "14402  [\\n135 g CO2/km (comb)\\n]        [\\nEuro 6\\n]   \n",
              "14403  [\\n135 g CO2/km (comb)\\n]        [\\nEuro 6\\n]   \n",
              "14801  [\\n114 g CO2/km (comb)\\n]        [\\nEuro 6\\n]   \n",
              "14856  [\\n113 g CO2/km (comb)\\n]  [\\nEuro 6d-TEMP\\n]   \n",
              "15446  [\\n120 g CO2/km (comb)\\n]        [\\nEuro 6\\n]   \n",
              "15503                        NaN                 NaN   \n",
              "15568  [\\n120 g CO2/km (comb)\\n]        [\\nEuro 6\\n]   \n",
              "15753  [\\n153 g CO2/km (comb)\\n]        [\\nEuro 6\\n]   \n",
              "15772  [\\n153 g CO2/km (comb)\\n]        [\\nEuro 6\\n]   \n",
              "15774  [\\n139 g CO2/km (comb)\\n]        [\\nEuro 6\\n]   \n",
              "15776  [\\n153 g CO2/km (comb)\\n]        [\\nEuro 6\\n]   \n",
              "15806  [\\n153 g CO2/km (comb)\\n]        [\\nEuro 6\\n]   \n",
              "15837  [\\n123 g CO2/km (comb)\\n]        [\\nEuro 6\\n]   \n",
              "15844  [\\n148 g CO2/km (comb)\\n]        [\\nEuro 6\\n]   \n",
              "15918  [\\n153 g CO2/km (comb)\\n]        [\\nEuro 6\\n]   \n",
              "\n",
              "                               \\nComfort & Convenience\\n  \\\n",
              "981    [Air conditioning, Automatic climate control, ...   \n",
              "983    [Air conditioning, Automatic climate control, ...   \n",
              "1075   [Air conditioning, Automatic climate control, ...   \n",
              "1934   [Air conditioning, Automatic climate control, ...   \n",
              "1967   [Air conditioning, Armrest, Automatic climate ...   \n",
              "3761   [Air conditioning, Armrest, Automatic climate ...   \n",
              "4993   [Air conditioning, Armrest, Automatic climate ...   \n",
              "4994   [Air conditioning, Armrest, Automatic climate ...   \n",
              "4995   [Air conditioning, Armrest, Automatic climate ...   \n",
              "5089   [Air conditioning, Automatic climate control, ...   \n",
              "5092   [Air conditioning, Automatic climate control, ...   \n",
              "5120   [Air conditioning, Automatic climate control, ...   \n",
              "5121   [Air conditioning, Automatic climate control, ...   \n",
              "5209   [Air conditioning, Armrest, Automatic climate ...   \n",
              "5293   [Air conditioning, Armrest, Automatic climate ...   \n",
              "5409   [Air conditioning, Automatic climate control, ...   \n",
              "5416   [Air conditioning, Automatic climate control, ...   \n",
              "5505   [Air conditioning, Armrest, Automatic climate ...   \n",
              "5548   [Air conditioning, Armrest, Automatic climate ...   \n",
              "7617   [Air conditioning, Armrest, Automatic climate ...   \n",
              "7622   [Air conditioning, Armrest, Automatic climate ...   \n",
              "7662   [Air conditioning, Armrest, Automatic climate ...   \n",
              "9162   [Air conditioning, Cruise control, Multi-funct...   \n",
              "9867   [Air conditioning, Electrical side mirrors, Le...   \n",
              "9905   [Air conditioning, Cruise control, Electricall...   \n",
              "9913   [Air conditioning, Automatic climate control, ...   \n",
              "10249  [Air conditioning, Electrical side mirrors, Le...   \n",
              "10262  [Air conditioning, Cruise control, Electrical ...   \n",
              "11869  [Air conditioning, Automatic climate control, ...   \n",
              "12499  [Air conditioning, Automatic climate control, ...   \n",
              "12538  [Air conditioning, Armrest, Automatic climate ...   \n",
              "12885  [Air conditioning, Armrest, Automatic climate ...   \n",
              "12956  [Air conditioning, Armrest, Automatic climate ...   \n",
              "13071  [Air conditioning, Armrest, Automatic climate ...   \n",
              "13113  [Air conditioning, Armrest, Cruise control, El...   \n",
              "13308  [Air conditioning, Armrest, Cruise control, Le...   \n",
              "14283  [Air conditioning, Cruise control, Electrical ...   \n",
              "14305  [Air conditioning, Automatic climate control, ...   \n",
              "14308  [Air conditioning, Cruise control, Electrical ...   \n",
              "14313  [Air conditioning, Cruise control, Electrical ...   \n",
              "14364  [Air conditioning, Automatic climate control, ...   \n",
              "14369  [Air conditioning, Automatic climate control, ...   \n",
              "14402  [Air conditioning, Cruise control, Electrical ...   \n",
              "14403  [Air conditioning, Cruise control, Electrical ...   \n",
              "14801  [Electrical side mirrors, Multi-function steer...   \n",
              "14856  [Air conditioning, Cruise control, Electrical ...   \n",
              "15446  [Air conditioning, Automatic climate control, ...   \n",
              "15503  [Air conditioning, Automatic climate control, ...   \n",
              "15568  [Air conditioning, Automatic climate control, ...   \n",
              "15753  [Air conditioning, Automatic climate control, ...   \n",
              "15772  [Air conditioning, Automatic climate control, ...   \n",
              "15774  [Air conditioning, Automatic climate control, ...   \n",
              "15776  [Air conditioning, Automatic climate control, ...   \n",
              "15806  [Air conditioning, Automatic climate control, ...   \n",
              "15837  [Air conditioning, Automatic climate control, ...   \n",
              "15844  [Air conditioning, Automatic climate control, ...   \n",
              "15918  [Air conditioning, Automatic climate control, ...   \n",
              "\n",
              "                               \\nEntertainment & Media\\n  \\\n",
              "981                                                  NaN   \n",
              "983                                                  NaN   \n",
              "1075                                                 NaN   \n",
              "1934                                         [Bluetooth]   \n",
              "1967   [Bluetooth, Digital radio, Hands-free equipmen...   \n",
              "3761                                  [Bluetooth, Radio]   \n",
              "4993          [CD player, MP3, On-board computer, Radio]   \n",
              "4994          [CD player, MP3, On-board computer, Radio]   \n",
              "4995          [CD player, MP3, On-board computer, Radio]   \n",
              "5089                                         [Bluetooth]   \n",
              "5092                                         [Bluetooth]   \n",
              "5120                                         [Bluetooth]   \n",
              "5121                                         [Bluetooth]   \n",
              "5209          [CD player, MP3, On-board computer, Radio]   \n",
              "5293          [CD player, MP3, On-board computer, Radio]   \n",
              "5409                                         [Bluetooth]   \n",
              "5416                                         [Bluetooth]   \n",
              "5505          [CD player, MP3, On-board computer, Radio]   \n",
              "5548          [CD player, MP3, On-board computer, Radio]   \n",
              "7617   [Bluetooth, Digital radio, Hands-free equipmen...   \n",
              "7622              [Bluetooth, Hands-free equipment, USB]   \n",
              "7662   [Bluetooth, Digital radio, Hands-free equipmen...   \n",
              "9162   [Bluetooth, CD player, Hands-free equipment, M...   \n",
              "9867                       [Bluetooth, CD player, Radio]   \n",
              "9905   [Bluetooth, Hands-free equipment, MP3, On-boar...   \n",
              "9913   [Bluetooth, Hands-free equipment, MP3, On-boar...   \n",
              "10249                      [Bluetooth, CD player, Radio]   \n",
              "10262   [Bluetooth, CD player, On-board computer, Radio]   \n",
              "11869  [Bluetooth, Hands-free equipment, MP3, On-boar...   \n",
              "12499                     [Bluetooth, On-board computer]   \n",
              "12538                     [Bluetooth, On-board computer]   \n",
              "12885  [Bluetooth, Digital radio, MP3, On-board compu...   \n",
              "12956  [Bluetooth, Digital radio, Hands-free equipmen...   \n",
              "13071  [Bluetooth, Digital radio, Hands-free equipmen...   \n",
              "13113  [Bluetooth, Digital radio, Hands-free equipmen...   \n",
              "13308                         [On-board computer, Radio]   \n",
              "14283                                              [USB]   \n",
              "14305  [Bluetooth, Hands-free equipment, On-board com...   \n",
              "14308  [Bluetooth, Hands-free equipment, MP3, Radio, ...   \n",
              "14313  [Bluetooth, Hands-free equipment, MP3, Radio, ...   \n",
              "14364  [Bluetooth, Digital radio, Hands-free equipmen...   \n",
              "14369  [Bluetooth, Digital radio, Hands-free equipmen...   \n",
              "14402                                [Sound system, USB]   \n",
              "14403                                [Sound system, USB]   \n",
              "14801  [Bluetooth, Hands-free equipment, MP3, On-boar...   \n",
              "14856  [Bluetooth, Digital radio, Hands-free equipmen...   \n",
              "15446             [Bluetooth, Digital radio, Radio, USB]   \n",
              "15503                                [On-board computer]   \n",
              "15568                                   [Bluetooth, USB]   \n",
              "15753                                                NaN   \n",
              "15772                                                NaN   \n",
              "15774             [Bluetooth, Digital radio, Radio, USB]   \n",
              "15776                                                NaN   \n",
              "15806                                              [USB]   \n",
              "15837  [Bluetooth, Digital radio, Hands-free equipmen...   \n",
              "15844                                              [USB]   \n",
              "15918                                              [USB]   \n",
              "\n",
              "                                              \\nExtras\\n  \\\n",
              "981                                       [Alloy wheels]   \n",
              "983                                       [Alloy wheels]   \n",
              "1075                                      [Alloy wheels]   \n",
              "1934                                      [Alloy wheels]   \n",
              "1967   [Alloy wheels, Shift paddles, Touch screen, Vo...   \n",
              "3761                                      [Alloy wheels]   \n",
              "4993                       [Alloy wheels, Shift paddles]   \n",
              "4994                       [Alloy wheels, Shift paddles]   \n",
              "4995                       [Alloy wheels, Shift paddles]   \n",
              "5089                                      [Alloy wheels]   \n",
              "5092                                      [Alloy wheels]   \n",
              "5120                                      [Alloy wheels]   \n",
              "5121                                      [Alloy wheels]   \n",
              "5209                       [Alloy wheels, Shift paddles]   \n",
              "5293                       [Alloy wheels, Shift paddles]   \n",
              "5409                                      [Alloy wheels]   \n",
              "5416                                      [Alloy wheels]   \n",
              "5505                                      [Alloy wheels]   \n",
              "5548                                      [Alloy wheels]   \n",
              "7617   [Alloy wheels, Catalytic Converter, Roof rack,...   \n",
              "7622                               [Catalytic Converter]   \n",
              "7662   [Alloy wheels, Catalytic Converter, Touch screen]   \n",
              "9162                                                 NaN   \n",
              "9867                                                 NaN   \n",
              "9905                 [Alloy wheels, Catalytic Converter]   \n",
              "9913                 [Alloy wheels, Catalytic Converter]   \n",
              "10249                                                NaN   \n",
              "10262                                                NaN   \n",
              "11869                          [Alloy wheels, Roof rack]   \n",
              "12499                        [Alloy wheels, Sport seats]   \n",
              "12538             [Alloy wheels, Roof rack, Sport seats]   \n",
              "12885  [Alloy wheels, Catalytic Converter, Touch screen]   \n",
              "12956  [Alloy wheels, Catalytic Converter, Sport seat...   \n",
              "13071  [Alloy wheels, Sport package, Touch screen, Vo...   \n",
              "13113            [Alloy wheels, Roof rack, Touch screen]   \n",
              "13308                                     [Alloy wheels]   \n",
              "14283                                                NaN   \n",
              "14305                                                NaN   \n",
              "14308                                                NaN   \n",
              "14313                                                NaN   \n",
              "14364  [Alloy wheels, Shift paddles, Sport package, S...   \n",
              "14369  [Alloy wheels, Shift paddles, Sport seats, Spo...   \n",
              "14402                   [Alloy wheels, Sport suspension]   \n",
              "14403                   [Alloy wheels, Sport suspension]   \n",
              "14801                                                NaN   \n",
              "14856                                                NaN   \n",
              "15446                       [Alloy wheels, Touch screen]   \n",
              "15503                                                NaN   \n",
              "15568                                     [Alloy wheels]   \n",
              "15753                       [Alloy wheels, Touch screen]   \n",
              "15772                       [Alloy wheels, Touch screen]   \n",
              "15774                       [Alloy wheels, Touch screen]   \n",
              "15776                       [Alloy wheels, Touch screen]   \n",
              "15806                       [Alloy wheels, Touch screen]   \n",
              "15837  [Alloy wheels, Catalytic Converter, Touch screen]   \n",
              "15844                       [Alloy wheels, Touch screen]   \n",
              "15918                       [Alloy wheels, Touch screen]   \n",
              "\n",
              "                                   \\nSafety & Security\\n  \\\n",
              "981    [Central door lock, Central door lock with rem...   \n",
              "983    [Central door lock, Central door lock with rem...   \n",
              "1075   [Central door lock, Central door lock with rem...   \n",
              "1934   [ABS, Central door lock, Central door lock wit...   \n",
              "1967   [ABS, Adaptive Cruise Control, Alarm system, C...   \n",
              "3761   [ABS, Central door lock, Driver-side airbag, E...   \n",
              "4993   [ABS, Central door lock, Driver-side airbag, E...   \n",
              "4994   [ABS, Central door lock, Driver-side airbag, E...   \n",
              "4995   [ABS, Central door lock, Driver-side airbag, E...   \n",
              "5089   [ABS, Central door lock, Central door lock wit...   \n",
              "5092   [ABS, Central door lock, Central door lock wit...   \n",
              "5120   [ABS, Central door lock, Central door lock wit...   \n",
              "5121   [ABS, Central door lock, Central door lock wit...   \n",
              "5209   [ABS, Central door lock, Driver-side airbag, E...   \n",
              "5293   [ABS, Central door lock, Driver-side airbag, E...   \n",
              "5409   [ABS, Central door lock, Central door lock wit...   \n",
              "5416   [ABS, Central door lock, Central door lock wit...   \n",
              "5505   [ABS, Central door lock, Driver-side airbag, E...   \n",
              "5548   [ABS, Central door lock, Driver-side airbag, E...   \n",
              "7617   [ABS, Adaptive headlights, Central door lock, ...   \n",
              "7622   [ABS, Adaptive headlights, Central door lock, ...   \n",
              "7662   [ABS, Adaptive Cruise Control, Central door lo...   \n",
              "9162   [ABS, Central door lock, Central door lock wit...   \n",
              "9867   [ABS, Central door lock, Daytime running light...   \n",
              "9905   [ABS, Central door lock, Daytime running light...   \n",
              "9913   [ABS, Central door lock, Daytime running light...   \n",
              "10249  [ABS, Central door lock, Daytime running light...   \n",
              "10262  [ABS, Central door lock, Daytime running light...   \n",
              "11869  [ABS, Central door lock, Daytime running light...   \n",
              "12499  [ABS, Central door lock, Driver-side airbag, E...   \n",
              "12538  [ABS, Central door lock, Daytime running light...   \n",
              "12885  [ABS, Blind spot monitor, Central door lock, D...   \n",
              "12956  [ABS, Adaptive Cruise Control, Adaptive headli...   \n",
              "13071  [ABS, Adaptive headlights, Central door lock, ...   \n",
              "13113  [ABS, Central door lock, Daytime running light...   \n",
              "13308  [Central door lock, Daytime running lights, Fo...   \n",
              "14283  [ABS, Central door lock, Daytime running light...   \n",
              "14305  [ABS, Central door lock, Daytime running light...   \n",
              "14308  [ABS, Central door lock, Daytime running light...   \n",
              "14313  [ABS, Central door lock, Daytime running light...   \n",
              "14364  [ABS, Adaptive headlights, Central door lock, ...   \n",
              "14369  [ABS, Adaptive headlights, Central door lock, ...   \n",
              "14402  [ABS, Central door lock, Daytime running light...   \n",
              "14403  [ABS, Central door lock, Daytime running light...   \n",
              "14801  [ABS, Central door lock, Daytime running light...   \n",
              "14856  [ABS, Central door lock, Daytime running light...   \n",
              "15446  [ABS, Blind spot monitor, Driver-side airbag, ...   \n",
              "15503  [ABS, Central door lock, Electronic stability ...   \n",
              "15568  [ABS, Driver-side airbag, Electronic stability...   \n",
              "15753  [ABS, Blind spot monitor, Daytime running ligh...   \n",
              "15772  [ABS, Blind spot monitor, Daytime running ligh...   \n",
              "15774  [ABS, Blind spot monitor, Driver-side airbag, ...   \n",
              "15776  [ABS, Blind spot monitor, Daytime running ligh...   \n",
              "15806  [ABS, Blind spot monitor, Daytime running ligh...   \n",
              "15837  [ABS, Adaptive Cruise Control, Blind spot moni...   \n",
              "15844  [ABS, Blind spot monitor, Daytime running ligh...   \n",
              "15918  [ABS, Blind spot monitor, Daytime running ligh...   \n",
              "\n",
              "                                             description   Emission Label  \\\n",
              "981    [\\nAppoggiabraccia centrale anteriore, Proiett...              NaN   \n",
              "983    [\\nAppoggiabraccia centrale anteriore, Look al...              NaN   \n",
              "1075   [\\nAppoggiabraccia centrale anteriore, Proiett...              NaN   \n",
              "1934   [\\nVetri laterali posteriori e lunotto oscurat...              NaN   \n",
              "1967   [\\nVettura ufficiale Audi Italia, VETTURA DISP...              NaN   \n",
              "3761   [\\nAudi A3 SPB 1.6 tdi 116 Cv S Tronic Sport, ...              NaN   \n",
              "4993   [\\n, EU-Neuwagen mit Tageszulassung 30.11.2018...  [\\n4 (Green)\\n]   \n",
              "4994   [\\n, EU-Neuwagen mit Tageszulassung 30.11.2018...  [\\n4 (Green)\\n]   \n",
              "4995   [\\n, EU-Neuwagen mit Tageszulassung 30.11.2018...  [\\n4 (Green)\\n]   \n",
              "5089   [\\nVetri laterali post. e lunotto oscurati, Cl...              NaN   \n",
              "5092   [\\nPacchetto luci interne (illum. interna man....              NaN   \n",
              "5120   [\\nVetri laterali post. e lunotto oscurati, Vo...              NaN   \n",
              "5121   [\\nPacchetto luci interne (illum. interna man....              NaN   \n",
              "5209   [\\n, EU-Neuwagen mit Tageszulassung 30.11.2018...  [\\n4 (Green)\\n]   \n",
              "5293   [\\n, EU-Neuwagen mit Tageszulassung, Sonderaus...  [\\n4 (Green)\\n]   \n",
              "5409   [\\nEstensione della garanzia 1 anno max. 60.00...              NaN   \n",
              "5416   [\\nEstensione della garanzia 1 anno max. 60.00...              NaN   \n",
              "5505   [\\n, EU-Neuwagen mit Tageszulassung 30.11.2018...  [\\n4 (Green)\\n]   \n",
              "5548   [\\n, EU-Neuwagen mit Tageszulassung 30.11.2018...  [\\n4 (Green)\\n]   \n",
              "7617   [\\n, Getriebe:,  Automatik, Technik:,  Bordcom...              NaN   \n",
              "7622   [\\n, Getriebe:,  Automatik, Technik:,  Start-S...  [\\n4 (Green)\\n]   \n",
              "7662   [\\n, Getriebe:,  Automatik, Technik:,  Bordcom...  [\\n4 (Green)\\n]   \n",
              "9162   [\\n, OCCASIONE OPEL CORSA 3P. 1.3 75cv ADATTA ...              NaN   \n",
              "9867   [\\nElektr. Bremskraftverteilung, Kindersitzbef...              NaN   \n",
              "9905   [\\n, Getriebe:,  Automatik, Technik:,  Bordcom...  [\\n4 (Green)\\n]   \n",
              "9913   [\\n, Getriebe:,  Automatik, Technik:,  Bordcom...  [\\n4 (Green)\\n]   \n",
              "10249  [\\nElektr. Bremskraftverteilung, Kindersitzbef...              NaN   \n",
              "10262  [\\nElektr. Bremskraftverteilung, Kindersitzbef...              NaN   \n",
              "11869  [\\n, Ausstattung und Merkmale, 2- Zonen Klimaa...              NaN   \n",
              "12499  [\\nKEYLESS-GO, Automatic, Kindersitzbefestigun...              NaN   \n",
              "12538  [\\nKEYLESS-GO, Automatic, Elektr. Bremskraftve...              NaN   \n",
              "12885  [\\n, Getriebe:,  Schaltgetriebe, Technik:,  Bo...  [\\n4 (Green)\\n]   \n",
              "12956  [\\n, Getriebe:,  Automatik, Technik:,  Bordcom...              NaN   \n",
              "13071  [\\n, Herzlich willkommen bei MY CAR Ihrem EU-N...              NaN   \n",
              "13113  [\\n, Sicherheit Airbags:,  , Beifahrerairbag, ...  [\\n4 (Green)\\n]   \n",
              "13308                              [\\nDEK:[2706101], \\n]              NaN   \n",
              "14283  [\\n, Sicherheit Airbags:,  , Beifahrerairbag, ...  [\\n4 (Green)\\n]   \n",
              "14305  [\\n, Sicherheit Airbags:,  , Beifahrerairbag, ...  [\\n4 (Green)\\n]   \n",
              "14308  [\\n, Sicherheit Airbags:,  , Beifahrerairbag, ...  [\\n4 (Green)\\n]   \n",
              "14313  [\\n, Sicherheit Airbags:,  , Beifahrerairbag, ...  [\\n4 (Green)\\n]   \n",
              "14364  [\\n, Sicherheit Airbags:,  , Seitenairbag,  , ...  [\\n4 (Green)\\n]   \n",
              "14369  [\\n, Sicherheit Airbags:,  , Seitenairbag,  , ...  [\\n4 (Green)\\n]   \n",
              "14402  [\\n, Sicherheit Airbags:,  , Beifahrerairbag, ...  [\\n4 (Green)\\n]   \n",
              "14403  [\\n, Sicherheit Airbags:,  , Beifahrerairbag, ...  [\\n4 (Green)\\n]   \n",
              "14801  [\\n3. Bremsleuchte, ABS, Airbag-Kopf vorne, mi...              NaN   \n",
              "14856  [\\n, 2 Jahre Garantie inklusive!, AUF WUNSCH B...              NaN   \n",
              "15446  [\\nDEK:[2074287], EQUIPAGGIAMENTI OPTIONAL :, ...              NaN   \n",
              "15503  [\\n*Pack Cruising, *Véhicule 100% neuf, prêt à...              NaN   \n",
              "15568                              [\\nDEK:[2282256], \\n]              NaN   \n",
              "15753  [\\n, Sicherheit Airbags:,  , Beifahrerairbag, ...  [\\n4 (Green)\\n]   \n",
              "15772  [\\n, Sicherheit Airbags:,  , Beifahrerairbag, ...  [\\n4 (Green)\\n]   \n",
              "15774  [\\nDEK:[2644457], VETTURA DISPONIBILE PRESSO I...              NaN   \n",
              "15776  [\\n, Sicherheit Airbags:,  , Beifahrerairbag, ...  [\\n4 (Green)\\n]   \n",
              "15806  [\\n, Sicherheit Airbags:,  , Seitenairbag,  , ...  [\\n4 (Green)\\n]   \n",
              "15837  [\\n, Getriebe:,  Automatik, Technik:,  Bordcom...  [\\n4 (Green)\\n]   \n",
              "15844  [\\n, Sicherheit Airbags:,  , Seitenairbag,  , ...  [\\n4 (Green)\\n]   \n",
              "15918  [\\n, Sicherheit Airbags:,  , Seitenairbag,  , ...  [\\n4 (Green)\\n]   \n",
              "\n",
              "         Gears       Country version Electricity consumption  \\\n",
              "981        NaN                   NaN                     NaN   \n",
              "983        NaN                   NaN                     NaN   \n",
              "1075       NaN                   NaN                     NaN   \n",
              "1934       NaN                   NaN                     NaN   \n",
              "1967   [\\n7\\n]                   NaN                     NaN   \n",
              "3761   [\\n7\\n]                   NaN                     NaN   \n",
              "4993   [\\n7\\n]         [\\nGermany\\n]                     NaN   \n",
              "4994   [\\n7\\n]         [\\nGermany\\n]                     NaN   \n",
              "4995   [\\n7\\n]         [\\nGermany\\n]                     NaN   \n",
              "5089       NaN                   NaN                     NaN   \n",
              "5092       NaN                   NaN                     NaN   \n",
              "5120       NaN                   NaN                     NaN   \n",
              "5121       NaN                   NaN                     NaN   \n",
              "5209   [\\n7\\n]         [\\nGermany\\n]                     NaN   \n",
              "5293   [\\n7\\n]         [\\nGermany\\n]                     NaN   \n",
              "5409       NaN                   NaN                     NaN   \n",
              "5416       NaN                   NaN                     NaN   \n",
              "5505   [\\n6\\n]         [\\nGermany\\n]                     NaN   \n",
              "5548   [\\n6\\n]         [\\nGermany\\n]                     NaN   \n",
              "7617   [\\n6\\n]         [\\nGermany\\n]                     NaN   \n",
              "7622       NaN         [\\nGermany\\n]                     NaN   \n",
              "7662   [\\n6\\n]         [\\nGermany\\n]                     NaN   \n",
              "9162   [\\n5\\n]                   NaN                     NaN   \n",
              "9867   [\\n5\\n]                   NaN                     NaN   \n",
              "9905   [\\n6\\n]         [\\nGermany\\n]                     NaN   \n",
              "9913   [\\n6\\n]                   NaN                     NaN   \n",
              "10249  [\\n5\\n]                   NaN                     NaN   \n",
              "10262  [\\n5\\n]                   NaN                     NaN   \n",
              "11869      NaN                   NaN                     NaN   \n",
              "12499  [\\n6\\n]                   NaN                     NaN   \n",
              "12538  [\\n8\\n]                   NaN                     NaN   \n",
              "12885  [\\n6\\n]         [\\nGermany\\n]                     NaN   \n",
              "12956  [\\n6\\n]         [\\nGermany\\n]                     NaN   \n",
              "13071      NaN         [\\nGermany\\n]                     NaN   \n",
              "13113      NaN         [\\nGermany\\n]                     NaN   \n",
              "13308  [\\n6\\n]                   NaN                     NaN   \n",
              "14283  [\\n5\\n]         [\\nGermany\\n]                     NaN   \n",
              "14305  [\\n5\\n]         [\\nGermany\\n]                     NaN   \n",
              "14308  [\\n5\\n]         [\\nGermany\\n]                     NaN   \n",
              "14313  [\\n5\\n]         [\\nGermany\\n]                     NaN   \n",
              "14364  [\\n6\\n]         [\\nGermany\\n]                     NaN   \n",
              "14369  [\\n6\\n]         [\\nGermany\\n]                     NaN   \n",
              "14402  [\\n6\\n]         [\\nGermany\\n]                     NaN   \n",
              "14403      NaN         [\\nGermany\\n]                     NaN   \n",
              "14801      NaN                   NaN                     NaN   \n",
              "14856      NaN  [\\nEuropean Union\\n]                     NaN   \n",
              "15446  [\\n6\\n]                   NaN                     NaN   \n",
              "15503  [\\n6\\n]                   NaN                     NaN   \n",
              "15568  [\\n6\\n]                   NaN                     NaN   \n",
              "15753      NaN         [\\nGermany\\n]                     NaN   \n",
              "15772      NaN         [\\nGermany\\n]                     NaN   \n",
              "15774  [\\n6\\n]                   NaN                     NaN   \n",
              "15776      NaN         [\\nGermany\\n]                     NaN   \n",
              "15806      NaN         [\\nGermany\\n]                     NaN   \n",
              "15837  [\\n6\\n]         [\\nGermany\\n]                     NaN   \n",
              "15844      NaN         [\\nGermany\\n]                     NaN   \n",
              "15918      NaN         [\\nGermany\\n]                     NaN   \n",
              "\n",
              "      Last Service Date Other Fuel Types Availability  \\\n",
              "981                 NaN              NaN          NaN   \n",
              "983                 NaN              NaN          NaN   \n",
              "1075                NaN              NaN          NaN   \n",
              "1934                NaN              NaN          NaN   \n",
              "1967                NaN              NaN          NaN   \n",
              "3761                NaN              NaN          NaN   \n",
              "4993                NaN              NaN          NaN   \n",
              "4994                NaN              NaN          NaN   \n",
              "4995                NaN              NaN          NaN   \n",
              "5089                NaN              NaN          NaN   \n",
              "5092                NaN              NaN          NaN   \n",
              "5120                NaN              NaN          NaN   \n",
              "5121                NaN              NaN          NaN   \n",
              "5209                NaN              NaN          NaN   \n",
              "5293                NaN              NaN          NaN   \n",
              "5409                NaN              NaN          NaN   \n",
              "5416                NaN              NaN          NaN   \n",
              "5505                NaN              NaN          NaN   \n",
              "5548                NaN              NaN          NaN   \n",
              "7617                NaN              NaN          NaN   \n",
              "7622                NaN              NaN          NaN   \n",
              "7662                NaN              NaN          NaN   \n",
              "9162                NaN              NaN          NaN   \n",
              "9867                NaN              NaN          NaN   \n",
              "9905                NaN              NaN          NaN   \n",
              "9913                NaN              NaN          NaN   \n",
              "10249               NaN              NaN          NaN   \n",
              "10262               NaN              NaN          NaN   \n",
              "11869               NaN              NaN          NaN   \n",
              "12499               NaN              NaN          NaN   \n",
              "12538               NaN              NaN          NaN   \n",
              "12885               NaN              NaN          NaN   \n",
              "12956               NaN              NaN          NaN   \n",
              "13071               NaN              NaN          NaN   \n",
              "13113               NaN              NaN          NaN   \n",
              "13308               NaN              NaN          NaN   \n",
              "14283               NaN              NaN          NaN   \n",
              "14305               NaN              NaN          NaN   \n",
              "14308               NaN              NaN          NaN   \n",
              "14313               NaN              NaN          NaN   \n",
              "14364               NaN              NaN          NaN   \n",
              "14369               NaN              NaN          NaN   \n",
              "14402               NaN              NaN          NaN   \n",
              "14403               NaN              NaN          NaN   \n",
              "14801               NaN              NaN          NaN   \n",
              "14856               NaN              NaN          NaN   \n",
              "15446               NaN              NaN          NaN   \n",
              "15503               NaN              NaN          NaN   \n",
              "15568               NaN              NaN          NaN   \n",
              "15753               NaN              NaN          NaN   \n",
              "15772               NaN              NaN          NaN   \n",
              "15774               NaN              NaN          NaN   \n",
              "15776               NaN              NaN          NaN   \n",
              "15806               NaN              NaN          NaN   \n",
              "15837               NaN              NaN          NaN   \n",
              "15844               NaN              NaN          NaN   \n",
              "15918               NaN              NaN          NaN   \n",
              "\n",
              "      Last Timing Belt Service Date Available from  \n",
              "981                             NaN            NaN  \n",
              "983                             NaN            NaN  \n",
              "1075                            NaN            NaN  \n",
              "1934                            NaN            NaN  \n",
              "1967                            NaN            NaN  \n",
              "3761                            NaN            NaN  \n",
              "4993                            NaN            NaN  \n",
              "4994                            NaN            NaN  \n",
              "4995                            NaN            NaN  \n",
              "5089                            NaN            NaN  \n",
              "5092                            NaN            NaN  \n",
              "5120                            NaN            NaN  \n",
              "5121                            NaN            NaN  \n",
              "5209                            NaN            NaN  \n",
              "5293                            NaN            NaN  \n",
              "5409                            NaN            NaN  \n",
              "5416                            NaN            NaN  \n",
              "5505                            NaN            NaN  \n",
              "5548                            NaN            NaN  \n",
              "7617                            NaN            NaN  \n",
              "7622                            NaN            NaN  \n",
              "7662                            NaN            NaN  \n",
              "9162                            NaN            NaN  \n",
              "9867                            NaN            NaN  \n",
              "9905                            NaN            NaN  \n",
              "9913                            NaN            NaN  \n",
              "10249                           NaN            NaN  \n",
              "10262                           NaN            NaN  \n",
              "11869                           NaN            NaN  \n",
              "12499                           NaN            NaN  \n",
              "12538                           NaN            NaN  \n",
              "12885                           NaN            NaN  \n",
              "12956                           NaN            NaN  \n",
              "13071                           NaN            NaN  \n",
              "13113                           NaN            NaN  \n",
              "13308                           NaN            NaN  \n",
              "14283                           NaN            NaN  \n",
              "14305                           NaN            NaN  \n",
              "14308                           NaN            NaN  \n",
              "14313                           NaN            NaN  \n",
              "14364                           NaN            NaN  \n",
              "14369                           NaN            NaN  \n",
              "14402                           NaN            NaN  \n",
              "14403                           NaN            NaN  \n",
              "14801                           NaN            NaN  \n",
              "14856                           NaN            NaN  \n",
              "15446                           NaN            NaN  \n",
              "15503                           NaN            NaN  \n",
              "15568                           NaN            NaN  \n",
              "15753                           NaN            NaN  \n",
              "15772                           NaN            NaN  \n",
              "15774                           NaN            NaN  \n",
              "15776                           NaN            NaN  \n",
              "15806                           NaN            NaN  \n",
              "15837                           NaN            NaN  \n",
              "15844                           NaN            NaN  \n",
              "15918                           NaN            NaN  "
            ],
            "text/html": [
              "\n",
              "  <div id=\"df-c2762384-8312-47e1-a250-b3fa08266d1e\">\n",
              "    <div class=\"colab-df-container\">\n",
              "      <div>\n",
              "<style scoped>\n",
              "    .dataframe tbody tr th:only-of-type {\n",
              "        vertical-align: middle;\n",
              "    }\n",
              "\n",
              "    .dataframe tbody tr th {\n",
              "        vertical-align: top;\n",
              "    }\n",
              "\n",
              "    .dataframe thead th {\n",
              "        text-align: right;\n",
              "    }\n",
              "</style>\n",
              "<table border=\"1\" class=\"dataframe\">\n",
              "  <thead>\n",
              "    <tr style=\"text-align: right;\">\n",
              "      <th></th>\n",
              "      <th>make_model</th>\n",
              "      <th>short_description</th>\n",
              "      <th>body_type</th>\n",
              "      <th>price</th>\n",
              "      <th>vat</th>\n",
              "      <th>km</th>\n",
              "      <th>registration</th>\n",
              "      <th>prev_owner</th>\n",
              "      <th>kW</th>\n",
              "      <th>hp</th>\n",
              "      <th>Type</th>\n",
              "      <th>Previous Owners</th>\n",
              "      <th>Next Inspection</th>\n",
              "      <th>Inspection new</th>\n",
              "      <th>Warranty</th>\n",
              "      <th>Full Service</th>\n",
              "      <th>Non-smoking Vehicle</th>\n",
              "      <th>null</th>\n",
              "      <th>Make</th>\n",
              "      <th>Model</th>\n",
              "      <th>Offer Number</th>\n",
              "      <th>First Registration</th>\n",
              "      <th>Body Color</th>\n",
              "      <th>Paint Type</th>\n",
              "      <th>Body Color Original</th>\n",
              "      <th>Upholstery</th>\n",
              "      <th>Body</th>\n",
              "      <th>Nr. of Doors</th>\n",
              "      <th>Nr. of Seats</th>\n",
              "      <th>Model Code</th>\n",
              "      <th>Gearing Type</th>\n",
              "      <th>Displacement</th>\n",
              "      <th>Cylinders</th>\n",
              "      <th>Weight</th>\n",
              "      <th>Drive chain</th>\n",
              "      <th>Fuel</th>\n",
              "      <th>Consumption</th>\n",
              "      <th>CO2 Emission</th>\n",
              "      <th>Emission Class</th>\n",
              "      <th>\\nComfort &amp; Convenience\\n</th>\n",
              "      <th>\\nEntertainment &amp; Media\\n</th>\n",
              "      <th>\\nExtras\\n</th>\n",
              "      <th>\\nSafety &amp; Security\\n</th>\n",
              "      <th>description</th>\n",
              "      <th>Emission Label</th>\n",
              "      <th>Gears</th>\n",
              "      <th>Country version</th>\n",
              "      <th>Electricity consumption</th>\n",
              "      <th>Last Service Date</th>\n",
              "      <th>Other Fuel Types</th>\n",
              "      <th>Availability</th>\n",
              "      <th>Last Timing Belt Service Date</th>\n",
              "      <th>Available from</th>\n",
              "    </tr>\n",
              "  </thead>\n",
              "  <tbody>\n",
              "    <tr>\n",
              "      <th>981</th>\n",
              "      <td>Audi A1</td>\n",
              "      <td>Sportback 1.4 TDI S tronic Admired</td>\n",
              "      <td>Sedans</td>\n",
              "      <td>20999</td>\n",
              "      <td>VAT deductible</td>\n",
              "      <td>- km</td>\n",
              "      <td>06/2018</td>\n",
              "      <td>1 previous owner</td>\n",
              "      <td>NaN</td>\n",
              "      <td>66 kW</td>\n",
              "      <td>[, Pre-registered, , Diesel]</td>\n",
              "      <td>\\n1\\n</td>\n",
              "      <td>NaN</td>\n",
              "      <td>NaN</td>\n",
              "      <td>[\\n, \\n, \\nEuro 6\\n]</td>\n",
              "      <td>NaN</td>\n",
              "      <td>NaN</td>\n",
              "      <td>[]</td>\n",
              "      <td>\\nAudi\\n</td>\n",
              "      <td>[\\n, A1, \\n]</td>\n",
              "      <td>[\\n201805963-11017275\\n]</td>\n",
              "      <td>[\\n, 2018, \\n]</td>\n",
              "      <td>[\\n, White, \\n]</td>\n",
              "      <td>[\\nUni/basic\\n]</td>\n",
              "      <td>[\\nBIANCO GHIACCIO/GRIGIO DAYTONA\\n]</td>\n",
              "      <td>NaN</td>\n",
              "      <td>[\\n, Sedans, \\n]</td>\n",
              "      <td>[\\n5\\n]</td>\n",
              "      <td>[\\n4\\n]</td>\n",
              "      <td>NaN</td>\n",
              "      <td>[\\n, Automatic, \\n]</td>\n",
              "      <td>[\\n1,422 cc\\n]</td>\n",
              "      <td>NaN</td>\n",
              "      <td>NaN</td>\n",
              "      <td>[\\nfront\\n]</td>\n",
              "      <td>[\\n, Diesel, \\n]</td>\n",
              "      <td>NaN</td>\n",
              "      <td>[[], [], []]</td>\n",
              "      <td>[\\nEuro 6\\n]</td>\n",
              "      <td>[Air conditioning, Automatic climate control, ...</td>\n",
              "      <td>NaN</td>\n",
              "      <td>[Alloy wheels]</td>\n",
              "      <td>[Central door lock, Central door lock with rem...</td>\n",
              "      <td>[\\nAppoggiabraccia centrale anteriore, Proiett...</td>\n",
              "      <td>NaN</td>\n",
              "      <td>NaN</td>\n",
              "      <td>NaN</td>\n",
              "      <td>NaN</td>\n",
              "      <td>NaN</td>\n",
              "      <td>NaN</td>\n",
              "      <td>NaN</td>\n",
              "      <td>NaN</td>\n",
              "      <td>NaN</td>\n",
              "    </tr>\n",
              "    <tr>\n",
              "      <th>983</th>\n",
              "      <td>Audi A1</td>\n",
              "      <td>Sportback 1.4 TDI S tronic Admired</td>\n",
              "      <td>Sedans</td>\n",
              "      <td>20999</td>\n",
              "      <td>VAT deductible</td>\n",
              "      <td>- km</td>\n",
              "      <td>05/2018</td>\n",
              "      <td>1 previous owner</td>\n",
              "      <td>NaN</td>\n",
              "      <td>66 kW</td>\n",
              "      <td>[, Pre-registered, , Diesel]</td>\n",
              "      <td>\\n1\\n</td>\n",
              "      <td>NaN</td>\n",
              "      <td>NaN</td>\n",
              "      <td>NaN</td>\n",
              "      <td>NaN</td>\n",
              "      <td>NaN</td>\n",
              "      <td>[]</td>\n",
              "      <td>\\nAudi\\n</td>\n",
              "      <td>[\\n, A1, \\n]</td>\n",
              "      <td>[\\n201805721-11020420\\n]</td>\n",
              "      <td>[\\n, 2018, \\n]</td>\n",
              "      <td>[\\n, Grey, \\n]</td>\n",
              "      <td>[\\nUni/basic\\n]</td>\n",
              "      <td>[\\nGrigio Freccia Perla\\n]</td>\n",
              "      <td>NaN</td>\n",
              "      <td>[\\n, Sedans, \\n]</td>\n",
              "      <td>[\\n5\\n]</td>\n",
              "      <td>[\\n4\\n]</td>\n",
              "      <td>NaN</td>\n",
              "      <td>[\\n, Automatic, \\n]</td>\n",
              "      <td>[\\n1,422 cc\\n]</td>\n",
              "      <td>NaN</td>\n",
              "      <td>NaN</td>\n",
              "      <td>[\\nfront\\n]</td>\n",
              "      <td>[\\n, Diesel, \\n]</td>\n",
              "      <td>NaN</td>\n",
              "      <td>[[], [], []]</td>\n",
              "      <td>[\\nEuro 6\\n]</td>\n",
              "      <td>[Air conditioning, Automatic climate control, ...</td>\n",
              "      <td>NaN</td>\n",
              "      <td>[Alloy wheels]</td>\n",
              "      <td>[Central door lock, Central door lock with rem...</td>\n",
              "      <td>[\\nAppoggiabraccia centrale anteriore, Look al...</td>\n",
              "      <td>NaN</td>\n",
              "      <td>NaN</td>\n",
              "      <td>NaN</td>\n",
              "      <td>NaN</td>\n",
              "      <td>NaN</td>\n",
              "      <td>NaN</td>\n",
              "      <td>NaN</td>\n",
              "      <td>NaN</td>\n",
              "      <td>NaN</td>\n",
              "    </tr>\n",
              "    <tr>\n",
              "      <th>1075</th>\n",
              "      <td>Audi A1</td>\n",
              "      <td>Sportback 1.4 TDI S tronic</td>\n",
              "      <td>Sedans</td>\n",
              "      <td>19999</td>\n",
              "      <td>VAT deductible</td>\n",
              "      <td>- km</td>\n",
              "      <td>06/2018</td>\n",
              "      <td>1 previous owner</td>\n",
              "      <td>NaN</td>\n",
              "      <td>66 kW</td>\n",
              "      <td>[, Pre-registered, , Diesel]</td>\n",
              "      <td>\\n1\\n</td>\n",
              "      <td>NaN</td>\n",
              "      <td>NaN</td>\n",
              "      <td>[\\n, \\n, \\nEuro 6\\n]</td>\n",
              "      <td>NaN</td>\n",
              "      <td>NaN</td>\n",
              "      <td>[]</td>\n",
              "      <td>\\nAudi\\n</td>\n",
              "      <td>[\\n, A1, \\n]</td>\n",
              "      <td>[\\n201805988-11017300\\n]</td>\n",
              "      <td>[\\n, 2018, \\n]</td>\n",
              "      <td>[\\n, White, \\n]</td>\n",
              "      <td>[\\nUni/basic\\n]</td>\n",
              "      <td>[\\nBIANCO GHIACCIO\\n]</td>\n",
              "      <td>NaN</td>\n",
              "      <td>[\\n, Sedans, \\n]</td>\n",
              "      <td>[\\n5\\n]</td>\n",
              "      <td>[\\n4\\n]</td>\n",
              "      <td>NaN</td>\n",
              "      <td>[\\n, Automatic, \\n]</td>\n",
              "      <td>[\\n1,422 cc\\n]</td>\n",
              "      <td>NaN</td>\n",
              "      <td>NaN</td>\n",
              "      <td>[\\nfront\\n]</td>\n",
              "      <td>[\\n, Diesel, \\n]</td>\n",
              "      <td>NaN</td>\n",
              "      <td>[[], [], []]</td>\n",
              "      <td>[\\nEuro 6\\n]</td>\n",
              "      <td>[Air conditioning, Automatic climate control, ...</td>\n",
              "      <td>NaN</td>\n",
              "      <td>[Alloy wheels]</td>\n",
              "      <td>[Central door lock, Central door lock with rem...</td>\n",
              "      <td>[\\nAppoggiabraccia centrale anteriore, Proiett...</td>\n",
              "      <td>NaN</td>\n",
              "      <td>NaN</td>\n",
              "      <td>NaN</td>\n",
              "      <td>NaN</td>\n",
              "      <td>NaN</td>\n",
              "      <td>NaN</td>\n",
              "      <td>NaN</td>\n",
              "      <td>NaN</td>\n",
              "      <td>NaN</td>\n",
              "    </tr>\n",
              "    <tr>\n",
              "      <th>1934</th>\n",
              "      <td>Audi A1</td>\n",
              "      <td>Sportback 30 TFSI S tronic S line edition</td>\n",
              "      <td>Sedans</td>\n",
              "      <td>28499</td>\n",
              "      <td>VAT deductible</td>\n",
              "      <td>- km</td>\n",
              "      <td>04/2019</td>\n",
              "      <td>1 previous owner</td>\n",
              "      <td>NaN</td>\n",
              "      <td>85 kW</td>\n",
              "      <td>[, Pre-registered, , Gasoline]</td>\n",
              "      <td>\\n1\\n</td>\n",
              "      <td>NaN</td>\n",
              "      <td>NaN</td>\n",
              "      <td>NaN</td>\n",
              "      <td>NaN</td>\n",
              "      <td>NaN</td>\n",
              "      <td>[]</td>\n",
              "      <td>\\nAudi\\n</td>\n",
              "      <td>[\\n, A1, \\n]</td>\n",
              "      <td>[\\n201900742-11020108\\n]</td>\n",
              "      <td>[\\n, 2019, \\n]</td>\n",
              "      <td>[\\n, Grey, \\n]</td>\n",
              "      <td>[\\nMetallic\\n]</td>\n",
              "      <td>[\\nGrigio Chronos Metallizzato\\n]</td>\n",
              "      <td>NaN</td>\n",
              "      <td>[\\n, Sedans, \\n]</td>\n",
              "      <td>[\\n5\\n]</td>\n",
              "      <td>[\\n5\\n]</td>\n",
              "      <td>NaN</td>\n",
              "      <td>[\\n, Automatic, \\n]</td>\n",
              "      <td>[\\n999 cc\\n]</td>\n",
              "      <td>NaN</td>\n",
              "      <td>NaN</td>\n",
              "      <td>[\\nfront\\n]</td>\n",
              "      <td>[\\n, Gasoline, \\n]</td>\n",
              "      <td>NaN</td>\n",
              "      <td>[[], [], []]</td>\n",
              "      <td>NaN</td>\n",
              "      <td>[Air conditioning, Automatic climate control, ...</td>\n",
              "      <td>[Bluetooth]</td>\n",
              "      <td>[Alloy wheels]</td>\n",
              "      <td>[ABS, Central door lock, Central door lock wit...</td>\n",
              "      <td>[\\nVetri laterali posteriori e lunotto oscurat...</td>\n",
              "      <td>NaN</td>\n",
              "      <td>NaN</td>\n",
              "      <td>NaN</td>\n",
              "      <td>NaN</td>\n",
              "      <td>NaN</td>\n",
              "      <td>NaN</td>\n",
              "      <td>NaN</td>\n",
              "      <td>NaN</td>\n",
              "      <td>NaN</td>\n",
              "    </tr>\n",
              "    <tr>\n",
              "      <th>1967</th>\n",
              "      <td>Audi A1</td>\n",
              "      <td>SPB 30 TFSI S tronic Admired</td>\n",
              "      <td>Sedans</td>\n",
              "      <td>27900</td>\n",
              "      <td>None</td>\n",
              "      <td>- km</td>\n",
              "      <td>05/2019</td>\n",
              "      <td>1 previous owner</td>\n",
              "      <td>NaN</td>\n",
              "      <td>85 kW</td>\n",
              "      <td>[, Employee's car, , Gasoline]</td>\n",
              "      <td>\\n1\\n</td>\n",
              "      <td>NaN</td>\n",
              "      <td>NaN</td>\n",
              "      <td>[\\n24 months\\n, \\n108 g CO2/km (comb)\\n]</td>\n",
              "      <td>NaN</td>\n",
              "      <td>NaN</td>\n",
              "      <td>[]</td>\n",
              "      <td>\\nAudi\\n</td>\n",
              "      <td>[\\n, A1, \\n]</td>\n",
              "      <td>[\\n11671165\\n]</td>\n",
              "      <td>[\\n, 2019, \\n]</td>\n",
              "      <td>[\\n, Red, \\n]</td>\n",
              "      <td>[\\nUni/basic\\n]</td>\n",
              "      <td>[\\nRosso\\n]</td>\n",
              "      <td>[\\nCloth, Black\\n]</td>\n",
              "      <td>[\\n, Sedans, \\n]</td>\n",
              "      <td>[\\n5\\n]</td>\n",
              "      <td>[\\n5\\n]</td>\n",
              "      <td>NaN</td>\n",
              "      <td>[\\n, Automatic, \\n]</td>\n",
              "      <td>[\\n999 cc\\n]</td>\n",
              "      <td>[\\n3\\n]</td>\n",
              "      <td>[\\n1,230 kg\\n]</td>\n",
              "      <td>[\\nfront\\n]</td>\n",
              "      <td>[\\n, Gasoline, \\n]</td>\n",
              "      <td>[[4.8 l/100 km (comb)], [5.8 l/100 km (city)],...</td>\n",
              "      <td>[\\n108 g CO2/km (comb)\\n]</td>\n",
              "      <td>NaN</td>\n",
              "      <td>[Air conditioning, Armrest, Automatic climate ...</td>\n",
              "      <td>[Bluetooth, Digital radio, Hands-free equipmen...</td>\n",
              "      <td>[Alloy wheels, Shift paddles, Touch screen, Vo...</td>\n",
              "      <td>[ABS, Adaptive Cruise Control, Alarm system, C...</td>\n",
              "      <td>[\\nVettura ufficiale Audi Italia, VETTURA DISP...</td>\n",
              "      <td>NaN</td>\n",
              "      <td>[\\n7\\n]</td>\n",
              "      <td>NaN</td>\n",
              "      <td>NaN</td>\n",
              "      <td>NaN</td>\n",
              "      <td>NaN</td>\n",
              "      <td>NaN</td>\n",
              "      <td>NaN</td>\n",
              "      <td>NaN</td>\n",
              "    </tr>\n",
              "    <tr>\n",
              "      <th>3761</th>\n",
              "      <td>Audi A3</td>\n",
              "      <td>SPB 1.6 TDI 116 CV S tronic Sport</td>\n",
              "      <td>Sedans</td>\n",
              "      <td>21990</td>\n",
              "      <td>None</td>\n",
              "      <td>- km</td>\n",
              "      <td>05/2018</td>\n",
              "      <td>1 previous owner</td>\n",
              "      <td>NaN</td>\n",
              "      <td>85 kW</td>\n",
              "      <td>[, Used, , Diesel (Particulate Filter)]</td>\n",
              "      <td>\\n1\\n</td>\n",
              "      <td>NaN</td>\n",
              "      <td>NaN</td>\n",
              "      <td>NaN</td>\n",
              "      <td>NaN</td>\n",
              "      <td>NaN</td>\n",
              "      <td>[]</td>\n",
              "      <td>\\nAudi\\n</td>\n",
              "      <td>[\\n, A3, \\n]</td>\n",
              "      <td>[\\n1749205\\n]</td>\n",
              "      <td>[\\n, 2018, \\n]</td>\n",
              "      <td>[\\n, Black, \\n]</td>\n",
              "      <td>NaN</td>\n",
              "      <td>[\\nNERO\\n]</td>\n",
              "      <td>[\\nCloth, Grey\\n]</td>\n",
              "      <td>[\\n, Sedans, \\n]</td>\n",
              "      <td>[\\n5\\n]</td>\n",
              "      <td>[\\n5\\n]</td>\n",
              "      <td>NaN</td>\n",
              "      <td>[\\n, Automatic, \\n]</td>\n",
              "      <td>[\\n1,598 cc\\n]</td>\n",
              "      <td>[\\n4\\n]</td>\n",
              "      <td>[\\n1,845 kg\\n]</td>\n",
              "      <td>[\\nfront\\n]</td>\n",
              "      <td>[\\n, Diesel (Particulate Filter), \\n]</td>\n",
              "      <td>[[3.9 l/100 km (comb)], [4.1 l/100 km (city)],...</td>\n",
              "      <td>[\\n103 g CO2/km (comb)\\n]</td>\n",
              "      <td>[\\nEuro 6\\n]</td>\n",
              "      <td>[Air conditioning, Armrest, Automatic climate ...</td>\n",
              "      <td>[Bluetooth, Radio]</td>\n",
              "      <td>[Alloy wheels]</td>\n",
              "      <td>[ABS, Central door lock, Driver-side airbag, E...</td>\n",
              "      <td>[\\nAudi A3 SPB 1.6 tdi 116 Cv S Tronic Sport, ...</td>\n",
              "      <td>NaN</td>\n",
              "      <td>[\\n7\\n]</td>\n",
              "      <td>NaN</td>\n",
              "      <td>NaN</td>\n",
              "      <td>NaN</td>\n",
              "      <td>NaN</td>\n",
              "      <td>NaN</td>\n",
              "      <td>NaN</td>\n",
              "      <td>NaN</td>\n",
              "    </tr>\n",
              "    <tr>\n",
              "      <th>4993</th>\n",
              "      <td>Audi A3</td>\n",
              "      <td>Sportback 30 TFSI S-Tronic, Navi, Euro 6d TEMP</td>\n",
              "      <td>Sedans</td>\n",
              "      <td>23900</td>\n",
              "      <td>VAT deductible</td>\n",
              "      <td>- km</td>\n",
              "      <td>-/-</td>\n",
              "      <td>1 previous owner</td>\n",
              "      <td>NaN</td>\n",
              "      <td>85 kW</td>\n",
              "      <td>[, New, , Super E10 95]</td>\n",
              "      <td>\\n1\\n</td>\n",
              "      <td>[\\n11/2021\\n, \\n118 g CO2/km (comb)\\n]</td>\n",
              "      <td>[\\nYes\\n, \\nEuro 6d-TEMP\\n]</td>\n",
              "      <td>NaN</td>\n",
              "      <td>NaN</td>\n",
              "      <td>NaN</td>\n",
              "      <td>[]</td>\n",
              "      <td>\\nAudi\\n</td>\n",
              "      <td>[\\n, A3, \\n]</td>\n",
              "      <td>[\\nS20302\\n]</td>\n",
              "      <td>NaN</td>\n",
              "      <td>[\\n, White, \\n]</td>\n",
              "      <td>[\\nMetallic\\n]</td>\n",
              "      <td>[\\nGletscherweiß Metallic\\n]</td>\n",
              "      <td>NaN</td>\n",
              "      <td>[\\n, Sedans, \\n]</td>\n",
              "      <td>[\\n5\\n]</td>\n",
              "      <td>[\\n5\\n]</td>\n",
              "      <td>[\\n0588/BHX\\n]</td>\n",
              "      <td>[\\n, Automatic, \\n]</td>\n",
              "      <td>[\\n999 cc\\n]</td>\n",
              "      <td>[\\n3\\n]</td>\n",
              "      <td>[\\n1,280 kg\\n]</td>\n",
              "      <td>NaN</td>\n",
              "      <td>[\\n, Super E10 95, \\n]</td>\n",
              "      <td>[[5.2 l/100 km (comb)], [5.8 l/100 km (city)],...</td>\n",
              "      <td>[\\n118 g CO2/km (comb)\\n]</td>\n",
              "      <td>[\\nEuro 6d-TEMP\\n]</td>\n",
              "      <td>[Air conditioning, Armrest, Automatic climate ...</td>\n",
              "      <td>[CD player, MP3, On-board computer, Radio]</td>\n",
              "      <td>[Alloy wheels, Shift paddles]</td>\n",
              "      <td>[ABS, Central door lock, Driver-side airbag, E...</td>\n",
              "      <td>[\\n, EU-Neuwagen mit Tageszulassung 30.11.2018...</td>\n",
              "      <td>[\\n4 (Green)\\n]</td>\n",
              "      <td>[\\n7\\n]</td>\n",
              "      <td>[\\nGermany\\n]</td>\n",
              "      <td>NaN</td>\n",
              "      <td>NaN</td>\n",
              "      <td>NaN</td>\n",
              "      <td>NaN</td>\n",
              "      <td>NaN</td>\n",
              "      <td>NaN</td>\n",
              "    </tr>\n",
              "    <tr>\n",
              "      <th>4994</th>\n",
              "      <td>Audi A3</td>\n",
              "      <td>Sportback 30 TDI Business S-Tronic Euro 6d TEMP</td>\n",
              "      <td>Sedans</td>\n",
              "      <td>23900</td>\n",
              "      <td>VAT deductible</td>\n",
              "      <td>- km</td>\n",
              "      <td>-/-</td>\n",
              "      <td>1 previous owner</td>\n",
              "      <td>NaN</td>\n",
              "      <td>85 kW</td>\n",
              "      <td>[, New, , Diesel (Particulate Filter)]</td>\n",
              "      <td>\\n1\\n</td>\n",
              "      <td>[\\n11/2021\\n, \\n105 g CO2/km (comb)\\n]</td>\n",
              "      <td>[\\nYes\\n, \\nEuro 6d-TEMP\\n]</td>\n",
              "      <td>NaN</td>\n",
              "      <td>NaN</td>\n",
              "      <td>NaN</td>\n",
              "      <td>[]</td>\n",
              "      <td>\\nAudi\\n</td>\n",
              "      <td>[\\n, A3, \\n]</td>\n",
              "      <td>[\\nS20308\\n]</td>\n",
              "      <td>NaN</td>\n",
              "      <td>[\\n, White, \\n]</td>\n",
              "      <td>[\\nMetallic\\n]</td>\n",
              "      <td>[\\nGletscherweiß Metallic\\n]</td>\n",
              "      <td>NaN</td>\n",
              "      <td>[\\n, Sedans, \\n]</td>\n",
              "      <td>[\\n5\\n]</td>\n",
              "      <td>[\\n5\\n]</td>\n",
              "      <td>[\\n0588/BLH\\n]</td>\n",
              "      <td>[\\n, Automatic, \\n]</td>\n",
              "      <td>[\\n1,598 cc\\n]</td>\n",
              "      <td>[\\n4\\n]</td>\n",
              "      <td>[\\n1,385 kg\\n]</td>\n",
              "      <td>NaN</td>\n",
              "      <td>[\\n, Diesel (Particulate Filter), \\n]</td>\n",
              "      <td>[[4 l/100 km (comb)], [4.3 l/100 km (city)], [...</td>\n",
              "      <td>[\\n105 g CO2/km (comb)\\n]</td>\n",
              "      <td>[\\nEuro 6d-TEMP\\n]</td>\n",
              "      <td>[Air conditioning, Armrest, Automatic climate ...</td>\n",
              "      <td>[CD player, MP3, On-board computer, Radio]</td>\n",
              "      <td>[Alloy wheels, Shift paddles]</td>\n",
              "      <td>[ABS, Central door lock, Driver-side airbag, E...</td>\n",
              "      <td>[\\n, EU-Neuwagen mit Tageszulassung 30.11.2018...</td>\n",
              "      <td>[\\n4 (Green)\\n]</td>\n",
              "      <td>[\\n7\\n]</td>\n",
              "      <td>[\\nGermany\\n]</td>\n",
              "      <td>NaN</td>\n",
              "      <td>NaN</td>\n",
              "      <td>NaN</td>\n",
              "      <td>NaN</td>\n",
              "      <td>NaN</td>\n",
              "      <td>NaN</td>\n",
              "    </tr>\n",
              "    <tr>\n",
              "      <th>4995</th>\n",
              "      <td>Audi A3</td>\n",
              "      <td>Sportback 30 TDI Business S-Tronic Euro 6d TEMP</td>\n",
              "      <td>Sedans</td>\n",
              "      <td>23900</td>\n",
              "      <td>VAT deductible</td>\n",
              "      <td>- km</td>\n",
              "      <td>-/-</td>\n",
              "      <td>1 previous owner</td>\n",
              "      <td>NaN</td>\n",
              "      <td>85 kW</td>\n",
              "      <td>[, New, , Diesel (Particulate Filter)]</td>\n",
              "      <td>\\n1\\n</td>\n",
              "      <td>[\\n11/2021\\n, \\n105 g CO2/km (comb)\\n]</td>\n",
              "      <td>[\\nYes\\n, \\nEuro 6d-TEMP\\n]</td>\n",
              "      <td>NaN</td>\n",
              "      <td>NaN</td>\n",
              "      <td>NaN</td>\n",
              "      <td>[]</td>\n",
              "      <td>\\nAudi\\n</td>\n",
              "      <td>[\\n, A3, \\n]</td>\n",
              "      <td>[\\nS20307\\n]</td>\n",
              "      <td>NaN</td>\n",
              "      <td>[\\n, Black, \\n]</td>\n",
              "      <td>NaN</td>\n",
              "      <td>[\\nBrillantschwarz\\n]</td>\n",
              "      <td>NaN</td>\n",
              "      <td>[\\n, Sedans, \\n]</td>\n",
              "      <td>[\\n5\\n]</td>\n",
              "      <td>[\\n5\\n]</td>\n",
              "      <td>[\\n0588/BLH\\n]</td>\n",
              "      <td>[\\n, Automatic, \\n]</td>\n",
              "      <td>[\\n1,598 cc\\n]</td>\n",
              "      <td>[\\n4\\n]</td>\n",
              "      <td>[\\n1,385 kg\\n]</td>\n",
              "      <td>NaN</td>\n",
              "      <td>[\\n, Diesel (Particulate Filter), \\n]</td>\n",
              "      <td>[[4 l/100 km (comb)], [4.3 l/100 km (city)], [...</td>\n",
              "      <td>[\\n105 g CO2/km (comb)\\n]</td>\n",
              "      <td>[\\nEuro 6d-TEMP\\n]</td>\n",
              "      <td>[Air conditioning, Armrest, Automatic climate ...</td>\n",
              "      <td>[CD player, MP3, On-board computer, Radio]</td>\n",
              "      <td>[Alloy wheels, Shift paddles]</td>\n",
              "      <td>[ABS, Central door lock, Driver-side airbag, E...</td>\n",
              "      <td>[\\n, EU-Neuwagen mit Tageszulassung 30.11.2018...</td>\n",
              "      <td>[\\n4 (Green)\\n]</td>\n",
              "      <td>[\\n7\\n]</td>\n",
              "      <td>[\\nGermany\\n]</td>\n",
              "      <td>NaN</td>\n",
              "      <td>NaN</td>\n",
              "      <td>NaN</td>\n",
              "      <td>NaN</td>\n",
              "      <td>NaN</td>\n",
              "      <td>NaN</td>\n",
              "    </tr>\n",
              "    <tr>\n",
              "      <th>5089</th>\n",
              "      <td>Audi A3</td>\n",
              "      <td>Sportback 30 TDI S tronic Business</td>\n",
              "      <td>Sedans</td>\n",
              "      <td>26999</td>\n",
              "      <td>VAT deductible</td>\n",
              "      <td>- km</td>\n",
              "      <td>02/2019</td>\n",
              "      <td>1 previous owner</td>\n",
              "      <td>NaN</td>\n",
              "      <td>85 kW</td>\n",
              "      <td>[, Pre-registered, , Diesel (Particulate Filter)]</td>\n",
              "      <td>\\n1\\n</td>\n",
              "      <td>NaN</td>\n",
              "      <td>NaN</td>\n",
              "      <td>NaN</td>\n",
              "      <td>NaN</td>\n",
              "      <td>NaN</td>\n",
              "      <td>[]</td>\n",
              "      <td>\\nAudi\\n</td>\n",
              "      <td>[\\n, A3, \\n]</td>\n",
              "      <td>[\\n201900492-11019890\\n]</td>\n",
              "      <td>[\\n, 2019, \\n]</td>\n",
              "      <td>[\\n, White, \\n]</td>\n",
              "      <td>[\\nUni/basic\\n]</td>\n",
              "      <td>[\\nBianco Ibis\\n]</td>\n",
              "      <td>NaN</td>\n",
              "      <td>[\\n, Sedans, \\n]</td>\n",
              "      <td>[\\n5\\n]</td>\n",
              "      <td>[\\n5\\n]</td>\n",
              "      <td>NaN</td>\n",
              "      <td>[\\n, Automatic, \\n]</td>\n",
              "      <td>[\\n1,598 cc\\n]</td>\n",
              "      <td>NaN</td>\n",
              "      <td>NaN</td>\n",
              "      <td>[\\nfront\\n]</td>\n",
              "      <td>[\\n, Diesel (Particulate Filter), \\n]</td>\n",
              "      <td>NaN</td>\n",
              "      <td>[[], [], []]</td>\n",
              "      <td>NaN</td>\n",
              "      <td>[Air conditioning, Automatic climate control, ...</td>\n",
              "      <td>[Bluetooth]</td>\n",
              "      <td>[Alloy wheels]</td>\n",
              "      <td>[ABS, Central door lock, Central door lock wit...</td>\n",
              "      <td>[\\nVetri laterali post. e lunotto oscurati, Cl...</td>\n",
              "      <td>NaN</td>\n",
              "      <td>NaN</td>\n",
              "      <td>NaN</td>\n",
              "      <td>NaN</td>\n",
              "      <td>NaN</td>\n",
              "      <td>NaN</td>\n",
              "      <td>NaN</td>\n",
              "      <td>NaN</td>\n",
              "      <td>NaN</td>\n",
              "    </tr>\n",
              "    <tr>\n",
              "      <th>5092</th>\n",
              "      <td>Audi A3</td>\n",
              "      <td>Sportback 30 TDI S tronic Business</td>\n",
              "      <td>Sedans</td>\n",
              "      <td>26999</td>\n",
              "      <td>VAT deductible</td>\n",
              "      <td>- km</td>\n",
              "      <td>02/2019</td>\n",
              "      <td>1 previous owner</td>\n",
              "      <td>NaN</td>\n",
              "      <td>85 kW</td>\n",
              "      <td>[, Pre-registered, , Diesel (Particulate Filter)]</td>\n",
              "      <td>\\n1\\n</td>\n",
              "      <td>NaN</td>\n",
              "      <td>NaN</td>\n",
              "      <td>NaN</td>\n",
              "      <td>NaN</td>\n",
              "      <td>NaN</td>\n",
              "      <td>[]</td>\n",
              "      <td>\\nAudi\\n</td>\n",
              "      <td>[\\n, A3, \\n]</td>\n",
              "      <td>[\\n201900494-11019892\\n]</td>\n",
              "      <td>[\\n, 2019, \\n]</td>\n",
              "      <td>[\\n, Black, \\n]</td>\n",
              "      <td>[\\nUni/basic\\n]</td>\n",
              "      <td>[\\nNero Brillante\\n]</td>\n",
              "      <td>NaN</td>\n",
              "      <td>[\\n, Sedans, \\n]</td>\n",
              "      <td>[\\n5\\n]</td>\n",
              "      <td>[\\n5\\n]</td>\n",
              "      <td>NaN</td>\n",
              "      <td>[\\n, Automatic, \\n]</td>\n",
              "      <td>[\\n1,598 cc\\n]</td>\n",
              "      <td>NaN</td>\n",
              "      <td>NaN</td>\n",
              "      <td>[\\nfront\\n]</td>\n",
              "      <td>[\\n, Diesel (Particulate Filter), \\n]</td>\n",
              "      <td>NaN</td>\n",
              "      <td>[[], [], []]</td>\n",
              "      <td>NaN</td>\n",
              "      <td>[Air conditioning, Automatic climate control, ...</td>\n",
              "      <td>[Bluetooth]</td>\n",
              "      <td>[Alloy wheels]</td>\n",
              "      <td>[ABS, Central door lock, Central door lock wit...</td>\n",
              "      <td>[\\nPacchetto luci interne (illum. interna man....</td>\n",
              "      <td>NaN</td>\n",
              "      <td>NaN</td>\n",
              "      <td>NaN</td>\n",
              "      <td>NaN</td>\n",
              "      <td>NaN</td>\n",
              "      <td>NaN</td>\n",
              "      <td>NaN</td>\n",
              "      <td>NaN</td>\n",
              "      <td>NaN</td>\n",
              "    </tr>\n",
              "    <tr>\n",
              "      <th>5120</th>\n",
              "      <td>Audi A3</td>\n",
              "      <td>Sportback 30 TDI S tronic Sport</td>\n",
              "      <td>Sedans</td>\n",
              "      <td>26499</td>\n",
              "      <td>VAT deductible</td>\n",
              "      <td>- km</td>\n",
              "      <td>02/2019</td>\n",
              "      <td>1 previous owner</td>\n",
              "      <td>NaN</td>\n",
              "      <td>85 kW</td>\n",
              "      <td>[, Pre-registered, , Diesel (Particulate Filter)]</td>\n",
              "      <td>\\n1\\n</td>\n",
              "      <td>NaN</td>\n",
              "      <td>NaN</td>\n",
              "      <td>NaN</td>\n",
              "      <td>NaN</td>\n",
              "      <td>NaN</td>\n",
              "      <td>[]</td>\n",
              "      <td>\\nAudi\\n</td>\n",
              "      <td>[\\n, A3, \\n]</td>\n",
              "      <td>[\\n201900515-11019907\\n]</td>\n",
              "      <td>[\\n, 2019, \\n]</td>\n",
              "      <td>[\\n, White, \\n]</td>\n",
              "      <td>[\\nUni/basic\\n]</td>\n",
              "      <td>[\\nBianco Ibis\\n]</td>\n",
              "      <td>NaN</td>\n",
              "      <td>[\\n, Sedans, \\n]</td>\n",
              "      <td>[\\n5\\n]</td>\n",
              "      <td>[\\n5\\n]</td>\n",
              "      <td>NaN</td>\n",
              "      <td>[\\n, Automatic, \\n]</td>\n",
              "      <td>[\\n1,598 cc\\n]</td>\n",
              "      <td>NaN</td>\n",
              "      <td>NaN</td>\n",
              "      <td>[\\nfront\\n]</td>\n",
              "      <td>[\\n, Diesel (Particulate Filter), \\n]</td>\n",
              "      <td>NaN</td>\n",
              "      <td>[[], [], []]</td>\n",
              "      <td>NaN</td>\n",
              "      <td>[Air conditioning, Automatic climate control, ...</td>\n",
              "      <td>[Bluetooth]</td>\n",
              "      <td>[Alloy wheels]</td>\n",
              "      <td>[ABS, Central door lock, Central door lock wit...</td>\n",
              "      <td>[\\nVetri laterali post. e lunotto oscurati, Vo...</td>\n",
              "      <td>NaN</td>\n",
              "      <td>NaN</td>\n",
              "      <td>NaN</td>\n",
              "      <td>NaN</td>\n",
              "      <td>NaN</td>\n",
              "      <td>NaN</td>\n",
              "      <td>NaN</td>\n",
              "      <td>NaN</td>\n",
              "      <td>NaN</td>\n",
              "    </tr>\n",
              "    <tr>\n",
              "      <th>5121</th>\n",
              "      <td>Audi A3</td>\n",
              "      <td>Sportback 30 TDI S tronic Business</td>\n",
              "      <td>Sedans</td>\n",
              "      <td>26499</td>\n",
              "      <td>VAT deductible</td>\n",
              "      <td>- km</td>\n",
              "      <td>02/2019</td>\n",
              "      <td>1 previous owner</td>\n",
              "      <td>NaN</td>\n",
              "      <td>85 kW</td>\n",
              "      <td>[, Pre-registered, , Diesel (Particulate Filter)]</td>\n",
              "      <td>\\n1\\n</td>\n",
              "      <td>NaN</td>\n",
              "      <td>NaN</td>\n",
              "      <td>NaN</td>\n",
              "      <td>NaN</td>\n",
              "      <td>NaN</td>\n",
              "      <td>[]</td>\n",
              "      <td>\\nAudi\\n</td>\n",
              "      <td>[\\n, A3, \\n]</td>\n",
              "      <td>[\\n201900517-11019909\\n]</td>\n",
              "      <td>[\\n, 2019, \\n]</td>\n",
              "      <td>[\\n, Black, \\n]</td>\n",
              "      <td>[\\nUni/basic\\n]</td>\n",
              "      <td>[\\nNero Brillante\\n]</td>\n",
              "      <td>NaN</td>\n",
              "      <td>[\\n, Sedans, \\n]</td>\n",
              "      <td>[\\n5\\n]</td>\n",
              "      <td>[\\n5\\n]</td>\n",
              "      <td>NaN</td>\n",
              "      <td>[\\n, Automatic, \\n]</td>\n",
              "      <td>[\\n1,598 cc\\n]</td>\n",
              "      <td>NaN</td>\n",
              "      <td>NaN</td>\n",
              "      <td>[\\nfront\\n]</td>\n",
              "      <td>[\\n, Diesel (Particulate Filter), \\n]</td>\n",
              "      <td>NaN</td>\n",
              "      <td>[[], [], []]</td>\n",
              "      <td>NaN</td>\n",
              "      <td>[Air conditioning, Automatic climate control, ...</td>\n",
              "      <td>[Bluetooth]</td>\n",
              "      <td>[Alloy wheels]</td>\n",
              "      <td>[ABS, Central door lock, Central door lock wit...</td>\n",
              "      <td>[\\nPacchetto luci interne (illum. interna man....</td>\n",
              "      <td>NaN</td>\n",
              "      <td>NaN</td>\n",
              "      <td>NaN</td>\n",
              "      <td>NaN</td>\n",
              "      <td>NaN</td>\n",
              "      <td>NaN</td>\n",
              "      <td>NaN</td>\n",
              "      <td>NaN</td>\n",
              "      <td>NaN</td>\n",
              "    </tr>\n",
              "    <tr>\n",
              "      <th>5209</th>\n",
              "      <td>Audi A3</td>\n",
              "      <td>Sportback 35 TFSI S-tronic,6d TEMP</td>\n",
              "      <td>Sedans</td>\n",
              "      <td>25900</td>\n",
              "      <td>VAT deductible</td>\n",
              "      <td>- km</td>\n",
              "      <td>-/-</td>\n",
              "      <td>1 previous owner</td>\n",
              "      <td>NaN</td>\n",
              "      <td>110 kW</td>\n",
              "      <td>[, New, , Super E10 95]</td>\n",
              "      <td>\\n1\\n</td>\n",
              "      <td>[\\n11/2021\\n, \\n117 g CO2/km (comb)\\n]</td>\n",
              "      <td>[\\nYes\\n, \\nEuro 6d-TEMP\\n]</td>\n",
              "      <td>NaN</td>\n",
              "      <td>NaN</td>\n",
              "      <td>NaN</td>\n",
              "      <td>[]</td>\n",
              "      <td>\\nAudi\\n</td>\n",
              "      <td>[\\n, A3, \\n]</td>\n",
              "      <td>[\\nS20306\\n]</td>\n",
              "      <td>NaN</td>\n",
              "      <td>NaN</td>\n",
              "      <td>[\\nMetallic\\n]</td>\n",
              "      <td>[\\nKosmosblau Metallic\\n]</td>\n",
              "      <td>[\\nBlue\\n]</td>\n",
              "      <td>[\\n, Sedans, \\n]</td>\n",
              "      <td>[\\n5\\n]</td>\n",
              "      <td>[\\n5\\n]</td>\n",
              "      <td>[\\n0588/BLL\\n]</td>\n",
              "      <td>[\\n, Automatic, \\n]</td>\n",
              "      <td>[\\n1,498 cc\\n]</td>\n",
              "      <td>[\\n4\\n]</td>\n",
              "      <td>[\\n1,345 kg\\n]</td>\n",
              "      <td>NaN</td>\n",
              "      <td>[\\n, Super E10 95, \\n]</td>\n",
              "      <td>[[5.2 l/100 km (comb)], [6.4 l/100 km (city)],...</td>\n",
              "      <td>[\\n117 g CO2/km (comb)\\n]</td>\n",
              "      <td>[\\nEuro 6d-TEMP\\n]</td>\n",
              "      <td>[Air conditioning, Armrest, Automatic climate ...</td>\n",
              "      <td>[CD player, MP3, On-board computer, Radio]</td>\n",
              "      <td>[Alloy wheels, Shift paddles]</td>\n",
              "      <td>[ABS, Central door lock, Driver-side airbag, E...</td>\n",
              "      <td>[\\n, EU-Neuwagen mit Tageszulassung 30.11.2018...</td>\n",
              "      <td>[\\n4 (Green)\\n]</td>\n",
              "      <td>[\\n7\\n]</td>\n",
              "      <td>[\\nGermany\\n]</td>\n",
              "      <td>NaN</td>\n",
              "      <td>NaN</td>\n",
              "      <td>NaN</td>\n",
              "      <td>NaN</td>\n",
              "      <td>NaN</td>\n",
              "      <td>NaN</td>\n",
              "    </tr>\n",
              "    <tr>\n",
              "      <th>5293</th>\n",
              "      <td>Audi A3</td>\n",
              "      <td>Sportback 30 TDI Business S-Tronic Euro 6d TEMP</td>\n",
              "      <td>Sedans</td>\n",
              "      <td>24200</td>\n",
              "      <td>VAT deductible</td>\n",
              "      <td>- km</td>\n",
              "      <td>-/-</td>\n",
              "      <td>1 previous owner</td>\n",
              "      <td>NaN</td>\n",
              "      <td>110 kW</td>\n",
              "      <td>[, New, , Diesel (Particulate Filter)]</td>\n",
              "      <td>\\n1\\n</td>\n",
              "      <td>[\\n11/2021\\n, \\n105 g CO2/km (comb)\\n]</td>\n",
              "      <td>[\\nYes\\n, \\nEuro 6d-TEMP\\n]</td>\n",
              "      <td>NaN</td>\n",
              "      <td>NaN</td>\n",
              "      <td>NaN</td>\n",
              "      <td>[]</td>\n",
              "      <td>\\nAudi\\n</td>\n",
              "      <td>[\\n, A3, \\n]</td>\n",
              "      <td>[\\nS20353\\n]</td>\n",
              "      <td>NaN</td>\n",
              "      <td>[\\n, White, \\n]</td>\n",
              "      <td>[\\nMetallic\\n]</td>\n",
              "      <td>[\\nGletscherweiß Metallic\\n]</td>\n",
              "      <td>NaN</td>\n",
              "      <td>[\\n, Sedans, \\n]</td>\n",
              "      <td>[\\n5\\n]</td>\n",
              "      <td>[\\n5\\n]</td>\n",
              "      <td>[\\n0588/BLH\\n]</td>\n",
              "      <td>[\\n, Automatic, \\n]</td>\n",
              "      <td>[\\n1,598 cc\\n]</td>\n",
              "      <td>[\\n4\\n]</td>\n",
              "      <td>[\\n1,385 kg\\n]</td>\n",
              "      <td>NaN</td>\n",
              "      <td>[\\n, Diesel (Particulate Filter), \\n]</td>\n",
              "      <td>[[4 l/100 km (comb)], [4.3 l/100 km (city)], [...</td>\n",
              "      <td>[\\n105 g CO2/km (comb)\\n]</td>\n",
              "      <td>[\\nEuro 6d-TEMP\\n]</td>\n",
              "      <td>[Air conditioning, Armrest, Automatic climate ...</td>\n",
              "      <td>[CD player, MP3, On-board computer, Radio]</td>\n",
              "      <td>[Alloy wheels, Shift paddles]</td>\n",
              "      <td>[ABS, Central door lock, Driver-side airbag, E...</td>\n",
              "      <td>[\\n, EU-Neuwagen mit Tageszulassung, Sonderaus...</td>\n",
              "      <td>[\\n4 (Green)\\n]</td>\n",
              "      <td>[\\n7\\n]</td>\n",
              "      <td>[\\nGermany\\n]</td>\n",
              "      <td>NaN</td>\n",
              "      <td>NaN</td>\n",
              "      <td>NaN</td>\n",
              "      <td>NaN</td>\n",
              "      <td>NaN</td>\n",
              "      <td>NaN</td>\n",
              "    </tr>\n",
              "    <tr>\n",
              "      <th>5409</th>\n",
              "      <td>Audi A3</td>\n",
              "      <td>Sportback A3 SPB 30 TDI Business</td>\n",
              "      <td>Sedans</td>\n",
              "      <td>24900</td>\n",
              "      <td>None</td>\n",
              "      <td>- km</td>\n",
              "      <td>03/2019</td>\n",
              "      <td>1 previous owner</td>\n",
              "      <td>NaN</td>\n",
              "      <td>85 kW</td>\n",
              "      <td>[, Pre-registered, , Diesel (Particulate Filter)]</td>\n",
              "      <td>\\n1\\n</td>\n",
              "      <td>NaN</td>\n",
              "      <td>NaN</td>\n",
              "      <td>NaN</td>\n",
              "      <td>NaN</td>\n",
              "      <td>NaN</td>\n",
              "      <td>[]</td>\n",
              "      <td>\\nAudi\\n</td>\n",
              "      <td>[\\n, A3, \\n]</td>\n",
              "      <td>[\\n24142-19927350\\n]</td>\n",
              "      <td>[\\n, 2019, \\n]</td>\n",
              "      <td>[\\n, Grey, \\n]</td>\n",
              "      <td>[\\nMetallic\\n]</td>\n",
              "      <td>[\\nGrigio Monsone Metallizzato\\n]</td>\n",
              "      <td>NaN</td>\n",
              "      <td>[\\n, Sedans, \\n]</td>\n",
              "      <td>[\\n5\\n]</td>\n",
              "      <td>[\\n5\\n]</td>\n",
              "      <td>NaN</td>\n",
              "      <td>[\\n, Manual, \\n]</td>\n",
              "      <td>[\\n1,598 cc\\n]</td>\n",
              "      <td>NaN</td>\n",
              "      <td>NaN</td>\n",
              "      <td>[\\nfront\\n]</td>\n",
              "      <td>[\\n, Diesel (Particulate Filter), \\n]</td>\n",
              "      <td>[[4.4 l/100 km (comb)], [5 l/100 km (city)], [...</td>\n",
              "      <td>[\\n114 g CO2/km (comb)\\n]</td>\n",
              "      <td>NaN</td>\n",
              "      <td>[Air conditioning, Automatic climate control, ...</td>\n",
              "      <td>[Bluetooth]</td>\n",
              "      <td>[Alloy wheels]</td>\n",
              "      <td>[ABS, Central door lock, Central door lock wit...</td>\n",
              "      <td>[\\nEstensione della garanzia 1 anno max. 60.00...</td>\n",
              "      <td>NaN</td>\n",
              "      <td>NaN</td>\n",
              "      <td>NaN</td>\n",
              "      <td>NaN</td>\n",
              "      <td>NaN</td>\n",
              "      <td>NaN</td>\n",
              "      <td>NaN</td>\n",
              "      <td>NaN</td>\n",
              "      <td>NaN</td>\n",
              "    </tr>\n",
              "    <tr>\n",
              "      <th>5416</th>\n",
              "      <td>Audi A3</td>\n",
              "      <td>Sportback A3 SPB 30 TDI Business</td>\n",
              "      <td>Sedans</td>\n",
              "      <td>24900</td>\n",
              "      <td>None</td>\n",
              "      <td>- km</td>\n",
              "      <td>03/2019</td>\n",
              "      <td>1 previous owner</td>\n",
              "      <td>NaN</td>\n",
              "      <td>85 kW</td>\n",
              "      <td>[, Pre-registered, , Diesel (Particulate Filter)]</td>\n",
              "      <td>\\n1\\n</td>\n",
              "      <td>NaN</td>\n",
              "      <td>NaN</td>\n",
              "      <td>NaN</td>\n",
              "      <td>NaN</td>\n",
              "      <td>NaN</td>\n",
              "      <td>[]</td>\n",
              "      <td>\\nAudi\\n</td>\n",
              "      <td>[\\n, A3, \\n]</td>\n",
              "      <td>[\\n24143-19927349\\n]</td>\n",
              "      <td>[\\n, 2019, \\n]</td>\n",
              "      <td>[\\n, White, \\n]</td>\n",
              "      <td>[\\nMetallic\\n]</td>\n",
              "      <td>[\\nBianco Ghiacciaio Metallizzato\\n]</td>\n",
              "      <td>NaN</td>\n",
              "      <td>[\\n, Sedans, \\n]</td>\n",
              "      <td>[\\n5\\n]</td>\n",
              "      <td>[\\n5\\n]</td>\n",
              "      <td>NaN</td>\n",
              "      <td>[\\n, Manual, \\n]</td>\n",
              "      <td>[\\n1,598 cc\\n]</td>\n",
              "      <td>NaN</td>\n",
              "      <td>NaN</td>\n",
              "      <td>[\\nfront\\n]</td>\n",
              "      <td>[\\n, Diesel (Particulate Filter), \\n]</td>\n",
              "      <td>[[4.4 l/100 km (comb)], [5 l/100 km (city)], [...</td>\n",
              "      <td>[\\n114 g CO2/km (comb)\\n]</td>\n",
              "      <td>NaN</td>\n",
              "      <td>[Air conditioning, Automatic climate control, ...</td>\n",
              "      <td>[Bluetooth]</td>\n",
              "      <td>[Alloy wheels]</td>\n",
              "      <td>[ABS, Central door lock, Central door lock wit...</td>\n",
              "      <td>[\\nEstensione della garanzia 1 anno max. 60.00...</td>\n",
              "      <td>NaN</td>\n",
              "      <td>NaN</td>\n",
              "      <td>NaN</td>\n",
              "      <td>NaN</td>\n",
              "      <td>NaN</td>\n",
              "      <td>NaN</td>\n",
              "      <td>NaN</td>\n",
              "      <td>NaN</td>\n",
              "      <td>NaN</td>\n",
              "    </tr>\n",
              "    <tr>\n",
              "      <th>5505</th>\n",
              "      <td>Audi A3</td>\n",
              "      <td>Sportback 30 TDI Business,Navi,6d TEMP</td>\n",
              "      <td>Sedans</td>\n",
              "      <td>23900</td>\n",
              "      <td>VAT deductible</td>\n",
              "      <td>- km</td>\n",
              "      <td>-/-</td>\n",
              "      <td>1 previous owner</td>\n",
              "      <td>NaN</td>\n",
              "      <td>85 kW</td>\n",
              "      <td>[, New, , Diesel (Particulate Filter)]</td>\n",
              "      <td>\\n1\\n</td>\n",
              "      <td>[\\n11/2021\\n, \\n118 g CO2/km (comb)\\n]</td>\n",
              "      <td>[\\nYes\\n, \\nEuro 6d-TEMP\\n]</td>\n",
              "      <td>NaN</td>\n",
              "      <td>NaN</td>\n",
              "      <td>NaN</td>\n",
              "      <td>[]</td>\n",
              "      <td>\\nAudi\\n</td>\n",
              "      <td>[\\n, A3, \\n]</td>\n",
              "      <td>[\\nS20311\\n]</td>\n",
              "      <td>NaN</td>\n",
              "      <td>[\\n, Grey, \\n]</td>\n",
              "      <td>[\\nMetallic\\n]</td>\n",
              "      <td>[\\nNanograu Metallic\\n]</td>\n",
              "      <td>NaN</td>\n",
              "      <td>[\\n, Sedans, \\n]</td>\n",
              "      <td>[\\n5\\n]</td>\n",
              "      <td>[\\n5\\n]</td>\n",
              "      <td>[\\n0588/BLH\\n]</td>\n",
              "      <td>[\\n, Manual, \\n]</td>\n",
              "      <td>[\\n1,598 cc\\n]</td>\n",
              "      <td>[\\n4\\n]</td>\n",
              "      <td>[\\n1,365 kg\\n]</td>\n",
              "      <td>NaN</td>\n",
              "      <td>[\\n, Diesel (Particulate Filter), \\n]</td>\n",
              "      <td>[[4.5 l/100 km (comb)], [5.2 l/100 km (city)],...</td>\n",
              "      <td>[\\n118 g CO2/km (comb)\\n]</td>\n",
              "      <td>[\\nEuro 6d-TEMP\\n]</td>\n",
              "      <td>[Air conditioning, Armrest, Automatic climate ...</td>\n",
              "      <td>[CD player, MP3, On-board computer, Radio]</td>\n",
              "      <td>[Alloy wheels]</td>\n",
              "      <td>[ABS, Central door lock, Driver-side airbag, E...</td>\n",
              "      <td>[\\n, EU-Neuwagen mit Tageszulassung 30.11.2018...</td>\n",
              "      <td>[\\n4 (Green)\\n]</td>\n",
              "      <td>[\\n6\\n]</td>\n",
              "      <td>[\\nGermany\\n]</td>\n",
              "      <td>NaN</td>\n",
              "      <td>NaN</td>\n",
              "      <td>NaN</td>\n",
              "      <td>NaN</td>\n",
              "      <td>NaN</td>\n",
              "      <td>NaN</td>\n",
              "    </tr>\n",
              "    <tr>\n",
              "      <th>5548</th>\n",
              "      <td>Audi A3</td>\n",
              "      <td>Sportback 30 TDI Business,6d TEMP</td>\n",
              "      <td>Sedans</td>\n",
              "      <td>22900</td>\n",
              "      <td>VAT deductible</td>\n",
              "      <td>- km</td>\n",
              "      <td>-/-</td>\n",
              "      <td>1 previous owner</td>\n",
              "      <td>NaN</td>\n",
              "      <td>85 kW</td>\n",
              "      <td>[, New, , Diesel (Particulate Filter)]</td>\n",
              "      <td>\\n1\\n</td>\n",
              "      <td>[\\n11/2021\\n, \\n118 g CO2/km (comb)\\n]</td>\n",
              "      <td>[\\nYes\\n, \\nEuro 6d-TEMP\\n]</td>\n",
              "      <td>NaN</td>\n",
              "      <td>NaN</td>\n",
              "      <td>NaN</td>\n",
              "      <td>[]</td>\n",
              "      <td>\\nAudi\\n</td>\n",
              "      <td>[\\n, A3, \\n]</td>\n",
              "      <td>[\\nS20310\\n]</td>\n",
              "      <td>NaN</td>\n",
              "      <td>[\\n, Black, \\n]</td>\n",
              "      <td>NaN</td>\n",
              "      <td>[\\nBrillantschwarz\\n]</td>\n",
              "      <td>NaN</td>\n",
              "      <td>[\\n, Sedans, \\n]</td>\n",
              "      <td>[\\n5\\n]</td>\n",
              "      <td>[\\n5\\n]</td>\n",
              "      <td>[\\n0588/BLH\\n]</td>\n",
              "      <td>[\\n, Manual, \\n]</td>\n",
              "      <td>[\\n1,598 cc\\n]</td>\n",
              "      <td>[\\n4\\n]</td>\n",
              "      <td>[\\n1,365 kg\\n]</td>\n",
              "      <td>NaN</td>\n",
              "      <td>[\\n, Diesel (Particulate Filter), \\n]</td>\n",
              "      <td>[[4.5 l/100 km (comb)], [5.2 l/100 km (city)],...</td>\n",
              "      <td>[\\n118 g CO2/km (comb)\\n]</td>\n",
              "      <td>[\\nEuro 6d-TEMP\\n]</td>\n",
              "      <td>[Air conditioning, Armrest, Automatic climate ...</td>\n",
              "      <td>[CD player, MP3, On-board computer, Radio]</td>\n",
              "      <td>[Alloy wheels]</td>\n",
              "      <td>[ABS, Central door lock, Driver-side airbag, E...</td>\n",
              "      <td>[\\n, EU-Neuwagen mit Tageszulassung 30.11.2018...</td>\n",
              "      <td>[\\n4 (Green)\\n]</td>\n",
              "      <td>[\\n6\\n]</td>\n",
              "      <td>[\\nGermany\\n]</td>\n",
              "      <td>NaN</td>\n",
              "      <td>NaN</td>\n",
              "      <td>NaN</td>\n",
              "      <td>NaN</td>\n",
              "      <td>NaN</td>\n",
              "      <td>NaN</td>\n",
              "    </tr>\n",
              "    <tr>\n",
              "      <th>7617</th>\n",
              "      <td>Opel Astra</td>\n",
              "      <td>K Sports Tourer 120Jahre S/ S EU6d-T AGR*LEDMa...</td>\n",
              "      <td>Station wagon</td>\n",
              "      <td>29990</td>\n",
              "      <td>VAT deductible</td>\n",
              "      <td>- km</td>\n",
              "      <td>05/2019</td>\n",
              "      <td>1 previous owner</td>\n",
              "      <td>NaN</td>\n",
              "      <td>110 kW</td>\n",
              "      <td>[, Pre-registered, , Super E10 95]</td>\n",
              "      <td>\\n1\\n</td>\n",
              "      <td>[\\n05/2022\\n, \\n134 g CO2/km (comb)\\n]</td>\n",
              "      <td>NaN</td>\n",
              "      <td>NaN</td>\n",
              "      <td>[\\n, \\n, \\nEuro 6d-TEMP\\n]</td>\n",
              "      <td>[\\n, \\n, \\n4 (Green)\\n]</td>\n",
              "      <td>[]</td>\n",
              "      <td>\\nOpel\\n</td>\n",
              "      <td>[\\n, Astra, \\n]</td>\n",
              "      <td>[\\nHA026977\\n]</td>\n",
              "      <td>[\\n, 2019, \\n]</td>\n",
              "      <td>[\\n, Blue, \\n]</td>\n",
              "      <td>[\\nMetallic\\n]</td>\n",
              "      <td>[\\ntiefsee blau\\n]</td>\n",
              "      <td>[\\nCloth, Black\\n]</td>\n",
              "      <td>[\\n, Station wagon, \\n]</td>\n",
              "      <td>[\\n5\\n]</td>\n",
              "      <td>[\\n5\\n]</td>\n",
              "      <td>NaN</td>\n",
              "      <td>[\\n, Automatic, \\n]</td>\n",
              "      <td>[\\n1,399 cc\\n]</td>\n",
              "      <td>[\\n4\\n]</td>\n",
              "      <td>[\\n1,350 kg\\n]</td>\n",
              "      <td>[\\nfront\\n]</td>\n",
              "      <td>[\\n, Super E10 95, \\n]</td>\n",
              "      <td>[[5.8 l/100 km (comb)], [7.4 l/100 km (city)],...</td>\n",
              "      <td>[\\n134 g CO2/km (comb)\\n]</td>\n",
              "      <td>[\\nEuro 6d-TEMP\\n]</td>\n",
              "      <td>[Air conditioning, Armrest, Automatic climate ...</td>\n",
              "      <td>[Bluetooth, Digital radio, Hands-free equipmen...</td>\n",
              "      <td>[Alloy wheels, Catalytic Converter, Roof rack,...</td>\n",
              "      <td>[ABS, Adaptive headlights, Central door lock, ...</td>\n",
              "      <td>[\\n, Getriebe:,  Automatik, Technik:,  Bordcom...</td>\n",
              "      <td>NaN</td>\n",
              "      <td>[\\n6\\n]</td>\n",
              "      <td>[\\nGermany\\n]</td>\n",
              "      <td>NaN</td>\n",
              "      <td>NaN</td>\n",
              "      <td>NaN</td>\n",
              "      <td>NaN</td>\n",
              "      <td>NaN</td>\n",
              "      <td>NaN</td>\n",
              "    </tr>\n",
              "    <tr>\n",
              "      <th>7622</th>\n",
              "      <td>Opel Astra</td>\n",
              "      <td>Sports Tourer,Navi,Automatik,Ergositz</td>\n",
              "      <td>Coupe</td>\n",
              "      <td>29990</td>\n",
              "      <td>VAT deductible</td>\n",
              "      <td>- km</td>\n",
              "      <td>05/2019</td>\n",
              "      <td>1 previous owner</td>\n",
              "      <td>NaN</td>\n",
              "      <td>110 kW</td>\n",
              "      <td>[, Demonstration, , Super 95]</td>\n",
              "      <td>\\n1\\n</td>\n",
              "      <td>[\\n05/2022\\n, \\n134 g CO2/km (comb)\\n]</td>\n",
              "      <td>NaN</td>\n",
              "      <td>NaN</td>\n",
              "      <td>NaN</td>\n",
              "      <td>NaN</td>\n",
              "      <td>[]</td>\n",
              "      <td>\\nOpel\\n</td>\n",
              "      <td>[\\n, Astra, \\n]</td>\n",
              "      <td>[\\n53010225\\n]</td>\n",
              "      <td>[\\n, 2019, \\n]</td>\n",
              "      <td>[\\n, Blue, \\n]</td>\n",
              "      <td>[\\nMetallic\\n]</td>\n",
              "      <td>[\\ntiefsee blau (metallic)\\n]</td>\n",
              "      <td>[\\nCloth, Other\\n]</td>\n",
              "      <td>[\\n, Coupe, \\n]</td>\n",
              "      <td>[\\n5\\n]</td>\n",
              "      <td>NaN</td>\n",
              "      <td>NaN</td>\n",
              "      <td>[\\n, Automatic, \\n]</td>\n",
              "      <td>[\\n1,399 cc\\n]</td>\n",
              "      <td>[\\n4\\n]</td>\n",
              "      <td>[\\n1,350 kg\\n]</td>\n",
              "      <td>NaN</td>\n",
              "      <td>[\\n, Super 95, \\n]</td>\n",
              "      <td>[[5.8 l/100 km (comb)], [7.4 l/100 km (city)],...</td>\n",
              "      <td>[\\n134 g CO2/km (comb)\\n]</td>\n",
              "      <td>[\\nEuro 6\\n]</td>\n",
              "      <td>[Air conditioning, Armrest, Automatic climate ...</td>\n",
              "      <td>[Bluetooth, Hands-free equipment, USB]</td>\n",
              "      <td>[Catalytic Converter]</td>\n",
              "      <td>[ABS, Adaptive headlights, Central door lock, ...</td>\n",
              "      <td>[\\n, Getriebe:,  Automatik, Technik:,  Start-S...</td>\n",
              "      <td>[\\n4 (Green)\\n]</td>\n",
              "      <td>NaN</td>\n",
              "      <td>[\\nGermany\\n]</td>\n",
              "      <td>NaN</td>\n",
              "      <td>NaN</td>\n",
              "      <td>NaN</td>\n",
              "      <td>NaN</td>\n",
              "      <td>NaN</td>\n",
              "      <td>NaN</td>\n",
              "    </tr>\n",
              "    <tr>\n",
              "      <th>7662</th>\n",
              "      <td>Opel Astra</td>\n",
              "      <td>K 1.4T Sports Tourer 120 Jahre LED NaviPDCv+h</td>\n",
              "      <td>Station wagon</td>\n",
              "      <td>33095</td>\n",
              "      <td>VAT deductible</td>\n",
              "      <td>- km</td>\n",
              "      <td>05/2019</td>\n",
              "      <td>1 previous owner</td>\n",
              "      <td>NaN</td>\n",
              "      <td>110 kW</td>\n",
              "      <td>[, Demonstration, , Super 95]</td>\n",
              "      <td>\\n1\\n</td>\n",
              "      <td>[\\n05/2022\\n, \\n128 g CO2/km (comb)\\n]</td>\n",
              "      <td>NaN</td>\n",
              "      <td>[\\n, \\n, \\nEuro 6d-TEMP\\n]</td>\n",
              "      <td>NaN</td>\n",
              "      <td>NaN</td>\n",
              "      <td>[]</td>\n",
              "      <td>\\nOpel\\n</td>\n",
              "      <td>[\\n, Astra, \\n]</td>\n",
              "      <td>[\\n50042818\\n]</td>\n",
              "      <td>[\\n, 2019, \\n]</td>\n",
              "      <td>[\\n, Grey, \\n]</td>\n",
              "      <td>[\\nMetallic\\n]</td>\n",
              "      <td>[\\nquarz grau\\n]</td>\n",
              "      <td>[\\nCloth, Black\\n]</td>\n",
              "      <td>[\\n, Station wagon, \\n]</td>\n",
              "      <td>[\\n5\\n]</td>\n",
              "      <td>[\\n5\\n]</td>\n",
              "      <td>NaN</td>\n",
              "      <td>[\\n, Automatic, \\n]</td>\n",
              "      <td>[\\n1,399 cc\\n]</td>\n",
              "      <td>[\\n4\\n]</td>\n",
              "      <td>[\\n1,350 kg\\n]</td>\n",
              "      <td>NaN</td>\n",
              "      <td>[\\n, Super 95, \\n]</td>\n",
              "      <td>[[5.6 l/100 km (comb)], [7.3 l/100 km (city)],...</td>\n",
              "      <td>[\\n128 g CO2/km (comb)\\n]</td>\n",
              "      <td>[\\nEuro 6d-TEMP\\n]</td>\n",
              "      <td>[Air conditioning, Armrest, Automatic climate ...</td>\n",
              "      <td>[Bluetooth, Digital radio, Hands-free equipmen...</td>\n",
              "      <td>[Alloy wheels, Catalytic Converter, Touch screen]</td>\n",
              "      <td>[ABS, Adaptive Cruise Control, Central door lo...</td>\n",
              "      <td>[\\n, Getriebe:,  Automatik, Technik:,  Bordcom...</td>\n",
              "      <td>[\\n4 (Green)\\n]</td>\n",
              "      <td>[\\n6\\n]</td>\n",
              "      <td>[\\nGermany\\n]</td>\n",
              "      <td>NaN</td>\n",
              "      <td>NaN</td>\n",
              "      <td>NaN</td>\n",
              "      <td>NaN</td>\n",
              "      <td>NaN</td>\n",
              "      <td>NaN</td>\n",
              "    </tr>\n",
              "    <tr>\n",
              "      <th>9162</th>\n",
              "      <td>Opel Corsa</td>\n",
              "      <td>1.3 CDTI N-JOY</td>\n",
              "      <td>Coupe</td>\n",
              "      <td>8800</td>\n",
              "      <td>None</td>\n",
              "      <td>- km</td>\n",
              "      <td>07/2019</td>\n",
              "      <td>1 previous owner</td>\n",
              "      <td>NaN</td>\n",
              "      <td>55 kW</td>\n",
              "      <td>[, Used, , Diesel (Particulate Filter)]</td>\n",
              "      <td>\\n1\\n</td>\n",
              "      <td>NaN</td>\n",
              "      <td>NaN</td>\n",
              "      <td>[\\n12 months\\n, \\n101 g CO2/km (comb)\\n]</td>\n",
              "      <td>NaN</td>\n",
              "      <td>[\\n, \\n, \\nEuro 6\\n]</td>\n",
              "      <td>[]</td>\n",
              "      <td>\\nOpel\\n</td>\n",
              "      <td>[\\n, Corsa, \\n]</td>\n",
              "      <td>[\\n11669252\\n]</td>\n",
              "      <td>[\\n, 2019, \\n]</td>\n",
              "      <td>[\\n, Grey, \\n]</td>\n",
              "      <td>[\\nUni/basic\\n]</td>\n",
              "      <td>[\\nAntracite\\n]</td>\n",
              "      <td>NaN</td>\n",
              "      <td>[\\n, Coupe, \\n]</td>\n",
              "      <td>[\\n3\\n]</td>\n",
              "      <td>[\\n5\\n]</td>\n",
              "      <td>NaN</td>\n",
              "      <td>[\\n, Manual, \\n]</td>\n",
              "      <td>[\\n1,248 cc\\n]</td>\n",
              "      <td>[\\n4\\n]</td>\n",
              "      <td>[\\n1,199 kg\\n]</td>\n",
              "      <td>[\\nfront\\n]</td>\n",
              "      <td>[\\n, Diesel (Particulate Filter), \\n]</td>\n",
              "      <td>[[3.8 l/100 km (comb)], [4.6 l/100 km (city)],...</td>\n",
              "      <td>[\\n101 g CO2/km (comb)\\n]</td>\n",
              "      <td>[\\nEuro 6\\n]</td>\n",
              "      <td>[Air conditioning, Cruise control, Multi-funct...</td>\n",
              "      <td>[Bluetooth, CD player, Hands-free equipment, M...</td>\n",
              "      <td>NaN</td>\n",
              "      <td>[ABS, Central door lock, Central door lock wit...</td>\n",
              "      <td>[\\n, OCCASIONE OPEL CORSA 3P. 1.3 75cv ADATTA ...</td>\n",
              "      <td>NaN</td>\n",
              "      <td>[\\n5\\n]</td>\n",
              "      <td>NaN</td>\n",
              "      <td>NaN</td>\n",
              "      <td>NaN</td>\n",
              "      <td>NaN</td>\n",
              "      <td>NaN</td>\n",
              "      <td>NaN</td>\n",
              "      <td>NaN</td>\n",
              "    </tr>\n",
              "    <tr>\n",
              "      <th>9867</th>\n",
              "      <td>Opel Corsa</td>\n",
              "      <td>1,4 Ecotec Edition</td>\n",
              "      <td>Sedans</td>\n",
              "      <td>9990</td>\n",
              "      <td>VAT deductible</td>\n",
              "      <td>- km</td>\n",
              "      <td>05/2019</td>\n",
              "      <td>1 previous owner</td>\n",
              "      <td>NaN</td>\n",
              "      <td>55 kW</td>\n",
              "      <td>[, Demonstration, , Gasoline]</td>\n",
              "      <td>\\n1\\n</td>\n",
              "      <td>NaN</td>\n",
              "      <td>NaN</td>\n",
              "      <td>[\\n, \\n, \\nEuro 6\\n]</td>\n",
              "      <td>NaN</td>\n",
              "      <td>NaN</td>\n",
              "      <td>[]</td>\n",
              "      <td>\\nOpel\\n</td>\n",
              "      <td>[\\n, Corsa, \\n]</td>\n",
              "      <td>[\\n3214172\\n]</td>\n",
              "      <td>[\\n, 2019, \\n]</td>\n",
              "      <td>[\\n, White, \\n]</td>\n",
              "      <td>NaN</td>\n",
              "      <td>[\\nSchnee Weiß (SL)\\n]</td>\n",
              "      <td>[\\nCloth\\n]</td>\n",
              "      <td>[\\n, Sedans, \\n]</td>\n",
              "      <td>[\\n3\\n]</td>\n",
              "      <td>[\\n5\\n]</td>\n",
              "      <td>NaN</td>\n",
              "      <td>[\\n, Manual, \\n]</td>\n",
              "      <td>[\\n1,398 cc\\n]</td>\n",
              "      <td>NaN</td>\n",
              "      <td>NaN</td>\n",
              "      <td>[\\nfront\\n]</td>\n",
              "      <td>[\\n, Gasoline, \\n]</td>\n",
              "      <td>NaN</td>\n",
              "      <td>[[], [], []]</td>\n",
              "      <td>[\\nEuro 6\\n]</td>\n",
              "      <td>[Air conditioning, Electrical side mirrors, Le...</td>\n",
              "      <td>[Bluetooth, CD player, Radio]</td>\n",
              "      <td>NaN</td>\n",
              "      <td>[ABS, Central door lock, Daytime running light...</td>\n",
              "      <td>[\\nElektr. Bremskraftverteilung, Kindersitzbef...</td>\n",
              "      <td>NaN</td>\n",
              "      <td>[\\n5\\n]</td>\n",
              "      <td>NaN</td>\n",
              "      <td>NaN</td>\n",
              "      <td>NaN</td>\n",
              "      <td>NaN</td>\n",
              "      <td>NaN</td>\n",
              "      <td>NaN</td>\n",
              "      <td>NaN</td>\n",
              "    </tr>\n",
              "    <tr>\n",
              "      <th>9905</th>\n",
              "      <td>Opel Corsa</td>\n",
              "      <td>E 120 Jahre 1.4 Rückfahrkam. PDCv+h</td>\n",
              "      <td>Compact</td>\n",
              "      <td>16750</td>\n",
              "      <td>VAT deductible</td>\n",
              "      <td>- km</td>\n",
              "      <td>03/2019</td>\n",
              "      <td>1 previous owner</td>\n",
              "      <td>NaN</td>\n",
              "      <td>66 kW</td>\n",
              "      <td>[, Demonstration, , Super 95]</td>\n",
              "      <td>\\n1\\n</td>\n",
              "      <td>[\\n03/2022\\n, \\n140 g CO2/km (comb)\\n]</td>\n",
              "      <td>NaN</td>\n",
              "      <td>NaN</td>\n",
              "      <td>NaN</td>\n",
              "      <td>NaN</td>\n",
              "      <td>[]</td>\n",
              "      <td>\\nOpel\\n</td>\n",
              "      <td>[\\n, Corsa, \\n]</td>\n",
              "      <td>[\\n50042466\\n]</td>\n",
              "      <td>[\\n, 2019, \\n]</td>\n",
              "      <td>[\\n, Grey, \\n]</td>\n",
              "      <td>[\\nMetallic\\n]</td>\n",
              "      <td>[\\nlicht grau m2\\n]</td>\n",
              "      <td>[\\nCloth, Black\\n]</td>\n",
              "      <td>[\\n, Compact, \\n]</td>\n",
              "      <td>[\\n5\\n]</td>\n",
              "      <td>[\\n5\\n]</td>\n",
              "      <td>[\\n1844/ADJ\\n]</td>\n",
              "      <td>[\\n, Automatic, \\n]</td>\n",
              "      <td>[\\n1,398 cc\\n]</td>\n",
              "      <td>[\\n4\\n]</td>\n",
              "      <td>[\\n1,199 kg\\n]</td>\n",
              "      <td>NaN</td>\n",
              "      <td>[\\n, Super 95, \\n]</td>\n",
              "      <td>[[6 l/100 km (comb)], [7.8 l/100 km (city)], [...</td>\n",
              "      <td>[\\n140 g CO2/km (comb)\\n]</td>\n",
              "      <td>[\\nEuro 6d-TEMP\\n]</td>\n",
              "      <td>[Air conditioning, Cruise control, Electricall...</td>\n",
              "      <td>[Bluetooth, Hands-free equipment, MP3, On-boar...</td>\n",
              "      <td>[Alloy wheels, Catalytic Converter]</td>\n",
              "      <td>[ABS, Central door lock, Daytime running light...</td>\n",
              "      <td>[\\n, Getriebe:,  Automatik, Technik:,  Bordcom...</td>\n",
              "      <td>[\\n4 (Green)\\n]</td>\n",
              "      <td>[\\n6\\n]</td>\n",
              "      <td>[\\nGermany\\n]</td>\n",
              "      <td>NaN</td>\n",
              "      <td>NaN</td>\n",
              "      <td>NaN</td>\n",
              "      <td>NaN</td>\n",
              "      <td>NaN</td>\n",
              "      <td>NaN</td>\n",
              "    </tr>\n",
              "    <tr>\n",
              "      <th>9913</th>\n",
              "      <td>Opel Corsa</td>\n",
              "      <td>E 120 Jahre 1.4 Xenon,Rückf.Kamera,Klimaaut.Navi</td>\n",
              "      <td>Sedans</td>\n",
              "      <td>18450</td>\n",
              "      <td>VAT deductible</td>\n",
              "      <td>- km</td>\n",
              "      <td>04/2019</td>\n",
              "      <td>1 previous owner</td>\n",
              "      <td>NaN</td>\n",
              "      <td>66 kW</td>\n",
              "      <td>[, Demonstration, , Super E10 95]</td>\n",
              "      <td>\\n1\\n</td>\n",
              "      <td>[\\n04/2022\\n, \\n140 g CO2/km (comb)\\n]</td>\n",
              "      <td>NaN</td>\n",
              "      <td>[\\n24 months\\n, \\nEuro 6d-TEMP\\n]</td>\n",
              "      <td>NaN</td>\n",
              "      <td>NaN</td>\n",
              "      <td>[]</td>\n",
              "      <td>\\nOpel\\n</td>\n",
              "      <td>[\\n, Corsa, \\n]</td>\n",
              "      <td>[\\n50042614\\n]</td>\n",
              "      <td>[\\n, 2019, \\n]</td>\n",
              "      <td>[\\n, Red, \\n]</td>\n",
              "      <td>NaN</td>\n",
              "      <td>[\\nlava rot\\n]</td>\n",
              "      <td>[\\nCloth, Black\\n]</td>\n",
              "      <td>[\\n, Sedans, \\n]</td>\n",
              "      <td>[\\n5\\n]</td>\n",
              "      <td>[\\n5\\n]</td>\n",
              "      <td>NaN</td>\n",
              "      <td>[\\n, Automatic, \\n]</td>\n",
              "      <td>[\\n1,398 cc\\n]</td>\n",
              "      <td>[\\n4\\n]</td>\n",
              "      <td>[\\n1,163 kg\\n]</td>\n",
              "      <td>NaN</td>\n",
              "      <td>[\\n, Super E10 95, \\n]</td>\n",
              "      <td>[[6 l/100 km (comb)], [7.8 l/100 km (city)], [...</td>\n",
              "      <td>[\\n140 g CO2/km (comb)\\n]</td>\n",
              "      <td>[\\nEuro 6d-TEMP\\n]</td>\n",
              "      <td>[Air conditioning, Automatic climate control, ...</td>\n",
              "      <td>[Bluetooth, Hands-free equipment, MP3, On-boar...</td>\n",
              "      <td>[Alloy wheels, Catalytic Converter]</td>\n",
              "      <td>[ABS, Central door lock, Daytime running light...</td>\n",
              "      <td>[\\n, Getriebe:,  Automatik, Technik:,  Bordcom...</td>\n",
              "      <td>[\\n4 (Green)\\n]</td>\n",
              "      <td>[\\n6\\n]</td>\n",
              "      <td>NaN</td>\n",
              "      <td>NaN</td>\n",
              "      <td>NaN</td>\n",
              "      <td>NaN</td>\n",
              "      <td>NaN</td>\n",
              "      <td>NaN</td>\n",
              "      <td>NaN</td>\n",
              "    </tr>\n",
              "    <tr>\n",
              "      <th>10249</th>\n",
              "      <td>Opel Corsa</td>\n",
              "      <td>5-Türer Edition 1.4 i</td>\n",
              "      <td>Sedans</td>\n",
              "      <td>10790</td>\n",
              "      <td>VAT deductible</td>\n",
              "      <td>- km</td>\n",
              "      <td>05/2019</td>\n",
              "      <td>1 previous owner</td>\n",
              "      <td>NaN</td>\n",
              "      <td>55 kW</td>\n",
              "      <td>[, Demonstration, , Gasoline]</td>\n",
              "      <td>\\n1\\n</td>\n",
              "      <td>NaN</td>\n",
              "      <td>NaN</td>\n",
              "      <td>[\\n, \\n, \\nEuro 6\\n]</td>\n",
              "      <td>NaN</td>\n",
              "      <td>NaN</td>\n",
              "      <td>[]</td>\n",
              "      <td>\\nOpel\\n</td>\n",
              "      <td>[\\n, Corsa, \\n]</td>\n",
              "      <td>[\\n3223233\\n]</td>\n",
              "      <td>[\\n, 2019, \\n]</td>\n",
              "      <td>[\\n, White, \\n]</td>\n",
              "      <td>NaN</td>\n",
              "      <td>[\\nSchnee Weiß (SL)\\n]</td>\n",
              "      <td>[\\nCloth\\n]</td>\n",
              "      <td>[\\n, Sedans, \\n]</td>\n",
              "      <td>[\\n5\\n]</td>\n",
              "      <td>[\\n5\\n]</td>\n",
              "      <td>NaN</td>\n",
              "      <td>[\\n, Manual, \\n]</td>\n",
              "      <td>[\\n1,398 cc\\n]</td>\n",
              "      <td>NaN</td>\n",
              "      <td>NaN</td>\n",
              "      <td>[\\nfront\\n]</td>\n",
              "      <td>[\\n, Gasoline, \\n]</td>\n",
              "      <td>NaN</td>\n",
              "      <td>[[], [], []]</td>\n",
              "      <td>[\\nEuro 6\\n]</td>\n",
              "      <td>[Air conditioning, Electrical side mirrors, Le...</td>\n",
              "      <td>[Bluetooth, CD player, Radio]</td>\n",
              "      <td>NaN</td>\n",
              "      <td>[ABS, Central door lock, Daytime running light...</td>\n",
              "      <td>[\\nElektr. Bremskraftverteilung, Kindersitzbef...</td>\n",
              "      <td>NaN</td>\n",
              "      <td>[\\n5\\n]</td>\n",
              "      <td>NaN</td>\n",
              "      <td>NaN</td>\n",
              "      <td>NaN</td>\n",
              "      <td>NaN</td>\n",
              "      <td>NaN</td>\n",
              "      <td>NaN</td>\n",
              "      <td>NaN</td>\n",
              "    </tr>\n",
              "    <tr>\n",
              "      <th>10262</th>\n",
              "      <td>Opel Corsa</td>\n",
              "      <td>5-Türer Edition 1.4 i</td>\n",
              "      <td>Sedans</td>\n",
              "      <td>10750</td>\n",
              "      <td>VAT deductible</td>\n",
              "      <td>- km</td>\n",
              "      <td>05/2019</td>\n",
              "      <td>1 previous owner</td>\n",
              "      <td>NaN</td>\n",
              "      <td>55 kW</td>\n",
              "      <td>[, Demonstration, , Gasoline]</td>\n",
              "      <td>\\n1\\n</td>\n",
              "      <td>NaN</td>\n",
              "      <td>NaN</td>\n",
              "      <td>[\\n, \\n, \\nEuro 6\\n]</td>\n",
              "      <td>NaN</td>\n",
              "      <td>NaN</td>\n",
              "      <td>[]</td>\n",
              "      <td>\\nOpel\\n</td>\n",
              "      <td>[\\n, Corsa, \\n]</td>\n",
              "      <td>[\\n3217456\\n]</td>\n",
              "      <td>[\\n, 2019, \\n]</td>\n",
              "      <td>[\\n, White, \\n]</td>\n",
              "      <td>NaN</td>\n",
              "      <td>[\\nSchnee Weiß (SL)\\n]</td>\n",
              "      <td>[\\nCloth\\n]</td>\n",
              "      <td>[\\n, Sedans, \\n]</td>\n",
              "      <td>[\\n5\\n]</td>\n",
              "      <td>[\\n5\\n]</td>\n",
              "      <td>NaN</td>\n",
              "      <td>[\\n, Manual, \\n]</td>\n",
              "      <td>[\\n1,398 cc\\n]</td>\n",
              "      <td>NaN</td>\n",
              "      <td>NaN</td>\n",
              "      <td>[\\nfront\\n]</td>\n",
              "      <td>[\\n, Gasoline, \\n]</td>\n",
              "      <td>NaN</td>\n",
              "      <td>[[], [], []]</td>\n",
              "      <td>[\\nEuro 6\\n]</td>\n",
              "      <td>[Air conditioning, Cruise control, Electrical ...</td>\n",
              "      <td>[Bluetooth, CD player, On-board computer, Radio]</td>\n",
              "      <td>NaN</td>\n",
              "      <td>[ABS, Central door lock, Daytime running light...</td>\n",
              "      <td>[\\nElektr. Bremskraftverteilung, Kindersitzbef...</td>\n",
              "      <td>NaN</td>\n",
              "      <td>[\\n5\\n]</td>\n",
              "      <td>NaN</td>\n",
              "      <td>NaN</td>\n",
              "      <td>NaN</td>\n",
              "      <td>NaN</td>\n",
              "      <td>NaN</td>\n",
              "      <td>NaN</td>\n",
              "      <td>NaN</td>\n",
              "    </tr>\n",
              "    <tr>\n",
              "      <th>11869</th>\n",
              "      <td>Opel Insignia</td>\n",
              "      <td>ST 1.5 Turbo Automatik AAC SHZ PDC Temp.</td>\n",
              "      <td>Station wagon</td>\n",
              "      <td>23990</td>\n",
              "      <td>VAT deductible</td>\n",
              "      <td>- km</td>\n",
              "      <td>08/2018</td>\n",
              "      <td>1 previous owner</td>\n",
              "      <td>NaN</td>\n",
              "      <td>122 kW</td>\n",
              "      <td>[, Pre-registered, , Super 95]</td>\n",
              "      <td>\\n1\\n</td>\n",
              "      <td>[\\n02/2021\\n, \\n141 g CO2/km (comb)\\n]</td>\n",
              "      <td>[\\nYes\\n, \\nEuro 6\\n]</td>\n",
              "      <td>[\\n, \\n, \\n4 (Green)\\n]</td>\n",
              "      <td>[\\n, \\n]</td>\n",
              "      <td>NaN</td>\n",
              "      <td>[]</td>\n",
              "      <td>\\nOpel\\n</td>\n",
              "      <td>[\\n, Insignia, \\n]</td>\n",
              "      <td>[\\n0059H\\n]</td>\n",
              "      <td>[\\n, 2018, \\n]</td>\n",
              "      <td>[\\n, Grey, \\n]</td>\n",
              "      <td>[\\nMetallic\\n]</td>\n",
              "      <td>NaN</td>\n",
              "      <td>NaN</td>\n",
              "      <td>[\\n, Station wagon, \\n]</td>\n",
              "      <td>[\\n5\\n]</td>\n",
              "      <td>[\\n5\\n]</td>\n",
              "      <td>[\\n0000/000\\n]</td>\n",
              "      <td>[\\n, Automatic, \\n]</td>\n",
              "      <td>[\\n1,490 cc\\n]</td>\n",
              "      <td>NaN</td>\n",
              "      <td>NaN</td>\n",
              "      <td>NaN</td>\n",
              "      <td>[\\n, Super 95, \\n]</td>\n",
              "      <td>[[6.2 l/100 km (comb)], [7.7 l/100 km (city)],...</td>\n",
              "      <td>[\\n141 g CO2/km (comb)\\n]</td>\n",
              "      <td>[\\nEuro 6\\n]</td>\n",
              "      <td>[Air conditioning, Automatic climate control, ...</td>\n",
              "      <td>[Bluetooth, Hands-free equipment, MP3, On-boar...</td>\n",
              "      <td>[Alloy wheels, Roof rack]</td>\n",
              "      <td>[ABS, Central door lock, Daytime running light...</td>\n",
              "      <td>[\\n, Ausstattung und Merkmale, 2- Zonen Klimaa...</td>\n",
              "      <td>NaN</td>\n",
              "      <td>NaN</td>\n",
              "      <td>NaN</td>\n",
              "      <td>NaN</td>\n",
              "      <td>NaN</td>\n",
              "      <td>NaN</td>\n",
              "      <td>NaN</td>\n",
              "      <td>NaN</td>\n",
              "      <td>NaN</td>\n",
              "    </tr>\n",
              "    <tr>\n",
              "      <th>12499</th>\n",
              "      <td>Opel Insignia</td>\n",
              "      <td>Sports Tourer Ultimate 1,6 CDTI Automatik</td>\n",
              "      <td>Station wagon</td>\n",
              "      <td>36990</td>\n",
              "      <td>VAT deductible</td>\n",
              "      <td>- km</td>\n",
              "      <td>04/2019</td>\n",
              "      <td>1 previous owner</td>\n",
              "      <td>NaN</td>\n",
              "      <td>100 kW</td>\n",
              "      <td>[, Demonstration, , Diesel (Particulate Filter)]</td>\n",
              "      <td>\\n1\\n</td>\n",
              "      <td>NaN</td>\n",
              "      <td>NaN</td>\n",
              "      <td>[\\n, \\n, \\nEuro 6\\n]</td>\n",
              "      <td>[\\n, \\n]</td>\n",
              "      <td>NaN</td>\n",
              "      <td>[]</td>\n",
              "      <td>\\nOpel\\n</td>\n",
              "      <td>[\\n, Insignia, \\n]</td>\n",
              "      <td>[\\n3236699\\n]</td>\n",
              "      <td>[\\n, 2019, \\n]</td>\n",
              "      <td>[\\n, Red, \\n]</td>\n",
              "      <td>NaN</td>\n",
              "      <td>[\\nLava Rot (SL)\\n]</td>\n",
              "      <td>[\\nPart leather, Black\\n]</td>\n",
              "      <td>[\\n, Station wagon, \\n]</td>\n",
              "      <td>[\\n5\\n]</td>\n",
              "      <td>[\\n5\\n]</td>\n",
              "      <td>NaN</td>\n",
              "      <td>[\\n, Automatic, \\n]</td>\n",
              "      <td>[\\n1 cc\\n]</td>\n",
              "      <td>NaN</td>\n",
              "      <td>NaN</td>\n",
              "      <td>[\\nfront\\n]</td>\n",
              "      <td>[\\n, Diesel (Particulate Filter), \\n]</td>\n",
              "      <td>NaN</td>\n",
              "      <td>[[], [], []]</td>\n",
              "      <td>[\\nEuro 6\\n]</td>\n",
              "      <td>[Air conditioning, Automatic climate control, ...</td>\n",
              "      <td>[Bluetooth, On-board computer]</td>\n",
              "      <td>[Alloy wheels, Sport seats]</td>\n",
              "      <td>[ABS, Central door lock, Driver-side airbag, E...</td>\n",
              "      <td>[\\nKEYLESS-GO, Automatic, Kindersitzbefestigun...</td>\n",
              "      <td>NaN</td>\n",
              "      <td>[\\n6\\n]</td>\n",
              "      <td>NaN</td>\n",
              "      <td>NaN</td>\n",
              "      <td>NaN</td>\n",
              "      <td>NaN</td>\n",
              "      <td>NaN</td>\n",
              "      <td>NaN</td>\n",
              "      <td>NaN</td>\n",
              "    </tr>\n",
              "    <tr>\n",
              "      <th>12538</th>\n",
              "      <td>Opel Insignia</td>\n",
              "      <td>ST 2,0 CDTI BlueInjection Innovation St./</td>\n",
              "      <td>Station wagon</td>\n",
              "      <td>34990</td>\n",
              "      <td>VAT deductible</td>\n",
              "      <td>- km</td>\n",
              "      <td>04/2019</td>\n",
              "      <td>1 previous owner</td>\n",
              "      <td>NaN</td>\n",
              "      <td>125 kW</td>\n",
              "      <td>[, Demonstration, , Diesel (Particulate Filter)]</td>\n",
              "      <td>\\n1\\n</td>\n",
              "      <td>NaN</td>\n",
              "      <td>NaN</td>\n",
              "      <td>[\\n, \\n, \\nEuro 6\\n]</td>\n",
              "      <td>NaN</td>\n",
              "      <td>NaN</td>\n",
              "      <td>[]</td>\n",
              "      <td>\\nOpel\\n</td>\n",
              "      <td>[\\n, Insignia, \\n]</td>\n",
              "      <td>[\\n3245761\\n]</td>\n",
              "      <td>[\\n, 2019, \\n]</td>\n",
              "      <td>[\\n, Black, \\n]</td>\n",
              "      <td>[\\nMetallic\\n]</td>\n",
              "      <td>[\\nOnyx Schwarz (M2)\\n]</td>\n",
              "      <td>[\\nPart leather\\n]</td>\n",
              "      <td>[\\n, Station wagon, \\n]</td>\n",
              "      <td>[\\n5\\n]</td>\n",
              "      <td>[\\n5\\n]</td>\n",
              "      <td>NaN</td>\n",
              "      <td>[\\n, Automatic, \\n]</td>\n",
              "      <td>[\\n1,956 cc\\n]</td>\n",
              "      <td>NaN</td>\n",
              "      <td>NaN</td>\n",
              "      <td>[\\nfront\\n]</td>\n",
              "      <td>[\\n, Diesel (Particulate Filter), \\n]</td>\n",
              "      <td>NaN</td>\n",
              "      <td>[[], [], []]</td>\n",
              "      <td>[\\nEuro 6\\n]</td>\n",
              "      <td>[Air conditioning, Armrest, Automatic climate ...</td>\n",
              "      <td>[Bluetooth, On-board computer]</td>\n",
              "      <td>[Alloy wheels, Roof rack, Sport seats]</td>\n",
              "      <td>[ABS, Central door lock, Daytime running light...</td>\n",
              "      <td>[\\nKEYLESS-GO, Automatic, Elektr. Bremskraftve...</td>\n",
              "      <td>NaN</td>\n",
              "      <td>[\\n8\\n]</td>\n",
              "      <td>NaN</td>\n",
              "      <td>NaN</td>\n",
              "      <td>NaN</td>\n",
              "      <td>NaN</td>\n",
              "      <td>NaN</td>\n",
              "      <td>NaN</td>\n",
              "      <td>NaN</td>\n",
              "    </tr>\n",
              "    <tr>\n",
              "      <th>12885</th>\n",
              "      <td>Opel Insignia</td>\n",
              "      <td>Grand Sport Dynamic 1.5 Turbo EU6d-T,OPC Line,...</td>\n",
              "      <td>Sedans</td>\n",
              "      <td>30990</td>\n",
              "      <td>VAT deductible</td>\n",
              "      <td>- km</td>\n",
              "      <td>04/2019</td>\n",
              "      <td>1 previous owner</td>\n",
              "      <td>NaN</td>\n",
              "      <td>103 kW</td>\n",
              "      <td>[, Demonstration, , Super 95]</td>\n",
              "      <td>\\n1\\n</td>\n",
              "      <td>[\\n04/2022\\n, \\n133 g CO2/km (comb)\\n]</td>\n",
              "      <td>NaN</td>\n",
              "      <td>[\\n24 months\\n, \\n4 (Green)\\n]</td>\n",
              "      <td>[\\n, \\n]</td>\n",
              "      <td>[\\n, \\n]</td>\n",
              "      <td>[]</td>\n",
              "      <td>\\nOpel\\n</td>\n",
              "      <td>[\\n, Insignia, \\n]</td>\n",
              "      <td>[\\n360129\\n]</td>\n",
              "      <td>[\\n, 2019, \\n]</td>\n",
              "      <td>[\\n, Black, \\n]</td>\n",
              "      <td>[\\nMetallic\\n]</td>\n",
              "      <td>[\\nonyx schwarz\\n]</td>\n",
              "      <td>[\\nCloth, Black\\n]</td>\n",
              "      <td>[\\n, Sedans, \\n]</td>\n",
              "      <td>[\\n5\\n]</td>\n",
              "      <td>[\\n5\\n]</td>\n",
              "      <td>[\\n0035/BKM\\n]</td>\n",
              "      <td>[\\n, Manual, \\n]</td>\n",
              "      <td>[\\n1,490 cc\\n]</td>\n",
              "      <td>[\\n4\\n]</td>\n",
              "      <td>[\\n1,440 kg\\n]</td>\n",
              "      <td>[\\nfront\\n]</td>\n",
              "      <td>[\\n, Super 95, \\n]</td>\n",
              "      <td>[[5.9 l/100 km (comb)], [7.5 l/100 km (city)],...</td>\n",
              "      <td>[\\n133 g CO2/km (comb)\\n]</td>\n",
              "      <td>NaN</td>\n",
              "      <td>[Air conditioning, Armrest, Automatic climate ...</td>\n",
              "      <td>[Bluetooth, Digital radio, MP3, On-board compu...</td>\n",
              "      <td>[Alloy wheels, Catalytic Converter, Touch screen]</td>\n",
              "      <td>[ABS, Blind spot monitor, Central door lock, D...</td>\n",
              "      <td>[\\n, Getriebe:,  Schaltgetriebe, Technik:,  Bo...</td>\n",
              "      <td>[\\n4 (Green)\\n]</td>\n",
              "      <td>[\\n6\\n]</td>\n",
              "      <td>[\\nGermany\\n]</td>\n",
              "      <td>NaN</td>\n",
              "      <td>NaN</td>\n",
              "      <td>NaN</td>\n",
              "      <td>NaN</td>\n",
              "      <td>NaN</td>\n",
              "      <td>NaN</td>\n",
              "    </tr>\n",
              "    <tr>\n",
              "      <th>12956</th>\n",
              "      <td>Opel Insignia</td>\n",
              "      <td>Grand Sport Ultimate 1.5 AT Bose*LEDMatrix*HUD*</td>\n",
              "      <td>Sedans</td>\n",
              "      <td>39490</td>\n",
              "      <td>VAT deductible</td>\n",
              "      <td>- km</td>\n",
              "      <td>04/2019</td>\n",
              "      <td>1 previous owner</td>\n",
              "      <td>NaN</td>\n",
              "      <td>121 kW</td>\n",
              "      <td>[, Pre-registered, , Super E10 95]</td>\n",
              "      <td>\\n1\\n</td>\n",
              "      <td>[\\n04/2022\\n, \\n135 g CO2/km (comb)\\n]</td>\n",
              "      <td>NaN</td>\n",
              "      <td>NaN</td>\n",
              "      <td>[\\n, \\n, \\nEuro 6d-TEMP\\n]</td>\n",
              "      <td>[\\n, \\n, \\n4 (Green)\\n]</td>\n",
              "      <td>[]</td>\n",
              "      <td>\\nOpel\\n</td>\n",
              "      <td>[\\n, Insignia, \\n]</td>\n",
              "      <td>[\\nHA026864\\n]</td>\n",
              "      <td>[\\n, 2019, \\n]</td>\n",
              "      <td>[\\n, Black, \\n]</td>\n",
              "      <td>[\\nMetallic\\n]</td>\n",
              "      <td>[\\nonyx schwarz\\n]</td>\n",
              "      <td>[\\nFull leather, Black\\n]</td>\n",
              "      <td>[\\n, Sedans, \\n]</td>\n",
              "      <td>[\\n5\\n]</td>\n",
              "      <td>[\\n5\\n]</td>\n",
              "      <td>NaN</td>\n",
              "      <td>[\\n, Automatic, \\n]</td>\n",
              "      <td>[\\n1,490 cc\\n]</td>\n",
              "      <td>[\\n4\\n]</td>\n",
              "      <td>[\\n1,472 kg\\n]</td>\n",
              "      <td>[\\nfront\\n]</td>\n",
              "      <td>[\\n, Super E10 95, \\n]</td>\n",
              "      <td>[[5.9 l/100 km (comb)], [7.6 l/100 km (city)],...</td>\n",
              "      <td>[\\n135 g CO2/km (comb)\\n]</td>\n",
              "      <td>[\\nEuro 6d-TEMP\\n]</td>\n",
              "      <td>[Air conditioning, Armrest, Automatic climate ...</td>\n",
              "      <td>[Bluetooth, Digital radio, Hands-free equipmen...</td>\n",
              "      <td>[Alloy wheels, Catalytic Converter, Sport seat...</td>\n",
              "      <td>[ABS, Adaptive Cruise Control, Adaptive headli...</td>\n",
              "      <td>[\\n, Getriebe:,  Automatik, Technik:,  Bordcom...</td>\n",
              "      <td>NaN</td>\n",
              "      <td>[\\n6\\n]</td>\n",
              "      <td>[\\nGermany\\n]</td>\n",
              "      <td>NaN</td>\n",
              "      <td>NaN</td>\n",
              "      <td>NaN</td>\n",
              "      <td>NaN</td>\n",
              "      <td>NaN</td>\n",
              "      <td>NaN</td>\n",
              "    </tr>\n",
              "    <tr>\n",
              "      <th>13071</th>\n",
              "      <td>Renault Clio</td>\n",
              "      <td>TCe 120 I AT I INTENS I R-LINK NAVI*SOFORT</td>\n",
              "      <td>Compact</td>\n",
              "      <td>15599</td>\n",
              "      <td>VAT deductible</td>\n",
              "      <td>- km</td>\n",
              "      <td>09/2018</td>\n",
              "      <td>1 previous owner</td>\n",
              "      <td>NaN</td>\n",
              "      <td>88 kW</td>\n",
              "      <td>[, Pre-registered, , Super 95]</td>\n",
              "      <td>\\n1\\n</td>\n",
              "      <td>[\\n09/2021\\n, \\n120 g CO2/km (comb)\\n]</td>\n",
              "      <td>NaN</td>\n",
              "      <td>[\\n, \\n, \\nEuro 6c\\n]</td>\n",
              "      <td>NaN</td>\n",
              "      <td>[\\n, \\n, \\n4 (Green)\\n]</td>\n",
              "      <td>[]</td>\n",
              "      <td>\\nRenault\\n</td>\n",
              "      <td>[\\n, Clio, \\n]</td>\n",
              "      <td>[\\n17001\\n]</td>\n",
              "      <td>[\\n, 2018, \\n]</td>\n",
              "      <td>[\\n, Grey, \\n]</td>\n",
              "      <td>[\\nMetallic\\n]</td>\n",
              "      <td>[\\nTitanium Grau TEKPN\\n]</td>\n",
              "      <td>[\\nPart leather, Black\\n]</td>\n",
              "      <td>[\\n, Compact, \\n]</td>\n",
              "      <td>[\\n4\\n]</td>\n",
              "      <td>[\\n5\\n]</td>\n",
              "      <td>[\\n3333/BEF\\n]</td>\n",
              "      <td>[\\n, Automatic, \\n]</td>\n",
              "      <td>[\\n1,197 cc\\n]</td>\n",
              "      <td>NaN</td>\n",
              "      <td>NaN</td>\n",
              "      <td>NaN</td>\n",
              "      <td>[\\n, Super 95, \\n]</td>\n",
              "      <td>[[5.3 l/100 km (comb)], [6.8 l/100 km (city)],...</td>\n",
              "      <td>[\\n120 g CO2/km (comb)\\n]</td>\n",
              "      <td>[\\nEuro 6c\\n]</td>\n",
              "      <td>[Air conditioning, Armrest, Automatic climate ...</td>\n",
              "      <td>[Bluetooth, Digital radio, Hands-free equipmen...</td>\n",
              "      <td>[Alloy wheels, Sport package, Touch screen, Vo...</td>\n",
              "      <td>[ABS, Adaptive headlights, Central door lock, ...</td>\n",
              "      <td>[\\n, Herzlich willkommen bei MY CAR Ihrem EU-N...</td>\n",
              "      <td>NaN</td>\n",
              "      <td>NaN</td>\n",
              "      <td>[\\nGermany\\n]</td>\n",
              "      <td>NaN</td>\n",
              "      <td>NaN</td>\n",
              "      <td>NaN</td>\n",
              "      <td>NaN</td>\n",
              "      <td>NaN</td>\n",
              "      <td>NaN</td>\n",
              "    </tr>\n",
              "    <tr>\n",
              "      <th>13113</th>\n",
              "      <td>Renault Clio</td>\n",
              "      <td>Grandtour BUSINESS Edition dCi 90 EDC</td>\n",
              "      <td>Station wagon</td>\n",
              "      <td>15798</td>\n",
              "      <td>VAT deductible</td>\n",
              "      <td>- km</td>\n",
              "      <td>03/2019</td>\n",
              "      <td>1 previous owner</td>\n",
              "      <td>NaN</td>\n",
              "      <td>66 kW</td>\n",
              "      <td>[, Pre-registered, , Diesel]</td>\n",
              "      <td>\\n1\\n</td>\n",
              "      <td>NaN</td>\n",
              "      <td>NaN</td>\n",
              "      <td>NaN</td>\n",
              "      <td>NaN</td>\n",
              "      <td>NaN</td>\n",
              "      <td>[]</td>\n",
              "      <td>\\nRenault\\n</td>\n",
              "      <td>[\\n, Clio, \\n]</td>\n",
              "      <td>[\\nKL_215726\\n]</td>\n",
              "      <td>[\\n, 2019, \\n]</td>\n",
              "      <td>[\\n, Grey, \\n]</td>\n",
              "      <td>[\\nMetallic\\n]</td>\n",
              "      <td>[\\nTitanium-Grau Metallic\\n]</td>\n",
              "      <td>[\\nCloth, Black\\n]</td>\n",
              "      <td>[\\n, Station wagon, \\n]</td>\n",
              "      <td>[\\n5\\n]</td>\n",
              "      <td>[\\n5\\n]</td>\n",
              "      <td>[\\n3333/BAS\\n]</td>\n",
              "      <td>[\\n, Automatic, \\n]</td>\n",
              "      <td>[\\n1,461 cc\\n]</td>\n",
              "      <td>[\\n4\\n]</td>\n",
              "      <td>[\\n1,235 kg\\n]</td>\n",
              "      <td>[\\n4WD\\n]</td>\n",
              "      <td>[\\n, Diesel, \\n]</td>\n",
              "      <td>[[4 l/100 km (comb)], [4.3 l/100 km (city)], [...</td>\n",
              "      <td>[\\n104 g CO2/km (comb)\\n]</td>\n",
              "      <td>[\\nEuro 6\\n]</td>\n",
              "      <td>[Air conditioning, Armrest, Cruise control, El...</td>\n",
              "      <td>[Bluetooth, Digital radio, Hands-free equipmen...</td>\n",
              "      <td>[Alloy wheels, Roof rack, Touch screen]</td>\n",
              "      <td>[ABS, Central door lock, Daytime running light...</td>\n",
              "      <td>[\\n, Sicherheit Airbags:,  , Beifahrerairbag, ...</td>\n",
              "      <td>[\\n4 (Green)\\n]</td>\n",
              "      <td>NaN</td>\n",
              "      <td>[\\nGermany\\n]</td>\n",
              "      <td>NaN</td>\n",
              "      <td>NaN</td>\n",
              "      <td>NaN</td>\n",
              "      <td>NaN</td>\n",
              "      <td>NaN</td>\n",
              "      <td>NaN</td>\n",
              "    </tr>\n",
              "    <tr>\n",
              "      <th>13308</th>\n",
              "      <td>Renault Clio</td>\n",
              "      <td>EXCITE Energy dCi 90 EDC</td>\n",
              "      <td>Sedans</td>\n",
              "      <td>12400</td>\n",
              "      <td>None</td>\n",
              "      <td>- km</td>\n",
              "      <td>12/2017</td>\n",
              "      <td>1 previous owner</td>\n",
              "      <td>NaN</td>\n",
              "      <td>66 kW</td>\n",
              "      <td>[, Used, , Diesel]</td>\n",
              "      <td>\\n1\\n</td>\n",
              "      <td>NaN</td>\n",
              "      <td>NaN</td>\n",
              "      <td>NaN</td>\n",
              "      <td>NaN</td>\n",
              "      <td>NaN</td>\n",
              "      <td>[]</td>\n",
              "      <td>\\nRenault\\n</td>\n",
              "      <td>[\\n, Clio, \\n]</td>\n",
              "      <td>[\\n2706101\\n]</td>\n",
              "      <td>[\\n, 2017, \\n]</td>\n",
              "      <td>[\\n, Red, \\n]</td>\n",
              "      <td>NaN</td>\n",
              "      <td>[\\nRosso\\n]</td>\n",
              "      <td>NaN</td>\n",
              "      <td>[\\n, Sedans, \\n]</td>\n",
              "      <td>[\\n5\\n]</td>\n",
              "      <td>[\\n5\\n]</td>\n",
              "      <td>NaN</td>\n",
              "      <td>[\\n, Automatic, \\n]</td>\n",
              "      <td>NaN</td>\n",
              "      <td>[\\n4\\n]</td>\n",
              "      <td>NaN</td>\n",
              "      <td>[\\nfront\\n]</td>\n",
              "      <td>[\\n, Diesel, \\n]</td>\n",
              "      <td>NaN</td>\n",
              "      <td>NaN</td>\n",
              "      <td>NaN</td>\n",
              "      <td>[Air conditioning, Armrest, Cruise control, Le...</td>\n",
              "      <td>[On-board computer, Radio]</td>\n",
              "      <td>[Alloy wheels]</td>\n",
              "      <td>[Central door lock, Daytime running lights, Fo...</td>\n",
              "      <td>[\\nDEK:[2706101], \\n]</td>\n",
              "      <td>NaN</td>\n",
              "      <td>[\\n6\\n]</td>\n",
              "      <td>NaN</td>\n",
              "      <td>NaN</td>\n",
              "      <td>NaN</td>\n",
              "      <td>NaN</td>\n",
              "      <td>NaN</td>\n",
              "      <td>NaN</td>\n",
              "      <td>NaN</td>\n",
              "    </tr>\n",
              "    <tr>\n",
              "      <th>14283</th>\n",
              "      <td>Renault Clio</td>\n",
              "      <td>LIMITED TCe 75</td>\n",
              "      <td>Sedans</td>\n",
              "      <td>9999</td>\n",
              "      <td>VAT deductible</td>\n",
              "      <td>- km</td>\n",
              "      <td>01/2019</td>\n",
              "      <td>1 previous owner</td>\n",
              "      <td>NaN</td>\n",
              "      <td>56 kW</td>\n",
              "      <td>[, Pre-registered, , Super 95]</td>\n",
              "      <td>\\n1\\n</td>\n",
              "      <td>NaN</td>\n",
              "      <td>NaN</td>\n",
              "      <td>NaN</td>\n",
              "      <td>NaN</td>\n",
              "      <td>NaN</td>\n",
              "      <td>[]</td>\n",
              "      <td>\\nRenault\\n</td>\n",
              "      <td>[\\n, Clio, \\n]</td>\n",
              "      <td>[\\nKL_503840\\n]</td>\n",
              "      <td>[\\n, 2019, \\n]</td>\n",
              "      <td>[\\n, Black, \\n]</td>\n",
              "      <td>[\\nMetallic\\n]</td>\n",
              "      <td>[\\nBlack Pearl-Schwarz Metallic\\n]</td>\n",
              "      <td>[\\nCloth, Black\\n]</td>\n",
              "      <td>[\\n, Sedans, \\n]</td>\n",
              "      <td>[\\n5\\n]</td>\n",
              "      <td>NaN</td>\n",
              "      <td>[\\n3333/BJR\\n]</td>\n",
              "      <td>[\\n, Manual, \\n]</td>\n",
              "      <td>[\\n898 cc\\n]</td>\n",
              "      <td>[\\n4\\n]</td>\n",
              "      <td>NaN</td>\n",
              "      <td>NaN</td>\n",
              "      <td>[\\n, Super 95, \\n]</td>\n",
              "      <td>[[5.1 l/100 km (comb)], [6.4 l/100 km (city)],...</td>\n",
              "      <td>[\\n116 g CO2/km (comb)\\n]</td>\n",
              "      <td>[\\nEuro 6\\n]</td>\n",
              "      <td>[Air conditioning, Cruise control, Electrical ...</td>\n",
              "      <td>[USB]</td>\n",
              "      <td>NaN</td>\n",
              "      <td>[ABS, Central door lock, Daytime running light...</td>\n",
              "      <td>[\\n, Sicherheit Airbags:,  , Beifahrerairbag, ...</td>\n",
              "      <td>[\\n4 (Green)\\n]</td>\n",
              "      <td>[\\n5\\n]</td>\n",
              "      <td>[\\nGermany\\n]</td>\n",
              "      <td>NaN</td>\n",
              "      <td>NaN</td>\n",
              "      <td>NaN</td>\n",
              "      <td>NaN</td>\n",
              "      <td>NaN</td>\n",
              "      <td>NaN</td>\n",
              "    </tr>\n",
              "    <tr>\n",
              "      <th>14305</th>\n",
              "      <td>Renault Clio</td>\n",
              "      <td>IV 1.5 dCi Cargo Extra Leicht-LKW EURO6</td>\n",
              "      <td>Compact</td>\n",
              "      <td>9999</td>\n",
              "      <td>VAT deductible</td>\n",
              "      <td>- km</td>\n",
              "      <td>02/2018</td>\n",
              "      <td>1 previous owner</td>\n",
              "      <td>NaN</td>\n",
              "      <td>55 kW</td>\n",
              "      <td>[, Used, , Diesel (Particulate Filter)]</td>\n",
              "      <td>\\n1\\n</td>\n",
              "      <td>[\\n02/2021\\n, \\n90 g CO2/km (comb)\\n]</td>\n",
              "      <td>NaN</td>\n",
              "      <td>NaN</td>\n",
              "      <td>[\\n, \\n, \\nEuro 6\\n]</td>\n",
              "      <td>NaN</td>\n",
              "      <td>[]</td>\n",
              "      <td>\\nRenault\\n</td>\n",
              "      <td>[\\n, Clio, \\n]</td>\n",
              "      <td>[\\nD9_200729\\n]</td>\n",
              "      <td>[\\n, 2018, \\n]</td>\n",
              "      <td>[\\n, White, \\n]</td>\n",
              "      <td>[\\nMetallic\\n]</td>\n",
              "      <td>[\\nArktis-Weiß\\n]</td>\n",
              "      <td>[\\nCloth, Black\\n]</td>\n",
              "      <td>[\\n, Compact, \\n]</td>\n",
              "      <td>[\\n5\\n]</td>\n",
              "      <td>[\\n2\\n]</td>\n",
              "      <td>[\\n3333/BEZ\\n]</td>\n",
              "      <td>[\\n, Manual, \\n]</td>\n",
              "      <td>[\\n1,461 cc\\n]</td>\n",
              "      <td>[\\n4\\n]</td>\n",
              "      <td>[\\n1,280 kg\\n]</td>\n",
              "      <td>NaN</td>\n",
              "      <td>[\\n, Diesel (Particulate Filter), \\n]</td>\n",
              "      <td>[[3.3 l/100 km (comb)], [3.5 l/100 km (city)],...</td>\n",
              "      <td>[\\n90 g CO2/km (comb)\\n]</td>\n",
              "      <td>[\\nEuro 6\\n]</td>\n",
              "      <td>[Air conditioning, Automatic climate control, ...</td>\n",
              "      <td>[Bluetooth, Hands-free equipment, On-board com...</td>\n",
              "      <td>NaN</td>\n",
              "      <td>[ABS, Central door lock, Daytime running light...</td>\n",
              "      <td>[\\n, Sicherheit Airbags:,  , Beifahrerairbag, ...</td>\n",
              "      <td>[\\n4 (Green)\\n]</td>\n",
              "      <td>[\\n5\\n]</td>\n",
              "      <td>[\\nGermany\\n]</td>\n",
              "      <td>NaN</td>\n",
              "      <td>NaN</td>\n",
              "      <td>NaN</td>\n",
              "      <td>NaN</td>\n",
              "      <td>NaN</td>\n",
              "      <td>NaN</td>\n",
              "    </tr>\n",
              "    <tr>\n",
              "      <th>14308</th>\n",
              "      <td>Renault Clio</td>\n",
              "      <td>LIMITED 2018 TCe 75</td>\n",
              "      <td>Sedans</td>\n",
              "      <td>9999</td>\n",
              "      <td>VAT deductible</td>\n",
              "      <td>- km</td>\n",
              "      <td>01/2019</td>\n",
              "      <td>1 previous owner</td>\n",
              "      <td>NaN</td>\n",
              "      <td>56 kW</td>\n",
              "      <td>[, Pre-registered, , Super 95]</td>\n",
              "      <td>\\n1\\n</td>\n",
              "      <td>NaN</td>\n",
              "      <td>NaN</td>\n",
              "      <td>NaN</td>\n",
              "      <td>NaN</td>\n",
              "      <td>NaN</td>\n",
              "      <td>[]</td>\n",
              "      <td>\\nRenault\\n</td>\n",
              "      <td>[\\n, Clio, \\n]</td>\n",
              "      <td>[\\nKL_503779\\n]</td>\n",
              "      <td>[\\n, 2019, \\n]</td>\n",
              "      <td>[\\n, White, \\n]</td>\n",
              "      <td>NaN</td>\n",
              "      <td>[\\nArktis-Weiß\\n]</td>\n",
              "      <td>[\\nCloth, Grey\\n]</td>\n",
              "      <td>[\\n, Sedans, \\n]</td>\n",
              "      <td>[\\n5\\n]</td>\n",
              "      <td>NaN</td>\n",
              "      <td>[\\n3333/BJR\\n]</td>\n",
              "      <td>[\\n, Manual, \\n]</td>\n",
              "      <td>[\\n898 cc\\n]</td>\n",
              "      <td>NaN</td>\n",
              "      <td>NaN</td>\n",
              "      <td>NaN</td>\n",
              "      <td>[\\n, Super 95, \\n]</td>\n",
              "      <td>[[5.2 l/100 km (comb)], [6.5 l/100 km (city)],...</td>\n",
              "      <td>[\\n118 g CO2/km (comb)\\n]</td>\n",
              "      <td>[\\nEuro 6\\n]</td>\n",
              "      <td>[Air conditioning, Cruise control, Electrical ...</td>\n",
              "      <td>[Bluetooth, Hands-free equipment, MP3, Radio, ...</td>\n",
              "      <td>NaN</td>\n",
              "      <td>[ABS, Central door lock, Daytime running light...</td>\n",
              "      <td>[\\n, Sicherheit Airbags:,  , Beifahrerairbag, ...</td>\n",
              "      <td>[\\n4 (Green)\\n]</td>\n",
              "      <td>[\\n5\\n]</td>\n",
              "      <td>[\\nGermany\\n]</td>\n",
              "      <td>NaN</td>\n",
              "      <td>NaN</td>\n",
              "      <td>NaN</td>\n",
              "      <td>NaN</td>\n",
              "      <td>NaN</td>\n",
              "      <td>NaN</td>\n",
              "    </tr>\n",
              "    <tr>\n",
              "      <th>14313</th>\n",
              "      <td>Renault Clio</td>\n",
              "      <td>LIMITED 2018 TCe 75</td>\n",
              "      <td>Sedans</td>\n",
              "      <td>9999</td>\n",
              "      <td>VAT deductible</td>\n",
              "      <td>- km</td>\n",
              "      <td>01/2019</td>\n",
              "      <td>1 previous owner</td>\n",
              "      <td>NaN</td>\n",
              "      <td>56 kW</td>\n",
              "      <td>[, Pre-registered, , Super 95]</td>\n",
              "      <td>\\n1\\n</td>\n",
              "      <td>NaN</td>\n",
              "      <td>NaN</td>\n",
              "      <td>NaN</td>\n",
              "      <td>NaN</td>\n",
              "      <td>NaN</td>\n",
              "      <td>[]</td>\n",
              "      <td>\\nRenault\\n</td>\n",
              "      <td>[\\n, Clio, \\n]</td>\n",
              "      <td>[\\nKL_503781\\n]</td>\n",
              "      <td>[\\n, 2019, \\n]</td>\n",
              "      <td>[\\n, White, \\n]</td>\n",
              "      <td>NaN</td>\n",
              "      <td>[\\nArktis-Weiß\\n]</td>\n",
              "      <td>[\\nCloth, Grey\\n]</td>\n",
              "      <td>[\\n, Sedans, \\n]</td>\n",
              "      <td>[\\n5\\n]</td>\n",
              "      <td>NaN</td>\n",
              "      <td>[\\n3333/BJR\\n]</td>\n",
              "      <td>[\\n, Manual, \\n]</td>\n",
              "      <td>[\\n898 cc\\n]</td>\n",
              "      <td>NaN</td>\n",
              "      <td>[\\n900 kg\\n]</td>\n",
              "      <td>NaN</td>\n",
              "      <td>[\\n, Super 95, \\n]</td>\n",
              "      <td>[[5.2 l/100 km (comb)], [6.5 l/100 km (city)],...</td>\n",
              "      <td>[\\n118 g CO2/km (comb)\\n]</td>\n",
              "      <td>[\\nEuro 6\\n]</td>\n",
              "      <td>[Air conditioning, Cruise control, Electrical ...</td>\n",
              "      <td>[Bluetooth, Hands-free equipment, MP3, Radio, ...</td>\n",
              "      <td>NaN</td>\n",
              "      <td>[ABS, Central door lock, Daytime running light...</td>\n",
              "      <td>[\\n, Sicherheit Airbags:,  , Beifahrerairbag, ...</td>\n",
              "      <td>[\\n4 (Green)\\n]</td>\n",
              "      <td>[\\n5\\n]</td>\n",
              "      <td>[\\nGermany\\n]</td>\n",
              "      <td>NaN</td>\n",
              "      <td>NaN</td>\n",
              "      <td>NaN</td>\n",
              "      <td>NaN</td>\n",
              "      <td>NaN</td>\n",
              "      <td>NaN</td>\n",
              "    </tr>\n",
              "    <tr>\n",
              "      <th>14364</th>\n",
              "      <td>Renault Clio</td>\n",
              "      <td>R.S. TROPHY TCe 220 EDC NAVI SHZ PDC KLIMA</td>\n",
              "      <td>Sedans</td>\n",
              "      <td>25555</td>\n",
              "      <td>VAT deductible</td>\n",
              "      <td>- km</td>\n",
              "      <td>03/2019</td>\n",
              "      <td>1 previous owner</td>\n",
              "      <td>NaN</td>\n",
              "      <td>162 kW</td>\n",
              "      <td>[, Demonstration, , Super 95]</td>\n",
              "      <td>\\n1\\n</td>\n",
              "      <td>NaN</td>\n",
              "      <td>[\\nYes\\n, \\n135 g CO2/km (comb)\\n]</td>\n",
              "      <td>NaN</td>\n",
              "      <td>NaN</td>\n",
              "      <td>NaN</td>\n",
              "      <td>[]</td>\n",
              "      <td>\\nRenault\\n</td>\n",
              "      <td>[\\n, Clio, \\n]</td>\n",
              "      <td>[\\nRe_30000006397\\n]</td>\n",
              "      <td>[\\n, 2019, \\n]</td>\n",
              "      <td>[\\n, Yellow, \\n]</td>\n",
              "      <td>[\\nMetallic\\n]</td>\n",
              "      <td>[\\nSirius-Gelb Metallic\\n]</td>\n",
              "      <td>[\\nFull leather, Black\\n]</td>\n",
              "      <td>[\\n, Sedans, \\n]</td>\n",
              "      <td>[\\n5\\n]</td>\n",
              "      <td>[\\n5\\n]</td>\n",
              "      <td>[\\n3333/BEG\\n]</td>\n",
              "      <td>[\\n, Automatic, \\n]</td>\n",
              "      <td>[\\n1,618 cc\\n]</td>\n",
              "      <td>[\\n4\\n]</td>\n",
              "      <td>[\\n1,279 kg\\n]</td>\n",
              "      <td>NaN</td>\n",
              "      <td>[\\n, Super 95, \\n]</td>\n",
              "      <td>[[5.9 l/100 km (comb)], [7.6 l/100 km (city)],...</td>\n",
              "      <td>[\\n135 g CO2/km (comb)\\n]</td>\n",
              "      <td>[\\nEuro 6\\n]</td>\n",
              "      <td>[Air conditioning, Automatic climate control, ...</td>\n",
              "      <td>[Bluetooth, Digital radio, Hands-free equipmen...</td>\n",
              "      <td>[Alloy wheels, Shift paddles, Sport package, S...</td>\n",
              "      <td>[ABS, Adaptive headlights, Central door lock, ...</td>\n",
              "      <td>[\\n, Sicherheit Airbags:,  , Seitenairbag,  , ...</td>\n",
              "      <td>[\\n4 (Green)\\n]</td>\n",
              "      <td>[\\n6\\n]</td>\n",
              "      <td>[\\nGermany\\n]</td>\n",
              "      <td>NaN</td>\n",
              "      <td>NaN</td>\n",
              "      <td>NaN</td>\n",
              "      <td>NaN</td>\n",
              "      <td>NaN</td>\n",
              "      <td>NaN</td>\n",
              "    </tr>\n",
              "    <tr>\n",
              "      <th>14369</th>\n",
              "      <td>Renault Clio</td>\n",
              "      <td>R.S. TROPHY TCe 220 EDC NAVI SHZ PDC</td>\n",
              "      <td>Sedans</td>\n",
              "      <td>24888</td>\n",
              "      <td>VAT deductible</td>\n",
              "      <td>- km</td>\n",
              "      <td>03/2019</td>\n",
              "      <td>1 previous owner</td>\n",
              "      <td>NaN</td>\n",
              "      <td>162 kW</td>\n",
              "      <td>[, Demonstration, , Super 95]</td>\n",
              "      <td>\\n1\\n</td>\n",
              "      <td>NaN</td>\n",
              "      <td>[\\nYes\\n, \\n135 g CO2/km (comb)\\n]</td>\n",
              "      <td>NaN</td>\n",
              "      <td>NaN</td>\n",
              "      <td>[\\n, \\n, \\nEuro 6\\n]</td>\n",
              "      <td>[]</td>\n",
              "      <td>\\nRenault\\n</td>\n",
              "      <td>[\\n, Clio, \\n]</td>\n",
              "      <td>[\\nRe_30000005678\\n]</td>\n",
              "      <td>[\\n, 2019, \\n]</td>\n",
              "      <td>[\\n, Yellow, \\n]</td>\n",
              "      <td>[\\nMetallic\\n]</td>\n",
              "      <td>[\\nSirius-Gelb Metallic\\n]</td>\n",
              "      <td>[\\nFull leather, Black\\n]</td>\n",
              "      <td>[\\n, Sedans, \\n]</td>\n",
              "      <td>[\\n5\\n]</td>\n",
              "      <td>[\\n5\\n]</td>\n",
              "      <td>[\\n3333/BEG\\n]</td>\n",
              "      <td>[\\n, Automatic, \\n]</td>\n",
              "      <td>[\\n1,618 cc\\n]</td>\n",
              "      <td>[\\n4\\n]</td>\n",
              "      <td>[\\n1,279 kg\\n]</td>\n",
              "      <td>NaN</td>\n",
              "      <td>[\\n, Super 95, \\n]</td>\n",
              "      <td>[[5.9 l/100 km (comb)], [7.6 l/100 km (city)],...</td>\n",
              "      <td>[\\n135 g CO2/km (comb)\\n]</td>\n",
              "      <td>[\\nEuro 6\\n]</td>\n",
              "      <td>[Air conditioning, Automatic climate control, ...</td>\n",
              "      <td>[Bluetooth, Digital radio, Hands-free equipmen...</td>\n",
              "      <td>[Alloy wheels, Shift paddles, Sport seats, Spo...</td>\n",
              "      <td>[ABS, Adaptive headlights, Central door lock, ...</td>\n",
              "      <td>[\\n, Sicherheit Airbags:,  , Seitenairbag,  , ...</td>\n",
              "      <td>[\\n4 (Green)\\n]</td>\n",
              "      <td>[\\n6\\n]</td>\n",
              "      <td>[\\nGermany\\n]</td>\n",
              "      <td>NaN</td>\n",
              "      <td>NaN</td>\n",
              "      <td>NaN</td>\n",
              "      <td>NaN</td>\n",
              "      <td>NaN</td>\n",
              "      <td>NaN</td>\n",
              "    </tr>\n",
              "    <tr>\n",
              "      <th>14402</th>\n",
              "      <td>Renault Clio</td>\n",
              "      <td>R.S. TROPHY ENERGY TCe 220 EDC</td>\n",
              "      <td>Sedans</td>\n",
              "      <td>23021</td>\n",
              "      <td>VAT deductible</td>\n",
              "      <td>- km</td>\n",
              "      <td>08/2018</td>\n",
              "      <td>1 previous owner</td>\n",
              "      <td>NaN</td>\n",
              "      <td>162 kW</td>\n",
              "      <td>[, Pre-registered, , Super 95]</td>\n",
              "      <td>\\n1\\n</td>\n",
              "      <td>[\\n08/2021\\n, \\n135 g CO2/km (comb)\\n]</td>\n",
              "      <td>NaN</td>\n",
              "      <td>NaN</td>\n",
              "      <td>NaN</td>\n",
              "      <td>NaN</td>\n",
              "      <td>[]</td>\n",
              "      <td>\\nRenault\\n</td>\n",
              "      <td>[\\n, Clio, \\n]</td>\n",
              "      <td>[\\nD9_6075PR8\\n]</td>\n",
              "      <td>[\\n, 2018, \\n]</td>\n",
              "      <td>[\\n, Black, \\n]</td>\n",
              "      <td>[\\nMetallic\\n]</td>\n",
              "      <td>[\\nTiefschwarz Metallic\\n]</td>\n",
              "      <td>[\\nFull leather, Black\\n]</td>\n",
              "      <td>[\\n, Sedans, \\n]</td>\n",
              "      <td>[\\n5\\n]</td>\n",
              "      <td>[\\n5\\n]</td>\n",
              "      <td>[\\n3333/BEG\\n]</td>\n",
              "      <td>[\\n, Automatic, \\n]</td>\n",
              "      <td>[\\n1,618 cc\\n]</td>\n",
              "      <td>[\\n4\\n]</td>\n",
              "      <td>[\\n1,279 kg\\n]</td>\n",
              "      <td>[\\n4WD\\n]</td>\n",
              "      <td>[\\n, Super 95, \\n]</td>\n",
              "      <td>[[5.9 l/100 km (comb)], [7.6 l/100 km (city)],...</td>\n",
              "      <td>[\\n135 g CO2/km (comb)\\n]</td>\n",
              "      <td>[\\nEuro 6\\n]</td>\n",
              "      <td>[Air conditioning, Cruise control, Electrical ...</td>\n",
              "      <td>[Sound system, USB]</td>\n",
              "      <td>[Alloy wheels, Sport suspension]</td>\n",
              "      <td>[ABS, Central door lock, Daytime running light...</td>\n",
              "      <td>[\\n, Sicherheit Airbags:,  , Beifahrerairbag, ...</td>\n",
              "      <td>[\\n4 (Green)\\n]</td>\n",
              "      <td>[\\n6\\n]</td>\n",
              "      <td>[\\nGermany\\n]</td>\n",
              "      <td>NaN</td>\n",
              "      <td>NaN</td>\n",
              "      <td>NaN</td>\n",
              "      <td>NaN</td>\n",
              "      <td>NaN</td>\n",
              "      <td>NaN</td>\n",
              "    </tr>\n",
              "    <tr>\n",
              "      <th>14403</th>\n",
              "      <td>Renault Clio</td>\n",
              "      <td>R.S. TROPHY ENERGY TCe 220 EDC</td>\n",
              "      <td>Sedans</td>\n",
              "      <td>23021</td>\n",
              "      <td>VAT deductible</td>\n",
              "      <td>- km</td>\n",
              "      <td>08/2018</td>\n",
              "      <td>1 previous owner</td>\n",
              "      <td>NaN</td>\n",
              "      <td>162 kW</td>\n",
              "      <td>[, Pre-registered, , Super 95]</td>\n",
              "      <td>\\n1\\n</td>\n",
              "      <td>[\\n08/2021\\n, \\n135 g CO2/km (comb)\\n]</td>\n",
              "      <td>NaN</td>\n",
              "      <td>NaN</td>\n",
              "      <td>NaN</td>\n",
              "      <td>NaN</td>\n",
              "      <td>[]</td>\n",
              "      <td>\\nRenault\\n</td>\n",
              "      <td>[\\n, Clio, \\n]</td>\n",
              "      <td>[\\nD9_6065PR8\\n]</td>\n",
              "      <td>[\\n, 2018, \\n]</td>\n",
              "      <td>[\\n, Black, \\n]</td>\n",
              "      <td>[\\nMetallic\\n]</td>\n",
              "      <td>[\\nTiefschwarz Metallic\\n]</td>\n",
              "      <td>[\\nFull leather, Black\\n]</td>\n",
              "      <td>[\\n, Sedans, \\n]</td>\n",
              "      <td>[\\n5\\n]</td>\n",
              "      <td>[\\n5\\n]</td>\n",
              "      <td>[\\n3333/BEG\\n]</td>\n",
              "      <td>[\\n, Automatic, \\n]</td>\n",
              "      <td>[\\n1,618 cc\\n]</td>\n",
              "      <td>[\\n4\\n]</td>\n",
              "      <td>[\\n1,279 kg\\n]</td>\n",
              "      <td>NaN</td>\n",
              "      <td>[\\n, Super 95, \\n]</td>\n",
              "      <td>[[5.9 l/100 km (comb)], [7.6 l/100 km (city)],...</td>\n",
              "      <td>[\\n135 g CO2/km (comb)\\n]</td>\n",
              "      <td>[\\nEuro 6\\n]</td>\n",
              "      <td>[Air conditioning, Cruise control, Electrical ...</td>\n",
              "      <td>[Sound system, USB]</td>\n",
              "      <td>[Alloy wheels, Sport suspension]</td>\n",
              "      <td>[ABS, Central door lock, Daytime running light...</td>\n",
              "      <td>[\\n, Sicherheit Airbags:,  , Beifahrerairbag, ...</td>\n",
              "      <td>[\\n4 (Green)\\n]</td>\n",
              "      <td>NaN</td>\n",
              "      <td>[\\nGermany\\n]</td>\n",
              "      <td>NaN</td>\n",
              "      <td>NaN</td>\n",
              "      <td>NaN</td>\n",
              "      <td>NaN</td>\n",
              "      <td>NaN</td>\n",
              "      <td>NaN</td>\n",
              "    </tr>\n",
              "    <tr>\n",
              "      <th>14801</th>\n",
              "      <td>Renault Clio</td>\n",
              "      <td>LIFE TCE 75PS E6C WLTP</td>\n",
              "      <td>Sedans</td>\n",
              "      <td>10990</td>\n",
              "      <td>VAT deductible</td>\n",
              "      <td>- km</td>\n",
              "      <td>04/2019</td>\n",
              "      <td>1 previous owner</td>\n",
              "      <td>NaN</td>\n",
              "      <td>55 kW</td>\n",
              "      <td>[, Used, , Gasoline]</td>\n",
              "      <td>\\n1\\n</td>\n",
              "      <td>[\\n04/2022\\n, \\n114 g CO2/km (comb)\\n]</td>\n",
              "      <td>NaN</td>\n",
              "      <td>NaN</td>\n",
              "      <td>NaN</td>\n",
              "      <td>NaN</td>\n",
              "      <td>[]</td>\n",
              "      <td>\\nRenault\\n</td>\n",
              "      <td>[\\n, Clio, \\n]</td>\n",
              "      <td>NaN</td>\n",
              "      <td>[\\n, 2019, \\n]</td>\n",
              "      <td>[\\n, White, \\n]</td>\n",
              "      <td>NaN</td>\n",
              "      <td>[\\nWeiss\\n]</td>\n",
              "      <td>[\\nOther, Black\\n]</td>\n",
              "      <td>[\\n, Sedans, \\n]</td>\n",
              "      <td>[\\n5\\n]</td>\n",
              "      <td>[\\n5\\n]</td>\n",
              "      <td>NaN</td>\n",
              "      <td>[\\n, Manual, \\n]</td>\n",
              "      <td>[\\n898 cc\\n]</td>\n",
              "      <td>NaN</td>\n",
              "      <td>NaN</td>\n",
              "      <td>[\\nfront\\n]</td>\n",
              "      <td>[\\n, Gasoline, \\n]</td>\n",
              "      <td>[[5 l/100 km (comb)], [], []]</td>\n",
              "      <td>[\\n114 g CO2/km (comb)\\n]</td>\n",
              "      <td>[\\nEuro 6\\n]</td>\n",
              "      <td>[Electrical side mirrors, Multi-function steer...</td>\n",
              "      <td>[Bluetooth, Hands-free equipment, MP3, On-boar...</td>\n",
              "      <td>NaN</td>\n",
              "      <td>[ABS, Central door lock, Daytime running light...</td>\n",
              "      <td>[\\n3. Bremsleuchte, ABS, Airbag-Kopf vorne, mi...</td>\n",
              "      <td>NaN</td>\n",
              "      <td>NaN</td>\n",
              "      <td>NaN</td>\n",
              "      <td>NaN</td>\n",
              "      <td>NaN</td>\n",
              "      <td>NaN</td>\n",
              "      <td>NaN</td>\n",
              "      <td>NaN</td>\n",
              "      <td>NaN</td>\n",
              "    </tr>\n",
              "    <tr>\n",
              "      <th>14856</th>\n",
              "      <td>Renault Clio</td>\n",
              "      <td>Energy TCe *BT *DAB *Tempomat *PDC hinten</td>\n",
              "      <td>Compact</td>\n",
              "      <td>11270</td>\n",
              "      <td>VAT deductible</td>\n",
              "      <td>- km</td>\n",
              "      <td>02/2019</td>\n",
              "      <td>1 previous owner</td>\n",
              "      <td>NaN</td>\n",
              "      <td>55 kW</td>\n",
              "      <td>[, Pre-registered, , Super 95]</td>\n",
              "      <td>\\n1\\n</td>\n",
              "      <td>NaN</td>\n",
              "      <td>NaN</td>\n",
              "      <td>[\\n, \\n, \\n113 g CO2/km (comb)\\n]</td>\n",
              "      <td>[\\n, \\n, \\nEuro 6d-TEMP\\n]</td>\n",
              "      <td>[\\n, \\n, \\n4 (Green)\\n]</td>\n",
              "      <td>[]</td>\n",
              "      <td>\\nRenault\\n</td>\n",
              "      <td>[\\n, Clio, \\n]</td>\n",
              "      <td>[\\n95869\\n]</td>\n",
              "      <td>[\\n, 2019, \\n]</td>\n",
              "      <td>[\\n, Grey, \\n]</td>\n",
              "      <td>NaN</td>\n",
              "      <td>[\\nTitanium-Grau\\n]</td>\n",
              "      <td>[\\nCloth, Black\\n]</td>\n",
              "      <td>[\\n, Compact, \\n]</td>\n",
              "      <td>[\\n4\\n]</td>\n",
              "      <td>[\\n5\\n]</td>\n",
              "      <td>NaN</td>\n",
              "      <td>[\\n, Manual, \\n]</td>\n",
              "      <td>[\\n898 cc\\n]</td>\n",
              "      <td>NaN</td>\n",
              "      <td>NaN</td>\n",
              "      <td>NaN</td>\n",
              "      <td>[\\n, Super 95, \\n]</td>\n",
              "      <td>[[5 l/100 km (comb)], [6.3 l/100 km (city)], [...</td>\n",
              "      <td>[\\n113 g CO2/km (comb)\\n]</td>\n",
              "      <td>[\\nEuro 6d-TEMP\\n]</td>\n",
              "      <td>[Air conditioning, Cruise control, Electrical ...</td>\n",
              "      <td>[Bluetooth, Digital radio, Hands-free equipmen...</td>\n",
              "      <td>NaN</td>\n",
              "      <td>[ABS, Central door lock, Daytime running light...</td>\n",
              "      <td>[\\n, 2 Jahre Garantie inklusive!, AUF WUNSCH B...</td>\n",
              "      <td>NaN</td>\n",
              "      <td>NaN</td>\n",
              "      <td>[\\nEuropean Union\\n]</td>\n",
              "      <td>NaN</td>\n",
              "      <td>NaN</td>\n",
              "      <td>NaN</td>\n",
              "      <td>NaN</td>\n",
              "      <td>NaN</td>\n",
              "      <td>NaN</td>\n",
              "    </tr>\n",
              "    <tr>\n",
              "      <th>15446</th>\n",
              "      <td>Renault Espace</td>\n",
              "      <td>dCi 160CV EDC Energy Executive 4Control</td>\n",
              "      <td>Van</td>\n",
              "      <td>33500</td>\n",
              "      <td>None</td>\n",
              "      <td>- km</td>\n",
              "      <td>12/2018</td>\n",
              "      <td>1 previous owner</td>\n",
              "      <td>NaN</td>\n",
              "      <td>118 kW</td>\n",
              "      <td>[, Pre-registered, , Diesel (Particulate Filter)]</td>\n",
              "      <td>\\n1\\n</td>\n",
              "      <td>NaN</td>\n",
              "      <td>NaN</td>\n",
              "      <td>NaN</td>\n",
              "      <td>NaN</td>\n",
              "      <td>NaN</td>\n",
              "      <td>[]</td>\n",
              "      <td>\\nRenault\\n</td>\n",
              "      <td>[\\n, Espace, \\n]</td>\n",
              "      <td>[\\n2074287\\n]</td>\n",
              "      <td>[\\n, 2018, \\n]</td>\n",
              "      <td>[\\n, Black, \\n]</td>\n",
              "      <td>NaN</td>\n",
              "      <td>[\\nNero\\n]</td>\n",
              "      <td>NaN</td>\n",
              "      <td>[\\n, Van, \\n]</td>\n",
              "      <td>[\\n5\\n]</td>\n",
              "      <td>[\\n7\\n]</td>\n",
              "      <td>NaN</td>\n",
              "      <td>[\\n, Automatic, \\n]</td>\n",
              "      <td>[\\n1,598 cc\\n]</td>\n",
              "      <td>[\\n4\\n]</td>\n",
              "      <td>[\\n1,734 kg\\n]</td>\n",
              "      <td>[\\nfront\\n]</td>\n",
              "      <td>[\\n, Diesel (Particulate Filter), \\n]</td>\n",
              "      <td>[[4.7 l/100 km (comb)], [5.1 l/100 km (city)],...</td>\n",
              "      <td>[\\n120 g CO2/km (comb)\\n]</td>\n",
              "      <td>[\\nEuro 6\\n]</td>\n",
              "      <td>[Air conditioning, Automatic climate control, ...</td>\n",
              "      <td>[Bluetooth, Digital radio, Radio, USB]</td>\n",
              "      <td>[Alloy wheels, Touch screen]</td>\n",
              "      <td>[ABS, Blind spot monitor, Driver-side airbag, ...</td>\n",
              "      <td>[\\nDEK:[2074287], EQUIPAGGIAMENTI OPTIONAL :, ...</td>\n",
              "      <td>NaN</td>\n",
              "      <td>[\\n6\\n]</td>\n",
              "      <td>NaN</td>\n",
              "      <td>NaN</td>\n",
              "      <td>NaN</td>\n",
              "      <td>NaN</td>\n",
              "      <td>NaN</td>\n",
              "      <td>NaN</td>\n",
              "      <td>NaN</td>\n",
              "    </tr>\n",
              "    <tr>\n",
              "      <th>15503</th>\n",
              "      <td>Renault Espace</td>\n",
              "      <td>1.6 dCi Energy Intens EDC 7pl. FULL LED / CUIR...</td>\n",
              "      <td>Van</td>\n",
              "      <td>32498</td>\n",
              "      <td>VAT deductible</td>\n",
              "      <td>- km</td>\n",
              "      <td>10/2018</td>\n",
              "      <td>1 previous owner</td>\n",
              "      <td>NaN</td>\n",
              "      <td>118 kW</td>\n",
              "      <td>[, New, , Diesel]</td>\n",
              "      <td>\\n1\\n</td>\n",
              "      <td>NaN</td>\n",
              "      <td>NaN</td>\n",
              "      <td>[\\n24 months\\n]</td>\n",
              "      <td>NaN</td>\n",
              "      <td>NaN</td>\n",
              "      <td>[]</td>\n",
              "      <td>\\nRenault\\n</td>\n",
              "      <td>[\\n, Espace, \\n]</td>\n",
              "      <td>[\\nREN6056954501\\n]</td>\n",
              "      <td>[\\n, 2018, \\n]</td>\n",
              "      <td>[\\n, White, \\n]</td>\n",
              "      <td>[\\nMetallic\\n]</td>\n",
              "      <td>NaN</td>\n",
              "      <td>[\\nFull leather, Other\\n]</td>\n",
              "      <td>[\\n, Van, \\n]</td>\n",
              "      <td>[\\n5\\n]</td>\n",
              "      <td>[\\n7\\n]</td>\n",
              "      <td>NaN</td>\n",
              "      <td>[\\n, Automatic, \\n]</td>\n",
              "      <td>[\\n1,598 cc\\n]</td>\n",
              "      <td>[\\n4\\n]</td>\n",
              "      <td>[\\n1,734 kg\\n]</td>\n",
              "      <td>NaN</td>\n",
              "      <td>[\\n, Diesel, \\n]</td>\n",
              "      <td>NaN</td>\n",
              "      <td>NaN</td>\n",
              "      <td>NaN</td>\n",
              "      <td>[Air conditioning, Automatic climate control, ...</td>\n",
              "      <td>[On-board computer]</td>\n",
              "      <td>NaN</td>\n",
              "      <td>[ABS, Central door lock, Electronic stability ...</td>\n",
              "      <td>[\\n*Pack Cruising, *Véhicule 100% neuf, prêt à...</td>\n",
              "      <td>NaN</td>\n",
              "      <td>[\\n6\\n]</td>\n",
              "      <td>NaN</td>\n",
              "      <td>NaN</td>\n",
              "      <td>NaN</td>\n",
              "      <td>NaN</td>\n",
              "      <td>NaN</td>\n",
              "      <td>NaN</td>\n",
              "      <td>NaN</td>\n",
              "    </tr>\n",
              "    <tr>\n",
              "      <th>15568</th>\n",
              "      <td>Renault Espace</td>\n",
              "      <td>1.6 dCi 160 CV EDC Intens</td>\n",
              "      <td>Van</td>\n",
              "      <td>31900</td>\n",
              "      <td>VAT deductible</td>\n",
              "      <td>- km</td>\n",
              "      <td>04/2018</td>\n",
              "      <td>1 previous owner</td>\n",
              "      <td>NaN</td>\n",
              "      <td>118 kW</td>\n",
              "      <td>[, Pre-registered, , Diesel (Particulate Filter)]</td>\n",
              "      <td>\\n1\\n</td>\n",
              "      <td>NaN</td>\n",
              "      <td>NaN</td>\n",
              "      <td>[\\n, \\n, \\n120 g CO2/km (comb)\\n]</td>\n",
              "      <td>NaN</td>\n",
              "      <td>NaN</td>\n",
              "      <td>[]</td>\n",
              "      <td>\\nRenault\\n</td>\n",
              "      <td>[\\n, Espace, \\n]</td>\n",
              "      <td>[\\n2282256\\n]</td>\n",
              "      <td>[\\n, 2018, \\n]</td>\n",
              "      <td>[\\n, Grey, \\n]</td>\n",
              "      <td>NaN</td>\n",
              "      <td>[\\nGrigio\\n]</td>\n",
              "      <td>NaN</td>\n",
              "      <td>[\\n, Van, \\n]</td>\n",
              "      <td>[\\n5\\n]</td>\n",
              "      <td>[\\n5\\n]</td>\n",
              "      <td>NaN</td>\n",
              "      <td>[\\n, Automatic, \\n]</td>\n",
              "      <td>[\\n1,598 cc\\n]</td>\n",
              "      <td>[\\n4\\n]</td>\n",
              "      <td>[\\n1,659 kg\\n]</td>\n",
              "      <td>[\\nfront\\n]</td>\n",
              "      <td>[\\n, Diesel (Particulate Filter), \\n]</td>\n",
              "      <td>[[4.7 l/100 km (comb)], [5.1 l/100 km (city)],...</td>\n",
              "      <td>[\\n120 g CO2/km (comb)\\n]</td>\n",
              "      <td>[\\nEuro 6\\n]</td>\n",
              "      <td>[Air conditioning, Automatic climate control, ...</td>\n",
              "      <td>[Bluetooth, USB]</td>\n",
              "      <td>[Alloy wheels]</td>\n",
              "      <td>[ABS, Driver-side airbag, Electronic stability...</td>\n",
              "      <td>[\\nDEK:[2282256], \\n]</td>\n",
              "      <td>NaN</td>\n",
              "      <td>[\\n6\\n]</td>\n",
              "      <td>NaN</td>\n",
              "      <td>NaN</td>\n",
              "      <td>NaN</td>\n",
              "      <td>NaN</td>\n",
              "      <td>NaN</td>\n",
              "      <td>NaN</td>\n",
              "      <td>NaN</td>\n",
              "    </tr>\n",
              "    <tr>\n",
              "      <th>15753</th>\n",
              "      <td>Renault Espace</td>\n",
              "      <td>LIMITED TCe 225 EDC GPF</td>\n",
              "      <td>Van</td>\n",
              "      <td>34798</td>\n",
              "      <td>VAT deductible</td>\n",
              "      <td>- km</td>\n",
              "      <td>12/2018</td>\n",
              "      <td>1 previous owner</td>\n",
              "      <td>NaN</td>\n",
              "      <td>165 kW</td>\n",
              "      <td>[, Pre-registered, , Super 95]</td>\n",
              "      <td>\\n1\\n</td>\n",
              "      <td>[\\n12/2021\\n, \\n153 g CO2/km (comb)\\n]</td>\n",
              "      <td>NaN</td>\n",
              "      <td>NaN</td>\n",
              "      <td>NaN</td>\n",
              "      <td>NaN</td>\n",
              "      <td>[]</td>\n",
              "      <td>\\nRenault\\n</td>\n",
              "      <td>[\\n, Espace, \\n]</td>\n",
              "      <td>[\\nD9_C1782R8\\n]</td>\n",
              "      <td>[\\n, 2018, \\n]</td>\n",
              "      <td>[\\n, Grey, \\n]</td>\n",
              "      <td>[\\nMetallic\\n]</td>\n",
              "      <td>[\\nTitanium-Grau Metallic (Grau)\\n]</td>\n",
              "      <td>[\\nCloth, Brown\\n]</td>\n",
              "      <td>[\\n, Van, \\n]</td>\n",
              "      <td>[\\n5\\n]</td>\n",
              "      <td>[\\n5\\n]</td>\n",
              "      <td>[\\n3333/BHJ\\n]</td>\n",
              "      <td>[\\n, Automatic, \\n]</td>\n",
              "      <td>[\\n1,798 cc\\n]</td>\n",
              "      <td>[\\n4\\n]</td>\n",
              "      <td>[\\n1,880 kg\\n]</td>\n",
              "      <td>NaN</td>\n",
              "      <td>[\\n, Super 95, \\n]</td>\n",
              "      <td>[[6.8 l/100 km (comb)], [8.7 l/100 km (city)],...</td>\n",
              "      <td>[\\n153 g CO2/km (comb)\\n]</td>\n",
              "      <td>[\\nEuro 6\\n]</td>\n",
              "      <td>[Air conditioning, Automatic climate control, ...</td>\n",
              "      <td>NaN</td>\n",
              "      <td>[Alloy wheels, Touch screen]</td>\n",
              "      <td>[ABS, Blind spot monitor, Daytime running ligh...</td>\n",
              "      <td>[\\n, Sicherheit Airbags:,  , Beifahrerairbag, ...</td>\n",
              "      <td>[\\n4 (Green)\\n]</td>\n",
              "      <td>NaN</td>\n",
              "      <td>[\\nGermany\\n]</td>\n",
              "      <td>NaN</td>\n",
              "      <td>NaN</td>\n",
              "      <td>NaN</td>\n",
              "      <td>NaN</td>\n",
              "      <td>NaN</td>\n",
              "      <td>NaN</td>\n",
              "    </tr>\n",
              "    <tr>\n",
              "      <th>15772</th>\n",
              "      <td>Renault Espace</td>\n",
              "      <td>LIMITED TCe 225 EDC GPF</td>\n",
              "      <td>Van</td>\n",
              "      <td>35798</td>\n",
              "      <td>VAT deductible</td>\n",
              "      <td>- km</td>\n",
              "      <td>12/2018</td>\n",
              "      <td>1 previous owner</td>\n",
              "      <td>NaN</td>\n",
              "      <td>165 kW</td>\n",
              "      <td>[, Pre-registered, , Super 95]</td>\n",
              "      <td>\\n1\\n</td>\n",
              "      <td>[\\n12/2021\\n, \\n153 g CO2/km (comb)\\n]</td>\n",
              "      <td>NaN</td>\n",
              "      <td>NaN</td>\n",
              "      <td>NaN</td>\n",
              "      <td>NaN</td>\n",
              "      <td>[]</td>\n",
              "      <td>\\nRenault\\n</td>\n",
              "      <td>[\\n, Espace, \\n]</td>\n",
              "      <td>[\\nD9_C1776R8\\n]</td>\n",
              "      <td>[\\n, 2018, \\n]</td>\n",
              "      <td>[\\n, White, \\n]</td>\n",
              "      <td>[\\nMetallic\\n]</td>\n",
              "      <td>[\\nPerlmutt-Weiß Metallic\\n]</td>\n",
              "      <td>[\\nCloth, Brown\\n]</td>\n",
              "      <td>[\\n, Van, \\n]</td>\n",
              "      <td>[\\n5\\n]</td>\n",
              "      <td>[\\n5\\n]</td>\n",
              "      <td>[\\n3333/BHJ\\n]</td>\n",
              "      <td>[\\n, Automatic, \\n]</td>\n",
              "      <td>[\\n1,798 cc\\n]</td>\n",
              "      <td>[\\n4\\n]</td>\n",
              "      <td>[\\n1,685 kg\\n]</td>\n",
              "      <td>NaN</td>\n",
              "      <td>[\\n, Super 95, \\n]</td>\n",
              "      <td>[[6.8 l/100 km (comb)], [8.7 l/100 km (city)],...</td>\n",
              "      <td>[\\n153 g CO2/km (comb)\\n]</td>\n",
              "      <td>[\\nEuro 6\\n]</td>\n",
              "      <td>[Air conditioning, Automatic climate control, ...</td>\n",
              "      <td>NaN</td>\n",
              "      <td>[Alloy wheels, Touch screen]</td>\n",
              "      <td>[ABS, Blind spot monitor, Daytime running ligh...</td>\n",
              "      <td>[\\n, Sicherheit Airbags:,  , Beifahrerairbag, ...</td>\n",
              "      <td>[\\n4 (Green)\\n]</td>\n",
              "      <td>NaN</td>\n",
              "      <td>[\\nGermany\\n]</td>\n",
              "      <td>NaN</td>\n",
              "      <td>NaN</td>\n",
              "      <td>NaN</td>\n",
              "      <td>NaN</td>\n",
              "      <td>NaN</td>\n",
              "      <td>NaN</td>\n",
              "    </tr>\n",
              "    <tr>\n",
              "      <th>15774</th>\n",
              "      <td>Renault Espace</td>\n",
              "      <td>Blue dCi 200CV EDC Executive 4Control rif.FV976</td>\n",
              "      <td>Van</td>\n",
              "      <td>35900</td>\n",
              "      <td>VAT deductible</td>\n",
              "      <td>- km</td>\n",
              "      <td>02/2019</td>\n",
              "      <td>1 previous owner</td>\n",
              "      <td>NaN</td>\n",
              "      <td>147 kW</td>\n",
              "      <td>[, Employee's car, , Diesel]</td>\n",
              "      <td>\\n1\\n</td>\n",
              "      <td>NaN</td>\n",
              "      <td>NaN</td>\n",
              "      <td>[\\n24 months\\n, \\n139 g CO2/km (comb)\\n]</td>\n",
              "      <td>NaN</td>\n",
              "      <td>NaN</td>\n",
              "      <td>[]</td>\n",
              "      <td>\\nRenault\\n</td>\n",
              "      <td>[\\n, Espace, \\n]</td>\n",
              "      <td>[\\n2644457\\n]</td>\n",
              "      <td>[\\n, 2019, \\n]</td>\n",
              "      <td>[\\n, Grey, \\n]</td>\n",
              "      <td>[\\nMetallic\\n]</td>\n",
              "      <td>[\\nGrigio\\n]</td>\n",
              "      <td>[\\nFull leather, Beige\\n]</td>\n",
              "      <td>[\\n, Van, \\n]</td>\n",
              "      <td>[\\n5\\n]</td>\n",
              "      <td>[\\n5\\n]</td>\n",
              "      <td>NaN</td>\n",
              "      <td>[\\n, Automatic, \\n]</td>\n",
              "      <td>[\\n1,997 cc\\n]</td>\n",
              "      <td>[\\n4\\n]</td>\n",
              "      <td>[\\n1,758 kg\\n]</td>\n",
              "      <td>[\\nfront\\n]</td>\n",
              "      <td>[\\n, Diesel, \\n]</td>\n",
              "      <td>[[5.3 l/100 km (comb)], [6.2 l/100 km (city)],...</td>\n",
              "      <td>[\\n139 g CO2/km (comb)\\n]</td>\n",
              "      <td>[\\nEuro 6\\n]</td>\n",
              "      <td>[Air conditioning, Automatic climate control, ...</td>\n",
              "      <td>[Bluetooth, Digital radio, Radio, USB]</td>\n",
              "      <td>[Alloy wheels, Touch screen]</td>\n",
              "      <td>[ABS, Blind spot monitor, Driver-side airbag, ...</td>\n",
              "      <td>[\\nDEK:[2644457], VETTURA DISPONIBILE PRESSO I...</td>\n",
              "      <td>NaN</td>\n",
              "      <td>[\\n6\\n]</td>\n",
              "      <td>NaN</td>\n",
              "      <td>NaN</td>\n",
              "      <td>NaN</td>\n",
              "      <td>NaN</td>\n",
              "      <td>NaN</td>\n",
              "      <td>NaN</td>\n",
              "      <td>NaN</td>\n",
              "    </tr>\n",
              "    <tr>\n",
              "      <th>15776</th>\n",
              "      <td>Renault Espace</td>\n",
              "      <td>LIMITED TCe 225 EDC GPF</td>\n",
              "      <td>Van</td>\n",
              "      <td>35798</td>\n",
              "      <td>VAT deductible</td>\n",
              "      <td>- km</td>\n",
              "      <td>12/2018</td>\n",
              "      <td>1 previous owner</td>\n",
              "      <td>NaN</td>\n",
              "      <td>165 kW</td>\n",
              "      <td>[, Pre-registered, , Super 95]</td>\n",
              "      <td>\\n1\\n</td>\n",
              "      <td>[\\n12/2021\\n, \\n153 g CO2/km (comb)\\n]</td>\n",
              "      <td>NaN</td>\n",
              "      <td>NaN</td>\n",
              "      <td>NaN</td>\n",
              "      <td>NaN</td>\n",
              "      <td>[]</td>\n",
              "      <td>\\nRenault\\n</td>\n",
              "      <td>[\\n, Espace, \\n]</td>\n",
              "      <td>[\\nD9_C1783R8\\n]</td>\n",
              "      <td>[\\n, 2018, \\n]</td>\n",
              "      <td>[\\n, Grey, \\n]</td>\n",
              "      <td>[\\nMetallic\\n]</td>\n",
              "      <td>[\\nTitanium-Grau Metallic (Grau)\\n]</td>\n",
              "      <td>[\\nCloth, Brown\\n]</td>\n",
              "      <td>[\\n, Van, \\n]</td>\n",
              "      <td>[\\n5\\n]</td>\n",
              "      <td>[\\n5\\n]</td>\n",
              "      <td>[\\n3333/BHJ\\n]</td>\n",
              "      <td>[\\n, Automatic, \\n]</td>\n",
              "      <td>[\\n1,798 cc\\n]</td>\n",
              "      <td>[\\n4\\n]</td>\n",
              "      <td>[\\n1,685 kg\\n]</td>\n",
              "      <td>NaN</td>\n",
              "      <td>[\\n, Super 95, \\n]</td>\n",
              "      <td>[[6.8 l/100 km (comb)], [8.7 l/100 km (city)],...</td>\n",
              "      <td>[\\n153 g CO2/km (comb)\\n]</td>\n",
              "      <td>[\\nEuro 6\\n]</td>\n",
              "      <td>[Air conditioning, Automatic climate control, ...</td>\n",
              "      <td>NaN</td>\n",
              "      <td>[Alloy wheels, Touch screen]</td>\n",
              "      <td>[ABS, Blind spot monitor, Daytime running ligh...</td>\n",
              "      <td>[\\n, Sicherheit Airbags:,  , Beifahrerairbag, ...</td>\n",
              "      <td>[\\n4 (Green)\\n]</td>\n",
              "      <td>NaN</td>\n",
              "      <td>[\\nGermany\\n]</td>\n",
              "      <td>NaN</td>\n",
              "      <td>NaN</td>\n",
              "      <td>NaN</td>\n",
              "      <td>NaN</td>\n",
              "      <td>NaN</td>\n",
              "      <td>NaN</td>\n",
              "    </tr>\n",
              "    <tr>\n",
              "      <th>15806</th>\n",
              "      <td>Renault Espace</td>\n",
              "      <td>INITIALE PARIS TCe 225 EDC GPF NAVI SHZ AUX</td>\n",
              "      <td>Van</td>\n",
              "      <td>40999</td>\n",
              "      <td>VAT deductible</td>\n",
              "      <td>- km</td>\n",
              "      <td>01/2019</td>\n",
              "      <td>1 previous owner</td>\n",
              "      <td>NaN</td>\n",
              "      <td>165 kW</td>\n",
              "      <td>[, Demonstration, , Super 95]</td>\n",
              "      <td>\\n1\\n</td>\n",
              "      <td>NaN</td>\n",
              "      <td>[\\nYes\\n, \\n153 g CO2/km (comb)\\n]</td>\n",
              "      <td>NaN</td>\n",
              "      <td>NaN</td>\n",
              "      <td>NaN</td>\n",
              "      <td>[]</td>\n",
              "      <td>\\nRenault\\n</td>\n",
              "      <td>[\\n, Espace, \\n]</td>\n",
              "      <td>[\\nRe_30000008377\\n]</td>\n",
              "      <td>[\\n, 2019, \\n]</td>\n",
              "      <td>[\\n, Black, \\n]</td>\n",
              "      <td>[\\nMetallic\\n]</td>\n",
              "      <td>[\\nBlack Pearl-Schwarz Metallic\\n]</td>\n",
              "      <td>[\\nFull leather, Brown\\n]</td>\n",
              "      <td>[\\n, Van, \\n]</td>\n",
              "      <td>[\\n5\\n]</td>\n",
              "      <td>[\\n5\\n]</td>\n",
              "      <td>[\\n3333/BHJ\\n]</td>\n",
              "      <td>[\\n, Automatic, \\n]</td>\n",
              "      <td>[\\n1,798 cc\\n]</td>\n",
              "      <td>[\\n4\\n]</td>\n",
              "      <td>[\\n1,685 kg\\n]</td>\n",
              "      <td>[\\n4WD\\n]</td>\n",
              "      <td>[\\n, Super 95, \\n]</td>\n",
              "      <td>[[6.8 l/100 km (comb)], [8.7 l/100 km (city)],...</td>\n",
              "      <td>[\\n153 g CO2/km (comb)\\n]</td>\n",
              "      <td>[\\nEuro 6\\n]</td>\n",
              "      <td>[Air conditioning, Automatic climate control, ...</td>\n",
              "      <td>[USB]</td>\n",
              "      <td>[Alloy wheels, Touch screen]</td>\n",
              "      <td>[ABS, Blind spot monitor, Daytime running ligh...</td>\n",
              "      <td>[\\n, Sicherheit Airbags:,  , Seitenairbag,  , ...</td>\n",
              "      <td>[\\n4 (Green)\\n]</td>\n",
              "      <td>NaN</td>\n",
              "      <td>[\\nGermany\\n]</td>\n",
              "      <td>NaN</td>\n",
              "      <td>NaN</td>\n",
              "      <td>NaN</td>\n",
              "      <td>NaN</td>\n",
              "      <td>NaN</td>\n",
              "      <td>NaN</td>\n",
              "    </tr>\n",
              "    <tr>\n",
              "      <th>15837</th>\n",
              "      <td>Renault Espace</td>\n",
              "      <td>dCi 160 Initiale Paris LED Navi Klimaaut. Sitz...</td>\n",
              "      <td>Van</td>\n",
              "      <td>47450</td>\n",
              "      <td>VAT deductible</td>\n",
              "      <td>- km</td>\n",
              "      <td>03/2019</td>\n",
              "      <td>1 previous owner</td>\n",
              "      <td>NaN</td>\n",
              "      <td>118 kW</td>\n",
              "      <td>[, Pre-registered, , Diesel (Particulate Filter)]</td>\n",
              "      <td>\\n1\\n</td>\n",
              "      <td>NaN</td>\n",
              "      <td>NaN</td>\n",
              "      <td>NaN</td>\n",
              "      <td>NaN</td>\n",
              "      <td>NaN</td>\n",
              "      <td>[]</td>\n",
              "      <td>\\nRenault\\n</td>\n",
              "      <td>[\\n, Espace, \\n]</td>\n",
              "      <td>[\\nHI011000\\n]</td>\n",
              "      <td>[\\n, 2019, \\n]</td>\n",
              "      <td>[\\n, Black, \\n]</td>\n",
              "      <td>[\\nMetallic\\n]</td>\n",
              "      <td>[\\namethyst black\\n]</td>\n",
              "      <td>[\\nFull leather, Black\\n]</td>\n",
              "      <td>[\\n, Van, \\n]</td>\n",
              "      <td>[\\n5\\n]</td>\n",
              "      <td>[\\n5\\n]</td>\n",
              "      <td>NaN</td>\n",
              "      <td>[\\n, Automatic, \\n]</td>\n",
              "      <td>[\\n1,598 cc\\n]</td>\n",
              "      <td>[\\n4\\n]</td>\n",
              "      <td>[\\n1,734 kg\\n]</td>\n",
              "      <td>[\\nfront\\n]</td>\n",
              "      <td>[\\n, Diesel (Particulate Filter), \\n]</td>\n",
              "      <td>[[4.7 l/100 km (comb)], [5.1 l/100 km (city)],...</td>\n",
              "      <td>[\\n123 g CO2/km (comb)\\n]</td>\n",
              "      <td>[\\nEuro 6\\n]</td>\n",
              "      <td>[Air conditioning, Automatic climate control, ...</td>\n",
              "      <td>[Bluetooth, Digital radio, Hands-free equipmen...</td>\n",
              "      <td>[Alloy wheels, Catalytic Converter, Touch screen]</td>\n",
              "      <td>[ABS, Adaptive Cruise Control, Blind spot moni...</td>\n",
              "      <td>[\\n, Getriebe:,  Automatik, Technik:,  Bordcom...</td>\n",
              "      <td>[\\n4 (Green)\\n]</td>\n",
              "      <td>[\\n6\\n]</td>\n",
              "      <td>[\\nGermany\\n]</td>\n",
              "      <td>NaN</td>\n",
              "      <td>NaN</td>\n",
              "      <td>NaN</td>\n",
              "      <td>NaN</td>\n",
              "      <td>NaN</td>\n",
              "      <td>NaN</td>\n",
              "    </tr>\n",
              "    <tr>\n",
              "      <th>15844</th>\n",
              "      <td>Renault Espace</td>\n",
              "      <td>INITIALE Paris BLUE dCi 200 EDC 7-SITZE SD</td>\n",
              "      <td>Van</td>\n",
              "      <td>46666</td>\n",
              "      <td>VAT deductible</td>\n",
              "      <td>- km</td>\n",
              "      <td>04/2019</td>\n",
              "      <td>1 previous owner</td>\n",
              "      <td>NaN</td>\n",
              "      <td>147 kW</td>\n",
              "      <td>[, Demonstration, , Diesel]</td>\n",
              "      <td>\\n1\\n</td>\n",
              "      <td>NaN</td>\n",
              "      <td>[\\nYes\\n, \\n148 g CO2/km (comb)\\n]</td>\n",
              "      <td>NaN</td>\n",
              "      <td>NaN</td>\n",
              "      <td>NaN</td>\n",
              "      <td>[]</td>\n",
              "      <td>\\nRenault\\n</td>\n",
              "      <td>[\\n, Espace, \\n]</td>\n",
              "      <td>[\\nRe_30000009618\\n]</td>\n",
              "      <td>[\\n, 2019, \\n]</td>\n",
              "      <td>[\\n, Black, \\n]</td>\n",
              "      <td>[\\nMetallic\\n]</td>\n",
              "      <td>[\\nBlack Pearl-Schwarz Metallic\\n]</td>\n",
              "      <td>[\\nFull leather, Grey\\n]</td>\n",
              "      <td>[\\n, Van, \\n]</td>\n",
              "      <td>[\\n5\\n]</td>\n",
              "      <td>[\\n5\\n]</td>\n",
              "      <td>[\\n3333/BKQ\\n]</td>\n",
              "      <td>[\\n, Automatic, \\n]</td>\n",
              "      <td>[\\n1,997 cc\\n]</td>\n",
              "      <td>[\\n4\\n]</td>\n",
              "      <td>[\\n1,840 kg\\n]</td>\n",
              "      <td>[\\n4WD\\n]</td>\n",
              "      <td>[\\n, Diesel, \\n]</td>\n",
              "      <td>[[5.7 l/100 km (comb)], [6.1 l/100 km (city)],...</td>\n",
              "      <td>[\\n148 g CO2/km (comb)\\n]</td>\n",
              "      <td>[\\nEuro 6\\n]</td>\n",
              "      <td>[Air conditioning, Automatic climate control, ...</td>\n",
              "      <td>[USB]</td>\n",
              "      <td>[Alloy wheels, Touch screen]</td>\n",
              "      <td>[ABS, Blind spot monitor, Daytime running ligh...</td>\n",
              "      <td>[\\n, Sicherheit Airbags:,  , Seitenairbag,  , ...</td>\n",
              "      <td>[\\n4 (Green)\\n]</td>\n",
              "      <td>NaN</td>\n",
              "      <td>[\\nGermany\\n]</td>\n",
              "      <td>NaN</td>\n",
              "      <td>NaN</td>\n",
              "      <td>NaN</td>\n",
              "      <td>NaN</td>\n",
              "      <td>NaN</td>\n",
              "      <td>NaN</td>\n",
              "    </tr>\n",
              "    <tr>\n",
              "      <th>15918</th>\n",
              "      <td>Renault Espace</td>\n",
              "      <td>INITIALE PARIS TCe 225 EDC GPF NAVI SHZ AUX</td>\n",
              "      <td>Van</td>\n",
              "      <td>40999</td>\n",
              "      <td>VAT deductible</td>\n",
              "      <td>- km</td>\n",
              "      <td>01/2019</td>\n",
              "      <td>1 previous owner</td>\n",
              "      <td>NaN</td>\n",
              "      <td>165 kW</td>\n",
              "      <td>[, Demonstration, , Super 95]</td>\n",
              "      <td>\\n1\\n</td>\n",
              "      <td>NaN</td>\n",
              "      <td>[\\nYes\\n, \\n153 g CO2/km (comb)\\n]</td>\n",
              "      <td>NaN</td>\n",
              "      <td>NaN</td>\n",
              "      <td>NaN</td>\n",
              "      <td>[]</td>\n",
              "      <td>\\nRenault\\n</td>\n",
              "      <td>[\\n, Espace, \\n]</td>\n",
              "      <td>[\\nRe_30000008029\\n]</td>\n",
              "      <td>[\\n, 2019, \\n]</td>\n",
              "      <td>[\\n, Grey, \\n]</td>\n",
              "      <td>[\\nMetallic\\n]</td>\n",
              "      <td>[\\nTitanium-Grau Metallic\\n]</td>\n",
              "      <td>[\\nFull leather, Brown\\n]</td>\n",
              "      <td>[\\n, Van, \\n]</td>\n",
              "      <td>[\\n5\\n]</td>\n",
              "      <td>[\\n5\\n]</td>\n",
              "      <td>[\\n3333/BHJ\\n]</td>\n",
              "      <td>[\\n, Automatic, \\n]</td>\n",
              "      <td>[\\n1,798 cc\\n]</td>\n",
              "      <td>[\\n4\\n]</td>\n",
              "      <td>[\\n1,685 kg\\n]</td>\n",
              "      <td>[\\n4WD\\n]</td>\n",
              "      <td>[\\n, Super 95, \\n]</td>\n",
              "      <td>[[6.8 l/100 km (comb)], [8.7 l/100 km (city)],...</td>\n",
              "      <td>[\\n153 g CO2/km (comb)\\n]</td>\n",
              "      <td>[\\nEuro 6\\n]</td>\n",
              "      <td>[Air conditioning, Automatic climate control, ...</td>\n",
              "      <td>[USB]</td>\n",
              "      <td>[Alloy wheels, Touch screen]</td>\n",
              "      <td>[ABS, Blind spot monitor, Daytime running ligh...</td>\n",
              "      <td>[\\n, Sicherheit Airbags:,  , Seitenairbag,  , ...</td>\n",
              "      <td>[\\n4 (Green)\\n]</td>\n",
              "      <td>NaN</td>\n",
              "      <td>[\\nGermany\\n]</td>\n",
              "      <td>NaN</td>\n",
              "      <td>NaN</td>\n",
              "      <td>NaN</td>\n",
              "      <td>NaN</td>\n",
              "      <td>NaN</td>\n",
              "      <td>NaN</td>\n",
              "    </tr>\n",
              "  </tbody>\n",
              "</table>\n",
              "</div>\n",
              "      <button class=\"colab-df-convert\" onclick=\"convertToInteractive('df-c2762384-8312-47e1-a250-b3fa08266d1e')\"\n",
              "              title=\"Convert this dataframe to an interactive table.\"\n",
              "              style=\"display:none;\">\n",
              "        \n",
              "  <svg xmlns=\"http://www.w3.org/2000/svg\" height=\"24px\"viewBox=\"0 0 24 24\"\n",
              "       width=\"24px\">\n",
              "    <path d=\"M0 0h24v24H0V0z\" fill=\"none\"/>\n",
              "    <path d=\"M18.56 5.44l.94 2.06.94-2.06 2.06-.94-2.06-.94-.94-2.06-.94 2.06-2.06.94zm-11 1L8.5 8.5l.94-2.06 2.06-.94-2.06-.94L8.5 2.5l-.94 2.06-2.06.94zm10 10l.94 2.06.94-2.06 2.06-.94-2.06-.94-.94-2.06-.94 2.06-2.06.94z\"/><path d=\"M17.41 7.96l-1.37-1.37c-.4-.4-.92-.59-1.43-.59-.52 0-1.04.2-1.43.59L10.3 9.45l-7.72 7.72c-.78.78-.78 2.05 0 2.83L4 21.41c.39.39.9.59 1.41.59.51 0 1.02-.2 1.41-.59l7.78-7.78 2.81-2.81c.8-.78.8-2.07 0-2.86zM5.41 20L4 18.59l7.72-7.72 1.47 1.35L5.41 20z\"/>\n",
              "  </svg>\n",
              "      </button>\n",
              "      \n",
              "  <style>\n",
              "    .colab-df-container {\n",
              "      display:flex;\n",
              "      flex-wrap:wrap;\n",
              "      gap: 12px;\n",
              "    }\n",
              "\n",
              "    .colab-df-convert {\n",
              "      background-color: #E8F0FE;\n",
              "      border: none;\n",
              "      border-radius: 50%;\n",
              "      cursor: pointer;\n",
              "      display: none;\n",
              "      fill: #1967D2;\n",
              "      height: 32px;\n",
              "      padding: 0 0 0 0;\n",
              "      width: 32px;\n",
              "    }\n",
              "\n",
              "    .colab-df-convert:hover {\n",
              "      background-color: #E2EBFA;\n",
              "      box-shadow: 0px 1px 2px rgba(60, 64, 67, 0.3), 0px 1px 3px 1px rgba(60, 64, 67, 0.15);\n",
              "      fill: #174EA6;\n",
              "    }\n",
              "\n",
              "    [theme=dark] .colab-df-convert {\n",
              "      background-color: #3B4455;\n",
              "      fill: #D2E3FC;\n",
              "    }\n",
              "\n",
              "    [theme=dark] .colab-df-convert:hover {\n",
              "      background-color: #434B5C;\n",
              "      box-shadow: 0px 1px 3px 1px rgba(0, 0, 0, 0.15);\n",
              "      filter: drop-shadow(0px 1px 2px rgba(0, 0, 0, 0.3));\n",
              "      fill: #FFFFFF;\n",
              "    }\n",
              "  </style>\n",
              "\n",
              "      <script>\n",
              "        const buttonEl =\n",
              "          document.querySelector('#df-c2762384-8312-47e1-a250-b3fa08266d1e button.colab-df-convert');\n",
              "        buttonEl.style.display =\n",
              "          google.colab.kernel.accessAllowed ? 'block' : 'none';\n",
              "\n",
              "        async function convertToInteractive(key) {\n",
              "          const element = document.querySelector('#df-c2762384-8312-47e1-a250-b3fa08266d1e');\n",
              "          const dataTable =\n",
              "            await google.colab.kernel.invokeFunction('convertToInteractive',\n",
              "                                                     [key], {});\n",
              "          if (!dataTable) return;\n",
              "\n",
              "          const docLinkHtml = 'Like what you see? Visit the ' +\n",
              "            '<a target=\"_blank\" href=https://colab.research.google.com/notebooks/data_table.ipynb>data table notebook</a>'\n",
              "            + ' to learn more about interactive tables.';\n",
              "          element.innerHTML = '';\n",
              "          dataTable['output_type'] = 'display_data';\n",
              "          await google.colab.output.renderOutput(dataTable, element);\n",
              "          const docLink = document.createElement('div');\n",
              "          docLink.innerHTML = docLinkHtml;\n",
              "          element.appendChild(docLink);\n",
              "        }\n",
              "      </script>\n",
              "    </div>\n",
              "  </div>\n",
              "  "
            ]
          },
          "metadata": {},
          "execution_count": 11
        }
      ]
    },
    {
      "cell_type": "code",
      "source": [
        "df.km=df.km.str.replace(' km','')"
      ],
      "metadata": {
        "id": "gRRbOn_dH3a-"
      },
      "execution_count": 123,
      "outputs": []
    },
    {
      "cell_type": "code",
      "source": [
        "df.km"
      ],
      "metadata": {
        "colab": {
          "base_uri": "https://localhost:8080/"
        },
        "id": "-pBQOF99JqnP",
        "outputId": "0cd2d1b1-c1ce-43bd-e268-08cf0c244a9f"
      },
      "execution_count": 124,
      "outputs": [
        {
          "output_type": "execute_result",
          "data": {
            "text/plain": [
              "0        56,013\n",
              "1        80,000\n",
              "2        83,450\n",
              "3        73,000\n",
              "4        16,200\n",
              "          ...  \n",
              "15914         -\n",
              "15915     9,900\n",
              "15916        15\n",
              "15917        10\n",
              "15918         -\n",
              "Name: km, Length: 15919, dtype: object"
            ]
          },
          "metadata": {},
          "execution_count": 124
        }
      ]
    },
    {
      "cell_type": "code",
      "source": [
        "df.km=df.km.str.replace(',','')"
      ],
      "metadata": {
        "id": "6HvSqPouKyG2"
      },
      "execution_count": 125,
      "outputs": []
    },
    {
      "cell_type": "code",
      "source": [
        "df.km"
      ],
      "metadata": {
        "colab": {
          "base_uri": "https://localhost:8080/"
        },
        "id": "q-s_vC8wK3Jq",
        "outputId": "b5d3d2b4-a969-4e9c-d630-e582f71a4da3"
      },
      "execution_count": 126,
      "outputs": [
        {
          "output_type": "execute_result",
          "data": {
            "text/plain": [
              "0        56013\n",
              "1        80000\n",
              "2        83450\n",
              "3        73000\n",
              "4        16200\n",
              "         ...  \n",
              "15914        -\n",
              "15915     9900\n",
              "15916       15\n",
              "15917       10\n",
              "15918        -\n",
              "Name: km, Length: 15919, dtype: object"
            ]
          },
          "metadata": {},
          "execution_count": 126
        }
      ]
    },
    {
      "cell_type": "code",
      "source": [
        "df.loc[(df[\"km\"] == \"- km\") & (df[\"prev_owner\"] == '1 previous owner') & (df.description.str.contains('km',regex=True) )]['description']\n"
      ],
      "metadata": {
        "colab": {
          "base_uri": "https://localhost:8080/"
        },
        "id": "BT6wqPjhAanq",
        "outputId": "b8abff98-c914-42ba-c46b-91dc8a5d795e"
      },
      "execution_count": 127,
      "outputs": [
        {
          "output_type": "execute_result",
          "data": {
            "text/plain": [
              "Series([], Name: description, dtype: object)"
            ]
          },
          "metadata": {},
          "execution_count": 127
        }
      ]
    },
    {
      "cell_type": "code",
      "source": [
        "df.description.str.contains(',',regex=False).value_counts() ## we looked in description if contains km data"
      ],
      "metadata": {
        "colab": {
          "base_uri": "https://localhost:8080/"
        },
        "id": "zXXIlF3zFDAm",
        "outputId": "4c3506c5-089b-4779-bb9e-9add6a5d31db"
      },
      "execution_count": 128,
      "outputs": [
        {
          "output_type": "execute_result",
          "data": {
            "text/plain": [
              "False    15874\n",
              "True        45\n",
              "Name: description, dtype: int64"
            ]
          },
          "metadata": {},
          "execution_count": 128
        }
      ]
    },
    {
      "cell_type": "code",
      "source": [
        "df.loc[(df[\"km\"] == \"- km\") & (df[\"prev_owner\"] == '1 previous owner') & (df.description.str.contains('km',regex=True) )]['description']"
      ],
      "metadata": {
        "id": "haoPq4JyXm6R",
        "colab": {
          "base_uri": "https://localhost:8080/"
        },
        "outputId": "437f4b35-2a6f-4d72-bd42-d8a4a0e304c7"
      },
      "execution_count": 154,
      "outputs": [
        {
          "output_type": "execute_result",
          "data": {
            "text/plain": [
              "Series([], Name: description, dtype: object)"
            ]
          },
          "metadata": {},
          "execution_count": 154
        }
      ]
    },
    {
      "cell_type": "markdown",
      "source": [
        ""
      ],
      "metadata": {
        "id": "23_94_OhYtOc"
      }
    },
    {
      "cell_type": "code",
      "source": [
        "df.loc[df.km.str.contains(',')]"
      ],
      "metadata": {
        "colab": {
          "base_uri": "https://localhost:8080/",
          "height": 183
        },
        "id": "gmwp-_l9XHMk",
        "outputId": "058d9321-fee6-473a-e45f-2b418688e719"
      },
      "execution_count": 130,
      "outputs": [
        {
          "output_type": "execute_result",
          "data": {
            "text/plain": [
              "Empty DataFrame\n",
              "Columns: [make_model, short_description, body_type, price, vat, km, registration, prev_owner, kW, hp, Type, Previous Owners, Next Inspection, Inspection new, Warranty, Full Service, Non-smoking Vehicle, null, Make, Model, Offer Number, First Registration, Body Color, Paint Type, Body Color Original, Upholstery, Body, Nr. of Doors, Nr. of Seats, Model Code, Gearing Type, Displacement, Cylinders, Weight, Drive chain, Fuel, Consumption, CO2 Emission, Emission Class, \n",
              "Comfort & Convenience\n",
              ", \n",
              "Entertainment & Media\n",
              ", \n",
              "Extras\n",
              ", \n",
              "Safety & Security\n",
              ", description, Emission Label, Gears, Country version, Electricity consumption, Last Service Date, Other Fuel Types, Availability, Last Timing Belt Service Date, Available from]\n",
              "Index: []"
            ],
            "text/html": [
              "\n",
              "  <div id=\"df-e2f0d472-5434-4623-b791-6766555e82bd\">\n",
              "    <div class=\"colab-df-container\">\n",
              "      <div>\n",
              "<style scoped>\n",
              "    .dataframe tbody tr th:only-of-type {\n",
              "        vertical-align: middle;\n",
              "    }\n",
              "\n",
              "    .dataframe tbody tr th {\n",
              "        vertical-align: top;\n",
              "    }\n",
              "\n",
              "    .dataframe thead th {\n",
              "        text-align: right;\n",
              "    }\n",
              "</style>\n",
              "<table border=\"1\" class=\"dataframe\">\n",
              "  <thead>\n",
              "    <tr style=\"text-align: right;\">\n",
              "      <th></th>\n",
              "      <th>make_model</th>\n",
              "      <th>short_description</th>\n",
              "      <th>body_type</th>\n",
              "      <th>price</th>\n",
              "      <th>vat</th>\n",
              "      <th>km</th>\n",
              "      <th>registration</th>\n",
              "      <th>prev_owner</th>\n",
              "      <th>kW</th>\n",
              "      <th>hp</th>\n",
              "      <th>Type</th>\n",
              "      <th>Previous Owners</th>\n",
              "      <th>Next Inspection</th>\n",
              "      <th>Inspection new</th>\n",
              "      <th>Warranty</th>\n",
              "      <th>Full Service</th>\n",
              "      <th>Non-smoking Vehicle</th>\n",
              "      <th>null</th>\n",
              "      <th>Make</th>\n",
              "      <th>Model</th>\n",
              "      <th>Offer Number</th>\n",
              "      <th>First Registration</th>\n",
              "      <th>Body Color</th>\n",
              "      <th>Paint Type</th>\n",
              "      <th>Body Color Original</th>\n",
              "      <th>Upholstery</th>\n",
              "      <th>Body</th>\n",
              "      <th>Nr. of Doors</th>\n",
              "      <th>Nr. of Seats</th>\n",
              "      <th>Model Code</th>\n",
              "      <th>Gearing Type</th>\n",
              "      <th>Displacement</th>\n",
              "      <th>Cylinders</th>\n",
              "      <th>Weight</th>\n",
              "      <th>Drive chain</th>\n",
              "      <th>Fuel</th>\n",
              "      <th>Consumption</th>\n",
              "      <th>CO2 Emission</th>\n",
              "      <th>Emission Class</th>\n",
              "      <th>\\nComfort &amp; Convenience\\n</th>\n",
              "      <th>\\nEntertainment &amp; Media\\n</th>\n",
              "      <th>\\nExtras\\n</th>\n",
              "      <th>\\nSafety &amp; Security\\n</th>\n",
              "      <th>description</th>\n",
              "      <th>Emission Label</th>\n",
              "      <th>Gears</th>\n",
              "      <th>Country version</th>\n",
              "      <th>Electricity consumption</th>\n",
              "      <th>Last Service Date</th>\n",
              "      <th>Other Fuel Types</th>\n",
              "      <th>Availability</th>\n",
              "      <th>Last Timing Belt Service Date</th>\n",
              "      <th>Available from</th>\n",
              "    </tr>\n",
              "  </thead>\n",
              "  <tbody>\n",
              "  </tbody>\n",
              "</table>\n",
              "</div>\n",
              "      <button class=\"colab-df-convert\" onclick=\"convertToInteractive('df-e2f0d472-5434-4623-b791-6766555e82bd')\"\n",
              "              title=\"Convert this dataframe to an interactive table.\"\n",
              "              style=\"display:none;\">\n",
              "        \n",
              "  <svg xmlns=\"http://www.w3.org/2000/svg\" height=\"24px\"viewBox=\"0 0 24 24\"\n",
              "       width=\"24px\">\n",
              "    <path d=\"M0 0h24v24H0V0z\" fill=\"none\"/>\n",
              "    <path d=\"M18.56 5.44l.94 2.06.94-2.06 2.06-.94-2.06-.94-.94-2.06-.94 2.06-2.06.94zm-11 1L8.5 8.5l.94-2.06 2.06-.94-2.06-.94L8.5 2.5l-.94 2.06-2.06.94zm10 10l.94 2.06.94-2.06 2.06-.94-2.06-.94-.94-2.06-.94 2.06-2.06.94z\"/><path d=\"M17.41 7.96l-1.37-1.37c-.4-.4-.92-.59-1.43-.59-.52 0-1.04.2-1.43.59L10.3 9.45l-7.72 7.72c-.78.78-.78 2.05 0 2.83L4 21.41c.39.39.9.59 1.41.59.51 0 1.02-.2 1.41-.59l7.78-7.78 2.81-2.81c.8-.78.8-2.07 0-2.86zM5.41 20L4 18.59l7.72-7.72 1.47 1.35L5.41 20z\"/>\n",
              "  </svg>\n",
              "      </button>\n",
              "      \n",
              "  <style>\n",
              "    .colab-df-container {\n",
              "      display:flex;\n",
              "      flex-wrap:wrap;\n",
              "      gap: 12px;\n",
              "    }\n",
              "\n",
              "    .colab-df-convert {\n",
              "      background-color: #E8F0FE;\n",
              "      border: none;\n",
              "      border-radius: 50%;\n",
              "      cursor: pointer;\n",
              "      display: none;\n",
              "      fill: #1967D2;\n",
              "      height: 32px;\n",
              "      padding: 0 0 0 0;\n",
              "      width: 32px;\n",
              "    }\n",
              "\n",
              "    .colab-df-convert:hover {\n",
              "      background-color: #E2EBFA;\n",
              "      box-shadow: 0px 1px 2px rgba(60, 64, 67, 0.3), 0px 1px 3px 1px rgba(60, 64, 67, 0.15);\n",
              "      fill: #174EA6;\n",
              "    }\n",
              "\n",
              "    [theme=dark] .colab-df-convert {\n",
              "      background-color: #3B4455;\n",
              "      fill: #D2E3FC;\n",
              "    }\n",
              "\n",
              "    [theme=dark] .colab-df-convert:hover {\n",
              "      background-color: #434B5C;\n",
              "      box-shadow: 0px 1px 3px 1px rgba(0, 0, 0, 0.15);\n",
              "      filter: drop-shadow(0px 1px 2px rgba(0, 0, 0, 0.3));\n",
              "      fill: #FFFFFF;\n",
              "    }\n",
              "  </style>\n",
              "\n",
              "      <script>\n",
              "        const buttonEl =\n",
              "          document.querySelector('#df-e2f0d472-5434-4623-b791-6766555e82bd button.colab-df-convert');\n",
              "        buttonEl.style.display =\n",
              "          google.colab.kernel.accessAllowed ? 'block' : 'none';\n",
              "\n",
              "        async function convertToInteractive(key) {\n",
              "          const element = document.querySelector('#df-e2f0d472-5434-4623-b791-6766555e82bd');\n",
              "          const dataTable =\n",
              "            await google.colab.kernel.invokeFunction('convertToInteractive',\n",
              "                                                     [key], {});\n",
              "          if (!dataTable) return;\n",
              "\n",
              "          const docLinkHtml = 'Like what you see? Visit the ' +\n",
              "            '<a target=\"_blank\" href=https://colab.research.google.com/notebooks/data_table.ipynb>data table notebook</a>'\n",
              "            + ' to learn more about interactive tables.';\n",
              "          element.innerHTML = '';\n",
              "          dataTable['output_type'] = 'display_data';\n",
              "          await google.colab.output.renderOutput(dataTable, element);\n",
              "          const docLink = document.createElement('div');\n",
              "          docLink.innerHTML = docLinkHtml;\n",
              "          element.appendChild(docLink);\n",
              "        }\n",
              "      </script>\n",
              "    </div>\n",
              "  </div>\n",
              "  "
            ]
          },
          "metadata": {},
          "execution_count": 130
        }
      ]
    },
    {
      "cell_type": "markdown",
      "source": [
        "##8.registration"
      ],
      "metadata": {
        "id": "XS6NFOkMF3P_"
      }
    },
    {
      "cell_type": "code",
      "source": [
        ""
      ],
      "metadata": {
        "id": "Vg436PS2N_xT"
      },
      "execution_count": null,
      "outputs": []
    },
    {
      "cell_type": "code",
      "source": [
        "df.registration.value_counts(dropna=False)"
      ],
      "metadata": {
        "colab": {
          "base_uri": "https://localhost:8080/"
        },
        "id": "3A6TgOe5LGTv",
        "outputId": "b38be7d5-3097-449c-b76a-c186643ec6f9"
      },
      "execution_count": 138,
      "outputs": [
        {
          "output_type": "execute_result",
          "data": {
            "text/plain": [
              "-/-        1597\n",
              "03/2018     695\n",
              "02/2019     585\n",
              "05/2018     572\n",
              "03/2019     543\n",
              "01/2019     541\n",
              "04/2018     541\n",
              "02/2018     539\n",
              "03/2016     536\n",
              "04/2016     532\n",
              "06/2018     532\n",
              "01/2018     511\n",
              "04/2019     506\n",
              "02/2016     472\n",
              "03/2017     471\n",
              "05/2016     459\n",
              "06/2016     452\n",
              "05/2019     440\n",
              "06/2017     409\n",
              "05/2017     404\n",
              "07/2018     396\n",
              "04/2017     380\n",
              "01/2016     376\n",
              "02/2017     368\n",
              "01/2017     306\n",
              "08/2018     285\n",
              "06/2019     224\n",
              "07/2017     215\n",
              "11/2017     180\n",
              "07/2016     176\n",
              "10/2016     160\n",
              "10/2017     154\n",
              "09/2017     149\n",
              "11/2016     142\n",
              "09/2018     141\n",
              "09/2016     141\n",
              "12/2016     134\n",
              "12/2017     123\n",
              "08/2017     114\n",
              "11/2018     110\n",
              "12/2018     103\n",
              "10/2018      97\n",
              "08/2016      94\n",
              "07/2019       6\n",
              "09/2019       5\n",
              "08/2019       1\n",
              "11/2019       1\n",
              "12/2019       1\n",
              "Name: registration, dtype: int64"
            ]
          },
          "metadata": {},
          "execution_count": 138
        }
      ]
    },
    {
      "cell_type": "code",
      "source": [
        "df[['registration','First Registration','km']].sample(10) ## 'First Registration' silinebilir"
      ],
      "metadata": {
        "colab": {
          "base_uri": "https://localhost:8080/",
          "height": 363
        },
        "id": "SIHRFVPaPaLx",
        "outputId": "90fd4819-1f80-496d-8b42-ca02eb6159d4"
      },
      "execution_count": 139,
      "outputs": [
        {
          "output_type": "execute_result",
          "data": {
            "text/plain": [
              "      registration First Registration      km\n",
              "2267           -/-                NaN       -\n",
              "5295       02/2019     [\\n, 2019, \\n]       -\n",
              "8177       01/2019     [\\n, 2019, \\n]       3\n",
              "3001       02/2017     [\\n, 2017, \\n]  101287\n",
              "327        03/2017     [\\n, 2017, \\n]   78000\n",
              "13911      02/2017     [\\n, 2017, \\n]   35132\n",
              "1285       12/2017     [\\n, 2017, \\n]   22627\n",
              "12549      02/2019     [\\n, 2019, \\n]    5000\n",
              "6812       01/2017     [\\n, 2017, \\n]   46100\n",
              "6418       02/2017     [\\n, 2017, \\n]   65000"
            ],
            "text/html": [
              "\n",
              "  <div id=\"df-41deccd9-0f81-4935-b00d-3dd1d9183c0c\">\n",
              "    <div class=\"colab-df-container\">\n",
              "      <div>\n",
              "<style scoped>\n",
              "    .dataframe tbody tr th:only-of-type {\n",
              "        vertical-align: middle;\n",
              "    }\n",
              "\n",
              "    .dataframe tbody tr th {\n",
              "        vertical-align: top;\n",
              "    }\n",
              "\n",
              "    .dataframe thead th {\n",
              "        text-align: right;\n",
              "    }\n",
              "</style>\n",
              "<table border=\"1\" class=\"dataframe\">\n",
              "  <thead>\n",
              "    <tr style=\"text-align: right;\">\n",
              "      <th></th>\n",
              "      <th>registration</th>\n",
              "      <th>First Registration</th>\n",
              "      <th>km</th>\n",
              "    </tr>\n",
              "  </thead>\n",
              "  <tbody>\n",
              "    <tr>\n",
              "      <th>2267</th>\n",
              "      <td>-/-</td>\n",
              "      <td>NaN</td>\n",
              "      <td>-</td>\n",
              "    </tr>\n",
              "    <tr>\n",
              "      <th>5295</th>\n",
              "      <td>02/2019</td>\n",
              "      <td>[\\n, 2019, \\n]</td>\n",
              "      <td>-</td>\n",
              "    </tr>\n",
              "    <tr>\n",
              "      <th>8177</th>\n",
              "      <td>01/2019</td>\n",
              "      <td>[\\n, 2019, \\n]</td>\n",
              "      <td>3</td>\n",
              "    </tr>\n",
              "    <tr>\n",
              "      <th>3001</th>\n",
              "      <td>02/2017</td>\n",
              "      <td>[\\n, 2017, \\n]</td>\n",
              "      <td>101287</td>\n",
              "    </tr>\n",
              "    <tr>\n",
              "      <th>327</th>\n",
              "      <td>03/2017</td>\n",
              "      <td>[\\n, 2017, \\n]</td>\n",
              "      <td>78000</td>\n",
              "    </tr>\n",
              "    <tr>\n",
              "      <th>13911</th>\n",
              "      <td>02/2017</td>\n",
              "      <td>[\\n, 2017, \\n]</td>\n",
              "      <td>35132</td>\n",
              "    </tr>\n",
              "    <tr>\n",
              "      <th>1285</th>\n",
              "      <td>12/2017</td>\n",
              "      <td>[\\n, 2017, \\n]</td>\n",
              "      <td>22627</td>\n",
              "    </tr>\n",
              "    <tr>\n",
              "      <th>12549</th>\n",
              "      <td>02/2019</td>\n",
              "      <td>[\\n, 2019, \\n]</td>\n",
              "      <td>5000</td>\n",
              "    </tr>\n",
              "    <tr>\n",
              "      <th>6812</th>\n",
              "      <td>01/2017</td>\n",
              "      <td>[\\n, 2017, \\n]</td>\n",
              "      <td>46100</td>\n",
              "    </tr>\n",
              "    <tr>\n",
              "      <th>6418</th>\n",
              "      <td>02/2017</td>\n",
              "      <td>[\\n, 2017, \\n]</td>\n",
              "      <td>65000</td>\n",
              "    </tr>\n",
              "  </tbody>\n",
              "</table>\n",
              "</div>\n",
              "      <button class=\"colab-df-convert\" onclick=\"convertToInteractive('df-41deccd9-0f81-4935-b00d-3dd1d9183c0c')\"\n",
              "              title=\"Convert this dataframe to an interactive table.\"\n",
              "              style=\"display:none;\">\n",
              "        \n",
              "  <svg xmlns=\"http://www.w3.org/2000/svg\" height=\"24px\"viewBox=\"0 0 24 24\"\n",
              "       width=\"24px\">\n",
              "    <path d=\"M0 0h24v24H0V0z\" fill=\"none\"/>\n",
              "    <path d=\"M18.56 5.44l.94 2.06.94-2.06 2.06-.94-2.06-.94-.94-2.06-.94 2.06-2.06.94zm-11 1L8.5 8.5l.94-2.06 2.06-.94-2.06-.94L8.5 2.5l-.94 2.06-2.06.94zm10 10l.94 2.06.94-2.06 2.06-.94-2.06-.94-.94-2.06-.94 2.06-2.06.94z\"/><path d=\"M17.41 7.96l-1.37-1.37c-.4-.4-.92-.59-1.43-.59-.52 0-1.04.2-1.43.59L10.3 9.45l-7.72 7.72c-.78.78-.78 2.05 0 2.83L4 21.41c.39.39.9.59 1.41.59.51 0 1.02-.2 1.41-.59l7.78-7.78 2.81-2.81c.8-.78.8-2.07 0-2.86zM5.41 20L4 18.59l7.72-7.72 1.47 1.35L5.41 20z\"/>\n",
              "  </svg>\n",
              "      </button>\n",
              "      \n",
              "  <style>\n",
              "    .colab-df-container {\n",
              "      display:flex;\n",
              "      flex-wrap:wrap;\n",
              "      gap: 12px;\n",
              "    }\n",
              "\n",
              "    .colab-df-convert {\n",
              "      background-color: #E8F0FE;\n",
              "      border: none;\n",
              "      border-radius: 50%;\n",
              "      cursor: pointer;\n",
              "      display: none;\n",
              "      fill: #1967D2;\n",
              "      height: 32px;\n",
              "      padding: 0 0 0 0;\n",
              "      width: 32px;\n",
              "    }\n",
              "\n",
              "    .colab-df-convert:hover {\n",
              "      background-color: #E2EBFA;\n",
              "      box-shadow: 0px 1px 2px rgba(60, 64, 67, 0.3), 0px 1px 3px 1px rgba(60, 64, 67, 0.15);\n",
              "      fill: #174EA6;\n",
              "    }\n",
              "\n",
              "    [theme=dark] .colab-df-convert {\n",
              "      background-color: #3B4455;\n",
              "      fill: #D2E3FC;\n",
              "    }\n",
              "\n",
              "    [theme=dark] .colab-df-convert:hover {\n",
              "      background-color: #434B5C;\n",
              "      box-shadow: 0px 1px 3px 1px rgba(0, 0, 0, 0.15);\n",
              "      filter: drop-shadow(0px 1px 2px rgba(0, 0, 0, 0.3));\n",
              "      fill: #FFFFFF;\n",
              "    }\n",
              "  </style>\n",
              "\n",
              "      <script>\n",
              "        const buttonEl =\n",
              "          document.querySelector('#df-41deccd9-0f81-4935-b00d-3dd1d9183c0c button.colab-df-convert');\n",
              "        buttonEl.style.display =\n",
              "          google.colab.kernel.accessAllowed ? 'block' : 'none';\n",
              "\n",
              "        async function convertToInteractive(key) {\n",
              "          const element = document.querySelector('#df-41deccd9-0f81-4935-b00d-3dd1d9183c0c');\n",
              "          const dataTable =\n",
              "            await google.colab.kernel.invokeFunction('convertToInteractive',\n",
              "                                                     [key], {});\n",
              "          if (!dataTable) return;\n",
              "\n",
              "          const docLinkHtml = 'Like what you see? Visit the ' +\n",
              "            '<a target=\"_blank\" href=https://colab.research.google.com/notebooks/data_table.ipynb>data table notebook</a>'\n",
              "            + ' to learn more about interactive tables.';\n",
              "          element.innerHTML = '';\n",
              "          dataTable['output_type'] = 'display_data';\n",
              "          await google.colab.output.renderOutput(dataTable, element);\n",
              "          const docLink = document.createElement('div');\n",
              "          docLink.innerHTML = docLinkHtml;\n",
              "          element.appendChild(docLink);\n",
              "        }\n",
              "      </script>\n",
              "    </div>\n",
              "  </div>\n",
              "  "
            ]
          },
          "metadata": {},
          "execution_count": 139
        }
      ]
    },
    {
      "cell_type": "code",
      "source": [
        "df.columns"
      ],
      "metadata": {
        "colab": {
          "base_uri": "https://localhost:8080/"
        },
        "id": "eaQZQAe6LcWM",
        "outputId": "b3e7fe26-876c-493b-fc23-6ea2be63d054"
      },
      "execution_count": null,
      "outputs": [
        {
          "output_type": "execute_result",
          "data": {
            "text/plain": [
              "Index(['make_model', 'short_description', 'body_type', 'price', 'vat', 'km',\n",
              "       'registration', 'prev_owner', 'kW', 'hp', 'Type', 'Previous Owners',\n",
              "       'Next Inspection', 'Inspection new', 'Warranty', 'Full Service',\n",
              "       'Non-smoking Vehicle', 'null', 'Make', 'Model', 'Offer Number',\n",
              "       'First Registration', 'Body Color', 'Paint Type', 'Body Color Original',\n",
              "       'Upholstery', 'Body', 'Nr. of Doors', 'Nr. of Seats', 'Model Code',\n",
              "       'Gearing Type', 'Displacement', 'Cylinders', 'Weight', 'Drive chain',\n",
              "       'Fuel', 'Consumption', 'CO2 Emission', 'Emission Class',\n",
              "       '\\nComfort & Convenience\\n', '\\nEntertainment & Media\\n', '\\nExtras\\n',\n",
              "       '\\nSafety & Security\\n', 'description', 'Emission Label', 'Gears',\n",
              "       'Country version', 'Electricity consumption', 'Last Service Date',\n",
              "       'Other Fuel Types', 'Availability', 'Last Timing Belt Service Date',\n",
              "       'Available from'],\n",
              "      dtype='object')"
            ]
          },
          "metadata": {},
          "execution_count": 44
        }
      ]
    },
    {
      "cell_type": "code",
      "source": [
        "df.loc[(df[\"registration\"] == \"-/-\") & (df['prev_owner']=='1 previous owner')][['registration','km','prev_owner']]  \n",
        "### buradaki -/- leri NaN yapacağız, sütundaki diğer -/- leri ise 2020 yaparak kayıt olmamış kategori vereceğiz"
      ],
      "metadata": {
        "colab": {
          "base_uri": "https://localhost:8080/",
          "height": 707
        },
        "id": "h8YoxT51LU4l",
        "outputId": "2518bf69-068f-4074-d7c9-e59f557f0f37"
      },
      "execution_count": 140,
      "outputs": [
        {
          "output_type": "execute_result",
          "data": {
            "text/plain": [
              "      registration     km        prev_owner\n",
              "892            -/-   3000  1 previous owner\n",
              "1188           -/-   3000  1 previous owner\n",
              "2395           -/-  11200  1 previous owner\n",
              "4993           -/-      -  1 previous owner\n",
              "4994           -/-      -  1 previous owner\n",
              "4995           -/-      -  1 previous owner\n",
              "5209           -/-      -  1 previous owner\n",
              "5293           -/-      -  1 previous owner\n",
              "5494           -/-     10  1 previous owner\n",
              "5505           -/-      -  1 previous owner\n",
              "5548           -/-      -  1 previous owner\n",
              "6237           -/-  85000  1 previous owner\n",
              "7653           -/-      5  1 previous owner\n",
              "11117          -/-  89982  1 previous owner\n",
              "12402          -/-     10  1 previous owner\n",
              "12493          -/-     10  1 previous owner\n",
              "12649          -/-   6100  1 previous owner\n",
              "12806          -/-     10  1 previous owner\n",
              "13148          -/-   3500  1 previous owner\n",
              "15826          -/-   4307  1 previous owner\n",
              "15896          -/-   5000  1 previous owner"
            ],
            "text/html": [
              "\n",
              "  <div id=\"df-5b7e6db1-4af1-4783-90ba-96047e9d9c39\">\n",
              "    <div class=\"colab-df-container\">\n",
              "      <div>\n",
              "<style scoped>\n",
              "    .dataframe tbody tr th:only-of-type {\n",
              "        vertical-align: middle;\n",
              "    }\n",
              "\n",
              "    .dataframe tbody tr th {\n",
              "        vertical-align: top;\n",
              "    }\n",
              "\n",
              "    .dataframe thead th {\n",
              "        text-align: right;\n",
              "    }\n",
              "</style>\n",
              "<table border=\"1\" class=\"dataframe\">\n",
              "  <thead>\n",
              "    <tr style=\"text-align: right;\">\n",
              "      <th></th>\n",
              "      <th>registration</th>\n",
              "      <th>km</th>\n",
              "      <th>prev_owner</th>\n",
              "    </tr>\n",
              "  </thead>\n",
              "  <tbody>\n",
              "    <tr>\n",
              "      <th>892</th>\n",
              "      <td>-/-</td>\n",
              "      <td>3000</td>\n",
              "      <td>1 previous owner</td>\n",
              "    </tr>\n",
              "    <tr>\n",
              "      <th>1188</th>\n",
              "      <td>-/-</td>\n",
              "      <td>3000</td>\n",
              "      <td>1 previous owner</td>\n",
              "    </tr>\n",
              "    <tr>\n",
              "      <th>2395</th>\n",
              "      <td>-/-</td>\n",
              "      <td>11200</td>\n",
              "      <td>1 previous owner</td>\n",
              "    </tr>\n",
              "    <tr>\n",
              "      <th>4993</th>\n",
              "      <td>-/-</td>\n",
              "      <td>-</td>\n",
              "      <td>1 previous owner</td>\n",
              "    </tr>\n",
              "    <tr>\n",
              "      <th>4994</th>\n",
              "      <td>-/-</td>\n",
              "      <td>-</td>\n",
              "      <td>1 previous owner</td>\n",
              "    </tr>\n",
              "    <tr>\n",
              "      <th>4995</th>\n",
              "      <td>-/-</td>\n",
              "      <td>-</td>\n",
              "      <td>1 previous owner</td>\n",
              "    </tr>\n",
              "    <tr>\n",
              "      <th>5209</th>\n",
              "      <td>-/-</td>\n",
              "      <td>-</td>\n",
              "      <td>1 previous owner</td>\n",
              "    </tr>\n",
              "    <tr>\n",
              "      <th>5293</th>\n",
              "      <td>-/-</td>\n",
              "      <td>-</td>\n",
              "      <td>1 previous owner</td>\n",
              "    </tr>\n",
              "    <tr>\n",
              "      <th>5494</th>\n",
              "      <td>-/-</td>\n",
              "      <td>10</td>\n",
              "      <td>1 previous owner</td>\n",
              "    </tr>\n",
              "    <tr>\n",
              "      <th>5505</th>\n",
              "      <td>-/-</td>\n",
              "      <td>-</td>\n",
              "      <td>1 previous owner</td>\n",
              "    </tr>\n",
              "    <tr>\n",
              "      <th>5548</th>\n",
              "      <td>-/-</td>\n",
              "      <td>-</td>\n",
              "      <td>1 previous owner</td>\n",
              "    </tr>\n",
              "    <tr>\n",
              "      <th>6237</th>\n",
              "      <td>-/-</td>\n",
              "      <td>85000</td>\n",
              "      <td>1 previous owner</td>\n",
              "    </tr>\n",
              "    <tr>\n",
              "      <th>7653</th>\n",
              "      <td>-/-</td>\n",
              "      <td>5</td>\n",
              "      <td>1 previous owner</td>\n",
              "    </tr>\n",
              "    <tr>\n",
              "      <th>11117</th>\n",
              "      <td>-/-</td>\n",
              "      <td>89982</td>\n",
              "      <td>1 previous owner</td>\n",
              "    </tr>\n",
              "    <tr>\n",
              "      <th>12402</th>\n",
              "      <td>-/-</td>\n",
              "      <td>10</td>\n",
              "      <td>1 previous owner</td>\n",
              "    </tr>\n",
              "    <tr>\n",
              "      <th>12493</th>\n",
              "      <td>-/-</td>\n",
              "      <td>10</td>\n",
              "      <td>1 previous owner</td>\n",
              "    </tr>\n",
              "    <tr>\n",
              "      <th>12649</th>\n",
              "      <td>-/-</td>\n",
              "      <td>6100</td>\n",
              "      <td>1 previous owner</td>\n",
              "    </tr>\n",
              "    <tr>\n",
              "      <th>12806</th>\n",
              "      <td>-/-</td>\n",
              "      <td>10</td>\n",
              "      <td>1 previous owner</td>\n",
              "    </tr>\n",
              "    <tr>\n",
              "      <th>13148</th>\n",
              "      <td>-/-</td>\n",
              "      <td>3500</td>\n",
              "      <td>1 previous owner</td>\n",
              "    </tr>\n",
              "    <tr>\n",
              "      <th>15826</th>\n",
              "      <td>-/-</td>\n",
              "      <td>4307</td>\n",
              "      <td>1 previous owner</td>\n",
              "    </tr>\n",
              "    <tr>\n",
              "      <th>15896</th>\n",
              "      <td>-/-</td>\n",
              "      <td>5000</td>\n",
              "      <td>1 previous owner</td>\n",
              "    </tr>\n",
              "  </tbody>\n",
              "</table>\n",
              "</div>\n",
              "      <button class=\"colab-df-convert\" onclick=\"convertToInteractive('df-5b7e6db1-4af1-4783-90ba-96047e9d9c39')\"\n",
              "              title=\"Convert this dataframe to an interactive table.\"\n",
              "              style=\"display:none;\">\n",
              "        \n",
              "  <svg xmlns=\"http://www.w3.org/2000/svg\" height=\"24px\"viewBox=\"0 0 24 24\"\n",
              "       width=\"24px\">\n",
              "    <path d=\"M0 0h24v24H0V0z\" fill=\"none\"/>\n",
              "    <path d=\"M18.56 5.44l.94 2.06.94-2.06 2.06-.94-2.06-.94-.94-2.06-.94 2.06-2.06.94zm-11 1L8.5 8.5l.94-2.06 2.06-.94-2.06-.94L8.5 2.5l-.94 2.06-2.06.94zm10 10l.94 2.06.94-2.06 2.06-.94-2.06-.94-.94-2.06-.94 2.06-2.06.94z\"/><path d=\"M17.41 7.96l-1.37-1.37c-.4-.4-.92-.59-1.43-.59-.52 0-1.04.2-1.43.59L10.3 9.45l-7.72 7.72c-.78.78-.78 2.05 0 2.83L4 21.41c.39.39.9.59 1.41.59.51 0 1.02-.2 1.41-.59l7.78-7.78 2.81-2.81c.8-.78.8-2.07 0-2.86zM5.41 20L4 18.59l7.72-7.72 1.47 1.35L5.41 20z\"/>\n",
              "  </svg>\n",
              "      </button>\n",
              "      \n",
              "  <style>\n",
              "    .colab-df-container {\n",
              "      display:flex;\n",
              "      flex-wrap:wrap;\n",
              "      gap: 12px;\n",
              "    }\n",
              "\n",
              "    .colab-df-convert {\n",
              "      background-color: #E8F0FE;\n",
              "      border: none;\n",
              "      border-radius: 50%;\n",
              "      cursor: pointer;\n",
              "      display: none;\n",
              "      fill: #1967D2;\n",
              "      height: 32px;\n",
              "      padding: 0 0 0 0;\n",
              "      width: 32px;\n",
              "    }\n",
              "\n",
              "    .colab-df-convert:hover {\n",
              "      background-color: #E2EBFA;\n",
              "      box-shadow: 0px 1px 2px rgba(60, 64, 67, 0.3), 0px 1px 3px 1px rgba(60, 64, 67, 0.15);\n",
              "      fill: #174EA6;\n",
              "    }\n",
              "\n",
              "    [theme=dark] .colab-df-convert {\n",
              "      background-color: #3B4455;\n",
              "      fill: #D2E3FC;\n",
              "    }\n",
              "\n",
              "    [theme=dark] .colab-df-convert:hover {\n",
              "      background-color: #434B5C;\n",
              "      box-shadow: 0px 1px 3px 1px rgba(0, 0, 0, 0.15);\n",
              "      filter: drop-shadow(0px 1px 2px rgba(0, 0, 0, 0.3));\n",
              "      fill: #FFFFFF;\n",
              "    }\n",
              "  </style>\n",
              "\n",
              "      <script>\n",
              "        const buttonEl =\n",
              "          document.querySelector('#df-5b7e6db1-4af1-4783-90ba-96047e9d9c39 button.colab-df-convert');\n",
              "        buttonEl.style.display =\n",
              "          google.colab.kernel.accessAllowed ? 'block' : 'none';\n",
              "\n",
              "        async function convertToInteractive(key) {\n",
              "          const element = document.querySelector('#df-5b7e6db1-4af1-4783-90ba-96047e9d9c39');\n",
              "          const dataTable =\n",
              "            await google.colab.kernel.invokeFunction('convertToInteractive',\n",
              "                                                     [key], {});\n",
              "          if (!dataTable) return;\n",
              "\n",
              "          const docLinkHtml = 'Like what you see? Visit the ' +\n",
              "            '<a target=\"_blank\" href=https://colab.research.google.com/notebooks/data_table.ipynb>data table notebook</a>'\n",
              "            + ' to learn more about interactive tables.';\n",
              "          element.innerHTML = '';\n",
              "          dataTable['output_type'] = 'display_data';\n",
              "          await google.colab.output.renderOutput(dataTable, element);\n",
              "          const docLink = document.createElement('div');\n",
              "          docLink.innerHTML = docLinkHtml;\n",
              "          element.appendChild(docLink);\n",
              "        }\n",
              "      </script>\n",
              "    </div>\n",
              "  </div>\n",
              "  "
            ]
          },
          "metadata": {},
          "execution_count": 140
        }
      ]
    },
    {
      "cell_type": "code",
      "source": [
        "df.loc[(df[\"registration\"] == \"-/-\") & (df['prev_owner']=='1 previous owner')][\"registration\"] = df.loc[(df[\"registration\"] == \"-/-\") & (df['prev_owner']=='1 previous owner')][\"registration\"].replace(to_replace = ['-/-'],value= np.nan,inplace =True)\n",
        "df.loc[(df[\"registration\"] == \"-/-\") & (df['prev_owner']=='1 previous owner')][\"registration\"]\n"
      ],
      "metadata": {
        "colab": {
          "base_uri": "https://localhost:8080/"
        },
        "id": "IsjbRBywiR4v",
        "outputId": "98cf4c40-5223-46b3-c8f5-672819b5ba33"
      },
      "execution_count": 141,
      "outputs": [
        {
          "output_type": "execute_result",
          "data": {
            "text/plain": [
              "892      -/-\n",
              "1188     -/-\n",
              "2395     -/-\n",
              "4993     -/-\n",
              "4994     -/-\n",
              "4995     -/-\n",
              "5209     -/-\n",
              "5293     -/-\n",
              "5494     -/-\n",
              "5505     -/-\n",
              "5548     -/-\n",
              "6237     -/-\n",
              "7653     -/-\n",
              "11117    -/-\n",
              "12402    -/-\n",
              "12493    -/-\n",
              "12649    -/-\n",
              "12806    -/-\n",
              "13148    -/-\n",
              "15826    -/-\n",
              "15896    -/-\n",
              "Name: registration, dtype: object"
            ]
          },
          "metadata": {},
          "execution_count": 141
        }
      ]
    },
    {
      "cell_type": "code",
      "source": [
        " df.loc[(df[\"registration\"] == \"-/-\") & (df['prev_owner']=='1 previous owner')][\"registration\"].replace('-/-',value= np.nan)\n"
      ],
      "metadata": {
        "colab": {
          "base_uri": "https://localhost:8080/"
        },
        "id": "POMUJOTyM94T",
        "outputId": "ea099f6c-ed07-4ace-97e2-5e1939aa3d4b"
      },
      "execution_count": 142,
      "outputs": [
        {
          "output_type": "execute_result",
          "data": {
            "text/plain": [
              "892     NaN\n",
              "1188    NaN\n",
              "2395    NaN\n",
              "4993    NaN\n",
              "4994    NaN\n",
              "4995    NaN\n",
              "5209    NaN\n",
              "5293    NaN\n",
              "5494    NaN\n",
              "5505    NaN\n",
              "5548    NaN\n",
              "6237    NaN\n",
              "7653    NaN\n",
              "11117   NaN\n",
              "12402   NaN\n",
              "12493   NaN\n",
              "12649   NaN\n",
              "12806   NaN\n",
              "13148   NaN\n",
              "15826   NaN\n",
              "15896   NaN\n",
              "Name: registration, dtype: float64"
            ]
          },
          "metadata": {},
          "execution_count": 142
        }
      ]
    },
    {
      "cell_type": "code",
      "source": [
        "df.registration.iloc[892]"
      ],
      "metadata": {
        "colab": {
          "base_uri": "https://localhost:8080/",
          "height": 36
        },
        "id": "QRww-udsnBCn",
        "outputId": "bd8ac94b-b663-4358-be09-187528fc64ee"
      },
      "execution_count": 143,
      "outputs": [
        {
          "output_type": "execute_result",
          "data": {
            "text/plain": [
              "'-/-'"
            ],
            "application/vnd.google.colaboratory.intrinsic+json": {
              "type": "string"
            }
          },
          "metadata": {},
          "execution_count": 143
        }
      ]
    },
    {
      "cell_type": "code",
      "source": [
        "df.registration.apply(lambda x: np.NaN if (x =='-/-') and (df['prev_owner']=='1 previous owner') else x )"
      ],
      "metadata": {
        "id": "FmSPuL-3gTNb"
      },
      "execution_count": null,
      "outputs": []
    },
    {
      "cell_type": "code",
      "source": [
        " df.loc[(df[\"registration\"] == \"-/-\") & (df['prev_owner']=='1 previous owner')][\"registration\"].apply(lambda x: np.NaN if x =='-/-' else x)\n"
      ],
      "metadata": {
        "colab": {
          "base_uri": "https://localhost:8080/"
        },
        "id": "CTf-erLMnMkQ",
        "outputId": "5659d470-7d80-461a-c019-a57f3912c5ed"
      },
      "execution_count": 145,
      "outputs": [
        {
          "output_type": "execute_result",
          "data": {
            "text/plain": [
              "892     NaN\n",
              "1188    NaN\n",
              "2395    NaN\n",
              "4993    NaN\n",
              "4994    NaN\n",
              "4995    NaN\n",
              "5209    NaN\n",
              "5293    NaN\n",
              "5494    NaN\n",
              "5505    NaN\n",
              "5548    NaN\n",
              "6237    NaN\n",
              "7653    NaN\n",
              "11117   NaN\n",
              "12402   NaN\n",
              "12493   NaN\n",
              "12649   NaN\n",
              "12806   NaN\n",
              "13148   NaN\n",
              "15826   NaN\n",
              "15896   NaN\n",
              "Name: registration, dtype: float64"
            ]
          },
          "metadata": {},
          "execution_count": 145
        }
      ]
    },
    {
      "cell_type": "code",
      "source": [
        " df.loc[(df[\"registration\"] == \"-/-\") & (df['prev_owner']=='1 previous owner')][\"registration\"]"
      ],
      "metadata": {
        "colab": {
          "base_uri": "https://localhost:8080/"
        },
        "id": "5MCY8OPwTP_J",
        "outputId": "6f9381ac-e62a-4d14-bc15-288d2a639165"
      },
      "execution_count": 147,
      "outputs": [
        {
          "output_type": "execute_result",
          "data": {
            "text/plain": [
              "892      -/-\n",
              "1188     -/-\n",
              "2395     -/-\n",
              "4993     -/-\n",
              "4994     -/-\n",
              "4995     -/-\n",
              "5209     -/-\n",
              "5293     -/-\n",
              "5494     -/-\n",
              "5505     -/-\n",
              "5548     -/-\n",
              "6237     -/-\n",
              "7653     -/-\n",
              "11117    -/-\n",
              "12402    -/-\n",
              "12493    -/-\n",
              "12649    -/-\n",
              "12806    -/-\n",
              "13148    -/-\n",
              "15826    -/-\n",
              "15896    -/-\n",
              "Name: registration, dtype: object"
            ]
          },
          "metadata": {},
          "execution_count": 147
        }
      ]
    },
    {
      "cell_type": "code",
      "source": [
        "\n"
      ],
      "metadata": {
        "id": "01eCoBaySvny"
      },
      "execution_count": null,
      "outputs": []
    },
    {
      "cell_type": "code",
      "source": [
        ""
      ],
      "metadata": {
        "id": "6bto1pkjd3_-"
      },
      "execution_count": null,
      "outputs": []
    },
    {
      "cell_type": "markdown",
      "source": [
        "##9.prev_owner"
      ],
      "metadata": {
        "id": "CYbsd4urd5IX"
      }
    },
    {
      "cell_type": "code",
      "source": [
        "df.prev_owner.value_counts(dropna=False)  ## has nearly same values with 'Previous Owners', so 'Previous Owners' can be dropped"
      ],
      "metadata": {
        "colab": {
          "base_uri": "https://localhost:8080/"
        },
        "id": "xAgPH0aoeTxA",
        "outputId": "4634dbaf-54f0-41fd-cda9-dfb6b1298ca6"
      },
      "execution_count": 148,
      "outputs": [
        {
          "output_type": "execute_result",
          "data": {
            "text/plain": [
              "1 previous owner     8294\n",
              "NaN                  6828\n",
              "2 previous owners     778\n",
              "3 previous owners      17\n",
              "4 previous owners       2\n",
              "Name: prev_owner, dtype: int64"
            ]
          },
          "metadata": {},
          "execution_count": 148
        }
      ]
    },
    {
      "cell_type": "code",
      "source": [
        "df.prev_owner.sample(5)"
      ],
      "metadata": {
        "colab": {
          "base_uri": "https://localhost:8080/"
        },
        "id": "FYKymftenZJ4",
        "outputId": "ee2f8f48-813e-4a50-bd88-0794a0bdc48c"
      },
      "execution_count": 149,
      "outputs": [
        {
          "output_type": "execute_result",
          "data": {
            "text/plain": [
              "10655    1 previous owner\n",
              "14329    1 previous owner\n",
              "14700                None\n",
              "10318    1 previous owner\n",
              "6092     1 previous owner\n",
              "Name: prev_owner, dtype: object"
            ]
          },
          "metadata": {},
          "execution_count": 149
        }
      ]
    },
    {
      "cell_type": "code",
      "source": [
        "df[['prev_owner','Previous Owners']].sample(10)"
      ],
      "metadata": {
        "colab": {
          "base_uri": "https://localhost:8080/",
          "height": 363
        },
        "id": "p5QEl4cRrUqO",
        "outputId": "54793a4c-9c39-4c27-e0d5-7a6857985d3b"
      },
      "execution_count": 150,
      "outputs": [
        {
          "output_type": "execute_result",
          "data": {
            "text/plain": [
              "             prev_owner Previous Owners\n",
              "12572              None             NaN\n",
              "4570   1 previous owner           \\n1\\n\n",
              "5923   1 previous owner           \\n1\\n\n",
              "7909               None             NaN\n",
              "10612  1 previous owner           \\n1\\n\n",
              "14066  1 previous owner           \\n1\\n\n",
              "11512  1 previous owner           \\n1\\n\n",
              "2476               None             NaN\n",
              "12665              None             NaN\n",
              "12686              None             NaN"
            ],
            "text/html": [
              "\n",
              "  <div id=\"df-2cb0c9e6-035a-409f-b7eb-f5dda15d39c1\">\n",
              "    <div class=\"colab-df-container\">\n",
              "      <div>\n",
              "<style scoped>\n",
              "    .dataframe tbody tr th:only-of-type {\n",
              "        vertical-align: middle;\n",
              "    }\n",
              "\n",
              "    .dataframe tbody tr th {\n",
              "        vertical-align: top;\n",
              "    }\n",
              "\n",
              "    .dataframe thead th {\n",
              "        text-align: right;\n",
              "    }\n",
              "</style>\n",
              "<table border=\"1\" class=\"dataframe\">\n",
              "  <thead>\n",
              "    <tr style=\"text-align: right;\">\n",
              "      <th></th>\n",
              "      <th>prev_owner</th>\n",
              "      <th>Previous Owners</th>\n",
              "    </tr>\n",
              "  </thead>\n",
              "  <tbody>\n",
              "    <tr>\n",
              "      <th>12572</th>\n",
              "      <td>None</td>\n",
              "      <td>NaN</td>\n",
              "    </tr>\n",
              "    <tr>\n",
              "      <th>4570</th>\n",
              "      <td>1 previous owner</td>\n",
              "      <td>\\n1\\n</td>\n",
              "    </tr>\n",
              "    <tr>\n",
              "      <th>5923</th>\n",
              "      <td>1 previous owner</td>\n",
              "      <td>\\n1\\n</td>\n",
              "    </tr>\n",
              "    <tr>\n",
              "      <th>7909</th>\n",
              "      <td>None</td>\n",
              "      <td>NaN</td>\n",
              "    </tr>\n",
              "    <tr>\n",
              "      <th>10612</th>\n",
              "      <td>1 previous owner</td>\n",
              "      <td>\\n1\\n</td>\n",
              "    </tr>\n",
              "    <tr>\n",
              "      <th>14066</th>\n",
              "      <td>1 previous owner</td>\n",
              "      <td>\\n1\\n</td>\n",
              "    </tr>\n",
              "    <tr>\n",
              "      <th>11512</th>\n",
              "      <td>1 previous owner</td>\n",
              "      <td>\\n1\\n</td>\n",
              "    </tr>\n",
              "    <tr>\n",
              "      <th>2476</th>\n",
              "      <td>None</td>\n",
              "      <td>NaN</td>\n",
              "    </tr>\n",
              "    <tr>\n",
              "      <th>12665</th>\n",
              "      <td>None</td>\n",
              "      <td>NaN</td>\n",
              "    </tr>\n",
              "    <tr>\n",
              "      <th>12686</th>\n",
              "      <td>None</td>\n",
              "      <td>NaN</td>\n",
              "    </tr>\n",
              "  </tbody>\n",
              "</table>\n",
              "</div>\n",
              "      <button class=\"colab-df-convert\" onclick=\"convertToInteractive('df-2cb0c9e6-035a-409f-b7eb-f5dda15d39c1')\"\n",
              "              title=\"Convert this dataframe to an interactive table.\"\n",
              "              style=\"display:none;\">\n",
              "        \n",
              "  <svg xmlns=\"http://www.w3.org/2000/svg\" height=\"24px\"viewBox=\"0 0 24 24\"\n",
              "       width=\"24px\">\n",
              "    <path d=\"M0 0h24v24H0V0z\" fill=\"none\"/>\n",
              "    <path d=\"M18.56 5.44l.94 2.06.94-2.06 2.06-.94-2.06-.94-.94-2.06-.94 2.06-2.06.94zm-11 1L8.5 8.5l.94-2.06 2.06-.94-2.06-.94L8.5 2.5l-.94 2.06-2.06.94zm10 10l.94 2.06.94-2.06 2.06-.94-2.06-.94-.94-2.06-.94 2.06-2.06.94z\"/><path d=\"M17.41 7.96l-1.37-1.37c-.4-.4-.92-.59-1.43-.59-.52 0-1.04.2-1.43.59L10.3 9.45l-7.72 7.72c-.78.78-.78 2.05 0 2.83L4 21.41c.39.39.9.59 1.41.59.51 0 1.02-.2 1.41-.59l7.78-7.78 2.81-2.81c.8-.78.8-2.07 0-2.86zM5.41 20L4 18.59l7.72-7.72 1.47 1.35L5.41 20z\"/>\n",
              "  </svg>\n",
              "      </button>\n",
              "      \n",
              "  <style>\n",
              "    .colab-df-container {\n",
              "      display:flex;\n",
              "      flex-wrap:wrap;\n",
              "      gap: 12px;\n",
              "    }\n",
              "\n",
              "    .colab-df-convert {\n",
              "      background-color: #E8F0FE;\n",
              "      border: none;\n",
              "      border-radius: 50%;\n",
              "      cursor: pointer;\n",
              "      display: none;\n",
              "      fill: #1967D2;\n",
              "      height: 32px;\n",
              "      padding: 0 0 0 0;\n",
              "      width: 32px;\n",
              "    }\n",
              "\n",
              "    .colab-df-convert:hover {\n",
              "      background-color: #E2EBFA;\n",
              "      box-shadow: 0px 1px 2px rgba(60, 64, 67, 0.3), 0px 1px 3px 1px rgba(60, 64, 67, 0.15);\n",
              "      fill: #174EA6;\n",
              "    }\n",
              "\n",
              "    [theme=dark] .colab-df-convert {\n",
              "      background-color: #3B4455;\n",
              "      fill: #D2E3FC;\n",
              "    }\n",
              "\n",
              "    [theme=dark] .colab-df-convert:hover {\n",
              "      background-color: #434B5C;\n",
              "      box-shadow: 0px 1px 3px 1px rgba(0, 0, 0, 0.15);\n",
              "      filter: drop-shadow(0px 1px 2px rgba(0, 0, 0, 0.3));\n",
              "      fill: #FFFFFF;\n",
              "    }\n",
              "  </style>\n",
              "\n",
              "      <script>\n",
              "        const buttonEl =\n",
              "          document.querySelector('#df-2cb0c9e6-035a-409f-b7eb-f5dda15d39c1 button.colab-df-convert');\n",
              "        buttonEl.style.display =\n",
              "          google.colab.kernel.accessAllowed ? 'block' : 'none';\n",
              "\n",
              "        async function convertToInteractive(key) {\n",
              "          const element = document.querySelector('#df-2cb0c9e6-035a-409f-b7eb-f5dda15d39c1');\n",
              "          const dataTable =\n",
              "            await google.colab.kernel.invokeFunction('convertToInteractive',\n",
              "                                                     [key], {});\n",
              "          if (!dataTable) return;\n",
              "\n",
              "          const docLinkHtml = 'Like what you see? Visit the ' +\n",
              "            '<a target=\"_blank\" href=https://colab.research.google.com/notebooks/data_table.ipynb>data table notebook</a>'\n",
              "            + ' to learn more about interactive tables.';\n",
              "          element.innerHTML = '';\n",
              "          dataTable['output_type'] = 'display_data';\n",
              "          await google.colab.output.renderOutput(dataTable, element);\n",
              "          const docLink = document.createElement('div');\n",
              "          docLink.innerHTML = docLinkHtml;\n",
              "          element.appendChild(docLink);\n",
              "        }\n",
              "      </script>\n",
              "    </div>\n",
              "  </div>\n",
              "  "
            ]
          },
          "metadata": {},
          "execution_count": 150
        }
      ]
    },
    {
      "cell_type": "code",
      "source": [
        ""
      ],
      "metadata": {
        "id": "OwoZG8mGrZCj"
      },
      "execution_count": 150,
      "outputs": []
    },
    {
      "cell_type": "markdown",
      "source": [
        "##10.kW"
      ],
      "metadata": {
        "id": "XUpeXGzNnqEx"
      }
    },
    {
      "cell_type": "code",
      "source": [
        "df.kW.value_counts(dropna=False)  ##empty, so drop"
      ],
      "metadata": {
        "id": "s8EDR0D1nYzZ"
      },
      "execution_count": null,
      "outputs": []
    },
    {
      "cell_type": "code",
      "source": [
        "df.drop('kW', axis=1,inplace = True)"
      ],
      "metadata": {
        "id": "4YnBUSQCyKzv"
      },
      "execution_count": 152,
      "outputs": []
    },
    {
      "cell_type": "markdown",
      "source": [
        "##11.hp_kW"
      ],
      "metadata": {
        "id": "QOyZ3KKCn0Qd"
      }
    },
    {
      "cell_type": "code",
      "source": [
        "df.hp.value_counts(dropna=False)"
      ],
      "metadata": {
        "colab": {
          "base_uri": "https://localhost:8080/"
        },
        "id": "B0JrzaRet766",
        "outputId": "b8a95a8b-5c64-4eb8-cc82-e6561b878d78"
      },
      "execution_count": 153,
      "outputs": [
        {
          "output_type": "execute_result",
          "data": {
            "text/plain": [
              "85 kW     2542\n",
              "66 kW     2122\n",
              "81 kW     1402\n",
              "100 kW    1308\n",
              "110 kW    1112\n",
              "          ... \n",
              "84 kW        1\n",
              "195 kW       1\n",
              "44 kW        1\n",
              "239 kW       1\n",
              "9 kW         1\n",
              "Name: hp, Length: 81, dtype: int64"
            ]
          },
          "metadata": {},
          "execution_count": 153
        }
      ]
    },
    {
      "cell_type": "code",
      "source": [
        "df.hp=df.hp.str.replace(' kW','')"
      ],
      "metadata": {
        "id": "m0Zvy15VuIQx"
      },
      "execution_count": 156,
      "outputs": []
    },
    {
      "cell_type": "code",
      "source": [
        ""
      ],
      "metadata": {
        "id": "Al5D_SUMuWUY"
      },
      "execution_count": null,
      "outputs": []
    },
    {
      "cell_type": "code",
      "source": [
        "df['hp_kW']=df.hp"
      ],
      "metadata": {
        "id": "rgnhfnsauZAz"
      },
      "execution_count": 157,
      "outputs": []
    },
    {
      "cell_type": "code",
      "source": [
        "df.drop('hp', axis=1,inplace = True)"
      ],
      "metadata": {
        "id": "50a32ytbu-Di"
      },
      "execution_count": 158,
      "outputs": []
    },
    {
      "cell_type": "code",
      "source": [
        "df.columns"
      ],
      "metadata": {
        "colab": {
          "base_uri": "https://localhost:8080/"
        },
        "id": "Mu-nPt0uuoc0",
        "outputId": "7460e34b-45ff-447f-c50b-326a89e56045"
      },
      "execution_count": null,
      "outputs": [
        {
          "output_type": "execute_result",
          "data": {
            "text/plain": [
              "Index(['url', 'make_model', 'short_description', 'body_type', 'price', 'vat',\n",
              "       'km', 'registration', 'prev_owner', 'kW', 'Type', 'Previous Owners',\n",
              "       'Next Inspection', 'Inspection new', 'Warranty', 'Full Service',\n",
              "       'Non-smoking Vehicle', 'null', 'Make', 'Model', 'Offer Number',\n",
              "       'First Registration', 'Body Color', 'Paint Type', 'Body Color Original',\n",
              "       'Upholstery', 'Body', 'Nr. of Doors', 'Nr. of Seats', 'Model Code',\n",
              "       'Gearing Type', 'Displacement', 'Cylinders', 'Weight', 'Drive chain',\n",
              "       'Fuel', 'Consumption', 'CO2 Emission', 'Emission Class',\n",
              "       '\\nComfort & Convenience\\n', '\\nEntertainment & Media\\n', '\\nExtras\\n',\n",
              "       '\\nSafety & Security\\n', 'description', 'Emission Label', 'Gears',\n",
              "       'Country version', 'Electricity consumption', 'Last Service Date',\n",
              "       'Other Fuel Types', 'Availability', 'Last Timing Belt Service Date',\n",
              "       'Available from', 'hp_kW'],\n",
              "      dtype='object')"
            ]
          },
          "metadata": {},
          "execution_count": 86
        }
      ]
    },
    {
      "cell_type": "code",
      "source": [
        "df.hp_kW.value_counts(dropna=False)"
      ],
      "metadata": {
        "colab": {
          "base_uri": "https://localhost:8080/"
        },
        "id": "3GytUaBBuwjN",
        "outputId": "0062732a-f887-475b-ebf7-21c9556a758d"
      },
      "execution_count": 159,
      "outputs": [
        {
          "output_type": "execute_result",
          "data": {
            "text/plain": [
              "85     2542\n",
              "66     2122\n",
              "81     1402\n",
              "100    1308\n",
              "110    1112\n",
              "       ... \n",
              "84        1\n",
              "195       1\n",
              "44        1\n",
              "239       1\n",
              "9         1\n",
              "Name: hp_kW, Length: 81, dtype: int64"
            ]
          },
          "metadata": {},
          "execution_count": 159
        }
      ]
    },
    {
      "cell_type": "code",
      "source": [
        "df.hp_kW.isna().sum()"
      ],
      "metadata": {
        "colab": {
          "base_uri": "https://localhost:8080/"
        },
        "id": "N2a8JvXcyVuv",
        "outputId": "8c683541-6aa6-48f4-c94b-0159f952d0fc"
      },
      "execution_count": 160,
      "outputs": [
        {
          "output_type": "execute_result",
          "data": {
            "text/plain": [
              "0"
            ]
          },
          "metadata": {},
          "execution_count": 160
        }
      ]
    },
    {
      "cell_type": "markdown",
      "source": [
        "##12.Type"
      ],
      "metadata": {
        "id": "_jpmoJSHuDdq"
      }
    },
    {
      "cell_type": "code",
      "execution_count": 161,
      "metadata": {
        "colab": {
          "base_uri": "https://localhost:8080/",
          "height": 448
        },
        "id": "nWdriXK7mLgu",
        "outputId": "a2b27b2e-c4a2-432f-a193-3b8b2f0f793d"
      },
      "outputs": [
        {
          "output_type": "error",
          "ename": "TypeError",
          "evalue": "ignored",
          "traceback": [
            "\u001b[0;31m---------------------------------------------------------------------------\u001b[0m",
            "\u001b[0;31mTypeError\u001b[0m                                 Traceback (most recent call last)",
            "\u001b[0;32mpandas/_libs/hashtable_class_helper.pxi\u001b[0m in \u001b[0;36mpandas._libs.hashtable.PyObjectHashTable.map_locations\u001b[0;34m()\u001b[0m\n",
            "\u001b[0;31mTypeError\u001b[0m: unhashable type: 'list'"
          ]
        },
        {
          "output_type": "stream",
          "name": "stderr",
          "text": [
            "Exception ignored in: 'pandas._libs.index.IndexEngine._call_map_locations'\n",
            "Traceback (most recent call last):\n",
            "  File \"pandas/_libs/hashtable_class_helper.pxi\", line 5231, in pandas._libs.hashtable.PyObjectHashTable.map_locations\n",
            "TypeError: unhashable type: 'list'\n"
          ]
        },
        {
          "output_type": "execute_result",
          "data": {
            "text/plain": [
              "[, Used, , Diesel (Particulate Filter)]                                                                                 3475\n",
              "[, Used, , Diesel]                                                                                                      2516\n",
              "[, Used, , Gasoline]                                                                                                    2367\n",
              "[, Used, , Super 95]                                                                                                    1818\n",
              "[, Pre-registered, , Super 95]                                                                                           500\n",
              "                                                                                                                        ... \n",
              "[, New, , Regular/Benzine 91 / Super 95 / Super Plus 98 / Regular/Benzine E10 91 / Super Plus E10 98 / Super E10 95]       1\n",
              "[, Used, , Super 95 / Super Plus 98 / Super E10 95 / Super Plus E10 98 (Particulate Filter)]                               1\n",
              "[, Demonstration, , Super Plus 98]                                                                                         1\n",
              "[, New, , Super Plus E10 98]                                                                                               1\n",
              "[, Demonstration, , Regular/Benzine E10 91]                                                                                1\n",
              "Name: Type, Length: 170, dtype: int64"
            ]
          },
          "metadata": {},
          "execution_count": 161
        }
      ],
      "source": [
        "df.Type.value_counts(dropna=False)"
      ]
    },
    {
      "cell_type": "code",
      "source": [
        "df[\"Type\"]=[item[1] if type (item)==list else item for item in df [\"Type\"]]\n",
        "\n"
      ],
      "metadata": {
        "id": "6S3Yk19N1sDs"
      },
      "execution_count": 162,
      "outputs": []
    },
    {
      "cell_type": "code",
      "source": [
        "df[\"Type\"].sample(10)"
      ],
      "metadata": {
        "colab": {
          "base_uri": "https://localhost:8080/"
        },
        "id": "u28NFnvB2t_W",
        "outputId": "b5216758-60e1-4c1e-8180-db5525481810"
      },
      "execution_count": 163,
      "outputs": [
        {
          "output_type": "execute_result",
          "data": {
            "text/plain": [
              "3052               Used\n",
              "4143               Used\n",
              "7181     Employee's car\n",
              "9047     Employee's car\n",
              "6049               Used\n",
              "4662               Used\n",
              "2482               Used\n",
              "1122               Used\n",
              "8994               Used\n",
              "13554    Employee's car\n",
              "Name: Type, dtype: object"
            ]
          },
          "metadata": {},
          "execution_count": 163
        }
      ]
    },
    {
      "cell_type": "code",
      "source": [
        "df['Type'].value_counts(dropna=False)"
      ],
      "metadata": {
        "colab": {
          "base_uri": "https://localhost:8080/"
        },
        "id": "qabPiZP93ekb",
        "outputId": "2419024d-c39a-467b-e907-ebed5e82bb99"
      },
      "execution_count": 164,
      "outputs": [
        {
          "output_type": "execute_result",
          "data": {
            "text/plain": [
              "Used              11096\n",
              "New                1650\n",
              "Pre-registered     1364\n",
              "Employee's car     1011\n",
              "Demonstration       796\n",
              "NaN                   2\n",
              "Name: Type, dtype: int64"
            ]
          },
          "metadata": {},
          "execution_count": 164
        }
      ]
    },
    {
      "cell_type": "code",
      "source": [
        "df['usage_status']=df['Type']"
      ],
      "metadata": {
        "id": "FpBLUWto3k1K"
      },
      "execution_count": 165,
      "outputs": []
    },
    {
      "cell_type": "code",
      "source": [
        "df['usage_status'].value_counts(dropna=False)"
      ],
      "metadata": {
        "colab": {
          "base_uri": "https://localhost:8080/"
        },
        "id": "3NWft1BX3rP-",
        "outputId": "4720f701-1c59-47b0-9a6a-299683c48d9e"
      },
      "execution_count": 166,
      "outputs": [
        {
          "output_type": "execute_result",
          "data": {
            "text/plain": [
              "Used              11096\n",
              "New                1650\n",
              "Pre-registered     1364\n",
              "Employee's car     1011\n",
              "Demonstration       796\n",
              "NaN                   2\n",
              "Name: usage_status, dtype: int64"
            ]
          },
          "metadata": {},
          "execution_count": 166
        }
      ]
    },
    {
      "cell_type": "code",
      "source": [
        "df.drop('Type', axis=1,inplace = True)"
      ],
      "metadata": {
        "id": "Z2LVobTr3v9Y"
      },
      "execution_count": 167,
      "outputs": []
    },
    {
      "cell_type": "markdown",
      "source": [
        "##13.'Previous Owners'"
      ],
      "metadata": {
        "id": "R-79sVUItveP"
      }
    },
    {
      "cell_type": "code",
      "source": [
        "df['Previous Owners'].value_counts(dropna=False)"
      ],
      "metadata": {
        "colab": {
          "base_uri": "https://localhost:8080/",
          "height": 448
        },
        "id": "kR535Svktwt_",
        "outputId": "8fdaa1a6-15a1-4d17-9159-58a9cbfb2ed1"
      },
      "execution_count": 168,
      "outputs": [
        {
          "output_type": "error",
          "ename": "TypeError",
          "evalue": "ignored",
          "traceback": [
            "\u001b[0;31m---------------------------------------------------------------------------\u001b[0m",
            "\u001b[0;31mTypeError\u001b[0m                                 Traceback (most recent call last)",
            "\u001b[0;32mpandas/_libs/hashtable_class_helper.pxi\u001b[0m in \u001b[0;36mpandas._libs.hashtable.PyObjectHashTable.map_locations\u001b[0;34m()\u001b[0m\n",
            "\u001b[0;31mTypeError\u001b[0m: unhashable type: 'list'"
          ]
        },
        {
          "output_type": "stream",
          "name": "stderr",
          "text": [
            "Exception ignored in: 'pandas._libs.index.IndexEngine._call_map_locations'\n",
            "Traceback (most recent call last):\n",
            "  File \"pandas/_libs/hashtable_class_helper.pxi\", line 5231, in pandas._libs.hashtable.PyObjectHashTable.map_locations\n",
            "TypeError: unhashable type: 'list'\n"
          ]
        },
        {
          "output_type": "execute_result",
          "data": {
            "text/plain": [
              "\\n1\\n                                                                                        8101\n",
              "NaN                                                                                          6640\n",
              "\\n2\\n                                                                                         766\n",
              "\\n0\\n                                                                                         163\n",
              "\\n3\\n                                                                                          17\n",
              "                                                                                             ... \n",
              "[\\n1\\n, \\n111 g CO2/km (comb)\\n]                                                                1\n",
              "[\\n1\\n, \\nEuro 6\\n]                                                                             1\n",
              "[\\n2\\n, \\n119 g CO2/km (comb)\\n]                                                                1\n",
              "[\\n1\\n, \\n, 6.6 l/100 km (comb), \\n, 8.1 l/100 km (city), \\n, 5.7 l/100 km (country), \\n]       1\n",
              "[\\n2\\n, \\n137 g CO2/km (comb)\\n]                                                                1\n",
              "Name: Previous Owners, Length: 103, dtype: int64"
            ]
          },
          "metadata": {},
          "execution_count": 168
        }
      ]
    },
    {
      "cell_type": "code",
      "source": [
        "df.drop('Previous Owners', axis=1,inplace = True)"
      ],
      "metadata": {
        "id": "9exn9a0A4J5t"
      },
      "execution_count": 169,
      "outputs": []
    },
    {
      "cell_type": "markdown",
      "source": [
        "##14.Next Inspection"
      ],
      "metadata": {
        "id": "PY4kelw94eNw"
      }
    },
    {
      "cell_type": "code",
      "source": [
        "df['Next Inspection'].value_counts(dropna=False) ## Next Inspection and Inspection new has 12384 nan values and no effect is expected to the price, so drop!"
      ],
      "metadata": {
        "colab": {
          "base_uri": "https://localhost:8080/",
          "height": 448
        },
        "id": "moV65Kd24kVZ",
        "outputId": "caa15189-1ad8-49cd-8677-a05519cf242a"
      },
      "execution_count": 170,
      "outputs": [
        {
          "output_type": "error",
          "ename": "TypeError",
          "evalue": "ignored",
          "traceback": [
            "\u001b[0;31m---------------------------------------------------------------------------\u001b[0m",
            "\u001b[0;31mTypeError\u001b[0m                                 Traceback (most recent call last)",
            "\u001b[0;32mpandas/_libs/hashtable_class_helper.pxi\u001b[0m in \u001b[0;36mpandas._libs.hashtable.PyObjectHashTable.map_locations\u001b[0;34m()\u001b[0m\n",
            "\u001b[0;31mTypeError\u001b[0m: unhashable type: 'list'"
          ]
        },
        {
          "output_type": "stream",
          "name": "stderr",
          "text": [
            "Exception ignored in: 'pandas._libs.index.IndexEngine._call_map_locations'\n",
            "Traceback (most recent call last):\n",
            "  File \"pandas/_libs/hashtable_class_helper.pxi\", line 5231, in pandas._libs.hashtable.PyObjectHashTable.map_locations\n",
            "TypeError: unhashable type: 'list'\n"
          ]
        },
        {
          "output_type": "execute_result",
          "data": {
            "text/plain": [
              "NaN                                       12384\n",
              "\\n04/2022\\n                                  62\n",
              "\\n03/2021\\n                                  38\n",
              "\\n03/2022\\n                                  36\n",
              "\\n06/2021\\n                                  34\n",
              "                                          ...  \n",
              "[\\n12/2018\\n, \\n97 g CO2/km (comb)\\n]         1\n",
              "[\\n03/2022\\n, \\n1 (No sticker)\\n]             1\n",
              "[\\n05/2021\\n, \\n93 g CO2/km (comb)\\n]         1\n",
              "[\\n06/2021\\n, \\n93 g CO2/km (comb)\\n]         1\n",
              "[\\n01/2022\\n, \\n168 g CO2/km (comb)\\n]        1\n",
              "Name: Next Inspection, Length: 1400, dtype: int64"
            ]
          },
          "metadata": {},
          "execution_count": 170
        }
      ]
    },
    {
      "cell_type": "code",
      "source": [
        "df['Next Inspection'].sample(15)"
      ],
      "metadata": {
        "colab": {
          "base_uri": "https://localhost:8080/"
        },
        "id": "ebWjQWr-6aAG",
        "outputId": "dfe53c54-a9bc-4063-bd84-a48f778b0ff7"
      },
      "execution_count": 171,
      "outputs": [
        {
          "output_type": "execute_result",
          "data": {
            "text/plain": [
              "1228                                        NaN\n",
              "12632                                       NaN\n",
              "11896              [\\n05/2019\\n, \\n4 (Green)\\n]\n",
              "5475                                        NaN\n",
              "3054                                        NaN\n",
              "7711                                        NaN\n",
              "5824     [\\n06/2021\\n, \\n119 g CO2/km (comb)\\n]\n",
              "12089                                       NaN\n",
              "10359                                       NaN\n",
              "9230     [\\n05/2021\\n, \\n124 g CO2/km (comb)\\n]\n",
              "11049                                       NaN\n",
              "6132     [\\n05/2021\\n, \\n154 g CO2/km (comb)\\n]\n",
              "6232                                        NaN\n",
              "1205                                        NaN\n",
              "12490                                       NaN\n",
              "Name: Next Inspection, dtype: object"
            ]
          },
          "metadata": {},
          "execution_count": 171
        }
      ]
    },
    {
      "cell_type": "code",
      "source": [
        "df['Next Inspection'].isna().sum()"
      ],
      "metadata": {
        "id": "Ef6ciDQf6Zq_",
        "colab": {
          "base_uri": "https://localhost:8080/"
        },
        "outputId": "5a30efb2-4a35-4dd5-8835-1b7ba7e9a17e"
      },
      "execution_count": 175,
      "outputs": [
        {
          "output_type": "execute_result",
          "data": {
            "text/plain": [
              "12384"
            ]
          },
          "metadata": {},
          "execution_count": 175
        }
      ]
    },
    {
      "cell_type": "code",
      "source": [
        ""
      ],
      "metadata": {
        "id": "Kt4bgKLk5u-R"
      },
      "execution_count": null,
      "outputs": []
    },
    {
      "cell_type": "code",
      "source": [
        "df.drop('Next Inspection', axis=1,inplace = True)"
      ],
      "metadata": {
        "id": "io-SWJ1C5uvP"
      },
      "execution_count": 176,
      "outputs": []
    },
    {
      "cell_type": "markdown",
      "source": [
        "##15.Inspection new"
      ],
      "metadata": {
        "id": "6ERUyQwo8bmV"
      }
    },
    {
      "cell_type": "code",
      "source": [
        "df['Inspection new'].value_counts(dropna=False)"
      ],
      "metadata": {
        "colab": {
          "base_uri": "https://localhost:8080/",
          "height": 448
        },
        "id": "1-boyu__4nEC",
        "outputId": "97786678-0ffe-4aed-aa6d-39231595a1ee"
      },
      "execution_count": null,
      "outputs": [
        {
          "output_type": "error",
          "ename": "TypeError",
          "evalue": "ignored",
          "traceback": [
            "\u001b[0;31m---------------------------------------------------------------------------\u001b[0m",
            "\u001b[0;31mTypeError\u001b[0m                                 Traceback (most recent call last)",
            "\u001b[0;32mpandas/_libs/hashtable_class_helper.pxi\u001b[0m in \u001b[0;36mpandas._libs.hashtable.PyObjectHashTable.map_locations\u001b[0;34m()\u001b[0m\n",
            "\u001b[0;31mTypeError\u001b[0m: unhashable type: 'list'"
          ]
        },
        {
          "output_type": "stream",
          "name": "stderr",
          "text": [
            "Exception ignored in: 'pandas._libs.index.IndexEngine._call_map_locations'\n",
            "Traceback (most recent call last):\n",
            "  File \"pandas/_libs/hashtable_class_helper.pxi\", line 5231, in pandas._libs.hashtable.PyObjectHashTable.map_locations\n",
            "TypeError: unhashable type: 'list'\n"
          ]
        },
        {
          "output_type": "execute_result",
          "data": {
            "text/plain": [
              "NaN                                                                                            11987\n",
              "[\\nYes\\n, \\nEuro 6\\n]                                                                            523\n",
              "\\nYes\\n                                                                                          362\n",
              "[\\nYes\\n, \\n102 g CO2/km (comb)\\n]                                                               174\n",
              "[\\nYes\\n, \\n4 (Green)\\n]                                                                         166\n",
              "                                                                                               ...  \n",
              "[\\nYes\\n, \\n, 6 l/100 km (comb), \\n, 8 l/100 km (city), \\n, 4.9 l/100 km (country), \\n]            1\n",
              "[\\nYes\\n, \\n, 6.8 l/100 km (comb), \\n, 8.5 l/100 km (city), \\n, 6.1 l/100 km (country), \\n]        1\n",
              "[\\nYes\\n, \\n, 4.1 l/100 km (comb), \\n, 7.5 l/100 km (city), \\n, 5.2 l/100 km (country), \\n]        1\n",
              "[\\nYes\\n, \\n, 5.2 l/100 km (comb), \\n, 6.8 l/100 km (city), \\n, 4.3 l/100 km (country), \\n]        1\n",
              "[\\nYes\\n, \\n172 g CO2/km (comb)\\n]                                                                 1\n",
              "Name: Inspection new, Length: 203, dtype: int64"
            ]
          },
          "metadata": {},
          "execution_count": 123
        }
      ]
    },
    {
      "cell_type": "code",
      "source": [
        ""
      ],
      "metadata": {
        "id": "gPyOE1nh6Ez0"
      },
      "execution_count": null,
      "outputs": []
    },
    {
      "cell_type": "code",
      "source": [
        "df['Inspection new'].sample(15)"
      ],
      "metadata": {
        "colab": {
          "base_uri": "https://localhost:8080/"
        },
        "id": "bwTpLrez4m3t",
        "outputId": "a2259274-ea56-4ee0-a616-8f16643f817b"
      },
      "execution_count": null,
      "outputs": [
        {
          "output_type": "execute_result",
          "data": {
            "text/plain": [
              "8348                                \\nYes\\n\n",
              "15271                                   NaN\n",
              "176                                     NaN\n",
              "14662    [\\nYes\\n, \\n118 g CO2/km (comb)\\n]\n",
              "10621                                   NaN\n",
              "2138                                    NaN\n",
              "3477                                    NaN\n",
              "5960     [\\nYes\\n, \\n122 g CO2/km (comb)\\n]\n",
              "395                                     NaN\n",
              "898                                     NaN\n",
              "9139                                    NaN\n",
              "344                                     NaN\n",
              "987                                     NaN\n",
              "14602                                   NaN\n",
              "11490                 [\\nYes\\n, \\nEuro 6\\n]\n",
              "Name: Inspection new, dtype: object"
            ]
          },
          "metadata": {},
          "execution_count": 120
        }
      ]
    },
    {
      "cell_type": "code",
      "source": [
        "df.drop('Inspection new', axis=1,inplace = True)"
      ],
      "metadata": {
        "id": "6sNtnxt68l6X"
      },
      "execution_count": 177,
      "outputs": []
    },
    {
      "cell_type": "code",
      "source": [
        ""
      ],
      "metadata": {
        "id": "eqb1OwiA8lp5"
      },
      "execution_count": null,
      "outputs": []
    },
    {
      "cell_type": "markdown",
      "source": [
        "##16.Warranty"
      ],
      "metadata": {
        "id": "T8O49S908jaq"
      }
    },
    {
      "cell_type": "code",
      "source": [
        "df['Warranty'].value_counts(dropna=False)"
      ],
      "metadata": {
        "colab": {
          "base_uri": "https://localhost:8080/",
          "height": 448
        },
        "id": "gwyURBQE4msI",
        "outputId": "a81f6a03-7665-4bb4-8f43-766bc58a59a2"
      },
      "execution_count": null,
      "outputs": [
        {
          "output_type": "error",
          "ename": "TypeError",
          "evalue": "ignored",
          "traceback": [
            "\u001b[0;31m---------------------------------------------------------------------------\u001b[0m",
            "\u001b[0;31mTypeError\u001b[0m                                 Traceback (most recent call last)",
            "\u001b[0;32mpandas/_libs/hashtable_class_helper.pxi\u001b[0m in \u001b[0;36mpandas._libs.hashtable.PyObjectHashTable.map_locations\u001b[0;34m()\u001b[0m\n",
            "\u001b[0;31mTypeError\u001b[0m: unhashable type: 'list'"
          ]
        },
        {
          "output_type": "stream",
          "name": "stderr",
          "text": [
            "Exception ignored in: 'pandas._libs.index.IndexEngine._call_map_locations'\n",
            "Traceback (most recent call last):\n",
            "  File \"pandas/_libs/hashtable_class_helper.pxi\", line 5231, in pandas._libs.hashtable.PyObjectHashTable.map_locations\n",
            "TypeError: unhashable type: 'list'\n"
          ]
        },
        {
          "output_type": "execute_result",
          "data": {
            "text/plain": [
              "NaN                                                                                                5420\n",
              "[\\n, \\n, \\nEuro 6\\n]                                                                               1868\n",
              "\\n12 months\\n                                                                                      1177\n",
              "\\n                                                                                                  979\n",
              "\\n24 months\\n                                                                                       566\n",
              "                                                                                                   ... \n",
              "[\\n72 months\\n, \\n125 g CO2/km (comb)\\n]                                                              1\n",
              "[\\n60 months\\n, \\n14 g CO2/km (comb)\\n]                                                               1\n",
              "[\\n24 months\\n, \\n121 g CO2/km (comb)\\n]                                                              1\n",
              "[\\n12 months\\n, \\nEuro 6d\\n]                                                                          1\n",
              "[\\n36 months\\n, \\n, 7.4 l/100 km (comb), \\n, 9.6 l/100 km (city), \\n, 6 l/100 km (country), \\n]       1\n",
              "Name: Warranty, Length: 516, dtype: int64"
            ]
          },
          "metadata": {},
          "execution_count": 126
        }
      ]
    },
    {
      "cell_type": "code",
      "source": [
        "df['Warranty'].sample(15)"
      ],
      "metadata": {
        "colab": {
          "base_uri": "https://localhost:8080/"
        },
        "id": "AVMR6ai_9m4C",
        "outputId": "c5dc630d-9cab-499a-cbc2-8074f3e627e5"
      },
      "execution_count": null,
      "outputs": [
        {
          "output_type": "execute_result",
          "data": {
            "text/plain": [
              "7476               [\\n12 months\\n, \\n95 g CO2/km (comb)\\n]\n",
              "10150                                        \\n24 months\\n\n",
              "5929     [\\n60 months\\n, \\n, 4.3 l/100 km (comb), \\n, 5...\n",
              "5386                                  [\\n, \\n, \\nEuro 6\\n]\n",
              "7250                                  [\\n, \\n, \\nEuro 6\\n]\n",
              "4529                                                   NaN\n",
              "4610              [\\n12 months\\n, \\n117 g CO2/km (comb)\\n]\n",
              "8378                                                   NaN\n",
              "3066                                         \\n12 months\\n\n",
              "2382                                                    \\n\n",
              "9169              [\\n24 months\\n, \\n120 g CO2/km (comb)\\n]\n",
              "7379              [\\n24 months\\n, \\n146 g CO2/km (comb)\\n]\n",
              "9716                                                   NaN\n",
              "4365               [\\n12 months\\n, \\n99 g CO2/km (comb)\\n]\n",
              "7814                     [\\n, \\n, \\n134 g CO2/km (comb)\\n]\n",
              "Name: Warranty, dtype: object"
            ]
          },
          "metadata": {},
          "execution_count": 127
        }
      ]
    },
    {
      "cell_type": "code",
      "source": [
        ""
      ],
      "metadata": {
        "id": "JE5Q76QF-LFG"
      },
      "execution_count": null,
      "outputs": []
    },
    {
      "cell_type": "code",
      "source": [
        "df[\"Warranty\"]=[item[0] if type (item)==list else item for item in df [\"Warranty\"]]\n"
      ],
      "metadata": {
        "id": "BSsfIU4t4miO"
      },
      "execution_count": 178,
      "outputs": []
    },
    {
      "cell_type": "code",
      "source": [
        "df['Warranty'].sample(15)"
      ],
      "metadata": {
        "colab": {
          "base_uri": "https://localhost:8080/"
        },
        "id": "YHQmgCHo4mVj",
        "outputId": "8461b45a-bd18-4bc0-cf5b-3b2d22d47ad4"
      },
      "execution_count": 179,
      "outputs": [
        {
          "output_type": "execute_result",
          "data": {
            "text/plain": [
              "9663                \\n\n",
              "12361               \\n\n",
              "14017               \\n\n",
              "11412    \\n36 months\\n\n",
              "15096    \\n36 months\\n\n",
              "12444              NaN\n",
              "6634     \\n60 months\\n\n",
              "1662                \\n\n",
              "3423               NaN\n",
              "4452               NaN\n",
              "2599     \\n24 months\\n\n",
              "11567               \\n\n",
              "15716               \\n\n",
              "11989    \\n12 months\\n\n",
              "2853     \\n36 months\\n\n",
              "Name: Warranty, dtype: object"
            ]
          },
          "metadata": {},
          "execution_count": 179
        }
      ]
    },
    {
      "cell_type": "code",
      "source": [
        "df['Warranty'].value_counts(dropna=False)"
      ],
      "metadata": {
        "colab": {
          "base_uri": "https://localhost:8080/"
        },
        "id": "8FcKU_4E4mH-",
        "outputId": "9c6591e7-37ec-4db4-c89f-7c4fd7b07ea7"
      },
      "execution_count": 180,
      "outputs": [
        {
          "output_type": "execute_result",
          "data": {
            "text/plain": [
              "\\n               5645\n",
              "NaN              5420\n",
              "\\n12 months\\n    2594\n",
              "\\n24 months\\n    1118\n",
              "\\n60 months\\n     401\n",
              "\\n36 months\\n     279\n",
              "\\n48 months\\n     149\n",
              "\\n6 months\\n      125\n",
              "\\n72 months\\n      59\n",
              "\\n3 months\\n       33\n",
              "\\n23 months\\n      11\n",
              "\\n18 months\\n      10\n",
              "\\n20 months\\n       7\n",
              "\\n25 months\\n       6\n",
              "\\n2 months\\n        5\n",
              "\\n50 months\\n       4\n",
              "\\n26 months\\n       4\n",
              "\\n16 months\\n       4\n",
              "\\n1 months\\n        3\n",
              "\\n19 months\\n       3\n",
              "\\n4 months\\n        3\n",
              "\\n34 months\\n       3\n",
              "\\n13 months\\n       3\n",
              "\\n17 months\\n       2\n",
              "\\n45 months\\n       2\n",
              "\\n9 months\\n        2\n",
              "\\n21 months\\n       2\n",
              "\\n14 months\\n       2\n",
              "\\n28 months\\n       2\n",
              "\\n11 months\\n       2\n",
              "\\n22 months\\n       2\n",
              "\\n46 months\\n       2\n",
              "\\n10 months\\n       1\n",
              "\\n8 months\\n        1\n",
              "\\n7 months\\n        1\n",
              "\\n15 months\\n       1\n",
              "                    1\n",
              "\\n56 months\\n       1\n",
              "\\n49 months\\n       1\n",
              "\\n65 months\\n       1\n",
              "\\n47 months\\n       1\n",
              "\\n33 months\\n       1\n",
              "\\n40 months\\n       1\n",
              "\\n30 months\\n       1\n",
              "Name: Warranty, dtype: int64"
            ]
          },
          "metadata": {},
          "execution_count": 180
        }
      ]
    },
    {
      "cell_type": "code",
      "source": [
        "df['warranty_month']=df.Warranty.str.lstrip(\"\\n\").str.rstrip(\" months\\n\")\n",
        "df['warranty_month']"
      ],
      "metadata": {
        "colab": {
          "base_uri": "https://localhost:8080/"
        },
        "id": "xnBmWURf-uN-",
        "outputId": "95755997-18f9-4ce1-cfe7-90f7c9c2f411"
      },
      "execution_count": 181,
      "outputs": [
        {
          "output_type": "execute_result",
          "data": {
            "text/plain": [
              "0           \n",
              "1        NaN\n",
              "2           \n",
              "3        NaN\n",
              "4           \n",
              "        ... \n",
              "15914     24\n",
              "15915       \n",
              "15916       \n",
              "15917       \n",
              "15918    NaN\n",
              "Name: warranty_month, Length: 15919, dtype: object"
            ]
          },
          "metadata": {},
          "execution_count": 181
        }
      ]
    },
    {
      "cell_type": "code",
      "source": [
        "df['warranty_month'].value_counts()"
      ],
      "metadata": {
        "colab": {
          "base_uri": "https://localhost:8080/"
        },
        "id": "Bg9vXAuQAUGs",
        "outputId": "79599542-e7ef-4804-83a1-199b8112139d"
      },
      "execution_count": 183,
      "outputs": [
        {
          "output_type": "execute_result",
          "data": {
            "text/plain": [
              "      5646\n",
              "12    2594\n",
              "24    1118\n",
              "60     401\n",
              "36     279\n",
              "48     149\n",
              "6      125\n",
              "72      59\n",
              "3       33\n",
              "23      11\n",
              "18      10\n",
              "20       7\n",
              "25       6\n",
              "2        5\n",
              "50       4\n",
              "26       4\n",
              "16       4\n",
              "4        3\n",
              "1        3\n",
              "19       3\n",
              "34       3\n",
              "13       3\n",
              "28       2\n",
              "22       2\n",
              "14       2\n",
              "11       2\n",
              "46       2\n",
              "21       2\n",
              "9        2\n",
              "17       2\n",
              "45       2\n",
              "33       1\n",
              "40       1\n",
              "65       1\n",
              "10       1\n",
              "15       1\n",
              "7        1\n",
              "8        1\n",
              "56       1\n",
              "49       1\n",
              "47       1\n",
              "30       1\n",
              "Name: warranty_month, dtype: int64"
            ]
          },
          "metadata": {},
          "execution_count": 183
        }
      ]
    },
    {
      "cell_type": "code",
      "source": [
        "df['warranty_month']=df['warranty_month'].replace('',value= np.nan)"
      ],
      "metadata": {
        "id": "zMREXhRP-t8n"
      },
      "execution_count": 184,
      "outputs": []
    },
    {
      "cell_type": "code",
      "source": [
        "df['warranty_month'].value_counts(dropna=False)"
      ],
      "metadata": {
        "colab": {
          "base_uri": "https://localhost:8080/"
        },
        "id": "dwR7SMZeAbvN",
        "outputId": "bb1a017c-74b3-411b-c759-47145940d6b7"
      },
      "execution_count": 185,
      "outputs": [
        {
          "output_type": "execute_result",
          "data": {
            "text/plain": [
              "NaN    11066\n",
              "12      2594\n",
              "24      1118\n",
              "60       401\n",
              "36       279\n",
              "48       149\n",
              "6        125\n",
              "72        59\n",
              "3         33\n",
              "23        11\n",
              "18        10\n",
              "20         7\n",
              "25         6\n",
              "2          5\n",
              "50         4\n",
              "26         4\n",
              "16         4\n",
              "4          3\n",
              "1          3\n",
              "19         3\n",
              "34         3\n",
              "13         3\n",
              "28         2\n",
              "22         2\n",
              "14         2\n",
              "11         2\n",
              "46         2\n",
              "21         2\n",
              "9          2\n",
              "17         2\n",
              "45         2\n",
              "33         1\n",
              "40         1\n",
              "65         1\n",
              "10         1\n",
              "15         1\n",
              "7          1\n",
              "8          1\n",
              "56         1\n",
              "49         1\n",
              "47         1\n",
              "30         1\n",
              "Name: warranty_month, dtype: int64"
            ]
          },
          "metadata": {},
          "execution_count": 185
        }
      ]
    },
    {
      "cell_type": "markdown",
      "source": [
        "##17.Full Service"
      ],
      "metadata": {
        "id": "KuWXPswhAlLW"
      }
    },
    {
      "cell_type": "code",
      "source": [
        "df['Full Service'].value_counts(dropna=False) ##   Will not be used. Maybe it can be used for missing value\n"
      ],
      "metadata": {
        "colab": {
          "base_uri": "https://localhost:8080/",
          "height": 448
        },
        "id": "lOwzYs7kAkV6",
        "outputId": "f4226715-2683-4a0f-bd0c-b0b911017f8c"
      },
      "execution_count": 186,
      "outputs": [
        {
          "output_type": "error",
          "ename": "TypeError",
          "evalue": "ignored",
          "traceback": [
            "\u001b[0;31m---------------------------------------------------------------------------\u001b[0m",
            "\u001b[0;31mTypeError\u001b[0m                                 Traceback (most recent call last)",
            "\u001b[0;32mpandas/_libs/hashtable_class_helper.pxi\u001b[0m in \u001b[0;36mpandas._libs.hashtable.PyObjectHashTable.map_locations\u001b[0;34m()\u001b[0m\n",
            "\u001b[0;31mTypeError\u001b[0m: unhashable type: 'list'"
          ]
        },
        {
          "output_type": "stream",
          "name": "stderr",
          "text": [
            "Exception ignored in: 'pandas._libs.index.IndexEngine._call_map_locations'\n",
            "Traceback (most recent call last):\n",
            "  File \"pandas/_libs/hashtable_class_helper.pxi\", line 5231, in pandas._libs.hashtable.PyObjectHashTable.map_locations\n",
            "TypeError: unhashable type: 'list'\n"
          ]
        },
        {
          "output_type": "execute_result",
          "data": {
            "text/plain": [
              "NaN                                                                                           7704\n",
              "[\\n, \\n, \\n4 (Green)\\n]                                                                       2235\n",
              "[\\n, \\n, \\nEuro 6\\n]                                                                          2097\n",
              "[\\n, \\n]                                                                                      1702\n",
              "[\\n, \\n, \\nEuro 6d-TEMP\\n]                                                                     399\n",
              "                                                                                              ... \n",
              "[\\n, \\n, \\n80 g CO2/km (comb)\\n]                                                                 1\n",
              "[\\n, \\n, \\n84 g CO2/km (comb)\\n]                                                                 1\n",
              "[\\n, \\n, \\n, 6 l/100 km (comb), \\n, 8 l/100 km (city), \\n, 4.9 l/100 km (country), \\n]           1\n",
              "[\\n, \\n, \\n, 4.9 l/100 km (comb), \\n, 6.2 l/100 km (city), \\n, 4.1 l/100 km (country), \\n]       1\n",
              "[\\n, \\n, \\nEuro 4\\n]                                                                             1\n",
              "Name: Full Service, Length: 123, dtype: int64"
            ]
          },
          "metadata": {},
          "execution_count": 186
        }
      ]
    },
    {
      "cell_type": "code",
      "source": [
        "df['Full Service'].sample(15)"
      ],
      "metadata": {
        "colab": {
          "base_uri": "https://localhost:8080/"
        },
        "id": "HQ5G676dBbNs",
        "outputId": "92bafb6c-8131-47fd-f56e-e8ef8e1f85d7"
      },
      "execution_count": 187,
      "outputs": [
        {
          "output_type": "execute_result",
          "data": {
            "text/plain": [
              "12500                                  NaN\n",
              "10870                             [\\n, \\n]\n",
              "11616                                  NaN\n",
              "4129                                   NaN\n",
              "2233          [\\n, \\n, \\n1 (No sticker)\\n]\n",
              "4785                  [\\n, \\n, \\nEuro 6\\n]\n",
              "9882                                   NaN\n",
              "6888      [\\n, \\n, \\n97 g CO2/km (comb)\\n]\n",
              "2223                              [\\n, \\n]\n",
              "11968                             [\\n, \\n]\n",
              "14282                                  NaN\n",
              "12856    [\\n, \\n, \\n126 g CO2/km (comb)\\n]\n",
              "15896                                  NaN\n",
              "2865                                   NaN\n",
              "6001               [\\n, \\n, \\n4 (Green)\\n]\n",
              "Name: Full Service, dtype: object"
            ]
          },
          "metadata": {},
          "execution_count": 187
        }
      ]
    },
    {
      "cell_type": "markdown",
      "source": [
        ""
      ],
      "metadata": {
        "id": "7_25oK5-Biyd"
      }
    },
    {
      "cell_type": "code",
      "source": [
        "df.drop('Full Service', axis=1,inplace = True)"
      ],
      "metadata": {
        "id": "5j9IBB9CdaTw"
      },
      "execution_count": 188,
      "outputs": []
    },
    {
      "cell_type": "code",
      "source": [
        "df.columns"
      ],
      "metadata": {
        "colab": {
          "base_uri": "https://localhost:8080/"
        },
        "id": "hCCnDbwjB5xn",
        "outputId": "63b5ebb2-4622-49a0-ffc8-9767a82dcd95"
      },
      "execution_count": null,
      "outputs": [
        {
          "output_type": "execute_result",
          "data": {
            "text/plain": [
              "Index(['url', 'make_model', 'short_description', 'body_type', 'price', 'vat',\n",
              "       'km', 'registration', 'prev_owner', 'kW', 'hp', 'Warranty',\n",
              "       'Full Service', 'Non-smoking Vehicle', 'null', 'Make', 'Model',\n",
              "       'Offer Number', 'First Registration', 'Body Color', 'Paint Type',\n",
              "       'Body Color Original', 'Upholstery', 'Body', 'Nr. of Doors',\n",
              "       'Nr. of Seats', 'Model Code', 'Gearing Type', 'Displacement',\n",
              "       'Cylinders', 'Weight', 'Drive chain', 'Fuel', 'Consumption',\n",
              "       'CO2 Emission', 'Emission Class', '\\nComfort & Convenience\\n',\n",
              "       '\\nEntertainment & Media\\n', '\\nExtras\\n', '\\nSafety & Security\\n',\n",
              "       'description', 'Emission Label', 'Gears', 'Country version',\n",
              "       'Electricity consumption', 'Last Service Date', 'Other Fuel Types',\n",
              "       'Availability', 'Last Timing Belt Service Date', 'Available from',\n",
              "       'usage_status', 'warranty_month'],\n",
              "      dtype='object')"
            ]
          },
          "metadata": {},
          "execution_count": 144
        }
      ]
    },
    {
      "cell_type": "markdown",
      "source": [
        "##18.Non-smoking Vehicle"
      ],
      "metadata": {
        "id": "jUIEBYh5Cp4f"
      }
    },
    {
      "cell_type": "code",
      "source": [
        "df['Non-smoking Vehicle'].value_counts(dropna=False)"
      ],
      "metadata": {
        "colab": {
          "base_uri": "https://localhost:8080/",
          "height": 448
        },
        "id": "vX922YyGCx30",
        "outputId": "5366402b-2ab2-4f9a-a91e-7e68cff23dac"
      },
      "execution_count": 189,
      "outputs": [
        {
          "output_type": "error",
          "ename": "TypeError",
          "evalue": "ignored",
          "traceback": [
            "\u001b[0;31m---------------------------------------------------------------------------\u001b[0m",
            "\u001b[0;31mTypeError\u001b[0m                                 Traceback (most recent call last)",
            "\u001b[0;32mpandas/_libs/hashtable_class_helper.pxi\u001b[0m in \u001b[0;36mpandas._libs.hashtable.PyObjectHashTable.map_locations\u001b[0;34m()\u001b[0m\n",
            "\u001b[0;31mTypeError\u001b[0m: unhashable type: 'list'"
          ]
        },
        {
          "output_type": "stream",
          "name": "stderr",
          "text": [
            "Exception ignored in: 'pandas._libs.index.IndexEngine._call_map_locations'\n",
            "Traceback (most recent call last):\n",
            "  File \"pandas/_libs/hashtable_class_helper.pxi\", line 5231, in pandas._libs.hashtable.PyObjectHashTable.map_locations\n",
            "TypeError: unhashable type: 'list'\n"
          ]
        },
        {
          "output_type": "execute_result",
          "data": {
            "text/plain": [
              "NaN                                                                                           8742\n",
              "[\\n, \\n]                                                                                      3647\n",
              "[\\n, \\n, \\n4 (Green)\\n]                                                                       1240\n",
              "[\\n, \\n, \\nEuro 6\\n]                                                                          1127\n",
              "[\\n, \\n, \\nEuro 6d-TEMP\\n]                                                                     345\n",
              "                                                                                              ... \n",
              "[\\n, \\n, \\n, 5.6 l/100 km (comb), \\n, 7.3 l/100 km (city), \\n, 4.7 l/100 km (country), \\n]       1\n",
              "[\\n, \\n, \\n122 g CO2/km (comb)\\n]                                                                1\n",
              "[\\n, \\n, \\n158 g CO2/km (comb)\\n]                                                                1\n",
              "[\\n, \\n, \\n150 g CO2/km (comb)\\n]                                                                1\n",
              "[\\n, \\n, \\n175 g CO2/km (comb)\\n]                                                                1\n",
              "Name: Non-smoking Vehicle, Length: 95, dtype: int64"
            ]
          },
          "metadata": {},
          "execution_count": 189
        }
      ]
    },
    {
      "cell_type": "code",
      "source": [
        "df.drop('Non-smoking Vehicle', axis=1,inplace = True)  ##empty, so drop"
      ],
      "metadata": {
        "id": "5HrY9pQvC__q"
      },
      "execution_count": 190,
      "outputs": []
    },
    {
      "cell_type": "markdown",
      "source": [
        "##19.null"
      ],
      "metadata": {
        "id": "xAGvlvmnCtZK"
      }
    },
    {
      "cell_type": "code",
      "source": [
        "df['null'].value_counts(dropna=False)"
      ],
      "metadata": {
        "colab": {
          "base_uri": "https://localhost:8080/",
          "height": 264
        },
        "id": "iFDMH3NaCz8o",
        "outputId": "5d407335-fb39-4f2e-c172-247a719fee84"
      },
      "execution_count": null,
      "outputs": [
        {
          "output_type": "error",
          "ename": "TypeError",
          "evalue": "ignored",
          "traceback": [
            "\u001b[0;31m---------------------------------------------------------------------------\u001b[0m",
            "\u001b[0;31mTypeError\u001b[0m                                 Traceback (most recent call last)",
            "\u001b[0;32mpandas/_libs/hashtable_class_helper.pxi\u001b[0m in \u001b[0;36mpandas._libs.hashtable.PyObjectHashTable.map_locations\u001b[0;34m()\u001b[0m\n",
            "\u001b[0;31mTypeError\u001b[0m: unhashable type: 'list'"
          ]
        },
        {
          "output_type": "stream",
          "name": "stderr",
          "text": [
            "Exception ignored in: 'pandas._libs.index.IndexEngine._call_map_locations'\n",
            "Traceback (most recent call last):\n",
            "  File \"pandas/_libs/hashtable_class_helper.pxi\", line 5231, in pandas._libs.hashtable.PyObjectHashTable.map_locations\n",
            "TypeError: unhashable type: 'list'\n"
          ]
        },
        {
          "output_type": "execute_result",
          "data": {
            "text/plain": [
              "[]    15919\n",
              "Name: null, dtype: int64"
            ]
          },
          "metadata": {},
          "execution_count": 149
        }
      ]
    },
    {
      "cell_type": "code",
      "source": [
        "df.drop('null', axis=1,inplace = True)"
      ],
      "metadata": {
        "id": "D7IKt7y0DEBp"
      },
      "execution_count": 191,
      "outputs": []
    },
    {
      "cell_type": "markdown",
      "source": [
        "##20.Make"
      ],
      "metadata": {
        "id": "eBKJIb1iDE1D"
      }
    },
    {
      "cell_type": "code",
      "source": [
        ""
      ],
      "metadata": {
        "id": "y6KmFYKXEEUN"
      },
      "execution_count": null,
      "outputs": []
    },
    {
      "cell_type": "code",
      "source": [
        "df['Make'].value_counts(dropna=False) # same value as makemodel so drop"
      ],
      "metadata": {
        "colab": {
          "base_uri": "https://localhost:8080/"
        },
        "outputId": "f22a3e6f-6dd2-47ea-c34f-1edba56e439b",
        "id": "vr7n6Y8CEEu7"
      },
      "execution_count": null,
      "outputs": [
        {
          "output_type": "execute_result",
          "data": {
            "text/plain": [
              "\\nOpel\\n       7343\n",
              "\\nAudi\\n       5712\n",
              "\\nRenault\\n    2864\n",
              "Name: Make, dtype: int64"
            ]
          },
          "metadata": {},
          "execution_count": 151
        }
      ]
    },
    {
      "cell_type": "code",
      "source": [
        "df.drop('Make', axis=1,inplace = True)"
      ],
      "metadata": {
        "id": "-XibA1mhEEu8"
      },
      "execution_count": 192,
      "outputs": []
    },
    {
      "cell_type": "markdown",
      "source": [
        "##21.Model"
      ],
      "metadata": {
        "id": "FWuHG7cVD7Gg"
      }
    },
    {
      "cell_type": "code",
      "source": [
        ""
      ],
      "metadata": {
        "id": "VciouE_qEFzJ"
      },
      "execution_count": null,
      "outputs": []
    },
    {
      "cell_type": "code",
      "source": [
        "df['Model'].value_counts(dropna=False)  # same value as makemodel so drop"
      ],
      "metadata": {
        "colab": {
          "base_uri": "https://localhost:8080/",
          "height": 412
        },
        "outputId": "0b12d726-4fcf-427c-ee58-cb5a78d84a8f",
        "id": "UjTAWKivEGME"
      },
      "execution_count": null,
      "outputs": [
        {
          "output_type": "error",
          "ename": "TypeError",
          "evalue": "ignored",
          "traceback": [
            "\u001b[0;31m---------------------------------------------------------------------------\u001b[0m",
            "\u001b[0;31mTypeError\u001b[0m                                 Traceback (most recent call last)",
            "\u001b[0;32mpandas/_libs/hashtable_class_helper.pxi\u001b[0m in \u001b[0;36mpandas._libs.hashtable.PyObjectHashTable.map_locations\u001b[0;34m()\u001b[0m\n",
            "\u001b[0;31mTypeError\u001b[0m: unhashable type: 'list'"
          ]
        },
        {
          "output_type": "stream",
          "name": "stderr",
          "text": [
            "Exception ignored in: 'pandas._libs.index.IndexEngine._call_map_locations'\n",
            "Traceback (most recent call last):\n",
            "  File \"pandas/_libs/hashtable_class_helper.pxi\", line 5231, in pandas._libs.hashtable.PyObjectHashTable.map_locations\n",
            "TypeError: unhashable type: 'list'\n"
          ]
        },
        {
          "output_type": "execute_result",
          "data": {
            "text/plain": [
              "[\\n, A3, \\n]          3097\n",
              "[\\n, A1, \\n]          2614\n",
              "[\\n, Insignia, \\n]    2598\n",
              "[\\n, Astra, \\n]       2526\n",
              "[\\n, Corsa, \\n]       2219\n",
              "[\\n, Clio, \\n]        1839\n",
              "[\\n, Espace, \\n]       991\n",
              "[\\n, Duster, \\n]        34\n",
              "[\\n, A2, \\n]             1\n",
              "Name: Model, dtype: int64"
            ]
          },
          "metadata": {},
          "execution_count": 153
        }
      ]
    },
    {
      "cell_type": "code",
      "source": [
        "df.drop('Model', axis=1,inplace = True)"
      ],
      "metadata": {
        "id": "d60qkBmIEGMF"
      },
      "execution_count": 193,
      "outputs": []
    },
    {
      "cell_type": "markdown",
      "source": [
        "##22.Offer Number"
      ],
      "metadata": {
        "id": "qHYqcqbDEXGj"
      }
    },
    {
      "cell_type": "code",
      "source": [
        "df['Offer Number'].value_counts(dropna=False) # not sure offer number means so leave it"
      ],
      "metadata": {
        "colab": {
          "base_uri": "https://localhost:8080/",
          "height": 448
        },
        "id": "sT1Ro6eXEc1J",
        "outputId": "ed2c3fd3-a5db-415c-fe10-2cb4a7e2e7c9"
      },
      "execution_count": null,
      "outputs": [
        {
          "output_type": "error",
          "ename": "TypeError",
          "evalue": "ignored",
          "traceback": [
            "\u001b[0;31m---------------------------------------------------------------------------\u001b[0m",
            "\u001b[0;31mTypeError\u001b[0m                                 Traceback (most recent call last)",
            "\u001b[0;32mpandas/_libs/hashtable_class_helper.pxi\u001b[0m in \u001b[0;36mpandas._libs.hashtable.PyObjectHashTable.map_locations\u001b[0;34m()\u001b[0m\n",
            "\u001b[0;31mTypeError\u001b[0m: unhashable type: 'list'"
          ]
        },
        {
          "output_type": "stream",
          "name": "stderr",
          "text": [
            "Exception ignored in: 'pandas._libs.index.IndexEngine._call_map_locations'\n",
            "Traceback (most recent call last):\n",
            "  File \"pandas/_libs/hashtable_class_helper.pxi\", line 5231, in pandas._libs.hashtable.PyObjectHashTable.map_locations\n",
            "TypeError: unhashable type: 'list'\n"
          ]
        },
        {
          "output_type": "execute_result",
          "data": {
            "text/plain": [
              "NaN                                               3175\n",
              "[\\nLT67679\\n]                                       27\n",
              "[\\nUN89904\\n]                                       27\n",
              "[\\nXJ38068\\n]                                       27\n",
              "[\\nJV03654\\n]                                       27\n",
              "                                                  ... \n",
              "[\\n160_dcbb6c3e-a6da-43a3-8754-ccd994cec93b\\n]       1\n",
              "[\\n6701576\\n]                                        1\n",
              "[\\n6701569\\n]                                        1\n",
              "[\\n158121\\n]                                         1\n",
              "[\\nRe_30000008029\\n]                                 1\n",
              "Name: Offer Number, Length: 11441, dtype: int64"
            ]
          },
          "metadata": {},
          "execution_count": 155
        }
      ]
    },
    {
      "cell_type": "code",
      "source": [
        "df.drop('Offer Number', axis=1,inplace = True)"
      ],
      "metadata": {
        "id": "h61k6CVMeDvI"
      },
      "execution_count": 194,
      "outputs": []
    },
    {
      "cell_type": "markdown",
      "source": [
        "##22.First Registration"
      ],
      "metadata": {
        "id": "VlVW56Y2E330"
      }
    },
    {
      "cell_type": "code",
      "source": [
        "df['First Registration'].value_counts(dropna=False) ## !!!!!!!!!!!!!!!!!!!   data bozuldu tekrar yüklenecek aşağıdaki kod yanlış"
      ],
      "metadata": {
        "colab": {
          "base_uri": "https://localhost:8080/"
        },
        "id": "DJDxr8uAB_bd",
        "outputId": "c1e73d6f-3421-4260-ad85-11aac3834303"
      },
      "execution_count": 198,
      "outputs": [
        {
          "output_type": "execute_result",
          "data": {
            "text/plain": [
              "\\n     14322\n",
              "NaN     1597\n",
              "Name: First Registration, dtype: int64"
            ]
          },
          "metadata": {},
          "execution_count": 198
        }
      ]
    },
    {
      "cell_type": "code",
      "source": [
        ""
      ],
      "metadata": {
        "id": "72Wvs3hIeUPP"
      },
      "execution_count": null,
      "outputs": []
    },
    {
      "cell_type": "code",
      "source": [
        "df[\"First Registration\"]=[item[0] if type (item)==list else item for item in df [\"First Registration\"]]"
      ],
      "metadata": {
        "id": "5C455-u5e2eU"
      },
      "execution_count": 195,
      "outputs": []
    },
    {
      "cell_type": "code",
      "source": [
        "df['first_registration']=df['First Registration'].str.lstrip(\"\\n, \").str.rstrip(\", \\n\")\n",
        "df['first_registration']"
      ],
      "metadata": {
        "colab": {
          "base_uri": "https://localhost:8080/"
        },
        "outputId": "cfd12d8b-79e9-4238-af02-557003492083",
        "id": "1ywdlvCOe2eV"
      },
      "execution_count": 196,
      "outputs": [
        {
          "output_type": "execute_result",
          "data": {
            "text/plain": [
              "0           \n",
              "1           \n",
              "2           \n",
              "3           \n",
              "4           \n",
              "        ... \n",
              "15914    NaN\n",
              "15915       \n",
              "15916       \n",
              "15917       \n",
              "15918       \n",
              "Name: first_registration, Length: 15919, dtype: object"
            ]
          },
          "metadata": {},
          "execution_count": 196
        }
      ]
    },
    {
      "cell_type": "code",
      "source": [
        "df['first_registration'].value_counts(dropna=False)"
      ],
      "metadata": {
        "colab": {
          "base_uri": "https://localhost:8080/"
        },
        "id": "yITtkTLVfSqh",
        "outputId": "1087164e-7eeb-4a3f-f8f8-798b38ff3be1"
      },
      "execution_count": 197,
      "outputs": [
        {
          "output_type": "execute_result",
          "data": {
            "text/plain": [
              "       14322\n",
              "NaN     1597\n",
              "Name: first_registration, dtype: int64"
            ]
          },
          "metadata": {},
          "execution_count": 197
        }
      ]
    },
    {
      "cell_type": "code",
      "source": [
        ""
      ],
      "metadata": {
        "id": "GdHM1tbwe2eV"
      },
      "execution_count": null,
      "outputs": []
    },
    {
      "cell_type": "markdown",
      "source": [
        "##23.Body Color"
      ],
      "metadata": {
        "id": "koFjCHexFSlS"
      }
    },
    {
      "cell_type": "code",
      "source": [
        "df['Body Color'].value_counts(dropna=False) "
      ],
      "metadata": {
        "colab": {
          "base_uri": "https://localhost:8080/",
          "height": 522
        },
        "id": "pqJeAfBQFLf6",
        "outputId": "fd588142-6579-4584-8be4-77d352e3511d"
      },
      "execution_count": null,
      "outputs": [
        {
          "output_type": "error",
          "ename": "TypeError",
          "evalue": "ignored",
          "traceback": [
            "\u001b[0;31m---------------------------------------------------------------------------\u001b[0m",
            "\u001b[0;31mTypeError\u001b[0m                                 Traceback (most recent call last)",
            "\u001b[0;32mpandas/_libs/hashtable_class_helper.pxi\u001b[0m in \u001b[0;36mpandas._libs.hashtable.PyObjectHashTable.map_locations\u001b[0;34m()\u001b[0m\n",
            "\u001b[0;31mTypeError\u001b[0m: unhashable type: 'list'"
          ]
        },
        {
          "output_type": "stream",
          "name": "stderr",
          "text": [
            "Exception ignored in: 'pandas._libs.index.IndexEngine._call_map_locations'\n",
            "Traceback (most recent call last):\n",
            "  File \"pandas/_libs/hashtable_class_helper.pxi\", line 5231, in pandas._libs.hashtable.PyObjectHashTable.map_locations\n",
            "TypeError: unhashable type: 'list'\n"
          ]
        },
        {
          "output_type": "execute_result",
          "data": {
            "text/plain": [
              "[\\n, Black, \\n]     3745\n",
              "[\\n, Grey, \\n]      3505\n",
              "[\\n, White, \\n]     3406\n",
              "[\\n, Silver, \\n]    1647\n",
              "[\\n, Blue, \\n]      1431\n",
              "[\\n, Red, \\n]        957\n",
              "NaN                  597\n",
              "[\\n, Brown, \\n]      289\n",
              "[\\n, Green, \\n]      154\n",
              "[\\n, Beige, \\n]      108\n",
              "[\\n, Yellow, \\n]      51\n",
              "[\\n, Violet, \\n]      18\n",
              "[\\n, Bronze, \\n]       6\n",
              "[\\n, Orange, \\n]       3\n",
              "[\\n, Gold, \\n]         2\n",
              "Name: Body Color, dtype: int64"
            ]
          },
          "metadata": {},
          "execution_count": 158
        }
      ]
    },
    {
      "cell_type": "code",
      "source": [
        "df[\"Body Color\"]=[item[1] if type (item)==list else item for item in df [\"Body Color\"]]"
      ],
      "metadata": {
        "id": "v_hzRLy_FeHD"
      },
      "execution_count": 199,
      "outputs": []
    },
    {
      "cell_type": "code",
      "source": [
        "df['Body Color'].value_counts(dropna=False) "
      ],
      "metadata": {
        "colab": {
          "base_uri": "https://localhost:8080/"
        },
        "id": "nP_r9dRJFwSe",
        "outputId": "c22daff8-2971-47ff-8e5b-ef02cc09b5b9"
      },
      "execution_count": 200,
      "outputs": [
        {
          "output_type": "execute_result",
          "data": {
            "text/plain": [
              "Black     3745\n",
              "Grey      3505\n",
              "White     3406\n",
              "Silver    1647\n",
              "Blue      1431\n",
              "Red        957\n",
              "NaN        597\n",
              "Brown      289\n",
              "Green      154\n",
              "Beige      108\n",
              "Yellow      51\n",
              "Violet      18\n",
              "Bronze       6\n",
              "Orange       3\n",
              "Gold         2\n",
              "Name: Body Color, dtype: int64"
            ]
          },
          "metadata": {},
          "execution_count": 200
        }
      ]
    },
    {
      "cell_type": "code",
      "source": [
        "df['body_color']=df['Body Color']"
      ],
      "metadata": {
        "id": "lqXCIE6BF28U"
      },
      "execution_count": 201,
      "outputs": []
    },
    {
      "cell_type": "code",
      "source": [
        "df.drop('Body Color', axis=1,inplace = True)"
      ],
      "metadata": {
        "id": "g4gVMdrZF8Hr"
      },
      "execution_count": 202,
      "outputs": []
    },
    {
      "cell_type": "markdown",
      "source": [
        "##24.Paint Type"
      ],
      "metadata": {
        "id": "amQarf1iFzEa"
      }
    },
    {
      "cell_type": "code",
      "source": [
        "df['Paint Type'].value_counts(dropna=False) "
      ],
      "metadata": {
        "colab": {
          "base_uri": "https://localhost:8080/",
          "height": 320
        },
        "id": "r9jjxwPzGO-E",
        "outputId": "607ab04c-0ba1-48c9-dc23-f2ea07726247"
      },
      "execution_count": null,
      "outputs": [
        {
          "output_type": "error",
          "ename": "TypeError",
          "evalue": "ignored",
          "traceback": [
            "\u001b[0;31m---------------------------------------------------------------------------\u001b[0m",
            "\u001b[0;31mTypeError\u001b[0m                                 Traceback (most recent call last)",
            "\u001b[0;32mpandas/_libs/hashtable_class_helper.pxi\u001b[0m in \u001b[0;36mpandas._libs.hashtable.PyObjectHashTable.map_locations\u001b[0;34m()\u001b[0m\n",
            "\u001b[0;31mTypeError\u001b[0m: unhashable type: 'list'"
          ]
        },
        {
          "output_type": "stream",
          "name": "stderr",
          "text": [
            "Exception ignored in: 'pandas._libs.index.IndexEngine._call_map_locations'\n",
            "Traceback (most recent call last):\n",
            "  File \"pandas/_libs/hashtable_class_helper.pxi\", line 5231, in pandas._libs.hashtable.PyObjectHashTable.map_locations\n",
            "TypeError: unhashable type: 'list'\n"
          ]
        },
        {
          "output_type": "execute_result",
          "data": {
            "text/plain": [
              "[\\nMetallic\\n]       9794\n",
              "NaN                  5772\n",
              "[\\nUni/basic\\n]       347\n",
              "[\\nPerl effect\\n]       6\n",
              "Name: Paint Type, dtype: int64"
            ]
          },
          "metadata": {},
          "execution_count": 164
        }
      ]
    },
    {
      "cell_type": "code",
      "source": [
        "df[\"Paint Type\"]=[item[0] if type (item)==list else item for item in df [\"Paint Type\"]]"
      ],
      "metadata": {
        "id": "N-GvdBeCGXoR"
      },
      "execution_count": 203,
      "outputs": []
    },
    {
      "cell_type": "code",
      "source": [
        "df['Paint Type'].value_counts(dropna=False) "
      ],
      "metadata": {
        "colab": {
          "base_uri": "https://localhost:8080/"
        },
        "id": "lnioB6QcGswk",
        "outputId": "ce00c488-ab4c-4c86-d617-6a785f10ddc8"
      },
      "execution_count": 204,
      "outputs": [
        {
          "output_type": "execute_result",
          "data": {
            "text/plain": [
              "\\nMetallic\\n       9794\n",
              "NaN                5772\n",
              "\\nUni/basic\\n       347\n",
              "\\nPerl effect\\n       6\n",
              "Name: Paint Type, dtype: int64"
            ]
          },
          "metadata": {},
          "execution_count": 204
        }
      ]
    },
    {
      "cell_type": "code",
      "source": [
        "df['paint_type']=df['Paint Type'].str.lstrip(\"\\n\").str.rstrip(\"\\n\")\n",
        "df['paint_type']"
      ],
      "metadata": {
        "colab": {
          "base_uri": "https://localhost:8080/"
        },
        "id": "a1X-vpGqGuec",
        "outputId": "5c5668fe-3100-43a0-d6e4-2bb4fbf7d9e3"
      },
      "execution_count": 205,
      "outputs": [
        {
          "output_type": "execute_result",
          "data": {
            "text/plain": [
              "0        Metallic\n",
              "1             NaN\n",
              "2        Metallic\n",
              "3        Metallic\n",
              "4        Metallic\n",
              "           ...   \n",
              "15914    Metallic\n",
              "15915    Metallic\n",
              "15916         NaN\n",
              "15917         NaN\n",
              "15918    Metallic\n",
              "Name: paint_type, Length: 15919, dtype: object"
            ]
          },
          "metadata": {},
          "execution_count": 205
        }
      ]
    },
    {
      "cell_type": "code",
      "source": [
        "df['paint_type'].value_counts(dropna=False) "
      ],
      "metadata": {
        "colab": {
          "base_uri": "https://localhost:8080/"
        },
        "id": "bcRxJxULHHy0",
        "outputId": "af0f3d90-99b5-408c-8478-dbe090490401"
      },
      "execution_count": 206,
      "outputs": [
        {
          "output_type": "execute_result",
          "data": {
            "text/plain": [
              "Metallic       9794\n",
              "NaN            5772\n",
              "Uni/basic       347\n",
              "Perl effect       6\n",
              "Name: paint_type, dtype: int64"
            ]
          },
          "metadata": {},
          "execution_count": 206
        }
      ]
    },
    {
      "cell_type": "code",
      "source": [
        "df.drop('Paint Type', axis=1,inplace = True)"
      ],
      "metadata": {
        "id": "GRIcUxegHN9q"
      },
      "execution_count": 207,
      "outputs": []
    },
    {
      "cell_type": "markdown",
      "source": [
        "##25.Body Color Original"
      ],
      "metadata": {
        "id": "XaVYPLRbHbfE"
      }
    },
    {
      "cell_type": "code",
      "source": [
        "df['Body Color Original'].value_counts(dropna=False) "
      ],
      "metadata": {
        "colab": {
          "base_uri": "https://localhost:8080/",
          "height": 448
        },
        "id": "pdBdZyzUHjxA",
        "outputId": "90f67eb4-bd93-46e2-d406-71162cbaeb66"
      },
      "execution_count": null,
      "outputs": [
        {
          "output_type": "error",
          "ename": "TypeError",
          "evalue": "ignored",
          "traceback": [
            "\u001b[0;31m---------------------------------------------------------------------------\u001b[0m",
            "\u001b[0;31mTypeError\u001b[0m                                 Traceback (most recent call last)",
            "\u001b[0;32mpandas/_libs/hashtable_class_helper.pxi\u001b[0m in \u001b[0;36mpandas._libs.hashtable.PyObjectHashTable.map_locations\u001b[0;34m()\u001b[0m\n",
            "\u001b[0;31mTypeError\u001b[0m: unhashable type: 'list'"
          ]
        },
        {
          "output_type": "stream",
          "name": "stderr",
          "text": [
            "Exception ignored in: 'pandas._libs.index.IndexEngine._call_map_locations'\n",
            "Traceback (most recent call last):\n",
            "  File \"pandas/_libs/hashtable_class_helper.pxi\", line 5231, in pandas._libs.hashtable.PyObjectHashTable.map_locations\n",
            "TypeError: unhashable type: 'list'\n"
          ]
        },
        {
          "output_type": "execute_result",
          "data": {
            "text/plain": [
              "NaN                                    3759\n",
              "[\\nOnyx Schwarz\\n]                      338\n",
              "[\\nBianco\\n]                            282\n",
              "[\\nMythosschwarz Metallic\\n]            238\n",
              "[\\nBrillantschwarz\\n]                   216\n",
              "                                       ... \n",
              "[\\nRouge-Braun (G0Y)\\n]                   1\n",
              "[\\nVARI COLRI DISPONIBILI\\n]              1\n",
              "[\\nKokosnussbraun Metallic\\n]             1\n",
              "[\\nFarbe frei wählbar\\n]                  1\n",
              "[\\nPerlmutt-Weiß Metallic (Weiß)\\n]       1\n",
              "Name: Body Color Original, Length: 1928, dtype: int64"
            ]
          },
          "metadata": {},
          "execution_count": 172
        }
      ]
    },
    {
      "cell_type": "code",
      "source": [
        "df[['Body Color Original','body_color']].sample(15) ## body color is more usefull so drop the Body Color Original!"
      ],
      "metadata": {
        "colab": {
          "base_uri": "https://localhost:8080/",
          "height": 520
        },
        "id": "HHqzSWr0HzTp",
        "outputId": "11240385-76e6-4fd7-c0aa-4dfb2a371563"
      },
      "execution_count": null,
      "outputs": [
        {
          "output_type": "execute_result",
          "data": {
            "text/plain": [
              "                       Body Color Original body_color\n",
              "9658                     [\\nTiefseeblau\\n]       Blue\n",
              "836             [\\nMisanorot Perleffekt\\n]        Red\n",
              "7093                      [\\nquarz grau\\n]       Grey\n",
              "7520                     [\\nIndigo Blau\\n]       Blue\n",
              "3891                     [\\nvari colori\\n]      Black\n",
              "2388                      [\\nPythongelb\\n]     Yellow\n",
              "9909       [\\nMineral black (zwart meta\\n]      Black\n",
              "9267                          [\\nGrigio\\n]       Grey\n",
              "3442                                   NaN     Silver\n",
              "14794                    [\\nVari colori\\n]     Silver\n",
              "2708   [\\nMythosschwarz Metallic (zwart\\n]      Black\n",
              "11067                                  NaN     Silver\n",
              "2694         [\\nGletscherweiss Metallic\\n]      White\n",
              "4370               [\\nNanograu Metallic\\n]       Grey\n",
              "9673                       [\\nLichtgrau\\n]       Grey"
            ],
            "text/html": [
              "\n",
              "  <div id=\"df-8200da51-1566-4133-b301-20daa616c8fd\">\n",
              "    <div class=\"colab-df-container\">\n",
              "      <div>\n",
              "<style scoped>\n",
              "    .dataframe tbody tr th:only-of-type {\n",
              "        vertical-align: middle;\n",
              "    }\n",
              "\n",
              "    .dataframe tbody tr th {\n",
              "        vertical-align: top;\n",
              "    }\n",
              "\n",
              "    .dataframe thead th {\n",
              "        text-align: right;\n",
              "    }\n",
              "</style>\n",
              "<table border=\"1\" class=\"dataframe\">\n",
              "  <thead>\n",
              "    <tr style=\"text-align: right;\">\n",
              "      <th></th>\n",
              "      <th>Body Color Original</th>\n",
              "      <th>body_color</th>\n",
              "    </tr>\n",
              "  </thead>\n",
              "  <tbody>\n",
              "    <tr>\n",
              "      <th>9658</th>\n",
              "      <td>[\\nTiefseeblau\\n]</td>\n",
              "      <td>Blue</td>\n",
              "    </tr>\n",
              "    <tr>\n",
              "      <th>836</th>\n",
              "      <td>[\\nMisanorot Perleffekt\\n]</td>\n",
              "      <td>Red</td>\n",
              "    </tr>\n",
              "    <tr>\n",
              "      <th>7093</th>\n",
              "      <td>[\\nquarz grau\\n]</td>\n",
              "      <td>Grey</td>\n",
              "    </tr>\n",
              "    <tr>\n",
              "      <th>7520</th>\n",
              "      <td>[\\nIndigo Blau\\n]</td>\n",
              "      <td>Blue</td>\n",
              "    </tr>\n",
              "    <tr>\n",
              "      <th>3891</th>\n",
              "      <td>[\\nvari colori\\n]</td>\n",
              "      <td>Black</td>\n",
              "    </tr>\n",
              "    <tr>\n",
              "      <th>2388</th>\n",
              "      <td>[\\nPythongelb\\n]</td>\n",
              "      <td>Yellow</td>\n",
              "    </tr>\n",
              "    <tr>\n",
              "      <th>9909</th>\n",
              "      <td>[\\nMineral black (zwart meta\\n]</td>\n",
              "      <td>Black</td>\n",
              "    </tr>\n",
              "    <tr>\n",
              "      <th>9267</th>\n",
              "      <td>[\\nGrigio\\n]</td>\n",
              "      <td>Grey</td>\n",
              "    </tr>\n",
              "    <tr>\n",
              "      <th>3442</th>\n",
              "      <td>NaN</td>\n",
              "      <td>Silver</td>\n",
              "    </tr>\n",
              "    <tr>\n",
              "      <th>14794</th>\n",
              "      <td>[\\nVari colori\\n]</td>\n",
              "      <td>Silver</td>\n",
              "    </tr>\n",
              "    <tr>\n",
              "      <th>2708</th>\n",
              "      <td>[\\nMythosschwarz Metallic (zwart\\n]</td>\n",
              "      <td>Black</td>\n",
              "    </tr>\n",
              "    <tr>\n",
              "      <th>11067</th>\n",
              "      <td>NaN</td>\n",
              "      <td>Silver</td>\n",
              "    </tr>\n",
              "    <tr>\n",
              "      <th>2694</th>\n",
              "      <td>[\\nGletscherweiss Metallic\\n]</td>\n",
              "      <td>White</td>\n",
              "    </tr>\n",
              "    <tr>\n",
              "      <th>4370</th>\n",
              "      <td>[\\nNanograu Metallic\\n]</td>\n",
              "      <td>Grey</td>\n",
              "    </tr>\n",
              "    <tr>\n",
              "      <th>9673</th>\n",
              "      <td>[\\nLichtgrau\\n]</td>\n",
              "      <td>Grey</td>\n",
              "    </tr>\n",
              "  </tbody>\n",
              "</table>\n",
              "</div>\n",
              "      <button class=\"colab-df-convert\" onclick=\"convertToInteractive('df-8200da51-1566-4133-b301-20daa616c8fd')\"\n",
              "              title=\"Convert this dataframe to an interactive table.\"\n",
              "              style=\"display:none;\">\n",
              "        \n",
              "  <svg xmlns=\"http://www.w3.org/2000/svg\" height=\"24px\"viewBox=\"0 0 24 24\"\n",
              "       width=\"24px\">\n",
              "    <path d=\"M0 0h24v24H0V0z\" fill=\"none\"/>\n",
              "    <path d=\"M18.56 5.44l.94 2.06.94-2.06 2.06-.94-2.06-.94-.94-2.06-.94 2.06-2.06.94zm-11 1L8.5 8.5l.94-2.06 2.06-.94-2.06-.94L8.5 2.5l-.94 2.06-2.06.94zm10 10l.94 2.06.94-2.06 2.06-.94-2.06-.94-.94-2.06-.94 2.06-2.06.94z\"/><path d=\"M17.41 7.96l-1.37-1.37c-.4-.4-.92-.59-1.43-.59-.52 0-1.04.2-1.43.59L10.3 9.45l-7.72 7.72c-.78.78-.78 2.05 0 2.83L4 21.41c.39.39.9.59 1.41.59.51 0 1.02-.2 1.41-.59l7.78-7.78 2.81-2.81c.8-.78.8-2.07 0-2.86zM5.41 20L4 18.59l7.72-7.72 1.47 1.35L5.41 20z\"/>\n",
              "  </svg>\n",
              "      </button>\n",
              "      \n",
              "  <style>\n",
              "    .colab-df-container {\n",
              "      display:flex;\n",
              "      flex-wrap:wrap;\n",
              "      gap: 12px;\n",
              "    }\n",
              "\n",
              "    .colab-df-convert {\n",
              "      background-color: #E8F0FE;\n",
              "      border: none;\n",
              "      border-radius: 50%;\n",
              "      cursor: pointer;\n",
              "      display: none;\n",
              "      fill: #1967D2;\n",
              "      height: 32px;\n",
              "      padding: 0 0 0 0;\n",
              "      width: 32px;\n",
              "    }\n",
              "\n",
              "    .colab-df-convert:hover {\n",
              "      background-color: #E2EBFA;\n",
              "      box-shadow: 0px 1px 2px rgba(60, 64, 67, 0.3), 0px 1px 3px 1px rgba(60, 64, 67, 0.15);\n",
              "      fill: #174EA6;\n",
              "    }\n",
              "\n",
              "    [theme=dark] .colab-df-convert {\n",
              "      background-color: #3B4455;\n",
              "      fill: #D2E3FC;\n",
              "    }\n",
              "\n",
              "    [theme=dark] .colab-df-convert:hover {\n",
              "      background-color: #434B5C;\n",
              "      box-shadow: 0px 1px 3px 1px rgba(0, 0, 0, 0.15);\n",
              "      filter: drop-shadow(0px 1px 2px rgba(0, 0, 0, 0.3));\n",
              "      fill: #FFFFFF;\n",
              "    }\n",
              "  </style>\n",
              "\n",
              "      <script>\n",
              "        const buttonEl =\n",
              "          document.querySelector('#df-8200da51-1566-4133-b301-20daa616c8fd button.colab-df-convert');\n",
              "        buttonEl.style.display =\n",
              "          google.colab.kernel.accessAllowed ? 'block' : 'none';\n",
              "\n",
              "        async function convertToInteractive(key) {\n",
              "          const element = document.querySelector('#df-8200da51-1566-4133-b301-20daa616c8fd');\n",
              "          const dataTable =\n",
              "            await google.colab.kernel.invokeFunction('convertToInteractive',\n",
              "                                                     [key], {});\n",
              "          if (!dataTable) return;\n",
              "\n",
              "          const docLinkHtml = 'Like what you see? Visit the ' +\n",
              "            '<a target=\"_blank\" href=https://colab.research.google.com/notebooks/data_table.ipynb>data table notebook</a>'\n",
              "            + ' to learn more about interactive tables.';\n",
              "          element.innerHTML = '';\n",
              "          dataTable['output_type'] = 'display_data';\n",
              "          await google.colab.output.renderOutput(dataTable, element);\n",
              "          const docLink = document.createElement('div');\n",
              "          docLink.innerHTML = docLinkHtml;\n",
              "          element.appendChild(docLink);\n",
              "        }\n",
              "      </script>\n",
              "    </div>\n",
              "  </div>\n",
              "  "
            ]
          },
          "metadata": {},
          "execution_count": 181
        }
      ]
    },
    {
      "cell_type": "code",
      "source": [
        "df.drop('Body Color Original', axis=1,inplace = True)"
      ],
      "metadata": {
        "id": "CDZgG3y0IvFc"
      },
      "execution_count": 208,
      "outputs": []
    },
    {
      "cell_type": "markdown",
      "source": [
        "##26.Upholstery"
      ],
      "metadata": {
        "id": "1GhvpCvzI2t0"
      }
    },
    {
      "cell_type": "code",
      "source": [
        "df['Upholstery'].value_counts(dropna=False) "
      ],
      "metadata": {
        "colab": {
          "base_uri": "https://localhost:8080/",
          "height": 1000
        },
        "id": "kWztXpE6I2WL",
        "outputId": "d73cef65-fb42-4c1e-a380-8fa42abd8a0e"
      },
      "execution_count": null,
      "outputs": [
        {
          "output_type": "error",
          "ename": "TypeError",
          "evalue": "ignored",
          "traceback": [
            "\u001b[0;31m---------------------------------------------------------------------------\u001b[0m",
            "\u001b[0;31mTypeError\u001b[0m                                 Traceback (most recent call last)",
            "\u001b[0;32mpandas/_libs/hashtable_class_helper.pxi\u001b[0m in \u001b[0;36mpandas._libs.hashtable.PyObjectHashTable.map_locations\u001b[0;34m()\u001b[0m\n",
            "\u001b[0;31mTypeError\u001b[0m: unhashable type: 'list'"
          ]
        },
        {
          "output_type": "stream",
          "name": "stderr",
          "text": [
            "Exception ignored in: 'pandas._libs.index.IndexEngine._call_map_locations'\n",
            "Traceback (most recent call last):\n",
            "  File \"pandas/_libs/hashtable_class_helper.pxi\", line 5231, in pandas._libs.hashtable.PyObjectHashTable.map_locations\n",
            "TypeError: unhashable type: 'list'\n"
          ]
        },
        {
          "output_type": "execute_result",
          "data": {
            "text/plain": [
              "[\\nCloth, Black\\n]           5821\n",
              "NaN                          3720\n",
              "[\\nPart leather, Black\\n]    1121\n",
              "[\\nCloth\\n]                  1005\n",
              "[\\nCloth, Grey\\n]             891\n",
              "[\\nCloth, Other\\n]            639\n",
              "[\\nFull leather, Black\\n]     575\n",
              "[\\nBlack\\n]                   491\n",
              "[\\nGrey\\n]                    273\n",
              "[\\nOther, Other\\n]            182\n",
              "[\\nPart leather\\n]            140\n",
              "[\\nFull leather\\n]            139\n",
              "[\\nFull leather, Brown\\n]     116\n",
              "[\\nPart leather, Grey\\n]      116\n",
              "[\\nOther, Black\\n]            110\n",
              "[\\nFull leather, Other\\n]      72\n",
              "[\\nFull leather, Grey\\n]       67\n",
              "[\\nPart leather, Other\\n]      65\n",
              "[\\nOther\\n]                    56\n",
              "[\\nPart leather, Brown\\n]      50\n",
              "[\\nalcantara, Black\\n]         47\n",
              "[\\nVelour, Black\\n]            36\n",
              "[\\nFull leather, Beige\\n]      36\n",
              "[\\nCloth, Brown\\n]             28\n",
              "[\\nVelour\\n]                   16\n",
              "[\\nOther, Grey\\n]              15\n",
              "[\\nCloth, Beige\\n]             13\n",
              "[\\nBrown\\n]                    12\n",
              "[\\nCloth, Blue\\n]              12\n",
              "[\\nVelour, Grey\\n]              8\n",
              "[\\nCloth, White\\n]              8\n",
              "[\\nalcantara, Grey\\n]           6\n",
              "[\\nCloth, Red\\n]                5\n",
              "[\\nOther, Yellow\\n]             4\n",
              "[\\nPart leather, Red\\n]         3\n",
              "[\\nBeige\\n]                     3\n",
              "[\\nPart leather, White\\n]       2\n",
              "[\\nFull leather, Blue\\n]        2\n",
              "[\\nalcantara, Other\\n]          2\n",
              "[\\nalcantara\\n]                 2\n",
              "[\\nWhite\\n]                     2\n",
              "[\\nPart leather, Beige\\n]       2\n",
              "[\\nBlue\\n]                      2\n",
              "[\\nCloth, Orange\\n]             1\n",
              "[\\nFull leather, Red\\n]         1\n",
              "[\\nOther, Brown\\n]              1\n",
              "[\\nFull leather, White\\n]       1\n",
              "Name: Upholstery, dtype: int64"
            ]
          },
          "metadata": {},
          "execution_count": 183
        }
      ]
    },
    {
      "cell_type": "code",
      "source": [
        "df[\"Upholstery\"]=[item[0] if type (item)==list else item for item in df [\"Upholstery\"]]"
      ],
      "metadata": {
        "id": "-vq9sn6hMq7T"
      },
      "execution_count": 209,
      "outputs": []
    },
    {
      "cell_type": "code",
      "source": [
        "df['Upholstery'].value_counts(dropna=False) "
      ],
      "metadata": {
        "colab": {
          "base_uri": "https://localhost:8080/"
        },
        "id": "aP18AczCNAH6",
        "outputId": "8602ef67-7ffa-49fa-d1c2-b8c3aceece3a"
      },
      "execution_count": 210,
      "outputs": [
        {
          "output_type": "execute_result",
          "data": {
            "text/plain": [
              "\\nCloth, Black\\n           5821\n",
              "NaN                        3720\n",
              "\\nPart leather, Black\\n    1121\n",
              "\\nCloth\\n                  1005\n",
              "\\nCloth, Grey\\n             891\n",
              "\\nCloth, Other\\n            639\n",
              "\\nFull leather, Black\\n     575\n",
              "\\nBlack\\n                   491\n",
              "\\nGrey\\n                    273\n",
              "\\nOther, Other\\n            182\n",
              "\\nPart leather\\n            140\n",
              "\\nFull leather\\n            139\n",
              "\\nFull leather, Brown\\n     116\n",
              "\\nPart leather, Grey\\n      116\n",
              "\\nOther, Black\\n            110\n",
              "\\nFull leather, Other\\n      72\n",
              "\\nFull leather, Grey\\n       67\n",
              "\\nPart leather, Other\\n      65\n",
              "\\nOther\\n                    56\n",
              "\\nPart leather, Brown\\n      50\n",
              "\\nalcantara, Black\\n         47\n",
              "\\nVelour, Black\\n            36\n",
              "\\nFull leather, Beige\\n      36\n",
              "\\nCloth, Brown\\n             28\n",
              "\\nVelour\\n                   16\n",
              "\\nOther, Grey\\n              15\n",
              "\\nCloth, Beige\\n             13\n",
              "\\nBrown\\n                    12\n",
              "\\nCloth, Blue\\n              12\n",
              "\\nVelour, Grey\\n              8\n",
              "\\nCloth, White\\n              8\n",
              "\\nalcantara, Grey\\n           6\n",
              "\\nCloth, Red\\n                5\n",
              "\\nOther, Yellow\\n             4\n",
              "\\nPart leather, Red\\n         3\n",
              "\\nBeige\\n                     3\n",
              "\\nPart leather, White\\n       2\n",
              "\\nFull leather, Blue\\n        2\n",
              "\\nalcantara, Other\\n          2\n",
              "\\nalcantara\\n                 2\n",
              "\\nWhite\\n                     2\n",
              "\\nPart leather, Beige\\n       2\n",
              "\\nBlue\\n                      2\n",
              "\\nCloth, Orange\\n             1\n",
              "\\nFull leather, Red\\n         1\n",
              "\\nOther, Brown\\n              1\n",
              "\\nFull leather, White\\n       1\n",
              "Name: Upholstery, dtype: int64"
            ]
          },
          "metadata": {},
          "execution_count": 210
        }
      ]
    },
    {
      "cell_type": "code",
      "source": [
        "df['upholstery']=df.Upholstery.str.lstrip(\"\\n\").str.rstrip(\",$\")\n",
        "df['upholstery']"
      ],
      "metadata": {
        "colab": {
          "base_uri": "https://localhost:8080/"
        },
        "id": "bayMRIiSNQyc",
        "outputId": "7aa85922-d61a-40c2-c1e8-7a74bca8144f"
      },
      "execution_count": 211,
      "outputs": [
        {
          "output_type": "execute_result",
          "data": {
            "text/plain": [
              "0               Cloth, Black\\n\n",
              "1                Cloth, Grey\\n\n",
              "2               Cloth, Black\\n\n",
              "3                          NaN\n",
              "4               Cloth, Black\\n\n",
              "                 ...          \n",
              "15914                      NaN\n",
              "15915                  Cloth\\n\n",
              "15916    Full leather, Black\\n\n",
              "15917           Part leather\\n\n",
              "15918    Full leather, Brown\\n\n",
              "Name: upholstery, Length: 15919, dtype: object"
            ]
          },
          "metadata": {},
          "execution_count": 211
        }
      ]
    },
    {
      "cell_type": "code",
      "source": [
        "df['upholstery']=df['upholstery'].str.split(',').str[0]\n",
        "df['upholstery']"
      ],
      "metadata": {
        "colab": {
          "base_uri": "https://localhost:8080/"
        },
        "id": "n9EwbcqCPX-C",
        "outputId": "70678b56-8b41-4304-b2e7-7ad50d5650ad"
      },
      "execution_count": 212,
      "outputs": [
        {
          "output_type": "execute_result",
          "data": {
            "text/plain": [
              "0                 Cloth\n",
              "1                 Cloth\n",
              "2                 Cloth\n",
              "3                   NaN\n",
              "4                 Cloth\n",
              "              ...      \n",
              "15914               NaN\n",
              "15915           Cloth\\n\n",
              "15916      Full leather\n",
              "15917    Part leather\\n\n",
              "15918      Full leather\n",
              "Name: upholstery, Length: 15919, dtype: object"
            ]
          },
          "metadata": {},
          "execution_count": 212
        }
      ]
    },
    {
      "cell_type": "code",
      "source": [
        "df['upholstery']=df.upholstery.str.lstrip(\"\\n\").str.rstrip(\"\\n\")\n",
        "df['upholstery']"
      ],
      "metadata": {
        "colab": {
          "base_uri": "https://localhost:8080/"
        },
        "id": "tyzflW9SPwq7",
        "outputId": "08bacea6-b936-4b43-83b8-af66e83395fe"
      },
      "execution_count": 213,
      "outputs": [
        {
          "output_type": "execute_result",
          "data": {
            "text/plain": [
              "0               Cloth\n",
              "1               Cloth\n",
              "2               Cloth\n",
              "3                 NaN\n",
              "4               Cloth\n",
              "             ...     \n",
              "15914             NaN\n",
              "15915           Cloth\n",
              "15916    Full leather\n",
              "15917    Part leather\n",
              "15918    Full leather\n",
              "Name: upholstery, Length: 15919, dtype: object"
            ]
          },
          "metadata": {},
          "execution_count": 213
        }
      ]
    },
    {
      "cell_type": "code",
      "source": [
        "df['upholstery'].value_counts()"
      ],
      "metadata": {
        "colab": {
          "base_uri": "https://localhost:8080/"
        },
        "id": "gu0NQ5GYQI8i",
        "outputId": "de41ee74-97fa-4b7d-c440-9c6d689cd720"
      },
      "execution_count": 214,
      "outputs": [
        {
          "output_type": "execute_result",
          "data": {
            "text/plain": [
              "Cloth           8423\n",
              "Part leather    1499\n",
              "Full leather    1009\n",
              "Black            491\n",
              "Other            368\n",
              "Grey             273\n",
              "Velour            60\n",
              "alcantara         57\n",
              "Brown             12\n",
              "Beige              3\n",
              "Blue               2\n",
              "White              2\n",
              "Name: upholstery, dtype: int64"
            ]
          },
          "metadata": {},
          "execution_count": 214
        }
      ]
    },
    {
      "cell_type": "code",
      "source": [
        "upholster=[\"Full leather\",\"Cloth\", \"Part leather\", \"alcantara\", \"Velour\"]\n",
        "def upholstertype(x):\n",
        "    if x in upholster:\n",
        "      return x\n",
        "    else:\n",
        "      return 'other'  \n",
        "\n",
        "df['upholstery']=df.upholstery.apply(upholstertype)\n",
        "df['upholstery'].value_counts()"
      ],
      "metadata": {
        "colab": {
          "base_uri": "https://localhost:8080/"
        },
        "id": "n3bHhJNVKTFr",
        "outputId": "d1e71c8a-3229-41e5-8982-b2679c875184"
      },
      "execution_count": 215,
      "outputs": [
        {
          "output_type": "execute_result",
          "data": {
            "text/plain": [
              "Cloth           8423\n",
              "other           4871\n",
              "Part leather    1499\n",
              "Full leather    1009\n",
              "Velour            60\n",
              "alcantara         57\n",
              "Name: upholstery, dtype: int64"
            ]
          },
          "metadata": {},
          "execution_count": 215
        }
      ]
    },
    {
      "cell_type": "code",
      "source": [
        "df['upholstery'].value_counts(dropna=False)"
      ],
      "metadata": {
        "colab": {
          "base_uri": "https://localhost:8080/"
        },
        "id": "AfSxluLYQ-YU",
        "outputId": "c0ecae50-f546-4871-da3c-b0c5a720360c"
      },
      "execution_count": 216,
      "outputs": [
        {
          "output_type": "execute_result",
          "data": {
            "text/plain": [
              "Cloth           8423\n",
              "other           4871\n",
              "Part leather    1499\n",
              "Full leather    1009\n",
              "Velour            60\n",
              "alcantara         57\n",
              "Name: upholstery, dtype: int64"
            ]
          },
          "metadata": {},
          "execution_count": 216
        }
      ]
    },
    {
      "cell_type": "markdown",
      "source": [
        "##27.Body"
      ],
      "metadata": {
        "id": "rSu5mjG1Q1q5"
      }
    },
    {
      "cell_type": "code",
      "source": [
        "df['Body'].value_counts(dropna=False) ## same with body type so drop"
      ],
      "metadata": {
        "colab": {
          "base_uri": "https://localhost:8080/",
          "height": 430
        },
        "id": "PWBc5GseQ4UF",
        "outputId": "0d783c25-dbcc-499d-9844-11b9fdb0eb76"
      },
      "execution_count": null,
      "outputs": [
        {
          "output_type": "error",
          "ename": "TypeError",
          "evalue": "ignored",
          "traceback": [
            "\u001b[0;31m---------------------------------------------------------------------------\u001b[0m",
            "\u001b[0;31mTypeError\u001b[0m                                 Traceback (most recent call last)",
            "\u001b[0;32mpandas/_libs/hashtable_class_helper.pxi\u001b[0m in \u001b[0;36mpandas._libs.hashtable.PyObjectHashTable.map_locations\u001b[0;34m()\u001b[0m\n",
            "\u001b[0;31mTypeError\u001b[0m: unhashable type: 'list'"
          ]
        },
        {
          "output_type": "stream",
          "name": "stderr",
          "text": [
            "Exception ignored in: 'pandas._libs.index.IndexEngine._call_map_locations'\n",
            "Traceback (most recent call last):\n",
            "  File \"pandas/_libs/hashtable_class_helper.pxi\", line 5231, in pandas._libs.hashtable.PyObjectHashTable.map_locations\n",
            "TypeError: unhashable type: 'list'\n"
          ]
        },
        {
          "output_type": "execute_result",
          "data": {
            "text/plain": [
              "[\\n, Sedans, \\n]           7903\n",
              "[\\n, Station wagon, \\n]    3553\n",
              "[\\n, Compact, \\n]          3153\n",
              "[\\n, Van, \\n]               783\n",
              "[\\n, Other, \\n]             290\n",
              "[\\n, Transporter, \\n]        88\n",
              "NaN                          60\n",
              "[\\n, Off-Road, \\n]           56\n",
              "[\\n, Coupe, \\n]              25\n",
              "[\\n, Convertible, \\n]         8\n",
              "Name: Body, dtype: int64"
            ]
          },
          "metadata": {},
          "execution_count": 199
        }
      ]
    },
    {
      "cell_type": "code",
      "source": [
        "df.drop('Body', axis=1,inplace = True)"
      ],
      "metadata": {
        "id": "x5O2HUADRGiH"
      },
      "execution_count": 217,
      "outputs": []
    },
    {
      "cell_type": "markdown",
      "source": [
        "##28.Nr. of Doors"
      ],
      "metadata": {
        "id": "Y5LYR8A5RTE6"
      }
    },
    {
      "cell_type": "code",
      "source": [
        "df['Nr. of Doors'].value_counts(dropna=False) "
      ],
      "metadata": {
        "colab": {
          "base_uri": "https://localhost:8080/",
          "height": 374
        },
        "id": "hL4KTpqgRZo6",
        "outputId": "383671d1-36f1-4dab-8fa7-81c8e955790e"
      },
      "execution_count": null,
      "outputs": [
        {
          "output_type": "error",
          "ename": "TypeError",
          "evalue": "ignored",
          "traceback": [
            "\u001b[0;31m---------------------------------------------------------------------------\u001b[0m",
            "\u001b[0;31mTypeError\u001b[0m                                 Traceback (most recent call last)",
            "\u001b[0;32mpandas/_libs/hashtable_class_helper.pxi\u001b[0m in \u001b[0;36mpandas._libs.hashtable.PyObjectHashTable.map_locations\u001b[0;34m()\u001b[0m\n",
            "\u001b[0;31mTypeError\u001b[0m: unhashable type: 'list'"
          ]
        },
        {
          "output_type": "stream",
          "name": "stderr",
          "text": [
            "Exception ignored in: 'pandas._libs.index.IndexEngine._call_map_locations'\n",
            "Traceback (most recent call last):\n",
            "  File \"pandas/_libs/hashtable_class_helper.pxi\", line 5231, in pandas._libs.hashtable.PyObjectHashTable.map_locations\n",
            "TypeError: unhashable type: 'list'\n"
          ]
        },
        {
          "output_type": "execute_result",
          "data": {
            "text/plain": [
              "[\\n5\\n]    11575\n",
              "[\\n4\\n]     3079\n",
              "[\\n3\\n]      832\n",
              "[\\n2\\n]      219\n",
              "NaN          212\n",
              "[\\n1\\n]        1\n",
              "[\\n7\\n]        1\n",
              "Name: Nr. of Doors, dtype: int64"
            ]
          },
          "metadata": {},
          "execution_count": 201
        }
      ]
    },
    {
      "cell_type": "code",
      "source": [
        "df['nr_of_doors']=df['Nr. of Doors'].astype(str).str.extract(\"(\\d)\")\n",
        "df['nr_of_doors'].value_counts(dropna=False) \n"
      ],
      "metadata": {
        "colab": {
          "base_uri": "https://localhost:8080/"
        },
        "id": "O9nEA8bfRdhK",
        "outputId": "bd28301e-8473-4242-843e-408f7a98328d"
      },
      "execution_count": 218,
      "outputs": [
        {
          "output_type": "execute_result",
          "data": {
            "text/plain": [
              "5      11575\n",
              "4       3079\n",
              "3        832\n",
              "2        219\n",
              "NaN      212\n",
              "1          1\n",
              "7          1\n",
              "Name: nr_of_doors, dtype: int64"
            ]
          },
          "metadata": {},
          "execution_count": 218
        }
      ]
    },
    {
      "cell_type": "markdown",
      "source": [
        "##29.Nr. of Seats"
      ],
      "metadata": {
        "id": "aLyQxSj5SbKp"
      }
    },
    {
      "cell_type": "code",
      "source": [
        "df['Nr. of Seats'].value_counts(dropna=False) "
      ],
      "metadata": {
        "colab": {
          "base_uri": "https://localhost:8080/",
          "height": 374
        },
        "id": "iVaRJKF5SiJJ",
        "outputId": "ca0b4866-1196-4bfe-d092-3ced1e02eafb"
      },
      "execution_count": 219,
      "outputs": [
        {
          "output_type": "error",
          "ename": "TypeError",
          "evalue": "ignored",
          "traceback": [
            "\u001b[0;31m---------------------------------------------------------------------------\u001b[0m",
            "\u001b[0;31mTypeError\u001b[0m                                 Traceback (most recent call last)",
            "\u001b[0;32mpandas/_libs/hashtable_class_helper.pxi\u001b[0m in \u001b[0;36mpandas._libs.hashtable.PyObjectHashTable.map_locations\u001b[0;34m()\u001b[0m\n",
            "\u001b[0;31mTypeError\u001b[0m: unhashable type: 'list'"
          ]
        },
        {
          "output_type": "stream",
          "name": "stderr",
          "text": [
            "Exception ignored in: 'pandas._libs.index.IndexEngine._call_map_locations'\n",
            "Traceback (most recent call last):\n",
            "  File \"pandas/_libs/hashtable_class_helper.pxi\", line 5231, in pandas._libs.hashtable.PyObjectHashTable.map_locations\n",
            "TypeError: unhashable type: 'list'\n"
          ]
        },
        {
          "output_type": "execute_result",
          "data": {
            "text/plain": [
              "[\\n5\\n]    13336\n",
              "[\\n4\\n]     1125\n",
              "NaN          977\n",
              "[\\n7\\n]      362\n",
              "[\\n2\\n]      116\n",
              "[\\n6\\n]        2\n",
              "[\\n3\\n]        1\n",
              "Name: Nr. of Seats, dtype: int64"
            ]
          },
          "metadata": {},
          "execution_count": 219
        }
      ]
    },
    {
      "cell_type": "code",
      "source": [
        "df['nr_of_seats']=df['Nr. of Seats'].astype(str).str.extract(\"(\\d)\")\n",
        "df['nr_of_seats'].value_counts(dropna=False) \n"
      ],
      "metadata": {
        "colab": {
          "base_uri": "https://localhost:8080/"
        },
        "id": "3dUmkqzGSh5M",
        "outputId": "0927bb15-6428-4ecb-824a-ef00726f7084"
      },
      "execution_count": 220,
      "outputs": [
        {
          "output_type": "execute_result",
          "data": {
            "text/plain": [
              "5      13336\n",
              "4       1125\n",
              "NaN      977\n",
              "7        362\n",
              "2        116\n",
              "6          2\n",
              "3          1\n",
              "Name: nr_of_seats, dtype: int64"
            ]
          },
          "metadata": {},
          "execution_count": 220
        }
      ]
    },
    {
      "cell_type": "markdown",
      "source": [
        "##30.Model Code"
      ],
      "metadata": {
        "id": "UpJwQfg9Sx5b"
      }
    },
    {
      "cell_type": "code",
      "source": [
        "df['Model Code'].value_counts(dropna=False) ## body ya da diğer nan value ların karşılaştırılarak bulunması için kullanılabilir"
      ],
      "metadata": {
        "colab": {
          "base_uri": "https://localhost:8080/",
          "height": 448
        },
        "id": "VZuxptwaShpC",
        "outputId": "0f095bca-5d96-4a04-d6e8-7c72d1c85b84"
      },
      "execution_count": null,
      "outputs": [
        {
          "output_type": "error",
          "ename": "TypeError",
          "evalue": "ignored",
          "traceback": [
            "\u001b[0;31m---------------------------------------------------------------------------\u001b[0m",
            "\u001b[0;31mTypeError\u001b[0m                                 Traceback (most recent call last)",
            "\u001b[0;32mpandas/_libs/hashtable_class_helper.pxi\u001b[0m in \u001b[0;36mpandas._libs.hashtable.PyObjectHashTable.map_locations\u001b[0;34m()\u001b[0m\n",
            "\u001b[0;31mTypeError\u001b[0m: unhashable type: 'list'"
          ]
        },
        {
          "output_type": "stream",
          "name": "stderr",
          "text": [
            "Exception ignored in: 'pandas._libs.index.IndexEngine._call_map_locations'\n",
            "Traceback (most recent call last):\n",
            "  File \"pandas/_libs/hashtable_class_helper.pxi\", line 5231, in pandas._libs.hashtable.PyObjectHashTable.map_locations\n",
            "TypeError: unhashable type: 'list'\n"
          ]
        },
        {
          "output_type": "execute_result",
          "data": {
            "text/plain": [
              "NaN               10941\n",
              "[\\n0035/BCB\\n]      268\n",
              "[\\n0588/BNO\\n]      245\n",
              "[\\n0588/BDB\\n]      206\n",
              "[\\n0588/BHX\\n]      188\n",
              "                  ...  \n",
              "[\\n0035/AVN\\n]        1\n",
              "[\\n0035/BEM\\n]        1\n",
              "[\\n0035/BAG\\n]        1\n",
              "[\\n0035/BAA\\n]        1\n",
              "[\\n3333/BKG\\n]        1\n",
              "Name: Model Code, Length: 233, dtype: int64"
            ]
          },
          "metadata": {},
          "execution_count": 211
        }
      ]
    },
    {
      "cell_type": "code",
      "source": [
        "df[\"Model Code\"]=[item[0] if type (item)==list else item for item in df [\"Model Code\"]]"
      ],
      "metadata": {
        "id": "rePbo3cUUTao"
      },
      "execution_count": 221,
      "outputs": []
    },
    {
      "cell_type": "code",
      "source": [
        "df['model_code']=df['Model Code'].str.lstrip(\"\\n\").str.rstrip(\"\\n\")\n",
        "df['model_code']"
      ],
      "metadata": {
        "colab": {
          "base_uri": "https://localhost:8080/"
        },
        "id": "94EPhOYYShOx",
        "outputId": "3d878ef8-44b7-433d-f27a-a4f2fd4f227e"
      },
      "execution_count": 222,
      "outputs": [
        {
          "output_type": "execute_result",
          "data": {
            "text/plain": [
              "0        0588/BDF\n",
              "1        0588/BCY\n",
              "2             NaN\n",
              "3             NaN\n",
              "4        0588/BDF\n",
              "           ...   \n",
              "15914         NaN\n",
              "15915    0000/000\n",
              "15916         NaN\n",
              "15917         NaN\n",
              "15918    3333/BHJ\n",
              "Name: model_code, Length: 15919, dtype: object"
            ]
          },
          "metadata": {},
          "execution_count": 222
        }
      ]
    },
    {
      "cell_type": "code",
      "source": [
        "df['model_code'].value_counts(dropna=False)"
      ],
      "metadata": {
        "colab": {
          "base_uri": "https://localhost:8080/"
        },
        "id": "PcURM6WEUn7M",
        "outputId": "e356b9f6-473b-4724-d510-d55e7afa588c"
      },
      "execution_count": 223,
      "outputs": [
        {
          "output_type": "execute_result",
          "data": {
            "text/plain": [
              "NaN         10941\n",
              "0035/BCB      268\n",
              "0588/BNO      245\n",
              "0588/BDB      206\n",
              "0588/BHX      188\n",
              "            ...  \n",
              "0035/AVN        1\n",
              "0035/BEM        1\n",
              "0035/BAG        1\n",
              "0035/BAA        1\n",
              "3333/BKG        1\n",
              "Name: model_code, Length: 233, dtype: int64"
            ]
          },
          "metadata": {},
          "execution_count": 223
        }
      ]
    },
    {
      "cell_type": "markdown",
      "source": [
        "##31.Gearing Type"
      ],
      "metadata": {
        "id": "vC1eN5AbUsoC"
      }
    },
    {
      "cell_type": "code",
      "source": [
        "df['Gearing Type'].value_counts(dropna=False)"
      ],
      "metadata": {
        "colab": {
          "base_uri": "https://localhost:8080/",
          "height": 301
        },
        "id": "rVERNuUsUzee",
        "outputId": "bcdf67a3-33fb-4bee-b4ea-1a2689a437ba"
      },
      "execution_count": null,
      "outputs": [
        {
          "output_type": "error",
          "ename": "TypeError",
          "evalue": "ignored",
          "traceback": [
            "\u001b[0;31m---------------------------------------------------------------------------\u001b[0m",
            "\u001b[0;31mTypeError\u001b[0m                                 Traceback (most recent call last)",
            "\u001b[0;32mpandas/_libs/hashtable_class_helper.pxi\u001b[0m in \u001b[0;36mpandas._libs.hashtable.PyObjectHashTable.map_locations\u001b[0;34m()\u001b[0m\n",
            "\u001b[0;31mTypeError\u001b[0m: unhashable type: 'list'"
          ]
        },
        {
          "output_type": "stream",
          "name": "stderr",
          "text": [
            "Exception ignored in: 'pandas._libs.index.IndexEngine._call_map_locations'\n",
            "Traceback (most recent call last):\n",
            "  File \"pandas/_libs/hashtable_class_helper.pxi\", line 5231, in pandas._libs.hashtable.PyObjectHashTable.map_locations\n",
            "TypeError: unhashable type: 'list'\n"
          ]
        },
        {
          "output_type": "execute_result",
          "data": {
            "text/plain": [
              "[\\n, Manual, \\n]            8153\n",
              "[\\n, Automatic, \\n]         7297\n",
              "[\\n, Semi-automatic, \\n]     469\n",
              "Name: Gearing Type, dtype: int64"
            ]
          },
          "metadata": {},
          "execution_count": 221
        }
      ]
    },
    {
      "cell_type": "code",
      "source": [
        "df['gearing_type'] = df['Gearing Type'].str[1]\n"
      ],
      "metadata": {
        "id": "OskJc6TAUzRE"
      },
      "execution_count": 224,
      "outputs": []
    },
    {
      "cell_type": "code",
      "source": [
        "df['gearing_type'].value_counts(dropna=False)"
      ],
      "metadata": {
        "colab": {
          "base_uri": "https://localhost:8080/"
        },
        "id": "8nEj8FLNUzBL",
        "outputId": "e6eabbcf-f1ed-4886-f216-27a26fac47d3"
      },
      "execution_count": 225,
      "outputs": [
        {
          "output_type": "execute_result",
          "data": {
            "text/plain": [
              "Manual            8153\n",
              "Automatic         7297\n",
              "Semi-automatic     469\n",
              "Name: gearing_type, dtype: int64"
            ]
          },
          "metadata": {},
          "execution_count": 225
        }
      ]
    },
    {
      "cell_type": "markdown",
      "source": [
        "##32.Displacement"
      ],
      "metadata": {
        "id": "a3BS_jUlWvtu"
      }
    },
    {
      "cell_type": "code",
      "source": [
        "df['Displacement'].value_counts(dropna=False)"
      ],
      "metadata": {
        "colab": {
          "base_uri": "https://localhost:8080/",
          "height": 448
        },
        "id": "UrEzprp7W40F",
        "outputId": "802fd062-ea22-4bb6-db7c-e9b7d9936ad3"
      },
      "execution_count": 7,
      "outputs": [
        {
          "output_type": "error",
          "ename": "TypeError",
          "evalue": "ignored",
          "traceback": [
            "\u001b[0;31m---------------------------------------------------------------------------\u001b[0m",
            "\u001b[0;31mTypeError\u001b[0m                                 Traceback (most recent call last)",
            "\u001b[0;32mpandas/_libs/hashtable_class_helper.pxi\u001b[0m in \u001b[0;36mpandas._libs.hashtable.PyObjectHashTable.map_locations\u001b[0;34m()\u001b[0m\n",
            "\u001b[0;31mTypeError\u001b[0m: unhashable type: 'list'"
          ]
        },
        {
          "output_type": "stream",
          "name": "stderr",
          "text": [
            "Exception ignored in: 'pandas._libs.index.IndexEngine._call_map_locations'\n",
            "Traceback (most recent call last):\n",
            "  File \"pandas/_libs/hashtable_class_helper.pxi\", line 5231, in pandas._libs.hashtable.PyObjectHashTable.map_locations\n",
            "TypeError: unhashable type: 'list'\n"
          ]
        },
        {
          "output_type": "execute_result",
          "data": {
            "text/plain": [
              "[\\n1,598 cc\\n]    4761\n",
              "[\\n999 cc\\n]      2438\n",
              "[\\n1,398 cc\\n]    1314\n",
              "[\\n1,399 cc\\n]     749\n",
              "[\\n1,229 cc\\n]     677\n",
              "                  ... \n",
              "[\\n122 cc\\n]         1\n",
              "[\\n1,198 cc\\n]       1\n",
              "[\\n1,195 cc\\n]       1\n",
              "[\\n2,967 cc\\n]       1\n",
              "[\\n1,800 cc\\n]       1\n",
              "Name: Displacement, Length: 78, dtype: int64"
            ]
          },
          "metadata": {},
          "execution_count": 7
        }
      ]
    },
    {
      "cell_type": "code",
      "source": [
        ""
      ],
      "metadata": {
        "id": "WutFqC1EzcOv"
      },
      "execution_count": null,
      "outputs": []
    },
    {
      "cell_type": "code",
      "source": [
        "df[\"Displacement\"]=[item[0] if type (item)==list else item for item in df [\"Displacement\"]]"
      ],
      "metadata": {
        "id": "C3tlt3EJzkHM"
      },
      "execution_count": 226,
      "outputs": []
    },
    {
      "cell_type": "code",
      "source": [
        "df['displacement_cc']=df['Displacement'].str.lstrip(\"\\n\").str.rstrip(\" cc\\n\")\n",
        "df['displacement_cc']"
      ],
      "metadata": {
        "colab": {
          "base_uri": "https://localhost:8080/"
        },
        "outputId": "d3ab2dec-ed0e-4778-fa57-7f7385ec5986",
        "id": "1lklkJH2zkHN"
      },
      "execution_count": 228,
      "outputs": [
        {
          "output_type": "execute_result",
          "data": {
            "text/plain": [
              "0        1,422\n",
              "1        1,798\n",
              "2        1,598\n",
              "3        1,422\n",
              "4        1,422\n",
              "         ...  \n",
              "15914    1,997\n",
              "15915    1,798\n",
              "15916    1,997\n",
              "15917    1,997\n",
              "15918    1,798\n",
              "Name: displacement_cc, Length: 15919, dtype: object"
            ]
          },
          "metadata": {},
          "execution_count": 228
        }
      ]
    },
    {
      "cell_type": "code",
      "source": [
        "df.displacement_cc=df.displacement_cc.str.replace(',','')"
      ],
      "metadata": {
        "id": "orxsXgp50H_h"
      },
      "execution_count": 229,
      "outputs": []
    },
    {
      "cell_type": "code",
      "source": [
        "df['displacement_cc'].value_counts(dropna=False)"
      ],
      "metadata": {
        "colab": {
          "base_uri": "https://localhost:8080/"
        },
        "outputId": "c6944f00-034f-46df-f156-ef6578e96120",
        "id": "wRRtetP3zkHO"
      },
      "execution_count": 230,
      "outputs": [
        {
          "output_type": "execute_result",
          "data": {
            "text/plain": [
              "1598    4761\n",
              "999     2438\n",
              "1398    1314\n",
              "1399     749\n",
              "1229     677\n",
              "        ... \n",
              "122        1\n",
              "1198       1\n",
              "1195       1\n",
              "2967       1\n",
              "1800       1\n",
              "Name: displacement_cc, Length: 78, dtype: int64"
            ]
          },
          "metadata": {},
          "execution_count": 230
        }
      ]
    },
    {
      "cell_type": "code",
      "source": [
        "df.drop('Displacement', axis=1,inplace = True)"
      ],
      "metadata": {
        "id": "pIDkyY44zby6"
      },
      "execution_count": 231,
      "outputs": []
    },
    {
      "cell_type": "markdown",
      "source": [
        "##33.Cylinders"
      ],
      "metadata": {
        "id": "VDnOgFiH0mML"
      }
    },
    {
      "cell_type": "code",
      "source": [
        "df['Cylinders'].value_counts(dropna=False)"
      ],
      "metadata": {
        "colab": {
          "base_uri": "https://localhost:8080/",
          "height": 393
        },
        "id": "MvxbgzK10qZF",
        "outputId": "e43fa528-7bd8-4640-d404-8b5c4937dc32"
      },
      "execution_count": 15,
      "outputs": [
        {
          "output_type": "error",
          "ename": "TypeError",
          "evalue": "ignored",
          "traceback": [
            "\u001b[0;31m---------------------------------------------------------------------------\u001b[0m",
            "\u001b[0;31mTypeError\u001b[0m                                 Traceback (most recent call last)",
            "\u001b[0;32mpandas/_libs/hashtable_class_helper.pxi\u001b[0m in \u001b[0;36mpandas._libs.hashtable.PyObjectHashTable.map_locations\u001b[0;34m()\u001b[0m\n",
            "\u001b[0;31mTypeError\u001b[0m: unhashable type: 'list'"
          ]
        },
        {
          "output_type": "stream",
          "name": "stderr",
          "text": [
            "Exception ignored in: 'pandas._libs.index.IndexEngine._call_map_locations'\n",
            "Traceback (most recent call last):\n",
            "  File \"pandas/_libs/hashtable_class_helper.pxi\", line 5231, in pandas._libs.hashtable.PyObjectHashTable.map_locations\n",
            "TypeError: unhashable type: 'list'\n"
          ]
        },
        {
          "output_type": "execute_result",
          "data": {
            "text/plain": [
              "[\\n4\\n]    8105\n",
              "NaN        5680\n",
              "[\\n3\\n]    2104\n",
              "[\\n5\\n]      22\n",
              "[\\n6\\n]       3\n",
              "[\\n8\\n]       2\n",
              "[\\n2\\n]       2\n",
              "[\\n1\\n]       1\n",
              "Name: Cylinders, dtype: int64"
            ]
          },
          "metadata": {},
          "execution_count": 15
        }
      ]
    },
    {
      "cell_type": "code",
      "source": [
        "df['cylinders']=df['Cylinders'].astype(str).str.extract(\"(\\d)\")\n"
      ],
      "metadata": {
        "id": "XqIDvoIJ0y2H"
      },
      "execution_count": 232,
      "outputs": []
    },
    {
      "cell_type": "code",
      "source": [
        "df['cylinders'].value_counts(dropna=False) "
      ],
      "metadata": {
        "colab": {
          "base_uri": "https://localhost:8080/"
        },
        "id": "kdB986ff0ygQ",
        "outputId": "03946f64-abb0-435c-976e-db59b435e0f6"
      },
      "execution_count": 233,
      "outputs": [
        {
          "output_type": "execute_result",
          "data": {
            "text/plain": [
              "4      8105\n",
              "NaN    5680\n",
              "3      2104\n",
              "5        22\n",
              "6         3\n",
              "8         2\n",
              "2         2\n",
              "1         1\n",
              "Name: cylinders, dtype: int64"
            ]
          },
          "metadata": {},
          "execution_count": 233
        }
      ]
    },
    {
      "cell_type": "markdown",
      "source": [
        "##34.Weight"
      ],
      "metadata": {
        "id": "hppkNf5b1DvC"
      }
    },
    {
      "cell_type": "code",
      "source": [
        "df['Weight'].value_counts(dropna=False) "
      ],
      "metadata": {
        "colab": {
          "base_uri": "https://localhost:8080/",
          "height": 448
        },
        "id": "WUO6TZJB1Jrs",
        "outputId": "26da41a4-cea5-4f62-caf3-cfa11cd13d2b"
      },
      "execution_count": 20,
      "outputs": [
        {
          "output_type": "error",
          "ename": "TypeError",
          "evalue": "ignored",
          "traceback": [
            "\u001b[0;31m---------------------------------------------------------------------------\u001b[0m",
            "\u001b[0;31mTypeError\u001b[0m                                 Traceback (most recent call last)",
            "\u001b[0;32mpandas/_libs/hashtable_class_helper.pxi\u001b[0m in \u001b[0;36mpandas._libs.hashtable.PyObjectHashTable.map_locations\u001b[0;34m()\u001b[0m\n",
            "\u001b[0;31mTypeError\u001b[0m: unhashable type: 'list'"
          ]
        },
        {
          "output_type": "stream",
          "name": "stderr",
          "text": [
            "Exception ignored in: 'pandas._libs.index.IndexEngine._call_map_locations'\n",
            "Traceback (most recent call last):\n",
            "  File \"pandas/_libs/hashtable_class_helper.pxi\", line 5231, in pandas._libs.hashtable.PyObjectHashTable.map_locations\n",
            "TypeError: unhashable type: 'list'\n"
          ]
        },
        {
          "output_type": "execute_result",
          "data": {
            "text/plain": [
              "NaN               6974\n",
              "[\\n1,163 kg\\n]     574\n",
              "[\\n1,360 kg\\n]     356\n",
              "[\\n1,165 kg\\n]     301\n",
              "[\\n1,335 kg\\n]     242\n",
              "                  ... \n",
              "[\\n1,960 kg\\n]       1\n",
              "[\\n1,258 kg\\n]       1\n",
              "[\\n1,167 kg\\n]       1\n",
              "[\\n1,331 kg\\n]       1\n",
              "[\\n2,037 kg\\n]       1\n",
              "Name: Weight, Length: 435, dtype: int64"
            ]
          },
          "metadata": {},
          "execution_count": 20
        }
      ]
    },
    {
      "cell_type": "code",
      "source": [
        ""
      ],
      "metadata": {
        "id": "llRm7C4A1Jf_"
      },
      "execution_count": null,
      "outputs": []
    },
    {
      "cell_type": "code",
      "source": [
        "df[\"Weight\"]=[item[0] if type (item)==list else item for item in df [\"Weight\"]]"
      ],
      "metadata": {
        "id": "CvH30UcT1jk-"
      },
      "execution_count": 234,
      "outputs": []
    },
    {
      "cell_type": "code",
      "source": [
        "df['weight']=df['Weight'].str.lstrip(\"\\n\").str.rstrip(\" kg\\n\")\n",
        "df['weight']"
      ],
      "metadata": {
        "colab": {
          "base_uri": "https://localhost:8080/"
        },
        "outputId": "4edfec88-0040-4145-f270-b0337a0c9541",
        "id": "15YHDwNv1jk_"
      },
      "execution_count": 235,
      "outputs": [
        {
          "output_type": "execute_result",
          "data": {
            "text/plain": [
              "0        1,220\n",
              "1        1,255\n",
              "2          NaN\n",
              "3        1,195\n",
              "4          NaN\n",
              "         ...  \n",
              "15914    1,758\n",
              "15915    1,708\n",
              "15916      NaN\n",
              "15917    1,758\n",
              "15918    1,685\n",
              "Name: weight, Length: 15919, dtype: object"
            ]
          },
          "metadata": {},
          "execution_count": 235
        }
      ]
    },
    {
      "cell_type": "code",
      "source": [
        "df.weight=df.weight.str.replace(',','')"
      ],
      "metadata": {
        "id": "CiQObmaV1jk_"
      },
      "execution_count": 236,
      "outputs": []
    },
    {
      "cell_type": "code",
      "source": [
        "df['weight'].value_counts(dropna=False)"
      ],
      "metadata": {
        "colab": {
          "base_uri": "https://localhost:8080/"
        },
        "outputId": "5937ec69-2730-4ce0-fd65-1822dee538b4",
        "id": "1tBYh3lk1jk_"
      },
      "execution_count": 237,
      "outputs": [
        {
          "output_type": "execute_result",
          "data": {
            "text/plain": [
              "NaN     6974\n",
              "1163     574\n",
              "1360     356\n",
              "1165     301\n",
              "1335     242\n",
              "        ... \n",
              "1960       1\n",
              "1258       1\n",
              "1167       1\n",
              "1331       1\n",
              "2037       1\n",
              "Name: weight, Length: 435, dtype: int64"
            ]
          },
          "metadata": {},
          "execution_count": 237
        }
      ]
    },
    {
      "cell_type": "code",
      "source": [
        "df.drop('Weight', axis=1,inplace = True)"
      ],
      "metadata": {
        "id": "O82EY-K41jlA"
      },
      "execution_count": 238,
      "outputs": []
    },
    {
      "cell_type": "markdown",
      "source": [
        "##35.Drive chain"
      ],
      "metadata": {
        "id": "K9IteF_912yG"
      }
    },
    {
      "cell_type": "code",
      "source": [
        "df['Drive chain'].value_counts(dropna=False)"
      ],
      "metadata": {
        "colab": {
          "base_uri": "https://localhost:8080/",
          "height": 320
        },
        "id": "iklw86g91I3n",
        "outputId": "4445930b-8df1-4b47-8048-a74b75b094a0"
      },
      "execution_count": 28,
      "outputs": [
        {
          "output_type": "error",
          "ename": "TypeError",
          "evalue": "ignored",
          "traceback": [
            "\u001b[0;31m---------------------------------------------------------------------------\u001b[0m",
            "\u001b[0;31mTypeError\u001b[0m                                 Traceback (most recent call last)",
            "\u001b[0;32mpandas/_libs/hashtable_class_helper.pxi\u001b[0m in \u001b[0;36mpandas._libs.hashtable.PyObjectHashTable.map_locations\u001b[0;34m()\u001b[0m\n",
            "\u001b[0;31mTypeError\u001b[0m: unhashable type: 'list'"
          ]
        },
        {
          "output_type": "stream",
          "name": "stderr",
          "text": [
            "Exception ignored in: 'pandas._libs.index.IndexEngine._call_map_locations'\n",
            "Traceback (most recent call last):\n",
            "  File \"pandas/_libs/hashtable_class_helper.pxi\", line 5231, in pandas._libs.hashtable.PyObjectHashTable.map_locations\n",
            "TypeError: unhashable type: 'list'\n"
          ]
        },
        {
          "output_type": "execute_result",
          "data": {
            "text/plain": [
              "[\\nfront\\n]    8886\n",
              "NaN            6858\n",
              "[\\n4WD\\n]       171\n",
              "[\\nrear\\n]        4\n",
              "Name: Drive chain, dtype: int64"
            ]
          },
          "metadata": {},
          "execution_count": 28
        }
      ]
    },
    {
      "cell_type": "code",
      "source": [
        ""
      ],
      "metadata": {
        "id": "MNlTQeVE2D4g"
      },
      "execution_count": null,
      "outputs": []
    },
    {
      "cell_type": "code",
      "source": [
        "df[\"Drive chain\"]=[item[0] if type (item)==list else item for item in df [\"Drive chain\"]]"
      ],
      "metadata": {
        "id": "ZFG4G3Nm32sW"
      },
      "execution_count": 239,
      "outputs": []
    },
    {
      "cell_type": "code",
      "source": [
        "df['drive_chain']=df['Drive chain'].str.lstrip(\"\\n\").str.rstrip(\"\\n\")\n",
        "df['drive_chain']"
      ],
      "metadata": {
        "colab": {
          "base_uri": "https://localhost:8080/"
        },
        "outputId": "6af1efe3-532f-4b1f-bf7b-09b96045067b",
        "id": "q1UQ1Tj_32sX"
      },
      "execution_count": 240,
      "outputs": [
        {
          "output_type": "execute_result",
          "data": {
            "text/plain": [
              "0        front\n",
              "1        front\n",
              "2        front\n",
              "3          NaN\n",
              "4        front\n",
              "         ...  \n",
              "15914    front\n",
              "15915    front\n",
              "15916    front\n",
              "15917    front\n",
              "15918      4WD\n",
              "Name: drive_chain, Length: 15919, dtype: object"
            ]
          },
          "metadata": {},
          "execution_count": 240
        }
      ]
    },
    {
      "cell_type": "code",
      "source": [
        "df['drive_chain'].value_counts(dropna=False) ### use dummy"
      ],
      "metadata": {
        "colab": {
          "base_uri": "https://localhost:8080/"
        },
        "outputId": "7f539409-4b37-4b2c-cbcd-7e2576a0e952",
        "id": "RxLvA42n32sX"
      },
      "execution_count": 241,
      "outputs": [
        {
          "output_type": "execute_result",
          "data": {
            "text/plain": [
              "front    8886\n",
              "NaN      6858\n",
              "4WD       171\n",
              "rear        4\n",
              "Name: drive_chain, dtype: int64"
            ]
          },
          "metadata": {},
          "execution_count": 241
        }
      ]
    },
    {
      "cell_type": "code",
      "source": [
        ""
      ],
      "metadata": {
        "id": "EEVS3lFH2Div"
      },
      "execution_count": null,
      "outputs": []
    },
    {
      "cell_type": "markdown",
      "source": [
        "##36.Fuel"
      ],
      "metadata": {
        "id": "7uppPxh91mSg"
      }
    },
    {
      "cell_type": "code",
      "source": [
        "df['Fuel'].value_counts(dropna=False)"
      ],
      "metadata": {
        "colab": {
          "base_uri": "https://localhost:8080/",
          "height": 448
        },
        "id": "QEsR44fl6Deu",
        "outputId": "4a019477-2efa-4d4a-e500-3ff97577b8b8"
      },
      "execution_count": 18,
      "outputs": [
        {
          "output_type": "error",
          "ename": "TypeError",
          "evalue": "ignored",
          "traceback": [
            "\u001b[0;31m---------------------------------------------------------------------------\u001b[0m",
            "\u001b[0;31mTypeError\u001b[0m                                 Traceback (most recent call last)",
            "\u001b[0;32mpandas/_libs/hashtable_class_helper.pxi\u001b[0m in \u001b[0;36mpandas._libs.hashtable.PyObjectHashTable.map_locations\u001b[0;34m()\u001b[0m\n",
            "\u001b[0;31mTypeError\u001b[0m: unhashable type: 'list'"
          ]
        },
        {
          "output_type": "stream",
          "name": "stderr",
          "text": [
            "Exception ignored in: 'pandas._libs.index.IndexEngine._call_map_locations'\n",
            "Traceback (most recent call last):\n",
            "  File \"pandas/_libs/hashtable_class_helper.pxi\", line 5231, in pandas._libs.hashtable.PyObjectHashTable.map_locations\n",
            "TypeError: unhashable type: 'list'\n"
          ]
        },
        {
          "output_type": "execute_result",
          "data": {
            "text/plain": [
              "[\\n, Diesel (Particulate Filter), \\n]                                                                                  4315\n",
              "[\\n, Super 95, \\n]                                                                                                     3338\n",
              "[\\n, Gasoline, \\n]                                                                                                     3175\n",
              "[\\n, Diesel, \\n]                                                                                                       2984\n",
              "[\\n, Super 95 / Regular/Benzine 91, \\n]                                                                                 424\n",
              "                                                                                                                       ... \n",
              "[\\n, Regular/Benzine 91 / Super 95 / Regular/Benzine E10 91, \\n]                                                          1\n",
              "[\\n, Super Plus 98 / Super E10 95, \\n]                                                                                    1\n",
              "[\\n, Regular/Benzine 91 / Super 95 / Regular/Benzine E10 91 / Super E10 95 / Super Plus 98 / Super Plus E10 98, \\n]       1\n",
              "[\\n, Regular/Benzine 91 / Super Plus 98 / Regular/Benzine E10 91 / Super 95 / Super E10 95 / Super Plus E10 98, \\n]       1\n",
              "[\\n, Super Plus 98 / Super 95 / Super Plus E10 98, \\n]                                                                    1\n",
              "Name: Fuel, Length: 77, dtype: int64"
            ]
          },
          "metadata": {},
          "execution_count": 18
        }
      ]
    },
    {
      "cell_type": "code",
      "source": [
        "df.Fuel.sample(10)"
      ],
      "metadata": {
        "colab": {
          "base_uri": "https://localhost:8080/"
        },
        "id": "n4Jtuo1r6T-7",
        "outputId": "13039966-6b25-4d7c-9689-2dad41a073b8"
      },
      "execution_count": 249,
      "outputs": [
        {
          "output_type": "execute_result",
          "data": {
            "text/plain": [
              "7591     Benzine\n",
              "6635     Benzine\n",
              "10982     Diesel\n",
              "13867     Diesel\n",
              "12882     Diesel\n",
              "353      Benzine\n",
              "10689     Diesel\n",
              "10738     Diesel\n",
              "12587    Benzine\n",
              "13984     Diesel\n",
              "Name: Fuel, dtype: object"
            ]
          },
          "metadata": {},
          "execution_count": 249
        }
      ]
    },
    {
      "cell_type": "code",
      "source": [
        "df[\"Fuel\"]=[item[1] if type (item)==list else item for item in df [\"Fuel\"]]"
      ],
      "metadata": {
        "id": "oixn0dCT6R3s"
      },
      "execution_count": 242,
      "outputs": []
    },
    {
      "cell_type": "code",
      "source": [
        "df.Fuel.sample(10)"
      ],
      "metadata": {
        "colab": {
          "base_uri": "https://localhost:8080/"
        },
        "id": "c2mzH9nw6fhL",
        "outputId": "6e9dadef-9879-4865-f067-caee691f289e"
      },
      "execution_count": 248,
      "outputs": [
        {
          "output_type": "execute_result",
          "data": {
            "text/plain": [
              "12041    Benzine\n",
              "1537     Benzine\n",
              "8620     Benzine\n",
              "8744      Diesel\n",
              "15244     Diesel\n",
              "3719      Diesel\n",
              "7212     Benzine\n",
              "12818     Diesel\n",
              "10955     Diesel\n",
              "4401      Diesel\n",
              "Name: Fuel, dtype: object"
            ]
          },
          "metadata": {},
          "execution_count": 248
        }
      ]
    },
    {
      "cell_type": "code",
      "source": [
        "type(df.Fuel[1])"
      ],
      "metadata": {
        "colab": {
          "base_uri": "https://localhost:8080/"
        },
        "id": "lXMCEYa5FVuN",
        "outputId": "94a68f90-bb7d-45e3-cd3f-356e5c69e77f"
      },
      "execution_count": 245,
      "outputs": [
        {
          "output_type": "execute_result",
          "data": {
            "text/plain": [
              "str"
            ]
          },
          "metadata": {},
          "execution_count": 245
        }
      ]
    },
    {
      "cell_type": "code",
      "source": [
        "df.Fuel.astype(str)"
      ],
      "metadata": {
        "colab": {
          "base_uri": "https://localhost:8080/"
        },
        "id": "lMZb_AB25-T-",
        "outputId": "4aa0086b-c0a2-49f8-ea70-4797a4ae2004"
      },
      "execution_count": 32,
      "outputs": [
        {
          "output_type": "execute_result",
          "data": {
            "text/plain": [
              "0                          Diesel (Particulate Filter)\n",
              "1                                             Gasoline\n",
              "2                          Diesel (Particulate Filter)\n",
              "3                          Diesel (Particulate Filter)\n",
              "4                          Diesel (Particulate Filter)\n",
              "                             ...                      \n",
              "15914                      Diesel (Particulate Filter)\n",
              "15915    Super 95 / Super Plus 98 (Particulate Filter)\n",
              "15916                                           Diesel\n",
              "15917                                           Diesel\n",
              "15918                                         Super 95\n",
              "Name: Fuel, Length: 15919, dtype: object"
            ]
          },
          "metadata": {},
          "execution_count": 32
        }
      ]
    },
    {
      "cell_type": "code",
      "source": [
        "df.Fuel[1].contains('Super', regex=False)"
      ],
      "metadata": {
        "colab": {
          "base_uri": "https://localhost:8080/",
          "height": 172
        },
        "id": "7CTYLxORGZtX",
        "outputId": "1335b571-8702-4837-f12f-b841ed1eac85"
      },
      "execution_count": 244,
      "outputs": [
        {
          "output_type": "error",
          "ename": "AttributeError",
          "evalue": "ignored",
          "traceback": [
            "\u001b[0;31m---------------------------------------------------------------------------\u001b[0m",
            "\u001b[0;31mAttributeError\u001b[0m                            Traceback (most recent call last)",
            "\u001b[0;32m<ipython-input-244-00d9c05856a9>\u001b[0m in \u001b[0;36m<module>\u001b[0;34m()\u001b[0m\n\u001b[0;32m----> 1\u001b[0;31m \u001b[0mdf\u001b[0m\u001b[0;34m.\u001b[0m\u001b[0mFuel\u001b[0m\u001b[0;34m[\u001b[0m\u001b[0;36m1\u001b[0m\u001b[0;34m]\u001b[0m\u001b[0;34m.\u001b[0m\u001b[0mcontains\u001b[0m\u001b[0;34m(\u001b[0m\u001b[0;34m'Super'\u001b[0m\u001b[0;34m,\u001b[0m \u001b[0mregex\u001b[0m\u001b[0;34m=\u001b[0m\u001b[0;32mFalse\u001b[0m\u001b[0;34m)\u001b[0m\u001b[0;34m\u001b[0m\u001b[0;34m\u001b[0m\u001b[0m\n\u001b[0m",
            "\u001b[0;31mAttributeError\u001b[0m: 'str' object has no attribute 'contains'"
          ]
        }
      ]
    },
    {
      "cell_type": "code",
      "execution_count": 246,
      "metadata": {
        "id": "YROIy9s_mLgx"
      },
      "outputs": [],
      "source": [
        "benzine=[\"Gasoline\", 'Super 95 / Super Plus 98','Super 95 / Super Plus 98 / Super E10 95 / Super Plus E10 98','Regular/Benzine 91', 'Super 95 / Super E10 95','Regular/Benzine 91 (Particulate Filter)','Gasoline (Particulate Filter)', \"Super 95\", \"Regular\",'Super 95 (Particulate Filter)','Super 95 / Regular/Benzine 91', \"Super E10 95\", \"Super Plus 98\", \"Super Plus E10 98\", \"Others\"]\n",
        "lpg = ['LPG', 'liquid petroleum gas', 'CNG', 'Biogas', 'Domestic gas H','Liquid petroleum gas (LPG)','CNG (Particulate Filter)']\n",
        "diesel =['Diesel','Diesel (Particulate Filter)']\n",
        "def fueltype(x):\n",
        "    if x in benzine:\n",
        "      return \"Benzine\"\n",
        "    elif x in lpg:\n",
        "      return \"LPG/CNG\"\n",
        "    elif x in diesel:\n",
        "      return \"Diesel\"  \n",
        "    else:\n",
        "      return \"Benzine\"\n",
        "df['Fuel']=df.Fuel.apply(fueltype)"
      ]
    },
    {
      "cell_type": "code",
      "source": [
        "df['Fuel'].value_counts(dropna=False)"
      ],
      "metadata": {
        "colab": {
          "base_uri": "https://localhost:8080/"
        },
        "id": "kwCec__pNezA",
        "outputId": "8c0c2e15-c0c7-450f-e063-6bfc1194b127"
      },
      "execution_count": 247,
      "outputs": [
        {
          "output_type": "execute_result",
          "data": {
            "text/plain": [
              "Benzine    8620\n",
              "Diesel     7299\n",
              "Name: Fuel, dtype: int64"
            ]
          },
          "metadata": {},
          "execution_count": 247
        }
      ]
    },
    {
      "cell_type": "code",
      "source": [
        ""
      ],
      "metadata": {
        "id": "cYVuiAhSNl6R"
      },
      "execution_count": null,
      "outputs": []
    },
    {
      "cell_type": "code",
      "source": [
        "df.Fuel.astype('str')"
      ],
      "metadata": {
        "colab": {
          "base_uri": "https://localhost:8080/",
          "height": 0
        },
        "id": "g3t9vEsLB-v8",
        "outputId": "c59474a7-dec6-409d-d2df-da8cdc582e5f"
      },
      "execution_count": 72,
      "outputs": [
        {
          "output_type": "execute_result",
          "data": {
            "text/plain": [
              "0                          Diesel (Particulate Filter)\n",
              "1                                             Gasoline\n",
              "2                          Diesel (Particulate Filter)\n",
              "3                          Diesel (Particulate Filter)\n",
              "4                          Diesel (Particulate Filter)\n",
              "                             ...                      \n",
              "15914                      Diesel (Particulate Filter)\n",
              "15915    Super 95 / Super Plus 98 (Particulate Filter)\n",
              "15916                                           Diesel\n",
              "15917                                           Diesel\n",
              "15918                                         Super 95\n",
              "Name: Fuel, Length: 15919, dtype: object"
            ]
          },
          "metadata": {},
          "execution_count": 72
        }
      ]
    },
    {
      "cell_type": "code",
      "source": [
        "df.Fuel.sample(10)"
      ],
      "metadata": {
        "colab": {
          "base_uri": "https://localhost:8080/",
          "height": 0
        },
        "id": "0auQAYQ6tv5U",
        "outputId": "29c4add8-fe43-480e-bbaf-aa1745576338"
      },
      "execution_count": 60,
      "outputs": [
        {
          "output_type": "execute_result",
          "data": {
            "text/plain": [
              "10456                          Benzine\n",
              "12970    Super 95 (Particulate Filter)\n",
              "8208                           Benzine\n",
              "9768                           Benzine\n",
              "5910                            Diesel\n",
              "1563                           Benzine\n",
              "5493                           Benzine\n",
              "14192                           Diesel\n",
              "14267                          Benzine\n",
              "938                             Diesel\n",
              "Name: Fuel, dtype: object"
            ]
          },
          "metadata": {},
          "execution_count": 60
        }
      ]
    },
    {
      "cell_type": "code",
      "source": [
        "df['Fuel'].value_counts(dropna=False)\n"
      ],
      "metadata": {
        "id": "DomvqNnC2TC2",
        "colab": {
          "base_uri": "https://localhost:8080/",
          "height": 448
        },
        "outputId": "88ae9099-287a-40f9-da0d-f71796062d1c"
      },
      "execution_count": 89,
      "outputs": [
        {
          "output_type": "error",
          "ename": "TypeError",
          "evalue": "ignored",
          "traceback": [
            "\u001b[0;31m---------------------------------------------------------------------------\u001b[0m",
            "\u001b[0;31mTypeError\u001b[0m                                 Traceback (most recent call last)",
            "\u001b[0;32mpandas/_libs/hashtable_class_helper.pxi\u001b[0m in \u001b[0;36mpandas._libs.hashtable.PyObjectHashTable.map_locations\u001b[0;34m()\u001b[0m\n",
            "\u001b[0;31mTypeError\u001b[0m: unhashable type: 'list'"
          ]
        },
        {
          "output_type": "stream",
          "name": "stderr",
          "text": [
            "Exception ignored in: 'pandas._libs.index.IndexEngine._call_map_locations'\n",
            "Traceback (most recent call last):\n",
            "  File \"pandas/_libs/hashtable_class_helper.pxi\", line 5231, in pandas._libs.hashtable.PyObjectHashTable.map_locations\n",
            "TypeError: unhashable type: 'list'\n"
          ]
        },
        {
          "output_type": "execute_result",
          "data": {
            "text/plain": [
              "[\\n, Diesel (Particulate Filter), \\n]                                                                                  4315\n",
              "[\\n, Super 95, \\n]                                                                                                     3338\n",
              "[\\n, Gasoline, \\n]                                                                                                     3175\n",
              "[\\n, Diesel, \\n]                                                                                                       2984\n",
              "[\\n, Super 95 / Regular/Benzine 91, \\n]                                                                                 424\n",
              "                                                                                                                       ... \n",
              "[\\n, Regular/Benzine 91 / Super 95 / Regular/Benzine E10 91, \\n]                                                          1\n",
              "[\\n, Super Plus 98 / Super E10 95, \\n]                                                                                    1\n",
              "[\\n, Regular/Benzine 91 / Super 95 / Regular/Benzine E10 91 / Super E10 95 / Super Plus 98 / Super Plus E10 98, \\n]       1\n",
              "[\\n, Regular/Benzine 91 / Super Plus 98 / Regular/Benzine E10 91 / Super 95 / Super E10 95 / Super Plus E10 98, \\n]       1\n",
              "[\\n, Super Plus 98 / Super 95 / Super Plus E10 98, \\n]                                                                    1\n",
              "Name: Fuel, Length: 77, dtype: int64"
            ]
          },
          "metadata": {},
          "execution_count": 89
        }
      ]
    },
    {
      "cell_type": "code",
      "source": [
        ""
      ],
      "metadata": {
        "id": "74jwbMym5__U"
      },
      "execution_count": null,
      "outputs": []
    },
    {
      "cell_type": "markdown",
      "source": [
        "##36.Consumption"
      ],
      "metadata": {
        "id": "obfM5LZf4utG"
      }
    },
    {
      "cell_type": "code",
      "source": [
        "df['Consumption'].value_counts(dropna=False)"
      ],
      "metadata": {
        "colab": {
          "base_uri": "https://localhost:8080/",
          "height": 448
        },
        "id": "HTjhdiK4OK-A",
        "outputId": "c5bb8bea-ac74-4f74-e22b-7d4902ddb662"
      },
      "execution_count": 94,
      "outputs": [
        {
          "output_type": "error",
          "ename": "TypeError",
          "evalue": "ignored",
          "traceback": [
            "\u001b[0;31m---------------------------------------------------------------------------\u001b[0m",
            "\u001b[0;31mTypeError\u001b[0m                                 Traceback (most recent call last)",
            "\u001b[0;32mpandas/_libs/hashtable_class_helper.pxi\u001b[0m in \u001b[0;36mpandas._libs.hashtable.PyObjectHashTable.map_locations\u001b[0;34m()\u001b[0m\n",
            "\u001b[0;31mTypeError\u001b[0m: unhashable type: 'list'"
          ]
        },
        {
          "output_type": "stream",
          "name": "stderr",
          "text": [
            "Exception ignored in: 'pandas._libs.index.IndexEngine._call_map_locations'\n",
            "Traceback (most recent call last):\n",
            "  File \"pandas/_libs/hashtable_class_helper.pxi\", line 5231, in pandas._libs.hashtable.PyObjectHashTable.map_locations\n",
            "TypeError: unhashable type: 'list'\n"
          ]
        },
        {
          "output_type": "execute_result",
          "data": {
            "text/plain": [
              "NaN                                                                                   1906\n",
              "[[3.9 l/100 km (comb)], [4.1 l/100 km (city)], [3.7 l/100 km (country)]]               304\n",
              "[[4.2 l/100 km (comb)], [5 l/100 km (city)], [3.7 l/100 km (country)]]                 276\n",
              "[[5.4 l/100 km (comb)], [6.8 l/100 km (city)], [4.5 l/100 km (country)]]               257\n",
              "[[3.8 l/100 km (comb)], [4.3 l/100 km (city)], [3.5 l/100 km (country)]]               253\n",
              "                                                                                      ... \n",
              "[[4.2 l/100 km (comb)], [5.3 l/100 km (city)], [3.6 l/100 km (country)]]                 1\n",
              "[\\n, 5.1 l/100 km (comb), \\n, 6.4 l/100 km (city), \\n, 4.3 l/100 km (country), \\n]       1\n",
              "[[4.6 l/100 km (comb)], [5.4 l/100 km (city)], [6.7 l/100 km (country)]]                 1\n",
              "[\\n, 6.3 l/100 km (comb), \\n, \\n, \\n]                                                    1\n",
              "[\\n, 7.4 l/100 km (comb), \\n, 9.6 l/100 km (city), \\n, 6 l/100 km (country), \\n]         1\n",
              "Name: Consumption, Length: 882, dtype: int64"
            ]
          },
          "metadata": {},
          "execution_count": 94
        }
      ]
    },
    {
      "cell_type": "code",
      "source": [
        "df['consumption_comb']=df['Consumption'].str[0]"
      ],
      "metadata": {
        "id": "ZvIF8abzOpqn"
      },
      "execution_count": 113,
      "outputs": []
    },
    {
      "cell_type": "code",
      "source": [
        "df['consumption_comb']"
      ],
      "metadata": {
        "colab": {
          "base_uri": "https://localhost:8080/",
          "height": 0
        },
        "id": "5SjFyaMuQSGd",
        "outputId": "8cd4aa42-65de-4138-9b74-391ccb224611"
      },
      "execution_count": 114,
      "outputs": [
        {
          "output_type": "execute_result",
          "data": {
            "text/plain": [
              "0        [3.8 l/100 km (comb)]\n",
              "1        [5.6 l/100 km (comb)]\n",
              "2        [3.8 l/100 km (comb)]\n",
              "3        [3.8 l/100 km (comb)]\n",
              "4        [4.1 l/100 km (comb)]\n",
              "                 ...          \n",
              "15914    [5.3 l/100 km (comb)]\n",
              "15915                       \\n\n",
              "15916    [5.3 l/100 km (comb)]\n",
              "15917    [5.3 l/100 km (comb)]\n",
              "15918    [6.8 l/100 km (comb)]\n",
              "Name: consumption_comb, Length: 15919, dtype: object"
            ]
          },
          "metadata": {},
          "execution_count": 114
        }
      ]
    },
    {
      "cell_type": "code",
      "source": [
        "df['consumption_comb']=df['consumption_comb'].astype(str).str.extract(\"(\\d\\d|\\d.\\d|\\d)\")\n",
        "df['consumption_comb']"
      ],
      "metadata": {
        "colab": {
          "base_uri": "https://localhost:8080/",
          "height": 0
        },
        "id": "fBvXk17PQmdP",
        "outputId": "a8728ebc-28e2-44e7-8e4a-15fa25f3092e"
      },
      "execution_count": 115,
      "outputs": [
        {
          "output_type": "execute_result",
          "data": {
            "text/plain": [
              "0        3.8\n",
              "1        5.6\n",
              "2        3.8\n",
              "3        3.8\n",
              "4        4.1\n",
              "        ... \n",
              "15914    5.3\n",
              "15915    NaN\n",
              "15916    5.3\n",
              "15917    5.3\n",
              "15918    6.8\n",
              "Name: consumption_comb, Length: 15919, dtype: object"
            ]
          },
          "metadata": {},
          "execution_count": 115
        }
      ]
    },
    {
      "cell_type": "code",
      "source": [
        ""
      ],
      "metadata": {
        "id": "7nAYVeYlR27X"
      },
      "execution_count": null,
      "outputs": []
    },
    {
      "cell_type": "code",
      "source": [
        "df['consumption_city']=df['Consumption'].str[1]"
      ],
      "metadata": {
        "id": "oJ2U9vZXR8b1"
      },
      "execution_count": 116,
      "outputs": []
    },
    {
      "cell_type": "code",
      "source": [
        "df['consumption_city']"
      ],
      "metadata": {
        "colab": {
          "base_uri": "https://localhost:8080/",
          "height": 0
        },
        "outputId": "82de4e47-c2fe-4fc7-984b-733703923f26",
        "id": "dhTEdBLcR8b2"
      },
      "execution_count": 117,
      "outputs": [
        {
          "output_type": "execute_result",
          "data": {
            "text/plain": [
              "0        [4.3 l/100 km (city)]\n",
              "1        [7.1 l/100 km (city)]\n",
              "2        [4.4 l/100 km (city)]\n",
              "3        [4.3 l/100 km (city)]\n",
              "4        [4.6 l/100 km (city)]\n",
              "                 ...          \n",
              "15914    [6.2 l/100 km (city)]\n",
              "15915      7.4 l/100 km (comb)\n",
              "15916    [6.2 l/100 km (city)]\n",
              "15917    [6.2 l/100 km (city)]\n",
              "15918    [8.7 l/100 km (city)]\n",
              "Name: consumption_city, Length: 15919, dtype: object"
            ]
          },
          "metadata": {},
          "execution_count": 117
        }
      ]
    },
    {
      "cell_type": "code",
      "source": [
        "df['consumption_city']=df['consumption_city'].astype(str).str.extract(\"(\\d\\d|\\d.\\d|\\d)\")\n",
        "df['consumption_city']"
      ],
      "metadata": {
        "colab": {
          "base_uri": "https://localhost:8080/",
          "height": 0
        },
        "outputId": "96f20dc0-f809-4179-f40e-f39e14237ee9",
        "id": "vff97tmyR8b2"
      },
      "execution_count": 118,
      "outputs": [
        {
          "output_type": "execute_result",
          "data": {
            "text/plain": [
              "0        4.3\n",
              "1        7.1\n",
              "2        4.4\n",
              "3        4.3\n",
              "4        4.6\n",
              "        ... \n",
              "15914    6.2\n",
              "15915    7.4\n",
              "15916    6.2\n",
              "15917    6.2\n",
              "15918    8.7\n",
              "Name: consumption_city, Length: 15919, dtype: object"
            ]
          },
          "metadata": {},
          "execution_count": 118
        }
      ]
    },
    {
      "cell_type": "code",
      "source": [
        ""
      ],
      "metadata": {
        "id": "SAUv_RFiSRd_"
      },
      "execution_count": null,
      "outputs": []
    },
    {
      "cell_type": "code",
      "source": [
        "df['consumption_country']=df['Consumption'].str[0]"
      ],
      "metadata": {
        "id": "23TbOGZLSR9Q"
      },
      "execution_count": 119,
      "outputs": []
    },
    {
      "cell_type": "code",
      "source": [
        "df['consumption_country']"
      ],
      "metadata": {
        "colab": {
          "base_uri": "https://localhost:8080/",
          "height": 0
        },
        "outputId": "5a2a9729-c19d-4aa6-fb1d-199cf9041460",
        "id": "zW2QOr5BSR9R"
      },
      "execution_count": 120,
      "outputs": [
        {
          "output_type": "execute_result",
          "data": {
            "text/plain": [
              "0        [3.8 l/100 km (comb)]\n",
              "1        [5.6 l/100 km (comb)]\n",
              "2        [3.8 l/100 km (comb)]\n",
              "3        [3.8 l/100 km (comb)]\n",
              "4        [4.1 l/100 km (comb)]\n",
              "                 ...          \n",
              "15914    [5.3 l/100 km (comb)]\n",
              "15915                       \\n\n",
              "15916    [5.3 l/100 km (comb)]\n",
              "15917    [5.3 l/100 km (comb)]\n",
              "15918    [6.8 l/100 km (comb)]\n",
              "Name: consumption_country, Length: 15919, dtype: object"
            ]
          },
          "metadata": {},
          "execution_count": 120
        }
      ]
    },
    {
      "cell_type": "code",
      "source": [
        "df['consumption_country']=df['consumption_country'].astype(str).str.extract(\"(\\d\\d|\\d.\\d|\\d)\")\n",
        "df['consumption_country']"
      ],
      "metadata": {
        "colab": {
          "base_uri": "https://localhost:8080/",
          "height": 0
        },
        "outputId": "96aa0605-b026-4dd5-8cf4-6a1011625b0d",
        "id": "tPxLlkocSR9R"
      },
      "execution_count": 121,
      "outputs": [
        {
          "output_type": "execute_result",
          "data": {
            "text/plain": [
              "0        3.8\n",
              "1        5.6\n",
              "2        3.8\n",
              "3        3.8\n",
              "4        4.1\n",
              "        ... \n",
              "15914    5.3\n",
              "15915    NaN\n",
              "15916    5.3\n",
              "15917    5.3\n",
              "15918    6.8\n",
              "Name: consumption_country, Length: 15919, dtype: object"
            ]
          },
          "metadata": {},
          "execution_count": 121
        }
      ]
    },
    {
      "cell_type": "code",
      "source": [
        "df['consumption_country']=df['consumption_country'].astype(float)"
      ],
      "metadata": {
        "id": "chjWNWGfS_C-"
      },
      "execution_count": 126,
      "outputs": []
    },
    {
      "cell_type": "code",
      "source": [
        "df['consumption_country'][0]"
      ],
      "metadata": {
        "colab": {
          "base_uri": "https://localhost:8080/",
          "height": 0
        },
        "id": "qDWQC3PBTQA_",
        "outputId": "53929b80-fa4c-4da0-8985-ed389191778f"
      },
      "execution_count": 127,
      "outputs": [
        {
          "output_type": "execute_result",
          "data": {
            "text/plain": [
              "3.8"
            ]
          },
          "metadata": {},
          "execution_count": 127
        }
      ]
    },
    {
      "cell_type": "code",
      "source": [
        "df['consumption_city']=df['consumption_city'].astype(float)"
      ],
      "metadata": {
        "id": "cX4ZQVHFTaU4"
      },
      "execution_count": 128,
      "outputs": []
    },
    {
      "cell_type": "code",
      "source": [
        "df['consumption_comb']=df['consumption_comb'].astype(float)"
      ],
      "metadata": {
        "id": "rzz393ydTaEm"
      },
      "execution_count": 129,
      "outputs": []
    },
    {
      "cell_type": "markdown",
      "source": [
        "##37.CO2 Emission"
      ],
      "metadata": {
        "id": "DcahDHTKTiv8"
      }
    },
    {
      "cell_type": "code",
      "source": [
        "df['CO2 Emission'].value_counts(dropna=False)"
      ],
      "metadata": {
        "colab": {
          "base_uri": "https://localhost:8080/",
          "height": 448
        },
        "id": "hcWwrmbbTnny",
        "outputId": "7c0cf410-86ff-42a2-e456-aa512731794b"
      },
      "execution_count": 131,
      "outputs": [
        {
          "output_type": "error",
          "ename": "TypeError",
          "evalue": "ignored",
          "traceback": [
            "\u001b[0;31m---------------------------------------------------------------------------\u001b[0m",
            "\u001b[0;31mTypeError\u001b[0m                                 Traceback (most recent call last)",
            "\u001b[0;32mpandas/_libs/hashtable_class_helper.pxi\u001b[0m in \u001b[0;36mpandas._libs.hashtable.PyObjectHashTable.map_locations\u001b[0;34m()\u001b[0m\n",
            "\u001b[0;31mTypeError\u001b[0m: unhashable type: 'list'"
          ]
        },
        {
          "output_type": "stream",
          "name": "stderr",
          "text": [
            "Exception ignored in: 'pandas._libs.index.IndexEngine._call_map_locations'\n",
            "Traceback (most recent call last):\n",
            "  File \"pandas/_libs/hashtable_class_helper.pxi\", line 5231, in pandas._libs.hashtable.PyObjectHashTable.map_locations\n",
            "TypeError: unhashable type: 'list'\n"
          ]
        },
        {
          "output_type": "execute_result",
          "data": {
            "text/plain": [
              "NaN                            1808\n",
              "[\\n120 g CO2/km (comb)\\n]       740\n",
              "[[], [], []]                    628\n",
              "[\\n99 g CO2/km (comb)\\n]        545\n",
              "[\\n97 g CO2/km (comb)\\n]        537\n",
              "                               ... \n",
              "[\\n14 g CO2/km (comb)\\n]          1\n",
              "[\\n1,060 g CO2/km (comb)\\n]       1\n",
              "[\\n51 g CO2/km (comb)\\n]          1\n",
              "[\\n165 g CO2/km (comb)\\n]         1\n",
              "[\\n193 g CO2/km (comb)\\n]         1\n",
              "Name: CO2 Emission, Length: 124, dtype: int64"
            ]
          },
          "metadata": {},
          "execution_count": 131
        }
      ]
    },
    {
      "cell_type": "code",
      "source": [
        "df['CO2 Emission']=df['CO2 Emission'].astype(str).str.extract(\"(\\d\\d\\d|\\d,\\d\\d\\d|\\d\\d|\\d)\")\n",
        "\n",
        "df[\"CO2 Emission\"].value_counts(dropna=False)"
      ],
      "metadata": {
        "colab": {
          "base_uri": "https://localhost:8080/",
          "height": 0
        },
        "id": "LLsRimDrUHum",
        "outputId": "601363f2-75f2-4120-e4d3-26ee9e3154f7"
      },
      "execution_count": 133,
      "outputs": [
        {
          "output_type": "execute_result",
          "data": {
            "text/plain": [
              "0         99\n",
              "1        129\n",
              "2         99\n",
              "3         99\n",
              "4        109\n",
              "        ... \n",
              "15914    139\n",
              "15915    168\n",
              "15916    139\n",
              "15917    139\n",
              "15918    153\n",
              "Name: CO2 Emission, Length: 15919, dtype: object"
            ]
          },
          "metadata": {},
          "execution_count": 133
        }
      ]
    },
    {
      "cell_type": "code",
      "source": [
        "df[\"CO2 Emission\"].value_counts(dropna=False)"
      ],
      "metadata": {
        "colab": {
          "base_uri": "https://localhost:8080/",
          "height": 0
        },
        "id": "W1_7dYjEVCI8",
        "outputId": "d8b52a75-0b70-4431-c380-6cb865277027"
      },
      "execution_count": 142,
      "outputs": [
        {
          "output_type": "execute_result",
          "data": {
            "text/plain": [
              "NaN      2436\n",
              "120       740\n",
              "99        545\n",
              "97        537\n",
              "104       501\n",
              "         ... \n",
              "190         1\n",
              "253         1\n",
              "990         1\n",
              "1,060       1\n",
              "193         1\n",
              "Name: CO2 Emission, Length: 121, dtype: int64"
            ]
          },
          "metadata": {},
          "execution_count": 142
        }
      ]
    },
    {
      "cell_type": "code",
      "source": [
        "df[df[\"CO2 Emission\"] == '1,060' ]"
      ],
      "metadata": {
        "colab": {
          "base_uri": "https://localhost:8080/",
          "height": 301
        },
        "id": "c4os6HsQVdw9",
        "outputId": "9faef433-e812-4494-ce8a-84caf4b046bb"
      },
      "execution_count": 141,
      "outputs": [
        {
          "output_type": "execute_result",
          "data": {
            "text/plain": [
              "                                                    url make_model  \\\n",
              "4089  https://www.autoscout24.com//offers/audi-a3-a3...    Audi A3   \n",
              "\n",
              "                short_description body_type  price             vat         km  \\\n",
              "4089  A3 SPB 1.6 TDI 116 CV Sport    Sedans  19500  VAT deductible  23,644 km   \n",
              "\n",
              "     registration prev_owner  kW     hp                Type Previous Owners  \\\n",
              "4089      02/2018       None NaN  85 kW  [, Used, , Diesel]             NaN   \n",
              "\n",
              "     Next Inspection Inspection new Warranty Full Service Non-smoking Vehicle  \\\n",
              "4089             NaN            NaN      NaN          NaN                 NaN   \n",
              "\n",
              "     null      Make         Model   Offer Number First Registration  \\\n",
              "4089   []  \\nAudi\\n  [\\n, A3, \\n]  [\\n2481069\\n]     [\\n, 2018, \\n]   \n",
              "\n",
              "          Body Color Paint Type Body Color Original          Upholstery  \\\n",
              "4089  [\\n, Blue, \\n]        NaN                 NaN  [\\nOther, Other\\n]   \n",
              "\n",
              "                  Body Nr. of Doors Nr. of Seats Model Code      Gearing Type  \\\n",
              "4089  [\\n, Sedans, \\n]      [\\n5\\n]      [\\n5\\n]        NaN  [\\n, Manual, \\n]   \n",
              "\n",
              "        Displacement Cylinders Weight  Drive chain    Fuel  \\\n",
              "4089  [\\n1,598 cc\\n]       NaN    NaN  [\\nfront\\n]  Diesel   \n",
              "\n",
              "                                            Consumption CO2 Emission  \\\n",
              "4089  [[40 l/100 km (comb)], [45 l/100 km (city)], [...        1,060   \n",
              "\n",
              "     Emission Class \\nComfort & Convenience\\n       \\nEntertainment & Media\\n  \\\n",
              "4089            NaN                       NaN  [Bluetooth, On-board computer]   \n",
              "\n",
              "     \\nExtras\\n                              \\nSafety & Security\\n  \\\n",
              "4089        NaN  [ABS, Central door lock, Power steering, Tract...   \n",
              "\n",
              "                                            description        Emission Label  \\\n",
              "4089  [\\nAudi A3 Sportback 1.6 TDI SPORT Climatizzat...  [\\n1 (No sticker)\\n]   \n",
              "\n",
              "     Gears Country version Electricity consumption Last Service Date  \\\n",
              "4089   NaN             NaN                     NaN               NaN   \n",
              "\n",
              "     Other Fuel Types Availability Last Timing Belt Service Date  \\\n",
              "4089              NaN          NaN                           NaN   \n",
              "\n",
              "     Available from  consumption_comb  consumption_city  consumption_country  \n",
              "4089            NaN              40.0              45.0                 40.0  "
            ],
            "text/html": [
              "\n",
              "  <div id=\"df-404e551c-c936-48db-bb53-2a157d4989fa\">\n",
              "    <div class=\"colab-df-container\">\n",
              "      <div>\n",
              "<style scoped>\n",
              "    .dataframe tbody tr th:only-of-type {\n",
              "        vertical-align: middle;\n",
              "    }\n",
              "\n",
              "    .dataframe tbody tr th {\n",
              "        vertical-align: top;\n",
              "    }\n",
              "\n",
              "    .dataframe thead th {\n",
              "        text-align: right;\n",
              "    }\n",
              "</style>\n",
              "<table border=\"1\" class=\"dataframe\">\n",
              "  <thead>\n",
              "    <tr style=\"text-align: right;\">\n",
              "      <th></th>\n",
              "      <th>url</th>\n",
              "      <th>make_model</th>\n",
              "      <th>short_description</th>\n",
              "      <th>body_type</th>\n",
              "      <th>price</th>\n",
              "      <th>vat</th>\n",
              "      <th>km</th>\n",
              "      <th>registration</th>\n",
              "      <th>prev_owner</th>\n",
              "      <th>kW</th>\n",
              "      <th>hp</th>\n",
              "      <th>Type</th>\n",
              "      <th>Previous Owners</th>\n",
              "      <th>Next Inspection</th>\n",
              "      <th>Inspection new</th>\n",
              "      <th>Warranty</th>\n",
              "      <th>Full Service</th>\n",
              "      <th>Non-smoking Vehicle</th>\n",
              "      <th>null</th>\n",
              "      <th>Make</th>\n",
              "      <th>Model</th>\n",
              "      <th>Offer Number</th>\n",
              "      <th>First Registration</th>\n",
              "      <th>Body Color</th>\n",
              "      <th>Paint Type</th>\n",
              "      <th>Body Color Original</th>\n",
              "      <th>Upholstery</th>\n",
              "      <th>Body</th>\n",
              "      <th>Nr. of Doors</th>\n",
              "      <th>Nr. of Seats</th>\n",
              "      <th>Model Code</th>\n",
              "      <th>Gearing Type</th>\n",
              "      <th>Displacement</th>\n",
              "      <th>Cylinders</th>\n",
              "      <th>Weight</th>\n",
              "      <th>Drive chain</th>\n",
              "      <th>Fuel</th>\n",
              "      <th>Consumption</th>\n",
              "      <th>CO2 Emission</th>\n",
              "      <th>Emission Class</th>\n",
              "      <th>\\nComfort &amp; Convenience\\n</th>\n",
              "      <th>\\nEntertainment &amp; Media\\n</th>\n",
              "      <th>\\nExtras\\n</th>\n",
              "      <th>\\nSafety &amp; Security\\n</th>\n",
              "      <th>description</th>\n",
              "      <th>Emission Label</th>\n",
              "      <th>Gears</th>\n",
              "      <th>Country version</th>\n",
              "      <th>Electricity consumption</th>\n",
              "      <th>Last Service Date</th>\n",
              "      <th>Other Fuel Types</th>\n",
              "      <th>Availability</th>\n",
              "      <th>Last Timing Belt Service Date</th>\n",
              "      <th>Available from</th>\n",
              "      <th>consumption_comb</th>\n",
              "      <th>consumption_city</th>\n",
              "      <th>consumption_country</th>\n",
              "    </tr>\n",
              "  </thead>\n",
              "  <tbody>\n",
              "    <tr>\n",
              "      <th>4089</th>\n",
              "      <td>https://www.autoscout24.com//offers/audi-a3-a3...</td>\n",
              "      <td>Audi A3</td>\n",
              "      <td>A3 SPB 1.6 TDI 116 CV Sport</td>\n",
              "      <td>Sedans</td>\n",
              "      <td>19500</td>\n",
              "      <td>VAT deductible</td>\n",
              "      <td>23,644 km</td>\n",
              "      <td>02/2018</td>\n",
              "      <td>None</td>\n",
              "      <td>NaN</td>\n",
              "      <td>85 kW</td>\n",
              "      <td>[, Used, , Diesel]</td>\n",
              "      <td>NaN</td>\n",
              "      <td>NaN</td>\n",
              "      <td>NaN</td>\n",
              "      <td>NaN</td>\n",
              "      <td>NaN</td>\n",
              "      <td>NaN</td>\n",
              "      <td>[]</td>\n",
              "      <td>\\nAudi\\n</td>\n",
              "      <td>[\\n, A3, \\n]</td>\n",
              "      <td>[\\n2481069\\n]</td>\n",
              "      <td>[\\n, 2018, \\n]</td>\n",
              "      <td>[\\n, Blue, \\n]</td>\n",
              "      <td>NaN</td>\n",
              "      <td>NaN</td>\n",
              "      <td>[\\nOther, Other\\n]</td>\n",
              "      <td>[\\n, Sedans, \\n]</td>\n",
              "      <td>[\\n5\\n]</td>\n",
              "      <td>[\\n5\\n]</td>\n",
              "      <td>NaN</td>\n",
              "      <td>[\\n, Manual, \\n]</td>\n",
              "      <td>[\\n1,598 cc\\n]</td>\n",
              "      <td>NaN</td>\n",
              "      <td>NaN</td>\n",
              "      <td>[\\nfront\\n]</td>\n",
              "      <td>Diesel</td>\n",
              "      <td>[[40 l/100 km (comb)], [45 l/100 km (city)], [...</td>\n",
              "      <td>1,060</td>\n",
              "      <td>NaN</td>\n",
              "      <td>NaN</td>\n",
              "      <td>[Bluetooth, On-board computer]</td>\n",
              "      <td>NaN</td>\n",
              "      <td>[ABS, Central door lock, Power steering, Tract...</td>\n",
              "      <td>[\\nAudi A3 Sportback 1.6 TDI SPORT Climatizzat...</td>\n",
              "      <td>[\\n1 (No sticker)\\n]</td>\n",
              "      <td>NaN</td>\n",
              "      <td>NaN</td>\n",
              "      <td>NaN</td>\n",
              "      <td>NaN</td>\n",
              "      <td>NaN</td>\n",
              "      <td>NaN</td>\n",
              "      <td>NaN</td>\n",
              "      <td>NaN</td>\n",
              "      <td>40.0</td>\n",
              "      <td>45.0</td>\n",
              "      <td>40.0</td>\n",
              "    </tr>\n",
              "  </tbody>\n",
              "</table>\n",
              "</div>\n",
              "      <button class=\"colab-df-convert\" onclick=\"convertToInteractive('df-404e551c-c936-48db-bb53-2a157d4989fa')\"\n",
              "              title=\"Convert this dataframe to an interactive table.\"\n",
              "              style=\"display:none;\">\n",
              "        \n",
              "  <svg xmlns=\"http://www.w3.org/2000/svg\" height=\"24px\"viewBox=\"0 0 24 24\"\n",
              "       width=\"24px\">\n",
              "    <path d=\"M0 0h24v24H0V0z\" fill=\"none\"/>\n",
              "    <path d=\"M18.56 5.44l.94 2.06.94-2.06 2.06-.94-2.06-.94-.94-2.06-.94 2.06-2.06.94zm-11 1L8.5 8.5l.94-2.06 2.06-.94-2.06-.94L8.5 2.5l-.94 2.06-2.06.94zm10 10l.94 2.06.94-2.06 2.06-.94-2.06-.94-.94-2.06-.94 2.06-2.06.94z\"/><path d=\"M17.41 7.96l-1.37-1.37c-.4-.4-.92-.59-1.43-.59-.52 0-1.04.2-1.43.59L10.3 9.45l-7.72 7.72c-.78.78-.78 2.05 0 2.83L4 21.41c.39.39.9.59 1.41.59.51 0 1.02-.2 1.41-.59l7.78-7.78 2.81-2.81c.8-.78.8-2.07 0-2.86zM5.41 20L4 18.59l7.72-7.72 1.47 1.35L5.41 20z\"/>\n",
              "  </svg>\n",
              "      </button>\n",
              "      \n",
              "  <style>\n",
              "    .colab-df-container {\n",
              "      display:flex;\n",
              "      flex-wrap:wrap;\n",
              "      gap: 12px;\n",
              "    }\n",
              "\n",
              "    .colab-df-convert {\n",
              "      background-color: #E8F0FE;\n",
              "      border: none;\n",
              "      border-radius: 50%;\n",
              "      cursor: pointer;\n",
              "      display: none;\n",
              "      fill: #1967D2;\n",
              "      height: 32px;\n",
              "      padding: 0 0 0 0;\n",
              "      width: 32px;\n",
              "    }\n",
              "\n",
              "    .colab-df-convert:hover {\n",
              "      background-color: #E2EBFA;\n",
              "      box-shadow: 0px 1px 2px rgba(60, 64, 67, 0.3), 0px 1px 3px 1px rgba(60, 64, 67, 0.15);\n",
              "      fill: #174EA6;\n",
              "    }\n",
              "\n",
              "    [theme=dark] .colab-df-convert {\n",
              "      background-color: #3B4455;\n",
              "      fill: #D2E3FC;\n",
              "    }\n",
              "\n",
              "    [theme=dark] .colab-df-convert:hover {\n",
              "      background-color: #434B5C;\n",
              "      box-shadow: 0px 1px 3px 1px rgba(0, 0, 0, 0.15);\n",
              "      filter: drop-shadow(0px 1px 2px rgba(0, 0, 0, 0.3));\n",
              "      fill: #FFFFFF;\n",
              "    }\n",
              "  </style>\n",
              "\n",
              "      <script>\n",
              "        const buttonEl =\n",
              "          document.querySelector('#df-404e551c-c936-48db-bb53-2a157d4989fa button.colab-df-convert');\n",
              "        buttonEl.style.display =\n",
              "          google.colab.kernel.accessAllowed ? 'block' : 'none';\n",
              "\n",
              "        async function convertToInteractive(key) {\n",
              "          const element = document.querySelector('#df-404e551c-c936-48db-bb53-2a157d4989fa');\n",
              "          const dataTable =\n",
              "            await google.colab.kernel.invokeFunction('convertToInteractive',\n",
              "                                                     [key], {});\n",
              "          if (!dataTable) return;\n",
              "\n",
              "          const docLinkHtml = 'Like what you see? Visit the ' +\n",
              "            '<a target=\"_blank\" href=https://colab.research.google.com/notebooks/data_table.ipynb>data table notebook</a>'\n",
              "            + ' to learn more about interactive tables.';\n",
              "          element.innerHTML = '';\n",
              "          dataTable['output_type'] = 'display_data';\n",
              "          await google.colab.output.renderOutput(dataTable, element);\n",
              "          const docLink = document.createElement('div');\n",
              "          docLink.innerHTML = docLinkHtml;\n",
              "          element.appendChild(docLink);\n",
              "        }\n",
              "      </script>\n",
              "    </div>\n",
              "  </div>\n",
              "  "
            ]
          },
          "metadata": {},
          "execution_count": 141
        }
      ]
    },
    {
      "cell_type": "code",
      "source": [
        "df[\"CO2_emission\"]=df[\"CO2 Emission\"].replace(',','.')"
      ],
      "metadata": {
        "id": "1KTz6mzLWZtN"
      },
      "execution_count": 143,
      "outputs": []
    },
    {
      "cell_type": "markdown",
      "source": [
        "##38.Emission Class"
      ],
      "metadata": {
        "id": "OcXJGgA5WoWj"
      }
    },
    {
      "cell_type": "code",
      "source": [
        "df[\"Emission Class\"].value_counts(dropna=False)"
      ],
      "metadata": {
        "colab": {
          "base_uri": "https://localhost:8080/",
          "height": 393
        },
        "id": "RT7myucAYM5Z",
        "outputId": "7b8f86c1-edb7-4a24-cd0f-e2af9ac28eb8"
      },
      "execution_count": 144,
      "outputs": [
        {
          "output_type": "error",
          "ename": "TypeError",
          "evalue": "ignored",
          "traceback": [
            "\u001b[0;31m---------------------------------------------------------------------------\u001b[0m",
            "\u001b[0;31mTypeError\u001b[0m                                 Traceback (most recent call last)",
            "\u001b[0;32mpandas/_libs/hashtable_class_helper.pxi\u001b[0m in \u001b[0;36mpandas._libs.hashtable.PyObjectHashTable.map_locations\u001b[0;34m()\u001b[0m\n",
            "\u001b[0;31mTypeError\u001b[0m: unhashable type: 'list'"
          ]
        },
        {
          "output_type": "stream",
          "name": "stderr",
          "text": [
            "Exception ignored in: 'pandas._libs.index.IndexEngine._call_map_locations'\n",
            "Traceback (most recent call last):\n",
            "  File \"pandas/_libs/hashtable_class_helper.pxi\", line 5231, in pandas._libs.hashtable.PyObjectHashTable.map_locations\n",
            "TypeError: unhashable type: 'list'\n"
          ]
        },
        {
          "output_type": "execute_result",
          "data": {
            "text/plain": [
              "[\\nEuro 6\\n]          10139\n",
              "NaN                    3021\n",
              "[\\nEuro 6d-TEMP\\n]     1845\n",
              "[[], [], []]            607\n",
              "[\\nEuro 6c\\n]           127\n",
              "[\\nEuro 5\\n]             78\n",
              "[\\nEuro 6d\\n]            62\n",
              "[\\nEuro 4\\n]             40\n",
              "Name: Emission Class, dtype: int64"
            ]
          },
          "metadata": {},
          "execution_count": 144
        }
      ]
    },
    {
      "cell_type": "code",
      "source": [
        ""
      ],
      "metadata": {
        "id": "L8xKKSwGYY4V"
      },
      "execution_count": null,
      "outputs": []
    },
    {
      "cell_type": "code",
      "source": [
        "df[\"Emission Class\"]=[item[0] if type (item)==list else item for item in df [\"Emission Class\"]]"
      ],
      "metadata": {
        "id": "nd2pIyd4ZL4r"
      },
      "execution_count": 145,
      "outputs": []
    },
    {
      "cell_type": "code",
      "source": [
        "df['Emission Class']=df['Emission Class'].str.lstrip(\"\\n\").str.rstrip(\"\\n\")\n",
        "df['Emission Class']"
      ],
      "metadata": {
        "colab": {
          "base_uri": "https://localhost:8080/",
          "height": 0
        },
        "outputId": "0c25cea5-7f50-4316-b2b9-011c2b0b19dc",
        "id": "ad1ptDpXZL4s"
      },
      "execution_count": 147,
      "outputs": [
        {
          "output_type": "execute_result",
          "data": {
            "text/plain": [
              "0              Euro 6\n",
              "1              Euro 6\n",
              "2              Euro 6\n",
              "3              Euro 6\n",
              "4              Euro 6\n",
              "             ...     \n",
              "15914             NaN\n",
              "15915             NaN\n",
              "15916    Euro 6d-TEMP\n",
              "15917          Euro 6\n",
              "15918          Euro 6\n",
              "Name: Emission Class, Length: 15919, dtype: object"
            ]
          },
          "metadata": {},
          "execution_count": 147
        }
      ]
    },
    {
      "cell_type": "code",
      "source": [
        "df['Emission Class'].value_counts(dropna=False)"
      ],
      "metadata": {
        "colab": {
          "base_uri": "https://localhost:8080/",
          "height": 0
        },
        "outputId": "d8a8c495-6908-4e15-8230-5f1d327e0616",
        "id": "2kAJVNAjZL4t"
      },
      "execution_count": 148,
      "outputs": [
        {
          "output_type": "execute_result",
          "data": {
            "text/plain": [
              "Euro 6          10139\n",
              "NaN              3628\n",
              "Euro 6d-TEMP     1845\n",
              "Euro 6c           127\n",
              "Euro 5             78\n",
              "Euro 6d            62\n",
              "Euro 4             40\n",
              "Name: Emission Class, dtype: int64"
            ]
          },
          "metadata": {},
          "execution_count": 148
        }
      ]
    },
    {
      "cell_type": "code",
      "source": [
        "df['emission_class']=df['Emission Class']"
      ],
      "metadata": {
        "id": "uupELh-IZ3Uc"
      },
      "execution_count": 149,
      "outputs": []
    },
    {
      "cell_type": "markdown",
      "source": [
        "##39.\\nComfort & Convenience\\n"
      ],
      "metadata": {
        "id": "dyQwB6RUZqei"
      }
    },
    {
      "cell_type": "code",
      "source": [
        "df['\\nComfort & Convenience\\n'].value_counts(dropna=False) ## make dummy"
      ],
      "metadata": {
        "colab": {
          "base_uri": "https://localhost:8080/",
          "height": 468
        },
        "id": "BUqqIz3BYYlo",
        "outputId": "02e3f6ad-8fe7-4c49-f4d0-41c65f58e59a"
      },
      "execution_count": 150,
      "outputs": [
        {
          "output_type": "error",
          "ename": "TypeError",
          "evalue": "ignored",
          "traceback": [
            "\u001b[0;31m---------------------------------------------------------------------------\u001b[0m",
            "\u001b[0;31mTypeError\u001b[0m                                 Traceback (most recent call last)",
            "\u001b[0;32mpandas/_libs/hashtable_class_helper.pxi\u001b[0m in \u001b[0;36mpandas._libs.hashtable.PyObjectHashTable.map_locations\u001b[0;34m()\u001b[0m\n",
            "\u001b[0;31mTypeError\u001b[0m: unhashable type: 'list'"
          ]
        },
        {
          "output_type": "stream",
          "name": "stderr",
          "text": [
            "Exception ignored in: 'pandas._libs.index.IndexEngine._call_map_locations'\n",
            "Traceback (most recent call last):\n",
            "  File \"pandas/_libs/hashtable_class_helper.pxi\", line 5231, in pandas._libs.hashtable.PyObjectHashTable.map_locations\n",
            "TypeError: unhashable type: 'list'\n"
          ]
        },
        {
          "output_type": "execute_result",
          "data": {
            "text/plain": [
              "NaN                                                                                                                                                                                                                                                                                                                                                                                                                                                                                                                          920\n",
              "[Air conditioning, Electrical side mirrors, Hill Holder, Power windows]                                                                                                                                                                                                                                                                                                                                                                                                                                                      216\n",
              "[Air conditioning, Electrical side mirrors, Power windows]                                                                                                                                                                                                                                                                                                                                                                                                                                                                   134\n",
              "[Air conditioning, Power windows]                                                                                                                                                                                                                                                                                                                                                                                                                                                                                            130\n",
              "[Air conditioning, Armrest, Automatic climate control, Cruise control, Electrical side mirrors, Leather steering wheel, Light sensor, Lumbar support, Multi-function steering wheel, Navigation system, Park Distance Control, Parking assist system sensors front, Parking assist system sensors rear, Power windows, Rain sensor, Seat heating, Start-stop system]                                                                                                                                                         105\n",
              "                                                                                                                                                                                                                                                                                                                                                                                                                                                                                                                            ... \n",
              "[Air conditioning, Cruise control, Electrical side mirrors, Hill Holder, Leather steering wheel, Light sensor, Multi-function steering wheel, Navigation system, Park Distance Control, Parking assist system sensors rear, Power windows, Rain sensor, Split rear seats, Start-stop system, Tinted windows]                                                                                                                                                                                                                   1\n",
              "[Air conditioning, Armrest, Automatic climate control, Cruise control, Electrical side mirrors, Heated steering wheel, Hill Holder, Leather steering wheel, Light sensor, Lumbar support, Multi-function steering wheel, Navigation system, Park Distance Control, Parking assist system camera, Parking assist system sensors front, Parking assist system sensors rear, Power windows, Rain sensor, Seat heating, Sunroof]                                                                                                   1\n",
              "[Air conditioning, Armrest, Cruise control, Electrical side mirrors, Heated steering wheel, Hill Holder, Leather steering wheel, Light sensor, Multi-function steering wheel, Park Distance Control, Parking assist system camera, Parking assist system sensors front, Parking assist system sensors rear, Power windows, Rain sensor, Seat heating, Split rear seats, Start-stop system, Tinted windows]                                                                                                                     1\n",
              "[Air conditioning, Automatic climate control, Cruise control, Electrical side mirrors, Leather steering wheel, Light sensor, Multi-function steering wheel, Park Distance Control, Parking assist system sensors front, Parking assist system sensors rear, Power windows, Rain sensor, Seat heating]                                                                                                                                                                                                                          1\n",
              "[Air conditioning, Automatic climate control, Cruise control, Electrically heated windshield, Electrical side mirrors, Electric tailgate, Heads-up display, Heated steering wheel, Hill Holder, Keyless central door lock, Leather steering wheel, Light sensor, Lumbar support, Navigation system, Park Distance Control, Parking assist system camera, Parking assist system self-steering, Parking assist system sensors front, Parking assist system sensors rear, Power windows, Rain sensor, Seat heating, Sunroof]      1\n",
              "Name: \\nComfort & Convenience\\n, Length: 6199, dtype: int64"
            ]
          },
          "metadata": {},
          "execution_count": 150
        }
      ]
    },
    {
      "cell_type": "markdown",
      "source": [
        "##40.\\nEntertainment & Media\\n"
      ],
      "metadata": {
        "id": "-IyYh_ctbwAl"
      }
    },
    {
      "cell_type": "code",
      "source": [
        "df['\\nEntertainment & Media\\n'].value_counts(dropna=False) ### dummy"
      ],
      "metadata": {
        "colab": {
          "base_uri": "https://localhost:8080/",
          "height": 448
        },
        "id": "6DPJvVIlbV5D",
        "outputId": "70c08d55-eb6b-4526-e728-c5c0c3c87567"
      },
      "execution_count": 151,
      "outputs": [
        {
          "output_type": "error",
          "ename": "TypeError",
          "evalue": "ignored",
          "traceback": [
            "\u001b[0;31m---------------------------------------------------------------------------\u001b[0m",
            "\u001b[0;31mTypeError\u001b[0m                                 Traceback (most recent call last)",
            "\u001b[0;32mpandas/_libs/hashtable_class_helper.pxi\u001b[0m in \u001b[0;36mpandas._libs.hashtable.PyObjectHashTable.map_locations\u001b[0;34m()\u001b[0m\n",
            "\u001b[0;31mTypeError\u001b[0m: unhashable type: 'list'"
          ]
        },
        {
          "output_type": "stream",
          "name": "stderr",
          "text": [
            "Exception ignored in: 'pandas._libs.index.IndexEngine._call_map_locations'\n",
            "Traceback (most recent call last):\n",
            "  File \"pandas/_libs/hashtable_class_helper.pxi\", line 5231, in pandas._libs.hashtable.PyObjectHashTable.map_locations\n",
            "TypeError: unhashable type: 'list'\n"
          ]
        },
        {
          "output_type": "execute_result",
          "data": {
            "text/plain": [
              "NaN                                                                                                           1374\n",
              "[Bluetooth, Hands-free equipment, On-board computer, Radio, USB]                                              1282\n",
              "[Bluetooth, Hands-free equipment, MP3, On-board computer, Radio, USB]                                          982\n",
              "[Bluetooth, CD player, Hands-free equipment, MP3, On-board computer, Radio, USB]                               783\n",
              "[On-board computer, Radio]                                                                                     487\n",
              "                                                                                                              ... \n",
              "[Bluetooth, CD player, Digital radio, Hands-free equipment, Radio]                                               1\n",
              "[CD player, Hands-free equipment, MP3, Radio, USB]                                                               1\n",
              "[MP3, Radio, Sound system, USB]                                                                                  1\n",
              "[Bluetooth, MP3, On-board computer, Radio, Television, USB]                                                      1\n",
              "[Bluetooth, CD player, Hands-free equipment, MP3, On-board computer, Radio, Sound system, Television, USB]       1\n",
              "Name: \\nEntertainment & Media\\n, Length: 347, dtype: int64"
            ]
          },
          "metadata": {},
          "execution_count": 151
        }
      ]
    },
    {
      "cell_type": "markdown",
      "source": [
        "##41.\\nExtras\\n"
      ],
      "metadata": {
        "id": "rWRrlnj7cI__"
      }
    },
    {
      "cell_type": "code",
      "source": [
        "df['\\nExtras\\n'].value_counts(dropna=False) ### dummy"
      ],
      "metadata": {
        "colab": {
          "base_uri": "https://localhost:8080/",
          "height": 448
        },
        "id": "ZyWeTDTbbVte",
        "outputId": "c8241a63-f77a-4763-830d-d7ef2bc99459"
      },
      "execution_count": 152,
      "outputs": [
        {
          "output_type": "error",
          "ename": "TypeError",
          "evalue": "ignored",
          "traceback": [
            "\u001b[0;31m---------------------------------------------------------------------------\u001b[0m",
            "\u001b[0;31mTypeError\u001b[0m                                 Traceback (most recent call last)",
            "\u001b[0;32mpandas/_libs/hashtable_class_helper.pxi\u001b[0m in \u001b[0;36mpandas._libs.hashtable.PyObjectHashTable.map_locations\u001b[0;34m()\u001b[0m\n",
            "\u001b[0;31mTypeError\u001b[0m: unhashable type: 'list'"
          ]
        },
        {
          "output_type": "stream",
          "name": "stderr",
          "text": [
            "Exception ignored in: 'pandas._libs.index.IndexEngine._call_map_locations'\n",
            "Traceback (most recent call last):\n",
            "  File \"pandas/_libs/hashtable_class_helper.pxi\", line 5231, in pandas._libs.hashtable.PyObjectHashTable.map_locations\n",
            "TypeError: unhashable type: 'list'\n"
          ]
        },
        {
          "output_type": "execute_result",
          "data": {
            "text/plain": [
              "[Alloy wheels]                                                                                                     3245\n",
              "NaN                                                                                                                2962\n",
              "[Alloy wheels, Touch screen]                                                                                        697\n",
              "[Alloy wheels, Voice Control]                                                                                       577\n",
              "[Alloy wheels, Touch screen, Voice Control]                                                                         541\n",
              "                                                                                                                   ... \n",
              "[Alloy wheels, Catalytic Converter, Shift paddles, Sport package, Sport seats, Sport suspension, Voice Control]       1\n",
              "[Alloy wheels, Catalytic Converter, Roof rack, Sport package, Sport seats, Trailer hitch]                             1\n",
              "[Alloy wheels, Catalytic Converter, Ski bag, Sport package, Voice Control]                                            1\n",
              "[Catalytic Converter, Roof rack, Sport seats, Sport suspension]                                                       1\n",
              "[Alloy wheels, Shift paddles, Ski bag, Sport seats, Sport suspension, Touch screen, Voice Control]                    1\n",
              "Name: \\nExtras\\n, Length: 660, dtype: int64"
            ]
          },
          "metadata": {},
          "execution_count": 152
        }
      ]
    },
    {
      "cell_type": "code",
      "source": [
        ""
      ],
      "metadata": {
        "id": "dvO5SWkMcSW6"
      },
      "execution_count": null,
      "outputs": []
    },
    {
      "cell_type": "markdown",
      "source": [
        "##42.\\nSafety & Security\\n"
      ],
      "metadata": {
        "id": "zLARfSrucR8t"
      }
    },
    {
      "cell_type": "code",
      "source": [
        "df['\\nSafety & Security\\n'].value_counts(dropna=False) "
      ],
      "metadata": {
        "colab": {
          "base_uri": "https://localhost:8080/",
          "height": 468
        },
        "id": "Hmz6Fd_BcTEz",
        "outputId": "1387d684-58e7-4ba5-acb3-f19924ce8f2a"
      },
      "execution_count": 153,
      "outputs": [
        {
          "output_type": "error",
          "ename": "TypeError",
          "evalue": "ignored",
          "traceback": [
            "\u001b[0;31m---------------------------------------------------------------------------\u001b[0m",
            "\u001b[0;31mTypeError\u001b[0m                                 Traceback (most recent call last)",
            "\u001b[0;32mpandas/_libs/hashtable_class_helper.pxi\u001b[0m in \u001b[0;36mpandas._libs.hashtable.PyObjectHashTable.map_locations\u001b[0;34m()\u001b[0m\n",
            "\u001b[0;31mTypeError\u001b[0m: unhashable type: 'list'"
          ]
        },
        {
          "output_type": "stream",
          "name": "stderr",
          "text": [
            "Exception ignored in: 'pandas._libs.index.IndexEngine._call_map_locations'\n",
            "Traceback (most recent call last):\n",
            "  File \"pandas/_libs/hashtable_class_helper.pxi\", line 5231, in pandas._libs.hashtable.PyObjectHashTable.map_locations\n",
            "TypeError: unhashable type: 'list'\n"
          ]
        },
        {
          "output_type": "execute_result",
          "data": {
            "text/plain": [
              "NaN                                                                                                                                                                                                                                                                                                                                                                                  982\n",
              "[ABS, Central door lock, Daytime running lights, Driver-side airbag, Electronic stability control, Fog lights, Immobilizer, Isofix, Passenger-side airbag, Power steering, Side airbag, Tire pressure monitoring system, Traction control]                                                                                                                                           538\n",
              "[ABS, Central door lock, Daytime running lights, Driver-side airbag, Electronic stability control, Immobilizer, Isofix, Passenger-side airbag, Power steering, Side airbag, Tire pressure monitoring system, Traction control]                                                                                                                                                       480\n",
              "[ABS, Central door lock, Daytime running lights, Driver-side airbag, Electronic stability control, Immobilizer, Isofix, Passenger-side airbag, Power steering, Side airbag, Tire pressure monitoring system, Traction control, Xenon headlights]                                                                                                                                     275\n",
              "[ABS, Central door lock, Daytime running lights, Driver-side airbag, Electronic stability control, Fog lights, Immobilizer, Isofix, LED Daytime Running Lights, Passenger-side airbag, Power steering, Side airbag, Tire pressure monitoring system, Traction control]                                                                                                               272\n",
              "                                                                                                                                                                                                                                                                                                                                                                                    ... \n",
              "[ABS, Central door lock, Electronic stability control, Immobilizer, Isofix, Passenger-side airbag, Power steering, Side airbag]                                                                                                                                                                                                                                                        1\n",
              "[ABS, Adaptive Cruise Control, Central door lock, Daytime running lights, Driver-side airbag, Electronic stability control, Emergency brake assistant, Immobilizer, Isofix, Passenger-side airbag, Power steering, Side airbag, Tire pressure monitoring system, Traction control]                                                                                                     1\n",
              "[ABS, Adaptive Cruise Control, Alarm system, Central door lock, Driver-side airbag, Electronic stability control, Fog lights, Immobilizer, Isofix, Lane departure warning system, LED Daytime Running Lights, Passenger-side airbag, Power steering, Side airbag, Tire pressure monitoring system, Traction control, Xenon headlights]                                                 1\n",
              "[ABS, Adaptive Cruise Control, Central door lock, Daytime running lights, Driver-side airbag, Electronic stability control, Fog lights, Immobilizer, Isofix, Power steering, Tire pressure monitoring system, Traction control]                                                                                                                                                        1\n",
              "[ABS, Adaptive Cruise Control, Central door lock, Daytime running lights, Driver-side airbag, Electronic stability control, Emergency brake assistant, Fog lights, Immobilizer, Isofix, Lane departure warning system, LED Daytime Running Lights, LED Headlights, Passenger-side airbag, Power steering, Side airbag, Tire pressure monitoring system, Traffic sign recognition]      1\n",
              "Name: \\nSafety & Security\\n, Length: 4444, dtype: int64"
            ]
          },
          "metadata": {},
          "execution_count": 153
        }
      ]
    },
    {
      "cell_type": "markdown",
      "source": [
        "##42.description"
      ],
      "metadata": {
        "id": "xppR2QWQcpQp"
      }
    },
    {
      "cell_type": "code",
      "source": [
        "df['description'].value_counts(dropna=False) "
      ],
      "metadata": {
        "colab": {
          "base_uri": "https://localhost:8080/",
          "height": 468
        },
        "id": "5wvOmDScccUa",
        "outputId": "d4fa890c-5c01-4eaa-b492-14091fac74a2"
      },
      "execution_count": 154,
      "outputs": [
        {
          "output_type": "error",
          "ename": "TypeError",
          "evalue": "ignored",
          "traceback": [
            "\u001b[0;31m---------------------------------------------------------------------------\u001b[0m",
            "\u001b[0;31mTypeError\u001b[0m                                 Traceback (most recent call last)",
            "\u001b[0;32mpandas/_libs/hashtable_class_helper.pxi\u001b[0m in \u001b[0;36mpandas._libs.hashtable.PyObjectHashTable.map_locations\u001b[0;34m()\u001b[0m\n",
            "\u001b[0;31mTypeError\u001b[0m: unhashable type: 'list'"
          ]
        },
        {
          "output_type": "stream",
          "name": "stderr",
          "text": [
            "Exception ignored in: 'pandas._libs.index.IndexEngine._call_map_locations'\n",
            "Traceback (most recent call last):\n",
            "  File \"pandas/_libs/hashtable_class_helper.pxi\", line 5231, in pandas._libs.hashtable.PyObjectHashTable.map_locations\n",
            "TypeError: unhashable type: 'list'\n"
          ]
        },
        {
          "output_type": "execute_result",
          "data": {
            "text/plain": [
              "[]                                                                                                                                                                                                                                                                                                                                                                                                                                                                                                                                                                                                                                                                                                                                                                                                                                                                                                                                                                                                                                                                                                                                                                                                                                                                                                                                                                                                                                                                                                                                                                                                                                                                                                                                                                                                                                                                                                                                                                                                                                                                                                                                                                                                                                                                                                                                                                                                                                                                                                                                                                                                                                                                                        636\n",
              "[\\n, \\n]                                                                                                                                                                                                                                                                                                                                                                                                                                                                                                                                                                                                                                                                                                                                                                                                                                                                                                                                                                                                                                                                                                                                                                                                                                                                                                                                                                                                                                                                                                                                                                                                                                                                                                                                                                                                                                                                                                                                                                                                                                                                                                                                                                                                                                                                                                                                                                                                                                                                                                                                                                                                                                                                                   30\n",
              "[\\n, Fahrzeugbeschreibung,  Sichern Sie sich diesen Renault Clio 1.6 TCE Energy Sport Trophy zum Top-Preis inklusive dem , AUTOHERO-RUNDUM-SORGLOS-PAKET,  , Infos:,  1.Hand, deutsche Auslieferung, Unfallfrei, scheckheftgepflegt,  , Highlights,  , Audio-Navigationssystem R-Link Evolution mit Touchscreen und Carminat TomTom,  , Sportsitze ,  , Sportfahrwerk,  , Scheinwerfer Full-LED , Komfort,  , Geschwindigkeits-Regelanlage (Tempomat) ,  , Klimaanlage,  , Einparkhilfe hinten,  , Multifunktionslenkrad (Sport/Leder) mit Schaltwippen/-tasten ,  , Fensterheber elektr. mit Impulsgeber links/rechts vorn,  , Zentralverriegelung / Startanlage Handsfree Entry & Drive ,  , Berganfahr-Assistent (HSA) , Multimedia,  , Audiosystem: Radio R & GO (Bluetooth, DAB-Tuner),  , Bordcomputer,  , Freisprecheinrichtung Bluetooth ,  , USB-Anschluss inkl. AUX-IN-Anschluss (Plug & Music) , Licht und Sicht,  , Außenspiegel elektr. verstell- und heizbar ,  , Licht- und Regensensor ,  , Tagfahrlicht LED ,  , Nebelscheinwerfer LED ,  , Coming-Home-Lichtfunktion ,  , Heckleuchten LED , Sicherheit,  , Isofix-Aufnahmen für Kindersitz ,  , Seitenairbag vorn,  , Wegfahrsperre,  , Differentialsperre,  , Bremsassistent ,  , Elektron. Stabilitäts-Programm (ESP),  , Anti-Blockier-System (ABS),  , Anti-Submarining-Airbag im Fond,  , Airbag Fahrer-/Beifahrerseite ,  , Differentialsperre ,  , Reifendruck-Kontrollsystem ,  , Untersteuerungskontrolle (USC) ,  , Antischlupfregelung (ASR) , Weiteres,  , Start/Stop-Anlage ,  , Servolenkung geschwindigkeitsabhängig,  , R.S. Drive (Fahrmodusschalter) ,  , Gepäckraumabdeckung / Rollo ,  , Heckdiffusor ,  , LM-Felgen ,  , Heckspoiler (Renault Sport) ,  , Pedale Aluminium ,  , Energierückgewinnung (Energy Smart Management) , ...]                                                                                                                                                                                                                                                                                                                                                                                                                                                                                                                                                                                                                                                                                                                                                                                                                                                              27\n",
              "[\\nPosibilidad de prueba del vehículo hasta 5 días. Consultar condiciones. PVP para particulares. Varias unidades y colores disponibles. Precios publicados para vehículos industriales (furgonetas) válidos para compradores autónomos o empresas, consultar condiciones para particulares. Las imágenes y kilómetros pueden no corresponder con el modelo anunciado. Para confirmar póngase en contacto con nuestro departamento comercial. Consulta las excepcionales condiciones de financiación que tenemos disponibles. Precio de venta final IVA y gastos de transferencia incluidos. Horario de atención al cliente: Lunes a Viernes de 09:00 a 18:00.\\n]                                                                                                                                                                                                                                                                                                                                                                                                                                                                                                                                                                                                                                                                                                                                                                                                                                                                                                                                                                                                                                                                                                                                                                                                                                                                                                                                                                                                                                                                                                                                                                                                                                                                                                                                                                                                                                                                                                                                                                                                                          27\n",
              "[\\nSichern Sie sich diesen RENAULT CLIO 1.2 LIMITED zum Top-Preis inklusive dem, AUTOHERO-RUNDUM-SORGLOS-PAKET,  , Infos:,  2.Hand, mindestens 12 Monate gültige HU und AU, deutsche Ausführung, unfallfrei ,  , Highlights,  , Audio-Navigationssystem mit Touchscreen-Farbdisplay, Komfort,  , Klimaanlage ,  , Multifunktionslenkrad in Leder ,  , Berganfahr-Assistent (HSA),  , Fensterheber elektrisch vorn ,  , Geschwindigkeits-Regelanlage (Tempomat) ,  , Heckscheibe heizbar ,  , Sitz vorn links höhenverstellbar,  , Sitz vorn rechts umklappbar ,  , Stau-/Ablagefach im Laderaumboden ,  , Zentralverriegelung mit Fernbedienung , Multimedia,  , Radio R&GO,  , Bluetooth Freisprechanlage ,  , USB-/AUX-Schnittstelle ,  , Bordcomputer,  , Licht und Sicht,  , Tagfahrlicht LED ,  , Außenspiegel elektrisch verstell- und heizbar, Sicherheit,  , Airbag für Fahrer und Beifahrer,  , Beifahrerairbag deaktivierbar ,  , Seitenairbags vorn ,  , Kopfairbagsystem,  , Anti-Blockier-System (ABS),  , Elektronische Bremskraftverteilung ,  , Elektronische Stabilitäts-Programm (ESP) ,  , Reifen-Reparaturkit ,  , Reifendruck-Kontrollsystem ,  , Untersteuerungskontrolle (USC) ,  , ISOFIX Kindersitzverankerung , Weiteres,  , Dachreling silber ,  , Look-Paket Chrom (außen) ,  , Look-Paket Grau (innen) ,  , R&GO-Paket ,  , Style-Paket ,  Ihr , AUTOHERO-RUNDUM-SORGLOS-PAKET,  beinhaltet:, Kostenlose Lieferung in Ihre Nähe, Optische & technische Aufbereitung, Mindestens 12 Monate gültige HU und AU, 1-Jahr-Premium-Garantie, Zulassung inklusive , 14-Tage-Rückgaberecht, Markenunabhängige Inzahlungnahme , Individuelle Finanzierungen zu fairen Konditionen,  , HIER GEHT ES ZUR 360° - ANSICHT DES FAHRZEUGES:, :, https://www.autohero.com/de/renault-clio-1-2-limited/id/30f99516-8785-47e7-a4a3-6cdac4d8e633/,  , Haftungsausschluss, :, Für Angaben vom Verkäufer, des Herstellers oder von Datenbankabfragen übernimmt Autohero keine Haftung. Änderungen, Zwischenverkauf und Irrtümer sind vorbehalten.\\n]                                                                                                                                                                                                                                                                                                                                                                                                                                                                                                                                                                                                                                27\n",
              "                                                                                                                                                                                                                                                                                                                                                                                                                                                                                                                                                                                                                                                                                                                                                                                                                                                                                                                                                                                                                                                                                                                                                                                                                                                                                                                                                                                                                                                                                                                                                                                                                                                                                                                                                                                                                                                                                                                                                                                                                                                                                                                                                                                                                                                                                                                                                                                                                                                                                                                                                                                                                                                                                         ... \n",
              "[\\nPratica 67374, Airbag fullsize per conducente e passeggero, Alzacristalli elettrici ant. e post. con funzione attivaz. a pressione, Assetto dinamico, Audi drive select, Inserti in micrometallic argento, Kit riparazione pneumatici, Pacchetto di navigazione, Piano di copertura del vano bagagli estraibile, Presa AUX-IN, Proiettori allo Xenon Plus con reg. aut. prof. fari, Lavafari, Rivestimenti dei sedili in tessuto, Serbatoio AdBlue, Sistema controllo pressione pneumatici, Sistema di ancoraggio ISOFIX e 3° punto di ancoraggio Top Tether sui sedili post. laterali, Sistema di informazioni per il conducente con display monocromatico, Tappetini anteriori e posteriori, Versione Business, Volante sportivo multifunzionale in pelle 3 razze, ABS, EBV (Ripartitore elettronico della forza frenante), Airbag laterali anteriori integrati negli schienali dei sedili, Airbag per la testa, Airbag per le ginocchia (lato conducente), Appoggiatesta anteriori (2) e posteriori (3) regolabili, Radio MMI plus, Interfaccia Bluetooth, Appoggiabraccia centrale anteriore, Cambio manuale, Cerchi in lega 7 J x 16\" a 5 razze a stella, Chiusura centralizzata con telecomando, Regolatore di velocità, ESC - Sistema elettronico di controllo della stabilizzazione con bloccaggio trasversale elettronico, ASR - Dispositivo di controllo della trazione, EDS (Dispositivo antislittamento in partenza), Filtro anti particolato, Cinture di sicurezza con pretensionatore, Specchietti retrovisivi esterni riscaldabili e ripiegabili elettricamente, Schienale del sedile posteriore ribaltabile (divisibile in rapporto 40:60 o ribaltabile completam.), Sistema di ausilio al parcheggio posteriore, Servosterzo elettromeccanico, Tergilunotto\\n]                                                                                                                                                                                                                                                                                                                                                                                                                                                                                                                                                                                                                                                                                                                                                                                                                                                                                                          1\n",
              "[\\n, Getriebe:,  Schaltgetriebe, Technik:,  Bordcomputer, Start-Stop-Automatik, Assistenten:,  Regensensor, Lichtsensor, Berganfahrassistent, Komfort:,  Servolenkung, Zentralverriegelung, Elektrischer Fensterheber, Sitzheizung, Elektrische Aussenspiegel, Teilbare Ruecksitzlehne, Tempomat, Park Distance Control, Multifunktionslenkrad, Innenspiegel autom. abblendbar, Mittelarmlehne, Innenraumfilter, Lenksaeule einstellbar, Sportsitze, Klimaautomatik-2-Zonen, Sicht:,  Xenon Scheinwerfer, Colorverglasung, Scheinwerferreinigung, Aussenspiegel beheizbar, Privacyverglasung, Sicherheit:,  ABS, Airbag, Beifahrer-Airbag, Wegfahrsperre, Seitenairbags, ESP, Antriebsschlupfregelung, Reifendruckkontrolle, Traktionskontrolle, Kopfairbag, Knieairbag, Kindersitzbefestigung, Pannenkit, Entertainment:,  CD, Radio, AUX-In, USB-Anschluss, MP3, Bluetooth, Freisprecheinrichtung, Umwelt:,  Grüne Umweltplakette, , Energieeffizienzklasse B, Qualität:,  Garantie, Scheckheftgepflegt, HUAU neu, Nichtraucherfahrzeug, Sonstiges:,  Metallic, Alufelgen, Dachreling, Gepaeckraumabdeckung, Stossfaenger in Wagenfarbe, Sportfahrwerk, Weiteres:,  Connectivity-Paket inkl. Bluetooth-Schnittstelle, Klimaautomatik 2-Zonen, Optik-Paket schwarz Audi exclusive, Einparkhilfe (APS), Verglasung hinten abgedunkelt, Sitzheizung vorn, Dachreling (Aluminium), Soundsystem DSP / Audi Sound-System, Ablage- und Gepäckraum-Paket, Audi music interface, Scheibenwaschdüsen heizbar, Vorbereitung Navigationssystem, Adaptives Bremslicht, Anfahr-Assistent (hold assist), Antriebsart: Frontantrieb, Audi Drive Select, Außenspiegel Wagenfarbe, Blinkleuchten LED in Außenspiegel integriert, Bremsanlage mit Rekuperation - Bremsenergierückgewinnung, Bremsassistent, Dachspoiler, Dekoreinlagen Aluminium Mistral, Einstiegsleisten Aluminium, Elektron. Differentialsperre (EDS), Elektron. Stabilitätskontrolle (ESC), Elektron. Stabilitäts-Programm, Euro 6, Fahrer-Informations-System (FIS), Fensterheber elektrisch vorn und hinten, Frontscheibe Akustikglas, Fußmatten Velours, Getriebe 6-Gang, Heckscheibe heizbar, Interieur Aluminium-Optik, Isofix-Aufnahmen für Kindersitz, Kopfstützen hinten, Multi-Media-Interface MMI, Parkbremse elektro-mechanisch, Polster: Stoff Rallye, Servolenkung elektro-mechanisch, Sitze vorn mit ausziehbarer Oberschenkelauflage, Sitzhöhenverstellung, Sport/Lederlenkrad, Sport-Fahrwerk, Start/Stop-Anlage, Telefon-Vorbereitung mit Bluetooth-Schnittstelle, Wagenheber, Wärmeschutzverglasung, Xenon Plus, ZV mit Fernbedienung, ... Änderungen, Zwischenverkauf und Irrtümer vorbehalten.,  by CG360.de\\n]      1\n",
              "[\\n, Getriebe, 6-Gang, Licht und Sicht, Xenon-Scheinwerfer Plus (Abblend- und Fernlicht), Technik und Sicherheit, Fahrerairbag, Airbag Fahrer-/Beifahrerseite, Seitenairbag vorn, Kopfairbags, Anti-Blockier-System (ABS), Elektron. Stabilitätskontrolle (ESC), Elektron. Differentialsperre (EDS), Zentralverriegelung mit Fernbedienung, Schließ-/Startsystem Advanced Key (Komfortschlüssel), Servolenkung elektro-mechanisch, Geschwindigkeits-Regelanlage (Tempomat), Elektronische Wegfahrsperre, Bordcomputer, Reifendruck-Kontrollsystem, Assistenzsysteme, Fahrassistenz-System: Anfahr-Assistent (hold assist), Multimedia, Multi-Media-Interface MMI Basic Plus / MMI Radio Plus, Audi Smartphone Interface, Komfort, Komfort-Klimaautomatik 2-Zonen, Einparkhilfe hinten (APS), Fensterheber elektrisch, Licht- und Regensensor, Außenspiegel elektr. verstellbar beide, Scheibenwaschdüsen und Außenspiegel beheizt, Wärmeschutzverglasung grün getönt, Innenausstattung, Sitzheizung vorn, Lenkrad (Sport/Leder - 3-Speichen) mit Multifunktion, Mittelarmlehne vorn, Rücksitzlehne geteilt/klappbar, Aussenausstattung, LM-Felgen, Pakete, Komfort-Paket, Sonstiges, Rußpartikelfilter, Scheckheftgepflegt, Nichtraucherfahrzeug, Weitere Informationen, Schadstoffklasse: EURO 6D-TEMP, Connectivity-Paket, Glanz-Paket, LM-Felgen 7.5x17 (5-Speichen Y-Design), Progressivlenkung, Antriebs-Schlupfregelung (ASR), Elektron. Stabilitäts-Programm (ESP), Getriebe 6-Gang, Lenkrad (Sport - 3-Speichen), Parkbremse elektro-mechanisch, Sitze vorn höhenverstellbar, Vorrüstung Mobiltelefon/Handy mit Bluetooth-Schnittstelle, Audi music interface, Außenspiegel elektr. verstell- und heizbar beide, Vorbereitung Navigationssystem, Irrtümer und Änderungen vorbehalten., Die im Internet angebotene Ausstattung ist kein Vertragsbestandteil., Die Ausstattung muss vor Ort geprüft werden., Das angebotene Fahrzeug kann von einer Rückrufaktion betroffen sein. Co2 Angaben können abweichen., \\n]                                                                                                                                                                                                                                                                                                                                                                                                                                                                                                                                                                                                                                                                  1\n",
              "[\\n, Aluminium-Gussräder im 5-Speichen-Stern-Design Größe 7 J x 16 mit Reifen 205/55 R 16, Dachreling eloxiert, Einparkhilfe hinten, Fahrerinformationssystem mit Farbdisplay, Lederlenkrad im 3-Speichen-Design mit Multifunktion plus, Ablage-/Gepäckraumpaket mit erweitertem USB-Buchsen-Angebot, Lichtpaket, Reifen 16', Anlaufvariante RdW, Vorbereitung für Anhängevorrichtung, Audi sound system, Reifen 205/55 R16 91W, Xenon plus, Allwetterlicht, Kopfstützen hinten (3 Stück), MMI Radio plus, Zentralverriegelung mit Funkschlüssel, Bluetooth-Schnittstelle, Innenspiegel abblendbar, elektronische Stabilisierungskontrolle (ESC), Airbags, 6-Gang-Schaltgetriebe, Seitenairbags vorn und Kopfairbagsystem, elektromechanische Servolenkung, Leuchtweitenregulierung automatisch-statisch, Scheibenwaschdüsen beheizbar vorn, Reifendruck-Kontrollanzeige, Tagfahrlicht, Start-Stop-System, AUX-IN-Anschluss, Kindersitzverankerung ISOFIX und Top Tether für die äußeren Fondsitze, Sitzbezüge in Stoff Index, Wärmeschutzverglasung, Akustikfrontscheibe, Außenspiegel links asphärisch, Außen-Sound Standard, Außenspiegel rechts (großes Sichtfeld) konvex, elektromechanische Parkbremse, Dachhimmel in Stoff felsgrau, Kraftstoffsystem Otto-Einspritzer, Linkslenker, Reifenreparaturset, Heckleuchten, Scheibenwaschanlage, Entriegelung Hintersitz Standard, Waschwasserstandsanzeige, Abgaskonzept EU6 AG/H/I, Frontantrieb, A3, Außenspiegelgehäuse in Wagenfarbe, Ohne erweitertem Sicherheitssystem, Geschwindigkeitsbegrenzungsanlage, Dachkantenspoiler, Heckscheibenwischer, Sportback, Kindersicherung manuell, Ohne Kamerasysteme/Umfeldsensorik, 4-Zyl. Ottomotor 1 5 L/110KW TSI Grundmotor ist: TJ7/N09/T9F, Nebelschlussleuchten, Nichtraucherausführung, Radstand, Doppeltonfanfare, Serienfahrwerk, 4 Türen, Modellbezeichnung gemäß neuer Leistungskennzeichnung, Warnleuchten, Zierleisten schwarz, Nichtraucherfahrzeug, Irrtümer Änderungen und Zwischenverkauf vorbehalten, sehr guter Zustand, Komfortklima, Aussenspiegel heizbar, elektrische Aussenspiegel, geteilte Rückbank, Scheckheft gepflegt, Fahrersitz höhenverstellbar, Beifahrersitz höhenverstellbar, \\n]                                                                                                                                                                                                                                                                                                                                                                                                                                                                        1\n",
              "[\\nDEK:[2691331], Renault Espace Blue dCi 200CV EDC Business, Nuova da Immatricolare, COLORE: Grigio Titanio, INTERNO: Pelle+Tessuto, TRASMISSIONE: Cambio Automatico EDC, ---, ACCESSORI: , 7 Posti, , , Cerchi in Lega 17, Navigatore con Display 8.7, Clima Automatico, Sensori di Parcheggio Anteriori e Posteriori con Retrocamera, Fari Full LED Pure Vision, Cruise Control, Renault Multisense, ---, Listino Nuovo 44.300 Euro, Prezzo Gruppo Carmeli: 39.700 Euro (Esclusa IPT e Messa in Strada), IVA Esposta, In caso di Adesione alla PROMO GRUPPO CARMELI puoi Averla a 36.000 Euro, Contattaci per scoprire tutti i vantaggi della PROMO GRUPPO CARMELI, ____________________________________, Gruppo Carmeli S.p.A. è Concessionaria e Service ufficiale dei Marchi Renault, Dacia, Nissan, Mercedes e Smart per la provincia di Brescia e Bergamo ed opera nel mercato dell’auto da più di 40 anni., Nelle sedi di Brescia (Nissan e Renault-Dacia Autospazio), di Coccaglio (Renault-Dacia e Nissan) e di Bergamo (Nissan) oltre a tutta la gamma di veicoli dei Marchi rappresentati, propone anche 2.000 auto a Km Zero e Aziendali di tutte le marche., Offriamo Servizi:, -VALUTAZIONE e PERMUTA del tuo USATO, -ACQUISTO con pagamento immediato del tuo USATO, -FINANZIAMENTI e LEASING agevolati, -NOLEGGIO A LUNGO TERMINE di veicoli di tutte le marche, -PACCHETTI ASSICURATIVI su misura con possibilità di garanzia del valore a Nuovo, ____________________________________, Sebbene sia stato fatto ogni ragionevole sforzo per assicurare l'esattezza delle informazioni riportate, vi potrebbero essere involontarie incongruenze riguardanti le immagini e la descrizione degli accessori, che pertanto non rappresentano vincolo contrattuale. Per ulteriori informazioni sulle condizioni economiche ti invitiamo a contattarci., \\n]                                                                                                                                                                                                                                                                                                                                                                                                                                                                                                                                                                                                                                                                                                                                                                                                                   1\n",
              "Name: description, Length: 12874, dtype: int64"
            ]
          },
          "metadata": {},
          "execution_count": 154
        }
      ]
    },
    {
      "cell_type": "code",
      "source": [
        ""
      ],
      "metadata": {
        "id": "tDoMZp8RjorG"
      },
      "execution_count": null,
      "outputs": []
    },
    {
      "cell_type": "markdown",
      "source": [
        "##43.Emission Label"
      ],
      "metadata": {
        "id": "HlxgHB23c_Ln"
      }
    },
    {
      "cell_type": "code",
      "source": [
        "df['Emission Label'].value_counts(dropna=False) ## 12k nan so leave it, look emission"
      ],
      "metadata": {
        "colab": {
          "base_uri": "https://localhost:8080/",
          "height": 374
        },
        "id": "yxCicg8mcfK7",
        "outputId": "eab4921f-3133-4950-b6aa-e4cb671d35b6"
      },
      "execution_count": 155,
      "outputs": [
        {
          "output_type": "error",
          "ename": "TypeError",
          "evalue": "ignored",
          "traceback": [
            "\u001b[0;31m---------------------------------------------------------------------------\u001b[0m",
            "\u001b[0;31mTypeError\u001b[0m                                 Traceback (most recent call last)",
            "\u001b[0;32mpandas/_libs/hashtable_class_helper.pxi\u001b[0m in \u001b[0;36mpandas._libs.hashtable.PyObjectHashTable.map_locations\u001b[0;34m()\u001b[0m\n",
            "\u001b[0;31mTypeError\u001b[0m: unhashable type: 'list'"
          ]
        },
        {
          "output_type": "stream",
          "name": "stderr",
          "text": [
            "Exception ignored in: 'pandas._libs.index.IndexEngine._call_map_locations'\n",
            "Traceback (most recent call last):\n",
            "  File \"pandas/_libs/hashtable_class_helper.pxi\", line 5231, in pandas._libs.hashtable.PyObjectHashTable.map_locations\n",
            "TypeError: unhashable type: 'list'\n"
          ]
        },
        {
          "output_type": "execute_result",
          "data": {
            "text/plain": [
              "NaN                     11934\n",
              "[\\n4 (Green)\\n]          3553\n",
              "[\\n1 (No sticker)\\n]      381\n",
              "[[], [], []]               40\n",
              "[\\n5 (Blue)\\n]              8\n",
              "[\\n3 (Yellow)\\n]            2\n",
              "[\\n2 (Red)\\n]               1\n",
              "Name: Emission Label, dtype: int64"
            ]
          },
          "metadata": {},
          "execution_count": 155
        }
      ]
    },
    {
      "cell_type": "markdown",
      "source": [
        "##44.Gears"
      ],
      "metadata": {
        "id": "aUminDyIL2RT"
      }
    },
    {
      "cell_type": "code",
      "source": [
        "df['Gears'].value_counts(dropna=False) "
      ],
      "metadata": {
        "colab": {
          "base_uri": "https://localhost:8080/",
          "height": 448
        },
        "id": "TG3ELZBbdSU3",
        "outputId": "a3dbb16c-e852-40ae-bab4-bc0eba8068a0"
      },
      "execution_count": 83,
      "outputs": [
        {
          "output_type": "error",
          "ename": "TypeError",
          "evalue": "ignored",
          "traceback": [
            "\u001b[0;31m---------------------------------------------------------------------------\u001b[0m",
            "\u001b[0;31mTypeError\u001b[0m                                 Traceback (most recent call last)",
            "\u001b[0;32mpandas/_libs/hashtable_class_helper.pxi\u001b[0m in \u001b[0;36mpandas._libs.hashtable.PyObjectHashTable.map_locations\u001b[0;34m()\u001b[0m\n",
            "\u001b[0;31mTypeError\u001b[0m: unhashable type: 'list'"
          ]
        },
        {
          "output_type": "stream",
          "name": "stderr",
          "text": [
            "Exception ignored in: 'pandas._libs.index.IndexEngine._call_map_locations'\n",
            "Traceback (most recent call last):\n",
            "  File \"pandas/_libs/hashtable_class_helper.pxi\", line 5231, in pandas._libs.hashtable.PyObjectHashTable.map_locations\n",
            "TypeError: unhashable type: 'list'\n"
          ]
        },
        {
          "output_type": "execute_result",
          "data": {
            "text/plain": [
              "[\\n6\\n]     5822\n",
              "NaN         4712\n",
              "[\\n5\\n]     3239\n",
              "[\\n7\\n]     1908\n",
              "[\\n8\\n]      224\n",
              "[\\n9\\n]        6\n",
              "[\\n1\\n]        2\n",
              "[\\n3\\n]        2\n",
              "[\\n4\\n]        2\n",
              "[\\n2\\n]        1\n",
              "[\\n50\\n]       1\n",
              "Name: Gears, dtype: int64"
            ]
          },
          "metadata": {},
          "execution_count": 83
        }
      ]
    },
    {
      "cell_type": "code",
      "source": [
        "df['Gears']=df['Gears'].astype(str).str.extract(\"(\\d\\d|\\d.\\d|\\d)\")\n"
      ],
      "metadata": {
        "id": "MDfmHXf2dSHt"
      },
      "execution_count": 92,
      "outputs": []
    },
    {
      "cell_type": "code",
      "source": [
        "df['Gears'].value_counts(dropna=False) "
      ],
      "metadata": {
        "colab": {
          "base_uri": "https://localhost:8080/"
        },
        "id": "EUUKLySFdR4D",
        "outputId": "28b2c813-842a-4065-a26a-bd198bc756d2"
      },
      "execution_count": 93,
      "outputs": [
        {
          "output_type": "execute_result",
          "data": {
            "text/plain": [
              "6      5822\n",
              "NaN    4712\n",
              "5      3239\n",
              "7      1908\n",
              "8       224\n",
              "9         6\n",
              "1         2\n",
              "3         2\n",
              "4         2\n",
              "2         1\n",
              "50        1\n",
              "Name: Gears, dtype: int64"
            ]
          },
          "metadata": {},
          "execution_count": 93
        }
      ]
    },
    {
      "cell_type": "markdown",
      "source": [
        ""
      ],
      "metadata": {
        "id": "caxojkW8MTSm"
      }
    },
    {
      "cell_type": "markdown",
      "source": [
        "##45.Country version"
      ],
      "metadata": {
        "id": "2tjaBX6tM2G4"
      }
    },
    {
      "cell_type": "code",
      "source": [
        "df['Country version'].value_counts(dropna=False) "
      ],
      "metadata": {
        "colab": {
          "base_uri": "https://localhost:8080/",
          "height": 688
        },
        "id": "Y0LitpnYMJwN",
        "outputId": "6aef26a4-7201-4818-85e5-c7d486dd27a2"
      },
      "execution_count": 86,
      "outputs": [
        {
          "output_type": "error",
          "ename": "TypeError",
          "evalue": "ignored",
          "traceback": [
            "\u001b[0;31m---------------------------------------------------------------------------\u001b[0m",
            "\u001b[0;31mTypeError\u001b[0m                                 Traceback (most recent call last)",
            "\u001b[0;32mpandas/_libs/hashtable_class_helper.pxi\u001b[0m in \u001b[0;36mpandas._libs.hashtable.PyObjectHashTable.map_locations\u001b[0;34m()\u001b[0m\n",
            "\u001b[0;31mTypeError\u001b[0m: unhashable type: 'list'"
          ]
        },
        {
          "output_type": "stream",
          "name": "stderr",
          "text": [
            "Exception ignored in: 'pandas._libs.index.IndexEngine._call_map_locations'\n",
            "Traceback (most recent call last):\n",
            "  File \"pandas/_libs/hashtable_class_helper.pxi\", line 5231, in pandas._libs.hashtable.PyObjectHashTable.map_locations\n",
            "TypeError: unhashable type: 'list'\n"
          ]
        },
        {
          "output_type": "execute_result",
          "data": {
            "text/plain": [
              "NaN                     8333\n",
              "[\\nGermany\\n]           4502\n",
              "[\\nItaly\\n]             1038\n",
              "[\\nEuropean Union\\n]     507\n",
              "[\\nNetherlands\\n]        464\n",
              "[\\nSpain\\n]              325\n",
              "[\\nBelgium\\n]            314\n",
              "[\\nAustria\\n]            208\n",
              "[\\nCzech Republic\\n]      52\n",
              "[\\nPoland\\n]              49\n",
              "[\\nFrance\\n]              38\n",
              "[\\nDenmark\\n]             33\n",
              "[\\nHungary\\n]             28\n",
              "[\\nJapan\\n]                8\n",
              "[\\nSlovakia\\n]             4\n",
              "[\\nCroatia\\n]              4\n",
              "[\\nSweden\\n]               3\n",
              "[\\nRomania\\n]              2\n",
              "[\\nBulgaria\\n]             2\n",
              "[\\nLuxembourg\\n]           1\n",
              "[\\nSwitzerland\\n]          1\n",
              "[\\nSlovenia\\n]             1\n",
              "[\\nEgypt\\n]                1\n",
              "[\\nSerbia\\n]               1\n",
              "Name: Country version, dtype: int64"
            ]
          },
          "metadata": {},
          "execution_count": 86
        }
      ]
    },
    {
      "cell_type": "code",
      "source": [
        "df[\"Country version\"]=[item[0] if type (item)==list else item for item in df [\"Country version\"]]"
      ],
      "metadata": {
        "id": "M9tM6RUNNXQd"
      },
      "execution_count": 89,
      "outputs": []
    },
    {
      "cell_type": "code",
      "source": [
        "df['country_version']=df['Country version'].str.lstrip(\"\\n\").str.rstrip(\"\\n\")\n",
        "df['country_version']"
      ],
      "metadata": {
        "colab": {
          "base_uri": "https://localhost:8080/"
        },
        "id": "jKF6aOlqM5Vf",
        "outputId": "fbd11ba0-4d29-4aab-bc14-9bb992e35203"
      },
      "execution_count": 90,
      "outputs": [
        {
          "output_type": "execute_result",
          "data": {
            "text/plain": [
              "0            NaN\n",
              "1            NaN\n",
              "2            NaN\n",
              "3            NaN\n",
              "4        Germany\n",
              "          ...   \n",
              "15914        NaN\n",
              "15915    Germany\n",
              "15916    Austria\n",
              "15917        NaN\n",
              "15918    Germany\n",
              "Name: country_version, Length: 15919, dtype: object"
            ]
          },
          "metadata": {},
          "execution_count": 90
        }
      ]
    },
    {
      "cell_type": "markdown",
      "source": [
        "##46.Electricity consumption"
      ],
      "metadata": {
        "id": "FiWrUNVSNmlJ"
      }
    },
    {
      "cell_type": "code",
      "source": [
        "df['Electricity consumption'].value_counts(dropna=False) ## drop"
      ],
      "metadata": {
        "colab": {
          "base_uri": "https://localhost:8080/",
          "height": 282
        },
        "id": "lgWpw3vSNOpk",
        "outputId": "ffc5a1cd-43cb-4b88-f11f-93ebbf1affbe"
      },
      "execution_count": 94,
      "outputs": [
        {
          "output_type": "error",
          "ename": "TypeError",
          "evalue": "ignored",
          "traceback": [
            "\u001b[0;31m---------------------------------------------------------------------------\u001b[0m",
            "\u001b[0;31mTypeError\u001b[0m                                 Traceback (most recent call last)",
            "\u001b[0;32mpandas/_libs/hashtable_class_helper.pxi\u001b[0m in \u001b[0;36mpandas._libs.hashtable.PyObjectHashTable.map_locations\u001b[0;34m()\u001b[0m\n",
            "\u001b[0;31mTypeError\u001b[0m: unhashable type: 'list'"
          ]
        },
        {
          "output_type": "stream",
          "name": "stderr",
          "text": [
            "Exception ignored in: 'pandas._libs.index.IndexEngine._call_map_locations'\n",
            "Traceback (most recent call last):\n",
            "  File \"pandas/_libs/hashtable_class_helper.pxi\", line 5231, in pandas._libs.hashtable.PyObjectHashTable.map_locations\n",
            "TypeError: unhashable type: 'list'\n"
          ]
        },
        {
          "output_type": "execute_result",
          "data": {
            "text/plain": [
              "NaN                          15782\n",
              "[\\n0 kWh/100 km (comb)\\n]      137\n",
              "Name: Electricity consumption, dtype: int64"
            ]
          },
          "metadata": {},
          "execution_count": 94
        }
      ]
    },
    {
      "cell_type": "markdown",
      "source": [
        "##47.Last Service Date, 'Other Fuel Types',\n",
        "       'Availability', 'Last Timing Belt Service Date', 'Available from',\n",
        "       'usage_status', 'warranty_month', 'body_color'"
      ],
      "metadata": {
        "id": "nHBFaeC2OZtA"
      }
    },
    {
      "cell_type": "code",
      "source": [
        "df[['Last Service Date', 'Other Fuel Types','Availability', 'Last Timing Belt Service Date', 'Available from']]"
      ],
      "metadata": {
        "colab": {
          "base_uri": "https://localhost:8080/",
          "height": 343
        },
        "id": "Ij5KWMIjONm0",
        "outputId": "08f25649-b5cb-48ef-fa19-3b460dc476a0"
      },
      "execution_count": 97,
      "outputs": [
        {
          "output_type": "error",
          "ename": "KeyError",
          "evalue": "ignored",
          "traceback": [
            "\u001b[0;31m---------------------------------------------------------------------------\u001b[0m",
            "\u001b[0;31mKeyError\u001b[0m                                  Traceback (most recent call last)",
            "\u001b[0;32m<ipython-input-97-173089365f62>\u001b[0m in \u001b[0;36m<module>\u001b[0;34m()\u001b[0m\n\u001b[0;32m----> 1\u001b[0;31m \u001b[0mdf\u001b[0m\u001b[0;34m[\u001b[0m\u001b[0;34m[\u001b[0m\u001b[0;34m'Last Service Date'\u001b[0m\u001b[0;34m,\u001b[0m \u001b[0;34m'Other Fuel Types'\u001b[0m\u001b[0;34m,\u001b[0m\u001b[0;34m'Availability'\u001b[0m\u001b[0;34m,\u001b[0m \u001b[0;34m'Last Timing Belt Service Date'\u001b[0m\u001b[0;34m,\u001b[0m \u001b[0;34m'Available from'\u001b[0m\u001b[0;34m,\u001b[0m \u001b[0;34m'usage_status'\u001b[0m\u001b[0;34m,\u001b[0m \u001b[0;34m'warranty_month'\u001b[0m\u001b[0;34m,\u001b[0m \u001b[0;34m'body_color'\u001b[0m\u001b[0;34m]\u001b[0m\u001b[0;34m]\u001b[0m\u001b[0;34m\u001b[0m\u001b[0;34m\u001b[0m\u001b[0m\n\u001b[0m",
            "\u001b[0;32m/usr/local/lib/python3.7/dist-packages/pandas/core/frame.py\u001b[0m in \u001b[0;36m__getitem__\u001b[0;34m(self, key)\u001b[0m\n\u001b[1;32m   3462\u001b[0m             \u001b[0;32mif\u001b[0m \u001b[0mis_iterator\u001b[0m\u001b[0;34m(\u001b[0m\u001b[0mkey\u001b[0m\u001b[0;34m)\u001b[0m\u001b[0;34m:\u001b[0m\u001b[0;34m\u001b[0m\u001b[0;34m\u001b[0m\u001b[0m\n\u001b[1;32m   3463\u001b[0m                 \u001b[0mkey\u001b[0m \u001b[0;34m=\u001b[0m \u001b[0mlist\u001b[0m\u001b[0;34m(\u001b[0m\u001b[0mkey\u001b[0m\u001b[0;34m)\u001b[0m\u001b[0;34m\u001b[0m\u001b[0;34m\u001b[0m\u001b[0m\n\u001b[0;32m-> 3464\u001b[0;31m             \u001b[0mindexer\u001b[0m \u001b[0;34m=\u001b[0m \u001b[0mself\u001b[0m\u001b[0;34m.\u001b[0m\u001b[0mloc\u001b[0m\u001b[0;34m.\u001b[0m\u001b[0m_get_listlike_indexer\u001b[0m\u001b[0;34m(\u001b[0m\u001b[0mkey\u001b[0m\u001b[0;34m,\u001b[0m \u001b[0maxis\u001b[0m\u001b[0;34m=\u001b[0m\u001b[0;36m1\u001b[0m\u001b[0;34m)\u001b[0m\u001b[0;34m[\u001b[0m\u001b[0;36m1\u001b[0m\u001b[0;34m]\u001b[0m\u001b[0;34m\u001b[0m\u001b[0;34m\u001b[0m\u001b[0m\n\u001b[0m\u001b[1;32m   3465\u001b[0m \u001b[0;34m\u001b[0m\u001b[0m\n\u001b[1;32m   3466\u001b[0m         \u001b[0;31m# take() does not accept boolean indexers\u001b[0m\u001b[0;34m\u001b[0m\u001b[0;34m\u001b[0m\u001b[0;34m\u001b[0m\u001b[0m\n",
            "\u001b[0;32m/usr/local/lib/python3.7/dist-packages/pandas/core/indexing.py\u001b[0m in \u001b[0;36m_get_listlike_indexer\u001b[0;34m(self, key, axis)\u001b[0m\n\u001b[1;32m   1312\u001b[0m             \u001b[0mkeyarr\u001b[0m\u001b[0;34m,\u001b[0m \u001b[0mindexer\u001b[0m\u001b[0;34m,\u001b[0m \u001b[0mnew_indexer\u001b[0m \u001b[0;34m=\u001b[0m \u001b[0max\u001b[0m\u001b[0;34m.\u001b[0m\u001b[0m_reindex_non_unique\u001b[0m\u001b[0;34m(\u001b[0m\u001b[0mkeyarr\u001b[0m\u001b[0;34m)\u001b[0m\u001b[0;34m\u001b[0m\u001b[0;34m\u001b[0m\u001b[0m\n\u001b[1;32m   1313\u001b[0m \u001b[0;34m\u001b[0m\u001b[0m\n\u001b[0;32m-> 1314\u001b[0;31m         \u001b[0mself\u001b[0m\u001b[0;34m.\u001b[0m\u001b[0m_validate_read_indexer\u001b[0m\u001b[0;34m(\u001b[0m\u001b[0mkeyarr\u001b[0m\u001b[0;34m,\u001b[0m \u001b[0mindexer\u001b[0m\u001b[0;34m,\u001b[0m \u001b[0maxis\u001b[0m\u001b[0;34m)\u001b[0m\u001b[0;34m\u001b[0m\u001b[0;34m\u001b[0m\u001b[0m\n\u001b[0m\u001b[1;32m   1315\u001b[0m \u001b[0;34m\u001b[0m\u001b[0m\n\u001b[1;32m   1316\u001b[0m         if needs_i8_conversion(ax.dtype) or isinstance(\n",
            "\u001b[0;32m/usr/local/lib/python3.7/dist-packages/pandas/core/indexing.py\u001b[0m in \u001b[0;36m_validate_read_indexer\u001b[0;34m(self, key, indexer, axis)\u001b[0m\n\u001b[1;32m   1375\u001b[0m \u001b[0;34m\u001b[0m\u001b[0m\n\u001b[1;32m   1376\u001b[0m             \u001b[0mnot_found\u001b[0m \u001b[0;34m=\u001b[0m \u001b[0mlist\u001b[0m\u001b[0;34m(\u001b[0m\u001b[0mensure_index\u001b[0m\u001b[0;34m(\u001b[0m\u001b[0mkey\u001b[0m\u001b[0;34m)\u001b[0m\u001b[0;34m[\u001b[0m\u001b[0mmissing_mask\u001b[0m\u001b[0;34m.\u001b[0m\u001b[0mnonzero\u001b[0m\u001b[0;34m(\u001b[0m\u001b[0;34m)\u001b[0m\u001b[0;34m[\u001b[0m\u001b[0;36m0\u001b[0m\u001b[0;34m]\u001b[0m\u001b[0;34m]\u001b[0m\u001b[0;34m.\u001b[0m\u001b[0munique\u001b[0m\u001b[0;34m(\u001b[0m\u001b[0;34m)\u001b[0m\u001b[0;34m)\u001b[0m\u001b[0;34m\u001b[0m\u001b[0;34m\u001b[0m\u001b[0m\n\u001b[0;32m-> 1377\u001b[0;31m             \u001b[0;32mraise\u001b[0m \u001b[0mKeyError\u001b[0m\u001b[0;34m(\u001b[0m\u001b[0;34mf\"{not_found} not in index\"\u001b[0m\u001b[0;34m)\u001b[0m\u001b[0;34m\u001b[0m\u001b[0;34m\u001b[0m\u001b[0m\n\u001b[0m\u001b[1;32m   1378\u001b[0m \u001b[0;34m\u001b[0m\u001b[0m\n\u001b[1;32m   1379\u001b[0m \u001b[0;34m\u001b[0m\u001b[0m\n",
            "\u001b[0;31mKeyError\u001b[0m: \"['usage_status', 'warranty_month', 'body_color'] not in index\""
          ]
        }
      ]
    },
    {
      "cell_type": "code",
      "source": [
        "df.drop(['Electricity consumption','Last Service Date', 'Other Fuel Types','Availability', 'Last Timing Belt Service Date', 'Available from'], axis=1)"
      ],
      "metadata": {
        "colab": {
          "base_uri": "https://localhost:8080/",
          "height": 1000
        },
        "id": "bRT8Ryr8O9qu",
        "outputId": "50cb865b-8d50-4d9f-b0a0-096ff17d0adc"
      },
      "execution_count": 101,
      "outputs": [
        {
          "output_type": "execute_result",
          "data": {
            "text/plain": [
              "                                                     url      make_model  \\\n",
              "0      https://www.autoscout24.com//offers/audi-a1-sp...         Audi A1   \n",
              "1      https://www.autoscout24.com//offers/audi-a1-1-...         Audi A1   \n",
              "2      https://www.autoscout24.com//offers/audi-a1-sp...         Audi A1   \n",
              "3      https://www.autoscout24.com//offers/audi-a1-1-...         Audi A1   \n",
              "4      https://www.autoscout24.com//offers/audi-a1-sp...         Audi A1   \n",
              "...                                                  ...             ...   \n",
              "15914  https://www.autoscout24.com//offers/renault-es...  Renault Espace   \n",
              "15915  https://www.autoscout24.com//offers/renault-es...  Renault Espace   \n",
              "15916  https://www.autoscout24.com//offers/renault-es...  Renault Espace   \n",
              "15917  https://www.autoscout24.com//offers/renault-es...  Renault Espace   \n",
              "15918  https://www.autoscout24.com//offers/renault-es...  Renault Espace   \n",
              "\n",
              "                                       short_description body_type  price  \\\n",
              "0            Sportback 1.4 TDI S-tronic Xenon Navi Klima    Sedans  15770   \n",
              "1                                         1.8 TFSI sport    Sedans  14500   \n",
              "2      Sportback 1.6 TDI S tronic Einparkhilfe plus+m...    Sedans  14640   \n",
              "3                                1.4 TDi Design S tronic    Sedans  14500   \n",
              "4      Sportback 1.4 TDI S-Tronic S-Line Ext. admired...    Sedans  16790   \n",
              "...                                                  ...       ...    ...   \n",
              "15914              Blue dCi 200CV EDC Executive 4Control       Van  39950   \n",
              "15915                TCe 225 EDC GPF LIM Deluxe Pano,RFK       Van  39885   \n",
              "15916  Blue dCi 200 EDC Initiale Paris Leder LED Navi...       Van  39875   \n",
              "15917  Blue dCi 200CV EDC Business , NUOVA DA IMMATRI...       Van  39700   \n",
              "15918        INITIALE PARIS TCe 225 EDC GPF NAVI SHZ AUX       Van  40999   \n",
              "\n",
              "                    vat         km registration         prev_owner  kW  \\\n",
              "0        VAT deductible  56,013 km      01/2016  2 previous owners NaN   \n",
              "1      Price negotiable  80,000 km      03/2017               None NaN   \n",
              "2        VAT deductible  83,450 km      02/2016   1 previous owner NaN   \n",
              "3                  None  73,000 km      08/2016   1 previous owner NaN   \n",
              "4                  None  16,200 km      05/2016   1 previous owner NaN   \n",
              "...                 ...        ...          ...                ...  ..   \n",
              "15914    VAT deductible       - km          -/-               None NaN   \n",
              "15915    VAT deductible   9,900 km      01/2019   1 previous owner NaN   \n",
              "15916    VAT deductible      15 km      03/2019   1 previous owner NaN   \n",
              "15917    VAT deductible      10 km      06/2019               None NaN   \n",
              "15918    VAT deductible       - km      01/2019   1 previous owner NaN   \n",
              "\n",
              "           hp                                               Type  \\\n",
              "0       66 kW            [, Used, , Diesel (Particulate Filter)]   \n",
              "1      141 kW                               [, Used, , Gasoline]   \n",
              "2       85 kW            [, Used, , Diesel (Particulate Filter)]   \n",
              "3       66 kW            [, Used, , Diesel (Particulate Filter)]   \n",
              "4       66 kW            [, Used, , Diesel (Particulate Filter)]   \n",
              "...       ...                                                ...   \n",
              "15914  147 kW             [, New, , Diesel (Particulate Filter)]   \n",
              "15915  165 kW  [, Used, , Super 95 / Super Plus 98 (Particula...   \n",
              "15916  146 kW                       [, Pre-registered, , Diesel]   \n",
              "15917  147 kW                       [, Pre-registered, , Diesel]   \n",
              "15918  165 kW                      [, Demonstration, , Super 95]   \n",
              "\n",
              "                                         Previous Owners  \\\n",
              "0                                                  \\n2\\n   \n",
              "1                                                    NaN   \n",
              "2                                                  \\n1\\n   \n",
              "3                                                  \\n1\\n   \n",
              "4                                                  \\n1\\n   \n",
              "...                                                  ...   \n",
              "15914                                                NaN   \n",
              "15915  [\\n1\\n, \\n, 7.4 l/100 km (comb), \\n, 9.2 l/100...   \n",
              "15916                   [\\n1\\n, \\n139 g CO2/km (comb)\\n]   \n",
              "15917                                                NaN   \n",
              "15918                                              \\n1\\n   \n",
              "\n",
              "                              Next Inspection  \\\n",
              "0       [\\n06/2021\\n, \\n99 g CO2/km (comb)\\n]   \n",
              "1                                         NaN   \n",
              "2                                         NaN   \n",
              "3                                         NaN   \n",
              "4                                         NaN   \n",
              "...                                       ...   \n",
              "15914                                     NaN   \n",
              "15915  [\\n01/2022\\n, \\n168 g CO2/km (comb)\\n]   \n",
              "15916                                     NaN   \n",
              "15917                                     NaN   \n",
              "15918                                     NaN   \n",
              "\n",
              "                           Inspection new                          Warranty  \\\n",
              "0                   [\\nYes\\n, \\nEuro 6\\n]           [\\n, \\n, \\n4 (Green)\\n]   \n",
              "1                                     NaN                               NaN   \n",
              "2                                     NaN  [\\n, \\n, \\n99 g CO2/km (comb)\\n]   \n",
              "3                                     NaN                               NaN   \n",
              "4      [\\nYes\\n, \\n109 g CO2/km (comb)\\n]              [\\n, \\n, \\nEuro 6\\n]   \n",
              "...                                   ...                               ...   \n",
              "15914                                 NaN                     \\n24 months\\n   \n",
              "15915                                 NaN              [\\n, \\n, \\nEuro 6\\n]   \n",
              "15916         [\\nYes\\n, \\nEuro 6d-TEMP\\n]           [\\n, \\n, \\n4 (Green)\\n]   \n",
              "15917                                 NaN                                \\n   \n",
              "15918  [\\nYes\\n, \\n153 g CO2/km (comb)\\n]                               NaN   \n",
              "\n",
              "                           Full Service      Non-smoking Vehicle null  \\\n",
              "0                              [\\n, \\n]                 [\\n, \\n]   []   \n",
              "1                                   NaN                      NaN   []   \n",
              "2                                   NaN                      NaN   []   \n",
              "3      [\\n, \\n, \\n99 g CO2/km (comb)\\n]     [\\n, \\n, \\nEuro 6\\n]   []   \n",
              "4               [\\n, \\n, \\n4 (Green)\\n]                 [\\n, \\n]   []   \n",
              "...                                 ...                      ...  ...   \n",
              "15914                               NaN                      NaN   []   \n",
              "15915                               NaN  [\\n, \\n, \\n4 (Green)\\n]   []   \n",
              "15916                          [\\n, \\n]                 [\\n, \\n]   []   \n",
              "15917                               NaN                      NaN   []   \n",
              "15918                               NaN                      NaN   []   \n",
              "\n",
              "              Make             Model          Offer Number First Registration  \\\n",
              "0         \\nAudi\\n      [\\n, A1, \\n]       [\\nLR-062483\\n]     [\\n, 2016, \\n]   \n",
              "1         \\nAudi\\n      [\\n, A1, \\n]                   NaN     [\\n, 2017, \\n]   \n",
              "2         \\nAudi\\n      [\\n, A1, \\n]        [\\nAM-95365\\n]     [\\n, 2016, \\n]   \n",
              "3         \\nAudi\\n      [\\n, A1, \\n]                   NaN     [\\n, 2016, \\n]   \n",
              "4         \\nAudi\\n      [\\n, A1, \\n]           [\\nC1626\\n]     [\\n, 2016, \\n]   \n",
              "...            ...               ...                   ...                ...   \n",
              "15914  \\nRenault\\n  [\\n, Espace, \\n]        [\\n10988301\\n]                NaN   \n",
              "15915  \\nRenault\\n  [\\n, Espace, \\n]     [\\n507370_3223\\n]     [\\n, 2019, \\n]   \n",
              "15916  \\nRenault\\n  [\\n, Espace, \\n]        [\\nEspace16\\n]     [\\n, 2019, \\n]   \n",
              "15917  \\nRenault\\n  [\\n, Espace, \\n]         [\\n2691331\\n]     [\\n, 2019, \\n]   \n",
              "15918  \\nRenault\\n  [\\n, Espace, \\n]  [\\nRe_30000008029\\n]     [\\n, 2019, \\n]   \n",
              "\n",
              "            Body Color      Paint Type           Body Color Original  \\\n",
              "0      [\\n, Black, \\n]  [\\nMetallic\\n]           [\\nMythosschwarz\\n]   \n",
              "1        [\\n, Red, \\n]             NaN                           NaN   \n",
              "2      [\\n, Black, \\n]  [\\nMetallic\\n]  [\\nmythosschwarz metallic\\n]   \n",
              "3      [\\n, Brown, \\n]  [\\nMetallic\\n]                           NaN   \n",
              "4      [\\n, Black, \\n]  [\\nMetallic\\n]  [\\nMythosschwarz Metallic\\n]   \n",
              "...                ...             ...                           ...   \n",
              "15914   [\\n, Grey, \\n]  [\\nMetallic\\n]            [\\nGrigio scuro\\n]   \n",
              "15915   [\\n, Grey, \\n]  [\\nMetallic\\n]     [\\nStahl-Grau Metallic\\n]   \n",
              "15916  [\\n, White, \\n]             NaN             [\\narktis-weiß\\n]   \n",
              "15917   [\\n, Grey, \\n]             NaN                  [\\nGrigio\\n]   \n",
              "15918   [\\n, Grey, \\n]  [\\nMetallic\\n]  [\\nTitanium-Grau Metallic\\n]   \n",
              "\n",
              "                      Upholstery              Body Nr. of Doors Nr. of Seats  \\\n",
              "0             [\\nCloth, Black\\n]  [\\n, Sedans, \\n]      [\\n5\\n]      [\\n5\\n]   \n",
              "1              [\\nCloth, Grey\\n]  [\\n, Sedans, \\n]      [\\n3\\n]      [\\n4\\n]   \n",
              "2             [\\nCloth, Black\\n]  [\\n, Sedans, \\n]      [\\n4\\n]      [\\n4\\n]   \n",
              "3                            NaN  [\\n, Sedans, \\n]      [\\n3\\n]      [\\n4\\n]   \n",
              "4             [\\nCloth, Black\\n]  [\\n, Sedans, \\n]      [\\n5\\n]      [\\n5\\n]   \n",
              "...                          ...               ...          ...          ...   \n",
              "15914                        NaN     [\\n, Van, \\n]      [\\n5\\n]      [\\n5\\n]   \n",
              "15915                [\\nCloth\\n]     [\\n, Van, \\n]      [\\n5\\n]      [\\n5\\n]   \n",
              "15916  [\\nFull leather, Black\\n]     [\\n, Van, \\n]      [\\n5\\n]      [\\n7\\n]   \n",
              "15917         [\\nPart leather\\n]     [\\n, Van, \\n]      [\\n5\\n]      [\\n7\\n]   \n",
              "15918  [\\nFull leather, Brown\\n]     [\\n, Van, \\n]      [\\n5\\n]      [\\n5\\n]   \n",
              "\n",
              "           Model Code         Gearing Type    Displacement Cylinders  \\\n",
              "0      [\\n0588/BDF\\n]  [\\n, Automatic, \\n]  [\\n1,422 cc\\n]   [\\n3\\n]   \n",
              "1      [\\n0588/BCY\\n]  [\\n, Automatic, \\n]  [\\n1,798 cc\\n]   [\\n4\\n]   \n",
              "2                 NaN  [\\n, Automatic, \\n]  [\\n1,598 cc\\n]       NaN   \n",
              "3                 NaN  [\\n, Automatic, \\n]  [\\n1,422 cc\\n]   [\\n3\\n]   \n",
              "4      [\\n0588/BDF\\n]  [\\n, Automatic, \\n]  [\\n1,422 cc\\n]   [\\n3\\n]   \n",
              "...               ...                  ...             ...       ...   \n",
              "15914             NaN  [\\n, Automatic, \\n]  [\\n1,997 cc\\n]   [\\n4\\n]   \n",
              "15915  [\\n0000/000\\n]  [\\n, Automatic, \\n]  [\\n1,798 cc\\n]   [\\n4\\n]   \n",
              "15916             NaN  [\\n, Automatic, \\n]  [\\n1,997 cc\\n]   [\\n4\\n]   \n",
              "15917             NaN  [\\n, Automatic, \\n]  [\\n1,997 cc\\n]   [\\n4\\n]   \n",
              "15918  [\\n3333/BHJ\\n]  [\\n, Automatic, \\n]  [\\n1,798 cc\\n]   [\\n4\\n]   \n",
              "\n",
              "               Weight  Drive chain  \\\n",
              "0      [\\n1,220 kg\\n]  [\\nfront\\n]   \n",
              "1      [\\n1,255 kg\\n]  [\\nfront\\n]   \n",
              "2                 NaN  [\\nfront\\n]   \n",
              "3      [\\n1,195 kg\\n]          NaN   \n",
              "4                 NaN  [\\nfront\\n]   \n",
              "...               ...          ...   \n",
              "15914  [\\n1,758 kg\\n]  [\\nfront\\n]   \n",
              "15915  [\\n1,708 kg\\n]  [\\nfront\\n]   \n",
              "15916             NaN  [\\nfront\\n]   \n",
              "15917  [\\n1,758 kg\\n]  [\\nfront\\n]   \n",
              "15918  [\\n1,685 kg\\n]    [\\n4WD\\n]   \n",
              "\n",
              "                                                    Fuel  \\\n",
              "0                  [\\n, Diesel (Particulate Filter), \\n]   \n",
              "1                                     [\\n, Gasoline, \\n]   \n",
              "2                  [\\n, Diesel (Particulate Filter), \\n]   \n",
              "3                  [\\n, Diesel (Particulate Filter), \\n]   \n",
              "4                  [\\n, Diesel (Particulate Filter), \\n]   \n",
              "...                                                  ...   \n",
              "15914              [\\n, Diesel (Particulate Filter), \\n]   \n",
              "15915  [\\n, Super 95 / Super Plus 98 (Particulate Fil...   \n",
              "15916                                   [\\n, Diesel, \\n]   \n",
              "15917                                   [\\n, Diesel, \\n]   \n",
              "15918                                 [\\n, Super 95, \\n]   \n",
              "\n",
              "                                             Consumption  \\\n",
              "0      [[3.8 l/100 km (comb)], [4.3 l/100 km (city)],...   \n",
              "1      [[5.6 l/100 km (comb)], [7.1 l/100 km (city)],...   \n",
              "2      [[3.8 l/100 km (comb)], [4.4 l/100 km (city)],...   \n",
              "3      [[3.8 l/100 km (comb)], [4.3 l/100 km (city)],...   \n",
              "4      [[4.1 l/100 km (comb)], [4.6 l/100 km (city)],...   \n",
              "...                                                  ...   \n",
              "15914  [[5.3 l/100 km (comb)], [6.2 l/100 km (city)],...   \n",
              "15915  [\\n, 7.4 l/100 km (comb), \\n, 9.2 l/100 km (ci...   \n",
              "15916  [[5.3 l/100 km (comb)], [6.2 l/100 km (city)],...   \n",
              "15917  [[5.3 l/100 km (comb)], [6.2 l/100 km (city)],...   \n",
              "15918  [[6.8 l/100 km (comb)], [8.7 l/100 km (city)],...   \n",
              "\n",
              "                    CO2 Emission      Emission Class  \\\n",
              "0       [\\n99 g CO2/km (comb)\\n]        [\\nEuro 6\\n]   \n",
              "1      [\\n129 g CO2/km (comb)\\n]        [\\nEuro 6\\n]   \n",
              "2       [\\n99 g CO2/km (comb)\\n]        [\\nEuro 6\\n]   \n",
              "3       [\\n99 g CO2/km (comb)\\n]        [\\nEuro 6\\n]   \n",
              "4      [\\n109 g CO2/km (comb)\\n]        [\\nEuro 6\\n]   \n",
              "...                          ...                 ...   \n",
              "15914  [\\n139 g CO2/km (comb)\\n]                 NaN   \n",
              "15915  [\\n168 g CO2/km (comb)\\n]                 NaN   \n",
              "15916  [\\n139 g CO2/km (comb)\\n]  [\\nEuro 6d-TEMP\\n]   \n",
              "15917  [\\n139 g CO2/km (comb)\\n]        [\\nEuro 6\\n]   \n",
              "15918  [\\n153 g CO2/km (comb)\\n]        [\\nEuro 6\\n]   \n",
              "\n",
              "                               \\nComfort & Convenience\\n  \\\n",
              "0      [Air conditioning, Armrest, Automatic climate ...   \n",
              "1      [Air conditioning, Automatic climate control, ...   \n",
              "2      [Air conditioning, Cruise control, Electrical ...   \n",
              "3      [Air suspension, Armrest, Auxiliary heating, E...   \n",
              "4      [Air conditioning, Armrest, Automatic climate ...   \n",
              "...                                                  ...   \n",
              "15914  [Air conditioning, Automatic climate control, ...   \n",
              "15915  [Air conditioning, Automatic climate control, ...   \n",
              "15916  [Air conditioning, Armrest, Automatic climate ...   \n",
              "15917  [Air conditioning, Automatic climate control, ...   \n",
              "15918  [Air conditioning, Automatic climate control, ...   \n",
              "\n",
              "                               \\nEntertainment & Media\\n  \\\n",
              "0      [Bluetooth, Hands-free equipment, On-board com...   \n",
              "1      [Bluetooth, Hands-free equipment, On-board com...   \n",
              "2                               [MP3, On-board computer]   \n",
              "3      [Bluetooth, CD player, Hands-free equipment, M...   \n",
              "4      [Bluetooth, CD player, Hands-free equipment, M...   \n",
              "...                                                  ...   \n",
              "15914  [Bluetooth, Digital radio, Hands-free equipmen...   \n",
              "15915  [Bluetooth, Digital radio, Hands-free equipmen...   \n",
              "15916  [Bluetooth, Hands-free equipment, On-board com...   \n",
              "15917             [Bluetooth, Digital radio, Radio, USB]   \n",
              "15918                                              [USB]   \n",
              "\n",
              "                                              \\nExtras\\n  \\\n",
              "0      [Alloy wheels, Catalytic Converter, Voice Cont...   \n",
              "1      [Alloy wheels, Sport seats, Sport suspension, ...   \n",
              "2                          [Alloy wheels, Voice Control]   \n",
              "3             [Alloy wheels, Sport seats, Voice Control]   \n",
              "4      [Alloy wheels, Sport package, Sport suspension...   \n",
              "...                                                  ...   \n",
              "15914                       [Alloy wheels, Touch screen]   \n",
              "15915        [Alloy wheels, Touch screen, Voice Control]   \n",
              "15916                                     [Alloy wheels]   \n",
              "15917                       [Alloy wheels, Touch screen]   \n",
              "15918                       [Alloy wheels, Touch screen]   \n",
              "\n",
              "                                   \\nSafety & Security\\n  \\\n",
              "0      [ABS, Central door lock, Daytime running light...   \n",
              "1      [ABS, Central door lock, Central door lock wit...   \n",
              "2      [ABS, Central door lock, Daytime running light...   \n",
              "3      [ABS, Alarm system, Central door lock with rem...   \n",
              "4      [ABS, Central door lock, Driver-side airbag, E...   \n",
              "...                                                  ...   \n",
              "15914  [ABS, Central door lock, Central door lock wit...   \n",
              "15915  [ABS, Adaptive Cruise Control, Blind spot moni...   \n",
              "15916  [ABS, Adaptive Cruise Control, Blind spot moni...   \n",
              "15917  [ABS, Blind spot monitor, Driver-side airbag, ...   \n",
              "15918  [ABS, Blind spot monitor, Daytime running ligh...   \n",
              "\n",
              "                                             description   Emission Label  \\\n",
              "0      [\\n, Sicherheit:,  , Deaktivierung für Beifahr...              NaN   \n",
              "1      [\\nLangstreckenfahrzeug daher die hohe Kilomet...  [\\n4 (Green)\\n]   \n",
              "2      [\\n, Fahrzeug-Nummer: AM-95365,  , Ehem. UPE 2...  [\\n4 (Green)\\n]   \n",
              "3      [\\nAudi A1: , - 1e eigenaar , - Perfecte staat...              NaN   \n",
              "4      [\\n, Technik & Sicherheit:, Xenon plus, Klimaa...              NaN   \n",
              "...                                                  ...              ...   \n",
              "15914  [\\nVettura visionabile nella sede in Via Roma ...              NaN   \n",
              "15915  [\\nDach: Panorama-Glas-Schiebedach, Lackierung...              NaN   \n",
              "15916  [\\n, Getriebe:,  Automatik, Technik:,  Bordcom...              NaN   \n",
              "15917  [\\nDEK:[2691331], Renault Espace Blue dCi 200C...              NaN   \n",
              "15918  [\\n, Sicherheit Airbags:,  , Seitenairbag,  , ...  [\\n4 (Green)\\n]   \n",
              "\n",
              "      Gears Country version  \n",
              "0       NaN             NaN  \n",
              "1         7             NaN  \n",
              "2       NaN             NaN  \n",
              "3         6             NaN  \n",
              "4       NaN   [\\nGermany\\n]  \n",
              "...     ...             ...  \n",
              "15914     6             NaN  \n",
              "15915     7   [\\nGermany\\n]  \n",
              "15916     6   [\\nAustria\\n]  \n",
              "15917     6             NaN  \n",
              "15918   NaN   [\\nGermany\\n]  \n",
              "\n",
              "[15919 rows x 48 columns]"
            ],
            "text/html": [
              "\n",
              "  <div id=\"df-fa2ddaa8-90f7-4f3f-b33c-6bd5c567cf09\">\n",
              "    <div class=\"colab-df-container\">\n",
              "      <div>\n",
              "<style scoped>\n",
              "    .dataframe tbody tr th:only-of-type {\n",
              "        vertical-align: middle;\n",
              "    }\n",
              "\n",
              "    .dataframe tbody tr th {\n",
              "        vertical-align: top;\n",
              "    }\n",
              "\n",
              "    .dataframe thead th {\n",
              "        text-align: right;\n",
              "    }\n",
              "</style>\n",
              "<table border=\"1\" class=\"dataframe\">\n",
              "  <thead>\n",
              "    <tr style=\"text-align: right;\">\n",
              "      <th></th>\n",
              "      <th>url</th>\n",
              "      <th>make_model</th>\n",
              "      <th>short_description</th>\n",
              "      <th>body_type</th>\n",
              "      <th>price</th>\n",
              "      <th>vat</th>\n",
              "      <th>km</th>\n",
              "      <th>registration</th>\n",
              "      <th>prev_owner</th>\n",
              "      <th>kW</th>\n",
              "      <th>hp</th>\n",
              "      <th>Type</th>\n",
              "      <th>Previous Owners</th>\n",
              "      <th>Next Inspection</th>\n",
              "      <th>Inspection new</th>\n",
              "      <th>Warranty</th>\n",
              "      <th>Full Service</th>\n",
              "      <th>Non-smoking Vehicle</th>\n",
              "      <th>null</th>\n",
              "      <th>Make</th>\n",
              "      <th>Model</th>\n",
              "      <th>Offer Number</th>\n",
              "      <th>First Registration</th>\n",
              "      <th>Body Color</th>\n",
              "      <th>Paint Type</th>\n",
              "      <th>Body Color Original</th>\n",
              "      <th>Upholstery</th>\n",
              "      <th>Body</th>\n",
              "      <th>Nr. of Doors</th>\n",
              "      <th>Nr. of Seats</th>\n",
              "      <th>Model Code</th>\n",
              "      <th>Gearing Type</th>\n",
              "      <th>Displacement</th>\n",
              "      <th>Cylinders</th>\n",
              "      <th>Weight</th>\n",
              "      <th>Drive chain</th>\n",
              "      <th>Fuel</th>\n",
              "      <th>Consumption</th>\n",
              "      <th>CO2 Emission</th>\n",
              "      <th>Emission Class</th>\n",
              "      <th>\\nComfort &amp; Convenience\\n</th>\n",
              "      <th>\\nEntertainment &amp; Media\\n</th>\n",
              "      <th>\\nExtras\\n</th>\n",
              "      <th>\\nSafety &amp; Security\\n</th>\n",
              "      <th>description</th>\n",
              "      <th>Emission Label</th>\n",
              "      <th>Gears</th>\n",
              "      <th>Country version</th>\n",
              "    </tr>\n",
              "  </thead>\n",
              "  <tbody>\n",
              "    <tr>\n",
              "      <th>0</th>\n",
              "      <td>https://www.autoscout24.com//offers/audi-a1-sp...</td>\n",
              "      <td>Audi A1</td>\n",
              "      <td>Sportback 1.4 TDI S-tronic Xenon Navi Klima</td>\n",
              "      <td>Sedans</td>\n",
              "      <td>15770</td>\n",
              "      <td>VAT deductible</td>\n",
              "      <td>56,013 km</td>\n",
              "      <td>01/2016</td>\n",
              "      <td>2 previous owners</td>\n",
              "      <td>NaN</td>\n",
              "      <td>66 kW</td>\n",
              "      <td>[, Used, , Diesel (Particulate Filter)]</td>\n",
              "      <td>\\n2\\n</td>\n",
              "      <td>[\\n06/2021\\n, \\n99 g CO2/km (comb)\\n]</td>\n",
              "      <td>[\\nYes\\n, \\nEuro 6\\n]</td>\n",
              "      <td>[\\n, \\n, \\n4 (Green)\\n]</td>\n",
              "      <td>[\\n, \\n]</td>\n",
              "      <td>[\\n, \\n]</td>\n",
              "      <td>[]</td>\n",
              "      <td>\\nAudi\\n</td>\n",
              "      <td>[\\n, A1, \\n]</td>\n",
              "      <td>[\\nLR-062483\\n]</td>\n",
              "      <td>[\\n, 2016, \\n]</td>\n",
              "      <td>[\\n, Black, \\n]</td>\n",
              "      <td>[\\nMetallic\\n]</td>\n",
              "      <td>[\\nMythosschwarz\\n]</td>\n",
              "      <td>[\\nCloth, Black\\n]</td>\n",
              "      <td>[\\n, Sedans, \\n]</td>\n",
              "      <td>[\\n5\\n]</td>\n",
              "      <td>[\\n5\\n]</td>\n",
              "      <td>[\\n0588/BDF\\n]</td>\n",
              "      <td>[\\n, Automatic, \\n]</td>\n",
              "      <td>[\\n1,422 cc\\n]</td>\n",
              "      <td>[\\n3\\n]</td>\n",
              "      <td>[\\n1,220 kg\\n]</td>\n",
              "      <td>[\\nfront\\n]</td>\n",
              "      <td>[\\n, Diesel (Particulate Filter), \\n]</td>\n",
              "      <td>[[3.8 l/100 km (comb)], [4.3 l/100 km (city)],...</td>\n",
              "      <td>[\\n99 g CO2/km (comb)\\n]</td>\n",
              "      <td>[\\nEuro 6\\n]</td>\n",
              "      <td>[Air conditioning, Armrest, Automatic climate ...</td>\n",
              "      <td>[Bluetooth, Hands-free equipment, On-board com...</td>\n",
              "      <td>[Alloy wheels, Catalytic Converter, Voice Cont...</td>\n",
              "      <td>[ABS, Central door lock, Daytime running light...</td>\n",
              "      <td>[\\n, Sicherheit:,  , Deaktivierung für Beifahr...</td>\n",
              "      <td>NaN</td>\n",
              "      <td>NaN</td>\n",
              "      <td>NaN</td>\n",
              "    </tr>\n",
              "    <tr>\n",
              "      <th>1</th>\n",
              "      <td>https://www.autoscout24.com//offers/audi-a1-1-...</td>\n",
              "      <td>Audi A1</td>\n",
              "      <td>1.8 TFSI sport</td>\n",
              "      <td>Sedans</td>\n",
              "      <td>14500</td>\n",
              "      <td>Price negotiable</td>\n",
              "      <td>80,000 km</td>\n",
              "      <td>03/2017</td>\n",
              "      <td>None</td>\n",
              "      <td>NaN</td>\n",
              "      <td>141 kW</td>\n",
              "      <td>[, Used, , Gasoline]</td>\n",
              "      <td>NaN</td>\n",
              "      <td>NaN</td>\n",
              "      <td>NaN</td>\n",
              "      <td>NaN</td>\n",
              "      <td>NaN</td>\n",
              "      <td>NaN</td>\n",
              "      <td>[]</td>\n",
              "      <td>\\nAudi\\n</td>\n",
              "      <td>[\\n, A1, \\n]</td>\n",
              "      <td>NaN</td>\n",
              "      <td>[\\n, 2017, \\n]</td>\n",
              "      <td>[\\n, Red, \\n]</td>\n",
              "      <td>NaN</td>\n",
              "      <td>NaN</td>\n",
              "      <td>[\\nCloth, Grey\\n]</td>\n",
              "      <td>[\\n, Sedans, \\n]</td>\n",
              "      <td>[\\n3\\n]</td>\n",
              "      <td>[\\n4\\n]</td>\n",
              "      <td>[\\n0588/BCY\\n]</td>\n",
              "      <td>[\\n, Automatic, \\n]</td>\n",
              "      <td>[\\n1,798 cc\\n]</td>\n",
              "      <td>[\\n4\\n]</td>\n",
              "      <td>[\\n1,255 kg\\n]</td>\n",
              "      <td>[\\nfront\\n]</td>\n",
              "      <td>[\\n, Gasoline, \\n]</td>\n",
              "      <td>[[5.6 l/100 km (comb)], [7.1 l/100 km (city)],...</td>\n",
              "      <td>[\\n129 g CO2/km (comb)\\n]</td>\n",
              "      <td>[\\nEuro 6\\n]</td>\n",
              "      <td>[Air conditioning, Automatic climate control, ...</td>\n",
              "      <td>[Bluetooth, Hands-free equipment, On-board com...</td>\n",
              "      <td>[Alloy wheels, Sport seats, Sport suspension, ...</td>\n",
              "      <td>[ABS, Central door lock, Central door lock wit...</td>\n",
              "      <td>[\\nLangstreckenfahrzeug daher die hohe Kilomet...</td>\n",
              "      <td>[\\n4 (Green)\\n]</td>\n",
              "      <td>7</td>\n",
              "      <td>NaN</td>\n",
              "    </tr>\n",
              "    <tr>\n",
              "      <th>2</th>\n",
              "      <td>https://www.autoscout24.com//offers/audi-a1-sp...</td>\n",
              "      <td>Audi A1</td>\n",
              "      <td>Sportback 1.6 TDI S tronic Einparkhilfe plus+m...</td>\n",
              "      <td>Sedans</td>\n",
              "      <td>14640</td>\n",
              "      <td>VAT deductible</td>\n",
              "      <td>83,450 km</td>\n",
              "      <td>02/2016</td>\n",
              "      <td>1 previous owner</td>\n",
              "      <td>NaN</td>\n",
              "      <td>85 kW</td>\n",
              "      <td>[, Used, , Diesel (Particulate Filter)]</td>\n",
              "      <td>\\n1\\n</td>\n",
              "      <td>NaN</td>\n",
              "      <td>NaN</td>\n",
              "      <td>[\\n, \\n, \\n99 g CO2/km (comb)\\n]</td>\n",
              "      <td>NaN</td>\n",
              "      <td>NaN</td>\n",
              "      <td>[]</td>\n",
              "      <td>\\nAudi\\n</td>\n",
              "      <td>[\\n, A1, \\n]</td>\n",
              "      <td>[\\nAM-95365\\n]</td>\n",
              "      <td>[\\n, 2016, \\n]</td>\n",
              "      <td>[\\n, Black, \\n]</td>\n",
              "      <td>[\\nMetallic\\n]</td>\n",
              "      <td>[\\nmythosschwarz metallic\\n]</td>\n",
              "      <td>[\\nCloth, Black\\n]</td>\n",
              "      <td>[\\n, Sedans, \\n]</td>\n",
              "      <td>[\\n4\\n]</td>\n",
              "      <td>[\\n4\\n]</td>\n",
              "      <td>NaN</td>\n",
              "      <td>[\\n, Automatic, \\n]</td>\n",
              "      <td>[\\n1,598 cc\\n]</td>\n",
              "      <td>NaN</td>\n",
              "      <td>NaN</td>\n",
              "      <td>[\\nfront\\n]</td>\n",
              "      <td>[\\n, Diesel (Particulate Filter), \\n]</td>\n",
              "      <td>[[3.8 l/100 km (comb)], [4.4 l/100 km (city)],...</td>\n",
              "      <td>[\\n99 g CO2/km (comb)\\n]</td>\n",
              "      <td>[\\nEuro 6\\n]</td>\n",
              "      <td>[Air conditioning, Cruise control, Electrical ...</td>\n",
              "      <td>[MP3, On-board computer]</td>\n",
              "      <td>[Alloy wheels, Voice Control]</td>\n",
              "      <td>[ABS, Central door lock, Daytime running light...</td>\n",
              "      <td>[\\n, Fahrzeug-Nummer: AM-95365,  , Ehem. UPE 2...</td>\n",
              "      <td>[\\n4 (Green)\\n]</td>\n",
              "      <td>NaN</td>\n",
              "      <td>NaN</td>\n",
              "    </tr>\n",
              "    <tr>\n",
              "      <th>3</th>\n",
              "      <td>https://www.autoscout24.com//offers/audi-a1-1-...</td>\n",
              "      <td>Audi A1</td>\n",
              "      <td>1.4 TDi Design S tronic</td>\n",
              "      <td>Sedans</td>\n",
              "      <td>14500</td>\n",
              "      <td>None</td>\n",
              "      <td>73,000 km</td>\n",
              "      <td>08/2016</td>\n",
              "      <td>1 previous owner</td>\n",
              "      <td>NaN</td>\n",
              "      <td>66 kW</td>\n",
              "      <td>[, Used, , Diesel (Particulate Filter)]</td>\n",
              "      <td>\\n1\\n</td>\n",
              "      <td>NaN</td>\n",
              "      <td>NaN</td>\n",
              "      <td>NaN</td>\n",
              "      <td>[\\n, \\n, \\n99 g CO2/km (comb)\\n]</td>\n",
              "      <td>[\\n, \\n, \\nEuro 6\\n]</td>\n",
              "      <td>[]</td>\n",
              "      <td>\\nAudi\\n</td>\n",
              "      <td>[\\n, A1, \\n]</td>\n",
              "      <td>NaN</td>\n",
              "      <td>[\\n, 2016, \\n]</td>\n",
              "      <td>[\\n, Brown, \\n]</td>\n",
              "      <td>[\\nMetallic\\n]</td>\n",
              "      <td>NaN</td>\n",
              "      <td>NaN</td>\n",
              "      <td>[\\n, Sedans, \\n]</td>\n",
              "      <td>[\\n3\\n]</td>\n",
              "      <td>[\\n4\\n]</td>\n",
              "      <td>NaN</td>\n",
              "      <td>[\\n, Automatic, \\n]</td>\n",
              "      <td>[\\n1,422 cc\\n]</td>\n",
              "      <td>[\\n3\\n]</td>\n",
              "      <td>[\\n1,195 kg\\n]</td>\n",
              "      <td>NaN</td>\n",
              "      <td>[\\n, Diesel (Particulate Filter), \\n]</td>\n",
              "      <td>[[3.8 l/100 km (comb)], [4.3 l/100 km (city)],...</td>\n",
              "      <td>[\\n99 g CO2/km (comb)\\n]</td>\n",
              "      <td>[\\nEuro 6\\n]</td>\n",
              "      <td>[Air suspension, Armrest, Auxiliary heating, E...</td>\n",
              "      <td>[Bluetooth, CD player, Hands-free equipment, M...</td>\n",
              "      <td>[Alloy wheels, Sport seats, Voice Control]</td>\n",
              "      <td>[ABS, Alarm system, Central door lock with rem...</td>\n",
              "      <td>[\\nAudi A1: , - 1e eigenaar , - Perfecte staat...</td>\n",
              "      <td>NaN</td>\n",
              "      <td>6</td>\n",
              "      <td>NaN</td>\n",
              "    </tr>\n",
              "    <tr>\n",
              "      <th>4</th>\n",
              "      <td>https://www.autoscout24.com//offers/audi-a1-sp...</td>\n",
              "      <td>Audi A1</td>\n",
              "      <td>Sportback 1.4 TDI S-Tronic S-Line Ext. admired...</td>\n",
              "      <td>Sedans</td>\n",
              "      <td>16790</td>\n",
              "      <td>None</td>\n",
              "      <td>16,200 km</td>\n",
              "      <td>05/2016</td>\n",
              "      <td>1 previous owner</td>\n",
              "      <td>NaN</td>\n",
              "      <td>66 kW</td>\n",
              "      <td>[, Used, , Diesel (Particulate Filter)]</td>\n",
              "      <td>\\n1\\n</td>\n",
              "      <td>NaN</td>\n",
              "      <td>[\\nYes\\n, \\n109 g CO2/km (comb)\\n]</td>\n",
              "      <td>[\\n, \\n, \\nEuro 6\\n]</td>\n",
              "      <td>[\\n, \\n, \\n4 (Green)\\n]</td>\n",
              "      <td>[\\n, \\n]</td>\n",
              "      <td>[]</td>\n",
              "      <td>\\nAudi\\n</td>\n",
              "      <td>[\\n, A1, \\n]</td>\n",
              "      <td>[\\nC1626\\n]</td>\n",
              "      <td>[\\n, 2016, \\n]</td>\n",
              "      <td>[\\n, Black, \\n]</td>\n",
              "      <td>[\\nMetallic\\n]</td>\n",
              "      <td>[\\nMythosschwarz Metallic\\n]</td>\n",
              "      <td>[\\nCloth, Black\\n]</td>\n",
              "      <td>[\\n, Sedans, \\n]</td>\n",
              "      <td>[\\n5\\n]</td>\n",
              "      <td>[\\n5\\n]</td>\n",
              "      <td>[\\n0588/BDF\\n]</td>\n",
              "      <td>[\\n, Automatic, \\n]</td>\n",
              "      <td>[\\n1,422 cc\\n]</td>\n",
              "      <td>[\\n3\\n]</td>\n",
              "      <td>NaN</td>\n",
              "      <td>[\\nfront\\n]</td>\n",
              "      <td>[\\n, Diesel (Particulate Filter), \\n]</td>\n",
              "      <td>[[4.1 l/100 km (comb)], [4.6 l/100 km (city)],...</td>\n",
              "      <td>[\\n109 g CO2/km (comb)\\n]</td>\n",
              "      <td>[\\nEuro 6\\n]</td>\n",
              "      <td>[Air conditioning, Armrest, Automatic climate ...</td>\n",
              "      <td>[Bluetooth, CD player, Hands-free equipment, M...</td>\n",
              "      <td>[Alloy wheels, Sport package, Sport suspension...</td>\n",
              "      <td>[ABS, Central door lock, Driver-side airbag, E...</td>\n",
              "      <td>[\\n, Technik &amp; Sicherheit:, Xenon plus, Klimaa...</td>\n",
              "      <td>NaN</td>\n",
              "      <td>NaN</td>\n",
              "      <td>[\\nGermany\\n]</td>\n",
              "    </tr>\n",
              "    <tr>\n",
              "      <th>...</th>\n",
              "      <td>...</td>\n",
              "      <td>...</td>\n",
              "      <td>...</td>\n",
              "      <td>...</td>\n",
              "      <td>...</td>\n",
              "      <td>...</td>\n",
              "      <td>...</td>\n",
              "      <td>...</td>\n",
              "      <td>...</td>\n",
              "      <td>...</td>\n",
              "      <td>...</td>\n",
              "      <td>...</td>\n",
              "      <td>...</td>\n",
              "      <td>...</td>\n",
              "      <td>...</td>\n",
              "      <td>...</td>\n",
              "      <td>...</td>\n",
              "      <td>...</td>\n",
              "      <td>...</td>\n",
              "      <td>...</td>\n",
              "      <td>...</td>\n",
              "      <td>...</td>\n",
              "      <td>...</td>\n",
              "      <td>...</td>\n",
              "      <td>...</td>\n",
              "      <td>...</td>\n",
              "      <td>...</td>\n",
              "      <td>...</td>\n",
              "      <td>...</td>\n",
              "      <td>...</td>\n",
              "      <td>...</td>\n",
              "      <td>...</td>\n",
              "      <td>...</td>\n",
              "      <td>...</td>\n",
              "      <td>...</td>\n",
              "      <td>...</td>\n",
              "      <td>...</td>\n",
              "      <td>...</td>\n",
              "      <td>...</td>\n",
              "      <td>...</td>\n",
              "      <td>...</td>\n",
              "      <td>...</td>\n",
              "      <td>...</td>\n",
              "      <td>...</td>\n",
              "      <td>...</td>\n",
              "      <td>...</td>\n",
              "      <td>...</td>\n",
              "      <td>...</td>\n",
              "    </tr>\n",
              "    <tr>\n",
              "      <th>15914</th>\n",
              "      <td>https://www.autoscout24.com//offers/renault-es...</td>\n",
              "      <td>Renault Espace</td>\n",
              "      <td>Blue dCi 200CV EDC Executive 4Control</td>\n",
              "      <td>Van</td>\n",
              "      <td>39950</td>\n",
              "      <td>VAT deductible</td>\n",
              "      <td>- km</td>\n",
              "      <td>-/-</td>\n",
              "      <td>None</td>\n",
              "      <td>NaN</td>\n",
              "      <td>147 kW</td>\n",
              "      <td>[, New, , Diesel (Particulate Filter)]</td>\n",
              "      <td>NaN</td>\n",
              "      <td>NaN</td>\n",
              "      <td>NaN</td>\n",
              "      <td>\\n24 months\\n</td>\n",
              "      <td>NaN</td>\n",
              "      <td>NaN</td>\n",
              "      <td>[]</td>\n",
              "      <td>\\nRenault\\n</td>\n",
              "      <td>[\\n, Espace, \\n]</td>\n",
              "      <td>[\\n10988301\\n]</td>\n",
              "      <td>NaN</td>\n",
              "      <td>[\\n, Grey, \\n]</td>\n",
              "      <td>[\\nMetallic\\n]</td>\n",
              "      <td>[\\nGrigio scuro\\n]</td>\n",
              "      <td>NaN</td>\n",
              "      <td>[\\n, Van, \\n]</td>\n",
              "      <td>[\\n5\\n]</td>\n",
              "      <td>[\\n5\\n]</td>\n",
              "      <td>NaN</td>\n",
              "      <td>[\\n, Automatic, \\n]</td>\n",
              "      <td>[\\n1,997 cc\\n]</td>\n",
              "      <td>[\\n4\\n]</td>\n",
              "      <td>[\\n1,758 kg\\n]</td>\n",
              "      <td>[\\nfront\\n]</td>\n",
              "      <td>[\\n, Diesel (Particulate Filter), \\n]</td>\n",
              "      <td>[[5.3 l/100 km (comb)], [6.2 l/100 km (city)],...</td>\n",
              "      <td>[\\n139 g CO2/km (comb)\\n]</td>\n",
              "      <td>NaN</td>\n",
              "      <td>[Air conditioning, Automatic climate control, ...</td>\n",
              "      <td>[Bluetooth, Digital radio, Hands-free equipmen...</td>\n",
              "      <td>[Alloy wheels, Touch screen]</td>\n",
              "      <td>[ABS, Central door lock, Central door lock wit...</td>\n",
              "      <td>[\\nVettura visionabile nella sede in Via Roma ...</td>\n",
              "      <td>NaN</td>\n",
              "      <td>6</td>\n",
              "      <td>NaN</td>\n",
              "    </tr>\n",
              "    <tr>\n",
              "      <th>15915</th>\n",
              "      <td>https://www.autoscout24.com//offers/renault-es...</td>\n",
              "      <td>Renault Espace</td>\n",
              "      <td>TCe 225 EDC GPF LIM Deluxe Pano,RFK</td>\n",
              "      <td>Van</td>\n",
              "      <td>39885</td>\n",
              "      <td>VAT deductible</td>\n",
              "      <td>9,900 km</td>\n",
              "      <td>01/2019</td>\n",
              "      <td>1 previous owner</td>\n",
              "      <td>NaN</td>\n",
              "      <td>165 kW</td>\n",
              "      <td>[, Used, , Super 95 / Super Plus 98 (Particula...</td>\n",
              "      <td>[\\n1\\n, \\n, 7.4 l/100 km (comb), \\n, 9.2 l/100...</td>\n",
              "      <td>[\\n01/2022\\n, \\n168 g CO2/km (comb)\\n]</td>\n",
              "      <td>NaN</td>\n",
              "      <td>[\\n, \\n, \\nEuro 6\\n]</td>\n",
              "      <td>NaN</td>\n",
              "      <td>[\\n, \\n, \\n4 (Green)\\n]</td>\n",
              "      <td>[]</td>\n",
              "      <td>\\nRenault\\n</td>\n",
              "      <td>[\\n, Espace, \\n]</td>\n",
              "      <td>[\\n507370_3223\\n]</td>\n",
              "      <td>[\\n, 2019, \\n]</td>\n",
              "      <td>[\\n, Grey, \\n]</td>\n",
              "      <td>[\\nMetallic\\n]</td>\n",
              "      <td>[\\nStahl-Grau Metallic\\n]</td>\n",
              "      <td>[\\nCloth\\n]</td>\n",
              "      <td>[\\n, Van, \\n]</td>\n",
              "      <td>[\\n5\\n]</td>\n",
              "      <td>[\\n5\\n]</td>\n",
              "      <td>[\\n0000/000\\n]</td>\n",
              "      <td>[\\n, Automatic, \\n]</td>\n",
              "      <td>[\\n1,798 cc\\n]</td>\n",
              "      <td>[\\n4\\n]</td>\n",
              "      <td>[\\n1,708 kg\\n]</td>\n",
              "      <td>[\\nfront\\n]</td>\n",
              "      <td>[\\n, Super 95 / Super Plus 98 (Particulate Fil...</td>\n",
              "      <td>[\\n, 7.4 l/100 km (comb), \\n, 9.2 l/100 km (ci...</td>\n",
              "      <td>[\\n168 g CO2/km (comb)\\n]</td>\n",
              "      <td>NaN</td>\n",
              "      <td>[Air conditioning, Automatic climate control, ...</td>\n",
              "      <td>[Bluetooth, Digital radio, Hands-free equipmen...</td>\n",
              "      <td>[Alloy wheels, Touch screen, Voice Control]</td>\n",
              "      <td>[ABS, Adaptive Cruise Control, Blind spot moni...</td>\n",
              "      <td>[\\nDach: Panorama-Glas-Schiebedach, Lackierung...</td>\n",
              "      <td>NaN</td>\n",
              "      <td>7</td>\n",
              "      <td>[\\nGermany\\n]</td>\n",
              "    </tr>\n",
              "    <tr>\n",
              "      <th>15916</th>\n",
              "      <td>https://www.autoscout24.com//offers/renault-es...</td>\n",
              "      <td>Renault Espace</td>\n",
              "      <td>Blue dCi 200 EDC Initiale Paris Leder LED Navi...</td>\n",
              "      <td>Van</td>\n",
              "      <td>39875</td>\n",
              "      <td>VAT deductible</td>\n",
              "      <td>15 km</td>\n",
              "      <td>03/2019</td>\n",
              "      <td>1 previous owner</td>\n",
              "      <td>NaN</td>\n",
              "      <td>146 kW</td>\n",
              "      <td>[, Pre-registered, , Diesel]</td>\n",
              "      <td>[\\n1\\n, \\n139 g CO2/km (comb)\\n]</td>\n",
              "      <td>NaN</td>\n",
              "      <td>[\\nYes\\n, \\nEuro 6d-TEMP\\n]</td>\n",
              "      <td>[\\n, \\n, \\n4 (Green)\\n]</td>\n",
              "      <td>[\\n, \\n]</td>\n",
              "      <td>[\\n, \\n]</td>\n",
              "      <td>[]</td>\n",
              "      <td>\\nRenault\\n</td>\n",
              "      <td>[\\n, Espace, \\n]</td>\n",
              "      <td>[\\nEspace16\\n]</td>\n",
              "      <td>[\\n, 2019, \\n]</td>\n",
              "      <td>[\\n, White, \\n]</td>\n",
              "      <td>NaN</td>\n",
              "      <td>[\\narktis-weiß\\n]</td>\n",
              "      <td>[\\nFull leather, Black\\n]</td>\n",
              "      <td>[\\n, Van, \\n]</td>\n",
              "      <td>[\\n5\\n]</td>\n",
              "      <td>[\\n7\\n]</td>\n",
              "      <td>NaN</td>\n",
              "      <td>[\\n, Automatic, \\n]</td>\n",
              "      <td>[\\n1,997 cc\\n]</td>\n",
              "      <td>[\\n4\\n]</td>\n",
              "      <td>NaN</td>\n",
              "      <td>[\\nfront\\n]</td>\n",
              "      <td>[\\n, Diesel, \\n]</td>\n",
              "      <td>[[5.3 l/100 km (comb)], [6.2 l/100 km (city)],...</td>\n",
              "      <td>[\\n139 g CO2/km (comb)\\n]</td>\n",
              "      <td>[\\nEuro 6d-TEMP\\n]</td>\n",
              "      <td>[Air conditioning, Armrest, Automatic climate ...</td>\n",
              "      <td>[Bluetooth, Hands-free equipment, On-board com...</td>\n",
              "      <td>[Alloy wheels]</td>\n",
              "      <td>[ABS, Adaptive Cruise Control, Blind spot moni...</td>\n",
              "      <td>[\\n, Getriebe:,  Automatik, Technik:,  Bordcom...</td>\n",
              "      <td>NaN</td>\n",
              "      <td>6</td>\n",
              "      <td>[\\nAustria\\n]</td>\n",
              "    </tr>\n",
              "    <tr>\n",
              "      <th>15917</th>\n",
              "      <td>https://www.autoscout24.com//offers/renault-es...</td>\n",
              "      <td>Renault Espace</td>\n",
              "      <td>Blue dCi 200CV EDC Business , NUOVA DA IMMATRI...</td>\n",
              "      <td>Van</td>\n",
              "      <td>39700</td>\n",
              "      <td>VAT deductible</td>\n",
              "      <td>10 km</td>\n",
              "      <td>06/2019</td>\n",
              "      <td>None</td>\n",
              "      <td>NaN</td>\n",
              "      <td>147 kW</td>\n",
              "      <td>[, Pre-registered, , Diesel]</td>\n",
              "      <td>NaN</td>\n",
              "      <td>NaN</td>\n",
              "      <td>NaN</td>\n",
              "      <td>\\n</td>\n",
              "      <td>NaN</td>\n",
              "      <td>NaN</td>\n",
              "      <td>[]</td>\n",
              "      <td>\\nRenault\\n</td>\n",
              "      <td>[\\n, Espace, \\n]</td>\n",
              "      <td>[\\n2691331\\n]</td>\n",
              "      <td>[\\n, 2019, \\n]</td>\n",
              "      <td>[\\n, Grey, \\n]</td>\n",
              "      <td>NaN</td>\n",
              "      <td>[\\nGrigio\\n]</td>\n",
              "      <td>[\\nPart leather\\n]</td>\n",
              "      <td>[\\n, Van, \\n]</td>\n",
              "      <td>[\\n5\\n]</td>\n",
              "      <td>[\\n7\\n]</td>\n",
              "      <td>NaN</td>\n",
              "      <td>[\\n, Automatic, \\n]</td>\n",
              "      <td>[\\n1,997 cc\\n]</td>\n",
              "      <td>[\\n4\\n]</td>\n",
              "      <td>[\\n1,758 kg\\n]</td>\n",
              "      <td>[\\nfront\\n]</td>\n",
              "      <td>[\\n, Diesel, \\n]</td>\n",
              "      <td>[[5.3 l/100 km (comb)], [6.2 l/100 km (city)],...</td>\n",
              "      <td>[\\n139 g CO2/km (comb)\\n]</td>\n",
              "      <td>[\\nEuro 6\\n]</td>\n",
              "      <td>[Air conditioning, Automatic climate control, ...</td>\n",
              "      <td>[Bluetooth, Digital radio, Radio, USB]</td>\n",
              "      <td>[Alloy wheels, Touch screen]</td>\n",
              "      <td>[ABS, Blind spot monitor, Driver-side airbag, ...</td>\n",
              "      <td>[\\nDEK:[2691331], Renault Espace Blue dCi 200C...</td>\n",
              "      <td>NaN</td>\n",
              "      <td>6</td>\n",
              "      <td>NaN</td>\n",
              "    </tr>\n",
              "    <tr>\n",
              "      <th>15918</th>\n",
              "      <td>https://www.autoscout24.com//offers/renault-es...</td>\n",
              "      <td>Renault Espace</td>\n",
              "      <td>INITIALE PARIS TCe 225 EDC GPF NAVI SHZ AUX</td>\n",
              "      <td>Van</td>\n",
              "      <td>40999</td>\n",
              "      <td>VAT deductible</td>\n",
              "      <td>- km</td>\n",
              "      <td>01/2019</td>\n",
              "      <td>1 previous owner</td>\n",
              "      <td>NaN</td>\n",
              "      <td>165 kW</td>\n",
              "      <td>[, Demonstration, , Super 95]</td>\n",
              "      <td>\\n1\\n</td>\n",
              "      <td>NaN</td>\n",
              "      <td>[\\nYes\\n, \\n153 g CO2/km (comb)\\n]</td>\n",
              "      <td>NaN</td>\n",
              "      <td>NaN</td>\n",
              "      <td>NaN</td>\n",
              "      <td>[]</td>\n",
              "      <td>\\nRenault\\n</td>\n",
              "      <td>[\\n, Espace, \\n]</td>\n",
              "      <td>[\\nRe_30000008029\\n]</td>\n",
              "      <td>[\\n, 2019, \\n]</td>\n",
              "      <td>[\\n, Grey, \\n]</td>\n",
              "      <td>[\\nMetallic\\n]</td>\n",
              "      <td>[\\nTitanium-Grau Metallic\\n]</td>\n",
              "      <td>[\\nFull leather, Brown\\n]</td>\n",
              "      <td>[\\n, Van, \\n]</td>\n",
              "      <td>[\\n5\\n]</td>\n",
              "      <td>[\\n5\\n]</td>\n",
              "      <td>[\\n3333/BHJ\\n]</td>\n",
              "      <td>[\\n, Automatic, \\n]</td>\n",
              "      <td>[\\n1,798 cc\\n]</td>\n",
              "      <td>[\\n4\\n]</td>\n",
              "      <td>[\\n1,685 kg\\n]</td>\n",
              "      <td>[\\n4WD\\n]</td>\n",
              "      <td>[\\n, Super 95, \\n]</td>\n",
              "      <td>[[6.8 l/100 km (comb)], [8.7 l/100 km (city)],...</td>\n",
              "      <td>[\\n153 g CO2/km (comb)\\n]</td>\n",
              "      <td>[\\nEuro 6\\n]</td>\n",
              "      <td>[Air conditioning, Automatic climate control, ...</td>\n",
              "      <td>[USB]</td>\n",
              "      <td>[Alloy wheels, Touch screen]</td>\n",
              "      <td>[ABS, Blind spot monitor, Daytime running ligh...</td>\n",
              "      <td>[\\n, Sicherheit Airbags:,  , Seitenairbag,  , ...</td>\n",
              "      <td>[\\n4 (Green)\\n]</td>\n",
              "      <td>NaN</td>\n",
              "      <td>[\\nGermany\\n]</td>\n",
              "    </tr>\n",
              "  </tbody>\n",
              "</table>\n",
              "<p>15919 rows × 48 columns</p>\n",
              "</div>\n",
              "      <button class=\"colab-df-convert\" onclick=\"convertToInteractive('df-fa2ddaa8-90f7-4f3f-b33c-6bd5c567cf09')\"\n",
              "              title=\"Convert this dataframe to an interactive table.\"\n",
              "              style=\"display:none;\">\n",
              "        \n",
              "  <svg xmlns=\"http://www.w3.org/2000/svg\" height=\"24px\"viewBox=\"0 0 24 24\"\n",
              "       width=\"24px\">\n",
              "    <path d=\"M0 0h24v24H0V0z\" fill=\"none\"/>\n",
              "    <path d=\"M18.56 5.44l.94 2.06.94-2.06 2.06-.94-2.06-.94-.94-2.06-.94 2.06-2.06.94zm-11 1L8.5 8.5l.94-2.06 2.06-.94-2.06-.94L8.5 2.5l-.94 2.06-2.06.94zm10 10l.94 2.06.94-2.06 2.06-.94-2.06-.94-.94-2.06-.94 2.06-2.06.94z\"/><path d=\"M17.41 7.96l-1.37-1.37c-.4-.4-.92-.59-1.43-.59-.52 0-1.04.2-1.43.59L10.3 9.45l-7.72 7.72c-.78.78-.78 2.05 0 2.83L4 21.41c.39.39.9.59 1.41.59.51 0 1.02-.2 1.41-.59l7.78-7.78 2.81-2.81c.8-.78.8-2.07 0-2.86zM5.41 20L4 18.59l7.72-7.72 1.47 1.35L5.41 20z\"/>\n",
              "  </svg>\n",
              "      </button>\n",
              "      \n",
              "  <style>\n",
              "    .colab-df-container {\n",
              "      display:flex;\n",
              "      flex-wrap:wrap;\n",
              "      gap: 12px;\n",
              "    }\n",
              "\n",
              "    .colab-df-convert {\n",
              "      background-color: #E8F0FE;\n",
              "      border: none;\n",
              "      border-radius: 50%;\n",
              "      cursor: pointer;\n",
              "      display: none;\n",
              "      fill: #1967D2;\n",
              "      height: 32px;\n",
              "      padding: 0 0 0 0;\n",
              "      width: 32px;\n",
              "    }\n",
              "\n",
              "    .colab-df-convert:hover {\n",
              "      background-color: #E2EBFA;\n",
              "      box-shadow: 0px 1px 2px rgba(60, 64, 67, 0.3), 0px 1px 3px 1px rgba(60, 64, 67, 0.15);\n",
              "      fill: #174EA6;\n",
              "    }\n",
              "\n",
              "    [theme=dark] .colab-df-convert {\n",
              "      background-color: #3B4455;\n",
              "      fill: #D2E3FC;\n",
              "    }\n",
              "\n",
              "    [theme=dark] .colab-df-convert:hover {\n",
              "      background-color: #434B5C;\n",
              "      box-shadow: 0px 1px 3px 1px rgba(0, 0, 0, 0.15);\n",
              "      filter: drop-shadow(0px 1px 2px rgba(0, 0, 0, 0.3));\n",
              "      fill: #FFFFFF;\n",
              "    }\n",
              "  </style>\n",
              "\n",
              "      <script>\n",
              "        const buttonEl =\n",
              "          document.querySelector('#df-fa2ddaa8-90f7-4f3f-b33c-6bd5c567cf09 button.colab-df-convert');\n",
              "        buttonEl.style.display =\n",
              "          google.colab.kernel.accessAllowed ? 'block' : 'none';\n",
              "\n",
              "        async function convertToInteractive(key) {\n",
              "          const element = document.querySelector('#df-fa2ddaa8-90f7-4f3f-b33c-6bd5c567cf09');\n",
              "          const dataTable =\n",
              "            await google.colab.kernel.invokeFunction('convertToInteractive',\n",
              "                                                     [key], {});\n",
              "          if (!dataTable) return;\n",
              "\n",
              "          const docLinkHtml = 'Like what you see? Visit the ' +\n",
              "            '<a target=\"_blank\" href=https://colab.research.google.com/notebooks/data_table.ipynb>data table notebook</a>'\n",
              "            + ' to learn more about interactive tables.';\n",
              "          element.innerHTML = '';\n",
              "          dataTable['output_type'] = 'display_data';\n",
              "          await google.colab.output.renderOutput(dataTable, element);\n",
              "          const docLink = document.createElement('div');\n",
              "          docLink.innerHTML = docLinkHtml;\n",
              "          element.appendChild(docLink);\n",
              "        }\n",
              "      </script>\n",
              "    </div>\n",
              "  </div>\n",
              "  "
            ]
          },
          "metadata": {},
          "execution_count": 101
        }
      ]
    },
    {
      "cell_type": "code",
      "source": [
        "df.info()"
      ],
      "metadata": {
        "id": "ECsBgDqR1j3x",
        "colab": {
          "base_uri": "https://localhost:8080/"
        },
        "outputId": "d79be33e-08e0-4a2e-a95a-46576c6bd67a"
      },
      "execution_count": 250,
      "outputs": [
        {
          "output_type": "stream",
          "name": "stdout",
          "text": [
            "<class 'pandas.core.frame.DataFrame'>\n",
            "RangeIndex: 15919 entries, 0 to 15918\n",
            "Data columns (total 50 columns):\n",
            " #   Column                         Non-Null Count  Dtype \n",
            "---  ------                         --------------  ----- \n",
            " 0   make_model                     15919 non-null  object\n",
            " 1   short_description              15873 non-null  object\n",
            " 2   body_type                      15859 non-null  object\n",
            " 3   price                          15919 non-null  int64 \n",
            " 4   vat                            11406 non-null  object\n",
            " 5   km                             15919 non-null  object\n",
            " 6   registration                   15919 non-null  object\n",
            " 7   prev_owner                     9091 non-null   object\n",
            " 8   Warranty                       10499 non-null  object\n",
            " 9   First Registration             14322 non-null  object\n",
            " 10  Upholstery                     12199 non-null  object\n",
            " 11  Nr. of Doors                   15707 non-null  object\n",
            " 12  Nr. of Seats                   14942 non-null  object\n",
            " 13  Model Code                     4978 non-null   object\n",
            " 14  Gearing Type                   15919 non-null  object\n",
            " 15  Cylinders                      10239 non-null  object\n",
            " 16  Drive chain                    9061 non-null   object\n",
            " 17  Fuel                           15919 non-null  object\n",
            " 18  Consumption                    14013 non-null  object\n",
            " 19  CO2 Emission                   14111 non-null  object\n",
            " 20  Emission Class                 12898 non-null  object\n",
            " 21  \n",
            "Comfort & Convenience\n",
            "        14999 non-null  object\n",
            " 22  \n",
            "Entertainment & Media\n",
            "        14545 non-null  object\n",
            " 23  \n",
            "Extras\n",
            "                       12957 non-null  object\n",
            " 24  \n",
            "Safety & Security\n",
            "            14937 non-null  object\n",
            " 25  description                    15919 non-null  object\n",
            " 26  Emission Label                 3985 non-null   object\n",
            " 27  Gears                          11207 non-null  object\n",
            " 28  Country version                7586 non-null   object\n",
            " 29  Electricity consumption        137 non-null    object\n",
            " 30  Last Service Date              566 non-null    object\n",
            " 31  Other Fuel Types               880 non-null    object\n",
            " 32  Availability                   635 non-null    object\n",
            " 33  Last Timing Belt Service Date  16 non-null     object\n",
            " 34  Available from                 272 non-null    object\n",
            " 35  hp_kW                          15919 non-null  object\n",
            " 36  usage_status                   15917 non-null  object\n",
            " 37  warranty_month                 4853 non-null   object\n",
            " 38  first_registration             14322 non-null  object\n",
            " 39  body_color                     15322 non-null  object\n",
            " 40  paint_type                     10147 non-null  object\n",
            " 41  upholstery                     15919 non-null  object\n",
            " 42  nr_of_doors                    15707 non-null  object\n",
            " 43  nr_of_seats                    14942 non-null  object\n",
            " 44  model_code                     4978 non-null   object\n",
            " 45  gearing_type                   15919 non-null  object\n",
            " 46  displacement_cc                15423 non-null  object\n",
            " 47  cylinders                      10239 non-null  object\n",
            " 48  weight                         8945 non-null   object\n",
            " 49  drive_chain                    9061 non-null   object\n",
            "dtypes: int64(1), object(49)\n",
            "memory usage: 6.1+ MB\n"
          ]
        }
      ]
    },
    {
      "cell_type": "code",
      "source": [
        ""
      ],
      "metadata": {
        "id": "0a4A_BSERFZ5"
      },
      "execution_count": null,
      "outputs": []
    },
    {
      "cell_type": "markdown",
      "metadata": {
        "id": "I0M2NkzMmLny"
      },
      "source": [
        "# Column Review"
      ]
    },
    {
      "cell_type": "code",
      "execution_count": null,
      "metadata": {
        "id": "5cgpijsomLnz"
      },
      "outputs": [],
      "source": [
        ""
      ]
    },
    {
      "cell_type": "markdown",
      "metadata": {
        "id": "VTpzxNvDmLnz"
      },
      "source": [
        "## 1. url"
      ]
    },
    {
      "cell_type": "code",
      "execution_count": null,
      "metadata": {
        "id": "zm5QXdOkmLn0"
      },
      "outputs": [],
      "source": [
        "df.url.value_counts(dropna=False)"
      ]
    },
    {
      "cell_type": "markdown",
      "metadata": {
        "id": "LMw_MIMhmLn1"
      },
      "source": [
        "# PART- 2 `( Handling With Missing Vales )`"
      ]
    },
    {
      "cell_type": "code",
      "execution_count": null,
      "metadata": {
        "id": "p_IoFW5CmLn1"
      },
      "outputs": [],
      "source": [
        "def fill(df, group_col1, group_col2, col_name, method): # method can be either “mode” or “mean” or “median” or “ffill”\n",
        "    ‘’'Fills the missing values with “mode/mean/median/ffill/bfill method” according to double-stage grouping’’'\n",
        "    if method == “mode”:\n",
        "        for group1 in list(df[group_col1].unique()):\n",
        "            for group2 in list(df[group_col2].unique()):\n",
        "                cond1 = df[group_col1]==group1\n",
        "                cond2 = (df[group_col1]==group1) & (df[group_col2]==group2)\n",
        "                mode1 = list(df[cond1][col_name].mode())\n",
        "                mode2 = list(df[cond2][col_name].mode())\n",
        "                if mode2 != []:\n",
        "                    df.loc[cond2, col_name] = df.loc[cond2, col_name].fillna(df[cond2][col_name].mode()[0])\n",
        "                elif mode1 != []:\n",
        "                    df.loc[cond2, col_name] = df.loc[cond2, col_name].fillna(df[cond1][col_name].mode()[0])\n",
        "                else:\n",
        "                    df.loc[cond2, col_name] = df.loc[cond2, col_name].fillna(df[col_name].mode()[0])\n",
        "    elif method == “mean”:\n",
        "        for group1 in list(df[group_col1].unique()):\n",
        "            for group2 in list(df[group_col2].unique()):\n",
        "                cond1 = df[group_col1]==group1\n",
        "                cond2 = (df[group_col1]==group1) & (df[group_col2]==group2)\n",
        "                df.loc[cond2, col_name] = df.loc[cond2, col_name].fillna(df[cond2][col_name].mean()).fillna(df[cond1][col_name].mean()).fillna(df[col_name].mean())\n",
        "    elif method == “median”:\n",
        "        for group1 in list(df[group_col1].unique()):\n",
        "            for group2 in list(df[group_col2].unique()):\n",
        "                cond1 = df[group_col1]==group1\n",
        "                cond2 = (df[group_col1]==group1) & (df[group_col2]==group2)\n",
        "                df.loc[cond2, col_name] = df.loc[cond2, col_name].fillna(df[cond2][col_name].median()).fillna(df[cond1][col_name].median()).fillna(df[col_name].median())\n",
        "    elif method == “ffill”:\n",
        "        for group1 in list(df[group_col1].unique()):\n",
        "            for group2 in list(df[group_col2].unique()):\n",
        "                cond2 = (df[group_col1]==group1) & (df[group_col2]==group2)\n",
        "                df.loc[cond2, col_name] = df.loc[cond2, col_name].fillna(method=“ffill”).fillna(method=“bfill”)\n",
        "        for group1 in list(df[group_col1].unique()):\n",
        "            cond1 = df[group_col1]==group1\n",
        "            df.loc[cond1, col_name] = df.loc[cond1, col_name].fillna(method=“ffill”).fillna(method=“bfill”)\n",
        "        df[col_name] = df[col_name].fillna(method=“ffill”).fillna(method=“bfill”)\n",
        "    print(“Number of NaN : “,df[col_name].isnull().sum())\n",
        "    print(“------------------“)\n",
        "    print(df[col_name].value_counts(dropna=False))"
      ]
    },
    {
      "cell_type": "markdown",
      "metadata": {
        "id": "FR8CG5MZmLn2"
      },
      "source": [
        "# PART- 3 `( Handling With Outliers )`"
      ]
    },
    {
      "cell_type": "code",
      "execution_count": null,
      "metadata": {
        "id": "mVebS4lFmLn2"
      },
      "outputs": [],
      "source": [
        ""
      ]
    },
    {
      "cell_type": "markdown",
      "metadata": {
        "id": "P8hlyzxumLn5"
      },
      "source": [
        "# Final Step (Checking final situation of data via graphs)"
      ]
    },
    {
      "cell_type": "code",
      "execution_count": null,
      "metadata": {
        "id": "2GkqS0RnmLn5"
      },
      "outputs": [],
      "source": [
        ""
      ]
    },
    {
      "cell_type": "markdown",
      "metadata": {
        "id": "a1CZb-CamLn6"
      },
      "source": [
        "## Export dataframe to csv file (without dummy)"
      ]
    },
    {
      "cell_type": "code",
      "execution_count": null,
      "metadata": {
        "id": "UF0W8Se6mLn6"
      },
      "outputs": [],
      "source": [
        "df.to_csv(\"final_scout_not_dummy.csv\", index=False)"
      ]
    },
    {
      "cell_type": "markdown",
      "metadata": {
        "id": "1uyz7y_gmLn7"
      },
      "source": [
        "# Dummy Operation"
      ]
    },
    {
      "cell_type": "code",
      "execution_count": null,
      "metadata": {
        "id": "LkBtNAI7mLn7"
      },
      "outputs": [],
      "source": [
        ""
      ]
    },
    {
      "cell_type": "markdown",
      "metadata": {
        "id": "GRhTZkhAmLn7"
      },
      "source": [
        "## Export dataframe to csv file (dummy)"
      ]
    },
    {
      "cell_type": "code",
      "execution_count": null,
      "metadata": {
        "id": "JupKUfmsmLn8"
      },
      "outputs": [],
      "source": [
        "df_dummied.to_csv(\"final_scout_dummy.csv\", index=False)"
      ]
    }
  ],
  "metadata": {
    "kernelspec": {
      "display_name": "Python 3 (ipykernel)",
      "language": "python",
      "name": "python3"
    },
    "language_info": {
      "codemirror_mode": {
        "name": "ipython",
        "version": 3
      },
      "file_extension": ".py",
      "mimetype": "text/x-python",
      "name": "python",
      "nbconvert_exporter": "python",
      "pygments_lexer": "ipython3",
      "version": "3.9.7"
    },
    "colab": {
      "name": "DAwPy-Capstone_Project_(AutoScout).ipynb",
      "provenance": [],
      "collapsed_sections": [],
      "toc_visible": true
    }
  },
  "nbformat": 4,
  "nbformat_minor": 0
}